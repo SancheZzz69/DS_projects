{
 "cells": [
  {
   "cell_type": "markdown",
   "metadata": {},
   "source": [
    "# Определение стоимости автомобилей"
   ]
  },
  {
   "cell_type": "markdown",
   "metadata": {},
   "source": [
    "Сервис по продаже автомобилей с пробегом «Не бит, не крашен» разрабатывает приложение для привлечения новых клиентов. В нём можно быстро узнать рыночную стоимость своего автомобиля. В нашем распоряжении исторические данные: технические характеристики, комплектации и цены автомобилей. Нам нужно построить модель для определения стоимости.\n",
    "\n",
    "Заказчику важны:\n",
    "\n",
    "- качество предсказания;\n",
    "- скорость предсказания;\n",
    "- время обучения."
   ]
  },
  {
   "cell_type": "markdown",
   "metadata": {},
   "source": [
    "## Подготовка данных"
   ]
  },
  {
   "cell_type": "markdown",
   "metadata": {},
   "source": [
    "### Загрузка и анализ данных"
   ]
  },
  {
   "cell_type": "code",
   "execution_count": 1,
   "metadata": {
    "ExecuteTime": {
     "end_time": "2023-06-26T17:11:25.665473400Z",
     "start_time": "2023-06-26T17:11:24.480441900Z"
    }
   },
   "outputs": [],
   "source": [
    "import pandas as pd\n",
    "import numpy as np\n",
    "from sklearn.model_selection import train_test_split\n",
    "from datetime import datetime\n",
    "import matplotlib.pyplot as plt\n",
    "\n",
    "from sklearn.preprocessing import StandardScaler, OrdinalEncoder\n",
    "from sklearn.compose import ColumnTransformer\n",
    "from sklearn.linear_model import LinearRegression\n",
    "from sklearn.ensemble import RandomForestRegressor\n",
    "import lightgbm as lgb\n",
    "from sklearn.metrics import mean_squared_error\n",
    "\n",
    "from sklearn.model_selection import GridSearchCV\n",
    "from sklearn.pipeline import make_pipeline"
   ]
  },
  {
   "cell_type": "code",
   "execution_count": 2,
   "metadata": {
    "ExecuteTime": {
     "end_time": "2023-06-26T17:11:26.136901300Z",
     "start_time": "2023-06-26T17:11:25.665473400Z"
    }
   },
   "outputs": [],
   "source": [
    "autos = pd.read_csv('autos.csv')"
   ]
  },
  {
   "cell_type": "code",
   "execution_count": 3,
   "metadata": {
    "ExecuteTime": {
     "end_time": "2023-06-26T17:11:26.147915800Z",
     "start_time": "2023-06-26T17:11:26.136901300Z"
    }
   },
   "outputs": [
    {
     "data": {
      "text/plain": "           DateCrawled  Price VehicleType  RegistrationYear Gearbox  Power  \\\n0  2016-03-24 11:52:17    480         NaN              1993  manual      0   \n1  2016-03-24 10:58:45  18300       coupe              2011  manual    190   \n2  2016-03-14 12:52:21   9800         suv              2004    auto    163   \n3  2016-03-17 16:54:04   1500       small              2001  manual     75   \n4  2016-03-31 17:25:20   3600       small              2008  manual     69   \n\n   Model  Kilometer  RegistrationMonth  FuelType       Brand Repaired  \\\n0   golf     150000                  0    petrol  volkswagen      NaN   \n1    NaN     125000                  5  gasoline        audi      yes   \n2  grand     125000                  8  gasoline        jeep      NaN   \n3   golf     150000                  6    petrol  volkswagen       no   \n4  fabia      90000                  7  gasoline       skoda       no   \n\n           DateCreated  NumberOfPictures  PostalCode             LastSeen  \n0  2016-03-24 00:00:00                 0       70435  2016-04-07 03:16:57  \n1  2016-03-24 00:00:00                 0       66954  2016-04-07 01:46:50  \n2  2016-03-14 00:00:00                 0       90480  2016-04-05 12:47:46  \n3  2016-03-17 00:00:00                 0       91074  2016-03-17 17:40:17  \n4  2016-03-31 00:00:00                 0       60437  2016-04-06 10:17:21  ",
      "text/html": "<div>\n<style scoped>\n    .dataframe tbody tr th:only-of-type {\n        vertical-align: middle;\n    }\n\n    .dataframe tbody tr th {\n        vertical-align: top;\n    }\n\n    .dataframe thead th {\n        text-align: right;\n    }\n</style>\n<table border=\"1\" class=\"dataframe\">\n  <thead>\n    <tr style=\"text-align: right;\">\n      <th></th>\n      <th>DateCrawled</th>\n      <th>Price</th>\n      <th>VehicleType</th>\n      <th>RegistrationYear</th>\n      <th>Gearbox</th>\n      <th>Power</th>\n      <th>Model</th>\n      <th>Kilometer</th>\n      <th>RegistrationMonth</th>\n      <th>FuelType</th>\n      <th>Brand</th>\n      <th>Repaired</th>\n      <th>DateCreated</th>\n      <th>NumberOfPictures</th>\n      <th>PostalCode</th>\n      <th>LastSeen</th>\n    </tr>\n  </thead>\n  <tbody>\n    <tr>\n      <th>0</th>\n      <td>2016-03-24 11:52:17</td>\n      <td>480</td>\n      <td>NaN</td>\n      <td>1993</td>\n      <td>manual</td>\n      <td>0</td>\n      <td>golf</td>\n      <td>150000</td>\n      <td>0</td>\n      <td>petrol</td>\n      <td>volkswagen</td>\n      <td>NaN</td>\n      <td>2016-03-24 00:00:00</td>\n      <td>0</td>\n      <td>70435</td>\n      <td>2016-04-07 03:16:57</td>\n    </tr>\n    <tr>\n      <th>1</th>\n      <td>2016-03-24 10:58:45</td>\n      <td>18300</td>\n      <td>coupe</td>\n      <td>2011</td>\n      <td>manual</td>\n      <td>190</td>\n      <td>NaN</td>\n      <td>125000</td>\n      <td>5</td>\n      <td>gasoline</td>\n      <td>audi</td>\n      <td>yes</td>\n      <td>2016-03-24 00:00:00</td>\n      <td>0</td>\n      <td>66954</td>\n      <td>2016-04-07 01:46:50</td>\n    </tr>\n    <tr>\n      <th>2</th>\n      <td>2016-03-14 12:52:21</td>\n      <td>9800</td>\n      <td>suv</td>\n      <td>2004</td>\n      <td>auto</td>\n      <td>163</td>\n      <td>grand</td>\n      <td>125000</td>\n      <td>8</td>\n      <td>gasoline</td>\n      <td>jeep</td>\n      <td>NaN</td>\n      <td>2016-03-14 00:00:00</td>\n      <td>0</td>\n      <td>90480</td>\n      <td>2016-04-05 12:47:46</td>\n    </tr>\n    <tr>\n      <th>3</th>\n      <td>2016-03-17 16:54:04</td>\n      <td>1500</td>\n      <td>small</td>\n      <td>2001</td>\n      <td>manual</td>\n      <td>75</td>\n      <td>golf</td>\n      <td>150000</td>\n      <td>6</td>\n      <td>petrol</td>\n      <td>volkswagen</td>\n      <td>no</td>\n      <td>2016-03-17 00:00:00</td>\n      <td>0</td>\n      <td>91074</td>\n      <td>2016-03-17 17:40:17</td>\n    </tr>\n    <tr>\n      <th>4</th>\n      <td>2016-03-31 17:25:20</td>\n      <td>3600</td>\n      <td>small</td>\n      <td>2008</td>\n      <td>manual</td>\n      <td>69</td>\n      <td>fabia</td>\n      <td>90000</td>\n      <td>7</td>\n      <td>gasoline</td>\n      <td>skoda</td>\n      <td>no</td>\n      <td>2016-03-31 00:00:00</td>\n      <td>0</td>\n      <td>60437</td>\n      <td>2016-04-06 10:17:21</td>\n    </tr>\n  </tbody>\n</table>\n</div>"
     },
     "execution_count": 3,
     "metadata": {},
     "output_type": "execute_result"
    }
   ],
   "source": [
    "autos.head()"
   ]
  },
  {
   "cell_type": "code",
   "execution_count": 4,
   "metadata": {
    "ExecuteTime": {
     "end_time": "2023-06-26T17:11:26.212974900Z",
     "start_time": "2023-06-26T17:11:26.148916700Z"
    }
   },
   "outputs": [
    {
     "data": {
      "text/plain": "               Price  RegistrationYear          Power      Kilometer  \\\ncount  354369.000000     354369.000000  354369.000000  354369.000000   \nmean     4416.656776       2004.234448     110.094337  128211.172535   \nstd      4514.158514         90.227958     189.850405   37905.341530   \nmin         0.000000       1000.000000       0.000000    5000.000000   \n25%      1050.000000       1999.000000      69.000000  125000.000000   \n50%      2700.000000       2003.000000     105.000000  150000.000000   \n75%      6400.000000       2008.000000     143.000000  150000.000000   \nmax     20000.000000       9999.000000   20000.000000  150000.000000   \n\n       RegistrationMonth  NumberOfPictures     PostalCode  \ncount      354369.000000          354369.0  354369.000000  \nmean            5.714645               0.0   50508.689087  \nstd             3.726421               0.0   25783.096248  \nmin             0.000000               0.0    1067.000000  \n25%             3.000000               0.0   30165.000000  \n50%             6.000000               0.0   49413.000000  \n75%             9.000000               0.0   71083.000000  \nmax            12.000000               0.0   99998.000000  ",
      "text/html": "<div>\n<style scoped>\n    .dataframe tbody tr th:only-of-type {\n        vertical-align: middle;\n    }\n\n    .dataframe tbody tr th {\n        vertical-align: top;\n    }\n\n    .dataframe thead th {\n        text-align: right;\n    }\n</style>\n<table border=\"1\" class=\"dataframe\">\n  <thead>\n    <tr style=\"text-align: right;\">\n      <th></th>\n      <th>Price</th>\n      <th>RegistrationYear</th>\n      <th>Power</th>\n      <th>Kilometer</th>\n      <th>RegistrationMonth</th>\n      <th>NumberOfPictures</th>\n      <th>PostalCode</th>\n    </tr>\n  </thead>\n  <tbody>\n    <tr>\n      <th>count</th>\n      <td>354369.000000</td>\n      <td>354369.000000</td>\n      <td>354369.000000</td>\n      <td>354369.000000</td>\n      <td>354369.000000</td>\n      <td>354369.0</td>\n      <td>354369.000000</td>\n    </tr>\n    <tr>\n      <th>mean</th>\n      <td>4416.656776</td>\n      <td>2004.234448</td>\n      <td>110.094337</td>\n      <td>128211.172535</td>\n      <td>5.714645</td>\n      <td>0.0</td>\n      <td>50508.689087</td>\n    </tr>\n    <tr>\n      <th>std</th>\n      <td>4514.158514</td>\n      <td>90.227958</td>\n      <td>189.850405</td>\n      <td>37905.341530</td>\n      <td>3.726421</td>\n      <td>0.0</td>\n      <td>25783.096248</td>\n    </tr>\n    <tr>\n      <th>min</th>\n      <td>0.000000</td>\n      <td>1000.000000</td>\n      <td>0.000000</td>\n      <td>5000.000000</td>\n      <td>0.000000</td>\n      <td>0.0</td>\n      <td>1067.000000</td>\n    </tr>\n    <tr>\n      <th>25%</th>\n      <td>1050.000000</td>\n      <td>1999.000000</td>\n      <td>69.000000</td>\n      <td>125000.000000</td>\n      <td>3.000000</td>\n      <td>0.0</td>\n      <td>30165.000000</td>\n    </tr>\n    <tr>\n      <th>50%</th>\n      <td>2700.000000</td>\n      <td>2003.000000</td>\n      <td>105.000000</td>\n      <td>150000.000000</td>\n      <td>6.000000</td>\n      <td>0.0</td>\n      <td>49413.000000</td>\n    </tr>\n    <tr>\n      <th>75%</th>\n      <td>6400.000000</td>\n      <td>2008.000000</td>\n      <td>143.000000</td>\n      <td>150000.000000</td>\n      <td>9.000000</td>\n      <td>0.0</td>\n      <td>71083.000000</td>\n    </tr>\n    <tr>\n      <th>max</th>\n      <td>20000.000000</td>\n      <td>9999.000000</td>\n      <td>20000.000000</td>\n      <td>150000.000000</td>\n      <td>12.000000</td>\n      <td>0.0</td>\n      <td>99998.000000</td>\n    </tr>\n  </tbody>\n</table>\n</div>"
     },
     "execution_count": 4,
     "metadata": {},
     "output_type": "execute_result"
    }
   ],
   "source": [
    "autos.describe()"
   ]
  },
  {
   "cell_type": "code",
   "execution_count": 5,
   "metadata": {
    "scrolled": false,
    "ExecuteTime": {
     "end_time": "2023-06-26T17:11:26.405149300Z",
     "start_time": "2023-06-26T17:11:26.203966900Z"
    }
   },
   "outputs": [
    {
     "name": "stdout",
     "output_type": "stream",
     "text": [
      "<class 'pandas.core.frame.DataFrame'>\n",
      "RangeIndex: 354369 entries, 0 to 354368\n",
      "Data columns (total 16 columns):\n",
      " #   Column             Non-Null Count   Dtype \n",
      "---  ------             --------------   ----- \n",
      " 0   DateCrawled        354369 non-null  object\n",
      " 1   Price              354369 non-null  int64 \n",
      " 2   VehicleType        316879 non-null  object\n",
      " 3   RegistrationYear   354369 non-null  int64 \n",
      " 4   Gearbox            334536 non-null  object\n",
      " 5   Power              354369 non-null  int64 \n",
      " 6   Model              334664 non-null  object\n",
      " 7   Kilometer          354369 non-null  int64 \n",
      " 8   RegistrationMonth  354369 non-null  int64 \n",
      " 9   FuelType           321474 non-null  object\n",
      " 10  Brand              354369 non-null  object\n",
      " 11  Repaired           283215 non-null  object\n",
      " 12  DateCreated        354369 non-null  object\n",
      " 13  NumberOfPictures   354369 non-null  int64 \n",
      " 14  PostalCode         354369 non-null  int64 \n",
      " 15  LastSeen           354369 non-null  object\n",
      "dtypes: int64(7), object(9)\n",
      "memory usage: 43.3+ MB\n"
     ]
    }
   ],
   "source": [
    "autos.info()"
   ]
  },
  {
   "cell_type": "markdown",
   "metadata": {},
   "source": [
    "Данные оказались неполными, с неверными типами данных и полными аномалиями. Исправим это."
   ]
  },
  {
   "cell_type": "markdown",
   "metadata": {},
   "source": [
    "### Предобработка данных"
   ]
  },
  {
   "cell_type": "code",
   "execution_count": 6,
   "metadata": {
    "ExecuteTime": {
     "end_time": "2023-06-26T17:11:26.423165700Z",
     "start_time": "2023-06-26T17:11:26.406150100Z"
    }
   },
   "outputs": [],
   "source": [
    "autos = autos.drop('NumberOfPictures', axis=1)"
   ]
  },
  {
   "cell_type": "markdown",
   "metadata": {},
   "source": [
    "Удалим столбец, так как он полностью состоит из нулей. Похоже, что проблема в датасете."
   ]
  },
  {
   "cell_type": "code",
   "execution_count": 7,
   "metadata": {
    "ExecuteTime": {
     "end_time": "2023-06-26T17:11:29.530998300Z",
     "start_time": "2023-06-26T17:11:26.424166900Z"
    }
   },
   "outputs": [
    {
     "data": {
      "text/plain": "<Figure size 2000x1200 with 1 Axes>",
      "image/png": "[encoded data removed]"
     },
     "metadata": {},
     "output_type": "display_data"
    }
   ],
   "source": [
    "fig, ax = plt.subplots(figsize=(20, 12))\n",
    "plt.xlim([0, 300])\n",
    "ax.hist(autos['Power'], bins=5000)\n",
    "ax.set_title('Distribution of Power')\n",
    "ax.set_xlabel('Power')\n",
    "ax.set_ylabel('Frequency')\n",
    "plt.show()"
   ]
  },
  {
   "cell_type": "code",
   "execution_count": 8,
   "metadata": {
    "scrolled": false,
    "ExecuteTime": {
     "end_time": "2023-06-26T17:11:32.674857400Z",
     "start_time": "2023-06-26T17:11:29.530998300Z"
    }
   },
   "outputs": [
    {
     "data": {
      "text/plain": "<Figure size 2000x1200 with 1 Axes>",
      "image/png": "[encoded data removed]"
     },
     "metadata": {},
     "output_type": "display_data"
    }
   ],
   "source": [
    "fig, ax = plt.subplots(figsize=(20, 12))\n",
    "plt.xlim([0, 2000])\n",
    "ax.hist(autos['Power'], bins=5000)\n",
    "ax.set_title('Distribution of Power')\n",
    "ax.set_xlabel('Power')\n",
    "ax.set_ylabel('Frequency')\n",
    "plt.show()"
   ]
  },
  {
   "cell_type": "markdown",
   "metadata": {},
   "source": [
    "Действительно, графики показывают, что аномалии присутствуют."
   ]
  },
  {
   "cell_type": "code",
   "execution_count": 9,
   "metadata": {
    "ExecuteTime": {
     "end_time": "2023-06-26T17:11:32.858028700Z",
     "start_time": "2023-06-26T17:11:32.675858400Z"
    }
   },
   "outputs": [],
   "source": [
    "autos = autos[autos['Power'] >= 40]"
   ]
  },
  {
   "cell_type": "markdown",
   "metadata": {},
   "source": [
    "Уберем все двигатели с л.с. меньше 40."
   ]
  },
  {
   "cell_type": "code",
   "execution_count": 10,
   "metadata": {
    "ExecuteTime": {
     "end_time": "2023-06-26T17:11:32.858028700Z",
     "start_time": "2023-06-26T17:11:32.707892300Z"
    }
   },
   "outputs": [],
   "source": [
    "autos = autos[autos['Power'] <= 600]"
   ]
  },
  {
   "cell_type": "markdown",
   "metadata": {},
   "source": [
    "Также мы можем видеть аномалии с слишком мощными двигателями. 75-я процентиль показывает отметку в 143 л.с., но мы выставим планку в 600 л.с в расчёте на то, что на рынке могут встретиться модели топ-класса и кастомные сборки авто."
   ]
  },
  {
   "cell_type": "code",
   "execution_count": 11,
   "metadata": {
    "ExecuteTime": {
     "end_time": "2023-06-26T17:11:32.859030100Z",
     "start_time": "2023-06-26T17:11:32.736918800Z"
    }
   },
   "outputs": [],
   "source": [
    "autos = autos.drop('PostalCode', axis=1)"
   ]
  },
  {
   "cell_type": "markdown",
   "metadata": {},
   "source": [
    "Можно подумать, что почтовый индекс - очень полезная информация для предсказания цены, так как в зависимости от страны цены на автомобили могут разниться. Но суть в том, что одинаковый почтовый индекс может по разному трактоваться. Он может одновременно принадлежать как одной стране, так и другой. Он более полезен, когда известна страна, в этом случае он позволит знать регион/край/штат/область, чтобы вернее предсказывать цену, но увы, такой информацией мы не обладаем (мы можем предположить, что это Европа, так как цены в евро, но у каждой европейской страны свой zip-code), поэтому было принято решение удалить столбец с этими почтовыми кодами."
   ]
  },
  {
   "cell_type": "code",
   "execution_count": 12,
   "metadata": {
    "ExecuteTime": {
     "end_time": "2023-06-26T17:11:32.859030100Z",
     "start_time": "2023-06-26T17:11:32.761941400Z"
    }
   },
   "outputs": [],
   "source": [
    "autos = autos[autos['RegistrationYear'] <= 2016]\n",
    "autos = autos[autos['RegistrationYear'] >= 1885]"
   ]
  },
  {
   "cell_type": "markdown",
   "metadata": {},
   "source": [
    "В некоторых объявлениях год регистрации указан выше 2016 года, что не может быть правдой, так как год скачивания базы данных - 2016. В некоторых случаях заметна ошибка со стороны техники, как год 1000 или 9999 (возможно, во время экспорта данных что-то пошло не так), а в других ошибки, созданные рукой человека (возможная опечатка в 2017, 2018, 2019 и т.д. годах регистрации автомобилей). В любом случае мы приняли решение удалить строки с такими данными, так как восстановить истинную информацию о годе регистрации автомобиля не представляется возможным, да и большого количества данных мы не потеряем."
   ]
  },
  {
   "cell_type": "code",
   "execution_count": 13,
   "metadata": {
    "ExecuteTime": {
     "end_time": "2023-06-26T17:11:32.859030100Z",
     "start_time": "2023-06-26T17:11:32.824998500Z"
    }
   },
   "outputs": [],
   "source": [
    "autos = autos[autos['Price'] >= 100]"
   ]
  },
  {
   "cell_type": "markdown",
   "metadata": {},
   "source": [
    "Также цены на некоторых объявлениях не всегда выглядят правдоподобно. 1 или даже 0 евро очень странная цена для продажи автомобиля, хотя скорее всего время от времени действительно появляются щедрые люди, раздающие свои автомобили на таких сайтах (хотя проблема скорее всего опять же в ошибках при экспорте данных), но и такие случаи лучше не включать в статистику. Мы удалили все строки с данными об автомобилях дешевле 100 евро."
   ]
  },
  {
   "cell_type": "code",
   "execution_count": 14,
   "metadata": {
    "ExecuteTime": {
     "end_time": "2023-06-26T17:11:32.879047800Z",
     "start_time": "2023-06-26T17:11:32.854025100Z"
    }
   },
   "outputs": [],
   "source": [
    "autos = autos.drop(['DateCrawled', 'LastSeen'], axis=1)"
   ]
  },
  {
   "cell_type": "markdown",
   "metadata": {},
   "source": [
    "Типы данных в этих столбцах с данными не пришлось изменять, так как мы удалили их. Это было сделано по причине того, что эти данные с очень малой вероятностью влияют на цену автомобиля."
   ]
  },
  {
   "cell_type": "code",
   "execution_count": 15,
   "metadata": {
    "scrolled": true,
    "ExecuteTime": {
     "end_time": "2023-06-26T17:11:32.906072300Z",
     "start_time": "2023-06-26T17:11:32.872041500Z"
    }
   },
   "outputs": [],
   "source": [
    "autos['DateCreated'] = pd.to_datetime(autos['DateCreated'])"
   ]
  },
  {
   "cell_type": "markdown",
   "metadata": {},
   "source": [
    "Изменили тип данных с `object` на `datetime`."
   ]
  },
  {
   "cell_type": "code",
   "execution_count": 16,
   "metadata": {
    "ExecuteTime": {
     "end_time": "2023-06-26T17:11:32.915080500Z",
     "start_time": "2023-06-26T17:11:32.904070500Z"
    }
   },
   "outputs": [],
   "source": [
    "autos['DaysSinceCreated'] = (datetime.today() - autos['DateCreated']).dt.days"
   ]
  },
  {
   "cell_type": "markdown",
   "metadata": {},
   "source": [
    "Мы посчитали, что время существования объявления на сайте теоретически может влиять на цену, поэтому перевели дату в дни (от выставки объявления до сегодняшнего дня)."
   ]
  },
  {
   "cell_type": "code",
   "execution_count": 17,
   "metadata": {
    "ExecuteTime": {
     "end_time": "2023-06-26T17:11:32.942105Z",
     "start_time": "2023-06-26T17:11:32.916081300Z"
    }
   },
   "outputs": [],
   "source": [
    "autos = autos.drop(['DateCreated'], axis=1)"
   ]
  },
  {
   "cell_type": "markdown",
   "metadata": {},
   "source": [
    "Этот столбец уже не понадобится."
   ]
  },
  {
   "cell_type": "code",
   "execution_count": 18,
   "metadata": {
    "scrolled": true,
    "ExecuteTime": {
     "end_time": "2023-06-26T17:11:32.946108700Z",
     "start_time": "2023-06-26T17:11:32.930094200Z"
    }
   },
   "outputs": [
    {
     "data": {
      "text/plain": "volkswagen        63681\nopel              32287\nbmw               32139\nmercedes_benz     27278\naudi              25556\nford              20581\nrenault           13808\npeugeot            9376\nfiat               7407\nseat               5816\nskoda              4938\nmazda              4711\nsmart              4459\ncitroen            4164\nnissan             4025\ntoyota             4008\nhyundai            3102\nmini               2961\nvolvo              2817\nmitsubishi         2484\nhonda              2356\nkia                2081\nalfa_romeo         1970\nsuzuki             1939\nsonstige_autos     1598\nchevrolet          1457\nchrysler           1159\ndacia               799\nsubaru              638\nporsche             624\ndaihatsu            603\njeep                579\nsaab                472\nland_rover          464\njaguar              436\ndaewoo              407\nlancia              377\nrover               361\nlada                157\ntrabant              19\nName: Brand, dtype: int64"
     },
     "execution_count": 18,
     "metadata": {},
     "output_type": "execute_result"
    }
   ],
   "source": [
    "autos['Brand'].value_counts()"
   ]
  },
  {
   "cell_type": "markdown",
   "metadata": {},
   "source": [
    "Дубликатов среди брендов машин найдено не было."
   ]
  },
  {
   "cell_type": "code",
   "execution_count": 19,
   "metadata": {
    "ExecuteTime": {
     "end_time": "2023-06-26T17:11:33.373408600Z",
     "start_time": "2023-06-26T17:11:32.945107800Z"
    }
   },
   "outputs": [],
   "source": [
    "autos['Model'] = autos['Model'].fillna('Unknown')\n",
    "\n",
    "autos['VehicleType'] = autos.groupby(['Brand', 'Model'], group_keys=False)['VehicleType'].apply(lambda x: x.fillna(x.mode().iloc[0]))\n",
    "\n",
    "autos['Gearbox'] = autos.groupby(['Brand', 'Model'], group_keys=False)['Gearbox'].apply(lambda x: x.fillna(x.mode().iloc[0]))\n",
    "\n",
    "autos['FuelType'] = autos.groupby(['Brand', 'Model'], group_keys=False)['FuelType'].apply(lambda x: x.fillna(x.mode().iloc[0]))\n",
    "\n",
    "autos['Repaired'] = autos['Repaired'].fillna('Unknown')\n",
    "\n",
    "autos = autos.reset_index(drop=True)"
   ]
  },
  {
   "cell_type": "markdown",
   "metadata": {},
   "source": [
    "Заменили тип кузова, тип коробки передач и тип топлива, основываясь на марке и модели. Неуказанные марки и статус ремонта указали как `Unknown`."
   ]
  },
  {
   "cell_type": "code",
   "execution_count": 20,
   "metadata": {
    "ExecuteTime": {
     "end_time": "2023-06-26T17:11:33.382693200Z",
     "start_time": "2023-06-26T17:11:33.373408600Z"
    }
   },
   "outputs": [
    {
     "data": {
      "text/plain": "   Price VehicleType  RegistrationYear Gearbox  Power    Model  Kilometer  \\\n0  18300       coupe              2011  manual    190  Unknown     125000   \n1   9800         suv              2004    auto    163    grand     125000   \n2   1500       small              2001  manual     75     golf     150000   \n3   3600       small              2008  manual     69    fabia      90000   \n4    650       sedan              1995  manual    102      3er     150000   \n\n   RegistrationMonth  FuelType       Brand Repaired  DaysSinceCreated  \n0                  5  gasoline        audi      yes              2650  \n1                  8  gasoline        jeep  Unknown              2660  \n2                  6    petrol  volkswagen       no              2657  \n3                  7  gasoline       skoda       no              2643  \n4                 10    petrol         bmw      yes              2639  ",
      "text/html": "<div>\n<style scoped>\n    .dataframe tbody tr th:only-of-type {\n        vertical-align: middle;\n    }\n\n    .dataframe tbody tr th {\n        vertical-align: top;\n    }\n\n    .dataframe thead th {\n        text-align: right;\n    }\n</style>\n<table border=\"1\" class=\"dataframe\">\n  <thead>\n    <tr style=\"text-align: right;\">\n      <th></th>\n      <th>Price</th>\n      <th>VehicleType</th>\n      <th>RegistrationYear</th>\n      <th>Gearbox</th>\n      <th>Power</th>\n      <th>Model</th>\n      <th>Kilometer</th>\n      <th>RegistrationMonth</th>\n      <th>FuelType</th>\n      <th>Brand</th>\n      <th>Repaired</th>\n      <th>DaysSinceCreated</th>\n    </tr>\n  </thead>\n  <tbody>\n    <tr>\n      <th>0</th>\n      <td>18300</td>\n      <td>coupe</td>\n      <td>2011</td>\n      <td>manual</td>\n      <td>190</td>\n      <td>Unknown</td>\n      <td>125000</td>\n      <td>5</td>\n      <td>gasoline</td>\n      <td>audi</td>\n      <td>yes</td>\n      <td>2650</td>\n    </tr>\n    <tr>\n      <th>1</th>\n      <td>9800</td>\n      <td>suv</td>\n      <td>2004</td>\n      <td>auto</td>\n      <td>163</td>\n      <td>grand</td>\n      <td>125000</td>\n      <td>8</td>\n      <td>gasoline</td>\n      <td>jeep</td>\n      <td>Unknown</td>\n      <td>2660</td>\n    </tr>\n    <tr>\n      <th>2</th>\n      <td>1500</td>\n      <td>small</td>\n      <td>2001</td>\n      <td>manual</td>\n      <td>75</td>\n      <td>golf</td>\n      <td>150000</td>\n      <td>6</td>\n      <td>petrol</td>\n      <td>volkswagen</td>\n      <td>no</td>\n      <td>2657</td>\n    </tr>\n    <tr>\n      <th>3</th>\n      <td>3600</td>\n      <td>small</td>\n      <td>2008</td>\n      <td>manual</td>\n      <td>69</td>\n      <td>fabia</td>\n      <td>90000</td>\n      <td>7</td>\n      <td>gasoline</td>\n      <td>skoda</td>\n      <td>no</td>\n      <td>2643</td>\n    </tr>\n    <tr>\n      <th>4</th>\n      <td>650</td>\n      <td>sedan</td>\n      <td>1995</td>\n      <td>manual</td>\n      <td>102</td>\n      <td>3er</td>\n      <td>150000</td>\n      <td>10</td>\n      <td>petrol</td>\n      <td>bmw</td>\n      <td>yes</td>\n      <td>2639</td>\n    </tr>\n  </tbody>\n</table>\n</div>"
     },
     "execution_count": 20,
     "metadata": {},
     "output_type": "execute_result"
    }
   ],
   "source": [
    "autos.head()"
   ]
  },
  {
   "cell_type": "code",
   "execution_count": 21,
   "metadata": {
    "ExecuteTime": {
     "end_time": "2023-06-26T17:11:33.502802200Z",
     "start_time": "2023-06-26T17:11:33.382693200Z"
    }
   },
   "outputs": [
    {
     "name": "stdout",
     "output_type": "stream",
     "text": [
      "<class 'pandas.core.frame.DataFrame'>\n",
      "RangeIndex: 294094 entries, 0 to 294093\n",
      "Data columns (total 12 columns):\n",
      " #   Column             Non-Null Count   Dtype \n",
      "---  ------             --------------   ----- \n",
      " 0   Price              294094 non-null  int64 \n",
      " 1   VehicleType        294094 non-null  object\n",
      " 2   RegistrationYear   294094 non-null  int64 \n",
      " 3   Gearbox            294094 non-null  object\n",
      " 4   Power              294094 non-null  int64 \n",
      " 5   Model              294094 non-null  object\n",
      " 6   Kilometer          294094 non-null  int64 \n",
      " 7   RegistrationMonth  294094 non-null  int64 \n",
      " 8   FuelType           294094 non-null  object\n",
      " 9   Brand              294094 non-null  object\n",
      " 10  Repaired           294094 non-null  object\n",
      " 11  DaysSinceCreated   294094 non-null  int64 \n",
      "dtypes: int64(6), object(6)\n",
      "memory usage: 26.9+ MB\n"
     ]
    }
   ],
   "source": [
    "autos.info()"
   ]
  },
  {
   "cell_type": "code",
   "execution_count": 22,
   "metadata": {
    "ExecuteTime": {
     "end_time": "2023-06-26T17:11:33.546842200Z",
     "start_time": "2023-06-26T17:11:33.502802200Z"
    }
   },
   "outputs": [
    {
     "data": {
      "text/plain": "               Price  RegistrationYear          Power      Kilometer  \\\ncount  294094.000000     294094.000000  294094.000000  294094.000000   \nmean     4879.082338       2002.899933     121.065030  128488.034438   \nstd      4613.799229          6.384191      53.607164   36531.385117   \nmin       100.000000       1910.000000      40.000000    5000.000000   \n25%      1350.000000       1999.000000      77.000000  125000.000000   \n50%      3200.000000       2003.000000     113.000000  150000.000000   \n75%      6999.000000       2007.000000     150.000000  150000.000000   \nmax     20000.000000       2016.000000     600.000000  150000.000000   \n\n       RegistrationMonth  DaysSinceCreated  \ncount      294094.000000     294094.000000  \nmean            6.002503       2653.194145  \nstd             3.579846          9.327965  \nmin             0.000000       2636.000000  \n25%             3.000000       2645.000000  \n50%             6.000000       2653.000000  \n75%             9.000000       2661.000000  \nmax            12.000000       3020.000000  ",
      "text/html": "<div>\n<style scoped>\n    .dataframe tbody tr th:only-of-type {\n        vertical-align: middle;\n    }\n\n    .dataframe tbody tr th {\n        vertical-align: top;\n    }\n\n    .dataframe thead th {\n        text-align: right;\n    }\n</style>\n<table border=\"1\" class=\"dataframe\">\n  <thead>\n    <tr style=\"text-align: right;\">\n      <th></th>\n      <th>Price</th>\n      <th>RegistrationYear</th>\n      <th>Power</th>\n      <th>Kilometer</th>\n      <th>RegistrationMonth</th>\n      <th>DaysSinceCreated</th>\n    </tr>\n  </thead>\n  <tbody>\n    <tr>\n      <th>count</th>\n      <td>294094.000000</td>\n      <td>294094.000000</td>\n      <td>294094.000000</td>\n      <td>294094.000000</td>\n      <td>294094.000000</td>\n      <td>294094.000000</td>\n    </tr>\n    <tr>\n      <th>mean</th>\n      <td>4879.082338</td>\n      <td>2002.899933</td>\n      <td>121.065030</td>\n      <td>128488.034438</td>\n      <td>6.002503</td>\n      <td>2653.194145</td>\n    </tr>\n    <tr>\n      <th>std</th>\n      <td>4613.799229</td>\n      <td>6.384191</td>\n      <td>53.607164</td>\n      <td>36531.385117</td>\n      <td>3.579846</td>\n      <td>9.327965</td>\n    </tr>\n    <tr>\n      <th>min</th>\n      <td>100.000000</td>\n      <td>1910.000000</td>\n      <td>40.000000</td>\n      <td>5000.000000</td>\n      <td>0.000000</td>\n      <td>2636.000000</td>\n    </tr>\n    <tr>\n      <th>25%</th>\n      <td>1350.000000</td>\n      <td>1999.000000</td>\n      <td>77.000000</td>\n      <td>125000.000000</td>\n      <td>3.000000</td>\n      <td>2645.000000</td>\n    </tr>\n    <tr>\n      <th>50%</th>\n      <td>3200.000000</td>\n      <td>2003.000000</td>\n      <td>113.000000</td>\n      <td>150000.000000</td>\n      <td>6.000000</td>\n      <td>2653.000000</td>\n    </tr>\n    <tr>\n      <th>75%</th>\n      <td>6999.000000</td>\n      <td>2007.000000</td>\n      <td>150.000000</td>\n      <td>150000.000000</td>\n      <td>9.000000</td>\n      <td>2661.000000</td>\n    </tr>\n    <tr>\n      <th>max</th>\n      <td>20000.000000</td>\n      <td>2016.000000</td>\n      <td>600.000000</td>\n      <td>150000.000000</td>\n      <td>12.000000</td>\n      <td>3020.000000</td>\n    </tr>\n  </tbody>\n</table>\n</div>"
     },
     "execution_count": 22,
     "metadata": {},
     "output_type": "execute_result"
    }
   ],
   "source": [
    "autos.describe()"
   ]
  },
  {
   "cell_type": "markdown",
   "metadata": {},
   "source": [
    "## Обучение моделей"
   ]
  },
  {
   "cell_type": "markdown",
   "metadata": {},
   "source": [
    "### Подготовка к обучению"
   ]
  },
  {
   "cell_type": "code",
   "execution_count": 23,
   "metadata": {
    "ExecuteTime": {
     "end_time": "2023-06-26T17:11:33.613903100Z",
     "start_time": "2023-06-26T17:11:33.546842200Z"
    }
   },
   "outputs": [],
   "source": [
    "features = autos.drop(['Price'], axis=1)\n",
    "target = autos['Price']\n",
    "features_train, features_test, target_train, target_test = train_test_split(features, target, test_size=0.25, random_state=222)"
   ]
  },
  {
   "cell_type": "code",
   "execution_count": 24,
   "metadata": {
    "ExecuteTime": {
     "end_time": "2023-06-26T17:11:33.613903100Z",
     "start_time": "2023-06-26T17:11:33.609899600Z"
    }
   },
   "outputs": [
    {
     "name": "stdout",
     "output_type": "stream",
     "text": [
      "Размер обучающей выборки:  (220570, 11) (220570,)\n",
      "Размер тестовой выборки:  (73524, 11) (73524,)\n"
     ]
    }
   ],
   "source": [
    "print(\"Размер обучающей выборки: \", features_train.shape, target_train.shape)\n",
    "print(\"Размер тестовой выборки: \", features_test.shape, target_test.shape)"
   ]
  },
  {
   "cell_type": "markdown",
   "metadata": {},
   "source": [
    "Разделим датасет на обучающую, валидационную и тестовую выборки."
   ]
  },
  {
   "cell_type": "code",
   "execution_count": 25,
   "metadata": {
    "ExecuteTime": {
     "end_time": "2023-06-26T17:11:33.636924Z",
     "start_time": "2023-06-26T17:11:33.611901200Z"
    }
   },
   "outputs": [],
   "source": [
    "numerical_features = features.select_dtypes(include=['int64', 'float64']).columns\n",
    "categorical_features = features.select_dtypes(include=['object', 'bool']).columns\n",
    "\n",
    "\n",
    "numerical_transformer = StandardScaler()\n",
    "categorical_transformer = OrdinalEncoder(handle_unknown='use_encoded_value', unknown_value=-1)\n",
    "\n",
    "preprocessor = ColumnTransformer(\n",
    "    transformers=[\n",
    "        ('num', numerical_transformer, numerical_features),\n",
    "        ('cat', categorical_transformer, categorical_features)\n",
    "    ]) "
   ]
  },
  {
   "cell_type": "code",
   "execution_count": 26,
   "metadata": {
    "ExecuteTime": {
     "end_time": "2023-06-26T17:11:33.873137700Z",
     "start_time": "2023-06-26T17:11:33.626914800Z"
    }
   },
   "outputs": [],
   "source": [
    "features_train_transformed = preprocessor.fit_transform(features_train)\n",
    "features_test_transformed = preprocessor.transform(features_test)"
   ]
  },
  {
   "cell_type": "markdown",
   "metadata": {},
   "source": [
    "В приведенном выше коде мы сначала выбираем числовые и категориальные признаки с помощью метода `select_dtypes()`. Затем мы создаем трансформатор `StandardScaler()` для числовых признаков и трансформатор `OneHotEncoder()` для категориальных признаков. Мы объединяем эти трансформаторы в `ColumnTransformer`, который применяет соответствующее преобразование к каждому типу признаков. Наконец, мы подгоняем и преобразуем обучающие данные с помощью метода `fit_transform()` трансформатора `ColumnTransformer` и преобразуем тестовые данные с помощью метода `transform()`."
   ]
  },
  {
   "cell_type": "markdown",
   "metadata": {},
   "source": [
    "### Обучение"
   ]
  },
  {
   "cell_type": "markdown",
   "metadata": {},
   "source": [
    "#### Лес"
   ]
  },
  {
   "cell_type": "code",
   "execution_count": 27,
   "metadata": {
    "ExecuteTime": {
     "end_time": "2023-06-26T17:11:33.876140400Z",
     "start_time": "2023-06-26T17:11:33.872136900Z"
    }
   },
   "outputs": [],
   "source": [
    "def train_random_forest_model(X_train, y_train, n_estimators, max_depth, min_samples_leaf):\n",
    "    \n",
    "    model = RandomForestRegressor(random_state=222)\n",
    "\n",
    "    param_grid = {\n",
    "        'n_estimators': n_estimators,\n",
    "        'max_depth': max_depth,\n",
    "        'min_samples_leaf': min_samples_leaf\n",
    "    }\n",
    "\n",
    "    search = GridSearchCV(\n",
    "        model,\n",
    "        param_grid,\n",
    "        scoring='neg_root_mean_squared_error',\n",
    "        cv=5,\n",
    "        n_jobs=-1\n",
    "    )\n",
    "\n",
    "    \n",
    "    start_train = datetime.now()\n",
    "    search.fit(X_train, y_train)\n",
    "    end_train = datetime.now()\n",
    "    training_time = (end_train - start_train).total_seconds()\n",
    "    \n",
    "    start_pred = datetime.now()\n",
    "    preds = search.best_estimator_.predict(X_train)\n",
    "    end_pred = datetime.now()\n",
    "    prediction_time = (end_pred - start_pred).total_seconds()\n",
    "\n",
    "    return search.best_estimator_, -search.best_score_, training_time, prediction_time"
   ]
  },
  {
   "cell_type": "code",
   "execution_count": 28,
   "metadata": {
    "ExecuteTime": {
     "end_time": "2023-06-26T17:20:06.266213100Z",
     "start_time": "2023-06-26T17:11:33.880144600Z"
    }
   },
   "outputs": [
    {
     "name": "stdout",
     "output_type": "stream",
     "text": [
      "Лучшие гиперпараметры для леса: RandomForestRegressor(max_depth=10, min_samples_leaf=2, n_estimators=110,\n",
      "                      random_state=222)\n",
      "Лучший RMSE леса: 1853.2522898912416\n",
      "Время обучения леса: 511.019321 сек.\n",
      "Время предсказания леса: 1.362744 сек.\n"
     ]
    }
   ],
   "source": [
    "hyperparam_forest, RMSE_forest, train_time_forest, pred_time_forest = train_random_forest_model(features_train_transformed, \n",
    "                                                           target_train, \n",
    "                                                           np.arange(10, 151, 50),\n",
    "                                                           np.arange(3, 11),\n",
    "                                                           np.arange(2, 4))\n",
    "print(f\"Лучшие гиперпараметры для леса: {hyperparam_forest}\")\n",
    "print(f\"Лучший RMSE леса: {RMSE_forest}\")\n",
    "print(f\"Время обучения леса: {train_time_forest} сек.\")\n",
    "print(f\"Время предсказания леса: {pred_time_forest} сек.\")"
   ]
  },
  {
   "cell_type": "markdown",
   "metadata": {},
   "source": [
    "#### Линейная регрессия"
   ]
  },
  {
   "cell_type": "code",
   "execution_count": 29,
   "metadata": {
    "ExecuteTime": {
     "end_time": "2023-06-26T17:20:06.269216300Z",
     "start_time": "2023-06-26T17:20:06.267214400Z"
    }
   },
   "outputs": [],
   "source": [
    "def train_linear_regression_model(X_train, y_train):\n",
    "    model = make_pipeline(StandardScaler(), LinearRegression())\n",
    "\n",
    "    search = GridSearchCV(\n",
    "        model,\n",
    "        param_grid={},\n",
    "        scoring='neg_root_mean_squared_error',\n",
    "        cv=5,\n",
    "        n_jobs=-1\n",
    "    )\n",
    "\n",
    "    start_train = datetime.now()\n",
    "    search.fit(X_train, y_train)\n",
    "    end_train = datetime.now()\n",
    "    training_time = (end_train - start_train).total_seconds()\n",
    "    \n",
    "    start_pred = datetime.now()\n",
    "    preds = search.best_estimator_.predict(X_train)\n",
    "    end_pred = datetime.now()\n",
    "    prediction_time = (end_pred - start_pred).total_seconds()\n",
    "    \n",
    "\n",
    "    return -search.best_score_, training_time, prediction_time"
   ]
  },
  {
   "cell_type": "code",
   "execution_count": 30,
   "metadata": {
    "ExecuteTime": {
     "end_time": "2023-06-26T17:20:06.647530100Z",
     "start_time": "2023-06-26T17:20:06.270217200Z"
    }
   },
   "outputs": [
    {
     "name": "stdout",
     "output_type": "stream",
     "text": [
      "Лучший RMSE линейной регрессии: 2957.0353547395853\n",
      "Время обучения линейной регрессии: 0.360297 сек.\n",
      "Время предсказания линейной регрессии: 0.01101 сек.\n"
     ]
    }
   ],
   "source": [
    "RMSE_lin, train_time_lin, predict_time_lin = train_linear_regression_model(features_train_transformed, \n",
    "                                                         target_train)\n",
    "print(f\"Лучший RMSE линейной регрессии: {RMSE_lin}\")\n",
    "print(f\"Время обучения линейной регрессии: {train_time_lin} сек.\")\n",
    "print(f\"Время предсказания линейной регрессии: {predict_time_lin} сек.\")"
   ]
  },
  {
   "cell_type": "markdown",
   "metadata": {},
   "source": [
    "#### LightGBM"
   ]
  },
  {
   "cell_type": "code",
   "execution_count": 31,
   "metadata": {
    "ExecuteTime": {
     "end_time": "2023-06-26T17:20:06.651533300Z",
     "start_time": "2023-06-26T17:20:06.647530100Z"
    }
   },
   "outputs": [],
   "source": [
    "def train_lgbm(X_train, y_train, num_leaves, n_estimators):\n",
    "    params = {\n",
    "        'objective': ['regression'],\n",
    "        'metric': ['rmse'],\n",
    "        'num_leaves': num_leaves,\n",
    "        'n_estimators': n_estimators\n",
    "    }\n",
    "\n",
    "    model = lgb.LGBMRegressor(random_state=222)\n",
    "\n",
    "    search = GridSearchCV(\n",
    "        model,\n",
    "        params,\n",
    "        scoring='neg_root_mean_squared_error',\n",
    "        cv=5,\n",
    "        n_jobs=-1,\n",
    "    )\n",
    "\n",
    "    start_train = datetime.now()\n",
    "    search.fit(X_train, y_train)\n",
    "    end_train = datetime.now()\n",
    "    training_time = (end_train - start_train).total_seconds()\n",
    "    \n",
    "    start_pred = datetime.now()\n",
    "    preds = search.best_estimator_.predict(X_train)\n",
    "    end_pred = datetime.now()\n",
    "    prediction_time = (end_pred - start_pred).total_seconds()\n",
    "    \n",
    "    return search.best_estimator_, -search.best_score_, training_time, prediction_time"
   ]
  },
  {
   "cell_type": "code",
   "execution_count": 36,
   "metadata": {
    "ExecuteTime": {
     "end_time": "2023-06-26T17:22:24.088579700Z",
     "start_time": "2023-06-26T17:21:50.427207300Z"
    }
   },
   "outputs": [
    {
     "name": "stdout",
     "output_type": "stream",
     "text": [
      "Лучшие гиперпараметры для LightGBM: LGBMRegressor(metric='rmse', n_estimators=201, num_leaves=42,\n",
      "              objective='regression', random_state=222)\n",
      "Лучший RMSE для LightGBM: 1593.8962803617608\n",
      "Время обучения LightGBM: 33.573293 сек.\n",
      "Время предсказания LightGBM: 0.082074 сек.\n"
     ]
    }
   ],
   "source": [
    "hyperparam_lgbm, RMSE_lgbm, train_time_lgbm, predict_time_lgbm = train_lgbm(features_train_transformed, \n",
    "                                        target_train, \n",
    "                                        np.arange(2, 43, 10), \n",
    "                                        np.arange(1, 202, 25))\n",
    "print(f\"Лучшие гиперпараметры для LightGBM: {hyperparam_lgbm}\")\n",
    "print(f\"Лучший RMSE для LightGBM: {RMSE_lgbm}\")\n",
    "print(f\"Время обучения LightGBM: {train_time_lgbm} сек.\")\n",
    "print(f\"Время предсказания LightGBM: {predict_time_lgbm} сек.\")"
   ]
  },
  {
   "cell_type": "markdown",
   "metadata": {},
   "source": [
    "## Анализ моделей"
   ]
  },
  {
   "cell_type": "code",
   "execution_count": 37,
   "metadata": {
    "ExecuteTime": {
     "end_time": "2023-06-26T17:34:28.285072Z",
     "start_time": "2023-06-26T17:34:27.832661200Z"
    }
   },
   "outputs": [
    {
     "data": {
      "text/plain": "<pandas.io.formats.style.Styler at 0x23c89be1130>",
      "text/html": "<style type=\"text/css\">\n#T_fd74b_row0_col0, #T_fd74b_row2_col1, #T_fd74b_row2_col2 {\n  background-color: #FFEC8B;\n}\n#T_fd74b_row0_col1, #T_fd74b_row0_col2, #T_fd74b_row1_col0 {\n  background-color: #FFC0CB;\n}\n#T_fd74b_row1_col1, #T_fd74b_row1_col2, #T_fd74b_row2_col0 {\n  background-color: #7FFF7F;\n}\n</style>\n<table id=\"T_fd74b\">\n  <thead>\n    <tr>\n      <th class=\"blank level0\" >&nbsp;</th>\n      <th id=\"T_fd74b_level0_col0\" class=\"col_heading level0 col0\" >RMSE точность</th>\n      <th id=\"T_fd74b_level0_col1\" class=\"col_heading level0 col1\" >Время обучения</th>\n      <th id=\"T_fd74b_level0_col2\" class=\"col_heading level0 col2\" >Время предсказания</th>\n    </tr>\n    <tr>\n      <th class=\"index_name level0\" >Модель</th>\n      <th class=\"blank col0\" >&nbsp;</th>\n      <th class=\"blank col1\" >&nbsp;</th>\n      <th class=\"blank col2\" >&nbsp;</th>\n    </tr>\n  </thead>\n  <tbody>\n    <tr>\n      <th id=\"T_fd74b_level0_row0\" class=\"row_heading level0 row0\" >Random Forest Regressor</th>\n      <td id=\"T_fd74b_row0_col0\" class=\"data row0 col0\" >1853.252290</td>\n      <td id=\"T_fd74b_row0_col1\" class=\"data row0 col1\" >511.019321</td>\n      <td id=\"T_fd74b_row0_col2\" class=\"data row0 col2\" >1.362744</td>\n    </tr>\n    <tr>\n      <th id=\"T_fd74b_level0_row1\" class=\"row_heading level0 row1\" >Linear Regression</th>\n      <td id=\"T_fd74b_row1_col0\" class=\"data row1 col0\" >2957.035355</td>\n      <td id=\"T_fd74b_row1_col1\" class=\"data row1 col1\" >0.360297</td>\n      <td id=\"T_fd74b_row1_col2\" class=\"data row1 col2\" >0.011010</td>\n    </tr>\n    <tr>\n      <th id=\"T_fd74b_level0_row2\" class=\"row_heading level0 row2\" >LightGBM</th>\n      <td id=\"T_fd74b_row2_col0\" class=\"data row2 col0\" >1593.896280</td>\n      <td id=\"T_fd74b_row2_col1\" class=\"data row2 col1\" >33.573293</td>\n      <td id=\"T_fd74b_row2_col2\" class=\"data row2 col2\" >0.082074</td>\n    </tr>\n  </tbody>\n</table>\n"
     },
     "execution_count": 37,
     "metadata": {},
     "output_type": "execute_result"
    }
   ],
   "source": [
    "table_data = {\n",
    "    'Модель': ['Random Forest Regressor', 'Linear Regression', 'LightGBM'],\n",
    "    'RMSE точность': [RMSE_forest, RMSE_lin, RMSE_lgbm], \n",
    "    'Время обучения': [train_time_forest, train_time_lin, train_time_lgbm],\n",
    "    'Время предсказания': [pred_time_forest, predict_time_lin, predict_time_lgbm], \n",
    "}\n",
    "table = pd.DataFrame(table_data)\n",
    "\n",
    "table.set_index('Модель', inplace=True)\n",
    "\n",
    "best_rmse = table['RMSE точность'].nsmallest(3)\n",
    "best_train_time = table['Время обучения'].nsmallest(3)\n",
    "best_pred_time = table['Время предсказания'].nsmallest(3)\n",
    "\n",
    "\n",
    "def highlight(value, best_values):\n",
    "    if value == best_values.iloc[0]:\n",
    "        return 'background-color: #7FFF7F' # лучшее значение - пастельно-зеленый\n",
    "    elif value == best_values.iloc[1]:\n",
    "        return 'background-color: #FFEC8B' # второе место - пастельно-желтый\n",
    "    elif value == best_values.iloc[2]:\n",
    "        return 'background-color: #FFC0CB' # третье место - пастельно-красный\n",
    "    else:\n",
    "        return ''\n",
    "\n",
    "table.style.applymap(highlight, best_values=best_rmse, subset=['RMSE точность'])\\\n",
    "  .applymap(highlight, best_values=best_train_time, subset=['Время обучения'])\\\n",
    "  .applymap(highlight, best_values=best_pred_time, subset=['Время предсказания'])"
   ]
  },
  {
   "cell_type": "markdown",
   "metadata": {},
   "source": [
    "Изучив 3 модели (Лес, линейная регрессия и LightGBM), мы пришли к выводу, что самой оптимальной с точки зрения компромисса показателей критерий заказчика является модель LightGBM (с точностью RMSE 1650, временем обучения 801.7 сек. и временем предсказания 1.83 сек.)."
   ]
  },
  {
   "cell_type": "markdown",
   "metadata": {},
   "source": [
    "## Тест модели"
   ]
  },
  {
   "cell_type": "code",
   "execution_count": 39,
   "metadata": {
    "ExecuteTime": {
     "end_time": "2023-06-26T17:35:30.427663700Z",
     "start_time": "2023-06-26T17:35:30.415653200Z"
    }
   },
   "outputs": [],
   "source": [
    "def test_lgbm(X_train, y_train, X_test, y_test, num_leaves, n_estimators):\n",
    "    model = lgb.LGBMRegressor(random_state=222, num_leaves=num_leaves, n_estimators=n_estimators)\n",
    "    \n",
    "    start_train = datetime.now()\n",
    "    model.fit(X_train, y_train)\n",
    "    end_train = datetime.now()\n",
    "    training_time = (end_train - start_train).total_seconds()\n",
    "    \n",
    "    start_pred = datetime.now()\n",
    "    predictions = model.predict(X_test)\n",
    "    end_pred = datetime.now()\n",
    "    prediction_time = (end_pred - start_pred).total_seconds()\n",
    "    \n",
    "    rmse_value = mean_squared_error(y_test, predictions) ** 0.5\n",
    "    \n",
    "    return rmse_value, training_time, prediction_time"
   ]
  },
  {
   "cell_type": "code",
   "execution_count": 40,
   "metadata": {
    "scrolled": true,
    "ExecuteTime": {
     "end_time": "2023-06-26T17:35:32.136423400Z",
     "start_time": "2023-06-26T17:35:31.400756500Z"
    }
   },
   "outputs": [
    {
     "name": "stdout",
     "output_type": "stream",
     "text": [
      "RMSE LightGBM модели (тестовая выборка) равен: 1593.331608156027\n",
      "Время обучения LGBM (тестовая выборка): 0.70464 сек.\n",
      "Время предсказания LGBM (тестовая выборка): 0.027024 сек.\n"
     ]
    }
   ],
   "source": [
    "rmse_test_lgbm, train_time_test_lgbm, predict_time_test_lgbm = test_lgbm(features_train_transformed, target_train, features_test_transformed, target_test, 42, 201)\n",
    "print(f\"RMSE LightGBM модели (тестовая выборка) равен: {rmse_test_lgbm}\")\n",
    "print(f\"Время обучения LGBM (тестовая выборка): {train_time_test_lgbm} сек.\")\n",
    "print(f\"Время предсказания LGBM (тестовая выборка): {predict_time_test_lgbm} сек.\")"
   ]
  },
  {
   "cell_type": "markdown",
   "metadata": {},
   "source": [
    "## Вывод"
   ]
  },
  {
   "cell_type": "markdown",
   "metadata": {},
   "source": [
    "Для выполнения проекта была проведена предобработка данных, которая включала в себя заполнение пропущенных значений, обработку аномалий, удаление неинформативных признаков и кодирование категориальных признаков.\n",
    "\n",
    "Далее были подготовлены выборки для обучения моделей, включая разделение на обучающую и тестовую выборки, а также масштабирование числовых признаков.\n",
    "\n",
    "Было проведено обучение разных моделей, включая LightGBM, модель леса и линейную регрессию. Для каждой модели были подобраны гиперпараметры и проанализировано время обучения, время предсказания и качество модели.\n",
    "\n",
    "На основе анализа результатов выбрана лучшая модель - LightGBM, которая была проверена на тестовой выборке и продемонстрировала качество, удовлетворяющее критериям заказчика."
   ]
  }
 ],
 "metadata": {
  "ExecuteTimeLog": [
   {
    "duration": 430,
    "start_time": "2023-02-17T13:17:08.226Z"
   },
   {
    "duration": 3,
    "start_time": "2023-02-17T13:17:17.886Z"
   },
   {
    "duration": 1055,
    "start_time": "2023-02-17T13:17:28.916Z"
   },
   {
    "duration": 73,
    "start_time": "2023-02-17T13:17:46.174Z"
   },
   {
    "duration": 800,
    "start_time": "2023-02-17T13:17:49.711Z"
   },
   {
    "duration": 22,
    "start_time": "2023-02-17T13:17:54.479Z"
   },
   {
    "duration": 20,
    "start_time": "2023-02-17T13:17:57.570Z"
   },
   {
    "duration": 13,
    "start_time": "2023-02-17T13:18:06.235Z"
   },
   {
    "duration": 102,
    "start_time": "2023-02-17T13:18:09.564Z"
   },
   {
    "duration": 114,
    "start_time": "2023-02-17T13:18:16.494Z"
   },
   {
    "duration": 103,
    "start_time": "2023-02-17T13:21:03.571Z"
   },
   {
    "duration": 229,
    "start_time": "2023-02-17T13:25:36.235Z"
   },
   {
    "duration": 15,
    "start_time": "2023-02-17T13:25:52.966Z"
   },
   {
    "duration": 84,
    "start_time": "2023-02-17T13:26:03.469Z"
   },
   {
    "duration": 32,
    "start_time": "2023-02-17T13:26:51.096Z"
   },
   {
    "duration": 1021,
    "start_time": "2023-02-17T13:41:07.408Z"
   },
   {
    "duration": 367,
    "start_time": "2023-02-17T13:42:23.549Z"
   },
   {
    "duration": 887,
    "start_time": "2023-02-17T13:42:23.918Z"
   },
   {
    "duration": 20,
    "start_time": "2023-02-17T13:42:24.807Z"
   },
   {
    "duration": 152,
    "start_time": "2023-02-17T13:42:24.828Z"
   },
   {
    "duration": 132,
    "start_time": "2023-02-17T13:42:24.982Z"
   },
   {
    "duration": 280,
    "start_time": "2023-02-17T13:42:25.116Z"
   },
   {
    "duration": 32,
    "start_time": "2023-02-17T13:42:25.398Z"
   },
   {
    "duration": 1107,
    "start_time": "2023-02-17T13:42:25.432Z"
   },
   {
    "duration": 76,
    "start_time": "2023-02-17T13:46:53.165Z"
   },
   {
    "duration": 99,
    "start_time": "2023-02-17T13:54:09.206Z"
   },
   {
    "duration": 32,
    "start_time": "2023-02-17T13:54:12.353Z"
   },
   {
    "duration": 23,
    "start_time": "2023-02-17T13:54:19.285Z"
   },
   {
    "duration": 62,
    "start_time": "2023-02-17T13:54:21.964Z"
   },
   {
    "duration": 73,
    "start_time": "2023-02-17T13:54:34.256Z"
   },
   {
    "duration": 49,
    "start_time": "2023-02-17T13:54:45.480Z"
   },
   {
    "duration": 8,
    "start_time": "2023-02-17T13:55:30.863Z"
   },
   {
    "duration": 100,
    "start_time": "2023-02-17T13:55:48.569Z"
   },
   {
    "duration": 93,
    "start_time": "2023-02-17T13:56:15.484Z"
   },
   {
    "duration": 979,
    "start_time": "2023-02-17T14:06:00.624Z"
   },
   {
    "duration": 1560,
    "start_time": "2023-02-17T14:06:22.694Z"
   },
   {
    "duration": 2,
    "start_time": "2023-02-17T14:07:02.348Z"
   },
   {
    "duration": 207,
    "start_time": "2023-02-17T14:07:42.282Z"
   },
   {
    "duration": 280,
    "start_time": "2023-02-17T14:08:04.172Z"
   },
   {
    "duration": 210,
    "start_time": "2023-02-17T14:08:09.146Z"
   },
   {
    "duration": 301,
    "start_time": "2023-02-17T14:08:44.798Z"
   },
   {
    "duration": 746,
    "start_time": "2023-02-17T14:08:51.522Z"
   },
   {
    "duration": 5744,
    "start_time": "2023-02-17T14:08:55.796Z"
   },
   {
    "duration": 1891,
    "start_time": "2023-02-17T14:09:03.923Z"
   },
   {
    "duration": 1342,
    "start_time": "2023-02-17T14:09:14.147Z"
   },
   {
    "duration": 4201,
    "start_time": "2023-02-17T14:09:22.076Z"
   },
   {
    "duration": 7661,
    "start_time": "2023-02-17T14:09:31.750Z"
   },
   {
    "duration": 7839,
    "start_time": "2023-02-17T14:10:21.357Z"
   },
   {
    "duration": 8073,
    "start_time": "2023-02-17T14:10:36.017Z"
   },
   {
    "duration": 7859,
    "start_time": "2023-02-17T14:10:50.749Z"
   },
   {
    "duration": 7790,
    "start_time": "2023-02-17T14:11:30.269Z"
   },
   {
    "duration": 7474,
    "start_time": "2023-02-17T14:12:30.648Z"
   },
   {
    "duration": 35,
    "start_time": "2023-02-17T14:14:18.912Z"
   },
   {
    "duration": 47,
    "start_time": "2023-02-17T14:14:20.958Z"
   },
   {
    "duration": 7212,
    "start_time": "2023-02-17T14:14:27.369Z"
   },
   {
    "duration": 7160,
    "start_time": "2023-02-17T14:20:15.973Z"
   },
   {
    "duration": 30,
    "start_time": "2023-02-17T14:21:54.480Z"
   },
   {
    "duration": 9,
    "start_time": "2023-02-17T14:36:26.848Z"
   },
   {
    "duration": 715,
    "start_time": "2023-02-17T14:36:55.166Z"
   },
   {
    "duration": 313,
    "start_time": "2023-02-17T14:37:05.364Z"
   },
   {
    "duration": 36,
    "start_time": "2023-02-17T14:37:11.935Z"
   },
   {
    "duration": 596,
    "start_time": "2023-02-17T14:38:02.458Z"
   },
   {
    "duration": 851,
    "start_time": "2023-02-17T14:38:03.056Z"
   },
   {
    "duration": 16,
    "start_time": "2023-02-17T14:38:03.909Z"
   },
   {
    "duration": 111,
    "start_time": "2023-02-17T14:38:03.927Z"
   },
   {
    "duration": 163,
    "start_time": "2023-02-17T14:38:04.040Z"
   },
   {
    "duration": 42,
    "start_time": "2023-02-17T14:38:04.205Z"
   },
   {
    "duration": 6731,
    "start_time": "2023-02-17T14:38:04.249Z"
   },
   {
    "duration": 66,
    "start_time": "2023-02-17T14:38:10.981Z"
   },
   {
    "duration": 56,
    "start_time": "2023-02-17T14:38:11.049Z"
   },
   {
    "duration": 49,
    "start_time": "2023-02-17T14:38:11.108Z"
   },
   {
    "duration": 218,
    "start_time": "2023-02-17T14:38:11.158Z"
   },
   {
    "duration": 30,
    "start_time": "2023-02-17T14:38:11.378Z"
   },
   {
    "duration": 947,
    "start_time": "2023-02-17T14:38:11.410Z"
   },
   {
    "duration": 71,
    "start_time": "2023-02-17T14:39:18.839Z"
   },
   {
    "duration": 14071,
    "start_time": "2023-02-17T14:40:02.962Z"
   },
   {
    "duration": 190,
    "start_time": "2023-02-17T14:40:18.990Z"
   },
   {
    "duration": 4,
    "start_time": "2023-02-17T14:40:35.017Z"
   },
   {
    "duration": 191,
    "start_time": "2023-02-17T14:40:46.922Z"
   },
   {
    "duration": 1921,
    "start_time": "2023-02-17T14:40:59.883Z"
   },
   {
    "duration": 794,
    "start_time": "2023-02-17T14:41:01.807Z"
   },
   {
    "duration": 793,
    "start_time": "2023-02-17T14:41:02.603Z"
   },
   {
    "duration": 17,
    "start_time": "2023-02-17T14:41:03.398Z"
   },
   {
    "duration": 142,
    "start_time": "2023-02-17T14:41:03.417Z"
   },
   {
    "duration": 106,
    "start_time": "2023-02-17T14:41:03.560Z"
   },
   {
    "duration": 47,
    "start_time": "2023-02-17T14:41:03.668Z"
   },
   {
    "duration": 6770,
    "start_time": "2023-02-17T14:41:03.716Z"
   },
   {
    "duration": 68,
    "start_time": "2023-02-17T14:41:10.488Z"
   },
   {
    "duration": 53,
    "start_time": "2023-02-17T14:41:10.558Z"
   },
   {
    "duration": 3,
    "start_time": "2023-02-17T14:41:10.613Z"
   },
   {
    "duration": 275,
    "start_time": "2023-02-17T14:41:10.617Z"
   },
   {
    "duration": 0,
    "start_time": "2023-02-17T14:41:10.894Z"
   },
   {
    "duration": 0,
    "start_time": "2023-02-17T14:41:10.895Z"
   },
   {
    "duration": 0,
    "start_time": "2023-02-17T14:41:10.896Z"
   },
   {
    "duration": 0,
    "start_time": "2023-02-17T14:41:10.897Z"
   },
   {
    "duration": 220,
    "start_time": "2023-02-17T14:42:52.264Z"
   },
   {
    "duration": 4,
    "start_time": "2023-02-17T14:43:22.259Z"
   },
   {
    "duration": 731,
    "start_time": "2023-02-17T14:43:23.722Z"
   },
   {
    "duration": 17,
    "start_time": "2023-02-17T14:43:34.042Z"
   },
   {
    "duration": 1968,
    "start_time": "2023-02-17T14:44:59.279Z"
   },
   {
    "duration": 789,
    "start_time": "2023-02-17T14:45:01.249Z"
   },
   {
    "duration": 827,
    "start_time": "2023-02-17T14:45:02.040Z"
   },
   {
    "duration": 17,
    "start_time": "2023-02-17T14:45:02.869Z"
   },
   {
    "duration": 116,
    "start_time": "2023-02-17T14:45:02.888Z"
   },
   {
    "duration": 113,
    "start_time": "2023-02-17T14:45:03.005Z"
   },
   {
    "duration": 40,
    "start_time": "2023-02-17T14:45:03.120Z"
   },
   {
    "duration": 6759,
    "start_time": "2023-02-17T14:45:03.162Z"
   },
   {
    "duration": 55,
    "start_time": "2023-02-17T14:45:09.923Z"
   },
   {
    "duration": 58,
    "start_time": "2023-02-17T14:45:09.981Z"
   },
   {
    "duration": 3,
    "start_time": "2023-02-17T14:45:10.041Z"
   },
   {
    "duration": 795,
    "start_time": "2023-02-17T14:45:10.045Z"
   },
   {
    "duration": 14,
    "start_time": "2023-02-17T14:45:10.842Z"
   },
   {
    "duration": 60,
    "start_time": "2023-02-17T14:45:10.858Z"
   },
   {
    "duration": 209,
    "start_time": "2023-02-17T14:45:10.920Z"
   },
   {
    "duration": 28,
    "start_time": "2023-02-17T14:45:11.131Z"
   },
   {
    "duration": 936,
    "start_time": "2023-02-17T14:45:11.160Z"
   },
   {
    "duration": 17,
    "start_time": "2023-02-17T14:45:46.001Z"
   },
   {
    "duration": 15,
    "start_time": "2023-02-17T14:45:51.160Z"
   },
   {
    "duration": 2030,
    "start_time": "2023-02-17T14:46:56.012Z"
   },
   {
    "duration": 5909,
    "start_time": "2023-02-17T14:48:08.872Z"
   },
   {
    "duration": 79,
    "start_time": "2023-02-17T14:48:20.760Z"
   },
   {
    "duration": 88,
    "start_time": "2023-02-17T14:52:51.121Z"
   },
   {
    "duration": 2840,
    "start_time": "2023-02-17T14:52:55.142Z"
   },
   {
    "duration": 337,
    "start_time": "2023-02-17T14:52:59.071Z"
   },
   {
    "duration": 1979,
    "start_time": "2023-02-17T14:53:13.984Z"
   },
   {
    "duration": 619,
    "start_time": "2023-02-17T14:53:15.966Z"
   },
   {
    "duration": 807,
    "start_time": "2023-02-17T14:53:16.586Z"
   },
   {
    "duration": 20,
    "start_time": "2023-02-17T14:53:17.395Z"
   },
   {
    "duration": 106,
    "start_time": "2023-02-17T14:53:17.417Z"
   },
   {
    "duration": 117,
    "start_time": "2023-02-17T14:53:17.525Z"
   },
   {
    "duration": 40,
    "start_time": "2023-02-17T14:53:17.644Z"
   },
   {
    "duration": 6711,
    "start_time": "2023-02-17T14:53:17.685Z"
   },
   {
    "duration": 61,
    "start_time": "2023-02-17T14:53:24.398Z"
   },
   {
    "duration": 60,
    "start_time": "2023-02-17T14:53:24.462Z"
   },
   {
    "duration": 3,
    "start_time": "2023-02-17T14:53:24.524Z"
   },
   {
    "duration": 5748,
    "start_time": "2023-02-17T18:59:48.957Z"
   },
   {
    "duration": 668,
    "start_time": "2023-02-17T18:59:54.708Z"
   },
   {
    "duration": 816,
    "start_time": "2023-02-17T18:59:55.380Z"
   },
   {
    "duration": 17,
    "start_time": "2023-02-17T18:59:56.198Z"
   },
   {
    "duration": 158,
    "start_time": "2023-02-17T18:59:56.217Z"
   },
   {
    "duration": 126,
    "start_time": "2023-02-17T18:59:56.377Z"
   },
   {
    "duration": 39,
    "start_time": "2023-02-17T18:59:56.505Z"
   },
   {
    "duration": 6704,
    "start_time": "2023-02-17T18:59:56.546Z"
   },
   {
    "duration": 71,
    "start_time": "2023-02-17T19:00:03.254Z"
   },
   {
    "duration": 50,
    "start_time": "2023-02-17T19:00:03.327Z"
   },
   {
    "duration": 73,
    "start_time": "2023-02-17T19:00:03.379Z"
   },
   {
    "duration": 2166,
    "start_time": "2023-02-17T19:00:32.321Z"
   },
   {
    "duration": 643,
    "start_time": "2023-02-17T19:00:34.489Z"
   },
   {
    "duration": 2085,
    "start_time": "2023-02-17T19:00:53.023Z"
   },
   {
    "duration": 613,
    "start_time": "2023-02-17T19:00:55.111Z"
   },
   {
    "duration": 819,
    "start_time": "2023-02-17T19:00:55.726Z"
   },
   {
    "duration": 17,
    "start_time": "2023-02-17T19:00:56.547Z"
   },
   {
    "duration": 105,
    "start_time": "2023-02-17T19:00:56.566Z"
   },
   {
    "duration": 110,
    "start_time": "2023-02-17T19:00:56.673Z"
   },
   {
    "duration": 42,
    "start_time": "2023-02-17T19:00:56.785Z"
   },
   {
    "duration": 6416,
    "start_time": "2023-02-17T19:00:56.829Z"
   },
   {
    "duration": 64,
    "start_time": "2023-02-17T19:01:03.248Z"
   },
   {
    "duration": 48,
    "start_time": "2023-02-17T19:01:03.314Z"
   },
   {
    "duration": 3,
    "start_time": "2023-02-17T19:01:03.364Z"
   },
   {
    "duration": 240,
    "start_time": "2023-02-17T19:01:03.369Z"
   },
   {
    "duration": 14,
    "start_time": "2023-02-17T19:01:03.611Z"
   },
   {
    "duration": 53,
    "start_time": "2023-02-17T19:01:03.627Z"
   },
   {
    "duration": 224,
    "start_time": "2023-02-17T19:01:03.682Z"
   },
   {
    "duration": 29,
    "start_time": "2023-02-17T19:01:03.907Z"
   },
   {
    "duration": 949,
    "start_time": "2023-02-17T19:01:03.938Z"
   },
   {
    "duration": 14,
    "start_time": "2023-02-17T19:01:25.969Z"
   },
   {
    "duration": 15,
    "start_time": "2023-02-17T19:01:44.406Z"
   },
   {
    "duration": 2062,
    "start_time": "2023-02-17T19:02:53.751Z"
   },
   {
    "duration": 625,
    "start_time": "2023-02-17T19:02:55.816Z"
   },
   {
    "duration": 803,
    "start_time": "2023-02-17T19:02:56.442Z"
   },
   {
    "duration": 26,
    "start_time": "2023-02-17T19:02:57.248Z"
   },
   {
    "duration": 147,
    "start_time": "2023-02-17T19:02:57.276Z"
   },
   {
    "duration": 115,
    "start_time": "2023-02-17T19:02:57.425Z"
   },
   {
    "duration": 39,
    "start_time": "2023-02-17T19:02:57.542Z"
   },
   {
    "duration": 6613,
    "start_time": "2023-02-17T19:02:57.583Z"
   },
   {
    "duration": 70,
    "start_time": "2023-02-17T19:03:04.198Z"
   },
   {
    "duration": 65,
    "start_time": "2023-02-17T19:03:04.271Z"
   },
   {
    "duration": 3,
    "start_time": "2023-02-17T19:03:04.338Z"
   },
   {
    "duration": 400,
    "start_time": "2023-02-17T19:03:04.343Z"
   },
   {
    "duration": 13,
    "start_time": "2023-02-17T19:03:04.745Z"
   },
   {
    "duration": 56,
    "start_time": "2023-02-17T19:03:04.759Z"
   },
   {
    "duration": 211,
    "start_time": "2023-02-17T19:03:04.817Z"
   },
   {
    "duration": 26,
    "start_time": "2023-02-17T19:03:05.030Z"
   },
   {
    "duration": 875,
    "start_time": "2023-02-17T19:03:05.057Z"
   },
   {
    "duration": 3113,
    "start_time": "2023-02-17T19:09:50.891Z"
   },
   {
    "duration": 2040,
    "start_time": "2023-02-17T19:11:05.299Z"
   },
   {
    "duration": 591,
    "start_time": "2023-02-17T19:11:07.340Z"
   },
   {
    "duration": 781,
    "start_time": "2023-02-17T19:11:07.932Z"
   },
   {
    "duration": 16,
    "start_time": "2023-02-17T19:11:08.715Z"
   },
   {
    "duration": 139,
    "start_time": "2023-02-17T19:11:08.732Z"
   },
   {
    "duration": 118,
    "start_time": "2023-02-17T19:11:08.873Z"
   },
   {
    "duration": 39,
    "start_time": "2023-02-17T19:11:08.993Z"
   },
   {
    "duration": 6334,
    "start_time": "2023-02-17T19:11:09.034Z"
   },
   {
    "duration": 63,
    "start_time": "2023-02-17T19:11:15.370Z"
   },
   {
    "duration": 47,
    "start_time": "2023-02-17T19:11:15.435Z"
   },
   {
    "duration": 3,
    "start_time": "2023-02-17T19:11:15.484Z"
   },
   {
    "duration": 410,
    "start_time": "2023-02-17T19:11:15.489Z"
   },
   {
    "duration": 0,
    "start_time": "2023-02-17T19:11:15.900Z"
   },
   {
    "duration": 0,
    "start_time": "2023-02-17T19:11:15.901Z"
   },
   {
    "duration": 0,
    "start_time": "2023-02-17T19:11:15.902Z"
   },
   {
    "duration": 0,
    "start_time": "2023-02-17T19:11:15.903Z"
   },
   {
    "duration": 0,
    "start_time": "2023-02-17T19:11:15.904Z"
   },
   {
    "duration": 2075,
    "start_time": "2023-02-17T19:17:29.726Z"
   },
   {
    "duration": 710,
    "start_time": "2023-02-17T19:19:31.937Z"
   },
   {
    "duration": 2006,
    "start_time": "2023-02-17T19:19:39.676Z"
   },
   {
    "duration": 2029,
    "start_time": "2023-02-17T19:20:19.633Z"
   },
   {
    "duration": 1997,
    "start_time": "2023-02-17T19:20:21.664Z"
   },
   {
    "duration": 651,
    "start_time": "2023-02-17T19:20:23.663Z"
   },
   {
    "duration": 814,
    "start_time": "2023-02-17T19:20:24.316Z"
   },
   {
    "duration": 18,
    "start_time": "2023-02-17T19:20:25.132Z"
   },
   {
    "duration": 157,
    "start_time": "2023-02-17T19:20:25.152Z"
   },
   {
    "duration": 118,
    "start_time": "2023-02-17T19:20:25.310Z"
   },
   {
    "duration": 37,
    "start_time": "2023-02-17T19:20:25.430Z"
   },
   {
    "duration": 6451,
    "start_time": "2023-02-17T19:20:25.468Z"
   },
   {
    "duration": 59,
    "start_time": "2023-02-17T19:20:31.921Z"
   },
   {
    "duration": 63,
    "start_time": "2023-02-17T19:20:31.982Z"
   },
   {
    "duration": 4,
    "start_time": "2023-02-17T19:20:32.047Z"
   },
   {
    "duration": 551,
    "start_time": "2023-02-17T19:20:32.052Z"
   },
   {
    "duration": 0,
    "start_time": "2023-02-17T19:20:32.605Z"
   },
   {
    "duration": 0,
    "start_time": "2023-02-17T19:20:32.606Z"
   },
   {
    "duration": 0,
    "start_time": "2023-02-17T19:20:32.607Z"
   },
   {
    "duration": 0,
    "start_time": "2023-02-17T19:20:32.608Z"
   },
   {
    "duration": 0,
    "start_time": "2023-02-17T19:20:32.609Z"
   },
   {
    "duration": 1996,
    "start_time": "2023-02-17T19:21:45.415Z"
   },
   {
    "duration": 1979,
    "start_time": "2023-02-17T19:21:47.413Z"
   },
   {
    "duration": 680,
    "start_time": "2023-02-17T19:21:49.394Z"
   },
   {
    "duration": 761,
    "start_time": "2023-02-17T19:21:50.076Z"
   },
   {
    "duration": 16,
    "start_time": "2023-02-17T19:21:50.839Z"
   },
   {
    "duration": 148,
    "start_time": "2023-02-17T19:21:50.856Z"
   },
   {
    "duration": 118,
    "start_time": "2023-02-17T19:21:51.005Z"
   },
   {
    "duration": 39,
    "start_time": "2023-02-17T19:21:51.124Z"
   },
   {
    "duration": 6524,
    "start_time": "2023-02-17T19:21:51.165Z"
   },
   {
    "duration": 65,
    "start_time": "2023-02-17T19:21:57.691Z"
   },
   {
    "duration": 58,
    "start_time": "2023-02-17T19:21:57.758Z"
   },
   {
    "duration": 5,
    "start_time": "2023-02-17T19:21:57.817Z"
   },
   {
    "duration": 310430,
    "start_time": "2023-02-17T19:21:57.824Z"
   },
   {
    "duration": 0,
    "start_time": "2023-02-17T19:27:08.257Z"
   },
   {
    "duration": 0,
    "start_time": "2023-02-17T19:27:08.258Z"
   },
   {
    "duration": 0,
    "start_time": "2023-02-17T19:27:08.259Z"
   },
   {
    "duration": 0,
    "start_time": "2023-02-17T19:27:08.261Z"
   },
   {
    "duration": 0,
    "start_time": "2023-02-17T19:27:08.262Z"
   },
   {
    "duration": 3,
    "start_time": "2023-02-17T19:29:37.081Z"
   },
   {
    "duration": 670,
    "start_time": "2023-02-17T19:30:10.686Z"
   },
   {
    "duration": 788,
    "start_time": "2023-02-17T19:30:11.358Z"
   },
   {
    "duration": 17,
    "start_time": "2023-02-17T19:30:12.148Z"
   },
   {
    "duration": 103,
    "start_time": "2023-02-17T19:30:12.167Z"
   },
   {
    "duration": 110,
    "start_time": "2023-02-17T19:30:12.272Z"
   },
   {
    "duration": 46,
    "start_time": "2023-02-17T19:30:12.384Z"
   },
   {
    "duration": 6552,
    "start_time": "2023-02-17T19:30:12.432Z"
   },
   {
    "duration": 63,
    "start_time": "2023-02-17T19:30:18.986Z"
   },
   {
    "duration": 53,
    "start_time": "2023-02-17T19:30:19.050Z"
   },
   {
    "duration": 4,
    "start_time": "2023-02-17T19:30:19.106Z"
   },
   {
    "duration": 740,
    "start_time": "2023-02-17T19:30:19.111Z"
   },
   {
    "duration": 1,
    "start_time": "2023-02-17T19:30:19.852Z"
   },
   {
    "duration": 0,
    "start_time": "2023-02-17T19:30:19.854Z"
   },
   {
    "duration": 0,
    "start_time": "2023-02-17T19:30:19.855Z"
   },
   {
    "duration": 0,
    "start_time": "2023-02-17T19:30:19.856Z"
   },
   {
    "duration": 0,
    "start_time": "2023-02-17T19:30:19.857Z"
   },
   {
    "duration": 4,
    "start_time": "2023-02-17T19:31:49.312Z"
   },
   {
    "duration": 14320,
    "start_time": "2023-02-17T19:31:51.230Z"
   },
   {
    "duration": 2015,
    "start_time": "2023-02-17T19:32:31.991Z"
   },
   {
    "duration": 18,
    "start_time": "2023-02-17T19:32:39.688Z"
   },
   {
    "duration": 5,
    "start_time": "2023-02-17T19:32:44.412Z"
   },
   {
    "duration": 5408,
    "start_time": "2023-02-17T19:32:45.028Z"
   },
   {
    "duration": 5,
    "start_time": "2023-02-17T19:33:51.661Z"
   },
   {
    "duration": 198081,
    "start_time": "2023-02-17T19:33:52.136Z"
   },
   {
    "duration": 3,
    "start_time": "2023-02-17T19:38:09.564Z"
   },
   {
    "duration": 585,
    "start_time": "2023-02-17T19:38:10.006Z"
   },
   {
    "duration": 45,
    "start_time": "2023-02-17T19:41:01.736Z"
   },
   {
    "duration": 46,
    "start_time": "2023-02-17T19:41:05.847Z"
   },
   {
    "duration": 2,
    "start_time": "2023-02-17T19:45:04.603Z"
   },
   {
    "duration": 3,
    "start_time": "2023-02-17T19:48:43.156Z"
   },
   {
    "duration": 33,
    "start_time": "2023-02-17T19:49:03.284Z"
   },
   {
    "duration": 600,
    "start_time": "2023-02-17T19:49:40.216Z"
   },
   {
    "duration": 794,
    "start_time": "2023-02-17T19:49:40.817Z"
   },
   {
    "duration": 20,
    "start_time": "2023-02-17T19:49:41.613Z"
   },
   {
    "duration": 116,
    "start_time": "2023-02-17T19:49:41.636Z"
   },
   {
    "duration": 117,
    "start_time": "2023-02-17T19:49:41.754Z"
   },
   {
    "duration": 46,
    "start_time": "2023-02-17T19:49:41.873Z"
   },
   {
    "duration": 6463,
    "start_time": "2023-02-17T19:49:41.921Z"
   },
   {
    "duration": 66,
    "start_time": "2023-02-17T19:49:48.385Z"
   },
   {
    "duration": 56,
    "start_time": "2023-02-17T19:49:48.453Z"
   },
   {
    "duration": 41,
    "start_time": "2023-02-17T19:49:48.511Z"
   },
   {
    "duration": 108,
    "start_time": "2023-02-17T19:49:48.553Z"
   },
   {
    "duration": 190,
    "start_time": "2023-02-17T19:49:48.662Z"
   },
   {
    "duration": 13,
    "start_time": "2023-02-17T19:49:48.854Z"
   },
   {
    "duration": 39,
    "start_time": "2023-02-17T19:49:48.869Z"
   },
   {
    "duration": 900,
    "start_time": "2023-02-17T19:49:48.910Z"
   },
   {
    "duration": 57,
    "start_time": "2023-02-17T19:52:00.090Z"
   },
   {
    "duration": 39,
    "start_time": "2023-02-17T19:56:07.885Z"
   },
   {
    "duration": 24,
    "start_time": "2023-02-17T19:56:14.408Z"
   },
   {
    "duration": 731,
    "start_time": "2023-02-17T19:59:31.003Z"
   },
   {
    "duration": 644,
    "start_time": "2023-02-17T20:04:13.976Z"
   },
   {
    "duration": 777,
    "start_time": "2023-02-17T20:04:14.622Z"
   },
   {
    "duration": 17,
    "start_time": "2023-02-17T20:04:15.403Z"
   },
   {
    "duration": 103,
    "start_time": "2023-02-17T20:04:15.422Z"
   },
   {
    "duration": 106,
    "start_time": "2023-02-17T20:04:15.526Z"
   },
   {
    "duration": 40,
    "start_time": "2023-02-17T20:04:15.633Z"
   },
   {
    "duration": 6254,
    "start_time": "2023-02-17T20:04:15.675Z"
   },
   {
    "duration": 58,
    "start_time": "2023-02-17T20:04:21.931Z"
   },
   {
    "duration": 58,
    "start_time": "2023-02-17T20:04:21.991Z"
   },
   {
    "duration": 54,
    "start_time": "2023-02-17T20:04:22.052Z"
   },
   {
    "duration": 29,
    "start_time": "2023-02-17T20:04:22.108Z"
   },
   {
    "duration": 64,
    "start_time": "2023-02-17T20:04:22.139Z"
   },
   {
    "duration": 13,
    "start_time": "2023-02-17T20:04:22.205Z"
   },
   {
    "duration": 28,
    "start_time": "2023-02-17T20:04:22.220Z"
   },
   {
    "duration": 27,
    "start_time": "2023-02-17T20:04:22.250Z"
   },
   {
    "duration": 885,
    "start_time": "2023-02-17T20:04:22.279Z"
   },
   {
    "duration": 6955,
    "start_time": "2023-02-17T20:06:06.688Z"
   },
   {
    "duration": 765,
    "start_time": "2023-02-17T20:06:19.612Z"
   },
   {
    "duration": 471,
    "start_time": "2023-02-17T20:06:35.396Z"
   },
   {
    "duration": 12,
    "start_time": "2023-02-17T20:13:29.472Z"
   },
   {
    "duration": 67,
    "start_time": "2023-02-17T20:13:39.252Z"
   },
   {
    "duration": 70,
    "start_time": "2023-02-17T20:13:46.591Z"
   },
   {
    "duration": 78,
    "start_time": "2023-02-17T20:49:59.656Z"
   },
   {
    "duration": 1192,
    "start_time": "2023-02-17T20:50:11.614Z"
   },
   {
    "duration": 92,
    "start_time": "2023-02-17T20:50:17.896Z"
   },
   {
    "duration": 1289,
    "start_time": "2023-02-17T21:00:17.914Z"
   },
   {
    "duration": 828,
    "start_time": "2023-02-17T21:00:19.205Z"
   },
   {
    "duration": 17,
    "start_time": "2023-02-17T21:00:20.035Z"
   },
   {
    "duration": 110,
    "start_time": "2023-02-17T21:00:20.053Z"
   },
   {
    "duration": 113,
    "start_time": "2023-02-17T21:00:20.165Z"
   },
   {
    "duration": 46,
    "start_time": "2023-02-17T21:00:20.279Z"
   },
   {
    "duration": 500,
    "start_time": "2023-02-17T21:00:20.326Z"
   },
   {
    "duration": 6554,
    "start_time": "2023-02-17T21:00:20.828Z"
   },
   {
    "duration": 66,
    "start_time": "2023-02-17T21:00:27.384Z"
   },
   {
    "duration": 67,
    "start_time": "2023-02-17T21:00:27.453Z"
   },
   {
    "duration": 42,
    "start_time": "2023-02-17T21:00:27.522Z"
   },
   {
    "duration": 37,
    "start_time": "2023-02-17T21:00:27.566Z"
   },
   {
    "duration": 46,
    "start_time": "2023-02-17T21:00:27.605Z"
   },
   {
    "duration": 12,
    "start_time": "2023-02-17T21:00:27.653Z"
   },
   {
    "duration": 43,
    "start_time": "2023-02-17T21:00:27.667Z"
   },
   {
    "duration": 27,
    "start_time": "2023-02-17T21:00:27.712Z"
   },
   {
    "duration": 896,
    "start_time": "2023-02-17T21:00:27.741Z"
   },
   {
    "duration": 11,
    "start_time": "2023-02-17T21:00:28.639Z"
   },
   {
    "duration": 73,
    "start_time": "2023-02-17T21:00:28.651Z"
   },
   {
    "duration": 84,
    "start_time": "2023-02-17T21:00:28.726Z"
   },
   {
    "duration": 152,
    "start_time": "2023-02-17T21:00:28.812Z"
   },
   {
    "duration": 4,
    "start_time": "2023-02-17T21:00:28.966Z"
   },
   {
    "duration": 86,
    "start_time": "2023-02-17T21:01:05.860Z"
   },
   {
    "duration": 107,
    "start_time": "2023-02-17T21:01:32.752Z"
   },
   {
    "duration": 5,
    "start_time": "2023-02-17T21:04:28.466Z"
   },
   {
    "duration": 536,
    "start_time": "2023-02-17T21:20:55.330Z"
   },
   {
    "duration": 8,
    "start_time": "2023-02-17T21:24:16.333Z"
   },
   {
    "duration": 7234,
    "start_time": "2023-02-17T21:24:35.597Z"
   },
   {
    "duration": 1346,
    "start_time": "2023-02-17T21:24:51.529Z"
   },
   {
    "duration": 839,
    "start_time": "2023-02-17T21:24:52.876Z"
   },
   {
    "duration": 18,
    "start_time": "2023-02-17T21:24:53.717Z"
   },
   {
    "duration": 157,
    "start_time": "2023-02-17T21:24:53.736Z"
   },
   {
    "duration": 114,
    "start_time": "2023-02-17T21:24:53.894Z"
   },
   {
    "duration": 40,
    "start_time": "2023-02-17T21:24:54.010Z"
   },
   {
    "duration": 6491,
    "start_time": "2023-02-17T21:24:54.052Z"
   },
   {
    "duration": 7155,
    "start_time": "2023-02-17T21:25:00.545Z"
   },
   {
    "duration": 56,
    "start_time": "2023-02-17T21:25:07.704Z"
   },
   {
    "duration": 64,
    "start_time": "2023-02-17T21:25:07.763Z"
   },
   {
    "duration": 42,
    "start_time": "2023-02-17T21:25:07.829Z"
   },
   {
    "duration": 36,
    "start_time": "2023-02-17T21:25:07.873Z"
   },
   {
    "duration": 48,
    "start_time": "2023-02-17T21:25:07.911Z"
   },
   {
    "duration": 13,
    "start_time": "2023-02-17T21:25:07.961Z"
   },
   {
    "duration": 41,
    "start_time": "2023-02-17T21:25:07.975Z"
   },
   {
    "duration": 27,
    "start_time": "2023-02-17T21:25:08.017Z"
   },
   {
    "duration": 1157,
    "start_time": "2023-02-17T21:25:08.046Z"
   },
   {
    "duration": 12,
    "start_time": "2023-02-17T21:25:09.205Z"
   },
   {
    "duration": 65,
    "start_time": "2023-02-17T21:25:09.219Z"
   },
   {
    "duration": 79,
    "start_time": "2023-02-17T21:25:09.302Z"
   },
   {
    "duration": 161,
    "start_time": "2023-02-17T21:25:09.382Z"
   },
   {
    "duration": 4,
    "start_time": "2023-02-17T21:25:09.545Z"
   },
   {
    "duration": 110,
    "start_time": "2023-02-17T21:25:09.550Z"
   },
   {
    "duration": 0,
    "start_time": "2023-02-17T21:25:09.662Z"
   },
   {
    "duration": 21,
    "start_time": "2023-02-17T21:27:07.083Z"
   },
   {
    "duration": 735,
    "start_time": "2023-02-17T21:27:09.990Z"
   },
   {
    "duration": 21,
    "start_time": "2023-02-17T21:27:34.911Z"
   },
   {
    "duration": 550,
    "start_time": "2023-02-17T21:27:36.908Z"
   },
   {
    "duration": 4,
    "start_time": "2023-02-17T21:32:47.814Z"
   },
   {
    "duration": 4,
    "start_time": "2023-02-17T21:43:39.075Z"
   },
   {
    "duration": 20488,
    "start_time": "2023-02-17T21:43:41.650Z"
   },
   {
    "duration": 31,
    "start_time": "2023-02-17T21:44:27.297Z"
   },
   {
    "duration": 715540,
    "start_time": "2023-02-17T21:45:04.380Z"
   },
   {
    "duration": 5,
    "start_time": "2023-02-17T21:57:11.285Z"
   },
   {
    "duration": 7048,
    "start_time": "2023-02-17T21:58:14.124Z"
   },
   {
    "duration": 4,
    "start_time": "2023-02-17T21:59:21.580Z"
   },
   {
    "duration": 1364,
    "start_time": "2023-02-17T22:03:26.801Z"
   },
   {
    "duration": 788,
    "start_time": "2023-02-17T22:03:28.167Z"
   },
   {
    "duration": 18,
    "start_time": "2023-02-17T22:03:28.956Z"
   },
   {
    "duration": 160,
    "start_time": "2023-02-17T22:03:28.977Z"
   },
   {
    "duration": 120,
    "start_time": "2023-02-17T22:03:29.139Z"
   },
   {
    "duration": 43,
    "start_time": "2023-02-17T22:03:29.261Z"
   },
   {
    "duration": 6154,
    "start_time": "2023-02-17T22:03:29.305Z"
   },
   {
    "duration": 6643,
    "start_time": "2023-02-17T22:03:35.460Z"
   },
   {
    "duration": 57,
    "start_time": "2023-02-17T22:03:42.105Z"
   },
   {
    "duration": 61,
    "start_time": "2023-02-17T22:03:42.165Z"
   },
   {
    "duration": 43,
    "start_time": "2023-02-17T22:03:42.228Z"
   },
   {
    "duration": 41,
    "start_time": "2023-02-17T22:03:42.273Z"
   },
   {
    "duration": 50,
    "start_time": "2023-02-17T22:03:42.317Z"
   },
   {
    "duration": 14,
    "start_time": "2023-02-17T22:03:42.369Z"
   },
   {
    "duration": 41,
    "start_time": "2023-02-17T22:03:42.384Z"
   },
   {
    "duration": 313,
    "start_time": "2023-02-17T22:03:42.426Z"
   },
   {
    "duration": 948,
    "start_time": "2023-02-17T22:03:42.741Z"
   },
   {
    "duration": 16,
    "start_time": "2023-02-17T22:03:43.691Z"
   },
   {
    "duration": 65,
    "start_time": "2023-02-17T22:03:43.709Z"
   },
   {
    "duration": 98,
    "start_time": "2023-02-17T22:03:43.775Z"
   },
   {
    "duration": 159,
    "start_time": "2023-02-17T22:03:43.902Z"
   },
   {
    "duration": 5,
    "start_time": "2023-02-17T22:03:44.063Z"
   },
   {
    "duration": 42,
    "start_time": "2023-02-17T22:03:44.071Z"
   },
   {
    "duration": 156,
    "start_time": "2023-02-17T22:03:44.115Z"
   },
   {
    "duration": 0,
    "start_time": "2023-02-17T22:03:44.273Z"
   },
   {
    "duration": 0,
    "start_time": "2023-02-17T22:03:44.274Z"
   },
   {
    "duration": 0,
    "start_time": "2023-02-17T22:03:44.275Z"
   },
   {
    "duration": 20,
    "start_time": "2023-02-17T22:07:05.632Z"
   },
   {
    "duration": 58,
    "start_time": "2023-02-17T22:07:07.230Z"
   },
   {
    "duration": 1348,
    "start_time": "2023-02-17T22:07:28.967Z"
   },
   {
    "duration": 843,
    "start_time": "2023-02-17T22:07:30.317Z"
   },
   {
    "duration": 18,
    "start_time": "2023-02-17T22:07:31.162Z"
   },
   {
    "duration": 169,
    "start_time": "2023-02-17T22:07:31.182Z"
   },
   {
    "duration": 114,
    "start_time": "2023-02-17T22:07:31.352Z"
   },
   {
    "duration": 41,
    "start_time": "2023-02-17T22:07:31.468Z"
   },
   {
    "duration": 6306,
    "start_time": "2023-02-17T22:07:31.510Z"
   },
   {
    "duration": 7026,
    "start_time": "2023-02-17T22:07:37.818Z"
   },
   {
    "duration": 65,
    "start_time": "2023-02-17T22:07:44.846Z"
   },
   {
    "duration": 49,
    "start_time": "2023-02-17T22:07:44.914Z"
   },
   {
    "duration": 53,
    "start_time": "2023-02-17T22:07:44.965Z"
   },
   {
    "duration": 50,
    "start_time": "2023-02-17T22:07:45.020Z"
   },
   {
    "duration": 80,
    "start_time": "2023-02-17T22:07:45.073Z"
   },
   {
    "duration": 13,
    "start_time": "2023-02-17T22:07:45.155Z"
   },
   {
    "duration": 40,
    "start_time": "2023-02-17T22:07:45.170Z"
   },
   {
    "duration": 306,
    "start_time": "2023-02-17T22:07:45.212Z"
   },
   {
    "duration": 907,
    "start_time": "2023-02-17T22:07:45.519Z"
   },
   {
    "duration": 11,
    "start_time": "2023-02-17T22:07:46.428Z"
   },
   {
    "duration": 71,
    "start_time": "2023-02-17T22:07:46.441Z"
   },
   {
    "duration": 73,
    "start_time": "2023-02-17T22:07:46.514Z"
   },
   {
    "duration": 163,
    "start_time": "2023-02-17T22:07:46.589Z"
   },
   {
    "duration": 5,
    "start_time": "2023-02-17T22:07:46.753Z"
   },
   {
    "duration": 24,
    "start_time": "2023-02-17T22:07:46.760Z"
   },
   {
    "duration": 168,
    "start_time": "2023-02-17T22:07:46.785Z"
   },
   {
    "duration": 0,
    "start_time": "2023-02-17T22:07:46.954Z"
   },
   {
    "duration": 0,
    "start_time": "2023-02-17T22:07:46.956Z"
   },
   {
    "duration": 0,
    "start_time": "2023-02-17T22:07:46.957Z"
   },
   {
    "duration": 26,
    "start_time": "2023-02-17T22:09:44.868Z"
   },
   {
    "duration": 4,
    "start_time": "2023-02-17T22:09:50.795Z"
   },
   {
    "duration": 20,
    "start_time": "2023-02-17T22:09:56.309Z"
   },
   {
    "duration": 362,
    "start_time": "2023-02-17T22:09:57.156Z"
   },
   {
    "duration": 65,
    "start_time": "2023-02-18T10:01:47.824Z"
   },
   {
    "duration": 1530,
    "start_time": "2023-02-18T10:02:11.628Z"
   },
   {
    "duration": 2794,
    "start_time": "2023-02-18T10:02:13.160Z"
   },
   {
    "duration": 17,
    "start_time": "2023-02-18T10:02:15.955Z"
   },
   {
    "duration": 119,
    "start_time": "2023-02-18T10:02:15.973Z"
   },
   {
    "duration": 126,
    "start_time": "2023-02-18T10:02:16.094Z"
   },
   {
    "duration": 34,
    "start_time": "2023-02-18T10:02:16.222Z"
   },
   {
    "duration": 6182,
    "start_time": "2023-02-18T10:02:16.258Z"
   },
   {
    "duration": 6628,
    "start_time": "2023-02-18T10:02:22.442Z"
   },
   {
    "duration": 64,
    "start_time": "2023-02-18T10:02:29.073Z"
   },
   {
    "duration": 47,
    "start_time": "2023-02-18T10:02:29.140Z"
   },
   {
    "duration": 57,
    "start_time": "2023-02-18T10:02:29.188Z"
   },
   {
    "duration": 41,
    "start_time": "2023-02-18T10:02:29.247Z"
   },
   {
    "duration": 51,
    "start_time": "2023-02-18T10:02:29.289Z"
   },
   {
    "duration": 12,
    "start_time": "2023-02-18T10:02:29.342Z"
   },
   {
    "duration": 24,
    "start_time": "2023-02-18T10:02:29.355Z"
   },
   {
    "duration": 46,
    "start_time": "2023-02-18T10:02:29.381Z"
   },
   {
    "duration": 1164,
    "start_time": "2023-02-18T10:02:29.429Z"
   },
   {
    "duration": 13,
    "start_time": "2023-02-18T10:02:30.595Z"
   },
   {
    "duration": 92,
    "start_time": "2023-02-18T10:02:30.609Z"
   },
   {
    "duration": 83,
    "start_time": "2023-02-18T10:02:30.703Z"
   },
   {
    "duration": 161,
    "start_time": "2023-02-18T10:02:30.788Z"
   },
   {
    "duration": 5,
    "start_time": "2023-02-18T10:02:30.951Z"
   },
   {
    "duration": 25,
    "start_time": "2023-02-18T10:02:30.958Z"
   },
   {
    "duration": 563,
    "start_time": "2023-02-18T10:02:30.985Z"
   },
   {
    "duration": 0,
    "start_time": "2023-02-18T10:02:31.549Z"
   },
   {
    "duration": 0,
    "start_time": "2023-02-18T10:02:31.550Z"
   },
   {
    "duration": 976,
    "start_time": "2023-02-18T10:03:54.154Z"
   },
   {
    "duration": 977,
    "start_time": "2023-02-18T10:04:01.573Z"
   },
   {
    "duration": 1008,
    "start_time": "2023-02-18T10:04:16.042Z"
   },
   {
    "duration": 1415,
    "start_time": "2023-02-18T10:04:22.517Z"
   },
   {
    "duration": 853,
    "start_time": "2023-02-18T10:04:23.935Z"
   },
   {
    "duration": 18,
    "start_time": "2023-02-18T10:04:24.790Z"
   },
   {
    "duration": 145,
    "start_time": "2023-02-18T10:04:24.810Z"
   },
   {
    "duration": 155,
    "start_time": "2023-02-18T10:04:24.957Z"
   },
   {
    "duration": 37,
    "start_time": "2023-02-18T10:04:25.114Z"
   },
   {
    "duration": 6488,
    "start_time": "2023-02-18T10:04:25.153Z"
   },
   {
    "duration": 6799,
    "start_time": "2023-02-18T10:04:31.643Z"
   },
   {
    "duration": 61,
    "start_time": "2023-02-18T10:04:38.443Z"
   },
   {
    "duration": 47,
    "start_time": "2023-02-18T10:04:38.505Z"
   },
   {
    "duration": 51,
    "start_time": "2023-02-18T10:04:38.554Z"
   },
   {
    "duration": 31,
    "start_time": "2023-02-18T10:04:38.607Z"
   },
   {
    "duration": 52,
    "start_time": "2023-02-18T10:04:38.639Z"
   },
   {
    "duration": 22,
    "start_time": "2023-02-18T10:04:38.693Z"
   },
   {
    "duration": 25,
    "start_time": "2023-02-18T10:04:38.717Z"
   },
   {
    "duration": 31,
    "start_time": "2023-02-18T10:04:38.744Z"
   },
   {
    "duration": 1223,
    "start_time": "2023-02-18T10:04:38.804Z"
   },
   {
    "duration": 11,
    "start_time": "2023-02-18T10:04:40.029Z"
   },
   {
    "duration": 89,
    "start_time": "2023-02-18T10:04:40.041Z"
   },
   {
    "duration": 77,
    "start_time": "2023-02-18T10:04:40.132Z"
   },
   {
    "duration": 159,
    "start_time": "2023-02-18T10:04:40.211Z"
   },
   {
    "duration": 5,
    "start_time": "2023-02-18T10:04:40.371Z"
   },
   {
    "duration": 33,
    "start_time": "2023-02-18T10:04:40.378Z"
   },
   {
    "duration": 520,
    "start_time": "2023-02-18T10:04:40.413Z"
   },
   {
    "duration": 0,
    "start_time": "2023-02-18T10:04:40.934Z"
   },
   {
    "duration": 0,
    "start_time": "2023-02-18T10:04:40.936Z"
   },
   {
    "duration": 20,
    "start_time": "2023-02-18T10:06:48.889Z"
   },
   {
    "duration": 474,
    "start_time": "2023-02-18T10:06:50.326Z"
   },
   {
    "duration": 5,
    "start_time": "2023-02-18T10:07:00.379Z"
   },
   {
    "duration": 3,
    "start_time": "2023-02-18T10:07:04.889Z"
   },
   {
    "duration": 4,
    "start_time": "2023-02-18T10:07:10.975Z"
   },
   {
    "duration": 19,
    "start_time": "2023-02-18T10:09:15.256Z"
   },
   {
    "duration": 1365,
    "start_time": "2023-02-18T10:09:38.249Z"
   },
   {
    "duration": 867,
    "start_time": "2023-02-18T10:09:39.620Z"
   },
   {
    "duration": 28,
    "start_time": "2023-02-18T10:09:40.488Z"
   },
   {
    "duration": 150,
    "start_time": "2023-02-18T10:09:40.520Z"
   },
   {
    "duration": 147,
    "start_time": "2023-02-18T10:09:40.671Z"
   },
   {
    "duration": 37,
    "start_time": "2023-02-18T10:09:40.821Z"
   },
   {
    "duration": 7126,
    "start_time": "2023-02-18T10:09:40.860Z"
   },
   {
    "duration": 7511,
    "start_time": "2023-02-18T10:09:47.987Z"
   },
   {
    "duration": 58,
    "start_time": "2023-02-18T10:09:55.500Z"
   },
   {
    "duration": 71,
    "start_time": "2023-02-18T10:09:55.562Z"
   },
   {
    "duration": 50,
    "start_time": "2023-02-18T10:09:55.635Z"
   },
   {
    "duration": 60,
    "start_time": "2023-02-18T10:09:55.687Z"
   },
   {
    "duration": 66,
    "start_time": "2023-02-18T10:09:55.749Z"
   },
   {
    "duration": 15,
    "start_time": "2023-02-18T10:09:55.816Z"
   },
   {
    "duration": 28,
    "start_time": "2023-02-18T10:09:55.833Z"
   },
   {
    "duration": 32,
    "start_time": "2023-02-18T10:09:55.863Z"
   },
   {
    "duration": 1345,
    "start_time": "2023-02-18T10:09:55.907Z"
   },
   {
    "duration": 11,
    "start_time": "2023-02-18T10:09:57.254Z"
   },
   {
    "duration": 104,
    "start_time": "2023-02-18T10:09:57.266Z"
   },
   {
    "duration": 85,
    "start_time": "2023-02-18T10:09:57.372Z"
   },
   {
    "duration": 165,
    "start_time": "2023-02-18T10:09:57.459Z"
   },
   {
    "duration": 6,
    "start_time": "2023-02-18T10:09:57.626Z"
   },
   {
    "duration": 32,
    "start_time": "2023-02-18T10:09:57.634Z"
   },
   {
    "duration": 575,
    "start_time": "2023-02-18T10:09:57.668Z"
   },
   {
    "duration": 3,
    "start_time": "2023-02-18T10:09:58.245Z"
   },
   {
    "duration": 588211,
    "start_time": "2023-02-18T10:09:58.250Z"
   },
   {
    "duration": 4,
    "start_time": "2023-02-18T10:19:59.467Z"
   },
   {
    "duration": 1299173,
    "start_time": "2023-02-18T10:20:00.197Z"
   },
   {
    "duration": 4,
    "start_time": "2023-02-18T11:38:34.459Z"
   },
   {
    "duration": 102,
    "start_time": "2023-02-18T11:39:24.872Z"
   },
   {
    "duration": 3,
    "start_time": "2023-02-18T11:39:28.539Z"
   },
   {
    "duration": 120,
    "start_time": "2023-02-18T11:39:29.288Z"
   },
   {
    "duration": 4,
    "start_time": "2023-02-18T11:42:11.978Z"
   },
   {
    "duration": 105,
    "start_time": "2023-02-18T11:42:12.510Z"
   },
   {
    "duration": 4,
    "start_time": "2023-02-18T11:42:41.313Z"
   },
   {
    "duration": 9144,
    "start_time": "2023-02-18T11:42:45.181Z"
   },
   {
    "duration": 1531,
    "start_time": "2023-02-19T10:14:35.811Z"
   },
   {
    "duration": 998,
    "start_time": "2023-02-19T10:14:37.343Z"
   },
   {
    "duration": 16,
    "start_time": "2023-02-19T10:14:38.342Z"
   },
   {
    "duration": 138,
    "start_time": "2023-02-19T10:14:38.360Z"
   },
   {
    "duration": 129,
    "start_time": "2023-02-19T10:14:38.499Z"
   },
   {
    "duration": 34,
    "start_time": "2023-02-19T10:14:38.630Z"
   },
   {
    "duration": 5422,
    "start_time": "2023-02-19T10:14:38.666Z"
   },
   {
    "duration": 5813,
    "start_time": "2023-02-19T10:14:44.089Z"
   },
   {
    "duration": 55,
    "start_time": "2023-02-19T10:14:49.903Z"
   },
   {
    "duration": 56,
    "start_time": "2023-02-19T10:14:49.961Z"
   },
   {
    "duration": 40,
    "start_time": "2023-02-19T10:14:50.018Z"
   },
   {
    "duration": 38,
    "start_time": "2023-02-19T10:14:50.060Z"
   },
   {
    "duration": 51,
    "start_time": "2023-02-19T10:14:50.099Z"
   },
   {
    "duration": 11,
    "start_time": "2023-02-19T10:14:50.152Z"
   },
   {
    "duration": 22,
    "start_time": "2023-02-19T10:14:50.165Z"
   },
   {
    "duration": 252,
    "start_time": "2023-02-19T10:14:50.188Z"
   },
   {
    "duration": 838,
    "start_time": "2023-02-19T10:14:50.441Z"
   },
   {
    "duration": 11,
    "start_time": "2023-02-19T10:14:51.280Z"
   },
   {
    "duration": 79,
    "start_time": "2023-02-19T10:14:51.293Z"
   },
   {
    "duration": 81,
    "start_time": "2023-02-19T10:14:51.373Z"
   },
   {
    "duration": 114,
    "start_time": "2023-02-19T10:14:51.455Z"
   },
   {
    "duration": 4,
    "start_time": "2023-02-19T10:14:51.570Z"
   },
   {
    "duration": 34,
    "start_time": "2023-02-19T10:14:51.576Z"
   },
   {
    "duration": 471,
    "start_time": "2023-02-19T10:14:51.611Z"
   },
   {
    "duration": 4,
    "start_time": "2023-02-19T10:14:52.084Z"
   },
   {
    "duration": 8130,
    "start_time": "2023-02-19T10:14:52.089Z"
   },
   {
    "duration": 6,
    "start_time": "2023-02-19T10:15:00.221Z"
   },
   {
    "duration": 8180,
    "start_time": "2023-02-19T10:15:00.231Z"
   },
   {
    "duration": 1373,
    "start_time": "2023-02-19T10:26:51.514Z"
   },
   {
    "duration": 785,
    "start_time": "2023-02-19T10:26:52.889Z"
   },
   {
    "duration": 17,
    "start_time": "2023-02-19T10:26:53.675Z"
   },
   {
    "duration": 137,
    "start_time": "2023-02-19T10:26:53.694Z"
   },
   {
    "duration": 115,
    "start_time": "2023-02-19T10:26:53.833Z"
   },
   {
    "duration": 36,
    "start_time": "2023-02-19T10:26:53.950Z"
   },
   {
    "duration": 5606,
    "start_time": "2023-02-19T10:26:53.987Z"
   },
   {
    "duration": 5913,
    "start_time": "2023-02-19T10:26:59.595Z"
   },
   {
    "duration": 50,
    "start_time": "2023-02-19T10:27:05.510Z"
   },
   {
    "duration": 54,
    "start_time": "2023-02-19T10:27:05.562Z"
   },
   {
    "duration": 39,
    "start_time": "2023-02-19T10:27:05.618Z"
   },
   {
    "duration": 30,
    "start_time": "2023-02-19T10:27:05.659Z"
   },
   {
    "duration": 57,
    "start_time": "2023-02-19T10:27:05.691Z"
   },
   {
    "duration": 12,
    "start_time": "2023-02-19T10:27:05.749Z"
   },
   {
    "duration": 22,
    "start_time": "2023-02-19T10:27:05.763Z"
   },
   {
    "duration": 250,
    "start_time": "2023-02-19T10:27:05.786Z"
   },
   {
    "duration": 868,
    "start_time": "2023-02-19T10:27:06.037Z"
   },
   {
    "duration": 15,
    "start_time": "2023-02-19T10:27:06.907Z"
   },
   {
    "duration": 109,
    "start_time": "2023-02-19T10:27:06.924Z"
   },
   {
    "duration": 80,
    "start_time": "2023-02-19T10:27:07.035Z"
   },
   {
    "duration": 66,
    "start_time": "2023-02-19T10:27:07.117Z"
   },
   {
    "duration": 3,
    "start_time": "2023-02-19T10:27:07.185Z"
   },
   {
    "duration": 38,
    "start_time": "2023-02-19T10:27:07.190Z"
   },
   {
    "duration": 474,
    "start_time": "2023-02-19T10:27:07.230Z"
   },
   {
    "duration": 5,
    "start_time": "2023-02-19T10:27:07.705Z"
   },
   {
    "duration": 34838,
    "start_time": "2023-02-19T10:27:07.711Z"
   },
   {
    "duration": 4,
    "start_time": "2023-02-19T10:27:42.550Z"
   },
   {
    "duration": 8677,
    "start_time": "2023-02-19T10:27:42.556Z"
   },
   {
    "duration": 4,
    "start_time": "2023-02-19T10:35:16.991Z"
   },
   {
    "duration": 65,
    "start_time": "2023-02-19T10:35:20.289Z"
   },
   {
    "duration": 44,
    "start_time": "2023-02-19T10:35:42.828Z"
   },
   {
    "duration": 5,
    "start_time": "2023-02-19T10:35:55.050Z"
   },
   {
    "duration": 3113,
    "start_time": "2023-02-19T10:35:57.057Z"
   },
   {
    "duration": 4,
    "start_time": "2023-02-19T10:36:05.651Z"
   },
   {
    "duration": 5,
    "start_time": "2023-02-19T10:36:10.550Z"
   },
   {
    "duration": 5184,
    "start_time": "2023-02-19T10:36:13.603Z"
   },
   {
    "duration": 1345,
    "start_time": "2023-02-19T10:36:48.400Z"
   },
   {
    "duration": 753,
    "start_time": "2023-02-19T10:36:49.747Z"
   },
   {
    "duration": 17,
    "start_time": "2023-02-19T10:36:50.502Z"
   },
   {
    "duration": 130,
    "start_time": "2023-02-19T10:36:50.521Z"
   },
   {
    "duration": 111,
    "start_time": "2023-02-19T10:36:50.653Z"
   },
   {
    "duration": 45,
    "start_time": "2023-02-19T10:36:50.766Z"
   },
   {
    "duration": 5453,
    "start_time": "2023-02-19T10:36:50.812Z"
   },
   {
    "duration": 5958,
    "start_time": "2023-02-19T10:36:56.266Z"
   },
   {
    "duration": 54,
    "start_time": "2023-02-19T10:37:02.225Z"
   },
   {
    "duration": 58,
    "start_time": "2023-02-19T10:37:02.282Z"
   },
   {
    "duration": 41,
    "start_time": "2023-02-19T10:37:02.342Z"
   },
   {
    "duration": 40,
    "start_time": "2023-02-19T10:37:02.385Z"
   },
   {
    "duration": 53,
    "start_time": "2023-02-19T10:37:02.427Z"
   },
   {
    "duration": 13,
    "start_time": "2023-02-19T10:37:02.481Z"
   },
   {
    "duration": 36,
    "start_time": "2023-02-19T10:37:02.496Z"
   },
   {
    "duration": 235,
    "start_time": "2023-02-19T10:37:02.534Z"
   },
   {
    "duration": 864,
    "start_time": "2023-02-19T10:37:02.771Z"
   },
   {
    "duration": 10,
    "start_time": "2023-02-19T10:37:03.637Z"
   },
   {
    "duration": 76,
    "start_time": "2023-02-19T10:37:03.648Z"
   },
   {
    "duration": 72,
    "start_time": "2023-02-19T10:37:03.726Z"
   },
   {
    "duration": 73,
    "start_time": "2023-02-19T10:37:03.799Z"
   },
   {
    "duration": 4,
    "start_time": "2023-02-19T10:37:03.873Z"
   },
   {
    "duration": 41,
    "start_time": "2023-02-19T10:37:03.878Z"
   },
   {
    "duration": 487,
    "start_time": "2023-02-19T10:37:03.921Z"
   },
   {
    "duration": 4,
    "start_time": "2023-02-19T10:37:04.410Z"
   },
   {
    "duration": 4365,
    "start_time": "2023-02-19T10:37:04.415Z"
   },
   {
    "duration": 3,
    "start_time": "2023-02-19T10:37:08.781Z"
   },
   {
    "duration": 8650,
    "start_time": "2023-02-19T10:37:08.788Z"
   },
   {
    "duration": 4,
    "start_time": "2023-02-19T10:37:17.440Z"
   },
   {
    "duration": 5245,
    "start_time": "2023-02-19T10:37:17.510Z"
   },
   {
    "duration": 20,
    "start_time": "2023-02-19T10:39:40.874Z"
   },
   {
    "duration": 475,
    "start_time": "2023-02-19T10:39:42.537Z"
   },
   {
    "duration": 5101,
    "start_time": "2023-02-19T10:39:50.823Z"
   },
   {
    "duration": 4,
    "start_time": "2023-02-19T10:40:17.843Z"
   },
   {
    "duration": 4,
    "start_time": "2023-02-19T10:40:21.519Z"
   },
   {
    "duration": 17,
    "start_time": "2023-02-19T10:40:39.343Z"
   },
   {
    "duration": 21,
    "start_time": "2023-02-19T10:40:50.579Z"
   },
   {
    "duration": 4,
    "start_time": "2023-02-19T10:43:51.882Z"
   },
   {
    "duration": 427382,
    "start_time": "2023-02-19T10:43:52.360Z"
   },
   {
    "duration": 4,
    "start_time": "2023-02-19T10:52:57.400Z"
   },
   {
    "duration": 758975,
    "start_time": "2023-02-19T10:53:13.650Z"
   },
   {
    "duration": 5,
    "start_time": "2023-02-19T11:09:44.032Z"
   },
   {
    "duration": 4055985,
    "start_time": "2023-02-19T11:09:45.838Z"
   },
   {
    "duration": 4,
    "start_time": "2023-02-19T12:17:55.148Z"
   },
   {
    "duration": 1776,
    "start_time": "2023-02-19T12:17:57.049Z"
   },
   {
    "duration": 5,
    "start_time": "2023-02-19T12:18:30.465Z"
   },
   {
    "duration": 60,
    "start_time": "2023-02-19T12:18:31.083Z"
   },
   {
    "duration": 4,
    "start_time": "2023-02-19T12:18:50.418Z"
   },
   {
    "duration": 56965,
    "start_time": "2023-02-19T12:18:51.955Z"
   },
   {
    "duration": 5,
    "start_time": "2023-02-19T12:19:56.378Z"
   },
   {
    "duration": 17658,
    "start_time": "2023-02-19T12:19:57.972Z"
   },
   {
    "duration": 6,
    "start_time": "2023-02-19T12:20:23.040Z"
   },
   {
    "duration": 1527032,
    "start_time": "2023-02-19T12:20:23.687Z"
   },
   {
    "duration": 5,
    "start_time": "2023-02-19T12:56:26.771Z"
   },
   {
    "duration": 3056485,
    "start_time": "2023-02-19T12:56:27.538Z"
   },
   {
    "duration": 7,
    "start_time": "2023-02-19T13:48:28.388Z"
   },
   {
    "duration": 9947,
    "start_time": "2023-02-19T13:48:30.478Z"
   },
   {
    "duration": 3,
    "start_time": "2023-02-19T13:59:54.285Z"
   },
   {
    "duration": 5338,
    "start_time": "2023-02-19T13:59:55.988Z"
   },
   {
    "duration": 3,
    "start_time": "2023-02-19T14:00:58.392Z"
   },
   {
    "duration": 50,
    "start_time": "2023-02-19T14:00:59.841Z"
   },
   {
    "duration": 4,
    "start_time": "2023-02-19T14:01:24.872Z"
   },
   {
    "duration": 5176,
    "start_time": "2023-02-19T14:01:26.141Z"
   },
   {
    "duration": 4,
    "start_time": "2023-02-19T14:04:06.832Z"
   },
   {
    "duration": 62,
    "start_time": "2023-02-19T14:04:08.265Z"
   },
   {
    "duration": 4,
    "start_time": "2023-02-19T14:04:15.482Z"
   },
   {
    "duration": 2507,
    "start_time": "2023-02-19T14:04:16.162Z"
   },
   {
    "duration": 3,
    "start_time": "2023-02-19T14:08:32.939Z"
   },
   {
    "duration": 41,
    "start_time": "2023-02-19T14:08:36.644Z"
   },
   {
    "duration": 54,
    "start_time": "2023-02-19T14:08:48.466Z"
   },
   {
    "duration": 5,
    "start_time": "2023-02-19T14:08:53.888Z"
   },
   {
    "duration": 63,
    "start_time": "2023-02-19T14:08:56.079Z"
   },
   {
    "duration": 7973,
    "start_time": "2023-02-19T14:09:11.414Z"
   },
   {
    "duration": 329914,
    "start_time": "2023-02-19T14:09:55.004Z"
   },
   {
    "duration": 55,
    "start_time": "2023-02-19T14:23:54.956Z"
   },
   {
    "duration": 6,
    "start_time": "2023-02-19T14:23:58.268Z"
   },
   {
    "duration": 141545,
    "start_time": "2023-02-19T14:23:59.981Z"
   },
   {
    "duration": 1150199,
    "start_time": "2023-02-19T14:26:40.218Z"
   },
   {
    "duration": 5,
    "start_time": "2023-02-19T14:49:33.020Z"
   },
   {
    "duration": 5,
    "start_time": "2023-02-19T14:49:40.400Z"
   },
   {
    "duration": 1192137,
    "start_time": "2023-02-19T14:49:42.176Z"
   },
   {
    "duration": 54270,
    "start_time": "2023-02-19T15:41:12.545Z"
   },
   {
    "duration": 3,
    "start_time": "2023-02-19T15:51:32.134Z"
   },
   {
    "duration": 4,
    "start_time": "2023-02-19T15:54:46.525Z"
   },
   {
    "duration": 49,
    "start_time": "2023-02-19T15:54:48.064Z"
   },
   {
    "duration": 7431,
    "start_time": "2023-02-19T15:55:03.282Z"
   },
   {
    "duration": 11636,
    "start_time": "2023-02-19T15:56:53.888Z"
   },
   {
    "duration": 1367,
    "start_time": "2023-02-19T16:03:30.075Z"
   },
   {
    "duration": 757,
    "start_time": "2023-02-19T16:03:31.444Z"
   },
   {
    "duration": 18,
    "start_time": "2023-02-19T16:03:32.203Z"
   },
   {
    "duration": 135,
    "start_time": "2023-02-19T16:03:32.223Z"
   },
   {
    "duration": 128,
    "start_time": "2023-02-19T16:03:32.359Z"
   },
   {
    "duration": 41,
    "start_time": "2023-02-19T16:03:32.489Z"
   },
   {
    "duration": 5455,
    "start_time": "2023-02-19T16:03:32.532Z"
   },
   {
    "duration": 5931,
    "start_time": "2023-02-19T16:03:37.989Z"
   },
   {
    "duration": 50,
    "start_time": "2023-02-19T16:03:43.922Z"
   },
   {
    "duration": 55,
    "start_time": "2023-02-19T16:03:43.974Z"
   },
   {
    "duration": 38,
    "start_time": "2023-02-19T16:03:44.030Z"
   },
   {
    "duration": 27,
    "start_time": "2023-02-19T16:03:44.069Z"
   },
   {
    "duration": 51,
    "start_time": "2023-02-19T16:03:44.110Z"
   },
   {
    "duration": 11,
    "start_time": "2023-02-19T16:03:44.163Z"
   },
   {
    "duration": 224,
    "start_time": "2023-02-19T16:03:44.176Z"
   },
   {
    "duration": 29,
    "start_time": "2023-02-19T16:03:44.410Z"
   },
   {
    "duration": 856,
    "start_time": "2023-02-19T16:03:44.441Z"
   },
   {
    "duration": 13,
    "start_time": "2023-02-19T16:03:45.300Z"
   },
   {
    "duration": 72,
    "start_time": "2023-02-19T16:03:45.314Z"
   },
   {
    "duration": 86,
    "start_time": "2023-02-19T16:03:45.388Z"
   },
   {
    "duration": 69,
    "start_time": "2023-02-19T16:03:45.476Z"
   },
   {
    "duration": 4,
    "start_time": "2023-02-19T16:03:45.547Z"
   },
   {
    "duration": 23,
    "start_time": "2023-02-19T16:03:45.552Z"
   },
   {
    "duration": 464,
    "start_time": "2023-02-19T16:03:45.577Z"
   },
   {
    "duration": 3,
    "start_time": "2023-02-19T16:03:46.043Z"
   },
   {
    "duration": 3120822,
    "start_time": "2023-02-19T16:03:46.048Z"
   },
   {
    "duration": 334162,
    "start_time": "2023-02-19T16:55:46.871Z"
   },
   {
    "duration": 3,
    "start_time": "2023-02-19T17:01:21.036Z"
   },
   {
    "duration": 2195,
    "start_time": "2023-02-19T17:01:21.040Z"
   },
   {
    "duration": 5,
    "start_time": "2023-02-19T17:01:23.237Z"
   },
   {
    "duration": 853007,
    "start_time": "2023-02-19T17:01:23.310Z"
   },
   {
    "duration": 51299,
    "start_time": "2023-02-19T17:15:36.318Z"
   },
   {
    "duration": 91,
    "start_time": "2023-02-19T17:16:27.619Z"
   },
   {
    "duration": 10008,
    "start_time": "2023-02-19T17:16:27.712Z"
   },
   {
    "duration": 1773,
    "start_time": "2023-02-20T19:59:21.399Z"
   },
   {
    "duration": 3087,
    "start_time": "2023-02-20T19:59:23.174Z"
   },
   {
    "duration": 19,
    "start_time": "2023-02-20T19:59:26.264Z"
   },
   {
    "duration": 171,
    "start_time": "2023-02-20T19:59:26.286Z"
   },
   {
    "duration": 144,
    "start_time": "2023-02-20T19:59:26.460Z"
   },
   {
    "duration": 51,
    "start_time": "2023-02-20T19:59:26.607Z"
   },
   {
    "duration": 7501,
    "start_time": "2023-02-20T19:59:29.188Z"
   },
   {
    "duration": 8476,
    "start_time": "2023-02-20T19:59:36.692Z"
   },
   {
    "duration": 84,
    "start_time": "2023-02-20T19:59:45.171Z"
   },
   {
    "duration": 62,
    "start_time": "2023-02-20T19:59:45.259Z"
   },
   {
    "duration": 62,
    "start_time": "2023-02-20T19:59:45.322Z"
   },
   {
    "duration": 94,
    "start_time": "2023-02-20T20:11:55.256Z"
   },
   {
    "duration": 89,
    "start_time": "2023-02-20T20:11:56.442Z"
   },
   {
    "duration": 36,
    "start_time": "2023-02-20T20:12:02.868Z"
   },
   {
    "duration": 30,
    "start_time": "2023-02-20T20:16:45.373Z"
   },
   {
    "duration": 1429,
    "start_time": "2023-02-20T20:19:37.176Z"
   },
   {
    "duration": 947,
    "start_time": "2023-02-20T20:19:38.608Z"
   },
   {
    "duration": 18,
    "start_time": "2023-02-20T20:19:39.557Z"
   },
   {
    "duration": 166,
    "start_time": "2023-02-20T20:19:39.578Z"
   },
   {
    "duration": 143,
    "start_time": "2023-02-20T20:19:39.746Z"
   },
   {
    "duration": 55,
    "start_time": "2023-02-20T20:19:39.890Z"
   },
   {
    "duration": 7332,
    "start_time": "2023-02-20T20:19:39.947Z"
   },
   {
    "duration": 7746,
    "start_time": "2023-02-20T20:19:47.281Z"
   },
   {
    "duration": 77,
    "start_time": "2023-02-20T20:19:55.029Z"
   },
   {
    "duration": 68,
    "start_time": "2023-02-20T20:19:55.110Z"
   },
   {
    "duration": 48,
    "start_time": "2023-02-20T20:19:55.180Z"
   },
   {
    "duration": 116,
    "start_time": "2023-02-20T20:19:55.237Z"
   },
   {
    "duration": 46,
    "start_time": "2023-02-20T20:19:55.355Z"
   },
   {
    "duration": 39,
    "start_time": "2023-02-20T20:19:55.403Z"
   },
   {
    "duration": 54,
    "start_time": "2023-02-20T20:19:55.450Z"
   },
   {
    "duration": 309,
    "start_time": "2023-02-20T20:19:55.505Z"
   },
   {
    "duration": 35,
    "start_time": "2023-02-20T20:19:55.816Z"
   },
   {
    "duration": 27,
    "start_time": "2023-02-20T20:19:55.853Z"
   },
   {
    "duration": 975,
    "start_time": "2023-02-20T20:19:55.881Z"
   },
   {
    "duration": 12,
    "start_time": "2023-02-20T20:19:56.858Z"
   },
   {
    "duration": 85,
    "start_time": "2023-02-20T20:19:56.871Z"
   },
   {
    "duration": 71,
    "start_time": "2023-02-20T20:19:56.958Z"
   },
   {
    "duration": 89,
    "start_time": "2023-02-20T20:19:57.036Z"
   },
   {
    "duration": 4,
    "start_time": "2023-02-20T20:19:57.127Z"
   },
   {
    "duration": 31,
    "start_time": "2023-02-20T20:19:57.137Z"
   },
   {
    "duration": 478,
    "start_time": "2023-02-20T20:19:57.170Z"
   },
   {
    "duration": 4,
    "start_time": "2023-02-20T20:19:57.650Z"
   },
   {
    "duration": 2815894,
    "start_time": "2023-02-20T20:19:57.657Z"
   },
   {
    "duration": 231295,
    "start_time": "2023-02-20T21:06:53.552Z"
   },
   {
    "duration": 4,
    "start_time": "2023-02-20T21:10:44.849Z"
   },
   {
    "duration": 2784,
    "start_time": "2023-02-20T21:10:44.854Z"
   },
   {
    "duration": 6,
    "start_time": "2023-02-20T21:10:47.641Z"
   },
   {
    "duration": 741188,
    "start_time": "2023-02-20T21:10:47.650Z"
   },
   {
    "duration": 43007,
    "start_time": "2023-02-20T21:23:08.840Z"
   },
   {
    "duration": 4,
    "start_time": "2023-02-20T21:23:51.850Z"
   },
   {
    "duration": 6586,
    "start_time": "2023-02-20T21:23:51.856Z"
   },
   {
    "duration": 43505,
    "start_time": "2023-02-20T21:32:24.335Z"
   },
   {
    "duration": 6796,
    "start_time": "2023-02-20T21:33:07.842Z"
   },
   {
    "duration": 7,
    "start_time": "2023-02-20T21:44:58.604Z"
   },
   {
    "duration": 2615,
    "start_time": "2023-02-20T21:45:01.140Z"
   },
   {
    "duration": 2759,
    "start_time": "2023-02-20T21:45:11.286Z"
   },
   {
    "duration": 1419,
    "start_time": "2023-02-20T21:58:45.685Z"
   },
   {
    "duration": 1009,
    "start_time": "2023-02-20T21:58:47.106Z"
   },
   {
    "duration": 18,
    "start_time": "2023-02-20T21:58:48.116Z"
   },
   {
    "duration": 139,
    "start_time": "2023-02-20T21:58:48.138Z"
   },
   {
    "duration": 123,
    "start_time": "2023-02-20T21:58:48.279Z"
   },
   {
    "duration": 58,
    "start_time": "2023-02-20T21:58:48.405Z"
   },
   {
    "duration": 6509,
    "start_time": "2023-02-20T21:58:48.465Z"
   },
   {
    "duration": 7301,
    "start_time": "2023-02-20T21:58:54.977Z"
   },
   {
    "duration": 68,
    "start_time": "2023-02-20T21:59:02.280Z"
   },
   {
    "duration": 56,
    "start_time": "2023-02-20T21:59:02.351Z"
   },
   {
    "duration": 66,
    "start_time": "2023-02-20T21:59:02.409Z"
   },
   {
    "duration": 100,
    "start_time": "2023-02-20T21:59:02.477Z"
   },
   {
    "duration": 46,
    "start_time": "2023-02-20T21:59:02.579Z"
   },
   {
    "duration": 35,
    "start_time": "2023-02-20T21:59:02.626Z"
   },
   {
    "duration": 49,
    "start_time": "2023-02-20T21:59:02.662Z"
   },
   {
    "duration": 326,
    "start_time": "2023-02-20T21:59:02.713Z"
   },
   {
    "duration": 25,
    "start_time": "2023-02-20T21:59:03.041Z"
   },
   {
    "duration": 27,
    "start_time": "2023-02-20T21:59:03.068Z"
   },
   {
    "duration": 921,
    "start_time": "2023-02-20T21:59:03.097Z"
   },
   {
    "duration": 17,
    "start_time": "2023-02-20T21:59:04.020Z"
   },
   {
    "duration": 68,
    "start_time": "2023-02-20T21:59:04.039Z"
   },
   {
    "duration": 80,
    "start_time": "2023-02-20T21:59:04.108Z"
   },
   {
    "duration": 90,
    "start_time": "2023-02-20T21:59:04.190Z"
   },
   {
    "duration": 4,
    "start_time": "2023-02-20T21:59:04.282Z"
   },
   {
    "duration": 36,
    "start_time": "2023-02-20T21:59:04.288Z"
   },
   {
    "duration": 456,
    "start_time": "2023-02-20T21:59:04.326Z"
   },
   {
    "duration": 5,
    "start_time": "2023-02-20T21:59:04.783Z"
   },
   {
    "duration": 2684040,
    "start_time": "2023-02-20T21:59:04.791Z"
   },
   {
    "duration": 7,
    "start_time": "2023-02-20T22:43:48.833Z"
   },
   {
    "duration": 2710,
    "start_time": "2023-02-20T22:43:48.841Z"
   },
   {
    "duration": 85,
    "start_time": "2023-02-20T22:43:51.553Z"
   },
   {
    "duration": 803640,
    "start_time": "2023-02-20T22:43:51.640Z"
   },
   {
    "duration": 55,
    "start_time": "2023-02-20T22:57:15.282Z"
   },
   {
    "duration": 6211,
    "start_time": "2023-02-20T22:57:15.339Z"
   },
   {
    "duration": 0,
    "start_time": "2023-02-20T22:57:21.719Z"
   },
   {
    "duration": 12,
    "start_time": "2023-02-20T22:58:15.513Z"
   },
   {
    "duration": 58,
    "start_time": "2023-02-20T22:58:46.123Z"
   }
  ],
  "kernelspec": {
   "display_name": "Python 3 (ipykernel)",
   "language": "python",
   "name": "python3"
  },
  "language_info": {
   "codemirror_mode": {
    "name": "ipython",
    "version": 3
   },
   "file_extension": ".py",
   "mimetype": "text/x-python",
   "name": "python",
   "nbconvert_exporter": "python",
   "pygments_lexer": "ipython3",
   "version": "3.9.5"
  },
  "toc": {
   "base_numbering": 1,
   "nav_menu": {},
   "number_sections": true,
   "sideBar": true,
   "skip_h1_title": true,
   "title_cell": "Table of Contents",
   "title_sidebar": "Contents",
   "toc_cell": false,
   "toc_position": {},
   "toc_section_display": true,
   "toc_window_display": false
  }
 },
 "nbformat": 4,
 "nbformat_minor": 2
}
