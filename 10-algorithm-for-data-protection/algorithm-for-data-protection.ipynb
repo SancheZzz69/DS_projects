{
 "cells": [
  {
   "cell_type": "markdown",
   "metadata": {},
   "source": [
    "# Защита персональных данных клиентов"
   ]
  },
  {
   "cell_type": "markdown",
   "metadata": {},
   "source": [
    "Нам нужно защитить данные клиентов страховой компании «Хоть потоп».\n",
    "\n",
    "В ходе проекта мы должны разработать такой метод преобразования данных, чтобы по ним было сложно восстановить персональную информацию.\n",
    "\n",
    "Нужно защитить данные, чтобы при преобразовании качество моделей машинного обучения не ухудшилось."
   ]
  },
  {
   "cell_type": "markdown",
   "metadata": {},
   "source": [
    "## Загрузка данных"
   ]
  },
  {
   "cell_type": "code",
   "execution_count": 1,
   "metadata": {},
   "outputs": [],
   "source": [
    "import pandas as pd\n",
    "import numpy as np\n",
    "\n",
    "from sklearn.linear_model import LinearRegression\n",
    "from sklearn.metrics import mean_squared_error\n",
    "from sklearn.metrics import r2_score\n",
    "from sklearn.model_selection import train_test_split"
   ]
  },
  {
   "cell_type": "code",
   "execution_count": 2,
   "metadata": {},
   "outputs": [],
   "source": [
    "data = pd.read_csv('insurance.csv')"
   ]
  },
  {
   "cell_type": "code",
   "execution_count": 3,
   "metadata": {},
   "outputs": [
    {
     "data": {
      "text/html": [
       "<div>\n",
       "<style scoped>\n",
       "    .dataframe tbody tr th:only-of-type {\n",
       "        vertical-align: middle;\n",
       "    }\n",
       "\n",
       "    .dataframe tbody tr th {\n",
       "        vertical-align: top;\n",
       "    }\n",
       "\n",
       "    .dataframe thead th {\n",
       "        text-align: right;\n",
       "    }\n",
       "</style>\n",
       "<table border=\"1\" class=\"dataframe\">\n",
       "  <thead>\n",
       "    <tr style=\"text-align: right;\">\n",
       "      <th></th>\n",
       "      <th>Пол</th>\n",
       "      <th>Возраст</th>\n",
       "      <th>Зарплата</th>\n",
       "      <th>Члены семьи</th>\n",
       "      <th>Страховые выплаты</th>\n",
       "    </tr>\n",
       "  </thead>\n",
       "  <tbody>\n",
       "    <tr>\n",
       "      <th>0</th>\n",
       "      <td>1</td>\n",
       "      <td>41.0</td>\n",
       "      <td>49600.0</td>\n",
       "      <td>1</td>\n",
       "      <td>0</td>\n",
       "    </tr>\n",
       "    <tr>\n",
       "      <th>1</th>\n",
       "      <td>0</td>\n",
       "      <td>46.0</td>\n",
       "      <td>38000.0</td>\n",
       "      <td>1</td>\n",
       "      <td>1</td>\n",
       "    </tr>\n",
       "    <tr>\n",
       "      <th>2</th>\n",
       "      <td>0</td>\n",
       "      <td>29.0</td>\n",
       "      <td>21000.0</td>\n",
       "      <td>0</td>\n",
       "      <td>0</td>\n",
       "    </tr>\n",
       "    <tr>\n",
       "      <th>3</th>\n",
       "      <td>0</td>\n",
       "      <td>21.0</td>\n",
       "      <td>41700.0</td>\n",
       "      <td>2</td>\n",
       "      <td>0</td>\n",
       "    </tr>\n",
       "    <tr>\n",
       "      <th>4</th>\n",
       "      <td>1</td>\n",
       "      <td>28.0</td>\n",
       "      <td>26100.0</td>\n",
       "      <td>0</td>\n",
       "      <td>0</td>\n",
       "    </tr>\n",
       "  </tbody>\n",
       "</table>\n",
       "</div>"
      ],
      "text/plain": [
       "   Пол  Возраст  Зарплата  Члены семьи  Страховые выплаты\n",
       "0    1     41.0   49600.0            1                  0\n",
       "1    0     46.0   38000.0            1                  1\n",
       "2    0     29.0   21000.0            0                  0\n",
       "3    0     21.0   41700.0            2                  0\n",
       "4    1     28.0   26100.0            0                  0"
      ]
     },
     "execution_count": 3,
     "metadata": {},
     "output_type": "execute_result"
    }
   ],
   "source": [
    "data.head(5)"
   ]
  },
  {
   "cell_type": "code",
   "execution_count": 4,
   "metadata": {
    "scrolled": true
   },
   "outputs": [
    {
     "name": "stdout",
     "output_type": "stream",
     "text": [
      "<class 'pandas.core.frame.DataFrame'>\n",
      "RangeIndex: 5000 entries, 0 to 4999\n",
      "Data columns (total 5 columns):\n",
      " #   Column             Non-Null Count  Dtype  \n",
      "---  ------             --------------  -----  \n",
      " 0   Пол                5000 non-null   int64  \n",
      " 1   Возраст            5000 non-null   float64\n",
      " 2   Зарплата           5000 non-null   float64\n",
      " 3   Члены семьи        5000 non-null   int64  \n",
      " 4   Страховые выплаты  5000 non-null   int64  \n",
      "dtypes: float64(2), int64(3)\n",
      "memory usage: 195.4 KB\n"
     ]
    }
   ],
   "source": [
    "data.info()"
   ]
  },
  {
   "cell_type": "code",
   "execution_count": 5,
   "metadata": {},
   "outputs": [
    {
     "data": {
      "text/html": [
       "<div>\n",
       "<style scoped>\n",
       "    .dataframe tbody tr th:only-of-type {\n",
       "        vertical-align: middle;\n",
       "    }\n",
       "\n",
       "    .dataframe tbody tr th {\n",
       "        vertical-align: top;\n",
       "    }\n",
       "\n",
       "    .dataframe thead th {\n",
       "        text-align: right;\n",
       "    }\n",
       "</style>\n",
       "<table border=\"1\" class=\"dataframe\">\n",
       "  <thead>\n",
       "    <tr style=\"text-align: right;\">\n",
       "      <th></th>\n",
       "      <th>Пол</th>\n",
       "      <th>Возраст</th>\n",
       "      <th>Зарплата</th>\n",
       "      <th>Члены семьи</th>\n",
       "      <th>Страховые выплаты</th>\n",
       "    </tr>\n",
       "  </thead>\n",
       "  <tbody>\n",
       "    <tr>\n",
       "      <th>count</th>\n",
       "      <td>5000.000000</td>\n",
       "      <td>5000.000000</td>\n",
       "      <td>5000.000000</td>\n",
       "      <td>5000.000000</td>\n",
       "      <td>5000.000000</td>\n",
       "    </tr>\n",
       "    <tr>\n",
       "      <th>mean</th>\n",
       "      <td>0.499000</td>\n",
       "      <td>30.952800</td>\n",
       "      <td>39916.360000</td>\n",
       "      <td>1.194200</td>\n",
       "      <td>0.148000</td>\n",
       "    </tr>\n",
       "    <tr>\n",
       "      <th>std</th>\n",
       "      <td>0.500049</td>\n",
       "      <td>8.440807</td>\n",
       "      <td>9900.083569</td>\n",
       "      <td>1.091387</td>\n",
       "      <td>0.463183</td>\n",
       "    </tr>\n",
       "    <tr>\n",
       "      <th>min</th>\n",
       "      <td>0.000000</td>\n",
       "      <td>18.000000</td>\n",
       "      <td>5300.000000</td>\n",
       "      <td>0.000000</td>\n",
       "      <td>0.000000</td>\n",
       "    </tr>\n",
       "    <tr>\n",
       "      <th>25%</th>\n",
       "      <td>0.000000</td>\n",
       "      <td>24.000000</td>\n",
       "      <td>33300.000000</td>\n",
       "      <td>0.000000</td>\n",
       "      <td>0.000000</td>\n",
       "    </tr>\n",
       "    <tr>\n",
       "      <th>50%</th>\n",
       "      <td>0.000000</td>\n",
       "      <td>30.000000</td>\n",
       "      <td>40200.000000</td>\n",
       "      <td>1.000000</td>\n",
       "      <td>0.000000</td>\n",
       "    </tr>\n",
       "    <tr>\n",
       "      <th>75%</th>\n",
       "      <td>1.000000</td>\n",
       "      <td>37.000000</td>\n",
       "      <td>46600.000000</td>\n",
       "      <td>2.000000</td>\n",
       "      <td>0.000000</td>\n",
       "    </tr>\n",
       "    <tr>\n",
       "      <th>max</th>\n",
       "      <td>1.000000</td>\n",
       "      <td>65.000000</td>\n",
       "      <td>79000.000000</td>\n",
       "      <td>6.000000</td>\n",
       "      <td>5.000000</td>\n",
       "    </tr>\n",
       "  </tbody>\n",
       "</table>\n",
       "</div>"
      ],
      "text/plain": [
       "               Пол      Возраст      Зарплата  Члены семьи  Страховые выплаты\n",
       "count  5000.000000  5000.000000   5000.000000  5000.000000        5000.000000\n",
       "mean      0.499000    30.952800  39916.360000     1.194200           0.148000\n",
       "std       0.500049     8.440807   9900.083569     1.091387           0.463183\n",
       "min       0.000000    18.000000   5300.000000     0.000000           0.000000\n",
       "25%       0.000000    24.000000  33300.000000     0.000000           0.000000\n",
       "50%       0.000000    30.000000  40200.000000     1.000000           0.000000\n",
       "75%       1.000000    37.000000  46600.000000     2.000000           0.000000\n",
       "max       1.000000    65.000000  79000.000000     6.000000           5.000000"
      ]
     },
     "execution_count": 5,
     "metadata": {},
     "output_type": "execute_result"
    }
   ],
   "source": [
    "data.describe()"
   ]
  },
  {
   "cell_type": "markdown",
   "metadata": {},
   "source": [
    "Исходя из `describe()` аномальных значений не наблюдается."
   ]
  },
  {
   "cell_type": "code",
   "execution_count": 6,
   "metadata": {},
   "outputs": [],
   "source": [
    "data['Возраст'] = data['Возраст'].astype('int64')"
   ]
  },
  {
   "cell_type": "markdown",
   "metadata": {},
   "source": [
    "Данные полные, всё замечательно, за исключением типа данных в столбце \"возраст\". Мы сменили тип с `float64` на `int64`, так как возраст чаще используют в виде целых чисел."
   ]
  },
  {
   "cell_type": "markdown",
   "source": [
    "## Умножение матриц"
   ],
   "metadata": {
    "collapsed": false
   }
  },
  {
   "cell_type": "markdown",
   "source": [
    "Обозначения:\n",
    "\n",
    "- $X$ — матрица признаков (нулевой столбец состоит из единиц)\n",
    "\n",
    "- $y$ — вектор целевого признака\n",
    "\n",
    "- $P$ — матрица, на которую умножаются признаки\n",
    "\n",
    "- $w$ — вектор весов линейной регрессии (нулевой элемент равен сдвигу)"
   ],
   "metadata": {
    "collapsed": false
   }
  },
  {
   "cell_type": "markdown",
   "source": [
    "Предсказания:\n",
    "\n",
    "$$\n",
    "a = Xw\n",
    "$$\n",
    "\n",
    "Задача обучения:\n",
    "\n",
    "$$\n",
    "w = \\arg\\min_w MSE(Xw, y)\n",
    "$$\n",
    "\n",
    "Формула обучения:\n",
    "\n",
    "$$\n",
    "w = (X^T X)^{-1} X^T y\n",
    "$$"
   ],
   "metadata": {
    "collapsed": false
   }
  },
  {
   "cell_type": "markdown",
   "source": [
    "**Доказательство:**\n",
    "Пусть $X_1 = XP$, где $X$ - исходная матрица признаков, а $P$ - обратимая матрица, на которую перемножаются признаки.\n",
    "\n",
    "Начнём с выражения:\n",
    "\n",
    "$w_1 = ((X_1)^T X_1)^{-1} (X_1)^T y$\n",
    "\n",
    "Подставим $XP$ вместо $X_1$:\n",
    "\n",
    "$w_1 = ((XP)^T (XP))^{-1} (XP)^T y$\n",
    "\n",
    "Используем формулу для транспонирования произведения матриц:\n",
    "\n",
    "$w_1 = (P^T X^T (XP))^{-1} P^T X^T y$\n",
    "\n",
    "После воспользуемся сочетательным свойством и вынесем $P^{-1}$ за скобки, после чего воспользуемся свойством ассоциативности и внесём $X^T$ $X$ под одну скобку:\n",
    "\n",
    "$w_1 = P^{-1}(P^T (X^T X))^{-1} P^T X^T y$\n",
    "\n",
    "Вынесем $P^T$ за скобки, после чего воспользуемся свойством $A^{-1}A = E$:\n",
    "\n",
    "$w_1 = P^{-1}(X^T X)^{-1} (P^T)^{-1} P^T X^T y$\n",
    "\n",
    "$= P^{-1}(X^T X)^{-1}X^T y$\n",
    "\n",
    "Теперь выразим $a_1$:\n",
    "\n",
    "$a_1 = XP w_1$\n",
    "\n",
    "$a_1 = XP P^{-1}(X^T X)^{-1}X^T y = X(X^T X)^{-1}X^T y = Xw = a$\n",
    "\n",
    "Таким образом, мы доказали, что $a_1 = a$.\n",
    "\n",
    "В итоге, мы можем сделать вывод, что умножение признаков на обратимую матрицу не изменит качество линейной регрессии, так как задача обучения и предсказания остаются неизменными."
   ],
   "metadata": {
    "collapsed": false
   }
  },
  {
   "cell_type": "code",
   "execution_count": 7,
   "metadata": {},
   "outputs": [],
   "source": [
    "X = data.drop('Страховые выплаты', axis=1)\n",
    "y = data['Страховые выплаты']"
   ]
  },
  {
   "cell_type": "markdown",
   "metadata": {},
   "source": [
    "Достаём фичи и трейны"
   ]
  },
  {
   "cell_type": "code",
   "execution_count": 8,
   "metadata": {},
   "outputs": [],
   "source": [
    "reg = LinearRegression().fit(X, y)\n",
    "y_pred = reg.predict(X)\n",
    "mse_orig = mean_squared_error(y, y_pred)"
   ]
  },
  {
   "cell_type": "markdown",
   "metadata": {},
   "source": [
    "Обучаем линейную регрессию на изначальных данных, после чего выполняем предикт и вычисляем MSE (также на изначальных данных)."
   ]
  },
  {
   "cell_type": "code",
   "execution_count": 9,
   "metadata": {},
   "outputs": [],
   "source": [
    "P = np.array([[2, 0, 0, 0], [0, 2, 0, 0], [0, 0, 2, 0], [0, 0, 0, 2]])\n",
    "X_converted = X @ P"
   ]
  },
  {
   "cell_type": "markdown",
   "metadata": {},
   "source": [
    "Конвертируем фичи, умножая на обратимую матрицу"
   ]
  },
  {
   "cell_type": "code",
   "execution_count": 10,
   "metadata": {},
   "outputs": [],
   "source": [
    "reg_converted = LinearRegression().fit(X_converted, y)\n",
    "y_pred_converted = reg_converted.predict(X_converted)\n",
    "mse_converted = mean_squared_error(y, y_pred_converted)"
   ]
  },
  {
   "cell_type": "markdown",
   "metadata": {},
   "source": [
    "Обучаем линейную регрессию на преобразованных данных, после чего выполняем предикт и вычисляем MSE (также на преобразованных данных)."
   ]
  },
  {
   "cell_type": "code",
   "execution_count": 11,
   "metadata": {},
   "outputs": [
    {
     "name": "stdout",
     "output_type": "stream",
     "text": [
      "MSE изначальных фичей: 0.12334688941710859\n",
      "MSE конвертированных фичей: 0.12334688941710859\n"
     ]
    }
   ],
   "source": [
    "print(f\"MSE изначальных фичей: {mse_orig}\")\n",
    "print(f\"MSE конвертированных фичей: {mse_converted}\")"
   ]
  },
  {
   "cell_type": "code",
   "execution_count": 12,
   "metadata": {},
   "outputs": [
    {
     "name": "stdout",
     "output_type": "stream",
     "text": [
      "MSE равны\n"
     ]
    }
   ],
   "source": [
    "if mse_orig == mse_converted:\n",
    "    print('MSE равны')\n",
    "else:\n",
    "    print('MSE не равны')"
   ]
  },
  {
   "cell_type": "markdown",
   "metadata": {},
   "source": [
    "Получается, что MSE - равны. Доказательство оказалось верным."
   ]
  },
  {
   "cell_type": "markdown",
   "metadata": {},
   "source": [
    "## Алгоритм преобразования"
   ]
  },
  {
   "cell_type": "markdown",
   "metadata": {},
   "source": [
    "**Алгоритм**\n",
    "\n",
    "Одним из распространенных способов защиты данных клиентов является использование техники, называемой обфускацией (или маскировкой) данных. Целью обфускации данных является преобразование исходных данных в их новое представление, которое затрудняет восстановление исходной информации, сохраняя при этом качество моделей машинного обучения.\n",
    "\n",
    "Одним из возможных алгоритмов обфускации данных является использование случайного вращения (random rotation). Идея заключается в том, чтобы развернуть исходные данные в n-размерном пространстве с помощью матрицы случайного вращения, так что точки исходных данных оказываются разбросанными в пространстве, и исходную информацию становится трудно восстановить.     "
   ]
  },
  {
   "cell_type": "markdown",
   "metadata": {},
   "source": [
    "**Обоснование**\n",
    "\n",
    "Чтобы обосновать, почему качество линейной регрессии не изменится после преобразования данных, мы можем использовать свойство линейной регрессии - ее инвариантность к линейным преобразованиям признаков. Это означает, что если мы умножим признаки на невырожденную матрицу, параметры модели линейной регрессии изменятся, но качество предсказания останется прежним.\n",
    "\n",
    "Чтобы проверить это, мы можем обучить линейную регрессионную модель на исходных данных и на защищенных данных и сравнить их среднеквадратичную ошибку (MSE) на валидационной выборке. Если MSE для обеих моделей одинаковое или близкое, можно сделать вывод, что качество линейной регрессии не изменилось."
   ]
  },
  {
   "cell_type": "markdown",
   "metadata": {},
   "source": [
    "## Проверка алгоритма"
   ]
  },
  {
   "cell_type": "code",
   "execution_count": 13,
   "metadata": {},
   "outputs": [],
   "source": [
    "def random_rotation_matrix(n_features):\n",
    "    while True:\n",
    "        A = np.random.rand(n_features, n_features)\n",
    "        Q, R = np.linalg.qr(A)\n",
    "        det = np.linalg.det(Q)\n",
    "        if det == 0:\n",
    "            continue\n",
    "        if det < 0:\n",
    "            Q[:, 0] *= -1\n",
    "        break\n",
    "    return Q"
   ]
  },
  {
   "cell_type": "markdown",
   "metadata": {},
   "source": [
    "Функция `linalg.qr()` выполняет QR-разложение матрицы.\n",
    "\n",
    "Данное разложение позволяет представить матрицу A в виде произведения QR, где Q - это ортогональная (унитарная) матрица, а R - это верхнетреугольная матрица. Нам нужна как раз ортогональная матрица.     \n",
    "\n",
    "Не стоит забывать, что матрица обратима тогда и только тогда, когда она невырождена, то есть её определитель не равен нулю. Значит, если мы получим матрицу с определителем, равным 0, мы просто создадим новую матрицу. А если же определитель будет отрицательным, то умножим первый столбец матрицы на -1, вследствие чего знак определителя изменится."
   ]
  },
  {
   "cell_type": "code",
   "execution_count": 14,
   "metadata": {},
   "outputs": [],
   "source": [
    "rrm = random_rotation_matrix(X.shape[1])\n",
    "X_protected = X @ rrm"
   ]
  },
  {
   "cell_type": "markdown",
   "metadata": {},
   "source": [
    "Получаем защищенную матрицу"
   ]
  },
  {
   "cell_type": "code",
   "execution_count": 15,
   "metadata": {},
   "outputs": [],
   "source": [
    "X_train, X_val, y_train, y_val = train_test_split(X, y, test_size=0.4, random_state=222)"
   ]
  },
  {
   "cell_type": "code",
   "execution_count": 16,
   "metadata": {},
   "outputs": [],
   "source": [
    "X_protected_train, X_protected_val, y_train_prot, y_val_prot = train_test_split(X_protected, y, test_size=0.4, random_state=222)"
   ]
  },
  {
   "cell_type": "markdown",
   "metadata": {},
   "source": [
    "Делим на валидационные и обучающие выборки"
   ]
  },
  {
   "cell_type": "code",
   "execution_count": 17,
   "metadata": {},
   "outputs": [
    {
     "name": "stdout",
     "output_type": "stream",
     "text": [
      "R2 модели с изначальными данными: 0.39814449127172713\n",
      "R2 модели с защищенными данными: 0.39814449127182083\n"
     ]
    }
   ],
   "source": [
    "model_original = LinearRegression().fit(X_train, y_train)\n",
    "y_pred_original = model_original.predict(X_val)\n",
    "r2_original = r2_score(y_val, y_pred_original)\n",
    "\n",
    "model_protected = LinearRegression().fit(X_protected_train, y_train)\n",
    "y_pred_protected = model_protected.predict(X_protected_val)\n",
    "r2_protected = r2_score(y_val, y_pred_protected)\n",
    "\n",
    "print(\"R2 модели с изначальными данными:\", r2_original)\n",
    "print(\"R2 модели с защищенными данными:\", r2_protected)"
   ]
  },
  {
   "cell_type": "markdown",
   "metadata": {},
   "source": [
    "Обучаем модель на изначальных данных, после чего на защищенных и сравниваем R2 обеих моделей."
   ]
  },
  {
   "cell_type": "markdown",
   "metadata": {},
   "source": [
    "Мы показали, что преобразование исходных признаков линейной регрессионной модели необязательно приводит к изменению качества модели, измеряемого при помощи MSE или R2. Это связано с тем, что умножение признаков на невырожденую матрицу не изменит линейную связь между признаками и целевым признаком. Поэтому можно использовать эту технику преобразования для защиты конфиденциальных данных клиентов, сохраняя при этом качество моделей машинного обучения."
   ]
  }
 ],
 "metadata": {
  "ExecuteTimeLog": [
   {
    "duration": 483,
    "start_time": "2023-02-08T09:32:05.748Z"
   },
   {
    "duration": 122,
    "start_time": "2023-02-08T09:32:26.081Z"
   },
   {
    "duration": 23,
    "start_time": "2023-02-08T09:32:35.620Z"
   },
   {
    "duration": 14,
    "start_time": "2023-02-08T09:32:41.311Z"
   },
   {
    "duration": 6,
    "start_time": "2023-02-08T09:33:05.178Z"
   },
   {
    "duration": 6,
    "start_time": "2023-02-08T10:07:26.881Z"
   },
   {
    "duration": 4,
    "start_time": "2023-02-08T10:08:18.105Z"
   },
   {
    "duration": 4,
    "start_time": "2023-02-08T10:08:20.950Z"
   },
   {
    "duration": 4,
    "start_time": "2023-02-08T10:09:08.640Z"
   },
   {
    "duration": 20,
    "start_time": "2023-02-08T10:09:55.528Z"
   },
   {
    "duration": 29,
    "start_time": "2023-02-08T10:10:37.836Z"
   },
   {
    "duration": 432,
    "start_time": "2023-02-08T10:10:44.750Z"
   },
   {
    "duration": 29,
    "start_time": "2023-02-08T10:10:45.185Z"
   },
   {
    "duration": 20,
    "start_time": "2023-02-08T10:10:45.215Z"
   },
   {
    "duration": 12,
    "start_time": "2023-02-08T10:10:45.237Z"
   },
   {
    "duration": 41,
    "start_time": "2023-02-08T10:10:45.251Z"
   },
   {
    "duration": 7,
    "start_time": "2023-02-08T10:10:45.294Z"
   },
   {
    "duration": 4,
    "start_time": "2023-02-08T10:10:45.303Z"
   },
   {
    "duration": 9,
    "start_time": "2023-02-08T10:10:45.309Z"
   },
   {
    "duration": 11,
    "start_time": "2023-02-08T10:10:45.319Z"
   },
   {
    "duration": 113,
    "start_time": "2023-02-08T10:10:45.354Z"
   },
   {
    "duration": 4,
    "start_time": "2023-02-08T10:11:33.912Z"
   },
   {
    "duration": 8,
    "start_time": "2023-02-08T10:11:42.484Z"
   },
   {
    "duration": 3,
    "start_time": "2023-02-08T10:27:29.131Z"
   },
   {
    "duration": 83,
    "start_time": "2023-02-08T10:28:16.846Z"
   },
   {
    "duration": 873,
    "start_time": "2023-02-08T10:28:26.988Z"
   },
   {
    "duration": 13,
    "start_time": "2023-02-08T10:28:38.885Z"
   },
   {
    "duration": 18,
    "start_time": "2023-02-08T10:28:44.143Z"
   },
   {
    "duration": 6,
    "start_time": "2023-02-08T10:28:51.236Z"
   },
   {
    "duration": 3,
    "start_time": "2023-02-08T10:28:56.216Z"
   },
   {
    "duration": 1480,
    "start_time": "2023-02-08T10:33:59.102Z"
   },
   {
    "duration": 39,
    "start_time": "2023-02-08T10:34:00.592Z"
   },
   {
    "duration": 105,
    "start_time": "2023-02-08T10:34:00.634Z"
   },
   {
    "duration": 30,
    "start_time": "2023-02-08T10:34:00.741Z"
   },
   {
    "duration": 68,
    "start_time": "2023-02-08T10:34:00.780Z"
   },
   {
    "duration": 75,
    "start_time": "2023-02-08T10:34:00.850Z"
   },
   {
    "duration": 10,
    "start_time": "2023-02-08T10:34:00.927Z"
   },
   {
    "duration": 87,
    "start_time": "2023-02-08T10:34:00.939Z"
   },
   {
    "duration": 16,
    "start_time": "2023-02-08T10:34:01.028Z"
   },
   {
    "duration": 128,
    "start_time": "2023-02-08T10:34:01.046Z"
   },
   {
    "duration": 20,
    "start_time": "2023-02-08T10:34:01.201Z"
   },
   {
    "duration": 189,
    "start_time": "2023-02-08T10:34:01.263Z"
   },
   {
    "duration": 7,
    "start_time": "2023-02-08T10:34:05.749Z"
   },
   {
    "duration": 1241,
    "start_time": "2023-02-08T10:37:10.241Z"
   },
   {
    "duration": 47,
    "start_time": "2023-02-08T10:37:11.484Z"
   },
   {
    "duration": 32,
    "start_time": "2023-02-08T10:37:11.533Z"
   },
   {
    "duration": 54,
    "start_time": "2023-02-08T10:37:11.568Z"
   },
   {
    "duration": 7,
    "start_time": "2023-02-08T10:37:11.624Z"
   },
   {
    "duration": 12,
    "start_time": "2023-02-08T10:37:11.633Z"
   },
   {
    "duration": 61,
    "start_time": "2023-02-08T10:37:11.647Z"
   },
   {
    "duration": 16,
    "start_time": "2023-02-08T10:37:11.710Z"
   },
   {
    "duration": 133,
    "start_time": "2023-02-08T10:37:11.763Z"
   },
   {
    "duration": 13,
    "start_time": "2023-02-08T10:37:11.900Z"
   },
   {
    "duration": 10,
    "start_time": "2023-02-08T10:37:11.915Z"
   },
   {
    "duration": 11,
    "start_time": "2023-02-08T10:37:11.927Z"
   },
   {
    "duration": 154,
    "start_time": "2023-02-08T10:37:11.940Z"
   },
   {
    "duration": 11,
    "start_time": "2023-02-08T10:37:12.102Z"
   },
   {
    "duration": 4,
    "start_time": "2023-02-08T10:38:20.213Z"
   },
   {
    "duration": 5,
    "start_time": "2023-02-08T10:38:30.736Z"
   },
   {
    "duration": 90,
    "start_time": "2023-02-08T10:39:25.150Z"
   },
   {
    "duration": 5,
    "start_time": "2023-02-08T10:39:27.925Z"
   },
   {
    "duration": 25,
    "start_time": "2023-02-08T10:39:49.975Z"
   },
   {
    "duration": 13,
    "start_time": "2023-02-08T10:39:52.692Z"
   },
   {
    "duration": 10,
    "start_time": "2023-02-08T10:41:46.596Z"
   },
   {
    "duration": 1482,
    "start_time": "2023-02-08T10:42:56.850Z"
   },
   {
    "duration": 51,
    "start_time": "2023-02-08T10:42:58.336Z"
   },
   {
    "duration": 31,
    "start_time": "2023-02-08T10:42:58.395Z"
   },
   {
    "duration": 42,
    "start_time": "2023-02-08T10:42:58.434Z"
   },
   {
    "duration": 102,
    "start_time": "2023-02-08T10:42:58.481Z"
   },
   {
    "duration": 44,
    "start_time": "2023-02-08T10:42:58.589Z"
   },
   {
    "duration": 66,
    "start_time": "2023-02-08T10:42:58.639Z"
   },
   {
    "duration": 166,
    "start_time": "2023-02-08T10:42:58.709Z"
   },
   {
    "duration": 22,
    "start_time": "2023-02-08T10:42:58.881Z"
   },
   {
    "duration": 28,
    "start_time": "2023-02-08T10:42:58.907Z"
   },
   {
    "duration": 52,
    "start_time": "2023-02-08T10:42:58.938Z"
   },
   {
    "duration": 49,
    "start_time": "2023-02-08T10:42:58.993Z"
   },
   {
    "duration": 90,
    "start_time": "2023-02-08T10:42:59.061Z"
   },
   {
    "duration": 40,
    "start_time": "2023-02-08T10:42:59.155Z"
   },
   {
    "duration": 41,
    "start_time": "2023-02-08T10:42:59.198Z"
   },
   {
    "duration": 8,
    "start_time": "2023-02-08T10:43:55.583Z"
   },
   {
    "duration": 8,
    "start_time": "2023-02-08T13:15:59.976Z"
   },
   {
    "duration": 5,
    "start_time": "2023-02-08T13:17:55.394Z"
   },
   {
    "duration": 9,
    "start_time": "2023-02-08T13:19:21.324Z"
   },
   {
    "duration": 191,
    "start_time": "2023-02-08T13:20:41.842Z"
   },
   {
    "duration": 5,
    "start_time": "2023-02-08T13:22:22.976Z"
   },
   {
    "duration": 6,
    "start_time": "2023-02-08T13:22:59.425Z"
   },
   {
    "duration": 6,
    "start_time": "2023-02-08T13:23:38.819Z"
   },
   {
    "duration": 1386,
    "start_time": "2023-02-08T13:24:06.085Z"
   },
   {
    "duration": 58,
    "start_time": "2023-02-08T13:24:07.477Z"
   },
   {
    "duration": 39,
    "start_time": "2023-02-08T13:24:07.537Z"
   },
   {
    "duration": 60,
    "start_time": "2023-02-08T13:24:07.578Z"
   },
   {
    "duration": 72,
    "start_time": "2023-02-08T13:24:07.642Z"
   },
   {
    "duration": 35,
    "start_time": "2023-02-08T13:24:07.717Z"
   },
   {
    "duration": 113,
    "start_time": "2023-02-08T13:24:07.755Z"
   },
   {
    "duration": 140,
    "start_time": "2023-02-08T13:24:07.873Z"
   },
   {
    "duration": 42,
    "start_time": "2023-02-08T13:24:08.032Z"
   },
   {
    "duration": 58,
    "start_time": "2023-02-08T13:24:08.083Z"
   },
   {
    "duration": 69,
    "start_time": "2023-02-08T13:24:08.147Z"
   },
   {
    "duration": 99,
    "start_time": "2023-02-08T13:24:08.219Z"
   },
   {
    "duration": 32,
    "start_time": "2023-02-08T13:24:08.368Z"
   },
   {
    "duration": 61,
    "start_time": "2023-02-08T13:24:08.415Z"
   },
   {
    "duration": 45,
    "start_time": "2023-02-08T13:24:08.482Z"
   },
   {
    "duration": 10,
    "start_time": "2023-02-08T13:24:08.534Z"
   },
   {
    "duration": 49,
    "start_time": "2023-02-08T13:24:08.551Z"
   },
   {
    "duration": 16,
    "start_time": "2023-02-08T13:24:08.603Z"
   },
   {
    "duration": 6,
    "start_time": "2023-02-08T13:24:08.622Z"
   },
   {
    "duration": 18,
    "start_time": "2023-02-08T13:24:08.630Z"
   },
   {
    "duration": 5,
    "start_time": "2023-02-08T13:29:45.118Z"
   },
   {
    "duration": 1637,
    "start_time": "2023-02-08T13:32:40.679Z"
   },
   {
    "duration": 73,
    "start_time": "2023-02-08T13:32:42.319Z"
   },
   {
    "duration": 55,
    "start_time": "2023-02-08T13:32:42.395Z"
   },
   {
    "duration": 59,
    "start_time": "2023-02-08T13:32:42.453Z"
   },
   {
    "duration": 16,
    "start_time": "2023-02-08T13:32:42.514Z"
   },
   {
    "duration": 40,
    "start_time": "2023-02-08T13:32:42.532Z"
   },
   {
    "duration": 65,
    "start_time": "2023-02-08T13:32:42.575Z"
   },
   {
    "duration": 48,
    "start_time": "2023-02-08T13:32:42.642Z"
   },
   {
    "duration": 137,
    "start_time": "2023-02-08T13:32:42.698Z"
   },
   {
    "duration": 98,
    "start_time": "2023-02-08T13:32:42.845Z"
   },
   {
    "duration": 100,
    "start_time": "2023-02-08T13:32:42.946Z"
   },
   {
    "duration": 51,
    "start_time": "2023-02-08T13:32:43.052Z"
   },
   {
    "duration": 97,
    "start_time": "2023-02-08T13:32:43.114Z"
   },
   {
    "duration": 87,
    "start_time": "2023-02-08T13:32:43.213Z"
   },
   {
    "duration": 45,
    "start_time": "2023-02-08T13:32:43.304Z"
   },
   {
    "duration": 66,
    "start_time": "2023-02-08T13:32:43.356Z"
   },
   {
    "duration": 11,
    "start_time": "2023-02-08T13:32:43.427Z"
   },
   {
    "duration": 15,
    "start_time": "2023-02-08T13:32:43.441Z"
   },
   {
    "duration": 162,
    "start_time": "2023-02-08T13:32:43.459Z"
   },
   {
    "duration": 49,
    "start_time": "2023-02-08T13:32:43.624Z"
   },
   {
    "duration": 154,
    "start_time": "2023-02-08T13:40:36.337Z"
   },
   {
    "duration": 24,
    "start_time": "2023-02-08T13:40:57.149Z"
   },
   {
    "duration": 14,
    "start_time": "2023-02-08T13:41:03.535Z"
   },
   {
    "duration": 45,
    "start_time": "2023-02-09T10:12:29.145Z"
   },
   {
    "duration": 1028,
    "start_time": "2023-02-09T10:14:59.330Z"
   },
   {
    "duration": 97,
    "start_time": "2023-02-09T10:15:00.360Z"
   },
   {
    "duration": 15,
    "start_time": "2023-02-09T10:15:00.459Z"
   },
   {
    "duration": 23,
    "start_time": "2023-02-09T10:15:00.476Z"
   },
   {
    "duration": 143,
    "start_time": "2023-02-09T10:15:00.503Z"
   },
   {
    "duration": 0,
    "start_time": "2023-02-09T10:15:00.649Z"
   },
   {
    "duration": 0,
    "start_time": "2023-02-09T10:15:00.649Z"
   },
   {
    "duration": 0,
    "start_time": "2023-02-09T10:15:00.651Z"
   },
   {
    "duration": 0,
    "start_time": "2023-02-09T10:15:00.652Z"
   },
   {
    "duration": 0,
    "start_time": "2023-02-09T10:15:00.653Z"
   },
   {
    "duration": 0,
    "start_time": "2023-02-09T10:15:00.654Z"
   },
   {
    "duration": 0,
    "start_time": "2023-02-09T10:15:00.654Z"
   },
   {
    "duration": 0,
    "start_time": "2023-02-09T10:15:00.655Z"
   },
   {
    "duration": 0,
    "start_time": "2023-02-09T10:15:00.656Z"
   },
   {
    "duration": 0,
    "start_time": "2023-02-09T10:15:00.658Z"
   },
   {
    "duration": 0,
    "start_time": "2023-02-09T10:15:00.659Z"
   },
   {
    "duration": 0,
    "start_time": "2023-02-09T10:15:00.660Z"
   },
   {
    "duration": 31,
    "start_time": "2023-02-09T10:15:24.010Z"
   },
   {
    "duration": 1072,
    "start_time": "2023-02-09T10:16:19.233Z"
   },
   {
    "duration": 26,
    "start_time": "2023-02-09T10:16:20.307Z"
   },
   {
    "duration": 19,
    "start_time": "2023-02-09T10:16:20.335Z"
   },
   {
    "duration": 21,
    "start_time": "2023-02-09T10:16:20.356Z"
   },
   {
    "duration": 43,
    "start_time": "2023-02-09T10:16:20.379Z"
   },
   {
    "duration": 3,
    "start_time": "2023-02-09T10:16:20.424Z"
   },
   {
    "duration": 7,
    "start_time": "2023-02-09T10:16:20.429Z"
   },
   {
    "duration": 14,
    "start_time": "2023-02-09T10:16:20.437Z"
   },
   {
    "duration": 106,
    "start_time": "2023-02-09T10:16:20.500Z"
   },
   {
    "duration": 21,
    "start_time": "2023-02-09T10:16:20.609Z"
   },
   {
    "duration": 66,
    "start_time": "2023-02-09T10:16:20.633Z"
   },
   {
    "duration": 110,
    "start_time": "2023-02-09T10:16:20.702Z"
   },
   {
    "duration": 12,
    "start_time": "2023-02-09T10:16:20.813Z"
   },
   {
    "duration": 23,
    "start_time": "2023-02-09T10:16:20.826Z"
   },
   {
    "duration": 8,
    "start_time": "2023-02-09T10:16:20.851Z"
   },
   {
    "duration": 6,
    "start_time": "2023-02-09T10:16:20.861Z"
   },
   {
    "duration": 37,
    "start_time": "2023-02-09T10:16:20.868Z"
   },
   {
    "duration": 45,
    "start_time": "2023-02-09T10:26:20.514Z"
   },
   {
    "duration": 1106,
    "start_time": "2023-02-09T12:50:37.933Z"
   },
   {
    "duration": 27,
    "start_time": "2023-02-09T12:50:39.041Z"
   },
   {
    "duration": 22,
    "start_time": "2023-02-09T12:50:39.070Z"
   },
   {
    "duration": 12,
    "start_time": "2023-02-09T12:50:39.095Z"
   },
   {
    "duration": 27,
    "start_time": "2023-02-09T12:50:39.109Z"
   },
   {
    "duration": 4,
    "start_time": "2023-02-09T12:50:39.138Z"
   },
   {
    "duration": 9,
    "start_time": "2023-02-09T12:50:39.144Z"
   },
   {
    "duration": 40,
    "start_time": "2023-02-09T12:50:39.155Z"
   },
   {
    "duration": 95,
    "start_time": "2023-02-09T12:50:39.199Z"
   },
   {
    "duration": 14,
    "start_time": "2023-02-09T12:50:39.296Z"
   },
   {
    "duration": 187,
    "start_time": "2023-02-09T12:50:39.312Z"
   },
   {
    "duration": 8,
    "start_time": "2023-02-09T12:50:39.501Z"
   },
   {
    "duration": 7,
    "start_time": "2023-02-09T12:50:39.511Z"
   },
   {
    "duration": 10,
    "start_time": "2023-02-09T12:50:39.521Z"
   },
   {
    "duration": 7,
    "start_time": "2023-02-09T12:50:39.533Z"
   },
   {
    "duration": 11,
    "start_time": "2023-02-09T12:50:39.542Z"
   },
   {
    "duration": 21,
    "start_time": "2023-02-09T12:50:39.555Z"
   },
   {
    "duration": 1082,
    "start_time": "2023-02-09T13:07:11.145Z"
   },
   {
    "duration": 26,
    "start_time": "2023-02-09T13:07:12.229Z"
   },
   {
    "duration": 16,
    "start_time": "2023-02-09T13:07:12.256Z"
   },
   {
    "duration": 10,
    "start_time": "2023-02-09T13:07:12.274Z"
   },
   {
    "duration": 25,
    "start_time": "2023-02-09T13:07:12.287Z"
   },
   {
    "duration": 3,
    "start_time": "2023-02-09T13:07:12.314Z"
   },
   {
    "duration": 8,
    "start_time": "2023-02-09T13:07:12.319Z"
   },
   {
    "duration": 163,
    "start_time": "2023-02-09T13:07:12.330Z"
   },
   {
    "duration": 6,
    "start_time": "2023-02-09T13:07:12.496Z"
   },
   {
    "duration": 90,
    "start_time": "2023-02-09T13:07:12.503Z"
   },
   {
    "duration": 102,
    "start_time": "2023-02-09T13:07:12.595Z"
   },
   {
    "duration": 8,
    "start_time": "2023-02-09T13:07:12.699Z"
   },
   {
    "duration": 9,
    "start_time": "2023-02-09T13:07:12.708Z"
   },
   {
    "duration": 28008,
    "start_time": "2023-02-09T13:07:12.720Z"
   },
   {
    "duration": 0,
    "start_time": "2023-02-09T13:07:40.730Z"
   },
   {
    "duration": 0,
    "start_time": "2023-02-09T13:07:40.731Z"
   },
   {
    "duration": 1,
    "start_time": "2023-02-09T13:07:40.732Z"
   },
   {
    "duration": 4,
    "start_time": "2023-02-09T13:10:28.863Z"
   },
   {
    "duration": 1181,
    "start_time": "2023-02-09T13:10:32.960Z"
   },
   {
    "duration": 28,
    "start_time": "2023-02-09T13:10:34.144Z"
   },
   {
    "duration": 23,
    "start_time": "2023-02-09T13:10:34.174Z"
   },
   {
    "duration": 53,
    "start_time": "2023-02-09T13:10:34.200Z"
   },
   {
    "duration": 35,
    "start_time": "2023-02-09T13:10:34.255Z"
   },
   {
    "duration": 6,
    "start_time": "2023-02-09T13:10:34.293Z"
   },
   {
    "duration": 11,
    "start_time": "2023-02-09T13:10:34.301Z"
   },
   {
    "duration": 91,
    "start_time": "2023-02-09T13:10:34.314Z"
   },
   {
    "duration": 106,
    "start_time": "2023-02-09T13:10:34.412Z"
   },
   {
    "duration": 17,
    "start_time": "2023-02-09T13:10:34.525Z"
   },
   {
    "duration": 107,
    "start_time": "2023-02-09T13:10:34.595Z"
   },
   {
    "duration": 7,
    "start_time": "2023-02-09T13:10:34.704Z"
   },
   {
    "duration": 8,
    "start_time": "2023-02-09T13:10:34.713Z"
   },
   {
    "duration": 13,
    "start_time": "2023-02-09T13:10:34.723Z"
   },
   {
    "duration": 8,
    "start_time": "2023-02-09T13:10:34.738Z"
   },
   {
    "duration": 13,
    "start_time": "2023-02-09T13:10:34.748Z"
   },
   {
    "duration": 16,
    "start_time": "2023-02-09T13:10:34.763Z"
   }
  ],
  "kernelspec": {
   "display_name": "Python 3 (ipykernel)",
   "language": "python",
   "name": "python3"
  },
  "language_info": {
   "codemirror_mode": {
    "name": "ipython",
    "version": 3
   },
   "file_extension": ".py",
   "mimetype": "text/x-python",
   "name": "python",
   "nbconvert_exporter": "python",
   "pygments_lexer": "ipython3",
   "version": "3.9.5"
  },
  "toc": {
   "base_numbering": 1,
   "nav_menu": {},
   "number_sections": true,
   "sideBar": true,
   "skip_h1_title": true,
   "title_cell": "Содержание",
   "title_sidebar": "Contents",
   "toc_cell": true,
   "toc_position": {
    "height": "calc(100% - 180px)",
    "left": "10px",
    "top": "150px",
    "width": "165px"
   },
   "toc_section_display": true,
   "toc_window_display": true
  }
 },
 "nbformat": 4,
 "nbformat_minor": 2
}
