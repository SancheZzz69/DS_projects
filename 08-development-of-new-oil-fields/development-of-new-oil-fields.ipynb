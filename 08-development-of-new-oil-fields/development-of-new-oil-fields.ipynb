{
 "cells": [
  {
   "cell_type": "markdown",
   "metadata": {},
   "source": [
    "# Выбор локации для скважины"
   ]
  },
  {
   "cell_type": "markdown",
   "metadata": {},
   "source": [
    "Заказчиком является добывающая компания «ГлавРосГосНефть». Нужно решить, где бурить новую скважину.\n",
    "\n",
    "Нам предоставлены пробы нефти в трёх регионах: в каждом 10 000 месторождений, где измерили качество нефти и объём её запасов.\n",
    "Нам нужно построить модель машинного обучения, которая поможет определить регион, где добыча принесёт наибольшую прибыль и меньшие риски.\n",
    "\n",
    "\n",
    "Шаги для выбора локации:\n",
    "\n",
    "- В избранном регионе ищем месторождения, для каждого определяем значения признаков;\n",
    "- Строим модель и оцениваем объём запасов;\n",
    "- Выбираем месторождения с самым высокими оценками значений. Количество месторождений зависит от бюджета компании и стоимости разработки одной скважины;\n",
    "- Прибыль равна суммарной прибыли отобранных месторождений."
   ]
  },
  {
   "cell_type": "markdown",
   "metadata": {},
   "source": [
    "## Загрузка и подготовка данных"
   ]
  },
  {
   "cell_type": "code",
   "execution_count": 1,
   "metadata": {},
   "outputs": [],
   "source": [
    "import pandas as pd\n",
    "from sklearn.linear_model import LinearRegression\n",
    "from sklearn.model_selection import train_test_split\n",
    "from sklearn.model_selection import cross_val_score\n",
    "import numpy as np\n",
    "from scipy.stats import t"
   ]
  },
  {
   "cell_type": "code",
   "execution_count": 2,
   "metadata": {},
   "outputs": [],
   "source": [
    "data_r1 = pd.read_csv('geo_data_0.csv')\n",
    "data_r2 = pd.read_csv('geo_data_1.csv')\n",
    "data_r3 = pd.read_csv('geo_data_2.csv')"
   ]
  },
  {
   "cell_type": "code",
   "execution_count": 3,
   "metadata": {},
   "outputs": [
    {
     "data": {
      "text/html": [
       "<div>\n",
       "<style scoped>\n",
       "    .dataframe tbody tr th:only-of-type {\n",
       "        vertical-align: middle;\n",
       "    }\n",
       "\n",
       "    .dataframe tbody tr th {\n",
       "        vertical-align: top;\n",
       "    }\n",
       "\n",
       "    .dataframe thead th {\n",
       "        text-align: right;\n",
       "    }\n",
       "</style>\n",
       "<table border=\"1\" class=\"dataframe\">\n",
       "  <thead>\n",
       "    <tr style=\"text-align: right;\">\n",
       "      <th></th>\n",
       "      <th>id</th>\n",
       "      <th>f0</th>\n",
       "      <th>f1</th>\n",
       "      <th>f2</th>\n",
       "      <th>product</th>\n",
       "    </tr>\n",
       "  </thead>\n",
       "  <tbody>\n",
       "    <tr>\n",
       "      <th>0</th>\n",
       "      <td>txEyH</td>\n",
       "      <td>0.705745</td>\n",
       "      <td>-0.497823</td>\n",
       "      <td>1.221170</td>\n",
       "      <td>105.280062</td>\n",
       "    </tr>\n",
       "    <tr>\n",
       "      <th>1</th>\n",
       "      <td>2acmU</td>\n",
       "      <td>1.334711</td>\n",
       "      <td>-0.340164</td>\n",
       "      <td>4.365080</td>\n",
       "      <td>73.037750</td>\n",
       "    </tr>\n",
       "    <tr>\n",
       "      <th>2</th>\n",
       "      <td>409Wp</td>\n",
       "      <td>1.022732</td>\n",
       "      <td>0.151990</td>\n",
       "      <td>1.419926</td>\n",
       "      <td>85.265647</td>\n",
       "    </tr>\n",
       "    <tr>\n",
       "      <th>3</th>\n",
       "      <td>iJLyR</td>\n",
       "      <td>-0.032172</td>\n",
       "      <td>0.139033</td>\n",
       "      <td>2.978566</td>\n",
       "      <td>168.620776</td>\n",
       "    </tr>\n",
       "    <tr>\n",
       "      <th>4</th>\n",
       "      <td>Xdl7t</td>\n",
       "      <td>1.988431</td>\n",
       "      <td>0.155413</td>\n",
       "      <td>4.751769</td>\n",
       "      <td>154.036647</td>\n",
       "    </tr>\n",
       "  </tbody>\n",
       "</table>\n",
       "</div>"
      ],
      "text/plain": [
       "      id        f0        f1        f2     product\n",
       "0  txEyH  0.705745 -0.497823  1.221170  105.280062\n",
       "1  2acmU  1.334711 -0.340164  4.365080   73.037750\n",
       "2  409Wp  1.022732  0.151990  1.419926   85.265647\n",
       "3  iJLyR -0.032172  0.139033  2.978566  168.620776\n",
       "4  Xdl7t  1.988431  0.155413  4.751769  154.036647"
      ]
     },
     "execution_count": 3,
     "metadata": {},
     "output_type": "execute_result"
    }
   ],
   "source": [
    "data_r1.head()"
   ]
  },
  {
   "cell_type": "code",
   "execution_count": 4,
   "metadata": {},
   "outputs": [
    {
     "data": {
      "text/plain": [
       "10"
      ]
     },
     "execution_count": 4,
     "metadata": {},
     "output_type": "execute_result"
    }
   ],
   "source": [
    "data_r1.id.duplicated().sum()"
   ]
  },
  {
   "cell_type": "code",
   "execution_count": 5,
   "metadata": {
    "scrolled": false
   },
   "outputs": [
    {
     "data": {
      "text/html": [
       "<div>\n",
       "<style scoped>\n",
       "    .dataframe tbody tr th:only-of-type {\n",
       "        vertical-align: middle;\n",
       "    }\n",
       "\n",
       "    .dataframe tbody tr th {\n",
       "        vertical-align: top;\n",
       "    }\n",
       "\n",
       "    .dataframe thead th {\n",
       "        text-align: right;\n",
       "    }\n",
       "</style>\n",
       "<table border=\"1\" class=\"dataframe\">\n",
       "  <thead>\n",
       "    <tr style=\"text-align: right;\">\n",
       "      <th></th>\n",
       "      <th>id</th>\n",
       "      <th>f0</th>\n",
       "      <th>f1</th>\n",
       "      <th>f2</th>\n",
       "      <th>product</th>\n",
       "    </tr>\n",
       "  </thead>\n",
       "  <tbody>\n",
       "    <tr>\n",
       "      <th>931</th>\n",
       "      <td>HZww2</td>\n",
       "      <td>0.755284</td>\n",
       "      <td>0.368511</td>\n",
       "      <td>1.863211</td>\n",
       "      <td>30.681774</td>\n",
       "    </tr>\n",
       "    <tr>\n",
       "      <th>1364</th>\n",
       "      <td>bxg6G</td>\n",
       "      <td>0.411645</td>\n",
       "      <td>0.856830</td>\n",
       "      <td>-3.653440</td>\n",
       "      <td>73.604260</td>\n",
       "    </tr>\n",
       "    <tr>\n",
       "      <th>1949</th>\n",
       "      <td>QcMuo</td>\n",
       "      <td>0.506563</td>\n",
       "      <td>-0.323775</td>\n",
       "      <td>-2.215583</td>\n",
       "      <td>75.496502</td>\n",
       "    </tr>\n",
       "    <tr>\n",
       "      <th>3389</th>\n",
       "      <td>A5aEY</td>\n",
       "      <td>-0.039949</td>\n",
       "      <td>0.156872</td>\n",
       "      <td>0.209861</td>\n",
       "      <td>89.249364</td>\n",
       "    </tr>\n",
       "    <tr>\n",
       "      <th>7530</th>\n",
       "      <td>HZww2</td>\n",
       "      <td>1.061194</td>\n",
       "      <td>-0.373969</td>\n",
       "      <td>10.430210</td>\n",
       "      <td>158.828695</td>\n",
       "    </tr>\n",
       "    <tr>\n",
       "      <th>16633</th>\n",
       "      <td>fiKDv</td>\n",
       "      <td>0.157341</td>\n",
       "      <td>1.028359</td>\n",
       "      <td>5.585586</td>\n",
       "      <td>95.817889</td>\n",
       "    </tr>\n",
       "    <tr>\n",
       "      <th>21426</th>\n",
       "      <td>Tdehs</td>\n",
       "      <td>0.829407</td>\n",
       "      <td>0.298807</td>\n",
       "      <td>-0.049563</td>\n",
       "      <td>96.035308</td>\n",
       "    </tr>\n",
       "    <tr>\n",
       "      <th>41724</th>\n",
       "      <td>bxg6G</td>\n",
       "      <td>-0.823752</td>\n",
       "      <td>0.546319</td>\n",
       "      <td>3.630479</td>\n",
       "      <td>93.007798</td>\n",
       "    </tr>\n",
       "    <tr>\n",
       "      <th>42529</th>\n",
       "      <td>AGS9W</td>\n",
       "      <td>1.454747</td>\n",
       "      <td>-0.479651</td>\n",
       "      <td>0.683380</td>\n",
       "      <td>126.370504</td>\n",
       "    </tr>\n",
       "    <tr>\n",
       "      <th>51970</th>\n",
       "      <td>A5aEY</td>\n",
       "      <td>-0.180335</td>\n",
       "      <td>0.935548</td>\n",
       "      <td>-2.094773</td>\n",
       "      <td>33.020205</td>\n",
       "    </tr>\n",
       "    <tr>\n",
       "      <th>60140</th>\n",
       "      <td>TtcGQ</td>\n",
       "      <td>0.569276</td>\n",
       "      <td>-0.104876</td>\n",
       "      <td>6.440215</td>\n",
       "      <td>85.350186</td>\n",
       "    </tr>\n",
       "    <tr>\n",
       "      <th>63593</th>\n",
       "      <td>QcMuo</td>\n",
       "      <td>0.635635</td>\n",
       "      <td>-0.473422</td>\n",
       "      <td>0.862670</td>\n",
       "      <td>64.578675</td>\n",
       "    </tr>\n",
       "    <tr>\n",
       "      <th>64022</th>\n",
       "      <td>74z30</td>\n",
       "      <td>0.741456</td>\n",
       "      <td>0.459229</td>\n",
       "      <td>5.153109</td>\n",
       "      <td>140.771492</td>\n",
       "    </tr>\n",
       "    <tr>\n",
       "      <th>66136</th>\n",
       "      <td>74z30</td>\n",
       "      <td>1.084962</td>\n",
       "      <td>-0.312358</td>\n",
       "      <td>6.990771</td>\n",
       "      <td>127.643327</td>\n",
       "    </tr>\n",
       "    <tr>\n",
       "      <th>69163</th>\n",
       "      <td>AGS9W</td>\n",
       "      <td>-0.933795</td>\n",
       "      <td>0.116194</td>\n",
       "      <td>-3.655896</td>\n",
       "      <td>19.230453</td>\n",
       "    </tr>\n",
       "    <tr>\n",
       "      <th>75715</th>\n",
       "      <td>Tdehs</td>\n",
       "      <td>0.112079</td>\n",
       "      <td>0.430296</td>\n",
       "      <td>3.218993</td>\n",
       "      <td>60.964018</td>\n",
       "    </tr>\n",
       "    <tr>\n",
       "      <th>89582</th>\n",
       "      <td>bsk9y</td>\n",
       "      <td>0.398908</td>\n",
       "      <td>-0.400253</td>\n",
       "      <td>10.122376</td>\n",
       "      <td>163.433078</td>\n",
       "    </tr>\n",
       "    <tr>\n",
       "      <th>90815</th>\n",
       "      <td>fiKDv</td>\n",
       "      <td>0.049883</td>\n",
       "      <td>0.841313</td>\n",
       "      <td>6.394613</td>\n",
       "      <td>137.346586</td>\n",
       "    </tr>\n",
       "    <tr>\n",
       "      <th>92341</th>\n",
       "      <td>TtcGQ</td>\n",
       "      <td>0.110711</td>\n",
       "      <td>1.022689</td>\n",
       "      <td>0.911381</td>\n",
       "      <td>101.318008</td>\n",
       "    </tr>\n",
       "    <tr>\n",
       "      <th>97785</th>\n",
       "      <td>bsk9y</td>\n",
       "      <td>0.378429</td>\n",
       "      <td>0.005837</td>\n",
       "      <td>0.160827</td>\n",
       "      <td>160.637302</td>\n",
       "    </tr>\n",
       "  </tbody>\n",
       "</table>\n",
       "</div>"
      ],
      "text/plain": [
       "          id        f0        f1         f2     product\n",
       "931    HZww2  0.755284  0.368511   1.863211   30.681774\n",
       "1364   bxg6G  0.411645  0.856830  -3.653440   73.604260\n",
       "1949   QcMuo  0.506563 -0.323775  -2.215583   75.496502\n",
       "3389   A5aEY -0.039949  0.156872   0.209861   89.249364\n",
       "7530   HZww2  1.061194 -0.373969  10.430210  158.828695\n",
       "16633  fiKDv  0.157341  1.028359   5.585586   95.817889\n",
       "21426  Tdehs  0.829407  0.298807  -0.049563   96.035308\n",
       "41724  bxg6G -0.823752  0.546319   3.630479   93.007798\n",
       "42529  AGS9W  1.454747 -0.479651   0.683380  126.370504\n",
       "51970  A5aEY -0.180335  0.935548  -2.094773   33.020205\n",
       "60140  TtcGQ  0.569276 -0.104876   6.440215   85.350186\n",
       "63593  QcMuo  0.635635 -0.473422   0.862670   64.578675\n",
       "64022  74z30  0.741456  0.459229   5.153109  140.771492\n",
       "66136  74z30  1.084962 -0.312358   6.990771  127.643327\n",
       "69163  AGS9W -0.933795  0.116194  -3.655896   19.230453\n",
       "75715  Tdehs  0.112079  0.430296   3.218993   60.964018\n",
       "89582  bsk9y  0.398908 -0.400253  10.122376  163.433078\n",
       "90815  fiKDv  0.049883  0.841313   6.394613  137.346586\n",
       "92341  TtcGQ  0.110711  1.022689   0.911381  101.318008\n",
       "97785  bsk9y  0.378429  0.005837   0.160827  160.637302"
      ]
     },
     "execution_count": 5,
     "metadata": {},
     "output_type": "execute_result"
    }
   ],
   "source": [
    "data_r1[data_r1.id.duplicated(keep=False) == True]"
   ]
  },
  {
   "cell_type": "markdown",
   "metadata": {},
   "source": [
    "В данных по первому региону найдено 10 дубликатов по `id`, удалим их."
   ]
  },
  {
   "cell_type": "code",
   "execution_count": 6,
   "metadata": {},
   "outputs": [],
   "source": [
    "data_r1 = data_r1.drop_duplicates(subset=['id'])"
   ]
  },
  {
   "cell_type": "code",
   "execution_count": 7,
   "metadata": {},
   "outputs": [],
   "source": [
    "data_r1 = data_r1.reset_index(drop=True)"
   ]
  },
  {
   "cell_type": "code",
   "execution_count": 8,
   "metadata": {
    "scrolled": true
   },
   "outputs": [
    {
     "name": "stdout",
     "output_type": "stream",
     "text": [
      "<class 'pandas.core.frame.DataFrame'>\n",
      "RangeIndex: 99990 entries, 0 to 99989\n",
      "Data columns (total 5 columns):\n",
      " #   Column   Non-Null Count  Dtype  \n",
      "---  ------   --------------  -----  \n",
      " 0   id       99990 non-null  object \n",
      " 1   f0       99990 non-null  float64\n",
      " 2   f1       99990 non-null  float64\n",
      " 3   f2       99990 non-null  float64\n",
      " 4   product  99990 non-null  float64\n",
      "dtypes: float64(4), object(1)\n",
      "memory usage: 3.8+ MB\n"
     ]
    }
   ],
   "source": [
    "data_r1.info()"
   ]
  },
  {
   "cell_type": "markdown",
   "metadata": {},
   "source": [
    "Готово."
   ]
  },
  {
   "cell_type": "code",
   "execution_count": 9,
   "metadata": {},
   "outputs": [
    {
     "data": {
      "text/html": [
       "<div>\n",
       "<style scoped>\n",
       "    .dataframe tbody tr th:only-of-type {\n",
       "        vertical-align: middle;\n",
       "    }\n",
       "\n",
       "    .dataframe tbody tr th {\n",
       "        vertical-align: top;\n",
       "    }\n",
       "\n",
       "    .dataframe thead th {\n",
       "        text-align: right;\n",
       "    }\n",
       "</style>\n",
       "<table border=\"1\" class=\"dataframe\">\n",
       "  <thead>\n",
       "    <tr style=\"text-align: right;\">\n",
       "      <th></th>\n",
       "      <th>id</th>\n",
       "      <th>f0</th>\n",
       "      <th>f1</th>\n",
       "      <th>f2</th>\n",
       "      <th>product</th>\n",
       "    </tr>\n",
       "  </thead>\n",
       "  <tbody>\n",
       "    <tr>\n",
       "      <th>0</th>\n",
       "      <td>kBEdx</td>\n",
       "      <td>-15.001348</td>\n",
       "      <td>-8.276000</td>\n",
       "      <td>-0.005876</td>\n",
       "      <td>3.179103</td>\n",
       "    </tr>\n",
       "    <tr>\n",
       "      <th>1</th>\n",
       "      <td>62mP7</td>\n",
       "      <td>14.272088</td>\n",
       "      <td>-3.475083</td>\n",
       "      <td>0.999183</td>\n",
       "      <td>26.953261</td>\n",
       "    </tr>\n",
       "    <tr>\n",
       "      <th>2</th>\n",
       "      <td>vyE1P</td>\n",
       "      <td>6.263187</td>\n",
       "      <td>-5.948386</td>\n",
       "      <td>5.001160</td>\n",
       "      <td>134.766305</td>\n",
       "    </tr>\n",
       "    <tr>\n",
       "      <th>3</th>\n",
       "      <td>KcrkZ</td>\n",
       "      <td>-13.081196</td>\n",
       "      <td>-11.506057</td>\n",
       "      <td>4.999415</td>\n",
       "      <td>137.945408</td>\n",
       "    </tr>\n",
       "    <tr>\n",
       "      <th>4</th>\n",
       "      <td>AHL4O</td>\n",
       "      <td>12.702195</td>\n",
       "      <td>-8.147433</td>\n",
       "      <td>5.004363</td>\n",
       "      <td>134.766305</td>\n",
       "    </tr>\n",
       "  </tbody>\n",
       "</table>\n",
       "</div>"
      ],
      "text/plain": [
       "      id         f0         f1        f2     product\n",
       "0  kBEdx -15.001348  -8.276000 -0.005876    3.179103\n",
       "1  62mP7  14.272088  -3.475083  0.999183   26.953261\n",
       "2  vyE1P   6.263187  -5.948386  5.001160  134.766305\n",
       "3  KcrkZ -13.081196 -11.506057  4.999415  137.945408\n",
       "4  AHL4O  12.702195  -8.147433  5.004363  134.766305"
      ]
     },
     "execution_count": 9,
     "metadata": {},
     "output_type": "execute_result"
    }
   ],
   "source": [
    "data_r2.head()"
   ]
  },
  {
   "cell_type": "code",
   "execution_count": 10,
   "metadata": {},
   "outputs": [
    {
     "data": {
      "text/plain": [
       "4"
      ]
     },
     "execution_count": 10,
     "metadata": {},
     "output_type": "execute_result"
    }
   ],
   "source": [
    "data_r2.id.duplicated().sum()"
   ]
  },
  {
   "cell_type": "code",
   "execution_count": 11,
   "metadata": {},
   "outputs": [
    {
     "data": {
      "text/html": [
       "<div>\n",
       "<style scoped>\n",
       "    .dataframe tbody tr th:only-of-type {\n",
       "        vertical-align: middle;\n",
       "    }\n",
       "\n",
       "    .dataframe tbody tr th {\n",
       "        vertical-align: top;\n",
       "    }\n",
       "\n",
       "    .dataframe thead th {\n",
       "        text-align: right;\n",
       "    }\n",
       "</style>\n",
       "<table border=\"1\" class=\"dataframe\">\n",
       "  <thead>\n",
       "    <tr style=\"text-align: right;\">\n",
       "      <th></th>\n",
       "      <th>id</th>\n",
       "      <th>f0</th>\n",
       "      <th>f1</th>\n",
       "      <th>f2</th>\n",
       "      <th>product</th>\n",
       "    </tr>\n",
       "  </thead>\n",
       "  <tbody>\n",
       "    <tr>\n",
       "      <th>1305</th>\n",
       "      <td>LHZR0</td>\n",
       "      <td>11.170835</td>\n",
       "      <td>-1.945066</td>\n",
       "      <td>3.002872</td>\n",
       "      <td>80.859783</td>\n",
       "    </tr>\n",
       "    <tr>\n",
       "      <th>2721</th>\n",
       "      <td>bfPNe</td>\n",
       "      <td>-9.494442</td>\n",
       "      <td>-5.463692</td>\n",
       "      <td>4.006042</td>\n",
       "      <td>110.992147</td>\n",
       "    </tr>\n",
       "    <tr>\n",
       "      <th>5849</th>\n",
       "      <td>5ltQ6</td>\n",
       "      <td>-3.435401</td>\n",
       "      <td>-12.296043</td>\n",
       "      <td>1.999796</td>\n",
       "      <td>57.085625</td>\n",
       "    </tr>\n",
       "    <tr>\n",
       "      <th>41906</th>\n",
       "      <td>LHZR0</td>\n",
       "      <td>-8.989672</td>\n",
       "      <td>-4.286607</td>\n",
       "      <td>2.009139</td>\n",
       "      <td>57.085625</td>\n",
       "    </tr>\n",
       "    <tr>\n",
       "      <th>47591</th>\n",
       "      <td>wt4Uk</td>\n",
       "      <td>-9.091098</td>\n",
       "      <td>-8.109279</td>\n",
       "      <td>-0.002314</td>\n",
       "      <td>3.179103</td>\n",
       "    </tr>\n",
       "    <tr>\n",
       "      <th>82178</th>\n",
       "      <td>bfPNe</td>\n",
       "      <td>-6.202799</td>\n",
       "      <td>-4.820045</td>\n",
       "      <td>2.995107</td>\n",
       "      <td>84.038886</td>\n",
       "    </tr>\n",
       "    <tr>\n",
       "      <th>82873</th>\n",
       "      <td>wt4Uk</td>\n",
       "      <td>10.259972</td>\n",
       "      <td>-9.376355</td>\n",
       "      <td>4.994297</td>\n",
       "      <td>134.766305</td>\n",
       "    </tr>\n",
       "    <tr>\n",
       "      <th>84461</th>\n",
       "      <td>5ltQ6</td>\n",
       "      <td>18.213839</td>\n",
       "      <td>2.191999</td>\n",
       "      <td>3.993869</td>\n",
       "      <td>107.813044</td>\n",
       "    </tr>\n",
       "  </tbody>\n",
       "</table>\n",
       "</div>"
      ],
      "text/plain": [
       "          id         f0         f1        f2     product\n",
       "1305   LHZR0  11.170835  -1.945066  3.002872   80.859783\n",
       "2721   bfPNe  -9.494442  -5.463692  4.006042  110.992147\n",
       "5849   5ltQ6  -3.435401 -12.296043  1.999796   57.085625\n",
       "41906  LHZR0  -8.989672  -4.286607  2.009139   57.085625\n",
       "47591  wt4Uk  -9.091098  -8.109279 -0.002314    3.179103\n",
       "82178  bfPNe  -6.202799  -4.820045  2.995107   84.038886\n",
       "82873  wt4Uk  10.259972  -9.376355  4.994297  134.766305\n",
       "84461  5ltQ6  18.213839   2.191999  3.993869  107.813044"
      ]
     },
     "execution_count": 11,
     "metadata": {},
     "output_type": "execute_result"
    }
   ],
   "source": [
    "data_r2[data_r2.id.duplicated(keep=False) == True]"
   ]
  },
  {
   "cell_type": "markdown",
   "metadata": {},
   "source": [
    "Аналогично удалим 4 дубликата по второму региону."
   ]
  },
  {
   "cell_type": "code",
   "execution_count": 12,
   "metadata": {},
   "outputs": [],
   "source": [
    "data_r2 = data_r2.drop_duplicates(subset=['id'])"
   ]
  },
  {
   "cell_type": "code",
   "execution_count": 13,
   "metadata": {},
   "outputs": [],
   "source": [
    "data_r2 = data_r2.reset_index(drop=True)"
   ]
  },
  {
   "cell_type": "code",
   "execution_count": 14,
   "metadata": {},
   "outputs": [
    {
     "name": "stdout",
     "output_type": "stream",
     "text": [
      "<class 'pandas.core.frame.DataFrame'>\n",
      "RangeIndex: 99996 entries, 0 to 99995\n",
      "Data columns (total 5 columns):\n",
      " #   Column   Non-Null Count  Dtype  \n",
      "---  ------   --------------  -----  \n",
      " 0   id       99996 non-null  object \n",
      " 1   f0       99996 non-null  float64\n",
      " 2   f1       99996 non-null  float64\n",
      " 3   f2       99996 non-null  float64\n",
      " 4   product  99996 non-null  float64\n",
      "dtypes: float64(4), object(1)\n",
      "memory usage: 3.8+ MB\n"
     ]
    }
   ],
   "source": [
    "data_r2.info()"
   ]
  },
  {
   "cell_type": "code",
   "execution_count": 15,
   "metadata": {},
   "outputs": [
    {
     "data": {
      "text/html": [
       "<div>\n",
       "<style scoped>\n",
       "    .dataframe tbody tr th:only-of-type {\n",
       "        vertical-align: middle;\n",
       "    }\n",
       "\n",
       "    .dataframe tbody tr th {\n",
       "        vertical-align: top;\n",
       "    }\n",
       "\n",
       "    .dataframe thead th {\n",
       "        text-align: right;\n",
       "    }\n",
       "</style>\n",
       "<table border=\"1\" class=\"dataframe\">\n",
       "  <thead>\n",
       "    <tr style=\"text-align: right;\">\n",
       "      <th></th>\n",
       "      <th>id</th>\n",
       "      <th>f0</th>\n",
       "      <th>f1</th>\n",
       "      <th>f2</th>\n",
       "      <th>product</th>\n",
       "    </tr>\n",
       "  </thead>\n",
       "  <tbody>\n",
       "    <tr>\n",
       "      <th>0</th>\n",
       "      <td>fwXo0</td>\n",
       "      <td>-1.146987</td>\n",
       "      <td>0.963328</td>\n",
       "      <td>-0.828965</td>\n",
       "      <td>27.758673</td>\n",
       "    </tr>\n",
       "    <tr>\n",
       "      <th>1</th>\n",
       "      <td>WJtFt</td>\n",
       "      <td>0.262778</td>\n",
       "      <td>0.269839</td>\n",
       "      <td>-2.530187</td>\n",
       "      <td>56.069697</td>\n",
       "    </tr>\n",
       "    <tr>\n",
       "      <th>2</th>\n",
       "      <td>ovLUW</td>\n",
       "      <td>0.194587</td>\n",
       "      <td>0.289035</td>\n",
       "      <td>-5.586433</td>\n",
       "      <td>62.871910</td>\n",
       "    </tr>\n",
       "    <tr>\n",
       "      <th>3</th>\n",
       "      <td>q6cA6</td>\n",
       "      <td>2.236060</td>\n",
       "      <td>-0.553760</td>\n",
       "      <td>0.930038</td>\n",
       "      <td>114.572842</td>\n",
       "    </tr>\n",
       "    <tr>\n",
       "      <th>4</th>\n",
       "      <td>WPMUX</td>\n",
       "      <td>-0.515993</td>\n",
       "      <td>1.716266</td>\n",
       "      <td>5.899011</td>\n",
       "      <td>149.600746</td>\n",
       "    </tr>\n",
       "  </tbody>\n",
       "</table>\n",
       "</div>"
      ],
      "text/plain": [
       "      id        f0        f1        f2     product\n",
       "0  fwXo0 -1.146987  0.963328 -0.828965   27.758673\n",
       "1  WJtFt  0.262778  0.269839 -2.530187   56.069697\n",
       "2  ovLUW  0.194587  0.289035 -5.586433   62.871910\n",
       "3  q6cA6  2.236060 -0.553760  0.930038  114.572842\n",
       "4  WPMUX -0.515993  1.716266  5.899011  149.600746"
      ]
     },
     "execution_count": 15,
     "metadata": {},
     "output_type": "execute_result"
    }
   ],
   "source": [
    "data_r3.head()"
   ]
  },
  {
   "cell_type": "code",
   "execution_count": 16,
   "metadata": {},
   "outputs": [
    {
     "data": {
      "text/plain": [
       "4"
      ]
     },
     "execution_count": 16,
     "metadata": {},
     "output_type": "execute_result"
    }
   ],
   "source": [
    "data_r3.id.duplicated().sum()"
   ]
  },
  {
   "cell_type": "code",
   "execution_count": 17,
   "metadata": {
    "scrolled": false
   },
   "outputs": [
    {
     "data": {
      "text/html": [
       "<div>\n",
       "<style scoped>\n",
       "    .dataframe tbody tr th:only-of-type {\n",
       "        vertical-align: middle;\n",
       "    }\n",
       "\n",
       "    .dataframe tbody tr th {\n",
       "        vertical-align: top;\n",
       "    }\n",
       "\n",
       "    .dataframe thead th {\n",
       "        text-align: right;\n",
       "    }\n",
       "</style>\n",
       "<table border=\"1\" class=\"dataframe\">\n",
       "  <thead>\n",
       "    <tr style=\"text-align: right;\">\n",
       "      <th></th>\n",
       "      <th>id</th>\n",
       "      <th>f0</th>\n",
       "      <th>f1</th>\n",
       "      <th>f2</th>\n",
       "      <th>product</th>\n",
       "    </tr>\n",
       "  </thead>\n",
       "  <tbody>\n",
       "    <tr>\n",
       "      <th>11449</th>\n",
       "      <td>VF7Jo</td>\n",
       "      <td>2.122656</td>\n",
       "      <td>-0.858275</td>\n",
       "      <td>5.746001</td>\n",
       "      <td>181.716817</td>\n",
       "    </tr>\n",
       "    <tr>\n",
       "      <th>28039</th>\n",
       "      <td>xCHr8</td>\n",
       "      <td>1.633027</td>\n",
       "      <td>0.368135</td>\n",
       "      <td>-2.378367</td>\n",
       "      <td>6.120525</td>\n",
       "    </tr>\n",
       "    <tr>\n",
       "      <th>43233</th>\n",
       "      <td>xCHr8</td>\n",
       "      <td>-0.847066</td>\n",
       "      <td>2.101796</td>\n",
       "      <td>5.597130</td>\n",
       "      <td>184.388641</td>\n",
       "    </tr>\n",
       "    <tr>\n",
       "      <th>44378</th>\n",
       "      <td>Vcm5J</td>\n",
       "      <td>-1.229484</td>\n",
       "      <td>-2.439204</td>\n",
       "      <td>1.222909</td>\n",
       "      <td>137.968290</td>\n",
       "    </tr>\n",
       "    <tr>\n",
       "      <th>45404</th>\n",
       "      <td>KUPhW</td>\n",
       "      <td>0.231846</td>\n",
       "      <td>-1.698941</td>\n",
       "      <td>4.990775</td>\n",
       "      <td>11.716299</td>\n",
       "    </tr>\n",
       "    <tr>\n",
       "      <th>49564</th>\n",
       "      <td>VF7Jo</td>\n",
       "      <td>-0.883115</td>\n",
       "      <td>0.560537</td>\n",
       "      <td>0.723601</td>\n",
       "      <td>136.233420</td>\n",
       "    </tr>\n",
       "    <tr>\n",
       "      <th>55967</th>\n",
       "      <td>KUPhW</td>\n",
       "      <td>1.211150</td>\n",
       "      <td>3.176408</td>\n",
       "      <td>5.543540</td>\n",
       "      <td>132.831802</td>\n",
       "    </tr>\n",
       "    <tr>\n",
       "      <th>95090</th>\n",
       "      <td>Vcm5J</td>\n",
       "      <td>2.587702</td>\n",
       "      <td>1.986875</td>\n",
       "      <td>2.482245</td>\n",
       "      <td>92.327572</td>\n",
       "    </tr>\n",
       "  </tbody>\n",
       "</table>\n",
       "</div>"
      ],
      "text/plain": [
       "          id        f0        f1        f2     product\n",
       "11449  VF7Jo  2.122656 -0.858275  5.746001  181.716817\n",
       "28039  xCHr8  1.633027  0.368135 -2.378367    6.120525\n",
       "43233  xCHr8 -0.847066  2.101796  5.597130  184.388641\n",
       "44378  Vcm5J -1.229484 -2.439204  1.222909  137.968290\n",
       "45404  KUPhW  0.231846 -1.698941  4.990775   11.716299\n",
       "49564  VF7Jo -0.883115  0.560537  0.723601  136.233420\n",
       "55967  KUPhW  1.211150  3.176408  5.543540  132.831802\n",
       "95090  Vcm5J  2.587702  1.986875  2.482245   92.327572"
      ]
     },
     "execution_count": 17,
     "metadata": {},
     "output_type": "execute_result"
    }
   ],
   "source": [
    "data_r3[data_r3.id.duplicated(keep=False) == True]"
   ]
  },
  {
   "cell_type": "markdown",
   "metadata": {},
   "source": [
    "И в данных третьего региона удалим 4 дубликата."
   ]
  },
  {
   "cell_type": "code",
   "execution_count": 18,
   "metadata": {},
   "outputs": [],
   "source": [
    "data_r3 = data_r3.drop_duplicates(subset=['id'])"
   ]
  },
  {
   "cell_type": "code",
   "execution_count": 19,
   "metadata": {},
   "outputs": [],
   "source": [
    "data_r3 = data_r3.reset_index(drop=True)"
   ]
  },
  {
   "cell_type": "code",
   "execution_count": 20,
   "metadata": {},
   "outputs": [
    {
     "name": "stdout",
     "output_type": "stream",
     "text": [
      "<class 'pandas.core.frame.DataFrame'>\n",
      "RangeIndex: 99996 entries, 0 to 99995\n",
      "Data columns (total 5 columns):\n",
      " #   Column   Non-Null Count  Dtype  \n",
      "---  ------   --------------  -----  \n",
      " 0   id       99996 non-null  object \n",
      " 1   f0       99996 non-null  float64\n",
      " 2   f1       99996 non-null  float64\n",
      " 3   f2       99996 non-null  float64\n",
      " 4   product  99996 non-null  float64\n",
      "dtypes: float64(4), object(1)\n",
      "memory usage: 3.8+ MB\n"
     ]
    }
   ],
   "source": [
    "data_r3.info()"
   ]
  },
  {
   "cell_type": "markdown",
   "metadata": {},
   "source": [
    "Данные обработаны и готовы для обучения моделей."
   ]
  },
  {
   "cell_type": "markdown",
   "metadata": {},
   "source": [
    "## Обучение и проверка модели"
   ]
  },
  {
   "cell_type": "code",
   "execution_count": 21,
   "metadata": {
    "scrolled": true
   },
   "outputs": [],
   "source": [
    "def training_model(data):\n",
    "    new_data = data.drop('id', axis=1)\n",
    "    features = new_data.drop('product', axis=1)\n",
    "    target = new_data['product']\n",
    "    features_train, features_valid, target_train, target_valid =  train_test_split(features, target, test_size=0.25, random_state=222)\n",
    "    model = LinearRegression()\n",
    "    model.fit(features_train, target_train)\n",
    "    predictions = model.predict(features_valid)\n",
    "    scores = abs(cross_val_score(estimator=model, X=features_valid, y=target_valid, cv=5, scoring='neg_root_mean_squared_error'))\n",
    "    final_score = sum(scores) / len(scores)\n",
    "    return predictions, final_score, features_train, features_valid, target_train, target_valid"
   ]
  },
  {
   "cell_type": "code",
   "execution_count": 22,
   "metadata": {},
   "outputs": [
    {
     "name": "stdout",
     "output_type": "stream",
     "text": [
      "RMSE региона 1: 37.686724030042114\n",
      "Средний предсказанный запас сырья, тыс. бар: 92.59425562354359\n"
     ]
    }
   ],
   "source": [
    "result_r1 = training_model(data_r1)\n",
    "print(f'RMSE региона 1: {result_r1[1]}')   \n",
    "print(f'Средний предсказанный запас сырья, тыс. бар: {result_r1[0].mean()}')"
   ]
  },
  {
   "cell_type": "code",
   "execution_count": 23,
   "metadata": {},
   "outputs": [
    {
     "name": "stdout",
     "output_type": "stream",
     "text": [
      "RMSE региона 2: 0.8863678535714312\n",
      "Средний предсказанный запас сырья, тыс. бар: 68.69896994322433\n"
     ]
    }
   ],
   "source": [
    "result_r2 = training_model(data_r2)\n",
    "print(f'RMSE региона 2: {result_r2[1]}')   \n",
    "print(f'Средний предсказанный запас сырья, тыс. бар: {result_r2[0].mean()}')"
   ]
  },
  {
   "cell_type": "code",
   "execution_count": 24,
   "metadata": {},
   "outputs": [
    {
     "name": "stdout",
     "output_type": "stream",
     "text": [
      "RMSE региона 3: 40.04043744045968\n",
      "Средний предсказанный запас сырья, тыс. бар.: 95.05059715461914\n"
     ]
    }
   ],
   "source": [
    "result_r3 = training_model(data_r3)\n",
    "print(f'RMSE региона 3: {result_r3[1]}')   \n",
    "print(f'Средний предсказанный запас сырья, тыс. бар.: {result_r3[0].mean()}')"
   ]
  },
  {
   "cell_type": "markdown",
   "metadata": {},
   "source": [
    "Можно заметить, что модель очень точно спрогнозировала значения во втором регионе относительно остальных двух."
   ]
  },
  {
   "cell_type": "markdown",
   "metadata": {},
   "source": [
    "## Подготовка к расчёту прибыли"
   ]
  },
  {
   "cell_type": "code",
   "execution_count": 25,
   "metadata": {},
   "outputs": [],
   "source": [
    "PROFIT = 450000\n",
    "BUDGET = 10_000_000_000\n",
    "min_profit = BUDGET / 200\n",
    "min_volume = min_profit / PROFIT"
   ]
  },
  {
   "cell_type": "code",
   "execution_count": 26,
   "metadata": {
    "scrolled": true
   },
   "outputs": [
    {
     "name": "stdout",
     "output_type": "stream",
     "text": [
      "Достаточный объём сырья для безубыточной разработки новой скважины: 111.11111111111111 тыс. бар.\n"
     ]
    }
   ],
   "source": [
    "print(f'Достаточный объём сырья для безубыточной разработки новой скважины: {min_volume} тыс. бар.')"
   ]
  },
  {
   "cell_type": "markdown",
   "metadata": {},
   "source": [
    "Значение достаточного объёма сырья для безубыточной разработки новой скважины выше средних предсказанных показателей. Этого стоило ожидать, так как некоторые скважины могут добывать совсем немного нефти, когда другие могут и превышать этот порог в несколько раз, именно такие скважины нам придётся и отыскать."
   ]
  },
  {
   "cell_type": "markdown",
   "metadata": {},
   "source": [
    "## Расчёт прибыли и рисков "
   ]
  },
  {
   "cell_type": "code",
   "execution_count": 27,
   "metadata": {},
   "outputs": [],
   "source": [
    "def revenue(prediction, target, count):\n",
    "    target = target.reset_index(drop=True)\n",
    "    pred_sort = pd.Series(prediction).sort_values(ascending=False)\n",
    "    selected = target[pred_sort.index][:count]\n",
    "    volume = selected.sum()\n",
    "    full_profit = ((volume * PROFIT) / 1_000_000_000) - 10\n",
    "    return volume, full_profit"
   ]
  },
  {
   "cell_type": "code",
   "execution_count": 28,
   "metadata": {
    "scrolled": false
   },
   "outputs": [],
   "source": [
    "top_200_r1_volume = revenue(training_model(data_r1)[0], training_model(data_r1)[5], 200)[0]\n",
    "top_200_r1_full_profit = revenue(training_model(data_r1)[0], training_model(data_r1)[5], 200)[1]"
   ]
  },
  {
   "cell_type": "code",
   "execution_count": 29,
   "metadata": {
    "scrolled": true
   },
   "outputs": [
    {
     "name": "stdout",
     "output_type": "stream",
     "text": [
      "Сумма объёма сырья лучших 200 скважин 1-ого региона, если верить предсказаниям: 30037.984304537407 тыс. бар.\n",
      "Прибыль для полученного объёма сырья 1-ого региона, если верить предсказаниям: 3.5170929370418342 млрд рублей\n"
     ]
    }
   ],
   "source": [
    "print(f'Сумма объёма сырья лучших 200 скважин 1-ого региона, если верить предсказаниям: {top_200_r1_volume} тыс. бар.')\n",
    "print(f'Прибыль для полученного объёма сырья 1-ого региона, если верить предсказаниям: {top_200_r1_full_profit} млрд рублей')"
   ]
  },
  {
   "cell_type": "code",
   "execution_count": 30,
   "metadata": {},
   "outputs": [],
   "source": [
    "top_200_r2_volume = revenue(training_model(data_r2)[0], training_model(data_r2)[5], 200)[0]\n",
    "top_200_r2_full_profit = revenue(training_model(data_r2)[0], training_model(data_r2)[5], 200)[1]"
   ]
  },
  {
   "cell_type": "code",
   "execution_count": 31,
   "metadata": {},
   "outputs": [
    {
     "name": "stdout",
     "output_type": "stream",
     "text": [
      "Сумма объёма сырья лучших 200 скважин 2-ого региона, если верить предсказаниям: 27589.081548181137 тыс. бар.\n",
      "Прибыль для полученного объёма сырья 2-ого региона, если верить предсказаниям: 2.415086696681511 млрд рублей\n"
     ]
    }
   ],
   "source": [
    "print(f'Сумма объёма сырья лучших 200 скважин 2-ого региона, если верить предсказаниям: {top_200_r2_volume} тыс. бар.')\n",
    "print(f'Прибыль для полученного объёма сырья 2-ого региона, если верить предсказаниям: {top_200_r2_full_profit} млрд рублей')"
   ]
  },
  {
   "cell_type": "code",
   "execution_count": 32,
   "metadata": {},
   "outputs": [],
   "source": [
    "top_200_r3_volume = revenue(training_model(data_r3)[0], training_model(data_r3)[5], 200)[0]\n",
    "top_200_r3_full_profit = revenue(training_model(data_r3)[0], training_model(data_r3)[5], 200)[1]"
   ]
  },
  {
   "cell_type": "code",
   "execution_count": 33,
   "metadata": {},
   "outputs": [
    {
     "name": "stdout",
     "output_type": "stream",
     "text": [
      "Сумма объёма сырья лучших 200 скважин 3-ого региона, если верить предсказаниям: 27575.106543037917 тыс. бар.\n",
      "Прибыль для полученного объёма сырья 3-ого региона, если верить предсказаниям: 2.408797944367061 млрд рублей\n"
     ]
    }
   ],
   "source": [
    "print(f'Сумма объёма сырья лучших 200 скважин 3-ого региона, если верить предсказаниям: {top_200_r3_volume} тыс. бар.')\n",
    "print(f'Прибыль для полученного объёма сырья 3-ого региона, если верить предсказаниям: {top_200_r3_full_profit} млрд рублей')"
   ]
  },
  {
   "cell_type": "code",
   "execution_count": 34,
   "metadata": {},
   "outputs": [],
   "source": [
    "def bootstrap(target, predictions):\n",
    "    values = []\n",
    "    state = np.random.RandomState(222)\n",
    "    for i in range(1000):\n",
    "        target = target.reset_index(drop=True)\n",
    "        target_subsample = target.sample(n=500, random_state=state, replace=True)\n",
    "        predictions_subsample = predictions[target_subsample.index]\n",
    "        values.append(revenue(predictions_subsample, target_subsample, 200)[1])\n",
    "    value = pd.Series(values)\n",
    "    mean_profit = value.mean()\n",
    "    max_profit = value.max()\n",
    "    min_profit = value.min()\n",
    "    risk = sum(value<0)*100 / len(value)\n",
    "    conf_interval = t.interval(0.95, len(value)-1, value.mean(), value.sem())\n",
    "    lower = value.quantile(0.025)\n",
    "    higher = value.quantile(0.975)\n",
    "    return value, mean_profit, max_profit, min_profit, risk, conf_interval, lower, higher"
   ]
  },
  {
   "cell_type": "code",
   "execution_count": 35,
   "metadata": {},
   "outputs": [],
   "source": [
    "final_r1 = (bootstrap(training_model(data_r1)[5], training_model(data_r1)[0]))"
   ]
  },
  {
   "cell_type": "code",
   "execution_count": 36,
   "metadata": {},
   "outputs": [
    {
     "name": "stdout",
     "output_type": "stream",
     "text": [
      "Данные для 1-ого региона:\n",
      "\n",
      "Средняя прибыль: 0.449 млрд. рублей\n",
      "Максимальная прибыль: 1.23 млрд. рублей\n",
      "Минимальная прибыль: -0.234 млрд. рублей\n",
      "Риск убытка: 5.2 %\n",
      "Доверительный интервал: (0.43249848866213275, 0.4656134148338789) млрд. рублей\n",
      "2,5%-квантиль: -0.0654 млрд. рублей\n",
      "97,5%-квантиль: 0.942 млрд. рублей\n"
     ]
    }
   ],
   "source": [
    "print('Данные для 1-ого региона:\\n')\n",
    "print(f'Средняя прибыль: {final_r1[1]:.3} млрд. рублей')\n",
    "print(f'Максимальная прибыль: {final_r1[2]:.3} млрд. рублей')\n",
    "print(f'Минимальная прибыль: {final_r1[3]:.3} млрд. рублей')\n",
    "print(f'Риск убытка: {final_r1[4]} %')\n",
    "print(f'Доверительный интервал: {final_r1[5]} млрд. рублей')\n",
    "print(f'2,5%-квантиль: {final_r1[6]:.3} млрд. рублей')\n",
    "print(f'97,5%-квантиль: {final_r1[7]:.3} млрд. рублей')"
   ]
  },
  {
   "cell_type": "code",
   "execution_count": 37,
   "metadata": {},
   "outputs": [],
   "source": [
    "final_r2 = (bootstrap(training_model(data_r2)[5], training_model(data_r2)[0]))"
   ]
  },
  {
   "cell_type": "code",
   "execution_count": 38,
   "metadata": {
    "scrolled": false
   },
   "outputs": [
    {
     "name": "stdout",
     "output_type": "stream",
     "text": [
      "Данные для 2-ого региона:\n",
      "\n",
      "Средняя прибыль: 0.442 млрд. рублей\n",
      "Максимальная прибыль: 1.07 млрд. рублей\n",
      "Минимальная прибыль: -0.246 млрд. рублей\n",
      "Риск убытка: 1.9 %\n",
      "Доверительный интервал: (0.4296524900610265, 0.4550084658909382) млрд. рублей\n",
      "2,5%-квантиль: 0.0288 млрд. рублей\n",
      "97,5%-квантиль: 0.84 млрд. рублей\n"
     ]
    }
   ],
   "source": [
    "print('Данные для 2-ого региона:\\n')\n",
    "print(f'Средняя прибыль: {final_r2[1]:.3} млрд. рублей')\n",
    "print(f'Максимальная прибыль: {final_r2[2]:.3} млрд. рублей')\n",
    "print(f'Минимальная прибыль: {final_r2[3]:.3} млрд. рублей')\n",
    "print(f'Риск убытка: {final_r2[4]} %')\n",
    "print(f'Доверительный интервал: {final_r2[5]} млрд. рублей')\n",
    "print(f'2,5%-квантиль: {final_r2[6]:.3} млрд. рублей')\n",
    "print(f'97,5%-квантиль: {final_r2[7]:.3} млрд. рублей')"
   ]
  },
  {
   "cell_type": "code",
   "execution_count": 39,
   "metadata": {},
   "outputs": [],
   "source": [
    "final_r3 = (bootstrap(training_model(data_r3)[5], training_model(data_r3)[0]))"
   ]
  },
  {
   "cell_type": "code",
   "execution_count": 40,
   "metadata": {},
   "outputs": [
    {
     "name": "stdout",
     "output_type": "stream",
     "text": [
      "Данные для 3-ого региона:\n",
      "\n",
      "Средняя прибыль: 0.375 млрд. рублей\n",
      "Максимальная прибыль: 1.24 млрд. рублей\n",
      "Минимальная прибыль: -0.51 млрд. рублей\n",
      "Риск убытка: 7.0 %\n",
      "Доверительный интервал: (0.3591537087580651, 0.39129777604485333) млрд. рублей\n",
      "2,5%-квантиль: -0.138 млрд. рублей\n",
      "97,5%-квантиль: 0.885 млрд. рублей\n"
     ]
    }
   ],
   "source": [
    "print('Данные для 3-ого региона:\\n')\n",
    "print(f'Средняя прибыль: {final_r3[1]:.3} млрд. рублей')\n",
    "print(f'Максимальная прибыль: {final_r3[2]:.3} млрд. рублей')\n",
    "print(f'Минимальная прибыль: {final_r3[3]:.3} млрд. рублей')\n",
    "print(f'Риск убытка: {final_r3[4]} %')\n",
    "print(f'Доверительный интервал: {final_r3[5]} млрд. рублей')\n",
    "print(f'2,5%-квантиль: {final_r3[6]:.3} млрд. рублей')\n",
    "print(f'97,5%-квантиль: {final_r3[7]:.3} млрд. рублей')"
   ]
  },
  {
   "cell_type": "markdown",
   "metadata": {},
   "source": [
    "Только один регион имеет риск убытка менее 2,5 %, это регион под номером 2."
   ]
  },
  {
   "cell_type": "markdown",
   "metadata": {},
   "source": [
    "Исследование можно считать успешным, так как по его итогам для добывающей компании «ГлавРосГосНефть» был определён регион, где добыча принесёт наибольшую прибыль. Этим регионом оказался \"Регион-2\", риски убытка составили 1,9 %, а потенциальная средняя прибыль - 442 миллиона рублей, что составляет ~4.4 % от изначального бюджета."
   ]
  }
 ],
 "metadata": {
  "ExecuteTimeLog": [
   {
    "duration": 433,
    "start_time": "2022-12-26T12:46:16.127Z"
   },
   {
    "duration": 726,
    "start_time": "2022-12-26T12:46:56.695Z"
   },
   {
    "duration": 17,
    "start_time": "2022-12-26T12:47:49.779Z"
   },
   {
    "duration": 8,
    "start_time": "2022-12-26T12:47:56.832Z"
   },
   {
    "duration": 8,
    "start_time": "2022-12-26T12:48:05.277Z"
   },
   {
    "duration": 17,
    "start_time": "2022-12-26T12:48:16.097Z"
   },
   {
    "duration": 14,
    "start_time": "2022-12-26T12:48:25.267Z"
   },
   {
    "duration": 13,
    "start_time": "2022-12-26T12:48:30.996Z"
   },
   {
    "duration": 49,
    "start_time": "2022-12-26T13:03:00.010Z"
   },
   {
    "duration": 45,
    "start_time": "2022-12-26T13:03:04.571Z"
   },
   {
    "duration": 48,
    "start_time": "2022-12-26T13:03:08.476Z"
   },
   {
    "duration": 69,
    "start_time": "2022-12-26T13:08:26.085Z"
   },
   {
    "duration": 5,
    "start_time": "2022-12-26T13:08:30.047Z"
   },
   {
    "duration": 152,
    "start_time": "2022-12-26T13:08:34.779Z"
   },
   {
    "duration": 18,
    "start_time": "2022-12-26T13:09:41.520Z"
   },
   {
    "duration": 24,
    "start_time": "2022-12-26T13:20:21.656Z"
   },
   {
    "duration": 8,
    "start_time": "2022-12-26T13:20:25.593Z"
   },
   {
    "duration": 9,
    "start_time": "2022-12-26T13:20:28.895Z"
   },
   {
    "duration": 16,
    "start_time": "2022-12-26T13:20:32.822Z"
   },
   {
    "duration": 38,
    "start_time": "2022-12-26T13:20:52.672Z"
   },
   {
    "duration": 27,
    "start_time": "2022-12-26T13:21:53.473Z"
   },
   {
    "duration": 34,
    "start_time": "2022-12-26T13:22:16.197Z"
   },
   {
    "duration": 32,
    "start_time": "2022-12-26T13:23:11.270Z"
   },
   {
    "duration": 48,
    "start_time": "2022-12-26T13:24:08.176Z"
   },
   {
    "duration": 23,
    "start_time": "2022-12-26T13:24:13.399Z"
   },
   {
    "duration": 26,
    "start_time": "2022-12-26T13:24:22.303Z"
   },
   {
    "duration": 23,
    "start_time": "2022-12-26T13:24:31.384Z"
   },
   {
    "duration": 60,
    "start_time": "2022-12-26T13:25:13.980Z"
   },
   {
    "duration": 15,
    "start_time": "2022-12-26T13:25:35.163Z"
   },
   {
    "duration": 33,
    "start_time": "2022-12-26T13:26:18.764Z"
   },
   {
    "duration": 15,
    "start_time": "2022-12-26T13:26:31.898Z"
   },
   {
    "duration": 36,
    "start_time": "2022-12-26T13:26:39.199Z"
   },
   {
    "duration": 20,
    "start_time": "2022-12-26T13:26:43.068Z"
   },
   {
    "duration": 8,
    "start_time": "2022-12-26T13:27:03.015Z"
   },
   {
    "duration": 18,
    "start_time": "2022-12-26T13:27:06.282Z"
   },
   {
    "duration": 26,
    "start_time": "2022-12-26T13:28:02.566Z"
   },
   {
    "duration": 7,
    "start_time": "2022-12-26T13:28:25.261Z"
   },
   {
    "duration": 18,
    "start_time": "2022-12-26T13:28:31.482Z"
   },
   {
    "duration": 28,
    "start_time": "2022-12-26T13:28:59.670Z"
   },
   {
    "duration": 8,
    "start_time": "2022-12-26T13:29:11.668Z"
   },
   {
    "duration": 21,
    "start_time": "2022-12-26T13:29:17.064Z"
   },
   {
    "duration": 858,
    "start_time": "2022-12-26T15:21:23.881Z"
   },
   {
    "duration": 4,
    "start_time": "2022-12-26T15:22:52.324Z"
   },
   {
    "duration": 1093,
    "start_time": "2022-12-27T10:33:11.384Z"
   },
   {
    "duration": 1572,
    "start_time": "2022-12-27T10:33:13.229Z"
   },
   {
    "duration": 15,
    "start_time": "2022-12-27T10:33:15.348Z"
   },
   {
    "duration": 17,
    "start_time": "2022-12-27T10:33:15.962Z"
   },
   {
    "duration": 28,
    "start_time": "2022-12-27T10:33:16.392Z"
   },
   {
    "duration": 25,
    "start_time": "2022-12-27T10:33:18.124Z"
   },
   {
    "duration": 7,
    "start_time": "2022-12-27T10:33:18.342Z"
   },
   {
    "duration": 15,
    "start_time": "2022-12-27T10:33:18.473Z"
   },
   {
    "duration": 9,
    "start_time": "2022-12-27T10:33:19.292Z"
   },
   {
    "duration": 18,
    "start_time": "2022-12-27T10:33:19.498Z"
   },
   {
    "duration": 35,
    "start_time": "2022-12-27T10:33:20.222Z"
   },
   {
    "duration": 1067,
    "start_time": "2022-12-27T10:33:26.603Z"
   },
   {
    "duration": 352,
    "start_time": "2022-12-27T10:33:27.673Z"
   },
   {
    "duration": 14,
    "start_time": "2022-12-27T10:33:28.027Z"
   },
   {
    "duration": 22,
    "start_time": "2022-12-27T10:33:28.042Z"
   },
   {
    "duration": 42,
    "start_time": "2022-12-27T10:33:28.065Z"
   },
   {
    "duration": 24,
    "start_time": "2022-12-27T10:33:28.108Z"
   },
   {
    "duration": 9,
    "start_time": "2022-12-27T10:33:28.133Z"
   },
   {
    "duration": 20,
    "start_time": "2022-12-27T10:33:28.143Z"
   },
   {
    "duration": 8,
    "start_time": "2022-12-27T10:33:28.165Z"
   },
   {
    "duration": 30,
    "start_time": "2022-12-27T10:33:28.176Z"
   },
   {
    "duration": 34,
    "start_time": "2022-12-27T10:33:28.212Z"
   },
   {
    "duration": 29,
    "start_time": "2022-12-27T10:33:28.248Z"
   },
   {
    "duration": 6,
    "start_time": "2022-12-27T10:33:28.279Z"
   },
   {
    "duration": 44,
    "start_time": "2022-12-27T10:33:28.287Z"
   },
   {
    "duration": 33,
    "start_time": "2022-12-27T10:33:28.333Z"
   },
   {
    "duration": 61,
    "start_time": "2022-12-27T10:33:28.368Z"
   },
   {
    "duration": 28,
    "start_time": "2022-12-27T10:33:28.430Z"
   },
   {
    "duration": 26,
    "start_time": "2022-12-27T10:33:28.460Z"
   },
   {
    "duration": 6,
    "start_time": "2022-12-27T10:33:28.488Z"
   },
   {
    "duration": 20,
    "start_time": "2022-12-27T10:33:28.495Z"
   },
   {
    "duration": 4,
    "start_time": "2022-12-27T10:33:28.516Z"
   },
   {
    "duration": 90,
    "start_time": "2022-12-27T10:39:46.562Z"
   },
   {
    "duration": 13,
    "start_time": "2022-12-27T10:40:37.278Z"
   },
   {
    "duration": 13,
    "start_time": "2022-12-27T10:42:12.011Z"
   },
   {
    "duration": 1018,
    "start_time": "2022-12-27T14:41:56.474Z"
   },
   {
    "duration": 1522,
    "start_time": "2022-12-27T14:41:57.494Z"
   },
   {
    "duration": 17,
    "start_time": "2022-12-27T14:41:59.017Z"
   },
   {
    "duration": 19,
    "start_time": "2022-12-27T14:41:59.035Z"
   },
   {
    "duration": 30,
    "start_time": "2022-12-27T14:41:59.055Z"
   },
   {
    "duration": 45,
    "start_time": "2022-12-27T14:41:59.086Z"
   },
   {
    "duration": 7,
    "start_time": "2022-12-27T14:41:59.132Z"
   },
   {
    "duration": 16,
    "start_time": "2022-12-27T14:41:59.140Z"
   },
   {
    "duration": 8,
    "start_time": "2022-12-27T14:41:59.158Z"
   },
   {
    "duration": 24,
    "start_time": "2022-12-27T14:41:59.168Z"
   },
   {
    "duration": 46,
    "start_time": "2022-12-27T14:41:59.194Z"
   },
   {
    "duration": 25,
    "start_time": "2022-12-27T14:41:59.241Z"
   },
   {
    "duration": 7,
    "start_time": "2022-12-27T14:41:59.267Z"
   },
   {
    "duration": 16,
    "start_time": "2022-12-27T14:41:59.276Z"
   },
   {
    "duration": 30,
    "start_time": "2022-12-27T14:41:59.293Z"
   },
   {
    "duration": 22,
    "start_time": "2022-12-27T14:41:59.325Z"
   },
   {
    "duration": 27,
    "start_time": "2022-12-27T14:41:59.349Z"
   },
   {
    "duration": 51,
    "start_time": "2022-12-27T14:41:59.379Z"
   },
   {
    "duration": 7,
    "start_time": "2022-12-27T14:41:59.432Z"
   },
   {
    "duration": 25,
    "start_time": "2022-12-27T14:41:59.441Z"
   },
   {
    "duration": 125,
    "start_time": "2022-12-27T14:41:59.468Z"
   },
   {
    "duration": 1092,
    "start_time": "2022-12-27T14:42:29.103Z"
   },
   {
    "duration": 349,
    "start_time": "2022-12-27T14:42:30.197Z"
   },
   {
    "duration": 17,
    "start_time": "2022-12-27T14:42:30.547Z"
   },
   {
    "duration": 59,
    "start_time": "2022-12-27T14:42:30.566Z"
   },
   {
    "duration": 44,
    "start_time": "2022-12-27T14:42:30.627Z"
   },
   {
    "duration": 36,
    "start_time": "2022-12-27T14:42:30.672Z"
   },
   {
    "duration": 16,
    "start_time": "2022-12-27T14:42:30.709Z"
   },
   {
    "duration": 30,
    "start_time": "2022-12-27T14:42:30.727Z"
   },
   {
    "duration": 14,
    "start_time": "2022-12-27T14:42:30.759Z"
   },
   {
    "duration": 43,
    "start_time": "2022-12-27T14:42:30.775Z"
   },
   {
    "duration": 44,
    "start_time": "2022-12-27T14:42:30.819Z"
   },
   {
    "duration": 42,
    "start_time": "2022-12-27T14:42:30.865Z"
   },
   {
    "duration": 14,
    "start_time": "2022-12-27T14:42:30.908Z"
   },
   {
    "duration": 34,
    "start_time": "2022-12-27T14:42:30.924Z"
   },
   {
    "duration": 16,
    "start_time": "2022-12-27T14:42:30.959Z"
   },
   {
    "duration": 41,
    "start_time": "2022-12-27T14:42:30.977Z"
   },
   {
    "duration": 40,
    "start_time": "2022-12-27T14:42:31.020Z"
   },
   {
    "duration": 33,
    "start_time": "2022-12-27T14:42:31.061Z"
   },
   {
    "duration": 6,
    "start_time": "2022-12-27T14:42:31.096Z"
   },
   {
    "duration": 16,
    "start_time": "2022-12-27T14:42:31.104Z"
   },
   {
    "duration": 74,
    "start_time": "2022-12-27T14:42:31.121Z"
   },
   {
    "duration": 1023,
    "start_time": "2022-12-27T14:42:50.676Z"
   },
   {
    "duration": 335,
    "start_time": "2022-12-27T14:42:51.700Z"
   },
   {
    "duration": 15,
    "start_time": "2022-12-27T14:42:52.037Z"
   },
   {
    "duration": 17,
    "start_time": "2022-12-27T14:42:52.054Z"
   },
   {
    "duration": 64,
    "start_time": "2022-12-27T14:42:52.073Z"
   },
   {
    "duration": 24,
    "start_time": "2022-12-27T14:42:52.138Z"
   },
   {
    "duration": 6,
    "start_time": "2022-12-27T14:42:52.163Z"
   },
   {
    "duration": 16,
    "start_time": "2022-12-27T14:42:52.171Z"
   },
   {
    "duration": 8,
    "start_time": "2022-12-27T14:42:52.189Z"
   },
   {
    "duration": 18,
    "start_time": "2022-12-27T14:42:52.221Z"
   },
   {
    "duration": 26,
    "start_time": "2022-12-27T14:42:52.241Z"
   },
   {
    "duration": 24,
    "start_time": "2022-12-27T14:42:52.269Z"
   },
   {
    "duration": 27,
    "start_time": "2022-12-27T14:42:52.295Z"
   },
   {
    "duration": 20,
    "start_time": "2022-12-27T14:42:52.324Z"
   },
   {
    "duration": 11,
    "start_time": "2022-12-27T14:42:52.346Z"
   },
   {
    "duration": 27,
    "start_time": "2022-12-27T14:42:52.359Z"
   },
   {
    "duration": 51,
    "start_time": "2022-12-27T14:42:52.388Z"
   },
   {
    "duration": 28,
    "start_time": "2022-12-27T14:42:52.441Z"
   },
   {
    "duration": 7,
    "start_time": "2022-12-27T14:42:52.471Z"
   },
   {
    "duration": 25,
    "start_time": "2022-12-27T14:42:52.480Z"
   },
   {
    "duration": 130,
    "start_time": "2022-12-27T14:42:52.507Z"
   },
   {
    "duration": 1037,
    "start_time": "2022-12-27T14:43:22.662Z"
   },
   {
    "duration": 364,
    "start_time": "2022-12-27T14:43:23.700Z"
   },
   {
    "duration": 19,
    "start_time": "2022-12-27T14:43:24.067Z"
   },
   {
    "duration": 35,
    "start_time": "2022-12-27T14:43:24.089Z"
   },
   {
    "duration": 40,
    "start_time": "2022-12-27T14:43:24.126Z"
   },
   {
    "duration": 28,
    "start_time": "2022-12-27T14:43:24.168Z"
   },
   {
    "duration": 27,
    "start_time": "2022-12-27T14:43:24.199Z"
   },
   {
    "duration": 18,
    "start_time": "2022-12-27T14:43:24.228Z"
   },
   {
    "duration": 12,
    "start_time": "2022-12-27T14:43:24.248Z"
   },
   {
    "duration": 27,
    "start_time": "2022-12-27T14:43:24.263Z"
   },
   {
    "duration": 52,
    "start_time": "2022-12-27T14:43:24.292Z"
   },
   {
    "duration": 25,
    "start_time": "2022-12-27T14:43:24.346Z"
   },
   {
    "duration": 6,
    "start_time": "2022-12-27T14:43:24.372Z"
   },
   {
    "duration": 13,
    "start_time": "2022-12-27T14:43:24.380Z"
   },
   {
    "duration": 29,
    "start_time": "2022-12-27T14:43:24.395Z"
   },
   {
    "duration": 20,
    "start_time": "2022-12-27T14:43:24.425Z"
   },
   {
    "duration": 29,
    "start_time": "2022-12-27T14:43:24.446Z"
   },
   {
    "duration": 47,
    "start_time": "2022-12-27T14:43:24.476Z"
   },
   {
    "duration": 6,
    "start_time": "2022-12-27T14:43:24.525Z"
   },
   {
    "duration": 14,
    "start_time": "2022-12-27T14:43:24.533Z"
   },
   {
    "duration": 132,
    "start_time": "2022-12-27T14:43:24.549Z"
   },
   {
    "duration": 1107,
    "start_time": "2022-12-27T14:44:39.907Z"
   },
   {
    "duration": 361,
    "start_time": "2022-12-27T14:44:41.016Z"
   },
   {
    "duration": 15,
    "start_time": "2022-12-27T14:44:41.379Z"
   },
   {
    "duration": 60,
    "start_time": "2022-12-27T14:44:41.396Z"
   },
   {
    "duration": 60,
    "start_time": "2022-12-27T14:44:41.457Z"
   },
   {
    "duration": 48,
    "start_time": "2022-12-27T14:44:41.519Z"
   },
   {
    "duration": 26,
    "start_time": "2022-12-27T14:44:41.568Z"
   },
   {
    "duration": 48,
    "start_time": "2022-12-27T14:44:41.596Z"
   },
   {
    "duration": 12,
    "start_time": "2022-12-27T14:44:41.646Z"
   },
   {
    "duration": 25,
    "start_time": "2022-12-27T14:44:41.661Z"
   },
   {
    "duration": 35,
    "start_time": "2022-12-27T14:44:41.688Z"
   },
   {
    "duration": 24,
    "start_time": "2022-12-27T14:44:41.725Z"
   },
   {
    "duration": 6,
    "start_time": "2022-12-27T14:44:41.751Z"
   },
   {
    "duration": 15,
    "start_time": "2022-12-27T14:44:41.759Z"
   },
   {
    "duration": 10,
    "start_time": "2022-12-27T14:44:41.775Z"
   },
   {
    "duration": 53,
    "start_time": "2022-12-27T14:44:41.786Z"
   },
   {
    "duration": 28,
    "start_time": "2022-12-27T14:44:41.841Z"
   },
   {
    "duration": 25,
    "start_time": "2022-12-27T14:44:41.871Z"
   },
   {
    "duration": 27,
    "start_time": "2022-12-27T14:44:41.898Z"
   },
   {
    "duration": 15,
    "start_time": "2022-12-27T14:44:41.926Z"
   },
   {
    "duration": 126,
    "start_time": "2022-12-27T14:44:41.942Z"
   },
   {
    "duration": 1050,
    "start_time": "2022-12-27T14:45:26.962Z"
   },
   {
    "duration": 341,
    "start_time": "2022-12-27T14:45:28.013Z"
   },
   {
    "duration": 16,
    "start_time": "2022-12-27T14:45:28.355Z"
   },
   {
    "duration": 19,
    "start_time": "2022-12-27T14:45:28.373Z"
   },
   {
    "duration": 43,
    "start_time": "2022-12-27T14:45:28.393Z"
   },
   {
    "duration": 26,
    "start_time": "2022-12-27T14:45:28.438Z"
   },
   {
    "duration": 7,
    "start_time": "2022-12-27T14:45:28.465Z"
   },
   {
    "duration": 22,
    "start_time": "2022-12-27T14:45:28.474Z"
   },
   {
    "duration": 25,
    "start_time": "2022-12-27T14:45:28.498Z"
   },
   {
    "duration": 20,
    "start_time": "2022-12-27T14:45:28.526Z"
   },
   {
    "duration": 42,
    "start_time": "2022-12-27T14:45:28.548Z"
   },
   {
    "duration": 34,
    "start_time": "2022-12-27T14:45:28.592Z"
   },
   {
    "duration": 7,
    "start_time": "2022-12-27T14:45:28.627Z"
   },
   {
    "duration": 15,
    "start_time": "2022-12-27T14:45:28.635Z"
   },
   {
    "duration": 9,
    "start_time": "2022-12-27T14:45:28.651Z"
   },
   {
    "duration": 24,
    "start_time": "2022-12-27T14:45:28.662Z"
   },
   {
    "duration": 52,
    "start_time": "2022-12-27T14:45:28.687Z"
   },
   {
    "duration": 24,
    "start_time": "2022-12-27T14:45:28.741Z"
   },
   {
    "duration": 7,
    "start_time": "2022-12-27T14:45:28.766Z"
   },
   {
    "duration": 15,
    "start_time": "2022-12-27T14:45:28.774Z"
   },
   {
    "duration": 161,
    "start_time": "2022-12-27T14:45:28.790Z"
   },
   {
    "duration": 1098,
    "start_time": "2022-12-27T14:47:13.663Z"
   },
   {
    "duration": 361,
    "start_time": "2022-12-27T14:47:14.763Z"
   },
   {
    "duration": 18,
    "start_time": "2022-12-27T14:47:15.125Z"
   },
   {
    "duration": 30,
    "start_time": "2022-12-27T14:47:15.145Z"
   },
   {
    "duration": 59,
    "start_time": "2022-12-27T14:47:15.177Z"
   },
   {
    "duration": 45,
    "start_time": "2022-12-27T14:47:15.237Z"
   },
   {
    "duration": 8,
    "start_time": "2022-12-27T14:47:15.284Z"
   },
   {
    "duration": 37,
    "start_time": "2022-12-27T14:47:15.294Z"
   },
   {
    "duration": 33,
    "start_time": "2022-12-27T14:47:15.333Z"
   },
   {
    "duration": 30,
    "start_time": "2022-12-27T14:47:15.368Z"
   },
   {
    "duration": 51,
    "start_time": "2022-12-27T14:47:15.399Z"
   },
   {
    "duration": 40,
    "start_time": "2022-12-27T14:47:15.451Z"
   },
   {
    "duration": 30,
    "start_time": "2022-12-27T14:47:15.493Z"
   },
   {
    "duration": 53,
    "start_time": "2022-12-27T14:47:15.525Z"
   },
   {
    "duration": 19,
    "start_time": "2022-12-27T14:47:15.579Z"
   },
   {
    "duration": 43,
    "start_time": "2022-12-27T14:47:15.600Z"
   },
   {
    "duration": 66,
    "start_time": "2022-12-27T14:47:15.645Z"
   },
   {
    "duration": 30,
    "start_time": "2022-12-27T14:47:15.712Z"
   },
   {
    "duration": 6,
    "start_time": "2022-12-27T14:47:15.743Z"
   },
   {
    "duration": 22,
    "start_time": "2022-12-27T14:47:15.751Z"
   },
   {
    "duration": 325,
    "start_time": "2022-12-27T14:47:15.774Z"
   },
   {
    "duration": 1102,
    "start_time": "2022-12-27T14:47:51.488Z"
   },
   {
    "duration": 351,
    "start_time": "2022-12-27T14:47:52.592Z"
   },
   {
    "duration": 19,
    "start_time": "2022-12-27T14:47:52.945Z"
   },
   {
    "duration": 17,
    "start_time": "2022-12-27T14:47:52.966Z"
   },
   {
    "duration": 45,
    "start_time": "2022-12-27T14:47:52.984Z"
   },
   {
    "duration": 24,
    "start_time": "2022-12-27T14:47:53.031Z"
   },
   {
    "duration": 7,
    "start_time": "2022-12-27T14:47:53.056Z"
   },
   {
    "duration": 16,
    "start_time": "2022-12-27T14:47:53.065Z"
   },
   {
    "duration": 9,
    "start_time": "2022-12-27T14:47:53.082Z"
   },
   {
    "duration": 45,
    "start_time": "2022-12-27T14:47:53.093Z"
   },
   {
    "duration": 24,
    "start_time": "2022-12-27T14:47:53.140Z"
   },
   {
    "duration": 23,
    "start_time": "2022-12-27T14:47:53.166Z"
   },
   {
    "duration": 34,
    "start_time": "2022-12-27T14:47:53.191Z"
   },
   {
    "duration": 15,
    "start_time": "2022-12-27T14:47:53.227Z"
   },
   {
    "duration": 9,
    "start_time": "2022-12-27T14:47:53.244Z"
   },
   {
    "duration": 21,
    "start_time": "2022-12-27T14:47:53.254Z"
   },
   {
    "duration": 48,
    "start_time": "2022-12-27T14:47:53.277Z"
   },
   {
    "duration": 22,
    "start_time": "2022-12-27T14:47:53.327Z"
   },
   {
    "duration": 7,
    "start_time": "2022-12-27T14:47:53.351Z"
   },
   {
    "duration": 14,
    "start_time": "2022-12-27T14:47:53.359Z"
   },
   {
    "duration": 323,
    "start_time": "2022-12-27T14:47:53.375Z"
   },
   {
    "duration": 1017,
    "start_time": "2022-12-27T14:48:06.783Z"
   },
   {
    "duration": 351,
    "start_time": "2022-12-27T14:48:07.802Z"
   },
   {
    "duration": 17,
    "start_time": "2022-12-27T14:48:08.155Z"
   },
   {
    "duration": 22,
    "start_time": "2022-12-27T14:48:08.174Z"
   },
   {
    "duration": 40,
    "start_time": "2022-12-27T14:48:08.197Z"
   },
   {
    "duration": 26,
    "start_time": "2022-12-27T14:48:08.238Z"
   },
   {
    "duration": 7,
    "start_time": "2022-12-27T14:48:08.266Z"
   },
   {
    "duration": 16,
    "start_time": "2022-12-27T14:48:08.275Z"
   },
   {
    "duration": 34,
    "start_time": "2022-12-27T14:48:08.292Z"
   },
   {
    "duration": 23,
    "start_time": "2022-12-27T14:48:08.329Z"
   },
   {
    "duration": 29,
    "start_time": "2022-12-27T14:48:08.354Z"
   },
   {
    "duration": 44,
    "start_time": "2022-12-27T14:48:08.385Z"
   },
   {
    "duration": 8,
    "start_time": "2022-12-27T14:48:08.431Z"
   },
   {
    "duration": 16,
    "start_time": "2022-12-27T14:48:08.440Z"
   },
   {
    "duration": 10,
    "start_time": "2022-12-27T14:48:08.458Z"
   },
   {
    "duration": 26,
    "start_time": "2022-12-27T14:48:08.469Z"
   },
   {
    "duration": 55,
    "start_time": "2022-12-27T14:48:08.497Z"
   },
   {
    "duration": 26,
    "start_time": "2022-12-27T14:48:08.553Z"
   },
   {
    "duration": 7,
    "start_time": "2022-12-27T14:48:08.580Z"
   },
   {
    "duration": 41,
    "start_time": "2022-12-27T14:48:08.589Z"
   },
   {
    "duration": 134,
    "start_time": "2022-12-27T14:48:08.631Z"
   },
   {
    "duration": 1098,
    "start_time": "2022-12-27T14:48:18.599Z"
   },
   {
    "duration": 364,
    "start_time": "2022-12-27T14:48:19.699Z"
   },
   {
    "duration": 16,
    "start_time": "2022-12-27T14:48:20.064Z"
   },
   {
    "duration": 32,
    "start_time": "2022-12-27T14:48:20.082Z"
   },
   {
    "duration": 47,
    "start_time": "2022-12-27T14:48:20.116Z"
   },
   {
    "duration": 29,
    "start_time": "2022-12-27T14:48:20.165Z"
   },
   {
    "duration": 8,
    "start_time": "2022-12-27T14:48:20.196Z"
   },
   {
    "duration": 18,
    "start_time": "2022-12-27T14:48:20.206Z"
   },
   {
    "duration": 22,
    "start_time": "2022-12-27T14:48:20.226Z"
   },
   {
    "duration": 32,
    "start_time": "2022-12-27T14:48:20.250Z"
   },
   {
    "duration": 52,
    "start_time": "2022-12-27T14:48:20.284Z"
   },
   {
    "duration": 33,
    "start_time": "2022-12-27T14:48:20.337Z"
   },
   {
    "duration": 16,
    "start_time": "2022-12-27T14:48:20.371Z"
   },
   {
    "duration": 33,
    "start_time": "2022-12-27T14:48:20.390Z"
   },
   {
    "duration": 15,
    "start_time": "2022-12-27T14:48:20.425Z"
   },
   {
    "duration": 51,
    "start_time": "2022-12-27T14:48:20.442Z"
   },
   {
    "duration": 56,
    "start_time": "2022-12-27T14:48:20.495Z"
   },
   {
    "duration": 38,
    "start_time": "2022-12-27T14:48:20.553Z"
   },
   {
    "duration": 7,
    "start_time": "2022-12-27T14:48:20.593Z"
   },
   {
    "duration": 40,
    "start_time": "2022-12-27T14:48:20.601Z"
   },
   {
    "duration": 255,
    "start_time": "2022-12-27T14:48:20.643Z"
   },
   {
    "duration": 1119,
    "start_time": "2022-12-27T14:49:00.886Z"
   },
   {
    "duration": 351,
    "start_time": "2022-12-27T14:49:02.007Z"
   },
   {
    "duration": 16,
    "start_time": "2022-12-27T14:49:02.359Z"
   },
   {
    "duration": 41,
    "start_time": "2022-12-27T14:49:02.378Z"
   },
   {
    "duration": 64,
    "start_time": "2022-12-27T14:49:02.421Z"
   },
   {
    "duration": 39,
    "start_time": "2022-12-27T14:49:02.486Z"
   },
   {
    "duration": 12,
    "start_time": "2022-12-27T14:49:02.526Z"
   },
   {
    "duration": 33,
    "start_time": "2022-12-27T14:49:02.540Z"
   },
   {
    "duration": 21,
    "start_time": "2022-12-27T14:49:02.575Z"
   },
   {
    "duration": 42,
    "start_time": "2022-12-27T14:49:02.599Z"
   },
   {
    "duration": 87,
    "start_time": "2022-12-27T14:49:02.643Z"
   },
   {
    "duration": 43,
    "start_time": "2022-12-27T14:49:02.732Z"
   },
   {
    "duration": 37,
    "start_time": "2022-12-27T14:49:02.777Z"
   },
   {
    "duration": 52,
    "start_time": "2022-12-27T14:49:02.815Z"
   },
   {
    "duration": 49,
    "start_time": "2022-12-27T14:49:02.869Z"
   },
   {
    "duration": 33,
    "start_time": "2022-12-27T14:49:02.920Z"
   },
   {
    "duration": 46,
    "start_time": "2022-12-27T14:49:02.954Z"
   },
   {
    "duration": 43,
    "start_time": "2022-12-27T14:49:03.002Z"
   },
   {
    "duration": 48,
    "start_time": "2022-12-27T14:49:03.047Z"
   },
   {
    "duration": 27,
    "start_time": "2022-12-27T14:49:03.097Z"
   },
   {
    "duration": 98,
    "start_time": "2022-12-27T14:49:03.126Z"
   },
   {
    "duration": 135,
    "start_time": "2022-12-27T14:49:23.489Z"
   },
   {
    "duration": 115,
    "start_time": "2022-12-27T14:49:43.009Z"
   },
   {
    "duration": 1146,
    "start_time": "2022-12-27T14:50:43.221Z"
   },
   {
    "duration": 356,
    "start_time": "2022-12-27T14:50:44.369Z"
   },
   {
    "duration": 15,
    "start_time": "2022-12-27T14:50:44.727Z"
   },
   {
    "duration": 18,
    "start_time": "2022-12-27T14:50:44.744Z"
   },
   {
    "duration": 33,
    "start_time": "2022-12-27T14:50:44.764Z"
   },
   {
    "duration": 46,
    "start_time": "2022-12-27T14:50:44.799Z"
   },
   {
    "duration": 7,
    "start_time": "2022-12-27T14:50:44.847Z"
   },
   {
    "duration": 17,
    "start_time": "2022-12-27T14:50:44.855Z"
   },
   {
    "duration": 8,
    "start_time": "2022-12-27T14:50:44.874Z"
   },
   {
    "duration": 42,
    "start_time": "2022-12-27T14:50:44.885Z"
   },
   {
    "duration": 36,
    "start_time": "2022-12-27T14:50:44.929Z"
   },
   {
    "duration": 25,
    "start_time": "2022-12-27T14:50:44.966Z"
   },
   {
    "duration": 7,
    "start_time": "2022-12-27T14:50:44.993Z"
   },
   {
    "duration": 18,
    "start_time": "2022-12-27T14:50:45.022Z"
   },
   {
    "duration": 11,
    "start_time": "2022-12-27T14:50:45.041Z"
   },
   {
    "duration": 21,
    "start_time": "2022-12-27T14:50:45.054Z"
   },
   {
    "duration": 50,
    "start_time": "2022-12-27T14:50:45.076Z"
   },
   {
    "duration": 24,
    "start_time": "2022-12-27T14:50:45.128Z"
   },
   {
    "duration": 7,
    "start_time": "2022-12-27T14:50:45.154Z"
   },
   {
    "duration": 19,
    "start_time": "2022-12-27T14:50:45.162Z"
   },
   {
    "duration": 345,
    "start_time": "2022-12-27T14:50:45.183Z"
   },
   {
    "duration": 1086,
    "start_time": "2022-12-27T14:50:59.739Z"
   },
   {
    "duration": 372,
    "start_time": "2022-12-27T14:51:00.827Z"
   },
   {
    "duration": 25,
    "start_time": "2022-12-27T14:51:01.201Z"
   },
   {
    "duration": 24,
    "start_time": "2022-12-27T14:51:01.229Z"
   },
   {
    "duration": 42,
    "start_time": "2022-12-27T14:51:01.255Z"
   },
   {
    "duration": 39,
    "start_time": "2022-12-27T14:51:01.299Z"
   },
   {
    "duration": 7,
    "start_time": "2022-12-27T14:51:01.341Z"
   },
   {
    "duration": 25,
    "start_time": "2022-12-27T14:51:01.349Z"
   },
   {
    "duration": 24,
    "start_time": "2022-12-27T14:51:01.376Z"
   },
   {
    "duration": 35,
    "start_time": "2022-12-27T14:51:01.403Z"
   },
   {
    "duration": 46,
    "start_time": "2022-12-27T14:51:01.440Z"
   },
   {
    "duration": 52,
    "start_time": "2022-12-27T14:51:01.488Z"
   },
   {
    "duration": 7,
    "start_time": "2022-12-27T14:51:01.542Z"
   },
   {
    "duration": 26,
    "start_time": "2022-12-27T14:51:01.550Z"
   },
   {
    "duration": 15,
    "start_time": "2022-12-27T14:51:01.578Z"
   },
   {
    "duration": 67,
    "start_time": "2022-12-27T14:51:01.595Z"
   },
   {
    "duration": 46,
    "start_time": "2022-12-27T14:51:01.664Z"
   },
   {
    "duration": 28,
    "start_time": "2022-12-27T14:51:01.712Z"
   },
   {
    "duration": 7,
    "start_time": "2022-12-27T14:51:01.742Z"
   },
   {
    "duration": 16,
    "start_time": "2022-12-27T14:51:01.751Z"
   },
   {
    "duration": 155,
    "start_time": "2022-12-27T14:51:01.768Z"
   },
   {
    "duration": 1059,
    "start_time": "2022-12-27T14:51:09.153Z"
   },
   {
    "duration": 362,
    "start_time": "2022-12-27T14:51:10.214Z"
   },
   {
    "duration": 17,
    "start_time": "2022-12-27T14:51:10.578Z"
   },
   {
    "duration": 32,
    "start_time": "2022-12-27T14:51:10.597Z"
   },
   {
    "duration": 32,
    "start_time": "2022-12-27T14:51:10.630Z"
   },
   {
    "duration": 26,
    "start_time": "2022-12-27T14:51:10.664Z"
   },
   {
    "duration": 7,
    "start_time": "2022-12-27T14:51:10.692Z"
   },
   {
    "duration": 15,
    "start_time": "2022-12-27T14:51:10.723Z"
   },
   {
    "duration": 9,
    "start_time": "2022-12-27T14:51:10.740Z"
   },
   {
    "duration": 22,
    "start_time": "2022-12-27T14:51:10.751Z"
   },
   {
    "duration": 48,
    "start_time": "2022-12-27T14:51:10.775Z"
   },
   {
    "duration": 24,
    "start_time": "2022-12-27T14:51:10.825Z"
   },
   {
    "duration": 6,
    "start_time": "2022-12-27T14:51:10.851Z"
   },
   {
    "duration": 15,
    "start_time": "2022-12-27T14:51:10.858Z"
   },
   {
    "duration": 8,
    "start_time": "2022-12-27T14:51:10.875Z"
   },
   {
    "duration": 52,
    "start_time": "2022-12-27T14:51:10.884Z"
   },
   {
    "duration": 31,
    "start_time": "2022-12-27T14:51:10.938Z"
   },
   {
    "duration": 24,
    "start_time": "2022-12-27T14:51:10.970Z"
   },
   {
    "duration": 6,
    "start_time": "2022-12-27T14:51:10.995Z"
   },
   {
    "duration": 31,
    "start_time": "2022-12-27T14:51:11.003Z"
   },
   {
    "duration": 389,
    "start_time": "2022-12-27T14:51:11.036Z"
   },
   {
    "duration": 1080,
    "start_time": "2022-12-27T14:55:08.694Z"
   },
   {
    "duration": 353,
    "start_time": "2022-12-27T14:55:09.775Z"
   },
   {
    "duration": 17,
    "start_time": "2022-12-27T14:55:10.130Z"
   },
   {
    "duration": 48,
    "start_time": "2022-12-27T14:55:10.150Z"
   },
   {
    "duration": 48,
    "start_time": "2022-12-27T14:55:10.200Z"
   },
   {
    "duration": 51,
    "start_time": "2022-12-27T14:55:10.250Z"
   },
   {
    "duration": 16,
    "start_time": "2022-12-27T14:55:10.303Z"
   },
   {
    "duration": 69,
    "start_time": "2022-12-27T14:55:10.320Z"
   },
   {
    "duration": 45,
    "start_time": "2022-12-27T14:55:10.391Z"
   },
   {
    "duration": 46,
    "start_time": "2022-12-27T14:55:10.438Z"
   },
   {
    "duration": 45,
    "start_time": "2022-12-27T14:55:10.486Z"
   },
   {
    "duration": 72,
    "start_time": "2022-12-27T14:55:10.533Z"
   },
   {
    "duration": 22,
    "start_time": "2022-12-27T14:55:10.607Z"
   },
   {
    "duration": 49,
    "start_time": "2022-12-27T14:55:10.630Z"
   },
   {
    "duration": 32,
    "start_time": "2022-12-27T14:55:10.681Z"
   },
   {
    "duration": 39,
    "start_time": "2022-12-27T14:55:10.715Z"
   },
   {
    "duration": 66,
    "start_time": "2022-12-27T14:55:10.756Z"
   },
   {
    "duration": 38,
    "start_time": "2022-12-27T14:55:10.824Z"
   },
   {
    "duration": 27,
    "start_time": "2022-12-27T14:55:10.863Z"
   },
   {
    "duration": 31,
    "start_time": "2022-12-27T14:55:10.892Z"
   },
   {
    "duration": 301,
    "start_time": "2022-12-27T14:55:10.925Z"
   },
   {
    "duration": 1184,
    "start_time": "2022-12-27T14:55:32.080Z"
   },
   {
    "duration": 421,
    "start_time": "2022-12-27T14:55:33.267Z"
   },
   {
    "duration": 33,
    "start_time": "2022-12-27T14:55:33.690Z"
   },
   {
    "duration": 75,
    "start_time": "2022-12-27T14:55:33.725Z"
   },
   {
    "duration": 82,
    "start_time": "2022-12-27T14:55:33.802Z"
   },
   {
    "duration": 84,
    "start_time": "2022-12-27T14:55:33.886Z"
   },
   {
    "duration": 47,
    "start_time": "2022-12-27T14:55:33.972Z"
   },
   {
    "duration": 56,
    "start_time": "2022-12-27T14:55:34.021Z"
   },
   {
    "duration": 52,
    "start_time": "2022-12-27T14:55:34.079Z"
   },
   {
    "duration": 74,
    "start_time": "2022-12-27T14:55:34.135Z"
   },
   {
    "duration": 71,
    "start_time": "2022-12-27T14:55:34.212Z"
   },
   {
    "duration": 63,
    "start_time": "2022-12-27T14:55:34.285Z"
   },
   {
    "duration": 23,
    "start_time": "2022-12-27T14:55:34.350Z"
   },
   {
    "duration": 42,
    "start_time": "2022-12-27T14:55:34.374Z"
   },
   {
    "duration": 28,
    "start_time": "2022-12-27T14:55:34.417Z"
   },
   {
    "duration": 47,
    "start_time": "2022-12-27T14:55:34.446Z"
   },
   {
    "duration": 79,
    "start_time": "2022-12-27T14:55:34.494Z"
   },
   {
    "duration": 60,
    "start_time": "2022-12-27T14:55:34.575Z"
   },
   {
    "duration": 21,
    "start_time": "2022-12-27T14:55:34.637Z"
   },
   {
    "duration": 40,
    "start_time": "2022-12-27T14:55:34.659Z"
   },
   {
    "duration": 325,
    "start_time": "2022-12-27T14:55:34.701Z"
   },
   {
    "duration": 1041,
    "start_time": "2022-12-27T14:56:57.272Z"
   },
   {
    "duration": 384,
    "start_time": "2022-12-27T14:56:58.315Z"
   },
   {
    "duration": 23,
    "start_time": "2022-12-27T14:56:58.701Z"
   },
   {
    "duration": 19,
    "start_time": "2022-12-27T14:56:58.727Z"
   },
   {
    "duration": 31,
    "start_time": "2022-12-27T14:56:58.747Z"
   },
   {
    "duration": 44,
    "start_time": "2022-12-27T14:56:58.780Z"
   },
   {
    "duration": 8,
    "start_time": "2022-12-27T14:56:58.826Z"
   },
   {
    "duration": 23,
    "start_time": "2022-12-27T14:56:58.835Z"
   },
   {
    "duration": 9,
    "start_time": "2022-12-27T14:56:58.860Z"
   },
   {
    "duration": 18,
    "start_time": "2022-12-27T14:56:58.872Z"
   },
   {
    "duration": 47,
    "start_time": "2022-12-27T14:56:58.891Z"
   },
   {
    "duration": 34,
    "start_time": "2022-12-27T14:56:58.940Z"
   },
   {
    "duration": 8,
    "start_time": "2022-12-27T14:56:58.975Z"
   },
   {
    "duration": 20,
    "start_time": "2022-12-27T14:56:58.984Z"
   },
   {
    "duration": 24,
    "start_time": "2022-12-27T14:56:59.006Z"
   },
   {
    "duration": 23,
    "start_time": "2022-12-27T14:56:59.032Z"
   },
   {
    "duration": 30,
    "start_time": "2022-12-27T14:56:59.057Z"
   },
   {
    "duration": 52,
    "start_time": "2022-12-27T14:56:59.089Z"
   },
   {
    "duration": 8,
    "start_time": "2022-12-27T14:56:59.143Z"
   },
   {
    "duration": 16,
    "start_time": "2022-12-27T14:56:59.153Z"
   },
   {
    "duration": 5,
    "start_time": "2022-12-27T14:56:59.170Z"
   },
   {
    "duration": 351,
    "start_time": "2022-12-27T14:56:59.177Z"
   },
   {
    "duration": 595,
    "start_time": "2022-12-27T14:56:59.530Z"
   },
   {
    "duration": 599,
    "start_time": "2022-12-27T14:57:00.126Z"
   },
   {
    "duration": 2,
    "start_time": "2022-12-27T15:07:05.344Z"
   },
   {
    "duration": 3,
    "start_time": "2022-12-27T15:07:28.395Z"
   },
   {
    "duration": 3,
    "start_time": "2022-12-27T15:20:07.899Z"
   },
   {
    "duration": 3,
    "start_time": "2022-12-27T15:21:40.220Z"
   },
   {
    "duration": 92,
    "start_time": "2022-12-27T15:22:30.057Z"
   },
   {
    "duration": 4,
    "start_time": "2022-12-27T15:22:32.675Z"
   },
   {
    "duration": 4,
    "start_time": "2022-12-27T15:22:33.996Z"
   },
   {
    "duration": 383,
    "start_time": "2022-12-27T15:30:27.843Z"
   },
   {
    "duration": 3,
    "start_time": "2022-12-27T15:30:30.185Z"
   },
   {
    "duration": 6,
    "start_time": "2022-12-27T15:31:04.032Z"
   },
   {
    "duration": 6,
    "start_time": "2022-12-27T15:32:36.313Z"
   },
   {
    "duration": 348,
    "start_time": "2022-12-27T15:39:05.175Z"
   },
   {
    "duration": 335,
    "start_time": "2022-12-27T15:39:06.895Z"
   },
   {
    "duration": 8,
    "start_time": "2022-12-27T15:42:26.970Z"
   },
   {
    "duration": 9,
    "start_time": "2022-12-27T15:42:30.669Z"
   },
   {
    "duration": 9,
    "start_time": "2022-12-27T15:42:52.837Z"
   },
   {
    "duration": 6,
    "start_time": "2022-12-27T15:43:11.934Z"
   },
   {
    "duration": 7,
    "start_time": "2022-12-27T15:43:42.948Z"
   },
   {
    "duration": 4,
    "start_time": "2022-12-27T15:43:47.967Z"
   },
   {
    "duration": 3,
    "start_time": "2022-12-27T15:45:22.870Z"
   },
   {
    "duration": 4,
    "start_time": "2022-12-27T15:45:36.650Z"
   },
   {
    "duration": 4,
    "start_time": "2022-12-27T15:46:00.247Z"
   },
   {
    "duration": 5,
    "start_time": "2022-12-27T15:46:17.537Z"
   },
   {
    "duration": 4,
    "start_time": "2022-12-27T15:46:44.749Z"
   },
   {
    "duration": 4,
    "start_time": "2022-12-27T15:46:50.788Z"
   },
   {
    "duration": 5,
    "start_time": "2022-12-27T15:46:57.734Z"
   },
   {
    "duration": 4,
    "start_time": "2022-12-27T15:47:14.456Z"
   },
   {
    "duration": 13,
    "start_time": "2022-12-27T15:47:39.821Z"
   },
   {
    "duration": 4,
    "start_time": "2022-12-27T15:47:55.765Z"
   },
   {
    "duration": 12,
    "start_time": "2022-12-27T15:48:13.519Z"
   },
   {
    "duration": 9,
    "start_time": "2022-12-27T15:48:18.989Z"
   },
   {
    "duration": 4,
    "start_time": "2022-12-27T15:48:37.844Z"
   },
   {
    "duration": 3,
    "start_time": "2022-12-27T16:36:33.794Z"
   },
   {
    "duration": 47,
    "start_time": "2022-12-27T21:05:55.215Z"
   },
   {
    "duration": 3,
    "start_time": "2022-12-27T21:05:57.969Z"
   },
   {
    "duration": 3,
    "start_time": "2022-12-27T21:05:58.627Z"
   },
   {
    "duration": 6,
    "start_time": "2022-12-27T21:05:59.005Z"
   },
   {
    "duration": 1087,
    "start_time": "2022-12-27T21:06:19.694Z"
   },
   {
    "duration": 871,
    "start_time": "2022-12-27T21:06:20.783Z"
   },
   {
    "duration": 16,
    "start_time": "2022-12-27T21:06:21.655Z"
   },
   {
    "duration": 18,
    "start_time": "2022-12-27T21:06:21.674Z"
   },
   {
    "duration": 32,
    "start_time": "2022-12-27T21:06:21.694Z"
   },
   {
    "duration": 25,
    "start_time": "2022-12-27T21:06:21.728Z"
   },
   {
    "duration": 7,
    "start_time": "2022-12-27T21:06:21.755Z"
   },
   {
    "duration": 22,
    "start_time": "2022-12-27T21:06:21.764Z"
   },
   {
    "duration": 27,
    "start_time": "2022-12-27T21:06:21.788Z"
   },
   {
    "duration": 17,
    "start_time": "2022-12-27T21:06:21.818Z"
   },
   {
    "duration": 28,
    "start_time": "2022-12-27T21:06:21.837Z"
   },
   {
    "duration": 24,
    "start_time": "2022-12-27T21:06:21.866Z"
   },
   {
    "duration": 25,
    "start_time": "2022-12-27T21:06:21.891Z"
   },
   {
    "duration": 13,
    "start_time": "2022-12-27T21:06:21.918Z"
   },
   {
    "duration": 10,
    "start_time": "2022-12-27T21:06:21.933Z"
   },
   {
    "duration": 25,
    "start_time": "2022-12-27T21:06:21.944Z"
   },
   {
    "duration": 71,
    "start_time": "2022-12-27T21:06:21.972Z"
   },
   {
    "duration": 38,
    "start_time": "2022-12-27T21:06:22.046Z"
   },
   {
    "duration": 9,
    "start_time": "2022-12-27T21:06:22.086Z"
   },
   {
    "duration": 35,
    "start_time": "2022-12-27T21:06:22.096Z"
   },
   {
    "duration": 11,
    "start_time": "2022-12-27T21:06:22.132Z"
   },
   {
    "duration": 271,
    "start_time": "2022-12-27T21:06:22.144Z"
   },
   {
    "duration": 400,
    "start_time": "2022-12-27T21:06:22.416Z"
   },
   {
    "duration": 502,
    "start_time": "2022-12-27T21:06:22.818Z"
   },
   {
    "duration": 94,
    "start_time": "2022-12-27T21:06:23.322Z"
   },
   {
    "duration": 98,
    "start_time": "2022-12-27T21:06:23.419Z"
   },
   {
    "duration": 5,
    "start_time": "2022-12-27T21:06:23.519Z"
   },
   {
    "duration": 106,
    "start_time": "2022-12-27T21:06:23.527Z"
   },
   {
    "duration": 0,
    "start_time": "2022-12-27T21:06:23.635Z"
   },
   {
    "duration": 3,
    "start_time": "2022-12-27T21:06:53.872Z"
   },
   {
    "duration": 8,
    "start_time": "2022-12-27T21:06:54.695Z"
   },
   {
    "duration": 3,
    "start_time": "2022-12-27T21:06:56.228Z"
   },
   {
    "duration": 9,
    "start_time": "2022-12-27T21:08:16.462Z"
   },
   {
    "duration": 4,
    "start_time": "2022-12-27T21:08:16.780Z"
   },
   {
    "duration": 8,
    "start_time": "2022-12-27T21:08:37.560Z"
   },
   {
    "duration": 3,
    "start_time": "2022-12-27T21:08:37.734Z"
   },
   {
    "duration": 1005,
    "start_time": "2022-12-27T21:48:54.470Z"
   },
   {
    "duration": 358,
    "start_time": "2022-12-27T21:48:55.477Z"
   },
   {
    "duration": 16,
    "start_time": "2022-12-27T21:48:55.836Z"
   },
   {
    "duration": 18,
    "start_time": "2022-12-27T21:48:55.853Z"
   },
   {
    "duration": 40,
    "start_time": "2022-12-27T21:48:55.873Z"
   },
   {
    "duration": 27,
    "start_time": "2022-12-27T21:48:55.915Z"
   },
   {
    "duration": 16,
    "start_time": "2022-12-27T21:48:55.943Z"
   },
   {
    "duration": 38,
    "start_time": "2022-12-27T21:48:55.960Z"
   },
   {
    "duration": 20,
    "start_time": "2022-12-27T21:48:56.000Z"
   },
   {
    "duration": 38,
    "start_time": "2022-12-27T21:48:56.023Z"
   },
   {
    "duration": 40,
    "start_time": "2022-12-27T21:48:56.063Z"
   },
   {
    "duration": 42,
    "start_time": "2022-12-27T21:48:56.105Z"
   },
   {
    "duration": 6,
    "start_time": "2022-12-27T21:48:56.149Z"
   },
   {
    "duration": 40,
    "start_time": "2022-12-27T21:48:56.157Z"
   },
   {
    "duration": 23,
    "start_time": "2022-12-27T21:48:56.199Z"
   },
   {
    "duration": 38,
    "start_time": "2022-12-27T21:48:56.224Z"
   },
   {
    "duration": 60,
    "start_time": "2022-12-27T21:48:56.264Z"
   },
   {
    "duration": 43,
    "start_time": "2022-12-27T21:48:56.327Z"
   },
   {
    "duration": 26,
    "start_time": "2022-12-27T21:48:56.372Z"
   },
   {
    "duration": 35,
    "start_time": "2022-12-27T21:48:56.401Z"
   },
   {
    "duration": 33,
    "start_time": "2022-12-27T21:48:56.438Z"
   },
   {
    "duration": 444,
    "start_time": "2022-12-27T21:48:56.473Z"
   },
   {
    "duration": 596,
    "start_time": "2022-12-27T21:48:56.919Z"
   },
   {
    "duration": 500,
    "start_time": "2022-12-27T21:48:57.516Z"
   },
   {
    "duration": 3,
    "start_time": "2022-12-27T21:48:58.017Z"
   },
   {
    "duration": 93,
    "start_time": "2022-12-27T21:48:58.021Z"
   },
   {
    "duration": 24,
    "start_time": "2022-12-27T21:48:58.116Z"
   },
   {
    "duration": 18,
    "start_time": "2022-12-27T21:48:58.143Z"
   },
   {
    "duration": 7,
    "start_time": "2022-12-27T21:48:58.212Z"
   },
   {
    "duration": 21,
    "start_time": "2022-12-27T21:48:58.221Z"
   },
   {
    "duration": 4,
    "start_time": "2022-12-27T21:48:58.244Z"
   },
   {
    "duration": 13,
    "start_time": "2022-12-27T21:48:58.250Z"
   },
   {
    "duration": 4,
    "start_time": "2022-12-27T21:48:58.265Z"
   },
   {
    "duration": 9,
    "start_time": "2022-12-27T21:48:58.270Z"
   },
   {
    "duration": 3,
    "start_time": "2022-12-27T21:56:20.129Z"
   },
   {
    "duration": 92,
    "start_time": "2022-12-27T21:56:22.196Z"
   },
   {
    "duration": 1101,
    "start_time": "2022-12-27T21:56:44.484Z"
   },
   {
    "duration": 365,
    "start_time": "2022-12-27T21:56:45.588Z"
   },
   {
    "duration": 15,
    "start_time": "2022-12-27T21:56:45.954Z"
   },
   {
    "duration": 17,
    "start_time": "2022-12-27T21:56:45.971Z"
   },
   {
    "duration": 34,
    "start_time": "2022-12-27T21:56:45.989Z"
   },
   {
    "duration": 25,
    "start_time": "2022-12-27T21:56:46.024Z"
   },
   {
    "duration": 7,
    "start_time": "2022-12-27T21:56:46.050Z"
   },
   {
    "duration": 15,
    "start_time": "2022-12-27T21:56:46.059Z"
   },
   {
    "duration": 8,
    "start_time": "2022-12-27T21:56:46.076Z"
   },
   {
    "duration": 17,
    "start_time": "2022-12-27T21:56:46.113Z"
   },
   {
    "duration": 23,
    "start_time": "2022-12-27T21:56:46.131Z"
   },
   {
    "duration": 22,
    "start_time": "2022-12-27T21:56:46.156Z"
   },
   {
    "duration": 7,
    "start_time": "2022-12-27T21:56:46.179Z"
   },
   {
    "duration": 38,
    "start_time": "2022-12-27T21:56:46.187Z"
   },
   {
    "duration": 10,
    "start_time": "2022-12-27T21:56:46.227Z"
   },
   {
    "duration": 23,
    "start_time": "2022-12-27T21:56:46.239Z"
   },
   {
    "duration": 52,
    "start_time": "2022-12-27T21:56:46.263Z"
   },
   {
    "duration": 32,
    "start_time": "2022-12-27T21:56:46.318Z"
   },
   {
    "duration": 8,
    "start_time": "2022-12-27T21:56:46.352Z"
   },
   {
    "duration": 33,
    "start_time": "2022-12-27T21:56:46.361Z"
   },
   {
    "duration": 6,
    "start_time": "2022-12-27T21:56:46.396Z"
   },
   {
    "duration": 411,
    "start_time": "2022-12-27T21:56:46.404Z"
   },
   {
    "duration": 500,
    "start_time": "2022-12-27T21:56:46.817Z"
   },
   {
    "duration": 498,
    "start_time": "2022-12-27T21:56:47.319Z"
   },
   {
    "duration": 2,
    "start_time": "2022-12-27T21:56:47.819Z"
   },
   {
    "duration": 4,
    "start_time": "2022-12-27T21:56:47.913Z"
   },
   {
    "duration": 100,
    "start_time": "2022-12-27T21:56:47.919Z"
   },
   {
    "duration": 107,
    "start_time": "2022-12-27T21:56:48.022Z"
   },
   {
    "duration": 0,
    "start_time": "2022-12-27T21:56:48.131Z"
   },
   {
    "duration": 0,
    "start_time": "2022-12-27T21:56:48.132Z"
   },
   {
    "duration": 0,
    "start_time": "2022-12-27T21:56:48.133Z"
   },
   {
    "duration": 0,
    "start_time": "2022-12-27T21:56:48.134Z"
   },
   {
    "duration": 0,
    "start_time": "2022-12-27T21:56:48.136Z"
   },
   {
    "duration": 0,
    "start_time": "2022-12-27T21:56:48.137Z"
   },
   {
    "duration": 3,
    "start_time": "2022-12-27T21:58:33.889Z"
   },
   {
    "duration": 9,
    "start_time": "2022-12-27T21:58:35.464Z"
   },
   {
    "duration": 9,
    "start_time": "2022-12-27T21:58:37.271Z"
   },
   {
    "duration": 3,
    "start_time": "2022-12-27T21:58:37.495Z"
   },
   {
    "duration": 9,
    "start_time": "2022-12-27T21:58:37.689Z"
   },
   {
    "duration": 4,
    "start_time": "2022-12-27T21:58:37.867Z"
   },
   {
    "duration": 9,
    "start_time": "2022-12-27T21:58:38.053Z"
   },
   {
    "duration": 4,
    "start_time": "2022-12-27T21:58:38.221Z"
   },
   {
    "duration": 3,
    "start_time": "2022-12-27T21:59:35.728Z"
   },
   {
    "duration": 9,
    "start_time": "2022-12-27T21:59:35.989Z"
   },
   {
    "duration": 3,
    "start_time": "2022-12-27T21:59:36.545Z"
   },
   {
    "duration": 8,
    "start_time": "2022-12-27T21:59:37.111Z"
   },
   {
    "duration": 3,
    "start_time": "2022-12-27T21:59:37.681Z"
   },
   {
    "duration": 8,
    "start_time": "2022-12-27T21:59:38.079Z"
   },
   {
    "duration": 4,
    "start_time": "2022-12-27T21:59:38.875Z"
   },
   {
    "duration": 1039,
    "start_time": "2022-12-27T22:04:41.133Z"
   },
   {
    "duration": 377,
    "start_time": "2022-12-27T22:04:42.174Z"
   },
   {
    "duration": 17,
    "start_time": "2022-12-27T22:04:42.553Z"
   },
   {
    "duration": 18,
    "start_time": "2022-12-27T22:04:42.573Z"
   },
   {
    "duration": 48,
    "start_time": "2022-12-27T22:04:42.593Z"
   },
   {
    "duration": 28,
    "start_time": "2022-12-27T22:04:42.643Z"
   },
   {
    "duration": 8,
    "start_time": "2022-12-27T22:04:42.672Z"
   },
   {
    "duration": 40,
    "start_time": "2022-12-27T22:04:42.682Z"
   },
   {
    "duration": 10,
    "start_time": "2022-12-27T22:04:42.723Z"
   },
   {
    "duration": 18,
    "start_time": "2022-12-27T22:04:42.736Z"
   },
   {
    "duration": 56,
    "start_time": "2022-12-27T22:04:42.756Z"
   },
   {
    "duration": 23,
    "start_time": "2022-12-27T22:04:42.814Z"
   },
   {
    "duration": 7,
    "start_time": "2022-12-27T22:04:42.839Z"
   },
   {
    "duration": 15,
    "start_time": "2022-12-27T22:04:42.847Z"
   },
   {
    "duration": 8,
    "start_time": "2022-12-27T22:04:42.864Z"
   },
   {
    "duration": 43,
    "start_time": "2022-12-27T22:04:42.874Z"
   },
   {
    "duration": 28,
    "start_time": "2022-12-27T22:04:42.918Z"
   },
   {
    "duration": 23,
    "start_time": "2022-12-27T22:04:42.948Z"
   },
   {
    "duration": 7,
    "start_time": "2022-12-27T22:04:42.972Z"
   },
   {
    "duration": 34,
    "start_time": "2022-12-27T22:04:42.981Z"
   },
   {
    "duration": 85,
    "start_time": "2022-12-27T22:04:43.017Z"
   },
   {
    "duration": 0,
    "start_time": "2022-12-27T22:04:43.112Z"
   },
   {
    "duration": 0,
    "start_time": "2022-12-27T22:04:43.113Z"
   },
   {
    "duration": 0,
    "start_time": "2022-12-27T22:04:43.115Z"
   },
   {
    "duration": 0,
    "start_time": "2022-12-27T22:04:43.116Z"
   },
   {
    "duration": 0,
    "start_time": "2022-12-27T22:04:43.117Z"
   },
   {
    "duration": 0,
    "start_time": "2022-12-27T22:04:43.118Z"
   },
   {
    "duration": 0,
    "start_time": "2022-12-27T22:04:43.119Z"
   },
   {
    "duration": 0,
    "start_time": "2022-12-27T22:04:43.120Z"
   },
   {
    "duration": 0,
    "start_time": "2022-12-27T22:04:43.121Z"
   },
   {
    "duration": 0,
    "start_time": "2022-12-27T22:04:43.122Z"
   },
   {
    "duration": 0,
    "start_time": "2022-12-27T22:04:43.123Z"
   },
   {
    "duration": 0,
    "start_time": "2022-12-27T22:04:43.125Z"
   },
   {
    "duration": 0,
    "start_time": "2022-12-27T22:04:43.126Z"
   },
   {
    "duration": 0,
    "start_time": "2022-12-27T22:04:43.127Z"
   },
   {
    "duration": 0,
    "start_time": "2022-12-27T22:04:43.127Z"
   },
   {
    "duration": 1071,
    "start_time": "2022-12-27T22:05:24.797Z"
   },
   {
    "duration": 347,
    "start_time": "2022-12-27T22:05:25.870Z"
   },
   {
    "duration": 16,
    "start_time": "2022-12-27T22:05:26.218Z"
   },
   {
    "duration": 16,
    "start_time": "2022-12-27T22:05:26.236Z"
   },
   {
    "duration": 28,
    "start_time": "2022-12-27T22:05:26.253Z"
   },
   {
    "duration": 37,
    "start_time": "2022-12-27T22:05:26.282Z"
   },
   {
    "duration": 8,
    "start_time": "2022-12-27T22:05:26.321Z"
   },
   {
    "duration": 19,
    "start_time": "2022-12-27T22:05:26.330Z"
   },
   {
    "duration": 16,
    "start_time": "2022-12-27T22:05:26.351Z"
   },
   {
    "duration": 42,
    "start_time": "2022-12-27T22:05:26.371Z"
   },
   {
    "duration": 38,
    "start_time": "2022-12-27T22:05:26.416Z"
   },
   {
    "duration": 31,
    "start_time": "2022-12-27T22:05:26.456Z"
   },
   {
    "duration": 23,
    "start_time": "2022-12-27T22:05:26.489Z"
   },
   {
    "duration": 14,
    "start_time": "2022-12-27T22:05:26.513Z"
   },
   {
    "duration": 10,
    "start_time": "2022-12-27T22:05:26.528Z"
   },
   {
    "duration": 20,
    "start_time": "2022-12-27T22:05:26.539Z"
   },
   {
    "duration": 24,
    "start_time": "2022-12-27T22:05:26.560Z"
   },
   {
    "duration": 46,
    "start_time": "2022-12-27T22:05:26.585Z"
   },
   {
    "duration": 6,
    "start_time": "2022-12-27T22:05:26.633Z"
   },
   {
    "duration": 13,
    "start_time": "2022-12-27T22:05:26.641Z"
   },
   {
    "duration": 5,
    "start_time": "2022-12-27T22:05:26.656Z"
   },
   {
    "duration": 357,
    "start_time": "2022-12-27T22:05:26.663Z"
   },
   {
    "duration": 497,
    "start_time": "2022-12-27T22:05:27.021Z"
   },
   {
    "duration": 595,
    "start_time": "2022-12-27T22:05:27.520Z"
   },
   {
    "duration": 94,
    "start_time": "2022-12-27T22:05:28.120Z"
   },
   {
    "duration": 7,
    "start_time": "2022-12-27T22:05:28.215Z"
   },
   {
    "duration": 5,
    "start_time": "2022-12-27T22:05:28.224Z"
   },
   {
    "duration": 10,
    "start_time": "2022-12-27T22:05:28.232Z"
   },
   {
    "duration": 5,
    "start_time": "2022-12-27T22:05:28.243Z"
   },
   {
    "duration": 10,
    "start_time": "2022-12-27T22:05:28.250Z"
   },
   {
    "duration": 3,
    "start_time": "2022-12-27T22:05:28.262Z"
   },
   {
    "duration": 10,
    "start_time": "2022-12-27T22:05:28.267Z"
   },
   {
    "duration": 4,
    "start_time": "2022-12-27T22:05:28.278Z"
   },
   {
    "duration": 4,
    "start_time": "2022-12-27T22:05:28.312Z"
   },
   {
    "duration": 100,
    "start_time": "2022-12-27T22:05:28.317Z"
   },
   {
    "duration": 863,
    "start_time": "2022-12-27T22:06:39.254Z"
   },
   {
    "duration": 4,
    "start_time": "2022-12-27T22:07:22.951Z"
   },
   {
    "duration": 883,
    "start_time": "2022-12-27T22:07:24.837Z"
   },
   {
    "duration": 3,
    "start_time": "2022-12-27T22:07:35.910Z"
   },
   {
    "duration": 4,
    "start_time": "2022-12-27T22:07:39.975Z"
   },
   {
    "duration": 997,
    "start_time": "2022-12-27T22:07:40.321Z"
   },
   {
    "duration": 1060,
    "start_time": "2022-12-27T22:09:48.207Z"
   },
   {
    "duration": 362,
    "start_time": "2022-12-27T22:09:49.270Z"
   },
   {
    "duration": 16,
    "start_time": "2022-12-27T22:09:49.633Z"
   },
   {
    "duration": 18,
    "start_time": "2022-12-27T22:09:49.651Z"
   },
   {
    "duration": 47,
    "start_time": "2022-12-27T22:09:49.671Z"
   },
   {
    "duration": 25,
    "start_time": "2022-12-27T22:09:49.720Z"
   },
   {
    "duration": 8,
    "start_time": "2022-12-27T22:09:49.747Z"
   },
   {
    "duration": 16,
    "start_time": "2022-12-27T22:09:49.757Z"
   },
   {
    "duration": 40,
    "start_time": "2022-12-27T22:09:49.775Z"
   },
   {
    "duration": 18,
    "start_time": "2022-12-27T22:09:49.819Z"
   },
   {
    "duration": 25,
    "start_time": "2022-12-27T22:09:49.840Z"
   },
   {
    "duration": 47,
    "start_time": "2022-12-27T22:09:49.867Z"
   },
   {
    "duration": 8,
    "start_time": "2022-12-27T22:09:49.916Z"
   },
   {
    "duration": 15,
    "start_time": "2022-12-27T22:09:49.925Z"
   },
   {
    "duration": 10,
    "start_time": "2022-12-27T22:09:49.942Z"
   },
   {
    "duration": 18,
    "start_time": "2022-12-27T22:09:49.954Z"
   },
   {
    "duration": 65,
    "start_time": "2022-12-27T22:09:49.974Z"
   },
   {
    "duration": 25,
    "start_time": "2022-12-27T22:09:50.041Z"
   },
   {
    "duration": 7,
    "start_time": "2022-12-27T22:09:50.068Z"
   },
   {
    "duration": 15,
    "start_time": "2022-12-27T22:09:50.076Z"
   },
   {
    "duration": 5,
    "start_time": "2022-12-27T22:09:50.112Z"
   },
   {
    "duration": 494,
    "start_time": "2022-12-27T22:09:50.119Z"
   },
   {
    "duration": 500,
    "start_time": "2022-12-27T22:09:50.615Z"
   },
   {
    "duration": 502,
    "start_time": "2022-12-27T22:09:51.117Z"
   },
   {
    "duration": 92,
    "start_time": "2022-12-27T22:09:51.621Z"
   },
   {
    "duration": 105,
    "start_time": "2022-12-27T22:09:51.715Z"
   },
   {
    "duration": 8,
    "start_time": "2022-12-27T22:09:51.821Z"
   },
   {
    "duration": 17,
    "start_time": "2022-12-27T22:09:51.832Z"
   },
   {
    "duration": 3,
    "start_time": "2022-12-27T22:09:51.851Z"
   },
   {
    "duration": 12,
    "start_time": "2022-12-27T22:09:51.856Z"
   },
   {
    "duration": 6,
    "start_time": "2022-12-27T22:09:51.869Z"
   },
   {
    "duration": 11,
    "start_time": "2022-12-27T22:09:51.877Z"
   },
   {
    "duration": 9,
    "start_time": "2022-12-27T22:09:51.889Z"
   },
   {
    "duration": 12,
    "start_time": "2022-12-27T22:09:51.900Z"
   },
   {
    "duration": 1964,
    "start_time": "2022-12-27T22:09:51.913Z"
   },
   {
    "duration": 1635,
    "start_time": "2022-12-27T22:10:46.216Z"
   },
   {
    "duration": 374,
    "start_time": "2022-12-27T22:11:09.139Z"
   },
   {
    "duration": 905,
    "start_time": "2022-12-27T22:11:37.111Z"
   },
   {
    "duration": 353,
    "start_time": "2022-12-27T22:11:55.866Z"
   },
   {
    "duration": 1059,
    "start_time": "2022-12-27T22:13:05.571Z"
   },
   {
    "duration": 373,
    "start_time": "2022-12-27T22:13:06.632Z"
   },
   {
    "duration": 16,
    "start_time": "2022-12-27T22:13:07.006Z"
   },
   {
    "duration": 19,
    "start_time": "2022-12-27T22:13:07.024Z"
   },
   {
    "duration": 39,
    "start_time": "2022-12-27T22:13:07.045Z"
   },
   {
    "duration": 33,
    "start_time": "2022-12-27T22:13:07.086Z"
   },
   {
    "duration": 25,
    "start_time": "2022-12-27T22:13:07.120Z"
   },
   {
    "duration": 46,
    "start_time": "2022-12-27T22:13:07.147Z"
   },
   {
    "duration": 27,
    "start_time": "2022-12-27T22:13:07.195Z"
   },
   {
    "duration": 55,
    "start_time": "2022-12-27T22:13:07.224Z"
   },
   {
    "duration": 48,
    "start_time": "2022-12-27T22:13:07.281Z"
   },
   {
    "duration": 44,
    "start_time": "2022-12-27T22:13:07.330Z"
   },
   {
    "duration": 21,
    "start_time": "2022-12-27T22:13:07.376Z"
   },
   {
    "duration": 38,
    "start_time": "2022-12-27T22:13:07.398Z"
   },
   {
    "duration": 32,
    "start_time": "2022-12-27T22:13:07.438Z"
   },
   {
    "duration": 47,
    "start_time": "2022-12-27T22:13:07.471Z"
   },
   {
    "duration": 54,
    "start_time": "2022-12-27T22:13:07.520Z"
   },
   {
    "duration": 49,
    "start_time": "2022-12-27T22:13:07.576Z"
   },
   {
    "duration": 21,
    "start_time": "2022-12-27T22:13:07.626Z"
   },
   {
    "duration": 39,
    "start_time": "2022-12-27T22:13:07.649Z"
   },
   {
    "duration": 30,
    "start_time": "2022-12-27T22:13:07.689Z"
   },
   {
    "duration": 393,
    "start_time": "2022-12-27T22:13:07.720Z"
   },
   {
    "duration": 499,
    "start_time": "2022-12-27T22:13:08.115Z"
   },
   {
    "duration": 400,
    "start_time": "2022-12-27T22:13:08.616Z"
   },
   {
    "duration": 91,
    "start_time": "2022-12-27T22:13:09.022Z"
   },
   {
    "duration": 109,
    "start_time": "2022-12-27T22:13:09.115Z"
   },
   {
    "duration": 22,
    "start_time": "2022-12-27T22:13:09.226Z"
   },
   {
    "duration": 31,
    "start_time": "2022-12-27T22:13:09.251Z"
   },
   {
    "duration": 29,
    "start_time": "2022-12-27T22:13:09.283Z"
   },
   {
    "duration": 46,
    "start_time": "2022-12-27T22:13:09.314Z"
   },
   {
    "duration": 16,
    "start_time": "2022-12-27T22:13:09.361Z"
   },
   {
    "duration": 32,
    "start_time": "2022-12-27T22:13:09.379Z"
   },
   {
    "duration": 16,
    "start_time": "2022-12-27T22:13:09.413Z"
   },
   {
    "duration": 11,
    "start_time": "2022-12-27T22:13:09.430Z"
   },
   {
    "duration": 276,
    "start_time": "2022-12-27T22:13:09.442Z"
   },
   {
    "duration": 493,
    "start_time": "2022-12-27T22:13:09.720Z"
   },
   {
    "duration": 984,
    "start_time": "2022-12-27T22:13:10.215Z"
   },
   {
    "duration": 1548,
    "start_time": "2022-12-27T22:14:03.579Z"
   },
   {
    "duration": 6,
    "start_time": "2022-12-27T22:14:26.984Z"
   },
   {
    "duration": 1331,
    "start_time": "2022-12-27T22:15:01.571Z"
   },
   {
    "duration": 1519,
    "start_time": "2022-12-27T22:15:25.423Z"
   },
   {
    "duration": 7,
    "start_time": "2022-12-27T22:15:28.452Z"
   },
   {
    "duration": 3,
    "start_time": "2022-12-27T22:16:08.860Z"
   },
   {
    "duration": 3,
    "start_time": "2022-12-27T22:16:09.836Z"
   },
   {
    "duration": 1408,
    "start_time": "2022-12-27T22:16:10.199Z"
   },
   {
    "duration": 5,
    "start_time": "2022-12-27T22:16:11.609Z"
   },
   {
    "duration": 1597,
    "start_time": "2022-12-27T22:16:29.334Z"
   },
   {
    "duration": 4,
    "start_time": "2022-12-27T22:16:31.533Z"
   },
   {
    "duration": 1391,
    "start_time": "2022-12-27T22:19:10.686Z"
   },
   {
    "duration": 3,
    "start_time": "2022-12-27T22:19:12.079Z"
   },
   {
    "duration": 1413,
    "start_time": "2022-12-27T22:19:20.097Z"
   },
   {
    "duration": 4,
    "start_time": "2022-12-27T22:19:27.903Z"
   },
   {
    "duration": 1522,
    "start_time": "2022-12-27T22:20:19.874Z"
   },
   {
    "duration": 3,
    "start_time": "2022-12-27T22:20:21.398Z"
   },
   {
    "duration": 3,
    "start_time": "2022-12-27T22:21:00.599Z"
   },
   {
    "duration": 9,
    "start_time": "2022-12-27T22:21:01.003Z"
   },
   {
    "duration": 4,
    "start_time": "2022-12-27T22:21:01.264Z"
   },
   {
    "duration": 10,
    "start_time": "2022-12-27T22:21:02.169Z"
   },
   {
    "duration": 3,
    "start_time": "2022-12-27T22:21:02.501Z"
   },
   {
    "duration": 10,
    "start_time": "2022-12-27T22:21:02.969Z"
   },
   {
    "duration": 4,
    "start_time": "2022-12-27T22:21:03.277Z"
   },
   {
    "duration": 4,
    "start_time": "2022-12-27T22:21:03.616Z"
   },
   {
    "duration": 1473,
    "start_time": "2022-12-27T22:21:03.879Z"
   },
   {
    "duration": 3,
    "start_time": "2022-12-27T22:21:05.355Z"
   },
   {
    "duration": 1518,
    "start_time": "2022-12-27T22:21:05.359Z"
   },
   {
    "duration": 4,
    "start_time": "2022-12-27T22:21:06.879Z"
   },
   {
    "duration": 1410,
    "start_time": "2022-12-27T22:21:06.885Z"
   },
   {
    "duration": 3,
    "start_time": "2022-12-27T22:21:08.297Z"
   },
   {
    "duration": 3,
    "start_time": "2022-12-27T22:28:44.170Z"
   },
   {
    "duration": 3,
    "start_time": "2022-12-27T22:28:45.091Z"
   },
   {
    "duration": 776,
    "start_time": "2022-12-27T22:28:45.447Z"
   },
   {
    "duration": 4,
    "start_time": "2022-12-27T22:32:11.203Z"
   },
   {
    "duration": 3,
    "start_time": "2022-12-27T22:32:11.956Z"
   },
   {
    "duration": 860,
    "start_time": "2022-12-27T22:32:12.764Z"
   },
   {
    "duration": 3,
    "start_time": "2022-12-27T22:32:46.763Z"
   },
   {
    "duration": 881,
    "start_time": "2022-12-27T22:32:47.734Z"
   },
   {
    "duration": 3,
    "start_time": "2022-12-27T22:33:11.412Z"
   },
   {
    "duration": 836,
    "start_time": "2022-12-27T22:33:12.882Z"
   },
   {
    "duration": 3,
    "start_time": "2022-12-27T22:33:26.934Z"
   },
   {
    "duration": 827,
    "start_time": "2022-12-27T22:33:27.487Z"
   },
   {
    "duration": 983,
    "start_time": "2022-12-27T22:33:40.768Z"
   },
   {
    "duration": 357,
    "start_time": "2022-12-27T22:33:41.753Z"
   },
   {
    "duration": 15,
    "start_time": "2022-12-27T22:33:42.111Z"
   },
   {
    "duration": 17,
    "start_time": "2022-12-27T22:33:42.128Z"
   },
   {
    "duration": 31,
    "start_time": "2022-12-27T22:33:42.146Z"
   },
   {
    "duration": 42,
    "start_time": "2022-12-27T22:33:42.179Z"
   },
   {
    "duration": 5,
    "start_time": "2022-12-27T22:33:42.223Z"
   },
   {
    "duration": 15,
    "start_time": "2022-12-27T22:33:42.230Z"
   },
   {
    "duration": 8,
    "start_time": "2022-12-27T22:33:42.247Z"
   },
   {
    "duration": 17,
    "start_time": "2022-12-27T22:33:42.257Z"
   },
   {
    "duration": 46,
    "start_time": "2022-12-27T22:33:42.276Z"
   },
   {
    "duration": 21,
    "start_time": "2022-12-27T22:33:42.324Z"
   },
   {
    "duration": 5,
    "start_time": "2022-12-27T22:33:42.347Z"
   },
   {
    "duration": 14,
    "start_time": "2022-12-27T22:33:42.353Z"
   },
   {
    "duration": 9,
    "start_time": "2022-12-27T22:33:42.368Z"
   },
   {
    "duration": 47,
    "start_time": "2022-12-27T22:33:42.378Z"
   },
   {
    "duration": 28,
    "start_time": "2022-12-27T22:33:42.427Z"
   },
   {
    "duration": 23,
    "start_time": "2022-12-27T22:33:42.456Z"
   },
   {
    "duration": 6,
    "start_time": "2022-12-27T22:33:42.480Z"
   },
   {
    "duration": 37,
    "start_time": "2022-12-27T22:33:42.487Z"
   },
   {
    "duration": 4,
    "start_time": "2022-12-27T22:33:42.526Z"
   },
   {
    "duration": 290,
    "start_time": "2022-12-27T22:33:42.532Z"
   },
   {
    "duration": 404,
    "start_time": "2022-12-27T22:33:42.913Z"
   },
   {
    "duration": 494,
    "start_time": "2022-12-27T22:33:43.319Z"
   },
   {
    "duration": 3,
    "start_time": "2022-12-27T22:33:43.815Z"
   },
   {
    "duration": 97,
    "start_time": "2022-12-27T22:33:43.822Z"
   },
   {
    "duration": 9,
    "start_time": "2022-12-27T22:33:43.920Z"
   },
   {
    "duration": 1054,
    "start_time": "2022-12-27T22:33:43.932Z"
   },
   {
    "duration": 0,
    "start_time": "2022-12-27T22:33:44.987Z"
   },
   {
    "duration": 0,
    "start_time": "2022-12-27T22:33:44.988Z"
   },
   {
    "duration": 0,
    "start_time": "2022-12-27T22:33:44.989Z"
   },
   {
    "duration": 0,
    "start_time": "2022-12-27T22:33:44.990Z"
   },
   {
    "duration": 0,
    "start_time": "2022-12-27T22:33:44.992Z"
   },
   {
    "duration": 0,
    "start_time": "2022-12-27T22:33:44.993Z"
   },
   {
    "duration": 0,
    "start_time": "2022-12-27T22:33:45.012Z"
   },
   {
    "duration": 0,
    "start_time": "2022-12-27T22:33:45.013Z"
   },
   {
    "duration": 0,
    "start_time": "2022-12-27T22:33:45.014Z"
   },
   {
    "duration": 0,
    "start_time": "2022-12-27T22:33:45.015Z"
   },
   {
    "duration": 0,
    "start_time": "2022-12-27T22:33:45.016Z"
   },
   {
    "duration": 0,
    "start_time": "2022-12-27T22:33:45.017Z"
   },
   {
    "duration": 3,
    "start_time": "2022-12-27T22:34:14.903Z"
   },
   {
    "duration": 756,
    "start_time": "2022-12-27T22:34:15.065Z"
   },
   {
    "duration": 4,
    "start_time": "2022-12-27T22:34:39.707Z"
   },
   {
    "duration": 1620,
    "start_time": "2022-12-27T22:34:41.992Z"
   },
   {
    "duration": 4,
    "start_time": "2022-12-27T22:34:46.355Z"
   },
   {
    "duration": 8,
    "start_time": "2022-12-27T22:34:58.073Z"
   },
   {
    "duration": 9,
    "start_time": "2022-12-27T22:34:58.664Z"
   },
   {
    "duration": 1737,
    "start_time": "2022-12-27T22:35:30.380Z"
   },
   {
    "duration": 3,
    "start_time": "2022-12-27T22:35:32.359Z"
   },
   {
    "duration": 3,
    "start_time": "2022-12-27T22:35:50.527Z"
   },
   {
    "duration": 980,
    "start_time": "2022-12-27T22:36:09.675Z"
   },
   {
    "duration": 359,
    "start_time": "2022-12-27T22:36:10.657Z"
   },
   {
    "duration": 16,
    "start_time": "2022-12-27T22:36:11.018Z"
   },
   {
    "duration": 18,
    "start_time": "2022-12-27T22:36:11.035Z"
   },
   {
    "duration": 33,
    "start_time": "2022-12-27T22:36:11.054Z"
   },
   {
    "duration": 38,
    "start_time": "2022-12-27T22:36:11.088Z"
   },
   {
    "duration": 6,
    "start_time": "2022-12-27T22:36:11.128Z"
   },
   {
    "duration": 14,
    "start_time": "2022-12-27T22:36:11.135Z"
   },
   {
    "duration": 11,
    "start_time": "2022-12-27T22:36:11.151Z"
   },
   {
    "duration": 21,
    "start_time": "2022-12-27T22:36:11.165Z"
   },
   {
    "duration": 46,
    "start_time": "2022-12-27T22:36:11.188Z"
   },
   {
    "duration": 36,
    "start_time": "2022-12-27T22:36:11.236Z"
   },
   {
    "duration": 6,
    "start_time": "2022-12-27T22:36:11.274Z"
   },
   {
    "duration": 14,
    "start_time": "2022-12-27T22:36:11.281Z"
   },
   {
    "duration": 17,
    "start_time": "2022-12-27T22:36:11.296Z"
   },
   {
    "duration": 20,
    "start_time": "2022-12-27T22:36:11.315Z"
   },
   {
    "duration": 26,
    "start_time": "2022-12-27T22:36:11.337Z"
   },
   {
    "duration": 21,
    "start_time": "2022-12-27T22:36:11.364Z"
   },
   {
    "duration": 28,
    "start_time": "2022-12-27T22:36:11.387Z"
   },
   {
    "duration": 14,
    "start_time": "2022-12-27T22:36:11.416Z"
   },
   {
    "duration": 6,
    "start_time": "2022-12-27T22:36:11.431Z"
   },
   {
    "duration": 277,
    "start_time": "2022-12-27T22:36:11.439Z"
   },
   {
    "duration": 495,
    "start_time": "2022-12-27T22:36:11.717Z"
   },
   {
    "duration": 401,
    "start_time": "2022-12-27T22:36:12.214Z"
   },
   {
    "duration": 3,
    "start_time": "2022-12-27T22:36:12.617Z"
   },
   {
    "duration": 8,
    "start_time": "2022-12-27T22:36:12.713Z"
   },
   {
    "duration": 6,
    "start_time": "2022-12-27T22:36:12.723Z"
   },
   {
    "duration": 1680,
    "start_time": "2022-12-27T22:36:12.732Z"
   },
   {
    "duration": 8,
    "start_time": "2022-12-27T22:36:14.414Z"
   },
   {
    "duration": 1699,
    "start_time": "2022-12-27T22:36:14.513Z"
   },
   {
    "duration": 4,
    "start_time": "2022-12-27T22:36:16.214Z"
   },
   {
    "duration": 1494,
    "start_time": "2022-12-27T22:36:16.219Z"
   },
   {
    "duration": 4,
    "start_time": "2022-12-27T22:36:17.715Z"
   },
   {
    "duration": 102,
    "start_time": "2022-12-27T22:36:17.720Z"
   },
   {
    "duration": 971,
    "start_time": "2022-12-27T22:36:17.824Z"
   },
   {
    "duration": 0,
    "start_time": "2022-12-27T22:36:18.796Z"
   },
   {
    "duration": 0,
    "start_time": "2022-12-27T22:36:18.797Z"
   },
   {
    "duration": 0,
    "start_time": "2022-12-27T22:36:18.812Z"
   },
   {
    "duration": 0,
    "start_time": "2022-12-27T22:36:18.813Z"
   },
   {
    "duration": 0,
    "start_time": "2022-12-27T22:36:18.814Z"
   },
   {
    "duration": 5,
    "start_time": "2022-12-27T22:38:36.322Z"
   },
   {
    "duration": 1552,
    "start_time": "2022-12-27T22:38:36.762Z"
   },
   {
    "duration": 5,
    "start_time": "2022-12-27T22:38:38.315Z"
   },
   {
    "duration": 1561,
    "start_time": "2022-12-27T22:38:42.551Z"
   },
   {
    "duration": 4,
    "start_time": "2022-12-27T22:38:44.114Z"
   },
   {
    "duration": 4,
    "start_time": "2022-12-27T22:38:54.502Z"
   },
   {
    "duration": 1785,
    "start_time": "2022-12-27T22:38:54.930Z"
   },
   {
    "duration": 4,
    "start_time": "2022-12-27T22:38:56.717Z"
   },
   {
    "duration": 1700,
    "start_time": "2022-12-27T22:38:56.813Z"
   },
   {
    "duration": 4,
    "start_time": "2022-12-27T22:38:58.515Z"
   },
   {
    "duration": 1890,
    "start_time": "2022-12-27T22:38:58.521Z"
   },
   {
    "duration": 97,
    "start_time": "2022-12-27T22:39:00.414Z"
   },
   {
    "duration": 3,
    "start_time": "2022-12-27T22:39:34.417Z"
   },
   {
    "duration": 1875,
    "start_time": "2022-12-27T22:39:42.516Z"
   },
   {
    "duration": 4,
    "start_time": "2022-12-27T22:39:45.716Z"
   },
   {
    "duration": 1773,
    "start_time": "2022-12-27T22:39:50.581Z"
   },
   {
    "duration": 3,
    "start_time": "2022-12-27T22:39:52.356Z"
   },
   {
    "duration": 1771,
    "start_time": "2022-12-27T22:39:52.361Z"
   },
   {
    "duration": 3,
    "start_time": "2022-12-27T22:39:54.134Z"
   },
   {
    "duration": 1842,
    "start_time": "2022-12-27T22:44:15.685Z"
   },
   {
    "duration": 2096,
    "start_time": "2022-12-27T22:44:18.216Z"
   },
   {
    "duration": 4,
    "start_time": "2022-12-27T22:44:20.895Z"
   },
   {
    "duration": 3,
    "start_time": "2022-12-27T22:44:21.507Z"
   },
   {
    "duration": 3,
    "start_time": "2022-12-27T22:46:38.527Z"
   },
   {
    "duration": 6,
    "start_time": "2022-12-27T22:51:45.579Z"
   },
   {
    "duration": 4,
    "start_time": "2022-12-27T22:56:32.802Z"
   },
   {
    "duration": 1860,
    "start_time": "2022-12-27T22:56:50.776Z"
   },
   {
    "duration": 1011,
    "start_time": "2022-12-27T22:57:03.575Z"
   },
   {
    "duration": 378,
    "start_time": "2022-12-27T22:57:04.588Z"
   },
   {
    "duration": 17,
    "start_time": "2022-12-27T22:57:04.968Z"
   },
   {
    "duration": 28,
    "start_time": "2022-12-27T22:57:04.987Z"
   },
   {
    "duration": 32,
    "start_time": "2022-12-27T22:57:05.017Z"
   },
   {
    "duration": 35,
    "start_time": "2022-12-27T22:57:05.051Z"
   },
   {
    "duration": 6,
    "start_time": "2022-12-27T22:57:05.088Z"
   },
   {
    "duration": 33,
    "start_time": "2022-12-27T22:57:05.096Z"
   },
   {
    "duration": 9,
    "start_time": "2022-12-27T22:57:05.131Z"
   },
   {
    "duration": 26,
    "start_time": "2022-12-27T22:57:05.142Z"
   },
   {
    "duration": 29,
    "start_time": "2022-12-27T22:57:05.169Z"
   },
   {
    "duration": 37,
    "start_time": "2022-12-27T22:57:05.200Z"
   },
   {
    "duration": 7,
    "start_time": "2022-12-27T22:57:05.238Z"
   },
   {
    "duration": 22,
    "start_time": "2022-12-27T22:57:05.246Z"
   },
   {
    "duration": 10,
    "start_time": "2022-12-27T22:57:05.269Z"
   },
   {
    "duration": 39,
    "start_time": "2022-12-27T22:57:05.280Z"
   },
   {
    "duration": 30,
    "start_time": "2022-12-27T22:57:05.321Z"
   },
   {
    "duration": 27,
    "start_time": "2022-12-27T22:57:05.352Z"
   },
   {
    "duration": 6,
    "start_time": "2022-12-27T22:57:05.380Z"
   },
   {
    "duration": 32,
    "start_time": "2022-12-27T22:57:05.388Z"
   },
   {
    "duration": 5,
    "start_time": "2022-12-27T22:57:05.422Z"
   },
   {
    "duration": 485,
    "start_time": "2022-12-27T22:57:05.428Z"
   },
   {
    "duration": 400,
    "start_time": "2022-12-27T22:57:05.915Z"
   },
   {
    "duration": 497,
    "start_time": "2022-12-27T22:57:06.317Z"
   },
   {
    "duration": 92,
    "start_time": "2022-12-27T22:57:06.820Z"
   },
   {
    "duration": 10,
    "start_time": "2022-12-27T22:57:06.915Z"
   },
   {
    "duration": 7,
    "start_time": "2022-12-27T22:57:06.926Z"
   },
   {
    "duration": 1877,
    "start_time": "2022-12-27T22:57:06.935Z"
   },
   {
    "duration": 4,
    "start_time": "2022-12-27T22:57:08.815Z"
   },
   {
    "duration": 1994,
    "start_time": "2022-12-27T22:57:08.820Z"
   },
   {
    "duration": 4,
    "start_time": "2022-12-27T22:57:10.816Z"
   },
   {
    "duration": 1702,
    "start_time": "2022-12-27T22:57:10.912Z"
   },
   {
    "duration": 5,
    "start_time": "2022-12-27T22:57:12.616Z"
   },
   {
    "duration": 5,
    "start_time": "2022-12-27T22:57:12.713Z"
   },
   {
    "duration": 2092,
    "start_time": "2022-12-27T22:57:12.719Z"
   },
   {
    "duration": 5,
    "start_time": "2022-12-27T22:57:28.420Z"
   },
   {
    "duration": 13734,
    "start_time": "2022-12-27T22:57:28.847Z"
   },
   {
    "duration": 13367,
    "start_time": "2022-12-27T22:57:59.309Z"
   },
   {
    "duration": 13517,
    "start_time": "2022-12-27T22:58:35.311Z"
   },
   {
    "duration": 13409,
    "start_time": "2022-12-27T22:59:08.681Z"
   },
   {
    "duration": 13312,
    "start_time": "2022-12-27T22:59:56.028Z"
   },
   {
    "duration": 1886,
    "start_time": "2022-12-27T23:01:14.416Z"
   },
   {
    "duration": 5,
    "start_time": "2022-12-27T23:01:50.256Z"
   },
   {
    "duration": 1939,
    "start_time": "2022-12-27T23:02:51.126Z"
   },
   {
    "duration": 6,
    "start_time": "2022-12-27T23:02:53.067Z"
   },
   {
    "duration": 1892,
    "start_time": "2022-12-27T23:02:53.075Z"
   },
   {
    "duration": 4,
    "start_time": "2022-12-27T23:02:54.969Z"
   },
   {
    "duration": 1889,
    "start_time": "2022-12-27T23:02:54.975Z"
   },
   {
    "duration": 5,
    "start_time": "2022-12-27T23:02:56.865Z"
   },
   {
    "duration": 4,
    "start_time": "2022-12-27T23:12:59.384Z"
   },
   {
    "duration": 6,
    "start_time": "2022-12-27T23:13:14.456Z"
   },
   {
    "duration": 11,
    "start_time": "2022-12-27T23:13:43.161Z"
   },
   {
    "duration": 11,
    "start_time": "2022-12-27T23:14:09.961Z"
   },
   {
    "duration": 5,
    "start_time": "2022-12-27T23:14:36.517Z"
   },
   {
    "duration": 4,
    "start_time": "2022-12-27T23:14:44.379Z"
   },
   {
    "duration": 4,
    "start_time": "2022-12-27T23:14:47.370Z"
   },
   {
    "duration": 1037,
    "start_time": "2022-12-27T23:24:42.572Z"
   },
   {
    "duration": 390,
    "start_time": "2022-12-27T23:24:43.611Z"
   },
   {
    "duration": 24,
    "start_time": "2022-12-27T23:24:44.003Z"
   },
   {
    "duration": 63,
    "start_time": "2022-12-27T23:24:44.030Z"
   },
   {
    "duration": 72,
    "start_time": "2022-12-27T23:24:44.095Z"
   },
   {
    "duration": 57,
    "start_time": "2022-12-27T23:24:44.169Z"
   },
   {
    "duration": 20,
    "start_time": "2022-12-27T23:24:44.228Z"
   },
   {
    "duration": 39,
    "start_time": "2022-12-27T23:24:44.250Z"
   },
   {
    "duration": 54,
    "start_time": "2022-12-27T23:24:44.291Z"
   },
   {
    "duration": 51,
    "start_time": "2022-12-27T23:24:44.347Z"
   },
   {
    "duration": 48,
    "start_time": "2022-12-27T23:24:44.400Z"
   },
   {
    "duration": 47,
    "start_time": "2022-12-27T23:24:44.449Z"
   },
   {
    "duration": 30,
    "start_time": "2022-12-27T23:24:44.498Z"
   },
   {
    "duration": 26,
    "start_time": "2022-12-27T23:24:44.530Z"
   },
   {
    "duration": 31,
    "start_time": "2022-12-27T23:24:44.558Z"
   },
   {
    "duration": 71,
    "start_time": "2022-12-27T23:24:44.591Z"
   },
   {
    "duration": 46,
    "start_time": "2022-12-27T23:24:44.664Z"
   },
   {
    "duration": 47,
    "start_time": "2022-12-27T23:24:44.713Z"
   },
   {
    "duration": 45,
    "start_time": "2022-12-27T23:24:44.762Z"
   },
   {
    "duration": 60,
    "start_time": "2022-12-27T23:24:44.809Z"
   },
   {
    "duration": 38,
    "start_time": "2022-12-27T23:24:44.871Z"
   },
   {
    "duration": 315,
    "start_time": "2022-12-27T23:24:44.911Z"
   },
   {
    "duration": 388,
    "start_time": "2022-12-27T23:24:45.228Z"
   },
   {
    "duration": 396,
    "start_time": "2022-12-27T23:24:45.621Z"
   },
   {
    "duration": 3,
    "start_time": "2022-12-27T23:24:46.022Z"
   },
   {
    "duration": 126,
    "start_time": "2022-12-27T23:24:46.028Z"
   },
   {
    "duration": 44,
    "start_time": "2022-12-27T23:24:46.156Z"
   },
   {
    "duration": 1532,
    "start_time": "2022-12-27T23:24:46.204Z"
   },
   {
    "duration": 4,
    "start_time": "2022-12-27T23:24:47.813Z"
   },
   {
    "duration": 1510,
    "start_time": "2022-12-27T23:24:47.819Z"
   },
   {
    "duration": 83,
    "start_time": "2022-12-27T23:24:49.335Z"
   },
   {
    "duration": 1791,
    "start_time": "2022-12-27T23:24:49.420Z"
   },
   {
    "duration": 6,
    "start_time": "2022-12-27T23:24:51.214Z"
   },
   {
    "duration": 34,
    "start_time": "2022-12-27T23:24:51.222Z"
   },
   {
    "duration": 1893,
    "start_time": "2022-12-27T23:24:51.257Z"
   },
   {
    "duration": 5,
    "start_time": "2022-12-27T23:24:53.151Z"
   },
   {
    "duration": 1779,
    "start_time": "2022-12-27T23:24:53.158Z"
   },
   {
    "duration": 5,
    "start_time": "2022-12-27T23:24:54.938Z"
   },
   {
    "duration": 1846,
    "start_time": "2022-12-27T23:24:54.945Z"
   },
   {
    "duration": 5,
    "start_time": "2022-12-27T23:24:56.793Z"
   }
  ],
  "kernelspec": {
   "display_name": "Python 3 (ipykernel)",
   "language": "python",
   "name": "python3"
  },
  "language_info": {
   "codemirror_mode": {
    "name": "ipython",
    "version": 3
   },
   "file_extension": ".py",
   "mimetype": "text/x-python",
   "name": "python",
   "nbconvert_exporter": "python",
   "pygments_lexer": "ipython3",
   "version": "3.9.5"
  },
  "toc": {
   "base_numbering": 1,
   "nav_menu": {},
   "number_sections": true,
   "sideBar": true,
   "skip_h1_title": true,
   "title_cell": "Table of Contents",
   "title_sidebar": "Contents",
   "toc_cell": false,
   "toc_position": {},
   "toc_section_display": true,
   "toc_window_display": true
  }
 },
 "nbformat": 4,
 "nbformat_minor": 2
}
