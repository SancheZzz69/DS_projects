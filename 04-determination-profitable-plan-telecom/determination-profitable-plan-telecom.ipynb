{
 "cells": [
  {
   "cell_type": "markdown",
   "metadata": {},
   "source": [
    "# Определение перспективного тарифа для компании Мегалайн"
   ]
  },
  {
   "cell_type": "markdown",
   "metadata": {},
   "source": [
    "## Описание проекта\n",
    "\n",
    "«Мегалайн» — федеральный оператор сотовой связи.\n",
    "Клиентам предлагают два тарифных плана: «Смарт» и «Ультра». Чтобы скорректировать рекламный бюджет, коммерческий департамент хочет понять, какой тариф приносит больше денег.\n",
    "Проведем предварительный анализ тарифов на небольшой выборке клиентов. В нашем распоряжении данные 500 пользователей «Мегалайна»: кто они, откуда, каким тарифом пользуются, сколько звонков и сообщений каждый отправил за 2018 год. Проанализируем поведение клиентов и сделаем вывод - какой тариф лучше."
   ]
  },
  {
   "cell_type": "markdown",
   "metadata": {},
   "source": [
    "## Описание тарифов\n",
    "\n",
    "### Тариф «Смарт»\n",
    "\n",
    "Ежемесячная плата: 550 рублей\n",
    "Включено 500 минут разговора, 50 сообщений и 15 Гб интернет-трафика\n",
    "Стоимость услуг сверх тарифного пакета:\n",
    "- минута разговора: 3 рубля\n",
    "- сообщение: 3 рубля\n",
    "- 1 Гб интернет-трафика: 200 рублей\n",
    "\n",
    "### Тариф «Ультра»\n",
    "\n",
    "Ежемесячная плата: 1950 рублей\n",
    "Включено 3000 минут разговора, 1000 сообщений и 30 Гб интернет-трафика\n",
    "Стоимость услуг сверх тарифного пакета:\n",
    "- минута разговора: 1 рубль\n",
    "- сообщение: 1 рубль\n",
    "- 1 Гб интернет-трафика: 150 рублей\n",
    "\n",
    "_Обратить внимание: «Мегалайн» всегда округляет вверх значения минут и мегабайтов. Если пользователь проговорил всего 1 секунду, в тарифе засчитывается целая минута._\n"
   ]
  },
  {
   "cell_type": "markdown",
   "metadata": {},
   "source": [
    "## Описание данных\n",
    "\n",
    "**Таблица users (информация о пользователях):**\n",
    "\n",
    "- user_id — уникальный идентификатор пользователя\n",
    "- first_name — имя пользователя\n",
    "- last_name — фамилия пользователя\n",
    "- age — возраст пользователя (годы)\n",
    "- reg_date — дата подключения тарифа (день, месяц, год)\n",
    "- churn_date — дата прекращения пользования тарифом (если значение пропущено, то тариф ещё действовал на момент выгрузки данных)\n",
    "- city — город проживания пользователя\n",
    "- tariff — название тарифного плана\n",
    "\n",
    "**Таблица calls (информация о звонках):**\n",
    "\n",
    "- id — уникальный номер звонка\n",
    "- call_date — дата звонка\n",
    "- duration — длительность звонка в минутах\n",
    "- user_id — идентификатор пользователя, сделавшего звонок\n",
    "\n",
    "**Таблица messages (информация о сообщениях):**\n",
    "\n",
    "- id — уникальный номер сообщения\n",
    "- message_date — дата сообщения\n",
    "- user_id — идентификатор пользователя, отправившего сообщение\n",
    "\n",
    "**Таблица internet (информация об интернет-сессиях):**\n",
    "\n",
    "- id — уникальный номер сессии\n",
    "- mb_used — объём потраченного за сессию интернет-трафика (в мегабайтах)\n",
    "- session_date — дата интернет-сессии\n",
    "- user_id — идентификатор пользователя\n",
    "\n",
    "**Таблица tariffs (информация о тарифах):**\n",
    "\n",
    "- tariff_name — название тарифа\n",
    "- rub_monthly_fee — ежемесячная абонентская плата в рублях\n",
    "- minutes_included — количество минут разговора в месяц, включённых в абонентскую плату\n",
    "- messages_included — количество сообщений в месяц, включённых в абонентскую плату\n",
    "- mb_per_month_included — объём интернет-трафика, включённого в абонентскую плату (в мегабайтах)\n",
    "- rub_per_minute — стоимость минуты разговора сверх тарифного пакета (например, если в тарифе 100 минут разговора в месяц, то со 101 минуты будет взиматься плата)\n",
    "- rub_per_message — стоимость отправки сообщения сверх тарифного пакета\n",
    "- rub_per_gb — стоимость дополнительного гигабайта интернет-трафика сверх тарифного пакета (1 гигабайт = 1024 мегабайта)\n"
   ]
  },
  {
   "cell_type": "markdown",
   "metadata": {},
   "source": [
    "## Общая информация из имеющихся данных"
   ]
  },
  {
   "cell_type": "code",
   "execution_count": 1,
   "metadata": {
    "ExecuteTime": {
     "end_time": "2023-06-26T13:48:35.719024900Z",
     "start_time": "2023-06-26T13:48:35.427760500Z"
    }
   },
   "outputs": [],
   "source": [
    "import pandas as pd\n",
    "import numpy as np\n",
    "import matplotlib.pyplot as plt\n",
    "import seaborn as sns\n",
    "from scipy import stats as st"
   ]
  },
  {
   "cell_type": "code",
   "execution_count": 2,
   "metadata": {
    "ExecuteTime": {
     "end_time": "2023-06-26T13:48:35.720025800Z",
     "start_time": "2023-06-26T13:48:35.430763200Z"
    }
   },
   "outputs": [],
   "source": [
    "calls = pd.read_csv('calls.csv') # информация о звонках\n",
    "internet = pd.read_csv('internet.csv') # информация об интернет-сессиях\n",
    "messages = pd.read_csv('messages.csv') # информация о сообщениях\n",
    "tariffs = pd.read_csv('tariffs.csv') # информация о тарифах\n",
    "users = pd.read_csv('users.csv') # информация о пользователях"
   ]
  },
  {
   "cell_type": "markdown",
   "metadata": {},
   "source": [
    "### Изучим датасет Calls "
   ]
  },
  {
   "cell_type": "code",
   "execution_count": 3,
   "metadata": {
    "ExecuteTime": {
     "end_time": "2023-06-26T13:48:35.720025800Z",
     "start_time": "2023-06-26T13:48:35.635949Z"
    }
   },
   "outputs": [
    {
     "name": "stdout",
     "output_type": "stream",
     "text": [
      "<class 'pandas.core.frame.DataFrame'>\n",
      "RangeIndex: 202607 entries, 0 to 202606\n",
      "Data columns (total 4 columns):\n",
      " #   Column     Non-Null Count   Dtype  \n",
      "---  ------     --------------   -----  \n",
      " 0   id         202607 non-null  object \n",
      " 1   call_date  202607 non-null  object \n",
      " 2   duration   202607 non-null  float64\n",
      " 3   user_id    202607 non-null  int64  \n",
      "dtypes: float64(1), int64(1), object(2)\n",
      "memory usage: 6.2+ MB\n"
     ]
    }
   ],
   "source": [
    "calls.info()"
   ]
  },
  {
   "cell_type": "code",
   "execution_count": 4,
   "metadata": {
    "ExecuteTime": {
     "end_time": "2023-06-26T13:48:35.720025800Z",
     "start_time": "2023-06-26T13:48:35.667978400Z"
    }
   },
   "outputs": [
    {
     "data": {
      "text/plain": "       id   call_date  duration  user_id\n0  1000_0  2018-07-25      0.00     1000\n1  1000_1  2018-08-17      0.00     1000\n2  1000_2  2018-06-11      2.85     1000\n3  1000_3  2018-09-21     13.80     1000\n4  1000_4  2018-12-15      5.18     1000",
      "text/html": "<div>\n<style scoped>\n    .dataframe tbody tr th:only-of-type {\n        vertical-align: middle;\n    }\n\n    .dataframe tbody tr th {\n        vertical-align: top;\n    }\n\n    .dataframe thead th {\n        text-align: right;\n    }\n</style>\n<table border=\"1\" class=\"dataframe\">\n  <thead>\n    <tr style=\"text-align: right;\">\n      <th></th>\n      <th>id</th>\n      <th>call_date</th>\n      <th>duration</th>\n      <th>user_id</th>\n    </tr>\n  </thead>\n  <tbody>\n    <tr>\n      <th>0</th>\n      <td>1000_0</td>\n      <td>2018-07-25</td>\n      <td>0.00</td>\n      <td>1000</td>\n    </tr>\n    <tr>\n      <th>1</th>\n      <td>1000_1</td>\n      <td>2018-08-17</td>\n      <td>0.00</td>\n      <td>1000</td>\n    </tr>\n    <tr>\n      <th>2</th>\n      <td>1000_2</td>\n      <td>2018-06-11</td>\n      <td>2.85</td>\n      <td>1000</td>\n    </tr>\n    <tr>\n      <th>3</th>\n      <td>1000_3</td>\n      <td>2018-09-21</td>\n      <td>13.80</td>\n      <td>1000</td>\n    </tr>\n    <tr>\n      <th>4</th>\n      <td>1000_4</td>\n      <td>2018-12-15</td>\n      <td>5.18</td>\n      <td>1000</td>\n    </tr>\n  </tbody>\n</table>\n</div>"
     },
     "execution_count": 4,
     "metadata": {},
     "output_type": "execute_result"
    }
   ],
   "source": [
    "calls.head()"
   ]
  },
  {
   "cell_type": "code",
   "execution_count": 5,
   "metadata": {
    "ExecuteTime": {
     "end_time": "2023-06-26T13:48:35.720025800Z",
     "start_time": "2023-06-26T13:48:35.675986100Z"
    }
   },
   "outputs": [
    {
     "data": {
      "text/plain": "0"
     },
     "execution_count": 5,
     "metadata": {},
     "output_type": "execute_result"
    }
   ],
   "source": [
    "calls.duplicated().sum()"
   ]
  },
  {
   "cell_type": "markdown",
   "metadata": {},
   "source": [
    "Вывод: \n",
    " - Необходимо изменить типы данных в столбцах call_date : id, call_date, user_id\n",
    " - Пустых значений и дубликатов не имеется"
   ]
  },
  {
   "cell_type": "markdown",
   "metadata": {},
   "source": [
    "### Изучим датасет Internet"
   ]
  },
  {
   "cell_type": "code",
   "execution_count": 6,
   "metadata": {
    "ExecuteTime": {
     "end_time": "2023-06-26T13:48:35.784083900Z",
     "start_time": "2023-06-26T13:48:35.717022800Z"
    }
   },
   "outputs": [
    {
     "name": "stdout",
     "output_type": "stream",
     "text": [
      "<class 'pandas.core.frame.DataFrame'>\n",
      "RangeIndex: 149396 entries, 0 to 149395\n",
      "Data columns (total 5 columns):\n",
      " #   Column        Non-Null Count   Dtype  \n",
      "---  ------        --------------   -----  \n",
      " 0   Unnamed: 0    149396 non-null  int64  \n",
      " 1   id            149396 non-null  object \n",
      " 2   mb_used       149396 non-null  float64\n",
      " 3   session_date  149396 non-null  object \n",
      " 4   user_id       149396 non-null  int64  \n",
      "dtypes: float64(1), int64(2), object(2)\n",
      "memory usage: 5.7+ MB\n"
     ]
    }
   ],
   "source": [
    "internet.info()"
   ]
  },
  {
   "cell_type": "code",
   "execution_count": 7,
   "metadata": {
    "ExecuteTime": {
     "end_time": "2023-06-26T13:48:35.785084700Z",
     "start_time": "2023-06-26T13:48:35.741045100Z"
    }
   },
   "outputs": [
    {
     "data": {
      "text/plain": "   Unnamed: 0      id  mb_used session_date  user_id\n0           0  1000_0   112.95   2018-11-25     1000\n1           1  1000_1  1052.81   2018-09-07     1000\n2           2  1000_2  1197.26   2018-06-25     1000\n3           3  1000_3   550.27   2018-08-22     1000\n4           4  1000_4   302.56   2018-09-24     1000",
      "text/html": "<div>\n<style scoped>\n    .dataframe tbody tr th:only-of-type {\n        vertical-align: middle;\n    }\n\n    .dataframe tbody tr th {\n        vertical-align: top;\n    }\n\n    .dataframe thead th {\n        text-align: right;\n    }\n</style>\n<table border=\"1\" class=\"dataframe\">\n  <thead>\n    <tr style=\"text-align: right;\">\n      <th></th>\n      <th>Unnamed: 0</th>\n      <th>id</th>\n      <th>mb_used</th>\n      <th>session_date</th>\n      <th>user_id</th>\n    </tr>\n  </thead>\n  <tbody>\n    <tr>\n      <th>0</th>\n      <td>0</td>\n      <td>1000_0</td>\n      <td>112.95</td>\n      <td>2018-11-25</td>\n      <td>1000</td>\n    </tr>\n    <tr>\n      <th>1</th>\n      <td>1</td>\n      <td>1000_1</td>\n      <td>1052.81</td>\n      <td>2018-09-07</td>\n      <td>1000</td>\n    </tr>\n    <tr>\n      <th>2</th>\n      <td>2</td>\n      <td>1000_2</td>\n      <td>1197.26</td>\n      <td>2018-06-25</td>\n      <td>1000</td>\n    </tr>\n    <tr>\n      <th>3</th>\n      <td>3</td>\n      <td>1000_3</td>\n      <td>550.27</td>\n      <td>2018-08-22</td>\n      <td>1000</td>\n    </tr>\n    <tr>\n      <th>4</th>\n      <td>4</td>\n      <td>1000_4</td>\n      <td>302.56</td>\n      <td>2018-09-24</td>\n      <td>1000</td>\n    </tr>\n  </tbody>\n</table>\n</div>"
     },
     "execution_count": 7,
     "metadata": {},
     "output_type": "execute_result"
    }
   ],
   "source": [
    "internet.head()"
   ]
  },
  {
   "cell_type": "code",
   "execution_count": 8,
   "metadata": {
    "ExecuteTime": {
     "end_time": "2023-06-26T13:48:35.825121300Z",
     "start_time": "2023-06-26T13:48:35.748050600Z"
    }
   },
   "outputs": [
    {
     "data": {
      "text/plain": "0"
     },
     "execution_count": 8,
     "metadata": {},
     "output_type": "execute_result"
    }
   ],
   "source": [
    "internet.duplicated().sum()"
   ]
  },
  {
   "cell_type": "markdown",
   "metadata": {},
   "source": [
    "Вывод: \n",
    " - Необходимо удалить столбец unnamed, так как он дублирует индексацию таблицы\n",
    " - Также нужно изменить типы данных в столбцах : id , session_date\n",
    " - Пустых значений и дубликатов не имеется"
   ]
  },
  {
   "cell_type": "markdown",
   "metadata": {},
   "source": [
    "### Изучим датасет Messages"
   ]
  },
  {
   "cell_type": "code",
   "execution_count": 9,
   "metadata": {
    "ExecuteTime": {
     "end_time": "2023-06-26T13:48:35.874165500Z",
     "start_time": "2023-06-26T13:48:35.792090700Z"
    }
   },
   "outputs": [
    {
     "name": "stdout",
     "output_type": "stream",
     "text": [
      "<class 'pandas.core.frame.DataFrame'>\n",
      "RangeIndex: 123036 entries, 0 to 123035\n",
      "Data columns (total 3 columns):\n",
      " #   Column        Non-Null Count   Dtype \n",
      "---  ------        --------------   ----- \n",
      " 0   id            123036 non-null  object\n",
      " 1   message_date  123036 non-null  object\n",
      " 2   user_id       123036 non-null  int64 \n",
      "dtypes: int64(1), object(2)\n",
      "memory usage: 2.8+ MB\n"
     ]
    }
   ],
   "source": [
    "messages.info()"
   ]
  },
  {
   "cell_type": "code",
   "execution_count": 10,
   "metadata": {
    "ExecuteTime": {
     "end_time": "2023-06-26T13:48:35.874165500Z",
     "start_time": "2023-06-26T13:48:35.816112400Z"
    }
   },
   "outputs": [
    {
     "data": {
      "text/plain": "       id message_date  user_id\n0  1000_0   2018-06-27     1000\n1  1000_1   2018-10-08     1000\n2  1000_2   2018-08-04     1000\n3  1000_3   2018-06-16     1000\n4  1000_4   2018-12-05     1000",
      "text/html": "<div>\n<style scoped>\n    .dataframe tbody tr th:only-of-type {\n        vertical-align: middle;\n    }\n\n    .dataframe tbody tr th {\n        vertical-align: top;\n    }\n\n    .dataframe thead th {\n        text-align: right;\n    }\n</style>\n<table border=\"1\" class=\"dataframe\">\n  <thead>\n    <tr style=\"text-align: right;\">\n      <th></th>\n      <th>id</th>\n      <th>message_date</th>\n      <th>user_id</th>\n    </tr>\n  </thead>\n  <tbody>\n    <tr>\n      <th>0</th>\n      <td>1000_0</td>\n      <td>2018-06-27</td>\n      <td>1000</td>\n    </tr>\n    <tr>\n      <th>1</th>\n      <td>1000_1</td>\n      <td>2018-10-08</td>\n      <td>1000</td>\n    </tr>\n    <tr>\n      <th>2</th>\n      <td>1000_2</td>\n      <td>2018-08-04</td>\n      <td>1000</td>\n    </tr>\n    <tr>\n      <th>3</th>\n      <td>1000_3</td>\n      <td>2018-06-16</td>\n      <td>1000</td>\n    </tr>\n    <tr>\n      <th>4</th>\n      <td>1000_4</td>\n      <td>2018-12-05</td>\n      <td>1000</td>\n    </tr>\n  </tbody>\n</table>\n</div>"
     },
     "execution_count": 10,
     "metadata": {},
     "output_type": "execute_result"
    }
   ],
   "source": [
    "messages.head()"
   ]
  },
  {
   "cell_type": "code",
   "execution_count": 11,
   "metadata": {
    "ExecuteTime": {
     "end_time": "2023-06-26T13:48:35.920207600Z",
     "start_time": "2023-06-26T13:48:35.821117700Z"
    }
   },
   "outputs": [
    {
     "data": {
      "text/plain": "0"
     },
     "execution_count": 11,
     "metadata": {},
     "output_type": "execute_result"
    }
   ],
   "source": [
    "messages.duplicated().sum()"
   ]
  },
  {
   "cell_type": "markdown",
   "metadata": {},
   "source": [
    "Вывод:\n",
    "\n",
    " - Изменить типы данных в столбце : id, message_date\n",
    " - Пустых значений и дубликатов не имеется"
   ]
  },
  {
   "cell_type": "markdown",
   "metadata": {},
   "source": [
    "### Изучим датасет Tariffs"
   ]
  },
  {
   "cell_type": "code",
   "execution_count": 12,
   "metadata": {
    "ExecuteTime": {
     "end_time": "2023-06-26T13:48:35.920207600Z",
     "start_time": "2023-06-26T13:48:35.844138500Z"
    }
   },
   "outputs": [
    {
     "name": "stdout",
     "output_type": "stream",
     "text": [
      "<class 'pandas.core.frame.DataFrame'>\n",
      "RangeIndex: 2 entries, 0 to 1\n",
      "Data columns (total 8 columns):\n",
      " #   Column                 Non-Null Count  Dtype \n",
      "---  ------                 --------------  ----- \n",
      " 0   messages_included      2 non-null      int64 \n",
      " 1   mb_per_month_included  2 non-null      int64 \n",
      " 2   minutes_included       2 non-null      int64 \n",
      " 3   rub_monthly_fee        2 non-null      int64 \n",
      " 4   rub_per_gb             2 non-null      int64 \n",
      " 5   rub_per_message        2 non-null      int64 \n",
      " 6   rub_per_minute         2 non-null      int64 \n",
      " 7   tariff_name            2 non-null      object\n",
      "dtypes: int64(7), object(1)\n",
      "memory usage: 256.0+ bytes\n"
     ]
    }
   ],
   "source": [
    "tariffs.info()"
   ]
  },
  {
   "cell_type": "code",
   "execution_count": 13,
   "metadata": {
    "ExecuteTime": {
     "end_time": "2023-06-26T13:48:35.920207600Z",
     "start_time": "2023-06-26T13:48:35.850143600Z"
    }
   },
   "outputs": [
    {
     "data": {
      "text/plain": "   messages_included  mb_per_month_included  minutes_included  \\\n0                 50                  15360               500   \n1               1000                  30720              3000   \n\n   rub_monthly_fee  rub_per_gb  rub_per_message  rub_per_minute tariff_name  \n0              550         200                3               3       smart  \n1             1950         150                1               1       ultra  ",
      "text/html": "<div>\n<style scoped>\n    .dataframe tbody tr th:only-of-type {\n        vertical-align: middle;\n    }\n\n    .dataframe tbody tr th {\n        vertical-align: top;\n    }\n\n    .dataframe thead th {\n        text-align: right;\n    }\n</style>\n<table border=\"1\" class=\"dataframe\">\n  <thead>\n    <tr style=\"text-align: right;\">\n      <th></th>\n      <th>messages_included</th>\n      <th>mb_per_month_included</th>\n      <th>minutes_included</th>\n      <th>rub_monthly_fee</th>\n      <th>rub_per_gb</th>\n      <th>rub_per_message</th>\n      <th>rub_per_minute</th>\n      <th>tariff_name</th>\n    </tr>\n  </thead>\n  <tbody>\n    <tr>\n      <th>0</th>\n      <td>50</td>\n      <td>15360</td>\n      <td>500</td>\n      <td>550</td>\n      <td>200</td>\n      <td>3</td>\n      <td>3</td>\n      <td>smart</td>\n    </tr>\n    <tr>\n      <th>1</th>\n      <td>1000</td>\n      <td>30720</td>\n      <td>3000</td>\n      <td>1950</td>\n      <td>150</td>\n      <td>1</td>\n      <td>1</td>\n      <td>ultra</td>\n    </tr>\n  </tbody>\n</table>\n</div>"
     },
     "execution_count": 13,
     "metadata": {},
     "output_type": "execute_result"
    }
   ],
   "source": [
    "tariffs.head()"
   ]
  },
  {
   "cell_type": "code",
   "execution_count": 14,
   "metadata": {
    "ExecuteTime": {
     "end_time": "2023-06-26T13:48:35.920207600Z",
     "start_time": "2023-06-26T13:48:35.863155600Z"
    }
   },
   "outputs": [
    {
     "data": {
      "text/plain": "0"
     },
     "execution_count": 14,
     "metadata": {},
     "output_type": "execute_result"
    }
   ],
   "source": [
    "tariffs.duplicated().sum()"
   ]
  },
  {
   "cell_type": "markdown",
   "metadata": {},
   "source": [
    "Вывод:\n",
    "\n",
    " - Типы данных указаны верно. Изменять ничего не нужно\n",
    " - Пустых значений и дубликатов не имеется"
   ]
  },
  {
   "cell_type": "markdown",
   "metadata": {},
   "source": [
    "### Изучим датасет Users"
   ]
  },
  {
   "cell_type": "code",
   "execution_count": 15,
   "metadata": {
    "scrolled": true,
    "ExecuteTime": {
     "end_time": "2023-06-26T13:48:35.920207600Z",
     "start_time": "2023-06-26T13:48:35.863155600Z"
    }
   },
   "outputs": [
    {
     "name": "stdout",
     "output_type": "stream",
     "text": [
      "<class 'pandas.core.frame.DataFrame'>\n",
      "RangeIndex: 500 entries, 0 to 499\n",
      "Data columns (total 8 columns):\n",
      " #   Column      Non-Null Count  Dtype \n",
      "---  ------      --------------  ----- \n",
      " 0   user_id     500 non-null    int64 \n",
      " 1   age         500 non-null    int64 \n",
      " 2   churn_date  38 non-null     object\n",
      " 3   city        500 non-null    object\n",
      " 4   first_name  500 non-null    object\n",
      " 5   last_name   500 non-null    object\n",
      " 6   reg_date    500 non-null    object\n",
      " 7   tariff      500 non-null    object\n",
      "dtypes: int64(2), object(6)\n",
      "memory usage: 31.4+ KB\n"
     ]
    }
   ],
   "source": [
    "users.info()"
   ]
  },
  {
   "cell_type": "code",
   "execution_count": 16,
   "metadata": {
    "ExecuteTime": {
     "end_time": "2023-06-26T13:48:35.921208900Z",
     "start_time": "2023-06-26T13:48:35.865156900Z"
    }
   },
   "outputs": [
    {
     "data": {
      "text/plain": "   user_id  age churn_date         city first_name  last_name    reg_date  \\\n0     1000   52        NaN    Краснодар     Рафаил  Верещагин  2018-05-25   \n1     1001   41        NaN       Москва       Иван       Ежов  2018-11-01   \n2     1002   59        NaN  Стерлитамак    Евгений  Абрамович  2018-06-17   \n3     1003   23        NaN       Москва      Белла   Белякова  2018-08-17   \n4     1004   68        NaN  Новокузнецк    Татьяна   Авдеенко  2018-05-14   \n\n  tariff  \n0  ultra  \n1  smart  \n2  smart  \n3  ultra  \n4  ultra  ",
      "text/html": "<div>\n<style scoped>\n    .dataframe tbody tr th:only-of-type {\n        vertical-align: middle;\n    }\n\n    .dataframe tbody tr th {\n        vertical-align: top;\n    }\n\n    .dataframe thead th {\n        text-align: right;\n    }\n</style>\n<table border=\"1\" class=\"dataframe\">\n  <thead>\n    <tr style=\"text-align: right;\">\n      <th></th>\n      <th>user_id</th>\n      <th>age</th>\n      <th>churn_date</th>\n      <th>city</th>\n      <th>first_name</th>\n      <th>last_name</th>\n      <th>reg_date</th>\n      <th>tariff</th>\n    </tr>\n  </thead>\n  <tbody>\n    <tr>\n      <th>0</th>\n      <td>1000</td>\n      <td>52</td>\n      <td>NaN</td>\n      <td>Краснодар</td>\n      <td>Рафаил</td>\n      <td>Верещагин</td>\n      <td>2018-05-25</td>\n      <td>ultra</td>\n    </tr>\n    <tr>\n      <th>1</th>\n      <td>1001</td>\n      <td>41</td>\n      <td>NaN</td>\n      <td>Москва</td>\n      <td>Иван</td>\n      <td>Ежов</td>\n      <td>2018-11-01</td>\n      <td>smart</td>\n    </tr>\n    <tr>\n      <th>2</th>\n      <td>1002</td>\n      <td>59</td>\n      <td>NaN</td>\n      <td>Стерлитамак</td>\n      <td>Евгений</td>\n      <td>Абрамович</td>\n      <td>2018-06-17</td>\n      <td>smart</td>\n    </tr>\n    <tr>\n      <th>3</th>\n      <td>1003</td>\n      <td>23</td>\n      <td>NaN</td>\n      <td>Москва</td>\n      <td>Белла</td>\n      <td>Белякова</td>\n      <td>2018-08-17</td>\n      <td>ultra</td>\n    </tr>\n    <tr>\n      <th>4</th>\n      <td>1004</td>\n      <td>68</td>\n      <td>NaN</td>\n      <td>Новокузнецк</td>\n      <td>Татьяна</td>\n      <td>Авдеенко</td>\n      <td>2018-05-14</td>\n      <td>ultra</td>\n    </tr>\n  </tbody>\n</table>\n</div>"
     },
     "execution_count": 16,
     "metadata": {},
     "output_type": "execute_result"
    }
   ],
   "source": [
    "users.head()"
   ]
  },
  {
   "cell_type": "markdown",
   "source": [
    "Посмотрим на имеющиеся данные о возрасте."
   ],
   "metadata": {
    "collapsed": false
   }
  },
  {
   "cell_type": "code",
   "execution_count": 17,
   "metadata": {
    "ExecuteTime": {
     "end_time": "2023-06-26T13:48:35.921208900Z",
     "start_time": "2023-06-26T13:48:35.872163300Z"
    }
   },
   "outputs": [
    {
     "data": {
      "text/plain": "53    14\n42    14\n63    13\n64    13\n71    13\n73    12\n21    12\n40    12\n37    11\n29    11\n39    11\n26    11\n47    11\n70    10\n45    10\n41    10\n52    10\n58    10\n36    10\n66     9\n23     9\n50     9\n65     9\n19     9\n48     9\n24     9\n68     9\n27     9\n28     9\n51     9\n20     9\n56     9\n30     9\n60     8\n44     8\n69     8\n62     8\n55     8\n74     7\n25     7\n46     7\n35     7\n32     7\n67     7\n43     7\n31     7\n18     6\n75     6\n54     6\n59     6\n72     5\n22     5\n34     5\n33     5\n38     5\n49     4\n57     4\n61     3\nName: age, dtype: int64"
     },
     "execution_count": 17,
     "metadata": {},
     "output_type": "execute_result"
    }
   ],
   "source": [
    "users['age'].value_counts()"
   ]
  },
  {
   "cell_type": "markdown",
   "source": [
    "Посмотрим сколько пользователей какого тарифа мы имеем."
   ],
   "metadata": {
    "collapsed": false
   }
  },
  {
   "cell_type": "code",
   "execution_count": 18,
   "metadata": {
    "ExecuteTime": {
     "end_time": "2023-06-26T13:48:35.937222400Z",
     "start_time": "2023-06-26T13:48:35.877168200Z"
    }
   },
   "outputs": [
    {
     "data": {
      "text/plain": "smart    351\nultra    149\nName: tariff, dtype: int64"
     },
     "execution_count": 18,
     "metadata": {},
     "output_type": "execute_result"
    }
   ],
   "source": [
    "users['tariff'].value_counts()"
   ]
  },
  {
   "cell_type": "markdown",
   "source": [
    "Посмотрим на столбец `first_name`."
   ],
   "metadata": {
    "collapsed": false
   }
  },
  {
   "cell_type": "code",
   "execution_count": 19,
   "metadata": {
    "ExecuteTime": {
     "end_time": "2023-06-26T13:48:36.052327700Z",
     "start_time": "2023-06-26T13:48:35.882172700Z"
    }
   },
   "outputs": [
    {
     "data": {
      "text/plain": "Радим      6\nЛеонид     5\nПётр       5\nАндрей     4\nАдам       4\n          ..\nЗинаида    1\nГлеб       1\nРоза       1\nЮзефа      1\nТрифон     1\nName: first_name, Length: 246, dtype: int64"
     },
     "execution_count": 19,
     "metadata": {},
     "output_type": "execute_result"
    }
   ],
   "source": [
    "users['first_name'].value_counts()"
   ]
  },
  {
   "cell_type": "markdown",
   "source": [
    "Посмотрим на столбец `last_name`."
   ],
   "metadata": {
    "collapsed": false
   }
  },
  {
   "cell_type": "code",
   "execution_count": 20,
   "metadata": {
    "ExecuteTime": {
     "end_time": "2023-06-26T13:48:36.063337Z",
     "start_time": "2023-06-26T13:48:35.887177100Z"
    }
   },
   "outputs": [
    {
     "data": {
      "text/plain": "Андреенко     5\nБерезина      3\nАркадьев      3\nБулгаков      3\nСоловьев      3\n             ..\nМедведев      1\nМинаева       1\nАвдонюшкин    1\nАндрейчук     1\nАкимчин       1\nName: last_name, Length: 419, dtype: int64"
     },
     "execution_count": 20,
     "metadata": {},
     "output_type": "execute_result"
    }
   ],
   "source": [
    "users['last_name'].value_counts()"
   ]
  },
  {
   "cell_type": "markdown",
   "source": [
    "Посмотрим на столбец `city`."
   ],
   "metadata": {
    "collapsed": false
   }
  },
  {
   "cell_type": "code",
   "execution_count": 21,
   "metadata": {
    "ExecuteTime": {
     "end_time": "2023-06-26T13:48:36.064338300Z",
     "start_time": "2023-06-26T13:48:35.891180600Z"
    }
   },
   "outputs": [
    {
     "data": {
      "text/plain": "Москва             99\nСанкт-Петербург    39\nНовосибирск        16\nОмск               14\nКазань             14\n                   ..\nАрхангельск         1\nИваново             1\nНижневартовск       1\nХимки               1\nПодольск            1\nName: city, Length: 76, dtype: int64"
     },
     "execution_count": 21,
     "metadata": {},
     "output_type": "execute_result"
    }
   ],
   "source": [
    "users['city'].value_counts()"
   ]
  },
  {
   "cell_type": "code",
   "execution_count": 22,
   "metadata": {
    "ExecuteTime": {
     "end_time": "2023-06-26T13:48:36.064338300Z",
     "start_time": "2023-06-26T13:48:35.903191600Z"
    }
   },
   "outputs": [
    {
     "data": {
      "text/plain": "0"
     },
     "execution_count": 22,
     "metadata": {},
     "output_type": "execute_result"
    }
   ],
   "source": [
    "users.duplicated().sum()"
   ]
  },
  {
   "cell_type": "markdown",
   "metadata": {},
   "source": [
    "Вывод:\n",
    "\n",
    "  - Изменить типы данных в : churn_date, reg_date, \n",
    "  - Привести к нижнему регистру названия городов, Имена и фамилии\n",
    "  - Имеются пустые значения в столбце churn_date, необходимо будет поработать с данным столбцом и решить, что будет делать с данным столбцом: игнорировать или проводить замены пустых значений на другие. \n",
    "  - Дубликатов нет."
   ]
  },
  {
   "cell_type": "markdown",
   "metadata": {},
   "source": [
    "### Вывод по изучению общей информации"
   ]
  },
  {
   "cell_type": "markdown",
   "metadata": {},
   "source": [
    "## Предобработка данных"
   ]
  },
  {
   "cell_type": "markdown",
   "metadata": {},
   "source": [
    " - Приведем данные к нужным типам;\n",
    " - Попробуем найти и исправить ошибки в данных.\n",
    " \n",
    "\n",
    "Также: \n",
    "\n",
    " - Посчитаем для каждого пользователя:\n",
    "   - количество сделанных звонков и израсходованных минут разговора по месяцам;\n",
    "   - количество отправленных сообщений по месяцам;\n",
    "   - объем израсходованного интернет-трафика по месяцам;\n",
    "   - помесячную выручку с каждого пользователя (вычтем бесплатный лимит из суммарного количества звонков, сообщений и интернет-трафика; остаток умножим на значение из тарифного плана; прибавим абонентскую плату, соответствующую тарифному плану)."
   ]
  },
  {
   "cell_type": "markdown",
   "metadata": {},
   "source": [
    "### Изменим типы данных"
   ]
  },
  {
   "cell_type": "code",
   "execution_count": 23,
   "metadata": {
    "ExecuteTime": {
     "end_time": "2023-06-26T13:48:36.064338300Z",
     "start_time": "2023-06-26T13:48:35.903191600Z"
    }
   },
   "outputs": [],
   "source": [
    "calls['id'] = calls['id'].astype('int64')\n",
    "calls['call_date'] = pd.to_datetime(calls['call_date'])"
   ]
  },
  {
   "cell_type": "code",
   "execution_count": 24,
   "metadata": {
    "ExecuteTime": {
     "end_time": "2023-06-26T13:48:36.065338900Z",
     "start_time": "2023-06-26T13:48:35.936221600Z"
    }
   },
   "outputs": [
    {
     "data": {
      "text/plain": "id                    int64\ncall_date    datetime64[ns]\nduration            float64\nuser_id               int64\ndtype: object"
     },
     "execution_count": 24,
     "metadata": {},
     "output_type": "execute_result"
    }
   ],
   "source": [
    "calls.dtypes"
   ]
  },
  {
   "cell_type": "code",
   "execution_count": 25,
   "metadata": {
    "ExecuteTime": {
     "end_time": "2023-06-26T13:48:36.082354900Z",
     "start_time": "2023-06-26T13:48:35.940225400Z"
    }
   },
   "outputs": [],
   "source": [
    "internet['id'] = internet['id'].astype(int)\n",
    "internet['session_date'] = pd.to_datetime(internet['session_date'])"
   ]
  },
  {
   "cell_type": "markdown",
   "source": [
    "Удалим столбец `unnamed` в таблице Internet."
   ],
   "metadata": {
    "collapsed": false
   }
  },
  {
   "cell_type": "code",
   "execution_count": 26,
   "metadata": {
    "ExecuteTime": {
     "end_time": "2023-06-26T13:48:36.132400200Z",
     "start_time": "2023-06-26T13:48:35.961245100Z"
    }
   },
   "outputs": [
    {
     "data": {
      "text/plain": "id                       int32\nmb_used                float64\nsession_date    datetime64[ns]\nuser_id                  int64\ndtype: object"
     },
     "execution_count": 26,
     "metadata": {},
     "output_type": "execute_result"
    }
   ],
   "source": [
    "internet.drop('Unnamed: 0', axis='columns', inplace=True)\n",
    "internet.dtypes"
   ]
  },
  {
   "cell_type": "code",
   "execution_count": 27,
   "metadata": {
    "scrolled": true,
    "ExecuteTime": {
     "end_time": "2023-06-26T13:48:36.132400200Z",
     "start_time": "2023-06-26T13:48:35.967250400Z"
    }
   },
   "outputs": [
    {
     "data": {
      "text/plain": "      id  mb_used session_date  user_id\n0  10000   112.95   2018-11-25     1000\n1  10001  1052.81   2018-09-07     1000\n2  10002  1197.26   2018-06-25     1000\n3  10003   550.27   2018-08-22     1000\n4  10004   302.56   2018-09-24     1000",
      "text/html": "<div>\n<style scoped>\n    .dataframe tbody tr th:only-of-type {\n        vertical-align: middle;\n    }\n\n    .dataframe tbody tr th {\n        vertical-align: top;\n    }\n\n    .dataframe thead th {\n        text-align: right;\n    }\n</style>\n<table border=\"1\" class=\"dataframe\">\n  <thead>\n    <tr style=\"text-align: right;\">\n      <th></th>\n      <th>id</th>\n      <th>mb_used</th>\n      <th>session_date</th>\n      <th>user_id</th>\n    </tr>\n  </thead>\n  <tbody>\n    <tr>\n      <th>0</th>\n      <td>10000</td>\n      <td>112.95</td>\n      <td>2018-11-25</td>\n      <td>1000</td>\n    </tr>\n    <tr>\n      <th>1</th>\n      <td>10001</td>\n      <td>1052.81</td>\n      <td>2018-09-07</td>\n      <td>1000</td>\n    </tr>\n    <tr>\n      <th>2</th>\n      <td>10002</td>\n      <td>1197.26</td>\n      <td>2018-06-25</td>\n      <td>1000</td>\n    </tr>\n    <tr>\n      <th>3</th>\n      <td>10003</td>\n      <td>550.27</td>\n      <td>2018-08-22</td>\n      <td>1000</td>\n    </tr>\n    <tr>\n      <th>4</th>\n      <td>10004</td>\n      <td>302.56</td>\n      <td>2018-09-24</td>\n      <td>1000</td>\n    </tr>\n  </tbody>\n</table>\n</div>"
     },
     "execution_count": 27,
     "metadata": {},
     "output_type": "execute_result"
    }
   ],
   "source": [
    "internet.head()"
   ]
  },
  {
   "cell_type": "code",
   "execution_count": 28,
   "metadata": {
    "ExecuteTime": {
     "end_time": "2023-06-26T13:48:36.150416300Z",
     "start_time": "2023-06-26T13:48:35.973255300Z"
    }
   },
   "outputs": [],
   "source": [
    "messages['id'] = messages['id'].astype(int)\n",
    "messages['message_date'] = pd.to_datetime(messages['message_date'])"
   ]
  },
  {
   "cell_type": "code",
   "execution_count": 29,
   "metadata": {
    "ExecuteTime": {
     "end_time": "2023-06-26T13:48:36.150416300Z",
     "start_time": "2023-06-26T13:48:35.993273200Z"
    }
   },
   "outputs": [
    {
     "data": {
      "text/plain": "id                       int32\nmessage_date    datetime64[ns]\nuser_id                  int64\ndtype: object"
     },
     "execution_count": 29,
     "metadata": {},
     "output_type": "execute_result"
    }
   ],
   "source": [
    "messages.dtypes"
   ]
  },
  {
   "cell_type": "code",
   "execution_count": 30,
   "metadata": {
    "ExecuteTime": {
     "end_time": "2023-06-26T13:48:36.150416300Z",
     "start_time": "2023-06-26T13:48:35.997276900Z"
    }
   },
   "outputs": [
    {
     "data": {
      "text/plain": "      id message_date  user_id\n0  10000   2018-06-27     1000\n1  10001   2018-10-08     1000\n2  10002   2018-08-04     1000\n3  10003   2018-06-16     1000\n4  10004   2018-12-05     1000",
      "text/html": "<div>\n<style scoped>\n    .dataframe tbody tr th:only-of-type {\n        vertical-align: middle;\n    }\n\n    .dataframe tbody tr th {\n        vertical-align: top;\n    }\n\n    .dataframe thead th {\n        text-align: right;\n    }\n</style>\n<table border=\"1\" class=\"dataframe\">\n  <thead>\n    <tr style=\"text-align: right;\">\n      <th></th>\n      <th>id</th>\n      <th>message_date</th>\n      <th>user_id</th>\n    </tr>\n  </thead>\n  <tbody>\n    <tr>\n      <th>0</th>\n      <td>10000</td>\n      <td>2018-06-27</td>\n      <td>1000</td>\n    </tr>\n    <tr>\n      <th>1</th>\n      <td>10001</td>\n      <td>2018-10-08</td>\n      <td>1000</td>\n    </tr>\n    <tr>\n      <th>2</th>\n      <td>10002</td>\n      <td>2018-08-04</td>\n      <td>1000</td>\n    </tr>\n    <tr>\n      <th>3</th>\n      <td>10003</td>\n      <td>2018-06-16</td>\n      <td>1000</td>\n    </tr>\n    <tr>\n      <th>4</th>\n      <td>10004</td>\n      <td>2018-12-05</td>\n      <td>1000</td>\n    </tr>\n  </tbody>\n</table>\n</div>"
     },
     "execution_count": 30,
     "metadata": {},
     "output_type": "execute_result"
    }
   ],
   "source": [
    "messages.head()"
   ]
  },
  {
   "cell_type": "code",
   "execution_count": 31,
   "metadata": {
    "ExecuteTime": {
     "end_time": "2023-06-26T13:48:36.150416300Z",
     "start_time": "2023-06-26T13:48:36.002281500Z"
    }
   },
   "outputs": [],
   "source": [
    "users['churn_date'] = pd.to_datetime(users['churn_date'])\n",
    "users['reg_date'] = pd.to_datetime(users['reg_date'])\n",
    "users['city'] = users['city'].str.lower()\n",
    "users['first_name'] = users['first_name'].str.lower()\n",
    "users['last_name'] = users['last_name'].str.lower()"
   ]
  },
  {
   "cell_type": "code",
   "execution_count": 32,
   "metadata": {
    "ExecuteTime": {
     "end_time": "2023-06-26T13:48:36.150416300Z",
     "start_time": "2023-06-26T13:48:36.009287800Z"
    }
   },
   "outputs": [
    {
     "data": {
      "text/plain": "     user_id  age churn_date             city first_name  last_name  \\\n461     1461   53        NaT           москва   ангелина   фетисова   \n386     1386   21        NaT      новосибирск     фаддей   родионов   \n357     1357   37        NaT            томск     касьян    ермилов   \n362     1362   47        NaT         владимир       нина   колесова   \n366     1366   43        NaT  санкт-петербург   василиса   фетисова   \n389     1389   29        NaT           москва    надежда   латышева   \n24      1024   73        NaT  санкт-петербург     иулиан    антипов   \n94      1094   37        NaT      новосибирск    даниэла   пугачева   \n97      1097   29        NaT        краснодар       алла   кулешова   \n61      1061   41        NaT  санкт-петербург     тамара  ситникова   \n\n      reg_date tariff  \n461 2018-11-21  ultra  \n386 2018-08-13  smart  \n357 2018-09-02  smart  \n362 2018-08-02  smart  \n366 2018-06-14  smart  \n389 2018-07-20  smart  \n24  2018-10-31  ultra  \n94  2018-05-28  ultra  \n97  2018-06-25  ultra  \n61  2018-07-15  smart  ",
      "text/html": "<div>\n<style scoped>\n    .dataframe tbody tr th:only-of-type {\n        vertical-align: middle;\n    }\n\n    .dataframe tbody tr th {\n        vertical-align: top;\n    }\n\n    .dataframe thead th {\n        text-align: right;\n    }\n</style>\n<table border=\"1\" class=\"dataframe\">\n  <thead>\n    <tr style=\"text-align: right;\">\n      <th></th>\n      <th>user_id</th>\n      <th>age</th>\n      <th>churn_date</th>\n      <th>city</th>\n      <th>first_name</th>\n      <th>last_name</th>\n      <th>reg_date</th>\n      <th>tariff</th>\n    </tr>\n  </thead>\n  <tbody>\n    <tr>\n      <th>461</th>\n      <td>1461</td>\n      <td>53</td>\n      <td>NaT</td>\n      <td>москва</td>\n      <td>ангелина</td>\n      <td>фетисова</td>\n      <td>2018-11-21</td>\n      <td>ultra</td>\n    </tr>\n    <tr>\n      <th>386</th>\n      <td>1386</td>\n      <td>21</td>\n      <td>NaT</td>\n      <td>новосибирск</td>\n      <td>фаддей</td>\n      <td>родионов</td>\n      <td>2018-08-13</td>\n      <td>smart</td>\n    </tr>\n    <tr>\n      <th>357</th>\n      <td>1357</td>\n      <td>37</td>\n      <td>NaT</td>\n      <td>томск</td>\n      <td>касьян</td>\n      <td>ермилов</td>\n      <td>2018-09-02</td>\n      <td>smart</td>\n    </tr>\n    <tr>\n      <th>362</th>\n      <td>1362</td>\n      <td>47</td>\n      <td>NaT</td>\n      <td>владимир</td>\n      <td>нина</td>\n      <td>колесова</td>\n      <td>2018-08-02</td>\n      <td>smart</td>\n    </tr>\n    <tr>\n      <th>366</th>\n      <td>1366</td>\n      <td>43</td>\n      <td>NaT</td>\n      <td>санкт-петербург</td>\n      <td>василиса</td>\n      <td>фетисова</td>\n      <td>2018-06-14</td>\n      <td>smart</td>\n    </tr>\n    <tr>\n      <th>389</th>\n      <td>1389</td>\n      <td>29</td>\n      <td>NaT</td>\n      <td>москва</td>\n      <td>надежда</td>\n      <td>латышева</td>\n      <td>2018-07-20</td>\n      <td>smart</td>\n    </tr>\n    <tr>\n      <th>24</th>\n      <td>1024</td>\n      <td>73</td>\n      <td>NaT</td>\n      <td>санкт-петербург</td>\n      <td>иулиан</td>\n      <td>антипов</td>\n      <td>2018-10-31</td>\n      <td>ultra</td>\n    </tr>\n    <tr>\n      <th>94</th>\n      <td>1094</td>\n      <td>37</td>\n      <td>NaT</td>\n      <td>новосибирск</td>\n      <td>даниэла</td>\n      <td>пугачева</td>\n      <td>2018-05-28</td>\n      <td>ultra</td>\n    </tr>\n    <tr>\n      <th>97</th>\n      <td>1097</td>\n      <td>29</td>\n      <td>NaT</td>\n      <td>краснодар</td>\n      <td>алла</td>\n      <td>кулешова</td>\n      <td>2018-06-25</td>\n      <td>ultra</td>\n    </tr>\n    <tr>\n      <th>61</th>\n      <td>1061</td>\n      <td>41</td>\n      <td>NaT</td>\n      <td>санкт-петербург</td>\n      <td>тамара</td>\n      <td>ситникова</td>\n      <td>2018-07-15</td>\n      <td>smart</td>\n    </tr>\n  </tbody>\n</table>\n</div>"
     },
     "execution_count": 32,
     "metadata": {},
     "output_type": "execute_result"
    }
   ],
   "source": [
    "users.sample(10)"
   ]
  },
  {
   "cell_type": "markdown",
   "metadata": {},
   "source": [
    "### Округлим значения minutes и mb_used у тарифа Ultra\n"
   ]
  },
  {
   "cell_type": "code",
   "execution_count": 33,
   "metadata": {
    "ExecuteTime": {
     "end_time": "2023-06-26T13:48:36.150416300Z",
     "start_time": "2023-06-26T13:48:36.015293700Z"
    }
   },
   "outputs": [],
   "source": [
    "calls['duration'] = calls['duration'].apply(np.ceil)\n",
    "internet['mb_used'] = internet['mb_used'].apply(np.ceil)"
   ]
  },
  {
   "cell_type": "markdown",
   "metadata": {},
   "source": [
    "### Посчитаем количество сделанных звонков и израсходованных минут разговора по месяцам"
   ]
  },
  {
   "cell_type": "markdown",
   "source": [
    "Добавим столбец month в таблицу calls, для того, чтобы можно было вывести количество звонков и израсходованных минут по месяцам."
   ],
   "metadata": {
    "collapsed": false
   }
  },
  {
   "cell_type": "code",
   "execution_count": 34,
   "metadata": {
    "ExecuteTime": {
     "end_time": "2023-06-26T13:48:36.311562600Z",
     "start_time": "2023-06-26T13:48:36.029306300Z"
    }
   },
   "outputs": [
    {
     "data": {
      "text/plain": "                    count         sum\n              total_calls total_calls\nmonth user_id                        \n1     1005             15        95.0\n      1032             61       380.0\n      1045              1         9.0\n      1055             64       551.0\n      1071             24       194.0\n...                   ...         ...\n12    1494             62       418.0\n      1495            155      1031.0\n      1496             80       518.0\n      1497             71       545.0\n      1499             69       492.0\n\n[3174 rows x 2 columns]",
      "text/html": "<div>\n<style scoped>\n    .dataframe tbody tr th:only-of-type {\n        vertical-align: middle;\n    }\n\n    .dataframe tbody tr th {\n        vertical-align: top;\n    }\n\n    .dataframe thead tr th {\n        text-align: left;\n    }\n\n    .dataframe thead tr:last-of-type th {\n        text-align: right;\n    }\n</style>\n<table border=\"1\" class=\"dataframe\">\n  <thead>\n    <tr>\n      <th></th>\n      <th></th>\n      <th>count</th>\n      <th>sum</th>\n    </tr>\n    <tr>\n      <th></th>\n      <th></th>\n      <th>total_calls</th>\n      <th>total_calls</th>\n    </tr>\n    <tr>\n      <th>month</th>\n      <th>user_id</th>\n      <th></th>\n      <th></th>\n    </tr>\n  </thead>\n  <tbody>\n    <tr>\n      <th rowspan=\"5\" valign=\"top\">1</th>\n      <th>1005</th>\n      <td>15</td>\n      <td>95.0</td>\n    </tr>\n    <tr>\n      <th>1032</th>\n      <td>61</td>\n      <td>380.0</td>\n    </tr>\n    <tr>\n      <th>1045</th>\n      <td>1</td>\n      <td>9.0</td>\n    </tr>\n    <tr>\n      <th>1055</th>\n      <td>64</td>\n      <td>551.0</td>\n    </tr>\n    <tr>\n      <th>1071</th>\n      <td>24</td>\n      <td>194.0</td>\n    </tr>\n    <tr>\n      <th>...</th>\n      <th>...</th>\n      <td>...</td>\n      <td>...</td>\n    </tr>\n    <tr>\n      <th rowspan=\"5\" valign=\"top\">12</th>\n      <th>1494</th>\n      <td>62</td>\n      <td>418.0</td>\n    </tr>\n    <tr>\n      <th>1495</th>\n      <td>155</td>\n      <td>1031.0</td>\n    </tr>\n    <tr>\n      <th>1496</th>\n      <td>80</td>\n      <td>518.0</td>\n    </tr>\n    <tr>\n      <th>1497</th>\n      <td>71</td>\n      <td>545.0</td>\n    </tr>\n    <tr>\n      <th>1499</th>\n      <td>69</td>\n      <td>492.0</td>\n    </tr>\n  </tbody>\n</table>\n<p>3174 rows × 2 columns</p>\n</div>"
     },
     "execution_count": 34,
     "metadata": {},
     "output_type": "execute_result"
    }
   ],
   "source": [
    "calls['month'] = pd.DatetimeIndex(calls['call_date']).month\n",
    "calls_times = calls.pivot_table(index=['month', 'user_id'], values='duration', aggfunc=['count', 'sum']).rename(columns={'duration': 'total_calls'})\n",
    "calls_times"
   ]
  },
  {
   "cell_type": "markdown",
   "metadata": {},
   "source": [
    "### Посчитаем количество отправленных сообщений по месяцам"
   ]
  },
  {
   "cell_type": "code",
   "execution_count": 35,
   "metadata": {
    "ExecuteTime": {
     "end_time": "2023-06-26T13:48:36.331581Z",
     "start_time": "2023-06-26T13:48:36.069342700Z"
    }
   },
   "outputs": [
    {
     "data": {
      "text/plain": "               id\nmonth user_id    \n1     1005      7\n      1032     38\n      1045      5\n      1055     30\n      1071     16\n...            ..\n12    1493     78\n      1495     84\n      1496     51\n      1497     17\n      1499     66\n\n[2717 rows x 1 columns]",
      "text/html": "<div>\n<style scoped>\n    .dataframe tbody tr th:only-of-type {\n        vertical-align: middle;\n    }\n\n    .dataframe tbody tr th {\n        vertical-align: top;\n    }\n\n    .dataframe thead th {\n        text-align: right;\n    }\n</style>\n<table border=\"1\" class=\"dataframe\">\n  <thead>\n    <tr style=\"text-align: right;\">\n      <th></th>\n      <th></th>\n      <th>id</th>\n    </tr>\n    <tr>\n      <th>month</th>\n      <th>user_id</th>\n      <th></th>\n    </tr>\n  </thead>\n  <tbody>\n    <tr>\n      <th rowspan=\"5\" valign=\"top\">1</th>\n      <th>1005</th>\n      <td>7</td>\n    </tr>\n    <tr>\n      <th>1032</th>\n      <td>38</td>\n    </tr>\n    <tr>\n      <th>1045</th>\n      <td>5</td>\n    </tr>\n    <tr>\n      <th>1055</th>\n      <td>30</td>\n    </tr>\n    <tr>\n      <th>1071</th>\n      <td>16</td>\n    </tr>\n    <tr>\n      <th>...</th>\n      <th>...</th>\n      <td>...</td>\n    </tr>\n    <tr>\n      <th rowspan=\"5\" valign=\"top\">12</th>\n      <th>1493</th>\n      <td>78</td>\n    </tr>\n    <tr>\n      <th>1495</th>\n      <td>84</td>\n    </tr>\n    <tr>\n      <th>1496</th>\n      <td>51</td>\n    </tr>\n    <tr>\n      <th>1497</th>\n      <td>17</td>\n    </tr>\n    <tr>\n      <th>1499</th>\n      <td>66</td>\n    </tr>\n  </tbody>\n</table>\n<p>2717 rows × 1 columns</p>\n</div>"
     },
     "execution_count": 35,
     "metadata": {},
     "output_type": "execute_result"
    }
   ],
   "source": [
    "messages['month'] = pd.DatetimeIndex(messages['message_date']).month\n",
    "messages_times = messages.pivot_table(index=['month','user_id'], values='id', aggfunc='count')\n",
    "messages_times"
   ]
  },
  {
   "cell_type": "markdown",
   "metadata": {},
   "source": [
    "### Посчитаем объем израсходованного интернет-трафика по месяцам"
   ]
  },
  {
   "cell_type": "code",
   "execution_count": 36,
   "metadata": {
    "ExecuteTime": {
     "end_time": "2023-06-26T13:48:36.332581500Z",
     "start_time": "2023-06-26T13:48:36.090361800Z"
    }
   },
   "outputs": [
    {
     "data": {
      "text/plain": "               mb_used\nmonth user_id         \n1     1005      2730.0\n      1032     24147.0\n      1045      2348.0\n      1055     17111.0\n      1071     15622.0\n...                ...\n2     1373     20194.0\n      1375     11753.0\n      1378     10818.0\n      1381     27761.0\n      1385     32655.0\n\n[100 rows x 1 columns]",
      "text/html": "<div>\n<style scoped>\n    .dataframe tbody tr th:only-of-type {\n        vertical-align: middle;\n    }\n\n    .dataframe tbody tr th {\n        vertical-align: top;\n    }\n\n    .dataframe thead th {\n        text-align: right;\n    }\n</style>\n<table border=\"1\" class=\"dataframe\">\n  <thead>\n    <tr style=\"text-align: right;\">\n      <th></th>\n      <th></th>\n      <th>mb_used</th>\n    </tr>\n    <tr>\n      <th>month</th>\n      <th>user_id</th>\n      <th></th>\n    </tr>\n  </thead>\n  <tbody>\n    <tr>\n      <th rowspan=\"5\" valign=\"top\">1</th>\n      <th>1005</th>\n      <td>2730.0</td>\n    </tr>\n    <tr>\n      <th>1032</th>\n      <td>24147.0</td>\n    </tr>\n    <tr>\n      <th>1045</th>\n      <td>2348.0</td>\n    </tr>\n    <tr>\n      <th>1055</th>\n      <td>17111.0</td>\n    </tr>\n    <tr>\n      <th>1071</th>\n      <td>15622.0</td>\n    </tr>\n    <tr>\n      <th>...</th>\n      <th>...</th>\n      <td>...</td>\n    </tr>\n    <tr>\n      <th rowspan=\"5\" valign=\"top\">2</th>\n      <th>1373</th>\n      <td>20194.0</td>\n    </tr>\n    <tr>\n      <th>1375</th>\n      <td>11753.0</td>\n    </tr>\n    <tr>\n      <th>1378</th>\n      <td>10818.0</td>\n    </tr>\n    <tr>\n      <th>1381</th>\n      <td>27761.0</td>\n    </tr>\n    <tr>\n      <th>1385</th>\n      <td>32655.0</td>\n    </tr>\n  </tbody>\n</table>\n<p>100 rows × 1 columns</p>\n</div>"
     },
     "execution_count": 36,
     "metadata": {},
     "output_type": "execute_result"
    }
   ],
   "source": [
    "internet['month'] = pd.DatetimeIndex(internet['session_date']).month\n",
    "internet_times = internet.pivot_table(index=['month','user_id'], values='mb_used', aggfunc='sum')\n",
    "internet_times.head(100)"
   ]
  },
  {
   "cell_type": "markdown",
   "metadata": {},
   "source": [
    "### Посчитаем помесячную выручку с каждого пользователя "
   ]
  },
  {
   "cell_type": "code",
   "execution_count": 37,
   "metadata": {
    "ExecuteTime": {
     "end_time": "2023-06-26T13:48:36.332581500Z",
     "start_time": "2023-06-26T13:48:36.119388Z"
    }
   },
   "outputs": [
    {
     "data": {
      "text/plain": "      month  user_id  ('count', 'total_calls')  ('sum', 'total_calls')\n0         1     1005                        15                    95.0\n1         1     1032                        61                   380.0\n2         1     1045                         1                     9.0\n3         1     1055                        64                   551.0\n4         1     1071                        24                   194.0\n...     ...      ...                       ...                     ...\n3169     12     1494                        62                   418.0\n3170     12     1495                       155                  1031.0\n3171     12     1496                        80                   518.0\n3172     12     1497                        71                   545.0\n3173     12     1499                        69                   492.0\n\n[3174 rows x 4 columns]",
      "text/html": "<div>\n<style scoped>\n    .dataframe tbody tr th:only-of-type {\n        vertical-align: middle;\n    }\n\n    .dataframe tbody tr th {\n        vertical-align: top;\n    }\n\n    .dataframe thead th {\n        text-align: right;\n    }\n</style>\n<table border=\"1\" class=\"dataframe\">\n  <thead>\n    <tr style=\"text-align: right;\">\n      <th></th>\n      <th>month</th>\n      <th>user_id</th>\n      <th>('count', 'total_calls')</th>\n      <th>('sum', 'total_calls')</th>\n    </tr>\n  </thead>\n  <tbody>\n    <tr>\n      <th>0</th>\n      <td>1</td>\n      <td>1005</td>\n      <td>15</td>\n      <td>95.0</td>\n    </tr>\n    <tr>\n      <th>1</th>\n      <td>1</td>\n      <td>1032</td>\n      <td>61</td>\n      <td>380.0</td>\n    </tr>\n    <tr>\n      <th>2</th>\n      <td>1</td>\n      <td>1045</td>\n      <td>1</td>\n      <td>9.0</td>\n    </tr>\n    <tr>\n      <th>3</th>\n      <td>1</td>\n      <td>1055</td>\n      <td>64</td>\n      <td>551.0</td>\n    </tr>\n    <tr>\n      <th>4</th>\n      <td>1</td>\n      <td>1071</td>\n      <td>24</td>\n      <td>194.0</td>\n    </tr>\n    <tr>\n      <th>...</th>\n      <td>...</td>\n      <td>...</td>\n      <td>...</td>\n      <td>...</td>\n    </tr>\n    <tr>\n      <th>3169</th>\n      <td>12</td>\n      <td>1494</td>\n      <td>62</td>\n      <td>418.0</td>\n    </tr>\n    <tr>\n      <th>3170</th>\n      <td>12</td>\n      <td>1495</td>\n      <td>155</td>\n      <td>1031.0</td>\n    </tr>\n    <tr>\n      <th>3171</th>\n      <td>12</td>\n      <td>1496</td>\n      <td>80</td>\n      <td>518.0</td>\n    </tr>\n    <tr>\n      <th>3172</th>\n      <td>12</td>\n      <td>1497</td>\n      <td>71</td>\n      <td>545.0</td>\n    </tr>\n    <tr>\n      <th>3173</th>\n      <td>12</td>\n      <td>1499</td>\n      <td>69</td>\n      <td>492.0</td>\n    </tr>\n  </tbody>\n</table>\n<p>3174 rows × 4 columns</p>\n</div>"
     },
     "execution_count": 37,
     "metadata": {},
     "output_type": "execute_result"
    }
   ],
   "source": [
    "tempdata = pd.DataFrame(calls_times.to_records())\n",
    "tempdata"
   ]
  },
  {
   "cell_type": "markdown",
   "source": [
    "Создадим датафрейм `monthly_profit` для подсчета прибыли компании и перенесем в него столбцы из временного датафрейма с количеством звонков и общим количеством проговоренных минут. Так же переименуем столбцы."
   ],
   "metadata": {
    "collapsed": false
   }
  },
  {
   "cell_type": "code",
   "execution_count": 38,
   "metadata": {
    "ExecuteTime": {
     "end_time": "2023-06-26T13:48:36.349597100Z",
     "start_time": "2023-06-26T13:48:36.126394200Z"
    }
   },
   "outputs": [
    {
     "data": {
      "text/plain": "      user_id  month  calls  minutes\n0        1005      1     15     95.0\n1        1032      1     61    380.0\n2        1045      1      1      9.0\n3        1055      1     64    551.0\n4        1071      1     24    194.0\n...       ...    ...    ...      ...\n3169     1494     12     62    418.0\n3170     1495     12    155   1031.0\n3171     1496     12     80    518.0\n3172     1497     12     71    545.0\n3173     1499     12     69    492.0\n\n[3174 rows x 4 columns]",
      "text/html": "<div>\n<style scoped>\n    .dataframe tbody tr th:only-of-type {\n        vertical-align: middle;\n    }\n\n    .dataframe tbody tr th {\n        vertical-align: top;\n    }\n\n    .dataframe thead th {\n        text-align: right;\n    }\n</style>\n<table border=\"1\" class=\"dataframe\">\n  <thead>\n    <tr style=\"text-align: right;\">\n      <th></th>\n      <th>user_id</th>\n      <th>month</th>\n      <th>calls</th>\n      <th>minutes</th>\n    </tr>\n  </thead>\n  <tbody>\n    <tr>\n      <th>0</th>\n      <td>1005</td>\n      <td>1</td>\n      <td>15</td>\n      <td>95.0</td>\n    </tr>\n    <tr>\n      <th>1</th>\n      <td>1032</td>\n      <td>1</td>\n      <td>61</td>\n      <td>380.0</td>\n    </tr>\n    <tr>\n      <th>2</th>\n      <td>1045</td>\n      <td>1</td>\n      <td>1</td>\n      <td>9.0</td>\n    </tr>\n    <tr>\n      <th>3</th>\n      <td>1055</td>\n      <td>1</td>\n      <td>64</td>\n      <td>551.0</td>\n    </tr>\n    <tr>\n      <th>4</th>\n      <td>1071</td>\n      <td>1</td>\n      <td>24</td>\n      <td>194.0</td>\n    </tr>\n    <tr>\n      <th>...</th>\n      <td>...</td>\n      <td>...</td>\n      <td>...</td>\n      <td>...</td>\n    </tr>\n    <tr>\n      <th>3169</th>\n      <td>1494</td>\n      <td>12</td>\n      <td>62</td>\n      <td>418.0</td>\n    </tr>\n    <tr>\n      <th>3170</th>\n      <td>1495</td>\n      <td>12</td>\n      <td>155</td>\n      <td>1031.0</td>\n    </tr>\n    <tr>\n      <th>3171</th>\n      <td>1496</td>\n      <td>12</td>\n      <td>80</td>\n      <td>518.0</td>\n    </tr>\n    <tr>\n      <th>3172</th>\n      <td>1497</td>\n      <td>12</td>\n      <td>71</td>\n      <td>545.0</td>\n    </tr>\n    <tr>\n      <th>3173</th>\n      <td>1499</td>\n      <td>12</td>\n      <td>69</td>\n      <td>492.0</td>\n    </tr>\n  </tbody>\n</table>\n<p>3174 rows × 4 columns</p>\n</div>"
     },
     "execution_count": 38,
     "metadata": {},
     "output_type": "execute_result"
    }
   ],
   "source": [
    "monthly_profit = pd.DataFrame()\n",
    "monthly_profit['user_id'] = tempdata['user_id']\n",
    "monthly_profit['month']   = tempdata['month']\n",
    "monthly_profit['calls']   = tempdata.iloc[:, 2]\n",
    "monthly_profit['minutes'] = tempdata.iloc[:, 3]\n",
    "monthly_profit"
   ]
  },
  {
   "cell_type": "markdown",
   "source": [
    "Создадим новый временный датафрейм с таблицей messages и переименуем столбец `id` в `messages`."
   ],
   "metadata": {
    "collapsed": false
   }
  },
  {
   "cell_type": "code",
   "execution_count": 39,
   "metadata": {
    "ExecuteTime": {
     "end_time": "2023-06-26T13:48:36.350598300Z",
     "start_time": "2023-06-26T13:48:36.136403400Z"
    }
   },
   "outputs": [
    {
     "data": {
      "text/plain": "      month  user_id  messages\n0         1     1005         7\n1         1     1032        38\n2         1     1045         5\n3         1     1055        30\n4         1     1071        16\n...     ...      ...       ...\n2712     12     1493        78\n2713     12     1495        84\n2714     12     1496        51\n2715     12     1497        17\n2716     12     1499        66\n\n[2717 rows x 3 columns]",
      "text/html": "<div>\n<style scoped>\n    .dataframe tbody tr th:only-of-type {\n        vertical-align: middle;\n    }\n\n    .dataframe tbody tr th {\n        vertical-align: top;\n    }\n\n    .dataframe thead th {\n        text-align: right;\n    }\n</style>\n<table border=\"1\" class=\"dataframe\">\n  <thead>\n    <tr style=\"text-align: right;\">\n      <th></th>\n      <th>month</th>\n      <th>user_id</th>\n      <th>messages</th>\n    </tr>\n  </thead>\n  <tbody>\n    <tr>\n      <th>0</th>\n      <td>1</td>\n      <td>1005</td>\n      <td>7</td>\n    </tr>\n    <tr>\n      <th>1</th>\n      <td>1</td>\n      <td>1032</td>\n      <td>38</td>\n    </tr>\n    <tr>\n      <th>2</th>\n      <td>1</td>\n      <td>1045</td>\n      <td>5</td>\n    </tr>\n    <tr>\n      <th>3</th>\n      <td>1</td>\n      <td>1055</td>\n      <td>30</td>\n    </tr>\n    <tr>\n      <th>4</th>\n      <td>1</td>\n      <td>1071</td>\n      <td>16</td>\n    </tr>\n    <tr>\n      <th>...</th>\n      <td>...</td>\n      <td>...</td>\n      <td>...</td>\n    </tr>\n    <tr>\n      <th>2712</th>\n      <td>12</td>\n      <td>1493</td>\n      <td>78</td>\n    </tr>\n    <tr>\n      <th>2713</th>\n      <td>12</td>\n      <td>1495</td>\n      <td>84</td>\n    </tr>\n    <tr>\n      <th>2714</th>\n      <td>12</td>\n      <td>1496</td>\n      <td>51</td>\n    </tr>\n    <tr>\n      <th>2715</th>\n      <td>12</td>\n      <td>1497</td>\n      <td>17</td>\n    </tr>\n    <tr>\n      <th>2716</th>\n      <td>12</td>\n      <td>1499</td>\n      <td>66</td>\n    </tr>\n  </tbody>\n</table>\n<p>2717 rows × 3 columns</p>\n</div>"
     },
     "execution_count": 39,
     "metadata": {},
     "output_type": "execute_result"
    }
   ],
   "source": [
    "tempdata = pd.DataFrame(messages_times.to_records()).rename(columns={'id': 'messages'})\n",
    "tempdata"
   ]
  },
  {
   "cell_type": "markdown",
   "source": [
    "Соединим временный датафрейм с нашим monthly_profit таблицей."
   ],
   "metadata": {
    "collapsed": false
   }
  },
  {
   "cell_type": "code",
   "execution_count": 40,
   "metadata": {
    "ExecuteTime": {
     "end_time": "2023-06-26T13:48:36.352599800Z",
     "start_time": "2023-06-26T13:48:36.142408700Z"
    }
   },
   "outputs": [
    {
     "data": {
      "text/plain": "      user_id  month  calls  minutes  messages\n0        1005      1   15.0     95.0       7.0\n1        1032      1   61.0    380.0      38.0\n2        1045      1    1.0      9.0       5.0\n3        1055      1   64.0    551.0      30.0\n4        1071      1   24.0    194.0      16.0\n...       ...    ...    ...      ...       ...\n3208     1106     12    NaN      NaN      24.0\n3209     1231     12    NaN      NaN     191.0\n3210     1328     12    NaN      NaN       7.0\n3211     1473     12    NaN      NaN      20.0\n3212     1489     12    NaN      NaN      35.0\n\n[3213 rows x 5 columns]",
      "text/html": "<div>\n<style scoped>\n    .dataframe tbody tr th:only-of-type {\n        vertical-align: middle;\n    }\n\n    .dataframe tbody tr th {\n        vertical-align: top;\n    }\n\n    .dataframe thead th {\n        text-align: right;\n    }\n</style>\n<table border=\"1\" class=\"dataframe\">\n  <thead>\n    <tr style=\"text-align: right;\">\n      <th></th>\n      <th>user_id</th>\n      <th>month</th>\n      <th>calls</th>\n      <th>minutes</th>\n      <th>messages</th>\n    </tr>\n  </thead>\n  <tbody>\n    <tr>\n      <th>0</th>\n      <td>1005</td>\n      <td>1</td>\n      <td>15.0</td>\n      <td>95.0</td>\n      <td>7.0</td>\n    </tr>\n    <tr>\n      <th>1</th>\n      <td>1032</td>\n      <td>1</td>\n      <td>61.0</td>\n      <td>380.0</td>\n      <td>38.0</td>\n    </tr>\n    <tr>\n      <th>2</th>\n      <td>1045</td>\n      <td>1</td>\n      <td>1.0</td>\n      <td>9.0</td>\n      <td>5.0</td>\n    </tr>\n    <tr>\n      <th>3</th>\n      <td>1055</td>\n      <td>1</td>\n      <td>64.0</td>\n      <td>551.0</td>\n      <td>30.0</td>\n    </tr>\n    <tr>\n      <th>4</th>\n      <td>1071</td>\n      <td>1</td>\n      <td>24.0</td>\n      <td>194.0</td>\n      <td>16.0</td>\n    </tr>\n    <tr>\n      <th>...</th>\n      <td>...</td>\n      <td>...</td>\n      <td>...</td>\n      <td>...</td>\n      <td>...</td>\n    </tr>\n    <tr>\n      <th>3208</th>\n      <td>1106</td>\n      <td>12</td>\n      <td>NaN</td>\n      <td>NaN</td>\n      <td>24.0</td>\n    </tr>\n    <tr>\n      <th>3209</th>\n      <td>1231</td>\n      <td>12</td>\n      <td>NaN</td>\n      <td>NaN</td>\n      <td>191.0</td>\n    </tr>\n    <tr>\n      <th>3210</th>\n      <td>1328</td>\n      <td>12</td>\n      <td>NaN</td>\n      <td>NaN</td>\n      <td>7.0</td>\n    </tr>\n    <tr>\n      <th>3211</th>\n      <td>1473</td>\n      <td>12</td>\n      <td>NaN</td>\n      <td>NaN</td>\n      <td>20.0</td>\n    </tr>\n    <tr>\n      <th>3212</th>\n      <td>1489</td>\n      <td>12</td>\n      <td>NaN</td>\n      <td>NaN</td>\n      <td>35.0</td>\n    </tr>\n  </tbody>\n</table>\n<p>3213 rows × 5 columns</p>\n</div>"
     },
     "execution_count": 40,
     "metadata": {},
     "output_type": "execute_result"
    }
   ],
   "source": [
    "monthly_profit = monthly_profit.merge(tempdata, on=['user_id', 'month'], how='outer')\n",
    "monthly_profit"
   ]
  },
  {
   "cell_type": "markdown",
   "source": [
    "Создадим новый временный датафрейм с таблицей internet и соединим его с нашим monthly_profit таблицей."
   ],
   "metadata": {
    "collapsed": false
   }
  },
  {
   "cell_type": "code",
   "execution_count": 41,
   "metadata": {
    "ExecuteTime": {
     "end_time": "2023-06-26T13:48:36.352599800Z",
     "start_time": "2023-06-26T13:48:36.153418900Z"
    }
   },
   "outputs": [
    {
     "data": {
      "text/plain": "      user_id  month  calls  minutes  messages  mb_used\n0        1005      1   15.0     95.0       7.0   2730.0\n1        1032      1   61.0    380.0      38.0  24147.0\n2        1045      1    1.0      9.0       5.0   2348.0\n3        1055      1   64.0    551.0      30.0  17111.0\n4        1071      1   24.0    194.0      16.0  15622.0\n...       ...    ...    ...      ...       ...      ...\n3209     1231     12    NaN      NaN     191.0  32481.0\n3210     1328     12    NaN      NaN       7.0  39461.0\n3211     1473     12    NaN      NaN      20.0  18432.0\n3212     1489     12    NaN      NaN      35.0  17341.0\n3213     1476      4    NaN      NaN       NaN    531.0\n\n[3214 rows x 6 columns]",
      "text/html": "<div>\n<style scoped>\n    .dataframe tbody tr th:only-of-type {\n        vertical-align: middle;\n    }\n\n    .dataframe tbody tr th {\n        vertical-align: top;\n    }\n\n    .dataframe thead th {\n        text-align: right;\n    }\n</style>\n<table border=\"1\" class=\"dataframe\">\n  <thead>\n    <tr style=\"text-align: right;\">\n      <th></th>\n      <th>user_id</th>\n      <th>month</th>\n      <th>calls</th>\n      <th>minutes</th>\n      <th>messages</th>\n      <th>mb_used</th>\n    </tr>\n  </thead>\n  <tbody>\n    <tr>\n      <th>0</th>\n      <td>1005</td>\n      <td>1</td>\n      <td>15.0</td>\n      <td>95.0</td>\n      <td>7.0</td>\n      <td>2730.0</td>\n    </tr>\n    <tr>\n      <th>1</th>\n      <td>1032</td>\n      <td>1</td>\n      <td>61.0</td>\n      <td>380.0</td>\n      <td>38.0</td>\n      <td>24147.0</td>\n    </tr>\n    <tr>\n      <th>2</th>\n      <td>1045</td>\n      <td>1</td>\n      <td>1.0</td>\n      <td>9.0</td>\n      <td>5.0</td>\n      <td>2348.0</td>\n    </tr>\n    <tr>\n      <th>3</th>\n      <td>1055</td>\n      <td>1</td>\n      <td>64.0</td>\n      <td>551.0</td>\n      <td>30.0</td>\n      <td>17111.0</td>\n    </tr>\n    <tr>\n      <th>4</th>\n      <td>1071</td>\n      <td>1</td>\n      <td>24.0</td>\n      <td>194.0</td>\n      <td>16.0</td>\n      <td>15622.0</td>\n    </tr>\n    <tr>\n      <th>...</th>\n      <td>...</td>\n      <td>...</td>\n      <td>...</td>\n      <td>...</td>\n      <td>...</td>\n      <td>...</td>\n    </tr>\n    <tr>\n      <th>3209</th>\n      <td>1231</td>\n      <td>12</td>\n      <td>NaN</td>\n      <td>NaN</td>\n      <td>191.0</td>\n      <td>32481.0</td>\n    </tr>\n    <tr>\n      <th>3210</th>\n      <td>1328</td>\n      <td>12</td>\n      <td>NaN</td>\n      <td>NaN</td>\n      <td>7.0</td>\n      <td>39461.0</td>\n    </tr>\n    <tr>\n      <th>3211</th>\n      <td>1473</td>\n      <td>12</td>\n      <td>NaN</td>\n      <td>NaN</td>\n      <td>20.0</td>\n      <td>18432.0</td>\n    </tr>\n    <tr>\n      <th>3212</th>\n      <td>1489</td>\n      <td>12</td>\n      <td>NaN</td>\n      <td>NaN</td>\n      <td>35.0</td>\n      <td>17341.0</td>\n    </tr>\n    <tr>\n      <th>3213</th>\n      <td>1476</td>\n      <td>4</td>\n      <td>NaN</td>\n      <td>NaN</td>\n      <td>NaN</td>\n      <td>531.0</td>\n    </tr>\n  </tbody>\n</table>\n<p>3214 rows × 6 columns</p>\n</div>"
     },
     "execution_count": 41,
     "metadata": {},
     "output_type": "execute_result"
    }
   ],
   "source": [
    "tempdata = pd.DataFrame(internet_times.to_records())\n",
    "monthly_profit = monthly_profit.merge(tempdata, on=['user_id', 'month'], how='outer')\n",
    "monthly_profit"
   ]
  },
  {
   "cell_type": "markdown",
   "source": [
    "Создадим датафрейм tariff_times и перенесем в него столбцы из таблицы users, чтобы соединить их с monthly_profit таблицей."
   ],
   "metadata": {
    "collapsed": false
   }
  },
  {
   "cell_type": "code",
   "execution_count": 42,
   "metadata": {
    "ExecuteTime": {
     "end_time": "2023-06-26T13:48:36.352599800Z",
     "start_time": "2023-06-26T13:48:36.174438100Z"
    }
   },
   "outputs": [
    {
     "data": {
      "text/plain": "      user_id  month  calls  minutes  messages  mb_used tariff  \\\n0        1005    1.0   15.0     95.0       7.0   2730.0  smart   \n1        1005    2.0   69.0    456.0      38.0   7394.0  smart   \n2        1005    3.0   77.0    606.0      56.0  11117.0  smart   \n3        1005    4.0  101.0    712.0      41.0   9365.0  smart   \n4        1005    5.0   73.0    595.0      42.0   7877.0  smart   \n...       ...    ...    ...      ...       ...      ...    ...   \n3211     1328   10.0    NaN      NaN       6.0  22447.0  ultra   \n3212     1328   11.0    NaN      NaN       8.0  35567.0  ultra   \n3213     1328   12.0    NaN      NaN       7.0  39461.0  ultra   \n3214     1128    NaN    NaN      NaN       NaN      NaN  ultra   \n3215     1371    NaN    NaN      NaN       NaN      NaN  smart   \n\n                  city  age  \n0     набережные челны   67  \n1     набережные челны   67  \n2     набережные челны   67  \n3     набережные челны   67  \n4     набережные челны   67  \n...                ...  ...  \n3211          мурманск   44  \n3212          мурманск   44  \n3213          мурманск   44  \n3214          волжский   51  \n3215              омск   50  \n\n[3216 rows x 9 columns]",
      "text/html": "<div>\n<style scoped>\n    .dataframe tbody tr th:only-of-type {\n        vertical-align: middle;\n    }\n\n    .dataframe tbody tr th {\n        vertical-align: top;\n    }\n\n    .dataframe thead th {\n        text-align: right;\n    }\n</style>\n<table border=\"1\" class=\"dataframe\">\n  <thead>\n    <tr style=\"text-align: right;\">\n      <th></th>\n      <th>user_id</th>\n      <th>month</th>\n      <th>calls</th>\n      <th>minutes</th>\n      <th>messages</th>\n      <th>mb_used</th>\n      <th>tariff</th>\n      <th>city</th>\n      <th>age</th>\n    </tr>\n  </thead>\n  <tbody>\n    <tr>\n      <th>0</th>\n      <td>1005</td>\n      <td>1.0</td>\n      <td>15.0</td>\n      <td>95.0</td>\n      <td>7.0</td>\n      <td>2730.0</td>\n      <td>smart</td>\n      <td>набережные челны</td>\n      <td>67</td>\n    </tr>\n    <tr>\n      <th>1</th>\n      <td>1005</td>\n      <td>2.0</td>\n      <td>69.0</td>\n      <td>456.0</td>\n      <td>38.0</td>\n      <td>7394.0</td>\n      <td>smart</td>\n      <td>набережные челны</td>\n      <td>67</td>\n    </tr>\n    <tr>\n      <th>2</th>\n      <td>1005</td>\n      <td>3.0</td>\n      <td>77.0</td>\n      <td>606.0</td>\n      <td>56.0</td>\n      <td>11117.0</td>\n      <td>smart</td>\n      <td>набережные челны</td>\n      <td>67</td>\n    </tr>\n    <tr>\n      <th>3</th>\n      <td>1005</td>\n      <td>4.0</td>\n      <td>101.0</td>\n      <td>712.0</td>\n      <td>41.0</td>\n      <td>9365.0</td>\n      <td>smart</td>\n      <td>набережные челны</td>\n      <td>67</td>\n    </tr>\n    <tr>\n      <th>4</th>\n      <td>1005</td>\n      <td>5.0</td>\n      <td>73.0</td>\n      <td>595.0</td>\n      <td>42.0</td>\n      <td>7877.0</td>\n      <td>smart</td>\n      <td>набережные челны</td>\n      <td>67</td>\n    </tr>\n    <tr>\n      <th>...</th>\n      <td>...</td>\n      <td>...</td>\n      <td>...</td>\n      <td>...</td>\n      <td>...</td>\n      <td>...</td>\n      <td>...</td>\n      <td>...</td>\n      <td>...</td>\n    </tr>\n    <tr>\n      <th>3211</th>\n      <td>1328</td>\n      <td>10.0</td>\n      <td>NaN</td>\n      <td>NaN</td>\n      <td>6.0</td>\n      <td>22447.0</td>\n      <td>ultra</td>\n      <td>мурманск</td>\n      <td>44</td>\n    </tr>\n    <tr>\n      <th>3212</th>\n      <td>1328</td>\n      <td>11.0</td>\n      <td>NaN</td>\n      <td>NaN</td>\n      <td>8.0</td>\n      <td>35567.0</td>\n      <td>ultra</td>\n      <td>мурманск</td>\n      <td>44</td>\n    </tr>\n    <tr>\n      <th>3213</th>\n      <td>1328</td>\n      <td>12.0</td>\n      <td>NaN</td>\n      <td>NaN</td>\n      <td>7.0</td>\n      <td>39461.0</td>\n      <td>ultra</td>\n      <td>мурманск</td>\n      <td>44</td>\n    </tr>\n    <tr>\n      <th>3214</th>\n      <td>1128</td>\n      <td>NaN</td>\n      <td>NaN</td>\n      <td>NaN</td>\n      <td>NaN</td>\n      <td>NaN</td>\n      <td>ultra</td>\n      <td>волжский</td>\n      <td>51</td>\n    </tr>\n    <tr>\n      <th>3215</th>\n      <td>1371</td>\n      <td>NaN</td>\n      <td>NaN</td>\n      <td>NaN</td>\n      <td>NaN</td>\n      <td>NaN</td>\n      <td>smart</td>\n      <td>омск</td>\n      <td>50</td>\n    </tr>\n  </tbody>\n</table>\n<p>3216 rows × 9 columns</p>\n</div>"
     },
     "execution_count": 42,
     "metadata": {},
     "output_type": "execute_result"
    }
   ],
   "source": [
    "tariff_times = pd.DataFrame()\n",
    "tariff_times[['user_id','tariff','city','age']] = users[['user_id','tariff','city','age']]\n",
    "monthly_profit = monthly_profit.merge(tariff_times, on='user_id', how='outer')\n",
    "monthly_profit"
   ]
  },
  {
   "cell_type": "code",
   "execution_count": 43,
   "metadata": {
    "ExecuteTime": {
     "end_time": "2023-06-26T13:48:36.353601400Z",
     "start_time": "2023-06-26T13:48:36.180443400Z"
    }
   },
   "outputs": [
    {
     "data": {
      "text/plain": "user_id       0\nmonth         2\ncalls        42\nminutes      42\nmessages    499\nmb_used      13\ntariff        0\ncity          0\nage           0\ndtype: int64"
     },
     "execution_count": 43,
     "metadata": {},
     "output_type": "execute_result"
    }
   ],
   "source": [
    "monthly_profit.isnull().sum()"
   ]
  },
  {
   "cell_type": "markdown",
   "source": [
    "Заменим пустые значения нулем."
   ],
   "metadata": {
    "collapsed": false
   }
  },
  {
   "cell_type": "code",
   "execution_count": 44,
   "metadata": {
    "ExecuteTime": {
     "end_time": "2023-06-26T13:48:36.353601400Z",
     "start_time": "2023-06-26T13:48:36.186448900Z"
    }
   },
   "outputs": [],
   "source": [
    "monthly_profit = monthly_profit.fillna(0)"
   ]
  },
  {
   "cell_type": "markdown",
   "metadata": {},
   "source": [
    "Вычтем бесплатный лимит из суммарного количества звонков, сообщений и интернет-трафика; остаток умножим на значение из тарифного плана; прибавим абонентскую плату, соответствующую тарифному плану."
   ]
  },
  {
   "cell_type": "code",
   "execution_count": 45,
   "metadata": {
    "ExecuteTime": {
     "end_time": "2023-06-26T13:48:36.353601400Z",
     "start_time": "2023-06-26T13:48:36.190454100Z"
    }
   },
   "outputs": [],
   "source": [
    "smart_megabytes_included = 15360\n",
    "smart_messages_included = 50\n",
    "smart_minutes_included = 500\n",
    "smart_monthly_price = 550\n",
    "smart_price_for_megabyte = 0.1953\n",
    "smart_price_for_message = 3\n",
    "smart_price_for_minute = 3\n",
    "\n",
    "ultra_megabytes_included = 30720\n",
    "ultra_messages_included = 1000\n",
    "ultra_minutes_included = 3000\n",
    "ultra_monthly_price = 1950\n",
    "ultra_price_for_megabyte = 0.1464\n",
    "ultra_price_for_message = 1\n",
    "ultra_price_for_minute = 1"
   ]
  },
  {
   "cell_type": "markdown",
   "source": [
    "Напишем функцию для подсчета прибыли."
   ],
   "metadata": {
    "collapsed": false
   }
  },
  {
   "cell_type": "code",
   "execution_count": 46,
   "metadata": {
    "ExecuteTime": {
     "end_time": "2023-06-26T13:48:36.353601400Z",
     "start_time": "2023-06-26T13:48:36.195457Z"
    }
   },
   "outputs": [],
   "source": [
    "def profit_of_megaline(row):\n",
    "    # Объявим переменные из столбцов нашей таблицы\n",
    "    mb_used = row['mb_used']\n",
    "    tariff = row['tariff']\n",
    "    minutes = row['minutes']\n",
    "    messages = row['messages']\n",
    "    total_megabytes = 0\n",
    "    total_messages = 0 \n",
    "    total_minutes = 0\n",
    "    \n",
    "    # Проведем расчеты, если тариф Смарт, то будут использоваться эти расчеты\n",
    "    if tariff == 'smart':\n",
    "        if mb_used > smart_megabytes_included:\n",
    "            total_megabytes = (mb_used - smart_megabytes_included) * smart_price_for_megabyte\n",
    "        if minutes > smart_minutes_included:\n",
    "            total_minutes = (minutes - smart_minutes_included) * smart_price_for_minute\n",
    "        if messages > smart_messages_included:\n",
    "            total_messages = (messages - smart_messages_included) * smart_price_for_message\n",
    "        \n",
    "        return total_megabytes + total_minutes + total_messages + smart_monthly_price\n",
    "    \n",
    "    # Если тариф Ультра, то возьмем эти расчеты\n",
    "    elif tariff == 'ultra':\n",
    "        if mb_used > ultra_megabytes_included:\n",
    "            total_megabytes = (mb_used - ultra_megabytes_included) * ultra_price_for_megabyte\n",
    "        if minutes > ultra_minutes_included:\n",
    "            total_minutes = (minutes - ultra_minutes_included) * ultra_price_for_minute\n",
    "        if messages > ultra_messages_included:\n",
    "            total_messages = (messages - ultra_messages_included) * ultra_price_for_message\n",
    "        return total_megabytes + total_minutes + total_messages + ultra_monthly_price"
   ]
  },
  {
   "cell_type": "code",
   "execution_count": 47,
   "metadata": {
    "ExecuteTime": {
     "end_time": "2023-06-26T13:48:36.364610800Z",
     "start_time": "2023-06-26T13:48:36.200461300Z"
    }
   },
   "outputs": [],
   "source": [
    "monthly_profit['profit'] = monthly_profit.apply(profit_of_megaline, axis=1)"
   ]
  },
  {
   "cell_type": "code",
   "execution_count": 48,
   "metadata": {
    "ExecuteTime": {
     "end_time": "2023-06-26T13:48:36.392636Z",
     "start_time": "2023-06-26T13:48:36.229488200Z"
    }
   },
   "outputs": [
    {
     "data": {
      "text/plain": "      user_id  month  calls  minutes  messages  mb_used tariff  \\\n3133     1463   12.0   93.0    715.0      31.0  25978.0  ultra   \n2764     1456    8.0   23.0    152.0       0.0   6792.0  smart   \n179      1204    4.0   42.0    268.0       0.0  18688.0  smart   \n2020     1002    7.0   26.0    214.0      11.0  17601.0  smart   \n1373     1119    7.0   34.0    277.0      44.0  20127.0  smart   \n3029     1405   11.0   42.0    340.0      67.0  12786.0  ultra   \n2855     1283   11.0   40.0    264.0      19.0  18863.0  smart   \n1473     1200    8.0   92.0    627.0      49.0  16318.0  ultra   \n648      1217   10.0   69.0    463.0      74.0  14747.0  smart   \n2432     1280   10.0   91.0    619.0      44.0  20210.0  smart   \n1908     1290    7.0   73.0    437.0       0.0  18544.0  smart   \n810      1421    4.0   45.0    379.0      44.0  15270.0  smart   \n2354     1138    8.0  107.0    859.0       3.0  28870.0  smart   \n1902     1274    9.0   54.0    439.0      66.0  22420.0  smart   \n1594     1374    4.0   77.0    558.0      69.0  17775.0  smart   \n299      1340    8.0   65.0    479.0      12.0  18728.0  smart   \n2931     1023   11.0   71.0    512.0      46.0  16729.0  smart   \n1483     1224    9.0   85.0    590.0       0.0  18036.0  smart   \n2195     1257   11.0    2.0      6.0     133.0  26274.0  ultra   \n3159     1223   12.0   96.0    651.0      33.0  21582.0  smart   \n\n                  city  age     profit  \n3133   санкт-петербург   74  1950.0000  \n2764   санкт-петербург   40   550.0000  \n179             москва   18  1199.9584  \n2020       стерлитамак   59   987.6673  \n1373      петрозаводск   53  1480.9951  \n3029  набережные челны   54  1950.0000  \n2855            москва   50  1234.1359  \n1473   санкт-петербург   36  1950.0000  \n648          ульяновск   42   622.0000  \n2432         астрахань   53  1854.2050  \n1908   нижний новгород   68  1171.8352  \n810        калининград   30   550.0000  \n2354      екатеринбург   23  4265.5030  \n1902         волгоград   53  1976.8180  \n1594         махачкала   67  1252.6495  \n299              пенза   50  1207.7704  \n2931             томск   42   853.3657  \n1483      магнитогорск   58  1342.6228  \n2195   санкт-петербург   21  1950.0000  \n3159       стерлитамак   20  2218.1566  ",
      "text/html": "<div>\n<style scoped>\n    .dataframe tbody tr th:only-of-type {\n        vertical-align: middle;\n    }\n\n    .dataframe tbody tr th {\n        vertical-align: top;\n    }\n\n    .dataframe thead th {\n        text-align: right;\n    }\n</style>\n<table border=\"1\" class=\"dataframe\">\n  <thead>\n    <tr style=\"text-align: right;\">\n      <th></th>\n      <th>user_id</th>\n      <th>month</th>\n      <th>calls</th>\n      <th>minutes</th>\n      <th>messages</th>\n      <th>mb_used</th>\n      <th>tariff</th>\n      <th>city</th>\n      <th>age</th>\n      <th>profit</th>\n    </tr>\n  </thead>\n  <tbody>\n    <tr>\n      <th>3133</th>\n      <td>1463</td>\n      <td>12.0</td>\n      <td>93.0</td>\n      <td>715.0</td>\n      <td>31.0</td>\n      <td>25978.0</td>\n      <td>ultra</td>\n      <td>санкт-петербург</td>\n      <td>74</td>\n      <td>1950.0000</td>\n    </tr>\n    <tr>\n      <th>2764</th>\n      <td>1456</td>\n      <td>8.0</td>\n      <td>23.0</td>\n      <td>152.0</td>\n      <td>0.0</td>\n      <td>6792.0</td>\n      <td>smart</td>\n      <td>санкт-петербург</td>\n      <td>40</td>\n      <td>550.0000</td>\n    </tr>\n    <tr>\n      <th>179</th>\n      <td>1204</td>\n      <td>4.0</td>\n      <td>42.0</td>\n      <td>268.0</td>\n      <td>0.0</td>\n      <td>18688.0</td>\n      <td>smart</td>\n      <td>москва</td>\n      <td>18</td>\n      <td>1199.9584</td>\n    </tr>\n    <tr>\n      <th>2020</th>\n      <td>1002</td>\n      <td>7.0</td>\n      <td>26.0</td>\n      <td>214.0</td>\n      <td>11.0</td>\n      <td>17601.0</td>\n      <td>smart</td>\n      <td>стерлитамак</td>\n      <td>59</td>\n      <td>987.6673</td>\n    </tr>\n    <tr>\n      <th>1373</th>\n      <td>1119</td>\n      <td>7.0</td>\n      <td>34.0</td>\n      <td>277.0</td>\n      <td>44.0</td>\n      <td>20127.0</td>\n      <td>smart</td>\n      <td>петрозаводск</td>\n      <td>53</td>\n      <td>1480.9951</td>\n    </tr>\n    <tr>\n      <th>3029</th>\n      <td>1405</td>\n      <td>11.0</td>\n      <td>42.0</td>\n      <td>340.0</td>\n      <td>67.0</td>\n      <td>12786.0</td>\n      <td>ultra</td>\n      <td>набережные челны</td>\n      <td>54</td>\n      <td>1950.0000</td>\n    </tr>\n    <tr>\n      <th>2855</th>\n      <td>1283</td>\n      <td>11.0</td>\n      <td>40.0</td>\n      <td>264.0</td>\n      <td>19.0</td>\n      <td>18863.0</td>\n      <td>smart</td>\n      <td>москва</td>\n      <td>50</td>\n      <td>1234.1359</td>\n    </tr>\n    <tr>\n      <th>1473</th>\n      <td>1200</td>\n      <td>8.0</td>\n      <td>92.0</td>\n      <td>627.0</td>\n      <td>49.0</td>\n      <td>16318.0</td>\n      <td>ultra</td>\n      <td>санкт-петербург</td>\n      <td>36</td>\n      <td>1950.0000</td>\n    </tr>\n    <tr>\n      <th>648</th>\n      <td>1217</td>\n      <td>10.0</td>\n      <td>69.0</td>\n      <td>463.0</td>\n      <td>74.0</td>\n      <td>14747.0</td>\n      <td>smart</td>\n      <td>ульяновск</td>\n      <td>42</td>\n      <td>622.0000</td>\n    </tr>\n    <tr>\n      <th>2432</th>\n      <td>1280</td>\n      <td>10.0</td>\n      <td>91.0</td>\n      <td>619.0</td>\n      <td>44.0</td>\n      <td>20210.0</td>\n      <td>smart</td>\n      <td>астрахань</td>\n      <td>53</td>\n      <td>1854.2050</td>\n    </tr>\n    <tr>\n      <th>1908</th>\n      <td>1290</td>\n      <td>7.0</td>\n      <td>73.0</td>\n      <td>437.0</td>\n      <td>0.0</td>\n      <td>18544.0</td>\n      <td>smart</td>\n      <td>нижний новгород</td>\n      <td>68</td>\n      <td>1171.8352</td>\n    </tr>\n    <tr>\n      <th>810</th>\n      <td>1421</td>\n      <td>4.0</td>\n      <td>45.0</td>\n      <td>379.0</td>\n      <td>44.0</td>\n      <td>15270.0</td>\n      <td>smart</td>\n      <td>калининград</td>\n      <td>30</td>\n      <td>550.0000</td>\n    </tr>\n    <tr>\n      <th>2354</th>\n      <td>1138</td>\n      <td>8.0</td>\n      <td>107.0</td>\n      <td>859.0</td>\n      <td>3.0</td>\n      <td>28870.0</td>\n      <td>smart</td>\n      <td>екатеринбург</td>\n      <td>23</td>\n      <td>4265.5030</td>\n    </tr>\n    <tr>\n      <th>1902</th>\n      <td>1274</td>\n      <td>9.0</td>\n      <td>54.0</td>\n      <td>439.0</td>\n      <td>66.0</td>\n      <td>22420.0</td>\n      <td>smart</td>\n      <td>волгоград</td>\n      <td>53</td>\n      <td>1976.8180</td>\n    </tr>\n    <tr>\n      <th>1594</th>\n      <td>1374</td>\n      <td>4.0</td>\n      <td>77.0</td>\n      <td>558.0</td>\n      <td>69.0</td>\n      <td>17775.0</td>\n      <td>smart</td>\n      <td>махачкала</td>\n      <td>67</td>\n      <td>1252.6495</td>\n    </tr>\n    <tr>\n      <th>299</th>\n      <td>1340</td>\n      <td>8.0</td>\n      <td>65.0</td>\n      <td>479.0</td>\n      <td>12.0</td>\n      <td>18728.0</td>\n      <td>smart</td>\n      <td>пенза</td>\n      <td>50</td>\n      <td>1207.7704</td>\n    </tr>\n    <tr>\n      <th>2931</th>\n      <td>1023</td>\n      <td>11.0</td>\n      <td>71.0</td>\n      <td>512.0</td>\n      <td>46.0</td>\n      <td>16729.0</td>\n      <td>smart</td>\n      <td>томск</td>\n      <td>42</td>\n      <td>853.3657</td>\n    </tr>\n    <tr>\n      <th>1483</th>\n      <td>1224</td>\n      <td>9.0</td>\n      <td>85.0</td>\n      <td>590.0</td>\n      <td>0.0</td>\n      <td>18036.0</td>\n      <td>smart</td>\n      <td>магнитогорск</td>\n      <td>58</td>\n      <td>1342.6228</td>\n    </tr>\n    <tr>\n      <th>2195</th>\n      <td>1257</td>\n      <td>11.0</td>\n      <td>2.0</td>\n      <td>6.0</td>\n      <td>133.0</td>\n      <td>26274.0</td>\n      <td>ultra</td>\n      <td>санкт-петербург</td>\n      <td>21</td>\n      <td>1950.0000</td>\n    </tr>\n    <tr>\n      <th>3159</th>\n      <td>1223</td>\n      <td>12.0</td>\n      <td>96.0</td>\n      <td>651.0</td>\n      <td>33.0</td>\n      <td>21582.0</td>\n      <td>smart</td>\n      <td>стерлитамак</td>\n      <td>20</td>\n      <td>2218.1566</td>\n    </tr>\n  </tbody>\n</table>\n</div>"
     },
     "execution_count": 48,
     "metadata": {},
     "output_type": "execute_result"
    }
   ],
   "source": [
    "monthly_profit.sample(20)"
   ]
  },
  {
   "cell_type": "markdown",
   "metadata": {},
   "source": [
    "### Вывод по предобработке данных"
   ]
  },
  {
   "cell_type": "markdown",
   "metadata": {},
   "source": [
    "* Привели к правильным типам данных наши таблицы;\n",
    "* Удалили лишние столбцы с таблиц;\n",
    "* Заменили пустые значения на 0 в пустых столбцах.\n",
    "\n",
    "Также: \n",
    "\n",
    " - Посчитали для каждого пользователя:\n",
    "   - количество сделанных звонков и израсходованных минут разговора по месяцам;\n",
    "   - количество отправленных сообщений по месяцам;\n",
    "   - объем израсходованного интернет-трафика по месяцам;\n",
    "   - помесячную выручку с каждого пользователя"
   ]
  },
  {
   "cell_type": "markdown",
   "metadata": {},
   "source": [
    "## Анализ данных"
   ]
  },
  {
   "cell_type": "markdown",
   "metadata": {},
   "source": [
    "### Сколько минут разговора, сколько сообщений и какой объём интернет-трафика требуется пользователям каждого тарифа в месяц?\n"
   ]
  },
  {
   "cell_type": "markdown",
   "source": [
    "Передадим переменным `smart_tariff` и `ultra_tariff` соответствующие данные из таблицы."
   ],
   "metadata": {
    "collapsed": false
   }
  },
  {
   "cell_type": "code",
   "execution_count": 49,
   "metadata": {
    "ExecuteTime": {
     "end_time": "2023-06-26T13:48:36.392636Z",
     "start_time": "2023-06-26T13:48:36.244501700Z"
    }
   },
   "outputs": [],
   "source": [
    "smart_tariff = monthly_profit[monthly_profit['tariff']=='smart']\n",
    "ultra_tariff = monthly_profit[monthly_profit['tariff']=='ultra']"
   ]
  },
  {
   "cell_type": "markdown",
   "source": [
    "Посчитаем сколько минут разговора, сколько сообщений и какой объем интернет-трафика требуется пользователям тарифа Smart в месяц."
   ],
   "metadata": {
    "collapsed": false
   }
  },
  {
   "cell_type": "code",
   "execution_count": 50,
   "metadata": {
    "ExecuteTime": {
     "end_time": "2023-06-26T13:48:36.427668200Z",
     "start_time": "2023-06-26T13:48:36.249506100Z"
    }
   },
   "outputs": [
    {
     "data": {
      "text/plain": "    month    mb_used  messages   minutes       profit\n0     0.0        0.0       0.0       0.0     550.0000\n1     1.0   289831.0     620.0    6931.0   23886.5965\n2     2.0   673461.0    1397.0   17324.0   46650.8275\n3     3.0  1164537.0    2453.0   30034.0   86113.2362\n4     4.0  1509702.0    3443.0   41119.0  103300.1209\n5     5.0  2231353.0    4762.0   54618.0  161711.4951\n6     6.0  2593622.0    5478.0   64885.0  188525.8817\n7     7.0  3168466.0    6784.0   82079.0  234774.3990\n8     8.0  3908561.0    7905.0   99045.0  295738.4932\n9     9.0  4244377.0    8746.0  111439.0  311750.4821\n10   10.0  4932898.0    9927.0  125284.0  383612.2770\n11   11.0  5345940.0   10768.0  137544.0  405530.8507\n12   12.0  6112113.0   12130.0  161275.0  507464.1052",
      "text/html": "<div>\n<style scoped>\n    .dataframe tbody tr th:only-of-type {\n        vertical-align: middle;\n    }\n\n    .dataframe tbody tr th {\n        vertical-align: top;\n    }\n\n    .dataframe thead th {\n        text-align: right;\n    }\n</style>\n<table border=\"1\" class=\"dataframe\">\n  <thead>\n    <tr style=\"text-align: right;\">\n      <th></th>\n      <th>month</th>\n      <th>mb_used</th>\n      <th>messages</th>\n      <th>minutes</th>\n      <th>profit</th>\n    </tr>\n  </thead>\n  <tbody>\n    <tr>\n      <th>0</th>\n      <td>0.0</td>\n      <td>0.0</td>\n      <td>0.0</td>\n      <td>0.0</td>\n      <td>550.0000</td>\n    </tr>\n    <tr>\n      <th>1</th>\n      <td>1.0</td>\n      <td>289831.0</td>\n      <td>620.0</td>\n      <td>6931.0</td>\n      <td>23886.5965</td>\n    </tr>\n    <tr>\n      <th>2</th>\n      <td>2.0</td>\n      <td>673461.0</td>\n      <td>1397.0</td>\n      <td>17324.0</td>\n      <td>46650.8275</td>\n    </tr>\n    <tr>\n      <th>3</th>\n      <td>3.0</td>\n      <td>1164537.0</td>\n      <td>2453.0</td>\n      <td>30034.0</td>\n      <td>86113.2362</td>\n    </tr>\n    <tr>\n      <th>4</th>\n      <td>4.0</td>\n      <td>1509702.0</td>\n      <td>3443.0</td>\n      <td>41119.0</td>\n      <td>103300.1209</td>\n    </tr>\n    <tr>\n      <th>5</th>\n      <td>5.0</td>\n      <td>2231353.0</td>\n      <td>4762.0</td>\n      <td>54618.0</td>\n      <td>161711.4951</td>\n    </tr>\n    <tr>\n      <th>6</th>\n      <td>6.0</td>\n      <td>2593622.0</td>\n      <td>5478.0</td>\n      <td>64885.0</td>\n      <td>188525.8817</td>\n    </tr>\n    <tr>\n      <th>7</th>\n      <td>7.0</td>\n      <td>3168466.0</td>\n      <td>6784.0</td>\n      <td>82079.0</td>\n      <td>234774.3990</td>\n    </tr>\n    <tr>\n      <th>8</th>\n      <td>8.0</td>\n      <td>3908561.0</td>\n      <td>7905.0</td>\n      <td>99045.0</td>\n      <td>295738.4932</td>\n    </tr>\n    <tr>\n      <th>9</th>\n      <td>9.0</td>\n      <td>4244377.0</td>\n      <td>8746.0</td>\n      <td>111439.0</td>\n      <td>311750.4821</td>\n    </tr>\n    <tr>\n      <th>10</th>\n      <td>10.0</td>\n      <td>4932898.0</td>\n      <td>9927.0</td>\n      <td>125284.0</td>\n      <td>383612.2770</td>\n    </tr>\n    <tr>\n      <th>11</th>\n      <td>11.0</td>\n      <td>5345940.0</td>\n      <td>10768.0</td>\n      <td>137544.0</td>\n      <td>405530.8507</td>\n    </tr>\n    <tr>\n      <th>12</th>\n      <td>12.0</td>\n      <td>6112113.0</td>\n      <td>12130.0</td>\n      <td>161275.0</td>\n      <td>507464.1052</td>\n    </tr>\n  </tbody>\n</table>\n</div>"
     },
     "execution_count": 50,
     "metadata": {},
     "output_type": "execute_result"
    }
   ],
   "source": [
    "smart_pivot = smart_tariff.pivot_table(index='month', values=['minutes','messages','mb_used','profit'], aggfunc='sum')\n",
    "smart_stat = pd.DataFrame(smart_pivot.to_records())\n",
    "smart_stat"
   ]
  },
  {
   "cell_type": "markdown",
   "source": [
    "Посчитаем сколько минут разговора, сколько сообщений и какой объем интернет-трафика требуется пользователям тарифа Ultra в месяц."
   ],
   "metadata": {
    "collapsed": false
   }
  },
  {
   "cell_type": "code",
   "execution_count": 51,
   "metadata": {
    "ExecuteTime": {
     "end_time": "2023-06-26T13:48:36.427668200Z",
     "start_time": "2023-06-26T13:48:36.262517600Z"
    }
   },
   "outputs": [
    {
     "data": {
      "text/plain": "    month    mb_used  messages  minutes       profit\n1     1.0   118382.0     304.0   3853.0   17550.0000\n2     2.0   282887.0     527.0   7131.0   47352.8064\n3     3.0   649423.0    1195.0  18117.0   74153.1912\n4     4.0   926409.0    1736.0  25191.0  109747.2912\n5     5.0  1298540.0    2536.0  34192.0  137678.6640\n6     6.0  1591148.0    3505.0  40295.0  170689.1448\n7     7.0  1866833.0    4536.0  49667.0  191865.4224\n8     8.0  2096565.0    5183.0  54653.0  221605.8144\n9     9.0  2210554.0    6013.0  62036.0  231574.2456\n10   10.0  2467856.0    7187.0  68644.0  252993.3528\n11   11.0  2653912.0    7476.0  72545.0  278815.2960\n12   12.0  3032089.0    8425.0  82400.0  295534.0824",
      "text/html": "<div>\n<style scoped>\n    .dataframe tbody tr th:only-of-type {\n        vertical-align: middle;\n    }\n\n    .dataframe tbody tr th {\n        vertical-align: top;\n    }\n\n    .dataframe thead th {\n        text-align: right;\n    }\n</style>\n<table border=\"1\" class=\"dataframe\">\n  <thead>\n    <tr style=\"text-align: right;\">\n      <th></th>\n      <th>month</th>\n      <th>mb_used</th>\n      <th>messages</th>\n      <th>minutes</th>\n      <th>profit</th>\n    </tr>\n  </thead>\n  <tbody>\n    <tr>\n      <th>1</th>\n      <td>1.0</td>\n      <td>118382.0</td>\n      <td>304.0</td>\n      <td>3853.0</td>\n      <td>17550.0000</td>\n    </tr>\n    <tr>\n      <th>2</th>\n      <td>2.0</td>\n      <td>282887.0</td>\n      <td>527.0</td>\n      <td>7131.0</td>\n      <td>47352.8064</td>\n    </tr>\n    <tr>\n      <th>3</th>\n      <td>3.0</td>\n      <td>649423.0</td>\n      <td>1195.0</td>\n      <td>18117.0</td>\n      <td>74153.1912</td>\n    </tr>\n    <tr>\n      <th>4</th>\n      <td>4.0</td>\n      <td>926409.0</td>\n      <td>1736.0</td>\n      <td>25191.0</td>\n      <td>109747.2912</td>\n    </tr>\n    <tr>\n      <th>5</th>\n      <td>5.0</td>\n      <td>1298540.0</td>\n      <td>2536.0</td>\n      <td>34192.0</td>\n      <td>137678.6640</td>\n    </tr>\n    <tr>\n      <th>6</th>\n      <td>6.0</td>\n      <td>1591148.0</td>\n      <td>3505.0</td>\n      <td>40295.0</td>\n      <td>170689.1448</td>\n    </tr>\n    <tr>\n      <th>7</th>\n      <td>7.0</td>\n      <td>1866833.0</td>\n      <td>4536.0</td>\n      <td>49667.0</td>\n      <td>191865.4224</td>\n    </tr>\n    <tr>\n      <th>8</th>\n      <td>8.0</td>\n      <td>2096565.0</td>\n      <td>5183.0</td>\n      <td>54653.0</td>\n      <td>221605.8144</td>\n    </tr>\n    <tr>\n      <th>9</th>\n      <td>9.0</td>\n      <td>2210554.0</td>\n      <td>6013.0</td>\n      <td>62036.0</td>\n      <td>231574.2456</td>\n    </tr>\n    <tr>\n      <th>10</th>\n      <td>10.0</td>\n      <td>2467856.0</td>\n      <td>7187.0</td>\n      <td>68644.0</td>\n      <td>252993.3528</td>\n    </tr>\n    <tr>\n      <th>11</th>\n      <td>11.0</td>\n      <td>2653912.0</td>\n      <td>7476.0</td>\n      <td>72545.0</td>\n      <td>278815.2960</td>\n    </tr>\n    <tr>\n      <th>12</th>\n      <td>12.0</td>\n      <td>3032089.0</td>\n      <td>8425.0</td>\n      <td>82400.0</td>\n      <td>295534.0824</td>\n    </tr>\n  </tbody>\n</table>\n</div>"
     },
     "execution_count": 51,
     "metadata": {},
     "output_type": "execute_result"
    }
   ],
   "source": [
    "ultra_pivot = ultra_tariff.pivot_table(index='month', values=['minutes','messages','mb_used','profit'], aggfunc='sum')\n",
    "ultra_stat = pd.DataFrame(ultra_pivot.to_records())\n",
    "ultra_stat.drop(0)"
   ]
  },
  {
   "cell_type": "markdown",
   "metadata": {},
   "source": [
    "### Посчитаем среднее количество, дисперсию и стандартное отклонение."
   ]
  },
  {
   "cell_type": "markdown",
   "source": [
    "Посчитаем среднее, медиану, дисперсию и среднее отклонение для тарифа Smart."
   ],
   "metadata": {
    "collapsed": false
   }
  },
  {
   "cell_type": "code",
   "execution_count": 52,
   "metadata": {
    "ExecuteTime": {
     "end_time": "2023-06-26T13:48:36.428668900Z",
     "start_time": "2023-06-26T13:48:36.273527800Z"
    }
   },
   "outputs": [
    {
     "name": "stdout",
     "output_type": "stream",
     "text": [
      "Среднее minutes: 418\n",
      "Медиана minutes: 422\n",
      "Дисперсия minutes: 36265\n",
      "Среднее отклонение minutes: 190 \n",
      "\n",
      "Среднее messages: 33\n",
      "Медиана messages: 28\n",
      "Дисперсия messages: 797\n",
      "Среднее отклонение messages: 28 \n",
      "\n",
      "Среднее mb_used: 16222\n",
      "Медиана mb_used: 16529\n",
      "Дисперсия mb_used: 34632986\n",
      "Среднее отклонение mb_used: 5885 \n",
      "\n",
      "Среднее profit: 1233\n",
      "Медиана profit: 960\n",
      "Дисперсия profit: 620038\n",
      "Среднее отклонение profit: 787 \n",
      "\n"
     ]
    }
   ],
   "source": [
    "for column in smart_tariff[['minutes','messages','mb_used','profit']]:\n",
    "    print('Среднее {}: {:.0f}'.format(column,smart_tariff[column].mean()))\n",
    "    print('Медиана {}: {:.0f}'.format(column,smart_tariff[column].median()))\n",
    "    print('Дисперсия {}: {:.0f}'.format(column,np.var(smart_tariff[column])))\n",
    "    print('Среднее отклонение {}: {:.0f} \\n'.format(column, np.std(smart_tariff[column])))"
   ]
  },
  {
   "cell_type": "markdown",
   "source": [
    "Посчитаем среднее, медиану, дисперсию и среднее отклонение для тарифа Ultra."
   ],
   "metadata": {
    "collapsed": false
   }
  },
  {
   "cell_type": "code",
   "execution_count": 53,
   "metadata": {
    "ExecuteTime": {
     "end_time": "2023-06-26T13:48:36.428668900Z",
     "start_time": "2023-06-26T13:48:36.280533900Z"
    }
   },
   "outputs": [
    {
     "name": "stdout",
     "output_type": "stream",
     "text": [
      "Среднее minutes: 526\n",
      "Медиана minutes: 518\n",
      "Дисперсия minutes: 100950\n",
      "Среднее отклонение minutes: 318 \n",
      "\n",
      "Среднее messages: 49\n",
      "Медиана messages: 38\n",
      "Дисперсия messages: 2283\n",
      "Среднее отклонение messages: 48 \n",
      "\n",
      "Среднее mb_used: 19467\n",
      "Медиана mb_used: 19320\n",
      "Дисперсия mb_used: 102113596\n",
      "Среднее отклонение mb_used: 10105 \n",
      "\n",
      "Среднее profit: 2060\n",
      "Медиана profit: 1950\n",
      "Дисперсия profit: 126562\n",
      "Среднее отклонение profit: 356 \n",
      "\n"
     ]
    }
   ],
   "source": [
    "for column in ultra_tariff[['minutes','messages','mb_used','profit']]:\n",
    "    print('Среднее {}: {:.0f}'.format(column,ultra_tariff[column].mean()))\n",
    "    print('Медиана {}: {:.0f}'.format(column,ultra_tariff[column].median()))\n",
    "    print('Дисперсия {}: {:.0f}'.format(column,np.var(ultra_tariff[column])))\n",
    "    print('Среднее отклонение {}: {:.0f} \\n'.format(column, np.std(ultra_tariff[column])))"
   ]
  },
  {
   "cell_type": "markdown",
   "metadata": {},
   "source": [
    "### Построим гистограммы и опишем распределения"
   ]
  },
  {
   "cell_type": "code",
   "execution_count": 54,
   "metadata": {
    "ExecuteTime": {
     "end_time": "2023-06-26T13:48:36.428668900Z",
     "start_time": "2023-06-26T13:48:36.291544800Z"
    }
   },
   "outputs": [],
   "source": [
    "def histogram_drawing(column, title):\n",
    "    sns.set_style('darkgrid')\n",
    "    plt.figure(figsize=(12, 6))\n",
    "    plt.title(title, fontsize=15)\n",
    "    sns.histplot(smart_tariff[column], label='Тариф Smart', kde=False)\n",
    "    sns.histplot(ultra_tariff[column], label='Тариф Ultra', kde=False)\n",
    "    plt.axvline(np.mean(smart_tariff[column]), color='g', linestyle='--', label='Smart среднее')\n",
    "    plt.axvline(np.mean(ultra_tariff[column]), color='g', linestyle='-', label='Ultra среднее')\n",
    "    plt.legend()"
   ]
  },
  {
   "cell_type": "code",
   "execution_count": 55,
   "metadata": {
    "ExecuteTime": {
     "end_time": "2023-06-26T13:48:36.909109400Z",
     "start_time": "2023-06-26T13:48:36.291544800Z"
    }
   },
   "outputs": [
    {
     "data": {
      "text/plain": "<Figure size 1200x600 with 1 Axes>",
      "image/png": "[encoded data removed]"
     },
     "metadata": {},
     "output_type": "display_data"
    }
   ],
   "source": [
    "histogram_drawing('mb_used', 'Распределение по мегабайтам у тарифов Ultra и Smart')"
   ]
  },
  {
   "cell_type": "code",
   "execution_count": 56,
   "metadata": {
    "ExecuteTime": {
     "end_time": "2023-06-26T13:48:37.038226500Z",
     "start_time": "2023-06-26T13:48:36.603827500Z"
    }
   },
   "outputs": [
    {
     "data": {
      "text/plain": "<Figure size 1200x600 with 1 Axes>",
      "image/png": "[encoded data removed]"
     },
     "metadata": {},
     "output_type": "display_data"
    }
   ],
   "source": [
    "histogram_drawing('minutes','Распределение по минутам у тарифов Ultra и Smart')"
   ]
  },
  {
   "cell_type": "code",
   "execution_count": 57,
   "metadata": {
    "ExecuteTime": {
     "end_time": "2023-06-26T13:48:37.208381400Z",
     "start_time": "2023-06-26T13:48:36.872076400Z"
    }
   },
   "outputs": [
    {
     "data": {
      "text/plain": "<Figure size 1200x600 with 1 Axes>",
      "image/png": "[encoded data removed]"
     },
     "metadata": {},
     "output_type": "display_data"
    }
   ],
   "source": [
    "histogram_drawing('messages','Распределение по сообщениям у тарифов Ultra и Smart')"
   ]
  },
  {
   "cell_type": "code",
   "execution_count": 58,
   "metadata": {
    "ExecuteTime": {
     "end_time": "2023-06-26T13:48:37.509655Z",
     "start_time": "2023-06-26T13:48:37.100283400Z"
    }
   },
   "outputs": [
    {
     "data": {
      "text/plain": "<Figure size 1200x600 with 1 Axes>",
      "image/png": "[encoded data removed]"
     },
     "metadata": {},
     "output_type": "display_data"
    },
    {
     "data": {
      "text/plain": "<Figure size 1200x600 with 1 Axes>",
      "image/png": "[encoded data removed]"
     },
     "metadata": {},
     "output_type": "display_data"
    },
    {
     "data": {
      "text/plain": "<Figure size 1200x600 with 1 Axes>",
      "image/png": "[encoded data removed]"
     },
     "metadata": {},
     "output_type": "display_data"
    }
   ],
   "source": [
    "for columns in monthly_profit[['mb_used','minutes','messages']]:\n",
    "    plt.figure(figsize=(12,6))\n",
    "    plt.title(columns, fontsize=15)\n",
    "    sns.boxplot(data=monthly_profit, x=columns, y='tariff')"
   ]
  },
  {
   "cell_type": "markdown",
   "metadata": {},
   "source": [
    "**Вывод**:\n",
    "Исходя из полученных графиков видно, что пользователи тарифа **Smart** в среднем:\n",
    " - проговаривают 400 минут, когда пользователи тарифа **Ultra** проговаривают 500 минут\n",
    " - скачивают ~ 16000 мегабайт, когда пользователи тарифа **Ultra** скачивают ~ 20 000 мегабайт\n",
    " - отправляют 33 сообщений, когда пользователи тарифа **Ultra** отправляют ~ 49 сообщений"
   ]
  },
  {
   "cell_type": "code",
   "execution_count": 59,
   "metadata": {
    "ExecuteTime": {
     "end_time": "2023-06-26T13:48:37.708835700Z",
     "start_time": "2023-06-26T13:48:37.487634700Z"
    }
   },
   "outputs": [
    {
     "data": {
      "text/plain": "<Figure size 1200x600 with 1 Axes>",
      "image/png": "[encoded data removed]"
     },
     "metadata": {},
     "output_type": "display_data"
    }
   ],
   "source": [
    "plt.figure(figsize=(12, 6))\n",
    "plt.title('Распределение выручки у тарифов Ultra и Smart', fontsize=15)\n",
    "ax = sns.histplot(data=smart_tariff, x='profit', label='Тариф Смарт', kde=False)\n",
    "ax = sns.histplot(data=ultra_tariff, x='profit', label='Тариф Ультра', kde=False)\n",
    "ax.set(xlabel='Выручка в рублях по тарифам')\n",
    "plt.legend();"
   ]
  },
  {
   "cell_type": "code",
   "execution_count": 60,
   "metadata": {
    "ExecuteTime": {
     "end_time": "2023-06-26T13:48:37.939044400Z",
     "start_time": "2023-06-26T13:48:37.710837300Z"
    }
   },
   "outputs": [
    {
     "data": {
      "text/plain": "<Figure size 1200x600 with 1 Axes>",
      "image/png": "[encoded data removed]"
     },
     "metadata": {},
     "output_type": "display_data"
    }
   ],
   "source": [
    "plt.figure(figsize=(12, 6))\n",
    "plt.title('Распределение выручки у тарифов Ultra и Smart без учета Абонентской платы', fontsize=15)\n",
    "ax = sns.histplot(data=smart_tariff['profit'] - 550, label='Тариф Смарт', kde=False)\n",
    "ax = sns.histplot(data=ultra_tariff['profit'] - 1950, label='Тариф Ультра', kde=False)\n",
    "ax.set(xlabel='Выручка в рублях по тарифам')\n",
    "plt.legend();"
   ]
  },
  {
   "cell_type": "markdown",
   "metadata": {},
   "source": [
    "Исходя из графика видно, что больше всего сверх абонентской платы оплачивают пользователи тарифа Смарт. Большинству пользователей тарифа Ультра достаточно пакета с имеющимися минутами и мегабайтами."
   ]
  },
  {
   "cell_type": "code",
   "execution_count": 61,
   "metadata": {
    "ExecuteTime": {
     "end_time": "2023-06-26T13:48:37.944049400Z",
     "start_time": "2023-06-26T13:48:37.938043500Z"
    }
   },
   "outputs": [
    {
     "name": "stdout",
     "output_type": "stream",
     "text": [
      "Количество клиентов с тарифом Ультра: 149\n",
      "Количество клиентов с тарифом Смарт: 351\n",
      "\n",
      "В среднем один пользователь тарифа Ультра приносит: 13634 рублей\n",
      "В среднем один пользователь тарифа Смарт приносит: 7834 рублей\n",
      "\n",
      "Годавая прибыль по тарифу Ультра: 2031509 рублей\n",
      "Годовая прибыль по тарифу Смарт: 2749609 рублей\n",
      "\n"
     ]
    }
   ],
   "source": [
    "smart = users[users['tariff']=='smart']\n",
    "ultra = users[users['tariff']=='ultra']\n",
    "\n",
    "print('Количество клиентов с тарифом Ультра: {}'.format(ultra['tariff'].count()))\n",
    "print('Количество клиентов с тарифом Смарт: {}\\n'.format(smart['tariff'].count()))\n",
    "print('В среднем один пользователь тарифа Ультра приносит: {:.0f} рублей'.format(ultra_tariff['profit'].sum()/ultra['tariff'].count()))\n",
    "print('В среднем один пользователь тарифа Смарт приносит: {:.0f} рублей\\n'.format(smart_tariff['profit'].sum()/smart['tariff'].count()))\n",
    "print('Годавая прибыль по тарифу Ультра: {:.0f} рублей'.format(ultra_tariff['profit'].sum()))\n",
    "print('Годовая прибыль по тарифу Смарт: {:.0f} рублей\\n'.format(smart_tariff['profit'].sum()))"
   ]
  },
  {
   "cell_type": "markdown",
   "metadata": {},
   "source": [
    "### Вывод по Анализу Данных"
   ]
  },
  {
   "cell_type": "markdown",
   "metadata": {},
   "source": [
    "> Как и ожидалось, пользователи тарифа Ультра, тратят больше интернет-трафика, делают больше звонков и отправляют больше сообщений больше, чем пользователи тарифа Смарт.\n",
    "\n",
    "> Если смотреть по средней выручке от каждого пользователя, то мы можем видеть, что каждый пользователь тарифа Ультра приносит компании в среднем 13 630 рублей в год. Когда пользователь тарифа Смарт приносит лишь 7834 рублей в год.\n",
    "\n",
    "> Но если посчитать годовую выручку компании, то мы видим, что выручка по тарифу Смарт приносит компании 2 749 609 рублей в год, когда выручка по тарифу Ультра приносит 2 031 509 рублей в год.\n",
    "\n",
    "> *Количество пользователей тарифа Смарт 351, а пользователей тарифа Ультра 149.*"
   ]
  },
  {
   "cell_type": "markdown",
   "metadata": {},
   "source": [
    "## Проверим Гипотезы"
   ]
  },
  {
   "cell_type": "markdown",
   "metadata": {},
   "source": [
    "### Средняя выручка пользователей тарифов «Ультра» и «Смарт» различается\n"
   ]
  },
  {
   "cell_type": "markdown",
   "metadata": {},
   "source": [
    "Сформулируем нулевые гипотезы:\n",
    "    - Нулевая гипотеза H₀: Средняя выручка пользователей тарифов Смарт и Ультра не различается\n",
    "    - Альтернативная гипотеза H₁: Средняя выручка пользователей тарифов Смарт и Ультра различается"
   ]
  },
  {
   "cell_type": "code",
   "execution_count": 62,
   "metadata": {
    "ExecuteTime": {
     "end_time": "2023-06-26T13:48:37.949053600Z",
     "start_time": "2023-06-26T13:48:37.944049400Z"
    }
   },
   "outputs": [
    {
     "data": {
      "text/plain": "68      1950.0000\n69      1950.0000\n70      1950.0000\n71      1950.0000\n72      1950.0000\n          ...    \n3205    1950.0000\n3211    1950.0000\n3212    2659.6008\n3213    3229.6824\n3214    1950.0000\nName: profit, Length: 986, dtype: float64"
     },
     "execution_count": 62,
     "metadata": {},
     "output_type": "execute_result"
    }
   ],
   "source": [
    "# Посчитаем данные по выручке от каждого пользователя \n",
    "ultra_hyp = monthly_profit[monthly_profit['tariff']=='ultra']['profit']\n",
    "smart_hyp = monthly_profit[monthly_profit['tariff']=='smart']['profit']\n",
    "\n",
    "ultra_hyp"
   ]
  },
  {
   "cell_type": "code",
   "execution_count": 63,
   "metadata": {
    "ExecuteTime": {
     "end_time": "2023-06-26T13:48:37.954058100Z",
     "start_time": "2023-06-26T13:48:37.949053600Z"
    }
   },
   "outputs": [
    {
     "data": {
      "text/plain": "1233.0084148430494"
     },
     "execution_count": 63,
     "metadata": {},
     "output_type": "execute_result"
    }
   ],
   "source": [
    "smart_hyp.mean()"
   ]
  },
  {
   "cell_type": "markdown",
   "source": [
    "Выполним проверку гипотезы. Будем использовать метод `ttest_ind`."
   ],
   "metadata": {
    "collapsed": false
   }
  },
  {
   "cell_type": "code",
   "execution_count": 64,
   "metadata": {
    "ExecuteTime": {
     "end_time": "2023-06-26T13:48:38.055150100Z",
     "start_time": "2023-06-26T13:48:37.954058100Z"
    }
   },
   "outputs": [
    {
     "name": "stdout",
     "output_type": "stream",
     "text": [
      "p-значение: 2.983459782936036e-296\n",
      "Отвергаем нулевую гипотезу\n"
     ]
    }
   ],
   "source": [
    "alpha = .05\n",
    "\n",
    "results = st.ttest_ind(ultra_hyp, smart_hyp, equal_var=False)\n",
    "\n",
    "print('p-значение:', results.pvalue)\n",
    "\n",
    "\n",
    "if results.pvalue < alpha:\n",
    "    print(\"Отвергаем нулевую гипотезу\")\n",
    "else:\n",
    "    print(\"Не получилось отвергнуть нулевую гипотезу\")"
   ]
  },
  {
   "cell_type": "markdown",
   "metadata": {},
   "source": [
    "_Исходя из нашего теста мы видим, что средняя выручка в тарифах ультра и смарт различается. Отвергаем нулевую гипотезу._"
   ]
  },
  {
   "cell_type": "markdown",
   "metadata": {},
   "source": [
    "### Средняя выручка пользователей из Москвы отличается от выручки пользователей из других регионов;"
   ]
  },
  {
   "cell_type": "markdown",
   "metadata": {},
   "source": [
    "Сформулируем нулевые гипотезы : \n",
    "    - Нулевая гипотеза H₀: Средняя выручка пользователей из Москвы не отличается от выручки пользователей из других регионов\n",
    "    - Альтернативная гипотеза H₁: Средняя выручка пользователей ииз Москвы отличается от выручки пользователей из других регионов"
   ]
  },
  {
   "cell_type": "code",
   "execution_count": 65,
   "metadata": {
    "ExecuteTime": {
     "end_time": "2023-06-26T13:48:38.055150100Z",
     "start_time": "2023-06-26T13:48:37.958061900Z"
    }
   },
   "outputs": [
    {
     "data": {
      "text/plain": "1507.2323355155481"
     },
     "execution_count": 65,
     "metadata": {},
     "output_type": "execute_result"
    }
   ],
   "source": [
    "moscow_city = monthly_profit[monthly_profit['city']=='москва'].profit\n",
    "others_city = monthly_profit[monthly_profit['city']!='москва'].profit\n",
    "moscow_city.mean()"
   ]
  },
  {
   "cell_type": "code",
   "execution_count": 66,
   "metadata": {
    "ExecuteTime": {
     "end_time": "2023-06-26T13:48:38.055150100Z",
     "start_time": "2023-06-26T13:48:37.963066500Z"
    }
   },
   "outputs": [
    {
     "data": {
      "text/plain": "1481.8422722840692"
     },
     "execution_count": 66,
     "metadata": {},
     "output_type": "execute_result"
    }
   ],
   "source": [
    "others_city.mean()"
   ]
  },
  {
   "cell_type": "code",
   "execution_count": 67,
   "metadata": {
    "ExecuteTime": {
     "end_time": "2023-06-26T13:48:38.055150100Z",
     "start_time": "2023-06-26T13:48:37.966068700Z"
    }
   },
   "outputs": [
    {
     "name": "stdout",
     "output_type": "stream",
     "text": [
      "p-значение: 0.45173745836083723\n",
      "Не получилось отвергнуть нулевую гипотезу\n"
     ]
    }
   ],
   "source": [
    "alpha = .05\n",
    "\n",
    "results = st.ttest_ind(moscow_city, others_city, equal_var = False)\n",
    "\n",
    "print('p-значение:', results.pvalue)\n",
    "\n",
    "\n",
    "if results.pvalue < alpha:\n",
    "    print(\"Отвергаем нулевую гипотезу\")\n",
    "else:\n",
    "    print(\"Не получилось отвергнуть нулевую гипотезу\")"
   ]
  },
  {
   "cell_type": "markdown",
   "metadata": {},
   "source": [
    "_Исходя из нашего теста мы видим, что средняя выручка пользователей с Москвы не отличается от пользователей из других регионов. Проведя тест мы не смогли отвергнуть нулевую гипотезу._"
   ]
  },
  {
   "cell_type": "markdown",
   "metadata": {},
   "source": [
    "## Общий вывод"
   ]
  },
  {
   "cell_type": "markdown",
   "metadata": {},
   "source": [
    "- Мы изучили наши таблицы, проверили их на наличие пустых значений, дубликатов и неправильных типов данных. После, в предобработке мы поменяли типы данных практически во всех столбцах, так как многие были указаны неверно. И подготовили все таблицы для дальнейшего анализа.\n",
    "\n",
    "- По ТЗ: посчитали: Сколько минут разговора, сколько сообщений и какой объем интернет-трафика требуется пользователям каждого тарифа в месяц? Посчитали среднее количество, дисперсию и стандартное отклонение.\n",
    "\n",
    "- Проверили гипотезы. Убедились, что выручка тарифов Смарт и Ультра различается. Убедились, что выручка клиентов с Москвы и других регионов не отличается.\n",
    "\n",
    "- Изучив данные, мы выявили, что клиенты тарифа Ультра расходуют больше интернет-трафика, делают больше звонков и отправляют больше сообщений, нежели клиенты тарифа Смарт и практически не превышают лимит своего пакета, чего не скажешь о клиентах тарифа Смарт. Но по годовой выручке, компания получает больше выручки по тарифу Смарт, так как пользователей данного тарифа больше, чем Ультра. Если считать по каждому пользователю, то в среднем пользователь тарифа Ультра приносит больше выручки в год, чем пользователь Смарта.\n",
    "\n",
    "- Если брать считать по итоговой прибыли от тарифов Ультра и Смарт, то Смарт выгоден для компании аж на 700к рублей в год. Но если считать ценность пользователя каждого тарифа, то пользователь тарифа Ультра приносит больше дохода, чем один пользователь тарифа Смарт.\n"
   ]
  }
 ],
 "metadata": {
  "kernelspec": {
   "display_name": "Python 3",
   "language": "python",
   "name": "python3"
  },
  "language_info": {
   "codemirror_mode": {
    "name": "ipython",
    "version": 3
   },
   "file_extension": ".py",
   "mimetype": "text/x-python",
   "name": "python",
   "nbconvert_exporter": "python",
   "pygments_lexer": "ipython3",
   "version": "3.8.5"
  }
 },
 "nbformat": 4,
 "nbformat_minor": 4
}
