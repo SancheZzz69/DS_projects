{
 "cells": [
  {
   "cell_type": "markdown",
   "metadata": {},
   "source": [
    "# Рекомендация тарифов"
   ]
  },
  {
   "cell_type": "markdown",
   "metadata": {},
   "source": [
    "В нашем распоряжении данные о поведении клиентов, которые уже перешли на эти тарифы (из проекта №4). Нужно построить модель для задачи классификации, которая выберет подходящий тариф. Предобработка данных не понадобится — она уже сделана.\n",
    "\n",
    "Нужно построить модель с максимально большим значением *accuracy* (по крайней мере 0.75) на обучающей выборке."
   ]
  },
  {
   "cell_type": "markdown",
   "metadata": {},
   "source": [
    "## Изучение файла"
   ]
  },
  {
   "cell_type": "code",
   "execution_count": 1,
   "metadata": {
    "ExecuteTime": {
     "end_time": "2023-06-26T13:59:34.772051100Z",
     "start_time": "2023-06-26T13:59:33.967130200Z"
    }
   },
   "outputs": [],
   "source": [
    "import pandas as pd\n",
    "from sklearn.model_selection import train_test_split\n",
    "from sklearn.linear_model import LogisticRegression \n",
    "from sklearn.tree import DecisionTreeClassifier\n",
    "from sklearn.metrics import accuracy_score\n",
    "from sklearn.ensemble import RandomForestClassifier\n",
    "from sklearn.model_selection import GridSearchCV"
   ]
  },
  {
   "cell_type": "code",
   "execution_count": 2,
   "metadata": {
    "ExecuteTime": {
     "end_time": "2023-06-26T13:59:34.782063700Z",
     "start_time": "2023-06-26T13:59:34.773052200Z"
    }
   },
   "outputs": [],
   "source": [
    "data = pd.read_csv('users_behavior.csv')"
   ]
  },
  {
   "cell_type": "code",
   "execution_count": 3,
   "metadata": {
    "ExecuteTime": {
     "end_time": "2023-06-26T13:59:34.793073800Z",
     "start_time": "2023-06-26T13:59:34.783064800Z"
    }
   },
   "outputs": [
    {
     "name": "stdout",
     "output_type": "stream",
     "text": [
      "<class 'pandas.core.frame.DataFrame'>\n",
      "RangeIndex: 3214 entries, 0 to 3213\n",
      "Data columns (total 5 columns):\n",
      " #   Column    Non-Null Count  Dtype  \n",
      "---  ------    --------------  -----  \n",
      " 0   calls     3214 non-null   float64\n",
      " 1   minutes   3214 non-null   float64\n",
      " 2   messages  3214 non-null   float64\n",
      " 3   mb_used   3214 non-null   float64\n",
      " 4   is_ultra  3214 non-null   int64  \n",
      "dtypes: float64(4), int64(1)\n",
      "memory usage: 125.7 KB\n"
     ]
    }
   ],
   "source": [
    "data.info()"
   ]
  },
  {
   "cell_type": "code",
   "execution_count": 4,
   "metadata": {
    "ExecuteTime": {
     "end_time": "2023-06-26T13:59:34.819098500Z",
     "start_time": "2023-06-26T13:59:34.794074800Z"
    }
   },
   "outputs": [
    {
     "data": {
      "text/plain": "   calls  minutes  messages   mb_used  is_ultra\n0   40.0   311.90      83.0  19915.42         0\n1   85.0   516.75      56.0  22696.96         0\n2   77.0   467.66      86.0  21060.45         0\n3  106.0   745.53      81.0   8437.39         1\n4   66.0   418.74       1.0  14502.75         0",
      "text/html": "<div>\n<style scoped>\n    .dataframe tbody tr th:only-of-type {\n        vertical-align: middle;\n    }\n\n    .dataframe tbody tr th {\n        vertical-align: top;\n    }\n\n    .dataframe thead th {\n        text-align: right;\n    }\n</style>\n<table border=\"1\" class=\"dataframe\">\n  <thead>\n    <tr style=\"text-align: right;\">\n      <th></th>\n      <th>calls</th>\n      <th>minutes</th>\n      <th>messages</th>\n      <th>mb_used</th>\n      <th>is_ultra</th>\n    </tr>\n  </thead>\n  <tbody>\n    <tr>\n      <th>0</th>\n      <td>40.0</td>\n      <td>311.90</td>\n      <td>83.0</td>\n      <td>19915.42</td>\n      <td>0</td>\n    </tr>\n    <tr>\n      <th>1</th>\n      <td>85.0</td>\n      <td>516.75</td>\n      <td>56.0</td>\n      <td>22696.96</td>\n      <td>0</td>\n    </tr>\n    <tr>\n      <th>2</th>\n      <td>77.0</td>\n      <td>467.66</td>\n      <td>86.0</td>\n      <td>21060.45</td>\n      <td>0</td>\n    </tr>\n    <tr>\n      <th>3</th>\n      <td>106.0</td>\n      <td>745.53</td>\n      <td>81.0</td>\n      <td>8437.39</td>\n      <td>1</td>\n    </tr>\n    <tr>\n      <th>4</th>\n      <td>66.0</td>\n      <td>418.74</td>\n      <td>1.0</td>\n      <td>14502.75</td>\n      <td>0</td>\n    </tr>\n  </tbody>\n</table>\n</div>"
     },
     "execution_count": 4,
     "metadata": {},
     "output_type": "execute_result"
    }
   ],
   "source": [
    "data.head(5)"
   ]
  },
  {
   "cell_type": "markdown",
   "metadata": {},
   "source": [
    "Частично просмотрев таблицу, а также воспользовавшись `pandas.DataFrame.info()`, мы убедились, что предобработка данных действительно уже была произведена. Данные изменять не нужно."
   ]
  },
  {
   "cell_type": "markdown",
   "metadata": {},
   "source": [
    "## Разбивка данных на выборки"
   ]
  },
  {
   "cell_type": "code",
   "execution_count": 5,
   "metadata": {
    "ExecuteTime": {
     "end_time": "2023-06-26T13:59:34.819098500Z",
     "start_time": "2023-06-26T13:59:34.813092100Z"
    }
   },
   "outputs": [],
   "source": [
    "data_train, data_valid_and_test = train_test_split(data, test_size=0.4, random_state=999)"
   ]
  },
  {
   "cell_type": "code",
   "execution_count": 6,
   "metadata": {
    "scrolled": true,
    "ExecuteTime": {
     "end_time": "2023-06-26T13:59:34.819098500Z",
     "start_time": "2023-06-26T13:59:34.813092100Z"
    }
   },
   "outputs": [
    {
     "data": {
      "text/plain": "      calls  minutes  messages   mb_used  is_ultra\n392    55.0   413.69      39.0  14360.59         0\n2701   43.0   173.90      60.0  23233.82         1\n2156    1.0     6.96      56.0  17956.44         0\n2779   49.0   255.32       0.0   8413.88         0\n1941  189.0  1188.18     172.0  25142.93         1",
      "text/html": "<div>\n<style scoped>\n    .dataframe tbody tr th:only-of-type {\n        vertical-align: middle;\n    }\n\n    .dataframe tbody tr th {\n        vertical-align: top;\n    }\n\n    .dataframe thead th {\n        text-align: right;\n    }\n</style>\n<table border=\"1\" class=\"dataframe\">\n  <thead>\n    <tr style=\"text-align: right;\">\n      <th></th>\n      <th>calls</th>\n      <th>minutes</th>\n      <th>messages</th>\n      <th>mb_used</th>\n      <th>is_ultra</th>\n    </tr>\n  </thead>\n  <tbody>\n    <tr>\n      <th>392</th>\n      <td>55.0</td>\n      <td>413.69</td>\n      <td>39.0</td>\n      <td>14360.59</td>\n      <td>0</td>\n    </tr>\n    <tr>\n      <th>2701</th>\n      <td>43.0</td>\n      <td>173.90</td>\n      <td>60.0</td>\n      <td>23233.82</td>\n      <td>1</td>\n    </tr>\n    <tr>\n      <th>2156</th>\n      <td>1.0</td>\n      <td>6.96</td>\n      <td>56.0</td>\n      <td>17956.44</td>\n      <td>0</td>\n    </tr>\n    <tr>\n      <th>2779</th>\n      <td>49.0</td>\n      <td>255.32</td>\n      <td>0.0</td>\n      <td>8413.88</td>\n      <td>0</td>\n    </tr>\n    <tr>\n      <th>1941</th>\n      <td>189.0</td>\n      <td>1188.18</td>\n      <td>172.0</td>\n      <td>25142.93</td>\n      <td>1</td>\n    </tr>\n  </tbody>\n</table>\n</div>"
     },
     "execution_count": 6,
     "metadata": {},
     "output_type": "execute_result"
    }
   ],
   "source": [
    "data_train.head()"
   ]
  },
  {
   "cell_type": "markdown",
   "metadata": {},
   "source": [
    "Сначала разобьём выборку как 60% тренировочных данных и 40% валидационных и тестовых."
   ]
  },
  {
   "cell_type": "code",
   "execution_count": 7,
   "metadata": {
    "ExecuteTime": {
     "end_time": "2023-06-26T13:59:34.825102800Z",
     "start_time": "2023-06-26T13:59:34.816094800Z"
    }
   },
   "outputs": [],
   "source": [
    "data_valid, data_test = train_test_split(data_valid_and_test, test_size=0.5, random_state=999)"
   ]
  },
  {
   "cell_type": "code",
   "execution_count": 8,
   "metadata": {
    "ExecuteTime": {
     "end_time": "2023-06-26T13:59:34.829106500Z",
     "start_time": "2023-06-26T13:59:34.822100900Z"
    }
   },
   "outputs": [
    {
     "data": {
      "text/plain": "      calls  minutes  messages   mb_used  is_ultra\n1004   37.0   279.41       0.0  27548.01         1\n2271   56.0   454.16      60.0  11953.02         0\n180    99.0   634.32      43.0  16436.32         0\n1623   23.0   169.25      20.0   7476.26         0\n1961   57.0   372.11      12.0  18254.09         0",
      "text/html": "<div>\n<style scoped>\n    .dataframe tbody tr th:only-of-type {\n        vertical-align: middle;\n    }\n\n    .dataframe tbody tr th {\n        vertical-align: top;\n    }\n\n    .dataframe thead th {\n        text-align: right;\n    }\n</style>\n<table border=\"1\" class=\"dataframe\">\n  <thead>\n    <tr style=\"text-align: right;\">\n      <th></th>\n      <th>calls</th>\n      <th>minutes</th>\n      <th>messages</th>\n      <th>mb_used</th>\n      <th>is_ultra</th>\n    </tr>\n  </thead>\n  <tbody>\n    <tr>\n      <th>1004</th>\n      <td>37.0</td>\n      <td>279.41</td>\n      <td>0.0</td>\n      <td>27548.01</td>\n      <td>1</td>\n    </tr>\n    <tr>\n      <th>2271</th>\n      <td>56.0</td>\n      <td>454.16</td>\n      <td>60.0</td>\n      <td>11953.02</td>\n      <td>0</td>\n    </tr>\n    <tr>\n      <th>180</th>\n      <td>99.0</td>\n      <td>634.32</td>\n      <td>43.0</td>\n      <td>16436.32</td>\n      <td>0</td>\n    </tr>\n    <tr>\n      <th>1623</th>\n      <td>23.0</td>\n      <td>169.25</td>\n      <td>20.0</td>\n      <td>7476.26</td>\n      <td>0</td>\n    </tr>\n    <tr>\n      <th>1961</th>\n      <td>57.0</td>\n      <td>372.11</td>\n      <td>12.0</td>\n      <td>18254.09</td>\n      <td>0</td>\n    </tr>\n  </tbody>\n</table>\n</div>"
     },
     "execution_count": 8,
     "metadata": {},
     "output_type": "execute_result"
    }
   ],
   "source": [
    "data_valid.head()"
   ]
  },
  {
   "cell_type": "code",
   "execution_count": 9,
   "metadata": {
    "scrolled": true,
    "ExecuteTime": {
     "end_time": "2023-06-26T13:59:34.845126400Z",
     "start_time": "2023-06-26T13:59:34.830107500Z"
    }
   },
   "outputs": [
    {
     "data": {
      "text/plain": "      calls  minutes  messages   mb_used  is_ultra\n2368   82.0   539.18      46.0  16021.77         0\n184    73.0   576.62      42.0   7865.58         0\n2920   48.0   333.11      91.0  13643.08         0\n950    65.0   421.87      28.0  23488.98         0\n1999   56.0   398.45       4.0  23682.94         0",
      "text/html": "<div>\n<style scoped>\n    .dataframe tbody tr th:only-of-type {\n        vertical-align: middle;\n    }\n\n    .dataframe tbody tr th {\n        vertical-align: top;\n    }\n\n    .dataframe thead th {\n        text-align: right;\n    }\n</style>\n<table border=\"1\" class=\"dataframe\">\n  <thead>\n    <tr style=\"text-align: right;\">\n      <th></th>\n      <th>calls</th>\n      <th>minutes</th>\n      <th>messages</th>\n      <th>mb_used</th>\n      <th>is_ultra</th>\n    </tr>\n  </thead>\n  <tbody>\n    <tr>\n      <th>2368</th>\n      <td>82.0</td>\n      <td>539.18</td>\n      <td>46.0</td>\n      <td>16021.77</td>\n      <td>0</td>\n    </tr>\n    <tr>\n      <th>184</th>\n      <td>73.0</td>\n      <td>576.62</td>\n      <td>42.0</td>\n      <td>7865.58</td>\n      <td>0</td>\n    </tr>\n    <tr>\n      <th>2920</th>\n      <td>48.0</td>\n      <td>333.11</td>\n      <td>91.0</td>\n      <td>13643.08</td>\n      <td>0</td>\n    </tr>\n    <tr>\n      <th>950</th>\n      <td>65.0</td>\n      <td>421.87</td>\n      <td>28.0</td>\n      <td>23488.98</td>\n      <td>0</td>\n    </tr>\n    <tr>\n      <th>1999</th>\n      <td>56.0</td>\n      <td>398.45</td>\n      <td>4.0</td>\n      <td>23682.94</td>\n      <td>0</td>\n    </tr>\n  </tbody>\n</table>\n</div>"
     },
     "execution_count": 9,
     "metadata": {},
     "output_type": "execute_result"
    }
   ],
   "source": [
    "data_test.head()"
   ]
  },
  {
   "cell_type": "markdown",
   "metadata": {},
   "source": [
    "После чего эти 40 процентов поделим пополам."
   ]
  },
  {
   "cell_type": "markdown",
   "metadata": {},
   "source": [
    "## Исследование моделей"
   ]
  },
  {
   "cell_type": "markdown",
   "metadata": {},
   "source": [
    "### Получение признаков и целевого признака"
   ]
  },
  {
   "cell_type": "code",
   "execution_count": 10,
   "metadata": {
    "ExecuteTime": {
     "end_time": "2023-06-26T13:59:34.861135600Z",
     "start_time": "2023-06-26T13:59:34.837113800Z"
    }
   },
   "outputs": [],
   "source": [
    "features_train = data_train.drop('is_ultra', axis=1)\n",
    "target_train = data_train['is_ultra']"
   ]
  },
  {
   "cell_type": "code",
   "execution_count": 11,
   "metadata": {
    "ExecuteTime": {
     "end_time": "2023-06-26T13:59:34.887159200Z",
     "start_time": "2023-06-26T13:59:34.839115600Z"
    }
   },
   "outputs": [],
   "source": [
    "features_valid = data_valid.drop('is_ultra', axis=1)\n",
    "target_valid = data_valid['is_ultra']"
   ]
  },
  {
   "cell_type": "code",
   "execution_count": 12,
   "metadata": {
    "ExecuteTime": {
     "end_time": "2023-06-26T13:59:34.914183600Z",
     "start_time": "2023-06-26T13:59:34.842118300Z"
    }
   },
   "outputs": [],
   "source": [
    "features_test = data_test.drop('is_ultra', axis=1)\n",
    "target_test = data_test['is_ultra']"
   ]
  },
  {
   "cell_type": "markdown",
   "metadata": {},
   "source": [
    "Успешно получили признаки и целевой признак."
   ]
  },
  {
   "cell_type": "markdown",
   "metadata": {},
   "source": [
    "### Модель логистической регрессии"
   ]
  },
  {
   "cell_type": "code",
   "execution_count": 21,
   "metadata": {
    "ExecuteTime": {
     "end_time": "2023-06-26T14:01:43.513372700Z",
     "start_time": "2023-06-26T14:01:41.952952100Z"
    }
   },
   "outputs": [
    {
     "name": "stdout",
     "output_type": "stream",
     "text": [
      "Accuracy лучшей модели на валидационной выборке: 0.7334136329991251\n",
      "Iters лучшей модели на валидационной выборке: 101\n"
     ]
    }
   ],
   "source": [
    "param_grid = {'max_iter': range(101, 1001, 25)}\n",
    "\n",
    "model_logreg = LogisticRegression(random_state=999, solver='lbfgs')\n",
    "grid_search = GridSearchCV(model_logreg, param_grid, scoring='accuracy', cv=5)\n",
    "grid_search.fit(features_train, target_train)\n",
    "\n",
    "best_model_logreg = grid_search.best_estimator_\n",
    "best_result_logreg = grid_search.best_score_\n",
    "best_iters = best_model_logreg.max_iter\n",
    "\n",
    "print(\"Accuracy лучшей модели на валидационной выборке:\", best_result_logreg)\n",
    "print(\"Iters лучшей модели на валидационной выборке:\", best_iters)"
   ]
  },
  {
   "cell_type": "markdown",
   "metadata": {},
   "source": [
    "К сожалению, эта модель не достигла порога в 75%. Возможно, эти данные не совсем подходят для логической регрессии."
   ]
  },
  {
   "cell_type": "markdown",
   "metadata": {},
   "source": [
    "### Модель дерева"
   ]
  },
  {
   "cell_type": "code",
   "execution_count": 14,
   "metadata": {
    "scrolled": true,
    "ExecuteTime": {
     "end_time": "2023-06-26T13:59:36.922013900Z",
     "start_time": "2023-06-26T13:59:36.608729500Z"
    }
   },
   "outputs": [
    {
     "name": "stdout",
     "output_type": "stream",
     "text": [
      "Accuracy лучшей модели на валидационной выборке: 0.7821532871273804\n",
      "Depth лучшей модели на валидационной выборке: 3\n"
     ]
    }
   ],
   "source": [
    "param_grid = {'max_depth': range(1, 16)}\n",
    "\n",
    "model_tree = DecisionTreeClassifier(random_state=999)\n",
    "grid_search = GridSearchCV(model_tree, param_grid, scoring='accuracy', cv=5)\n",
    "grid_search.fit(features_train, target_train)\n",
    "\n",
    "best_model_tree = grid_search.best_estimator_\n",
    "best_result_tree = grid_search.best_score_\n",
    "best_depth = best_model_tree.max_depth\n",
    "\n",
    "print(\"Accuracy лучшей модели на валидационной выборке:\", best_result_tree)\n",
    "print(\"Depth лучшей модели на валидационной выборке:\", best_depth)"
   ]
  },
  {
   "cell_type": "markdown",
   "metadata": {},
   "source": [
    "Обычное дерево показывает хорошие результаты (~78.2%), при этом глубина дерева не очень высока относительно максимально допустимого значения."
   ]
  },
  {
   "cell_type": "markdown",
   "metadata": {},
   "source": [
    "### Модель леса деревьев"
   ]
  },
  {
   "cell_type": "code",
   "execution_count": 15,
   "metadata": {
    "scrolled": true,
    "ExecuteTime": {
     "end_time": "2023-06-26T14:00:51.405355500Z",
     "start_time": "2023-06-26T13:59:36.924016Z"
    }
   },
   "outputs": [
    {
     "name": "stdout",
     "output_type": "stream",
     "text": [
      "Accuracy лучшей модели на валидационной выборке: 0.8075688042527421\n",
      "Depth лучшей модели на валидационной выборке: 10\n",
      "Est лучшей модели на валидационной выборке: 100\n"
     ]
    }
   ],
   "source": [
    "param_grid = {'n_estimators': range(10, 101, 10), 'max_depth': range(1, 16)}\n",
    "\n",
    "model_forest = RandomForestClassifier(random_state=999)\n",
    "grid_search = GridSearchCV(model_forest, param_grid, scoring='accuracy', cv=5)\n",
    "grid_search.fit(features_train, target_train)\n",
    "\n",
    "best_model_forest = grid_search.best_estimator_\n",
    "best_result_forest = grid_search.best_score_\n",
    "best_est = best_model_forest.n_estimators\n",
    "best_depth_forest = best_model_forest.max_depth\n",
    "\n",
    "print(\"Accuracy лучшей модели на валидационной выборке:\", best_result_forest)\n",
    "print(\"Depth лучшей модели на валидационной выборке:\", best_depth_forest)\n",
    "print(\"Est лучшей модели на валидационной выборке:\", best_est)"
   ]
  },
  {
   "cell_type": "markdown",
   "metadata": {},
   "source": [
    "Лес показал лучший результат в 80%. Скорость модели оставляет желать лучшего, но это, конечно же, объясняется большим количеством деревьев и их глубиной."
   ]
  },
  {
   "cell_type": "markdown",
   "metadata": {},
   "source": [
    "Так как модель леса показала лучший результат, проверим её на тестовой выборке."
   ]
  },
  {
   "cell_type": "markdown",
   "metadata": {},
   "source": [
    "## Проверка модели на тестовой выборке"
   ]
  },
  {
   "cell_type": "markdown",
   "metadata": {},
   "source": [
    "### Проверка модели леса"
   ]
  },
  {
   "cell_type": "code",
   "execution_count": 22,
   "metadata": {
    "ExecuteTime": {
     "end_time": "2023-06-26T14:02:34.266536100Z",
     "start_time": "2023-06-26T14:02:34.016309300Z"
    }
   },
   "outputs": [
    {
     "name": "stdout",
     "output_type": "stream",
     "text": [
      "Accuracy модели на тестовой выборке: 0.8351477449455676\n"
     ]
    }
   ],
   "source": [
    "model_forest_test = RandomForestClassifier(random_state=999, n_estimators=100, max_depth=10)\n",
    "model_forest_test.fit(features_train, target_train)\n",
    "predictions_test_forest = model_forest_test.predict(features_test)\n",
    "result_forest_test = model_forest_test.score(features_test, target_test)\n",
    "print(f\"Accuracy модели на тестовой выборке: {result_forest_test}\")"
   ]
  },
  {
   "cell_type": "markdown",
   "metadata": {},
   "source": [
    "Точность модели леса на тестовой выборке составила ~83.5%, впечатляюще."
   ]
  },
  {
   "cell_type": "markdown",
   "metadata": {},
   "source": [
    "## Проверка модели на адекватность"
   ]
  },
  {
   "cell_type": "code",
   "execution_count": 17,
   "metadata": {
    "ExecuteTime": {
     "end_time": "2023-06-26T14:00:51.472416500Z",
     "start_time": "2023-06-26T14:00:51.467411500Z"
    }
   },
   "outputs": [
    {
     "data": {
      "text/plain": "0.693528313627878"
     },
     "execution_count": 17,
     "metadata": {},
     "output_type": "execute_result"
    }
   ],
   "source": [
    "ultra_count = data.groupby('is_ultra')['is_ultra'].count()\n",
    "random_accuracy = ultra_count[0] / (ultra_count[0] + ultra_count[1])\n",
    "random_accuracy"
   ]
  },
  {
   "cell_type": "markdown",
   "metadata": {},
   "source": [
    "Если бы модель в 100% процентах случаях выставляла значение `1` в столбец `is_ultra`, то она была бы точна в 69% случаях. Будем считать, что модель прошла проверку на адекватность."
   ]
  },
  {
   "cell_type": "markdown",
   "metadata": {},
   "source": [
    "## Итог"
   ]
  },
  {
   "cell_type": "markdown",
   "metadata": {},
   "source": [
    "Модели `DecisionTreeClassifier` и `RandomForestClassifier` успешно обучились и справились с поставленной задачей, а вот `LogisticRegression` не достигла порога точности."
   ]
  }
 ],
 "metadata": {
  "ExecuteTimeLog": [
   {
    "duration": 1129,
    "start_time": "2022-11-24T14:28:40.826Z"
   },
   {
    "duration": 83,
    "start_time": "2022-11-24T14:29:21.905Z"
   },
   {
    "duration": 18,
    "start_time": "2022-11-24T14:29:30.396Z"
   },
   {
    "duration": 12,
    "start_time": "2022-11-24T14:29:35.743Z"
   },
   {
    "duration": 6,
    "start_time": "2022-11-24T14:34:00.079Z"
   },
   {
    "duration": 16,
    "start_time": "2022-11-24T14:35:17.461Z"
   },
   {
    "duration": 1099,
    "start_time": "2022-11-24T14:36:07.927Z"
   },
   {
    "duration": 29,
    "start_time": "2022-11-24T14:36:09.028Z"
   },
   {
    "duration": 18,
    "start_time": "2022-11-24T14:36:09.059Z"
   },
   {
    "duration": 9,
    "start_time": "2022-11-24T14:36:09.079Z"
   },
   {
    "duration": 6,
    "start_time": "2022-11-24T14:36:09.089Z"
   },
   {
    "duration": 13,
    "start_time": "2022-11-24T14:36:09.097Z"
   },
   {
    "duration": 26,
    "start_time": "2022-11-24T14:36:09.112Z"
   },
   {
    "duration": 21,
    "start_time": "2022-11-24T14:36:09.140Z"
   },
   {
    "duration": 19,
    "start_time": "2022-11-24T14:36:09.163Z"
   },
   {
    "duration": 113,
    "start_time": "2022-11-24T14:36:09.185Z"
   },
   {
    "duration": 10,
    "start_time": "2022-11-24T14:36:15.604Z"
   },
   {
    "duration": 51,
    "start_time": "2022-11-24T14:39:30.757Z"
   },
   {
    "duration": 5,
    "start_time": "2022-11-24T14:41:26.085Z"
   },
   {
    "duration": 170,
    "start_time": "2022-11-24T14:55:52.309Z"
   },
   {
    "duration": 104,
    "start_time": "2022-11-24T14:56:00.641Z"
   },
   {
    "duration": 102,
    "start_time": "2022-11-24T14:56:10.133Z"
   },
   {
    "duration": 97,
    "start_time": "2022-11-24T14:56:32.884Z"
   },
   {
    "duration": 97,
    "start_time": "2022-11-24T14:56:36.995Z"
   },
   {
    "duration": 1148,
    "start_time": "2022-11-24T14:56:46.853Z"
   },
   {
    "duration": 42,
    "start_time": "2022-11-24T14:56:48.003Z"
   },
   {
    "duration": 16,
    "start_time": "2022-11-24T14:56:48.047Z"
   },
   {
    "duration": 17,
    "start_time": "2022-11-24T14:56:48.065Z"
   },
   {
    "duration": 16,
    "start_time": "2022-11-24T14:56:48.084Z"
   },
   {
    "duration": 13,
    "start_time": "2022-11-24T14:56:48.102Z"
   },
   {
    "duration": 4,
    "start_time": "2022-11-24T14:56:48.117Z"
   },
   {
    "duration": 12,
    "start_time": "2022-11-24T14:56:48.123Z"
   },
   {
    "duration": 21,
    "start_time": "2022-11-24T14:56:48.136Z"
   },
   {
    "duration": 12,
    "start_time": "2022-11-24T14:56:48.159Z"
   },
   {
    "duration": 90,
    "start_time": "2022-11-24T14:56:48.173Z"
   },
   {
    "duration": 47,
    "start_time": "2022-11-24T14:56:58.149Z"
   },
   {
    "duration": 3,
    "start_time": "2022-11-24T14:57:11.950Z"
   },
   {
    "duration": 101,
    "start_time": "2022-11-24T14:57:17.802Z"
   },
   {
    "duration": 4,
    "start_time": "2022-11-24T14:58:01.731Z"
   },
   {
    "duration": 3,
    "start_time": "2022-11-24T14:58:21.295Z"
   },
   {
    "duration": 40,
    "start_time": "2022-11-24T14:58:43.843Z"
   },
   {
    "duration": 38,
    "start_time": "2022-11-24T15:00:10.892Z"
   },
   {
    "duration": 44,
    "start_time": "2022-11-24T15:00:14.321Z"
   },
   {
    "duration": 19,
    "start_time": "2022-11-24T15:02:26.412Z"
   },
   {
    "duration": 71,
    "start_time": "2022-11-24T15:03:30.448Z"
   },
   {
    "duration": 69,
    "start_time": "2022-11-24T15:04:04.302Z"
   },
   {
    "duration": 87,
    "start_time": "2022-11-24T15:04:10.068Z"
   },
   {
    "duration": 69,
    "start_time": "2022-11-24T15:04:14.254Z"
   },
   {
    "duration": 111,
    "start_time": "2022-11-24T15:04:22.070Z"
   },
   {
    "duration": 80,
    "start_time": "2022-11-24T15:04:29.145Z"
   },
   {
    "duration": 69,
    "start_time": "2022-11-24T15:05:06.957Z"
   },
   {
    "duration": 72,
    "start_time": "2022-11-24T15:05:35.712Z"
   },
   {
    "duration": 76,
    "start_time": "2022-11-24T15:11:31.686Z"
   },
   {
    "duration": 3150,
    "start_time": "2022-11-24T15:11:35.901Z"
   },
   {
    "duration": 72,
    "start_time": "2022-11-24T15:12:33.632Z"
   },
   {
    "duration": 3288,
    "start_time": "2022-11-24T15:12:38.121Z"
   },
   {
    "duration": 3226,
    "start_time": "2022-11-24T15:13:43.601Z"
   },
   {
    "duration": 1657,
    "start_time": "2022-11-24T15:13:54.558Z"
   },
   {
    "duration": 3272,
    "start_time": "2022-11-24T15:14:01.494Z"
   },
   {
    "duration": 112,
    "start_time": "2022-11-24T15:14:17.581Z"
   },
   {
    "duration": 1163,
    "start_time": "2022-11-24T15:15:11.920Z"
   },
   {
    "duration": 31,
    "start_time": "2022-11-24T15:15:13.085Z"
   },
   {
    "duration": 18,
    "start_time": "2022-11-24T15:15:13.117Z"
   },
   {
    "duration": 10,
    "start_time": "2022-11-24T15:15:13.136Z"
   },
   {
    "duration": 6,
    "start_time": "2022-11-24T15:15:13.149Z"
   },
   {
    "duration": 13,
    "start_time": "2022-11-24T15:15:13.157Z"
   },
   {
    "duration": 9,
    "start_time": "2022-11-24T15:15:13.172Z"
   },
   {
    "duration": 14,
    "start_time": "2022-11-24T15:15:13.184Z"
   },
   {
    "duration": 17,
    "start_time": "2022-11-24T15:15:13.200Z"
   },
   {
    "duration": 8,
    "start_time": "2022-11-24T15:15:13.219Z"
   },
   {
    "duration": 22,
    "start_time": "2022-11-24T15:15:13.229Z"
   },
   {
    "duration": 8,
    "start_time": "2022-11-24T15:15:13.253Z"
   },
   {
    "duration": 2072,
    "start_time": "2022-11-24T15:15:13.263Z"
   },
   {
    "duration": 152,
    "start_time": "2022-11-24T15:15:15.337Z"
   },
   {
    "duration": 1144,
    "start_time": "2022-11-24T15:15:52.634Z"
   },
   {
    "duration": 30,
    "start_time": "2022-11-24T15:15:53.780Z"
   },
   {
    "duration": 18,
    "start_time": "2022-11-24T15:15:53.812Z"
   },
   {
    "duration": 10,
    "start_time": "2022-11-24T15:15:53.832Z"
   },
   {
    "duration": 5,
    "start_time": "2022-11-24T15:15:53.851Z"
   },
   {
    "duration": 21,
    "start_time": "2022-11-24T15:15:53.858Z"
   },
   {
    "duration": 7,
    "start_time": "2022-11-24T15:15:53.881Z"
   },
   {
    "duration": 17,
    "start_time": "2022-11-24T15:15:53.890Z"
   },
   {
    "duration": 14,
    "start_time": "2022-11-24T15:15:53.909Z"
   },
   {
    "duration": 7,
    "start_time": "2022-11-24T15:15:53.926Z"
   },
   {
    "duration": 5,
    "start_time": "2022-11-24T15:15:53.950Z"
   },
   {
    "duration": 6,
    "start_time": "2022-11-24T15:15:53.957Z"
   },
   {
    "duration": 3135,
    "start_time": "2022-11-24T15:15:53.964Z"
   },
   {
    "duration": 116,
    "start_time": "2022-11-24T15:15:57.101Z"
   },
   {
    "duration": 121,
    "start_time": "2022-11-24T15:18:32.217Z"
   },
   {
    "duration": 159,
    "start_time": "2022-11-24T15:20:32.636Z"
   },
   {
    "duration": 27461,
    "start_time": "2022-11-24T15:20:57.017Z"
   },
   {
    "duration": 26365,
    "start_time": "2022-11-24T15:22:39.814Z"
   },
   {
    "duration": 1273,
    "start_time": "2022-11-24T15:23:27.024Z"
   },
   {
    "duration": 31,
    "start_time": "2022-11-24T15:23:28.299Z"
   },
   {
    "duration": 18,
    "start_time": "2022-11-24T15:23:28.331Z"
   },
   {
    "duration": 16,
    "start_time": "2022-11-24T15:23:28.352Z"
   },
   {
    "duration": 13,
    "start_time": "2022-11-24T15:23:28.370Z"
   },
   {
    "duration": 13,
    "start_time": "2022-11-24T15:23:28.385Z"
   },
   {
    "duration": 10,
    "start_time": "2022-11-24T15:23:28.399Z"
   },
   {
    "duration": 21,
    "start_time": "2022-11-24T15:23:28.412Z"
   },
   {
    "duration": 25,
    "start_time": "2022-11-24T15:23:28.435Z"
   },
   {
    "duration": 24,
    "start_time": "2022-11-24T15:23:28.463Z"
   },
   {
    "duration": 10,
    "start_time": "2022-11-24T15:23:28.489Z"
   },
   {
    "duration": 6,
    "start_time": "2022-11-24T15:23:28.501Z"
   },
   {
    "duration": 3882,
    "start_time": "2022-11-24T15:23:28.508Z"
   },
   {
    "duration": 141,
    "start_time": "2022-11-24T15:23:32.392Z"
   },
   {
    "duration": 28986,
    "start_time": "2022-11-24T15:23:32.535Z"
   },
   {
    "duration": 1099,
    "start_time": "2022-11-24T15:27:00.977Z"
   },
   {
    "duration": 30,
    "start_time": "2022-11-24T15:27:02.078Z"
   },
   {
    "duration": 17,
    "start_time": "2022-11-24T15:27:02.110Z"
   },
   {
    "duration": 11,
    "start_time": "2022-11-24T15:27:02.129Z"
   },
   {
    "duration": 9,
    "start_time": "2022-11-24T15:27:02.142Z"
   },
   {
    "duration": 20,
    "start_time": "2022-11-24T15:27:02.152Z"
   },
   {
    "duration": 8,
    "start_time": "2022-11-24T15:27:02.174Z"
   },
   {
    "duration": 14,
    "start_time": "2022-11-24T15:27:02.184Z"
   },
   {
    "duration": 19,
    "start_time": "2022-11-24T15:27:02.200Z"
   },
   {
    "duration": 6,
    "start_time": "2022-11-24T15:27:02.222Z"
   },
   {
    "duration": 6,
    "start_time": "2022-11-24T15:27:02.230Z"
   },
   {
    "duration": 7,
    "start_time": "2022-11-24T15:27:02.238Z"
   },
   {
    "duration": 3024,
    "start_time": "2022-11-24T15:27:02.247Z"
   },
   {
    "duration": 116,
    "start_time": "2022-11-24T15:27:05.274Z"
   },
   {
    "duration": 0,
    "start_time": "2022-11-24T15:27:36.328Z"
   },
   {
    "duration": 1763,
    "start_time": "2022-11-24T15:27:38.416Z"
   },
   {
    "duration": 1114,
    "start_time": "2022-11-24T15:27:47.684Z"
   },
   {
    "duration": 30,
    "start_time": "2022-11-24T15:27:48.799Z"
   },
   {
    "duration": 17,
    "start_time": "2022-11-24T15:27:48.830Z"
   },
   {
    "duration": 9,
    "start_time": "2022-11-24T15:27:48.849Z"
   },
   {
    "duration": 6,
    "start_time": "2022-11-24T15:27:48.860Z"
   },
   {
    "duration": 10,
    "start_time": "2022-11-24T15:27:48.868Z"
   },
   {
    "duration": 6,
    "start_time": "2022-11-24T15:27:48.880Z"
   },
   {
    "duration": 11,
    "start_time": "2022-11-24T15:27:48.888Z"
   },
   {
    "duration": 12,
    "start_time": "2022-11-24T15:27:48.901Z"
   },
   {
    "duration": 6,
    "start_time": "2022-11-24T15:27:48.915Z"
   },
   {
    "duration": 6,
    "start_time": "2022-11-24T15:27:48.922Z"
   },
   {
    "duration": 5,
    "start_time": "2022-11-24T15:27:48.950Z"
   },
   {
    "duration": 3129,
    "start_time": "2022-11-24T15:27:48.956Z"
   },
   {
    "duration": 123,
    "start_time": "2022-11-24T15:27:52.087Z"
   },
   {
    "duration": 46704,
    "start_time": "2022-11-24T15:27:52.211Z"
   },
   {
    "duration": 189905,
    "start_time": "2022-11-24T15:28:50.855Z"
   },
   {
    "duration": 82807,
    "start_time": "2022-11-24T15:32:16.846Z"
   },
   {
    "duration": 1111,
    "start_time": "2022-11-24T15:34:23.393Z"
   },
   {
    "duration": 35,
    "start_time": "2022-11-24T15:34:24.506Z"
   },
   {
    "duration": 19,
    "start_time": "2022-11-24T15:34:24.542Z"
   },
   {
    "duration": 12,
    "start_time": "2022-11-24T15:34:24.563Z"
   },
   {
    "duration": 10,
    "start_time": "2022-11-24T15:34:24.577Z"
   },
   {
    "duration": 13,
    "start_time": "2022-11-24T15:34:24.589Z"
   },
   {
    "duration": 18,
    "start_time": "2022-11-24T15:34:24.604Z"
   },
   {
    "duration": 28,
    "start_time": "2022-11-24T15:34:24.624Z"
   },
   {
    "duration": 14,
    "start_time": "2022-11-24T15:34:24.655Z"
   },
   {
    "duration": 8,
    "start_time": "2022-11-24T15:34:24.672Z"
   },
   {
    "duration": 8,
    "start_time": "2022-11-24T15:34:24.682Z"
   },
   {
    "duration": 11,
    "start_time": "2022-11-24T15:34:24.692Z"
   },
   {
    "duration": 3103,
    "start_time": "2022-11-24T15:34:24.704Z"
   },
   {
    "duration": 121,
    "start_time": "2022-11-24T15:34:27.808Z"
   },
   {
    "duration": 192531,
    "start_time": "2022-11-24T15:34:27.931Z"
   },
   {
    "duration": 8408,
    "start_time": "2022-11-24T15:44:06.196Z"
   },
   {
    "duration": 6314,
    "start_time": "2022-11-24T15:44:24.678Z"
   },
   {
    "duration": 3143,
    "start_time": "2022-11-24T15:44:43.047Z"
   },
   {
    "duration": 124,
    "start_time": "2022-11-24T15:59:07.851Z"
   },
   {
    "duration": 114,
    "start_time": "2022-11-24T17:19:32.060Z"
   },
   {
    "duration": 15,
    "start_time": "2022-11-24T17:19:42.631Z"
   },
   {
    "duration": 46,
    "start_time": "2022-11-25T18:23:16.207Z"
   },
   {
    "duration": 1047,
    "start_time": "2022-11-25T18:23:22.653Z"
   },
   {
    "duration": 64,
    "start_time": "2022-11-25T18:23:23.702Z"
   },
   {
    "duration": 15,
    "start_time": "2022-11-25T18:23:23.767Z"
   },
   {
    "duration": 28,
    "start_time": "2022-11-25T18:23:23.784Z"
   },
   {
    "duration": 6,
    "start_time": "2022-11-25T18:23:23.813Z"
   },
   {
    "duration": 10,
    "start_time": "2022-11-25T18:23:23.821Z"
   },
   {
    "duration": 5,
    "start_time": "2022-11-25T18:23:23.832Z"
   },
   {
    "duration": 10,
    "start_time": "2022-11-25T18:23:23.839Z"
   },
   {
    "duration": 10,
    "start_time": "2022-11-25T18:23:23.850Z"
   },
   {
    "duration": 4,
    "start_time": "2022-11-25T18:23:23.862Z"
   },
   {
    "duration": 5,
    "start_time": "2022-11-25T18:23:23.867Z"
   },
   {
    "duration": 7,
    "start_time": "2022-11-25T18:23:23.874Z"
   },
   {
    "duration": 2849,
    "start_time": "2022-11-25T18:23:23.883Z"
   },
   {
    "duration": 113,
    "start_time": "2022-11-25T18:23:26.734Z"
   },
   {
    "duration": 22438,
    "start_time": "2022-11-25T18:23:26.849Z"
   },
   {
    "duration": 83,
    "start_time": "2022-11-25T18:23:49.289Z"
   },
   {
    "duration": 12,
    "start_time": "2022-11-25T18:23:49.373Z"
   },
   {
    "duration": 4,
    "start_time": "2022-11-25T18:23:49.386Z"
   },
   {
    "duration": 9,
    "start_time": "2022-11-25T18:24:00.141Z"
   },
   {
    "duration": 6,
    "start_time": "2022-11-25T18:24:12.346Z"
   },
   {
    "duration": 6,
    "start_time": "2022-11-25T18:24:15.754Z"
   },
   {
    "duration": 3,
    "start_time": "2022-11-25T18:24:55.460Z"
   },
   {
    "duration": 5,
    "start_time": "2022-11-25T18:24:59.766Z"
   },
   {
    "duration": 4,
    "start_time": "2022-11-25T18:25:14.649Z"
   },
   {
    "duration": 5,
    "start_time": "2022-11-25T18:25:18.005Z"
   },
   {
    "duration": 6,
    "start_time": "2022-11-25T18:26:55.910Z"
   },
   {
    "duration": 54,
    "start_time": "2022-11-25T20:39:01.282Z"
   },
   {
    "duration": 996,
    "start_time": "2022-11-25T20:41:50.990Z"
   },
   {
    "duration": 111,
    "start_time": "2022-11-25T20:41:51.988Z"
   },
   {
    "duration": 11,
    "start_time": "2022-11-25T20:41:52.100Z"
   },
   {
    "duration": 17,
    "start_time": "2022-11-25T20:41:52.113Z"
   },
   {
    "duration": 8,
    "start_time": "2022-11-25T20:41:52.131Z"
   },
   {
    "duration": 15,
    "start_time": "2022-11-25T20:41:52.140Z"
   },
   {
    "duration": 13,
    "start_time": "2022-11-25T20:41:52.156Z"
   },
   {
    "duration": 8,
    "start_time": "2022-11-25T20:41:52.170Z"
   },
   {
    "duration": 15,
    "start_time": "2022-11-25T20:41:52.180Z"
   },
   {
    "duration": 11,
    "start_time": "2022-11-25T20:41:52.197Z"
   },
   {
    "duration": 3085,
    "start_time": "2022-11-25T20:41:52.209Z"
   },
   {
    "duration": 4,
    "start_time": "2022-11-25T20:41:55.296Z"
   },
   {
    "duration": 14,
    "start_time": "2022-11-25T20:41:55.302Z"
   },
   {
    "duration": 24,
    "start_time": "2022-11-25T20:41:55.318Z"
   },
   {
    "duration": 2704,
    "start_time": "2022-11-25T20:41:55.344Z"
   },
   {
    "duration": 107,
    "start_time": "2022-11-25T20:41:58.050Z"
   },
   {
    "duration": 22290,
    "start_time": "2022-11-25T20:41:58.158Z"
   },
   {
    "duration": 82,
    "start_time": "2022-11-25T20:42:20.450Z"
   },
   {
    "duration": 6,
    "start_time": "2022-11-25T20:42:20.533Z"
   }
  ],
  "kernelspec": {
   "display_name": "Python 3 (ipykernel)",
   "language": "python",
   "name": "python3"
  },
  "language_info": {
   "codemirror_mode": {
    "name": "ipython",
    "version": 3
   },
   "file_extension": ".py",
   "mimetype": "text/x-python",
   "name": "python",
   "nbconvert_exporter": "python",
   "pygments_lexer": "ipython3",
   "version": "3.9.5"
  },
  "toc": {
   "base_numbering": 1,
   "nav_menu": {},
   "number_sections": true,
   "sideBar": true,
   "skip_h1_title": true,
   "title_cell": "Table of Contents",
   "title_sidebar": "Contents",
   "toc_cell": false,
   "toc_position": {},
   "toc_section_display": true,
   "toc_window_display": false
  }
 },
 "nbformat": 4,
 "nbformat_minor": 2
}
