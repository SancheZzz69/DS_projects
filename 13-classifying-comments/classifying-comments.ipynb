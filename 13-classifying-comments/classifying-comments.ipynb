{
 "cells": [
  {
   "cell_type": "markdown",
   "metadata": {
    "pycharm": {
     "name": "#%% md\n"
    }
   },
   "source": [
    "# Проект для «Викишоп»"
   ]
  },
  {
   "cell_type": "markdown",
   "metadata": {
    "pycharm": {
     "name": "#%% md\n"
    }
   },
   "source": [
    "Интернет-магазин «Викишоп» запускает новый сервис. Теперь пользователи могут редактировать и дополнять описания товаров, как в вики-сообществах. То есть клиенты предлагают свои правки и комментируют изменения других. Магазину нужен инструмент, который будет искать токсичные комментарии и отправлять их на модерацию. \n",
    "\n",
    "Наша задача - обучить модель классифицировать комментарии на позитивные и негативные. В нашем распоряжении набор данных с разметкой о токсичности правок.\n",
    "\n",
    "Мы должны построить модель со значением метрики качества *F1* не меньше 0.75.\n",
    "\n",
    "**Описание данных**\n",
    "\n",
    "Данные находятся в файле `toxic_comments.csv`. Столбец *text* в нём содержит текст комментария, а *toxic* — целевой признак."
   ]
  },
  {
   "cell_type": "markdown",
   "metadata": {
    "pycharm": {
     "name": "#%% md\n"
    }
   },
   "source": [
    "## Подготовка"
   ]
  },
  {
   "cell_type": "code",
   "execution_count": 1,
   "metadata": {
    "pycharm": {
     "name": "#%%\n"
    },
    "ExecuteTime": {
     "end_time": "2023-06-26T18:28:36.914579500Z",
     "start_time": "2023-06-26T18:28:36.140916100Z"
    }
   },
   "outputs": [
    {
     "name": "stderr",
     "output_type": "stream",
     "text": [
      "[nltk_data] Downloading package stopwords to\n",
      "[nltk_data]     C:\\Users\\sanchezdoto\\AppData\\Roaming\\nltk_data...\n",
      "[nltk_data]   Package stopwords is already up-to-date!\n"
     ]
    }
   ],
   "source": [
    "import pandas as pd\n",
    "import numpy as np\n",
    "import re\n",
    "import matplotlib.pyplot as plt\n",
    "import seaborn as sns\n",
    "import nltk\n",
    "from nltk.corpus import stopwords\n",
    "\n",
    "nltk.download('stopwords')\n",
    "\n",
    "from sklearn.feature_extraction.text import TfidfVectorizer\n",
    "from sklearn.model_selection import train_test_split\n",
    "from sklearn.linear_model import LogisticRegression\n",
    "from sklearn.naive_bayes import MultinomialNB\n",
    "from sklearn.ensemble import RandomForestClassifier\n",
    "from sklearn.metrics import f1_score, confusion_matrix\n",
    "import lightgbm as lgb\n",
    "from sklearn.pipeline import Pipeline\n",
    "\n",
    "from sklearn.experimental import enable_halving_search_cv\n",
    "from sklearn.model_selection import HalvingGridSearchCV"
   ]
  },
  {
   "cell_type": "code",
   "execution_count": 2,
   "metadata": {
    "pycharm": {
     "name": "#%%\n"
    },
    "ExecuteTime": {
     "end_time": "2023-06-26T18:28:37.552632800Z",
     "start_time": "2023-06-26T18:28:36.915580800Z"
    }
   },
   "outputs": [],
   "source": [
    "data = pd.read_csv('toxic_comments.csv')"
   ]
  },
  {
   "cell_type": "code",
   "execution_count": 3,
   "metadata": {
    "pycharm": {
     "name": "#%%\n"
    },
    "scrolled": true,
    "ExecuteTime": {
     "end_time": "2023-06-26T18:28:37.561157900Z",
     "start_time": "2023-06-26T18:28:37.553665400Z"
    }
   },
   "outputs": [
    {
     "data": {
      "text/plain": "   Unnamed: 0                                               text  toxic\n0           0  Explanation\\nWhy the edits made under my usern...      0\n1           1  D'aww! He matches this background colour I'm s...      0\n2           2  Hey man, I'm really not trying to edit war. It...      0\n3           3  \"\\nMore\\nI can't make any real suggestions on ...      0\n4           4  You, sir, are my hero. Any chance you remember...      0",
      "text/html": "<div>\n<style scoped>\n    .dataframe tbody tr th:only-of-type {\n        vertical-align: middle;\n    }\n\n    .dataframe tbody tr th {\n        vertical-align: top;\n    }\n\n    .dataframe thead th {\n        text-align: right;\n    }\n</style>\n<table border=\"1\" class=\"dataframe\">\n  <thead>\n    <tr style=\"text-align: right;\">\n      <th></th>\n      <th>Unnamed: 0</th>\n      <th>text</th>\n      <th>toxic</th>\n    </tr>\n  </thead>\n  <tbody>\n    <tr>\n      <th>0</th>\n      <td>0</td>\n      <td>Explanation\\nWhy the edits made under my usern...</td>\n      <td>0</td>\n    </tr>\n    <tr>\n      <th>1</th>\n      <td>1</td>\n      <td>D'aww! He matches this background colour I'm s...</td>\n      <td>0</td>\n    </tr>\n    <tr>\n      <th>2</th>\n      <td>2</td>\n      <td>Hey man, I'm really not trying to edit war. It...</td>\n      <td>0</td>\n    </tr>\n    <tr>\n      <th>3</th>\n      <td>3</td>\n      <td>\"\\nMore\\nI can't make any real suggestions on ...</td>\n      <td>0</td>\n    </tr>\n    <tr>\n      <th>4</th>\n      <td>4</td>\n      <td>You, sir, are my hero. Any chance you remember...</td>\n      <td>0</td>\n    </tr>\n  </tbody>\n</table>\n</div>"
     },
     "execution_count": 3,
     "metadata": {},
     "output_type": "execute_result"
    }
   ],
   "source": [
    "data.head()"
   ]
  },
  {
   "cell_type": "code",
   "execution_count": 4,
   "metadata": {
    "pycharm": {
     "name": "#%%\n"
    },
    "ExecuteTime": {
     "end_time": "2023-06-26T18:28:37.623953800Z",
     "start_time": "2023-06-26T18:28:37.561157900Z"
    }
   },
   "outputs": [
    {
     "name": "stdout",
     "output_type": "stream",
     "text": [
      "<class 'pandas.core.frame.DataFrame'>\n",
      "RangeIndex: 159292 entries, 0 to 159291\n",
      "Data columns (total 3 columns):\n",
      " #   Column      Non-Null Count   Dtype \n",
      "---  ------      --------------   ----- \n",
      " 0   Unnamed: 0  159292 non-null  int64 \n",
      " 1   text        159292 non-null  object\n",
      " 2   toxic       159292 non-null  int64 \n",
      "dtypes: int64(2), object(1)\n",
      "memory usage: 3.6+ MB\n"
     ]
    }
   ],
   "source": [
    "data.info()"
   ]
  },
  {
   "cell_type": "code",
   "execution_count": 5,
   "metadata": {
    "pycharm": {
     "name": "#%%\n"
    },
    "ExecuteTime": {
     "end_time": "2023-06-26T18:28:37.623953800Z",
     "start_time": "2023-06-26T18:28:37.588200900Z"
    }
   },
   "outputs": [],
   "source": [
    "data = data.drop('Unnamed: 0', axis=1)"
   ]
  },
  {
   "cell_type": "markdown",
   "metadata": {},
   "source": [
    "Убрали ложный индекс."
   ]
  },
  {
   "cell_type": "code",
   "execution_count": 6,
   "metadata": {
    "pycharm": {
     "name": "#%%\n"
    },
    "ExecuteTime": {
     "end_time": "2023-06-26T18:28:37.714921100Z",
     "start_time": "2023-06-26T18:28:37.606939100Z"
    }
   },
   "outputs": [
    {
     "data": {
      "text/plain": "<Figure size 640x480 with 1 Axes>",
      "image/png": "[encoded data removed]"
     },
     "metadata": {},
     "output_type": "display_data"
    }
   ],
   "source": [
    "ax = sns.countplot(x='toxic', data=data)\n",
    "total = float(len(data))\n",
    "for p in ax.patches:\n",
    "    height = p.get_height()\n",
    "    percentage = '{:.1f}%'.format((height / total) * 100)\n",
    "    x, y = p.get_xy()\n",
    "    ax.annotate(percentage, (x + 0.3, y + height + 0.5))\n",
    "\n",
    "plt.yticks([0, total], ['0%', '100%'])\n",
    "plt.show()"
   ]
  },
  {
   "cell_type": "markdown",
   "metadata": {
    "pycharm": {
     "name": "#%% md\n"
    }
   },
   "source": [
    "Доля токсичных комментариев составила 10.2 процентов. Нами было принято решение не производить балансировку классов."
   ]
  },
  {
   "cell_type": "code",
   "execution_count": 7,
   "metadata": {
    "pycharm": {
     "name": "#%%\n"
    },
    "ExecuteTime": {
     "end_time": "2023-06-26T18:28:37.715921800Z",
     "start_time": "2023-06-26T18:28:37.676601900Z"
    }
   },
   "outputs": [],
   "source": [
    "X = data['text']\n",
    "y = data['toxic']"
   ]
  },
  {
   "cell_type": "code",
   "execution_count": 8,
   "metadata": {
    "pycharm": {
     "name": "#%%\n"
    },
    "ExecuteTime": {
     "end_time": "2023-06-26T18:29:13.397537600Z",
     "start_time": "2023-06-26T18:28:37.682892Z"
    }
   },
   "outputs": [],
   "source": [
    "stop_words = set(stopwords.words('english'))\n",
    "stemmer = nltk.SnowballStemmer('english')\n",
    "\n",
    "def preprocess_text(text):\n",
    "    text = re.sub(r'[^\\w\\s]', '', text)\n",
    "    text = text.lower()\n",
    "    words = text.split()\n",
    "    words = [word for word in words if word not in stop_words]\n",
    "    words = [stemmer.stem(word) for word in words]\n",
    "    return ' '.join(words)\n",
    "\n",
    "X = X.apply(preprocess_text)"
   ]
  },
  {
   "cell_type": "markdown",
   "metadata": {
    "pycharm": {
     "name": "#%% md\n"
    }
   },
   "source": [
    "Леммизировали предложения."
   ]
  },
  {
   "cell_type": "code",
   "execution_count": 9,
   "metadata": {
    "pycharm": {
     "name": "#%%\n"
    },
    "ExecuteTime": {
     "end_time": "2023-06-26T18:29:13.413165200Z",
     "start_time": "2023-06-26T18:29:13.397537600Z"
    }
   },
   "outputs": [],
   "source": [
    "X_train, X_test, y_train, y_test = train_test_split(X, y, test_size=0.2, random_state=222)"
   ]
  },
  {
   "cell_type": "markdown",
   "metadata": {
    "pycharm": {
     "name": "#%% md\n"
    }
   },
   "source": [
    "Разбили фичи и таргеты."
   ]
  },
  {
   "cell_type": "markdown",
   "metadata": {
    "pycharm": {
     "name": "#%% md\n"
    }
   },
   "source": [
    "## Обучение"
   ]
  },
  {
   "cell_type": "code",
   "execution_count": 10,
   "metadata": {
    "pycharm": {
     "name": "#%%\n"
    },
    "ExecuteTime": {
     "end_time": "2023-06-26T18:29:13.416855100Z",
     "start_time": "2023-06-26T18:29:13.414165900Z"
    }
   },
   "outputs": [],
   "source": [
    "def train_logistic(train_features, train_target, c, max_iter):\n",
    "    pipeline = Pipeline([\n",
    "        ('tfidf', TfidfVectorizer()),\n",
    "        ('logistic', LogisticRegression())\n",
    "    ])\n",
    "\n",
    "    params = {'tfidf__max_df': [0.9, 0.95],\n",
    "              'logistic__C': c,\n",
    "              'logistic__max_iter': max_iter}\n",
    "\n",
    "    search = HalvingGridSearchCV(pipeline, params, scoring='f1', n_jobs=-1, cv=5, factor=2, random_state=222)\n",
    "    search.fit(train_features, train_target)\n",
    "\n",
    "    return search.best_params_, search.best_score_, search.best_estimator_"
   ]
  },
  {
   "cell_type": "code",
   "execution_count": 11,
   "metadata": {
    "pycharm": {
     "name": "#%%\n"
    },
    "ExecuteTime": {
     "end_time": "2023-06-26T18:33:54.484955600Z",
     "start_time": "2023-06-26T18:29:13.416855100Z"
    }
   },
   "outputs": [
    {
     "name": "stdout",
     "output_type": "stream",
     "text": [
      "Лучшие параметры для логистической регрессии (обучающая выборка): {'logistic__C': 9.6, 'logistic__max_iter': 1000, 'tfidf__max_df': 0.95}\n",
      "Лучшая точность для логистической регрессии (обучающая выборка): 0.7771917824245305\n",
      "CPU times: total: 3min 34s\n",
      "Wall time: 4min 41s\n"
     ]
    }
   ],
   "source": [
    "%%time\n",
    "logic_param, logic_score, logic_bm = train_logistic(X_train, y_train, np.arange(0.1, 10.1, 0.5), np.arange(500, 3500, 500))\n",
    "print(f\"Лучшие параметры для логистической регрессии (обучающая выборка): {logic_param}\")\n",
    "print(f\"Лучшая точность для логистической регрессии (обучающая выборка): {logic_score}\")"
   ]
  },
  {
   "cell_type": "code",
   "execution_count": 12,
   "metadata": {
    "pycharm": {
     "name": "#%%\n"
    },
    "ExecuteTime": {
     "end_time": "2023-06-26T18:33:54.484955600Z",
     "start_time": "2023-06-26T18:33:54.480950800Z"
    }
   },
   "outputs": [],
   "source": [
    "def train_naive_bayes(train_features, train_target, alpha):\n",
    "    pipeline = Pipeline([\n",
    "        ('tfidf', TfidfVectorizer()),\n",
    "        ('nb', MultinomialNB())\n",
    "    ])\n",
    "\n",
    "    params = {\n",
    "        'tfidf__max_df': [0.9, 0.95],\n",
    "        'nb__alpha': alpha}\n",
    "\n",
    "    search = HalvingGridSearchCV(pipeline, params, scoring='f1', n_jobs=-1, cv=5, factor=2, random_state=222)\n",
    "    search.fit(train_features, train_target)\n",
    "    return search.best_params_, search.best_score_, search.best_estimator_"
   ]
  },
  {
   "cell_type": "code",
   "execution_count": 13,
   "metadata": {
    "pycharm": {
     "name": "#%%\n"
    },
    "scrolled": true,
    "ExecuteTime": {
     "end_time": "2023-06-26T18:36:42.964727300Z",
     "start_time": "2023-06-26T18:33:54.484955600Z"
    }
   },
   "outputs": [
    {
     "name": "stdout",
     "output_type": "stream",
     "text": [
      "Лучшие параметры для наивного байесовского классификатора (обучающая выборка): {'nb__alpha': 1.0, 'tfidf__max_df': 0.95}\n",
      "Лучшая точность для наивного байесовского классификатора (обучающая выборка): 0.29689802847561647\n",
      "CPU times: total: 2min 25s\n",
      "Wall time: 2min 48s\n"
     ]
    }
   ],
   "source": [
    "%%time\n",
    "nb_param, nb_score, nb_bm = train_naive_bayes(X_train, y_train, np.arange(1, 10.1, 0.1))\n",
    "print(f\"Лучшие параметры для наивного байесовского классификатора (обучающая выборка): {nb_param}\")\n",
    "print(f\"Лучшая точность для наивного байесовского классификатора (обучающая выборка): {nb_score}\")"
   ]
  },
  {
   "cell_type": "code",
   "execution_count": 14,
   "metadata": {
    "pycharm": {
     "name": "#%%\n"
    },
    "ExecuteTime": {
     "end_time": "2023-06-26T18:36:42.968346Z",
     "start_time": "2023-06-26T18:36:42.964727300Z"
    }
   },
   "outputs": [],
   "source": [
    "def train_forest_class(train_features, train_target, n_estimators, max_depth, min_samples_leaf):\n",
    "    pipeline = Pipeline([\n",
    "        ('tfidf', TfidfVectorizer()),\n",
    "        ('forest', RandomForestClassifier())\n",
    "    ])\n",
    "\n",
    "    params = {\n",
    "        'tfidf__max_df': [0.9, 0.95],\n",
    "        'forest__n_estimators': n_estimators,\n",
    "        'forest__max_depth': max_depth,\n",
    "        'forest__min_samples_leaf': min_samples_leaf\n",
    "    }\n",
    "    search = HalvingGridSearchCV(pipeline, params, scoring='f1', n_jobs=-1, cv=5, factor=2, random_state=222)\n",
    "    search.fit(train_features, train_target)\n",
    "    return search.best_params_, search.best_score_, search.best_estimator_"
   ]
  },
  {
   "cell_type": "code",
   "execution_count": 15,
   "metadata": {
    "pycharm": {
     "name": "#%%\n"
    },
    "scrolled": true,
    "ExecuteTime": {
     "end_time": "2023-06-26T18:44:01.314689700Z",
     "start_time": "2023-06-26T18:36:42.968346Z"
    }
   },
   "outputs": [
    {
     "name": "stdout",
     "output_type": "stream",
     "text": [
      "Лучшие параметры для леса (обучающая выборка): {'forest__max_depth': 9, 'forest__min_samples_leaf': 2, 'forest__n_estimators': 1, 'tfidf__max_df': 0.9}\n",
      "Лучшая точность для леса (обучающая выборка): 0.13322160479036144\n",
      "CPU times: total: 6min 33s\n",
      "Wall time: 7min 18s\n"
     ]
    }
   ],
   "source": [
    "%%time\n",
    "forest_param, forest_score, forest_bm = train_forest_class(X_train, y_train, np.arange(1, 81, 10), np.arange(1, 11), np.arange(2, 5))\n",
    "print(f\"Лучшие параметры для леса (обучающая выборка): {forest_param}\")\n",
    "print(f\"Лучшая точность для леса (обучающая выборка): {forest_score}\")"
   ]
  },
  {
   "cell_type": "code",
   "execution_count": 16,
   "metadata": {
    "pycharm": {
     "name": "#%%\n"
    },
    "ExecuteTime": {
     "end_time": "2023-06-26T18:44:01.318661300Z",
     "start_time": "2023-06-26T18:44:01.313688800Z"
    }
   },
   "outputs": [],
   "source": [
    "def train_lgbm(train_features, train_target, num_leaves, learning_rate, max_depth):\n",
    "    pipeline = Pipeline([\n",
    "        ('tfidf', TfidfVectorizer()),\n",
    "        ('lgbm', lgb.LGBMClassifier())\n",
    "    ])\n",
    "\n",
    "    params = {\n",
    "        'tfidf__max_df': [0.9, 0.95],\n",
    "        'lgbm__boosting_type': ['gbdt'],\n",
    "        'lgbm__objective': ['binary'],\n",
    "        'lgbm__num_leaves': num_leaves,\n",
    "        'lgbm__learning_rate': learning_rate,\n",
    "        'lgbm__max_depth': max_depth\n",
    "    }\n",
    "\n",
    "\n",
    "\n",
    "    search = HalvingGridSearchCV(\n",
    "        pipeline,\n",
    "        params,\n",
    "        scoring='f1',\n",
    "        factor=2,\n",
    "        cv=5,\n",
    "        n_jobs=-1,\n",
    "        random_state=222\n",
    "    )\n",
    "\n",
    "    search.fit(train_features, train_target)\n",
    "\n",
    "    return search.best_estimator_, search.best_score_, search.best_estimator_"
   ]
  },
  {
   "cell_type": "code",
   "execution_count": 17,
   "metadata": {
    "pycharm": {
     "name": "#%%\n"
    },
    "ExecuteTime": {
     "end_time": "2023-06-26T19:05:08.587254900Z",
     "start_time": "2023-06-26T18:44:01.318661300Z"
    }
   },
   "outputs": [
    {
     "name": "stdout",
     "output_type": "stream",
     "text": [
      "Лучшие параметры для LightGBM (обучающая выборка): Pipeline(steps=[('tfidf', TfidfVectorizer(max_df=0.95)),\n",
      "                ('lgbm',\n",
      "                 LGBMClassifier(max_depth=8, num_leaves=25,\n",
      "                                objective='binary'))])\n",
      "Лучшая точность для LightGBM (обучающая выборка): 0.6864781476476047\n",
      "CPU times: total: 21min 40s\n",
      "Wall time: 21min 7s\n"
     ]
    }
   ],
   "source": [
    "%%time\n",
    "lgbm_param, lgbm_score, lgbm_best = train_lgbm(X_train,\n",
    "                                               y_train,\n",
    "                                               np.arange(20, 81, 5),\n",
    "                                               np.arange(0.05, 0.3, 0.05),\n",
    "                                               np.arange(1, 11, 1))\n",
    "print(f\"Лучшие параметры для LightGBM (обучающая выборка): {lgbm_param}\")\n",
    "print(f\"Лучшая точность для LightGBM (обучающая выборка): {lgbm_score}\")"
   ]
  },
  {
   "cell_type": "markdown",
   "metadata": {
    "pycharm": {
     "name": "#%% md\n"
    }
   },
   "source": [
    "Самой точной оказалась логистическая регрессия (f1 = ~0.777). Время тестов."
   ]
  },
  {
   "cell_type": "markdown",
   "metadata": {
    "pycharm": {
     "name": "#%% md\n"
    }
   },
   "source": [
    "## Тест"
   ]
  },
  {
   "cell_type": "code",
   "execution_count": 18,
   "metadata": {
    "pycharm": {
     "name": "#%%\n"
    },
    "ExecuteTime": {
     "end_time": "2023-06-26T19:05:08.589269Z",
     "start_time": "2023-06-26T19:05:08.585056800Z"
    }
   },
   "outputs": [],
   "source": [
    "def test(test_features, test_target, best_model):\n",
    "    predictions = best_model.predict(test_features)\n",
    "    f1_value = f1_score(test_target, predictions)\n",
    "    return f1_value, predictions"
   ]
  },
  {
   "cell_type": "code",
   "execution_count": 19,
   "metadata": {
    "pycharm": {
     "name": "#%%\n"
    },
    "ExecuteTime": {
     "end_time": "2023-06-26T19:05:09.131704800Z",
     "start_time": "2023-06-26T19:05:08.589269Z"
    }
   },
   "outputs": [
    {
     "name": "stdout",
     "output_type": "stream",
     "text": [
      "F1 модели леса (тестовая выборка) равен: 0.7836375929682218\n"
     ]
    }
   ],
   "source": [
    "f1_test_log, test_predictions = test(X_test, y_test, logic_bm)\n",
    "print(f\"F1 модели леса (тестовая выборка) равен: {f1_test_log}\")"
   ]
  },
  {
   "cell_type": "code",
   "execution_count": 20,
   "metadata": {
    "pycharm": {
     "name": "#%%\n"
    },
    "ExecuteTime": {
     "end_time": "2023-06-26T19:05:09.236920400Z",
     "start_time": "2023-06-26T19:05:09.132705900Z"
    }
   },
   "outputs": [
    {
     "data": {
      "text/plain": "<Figure size 640x480 with 2 Axes>",
      "image/png": "[encoded data removed]"
     },
     "metadata": {},
     "output_type": "display_data"
    }
   ],
   "source": [
    "cm = confusion_matrix(y_test, test_predictions)\n",
    "ax = sns.heatmap(cm, annot=True, cmap=\"Blues\")\n",
    "# add axis labels\n",
    "ax.set_xlabel(\"Предсказанные таргеты\")\n",
    "ax.set_ylabel(\"Изначальные таргеты\")\n",
    "\n",
    "# display the plot\n",
    "plt.show()"
   ]
  },
  {
   "cell_type": "markdown",
   "metadata": {
    "pycharm": {
     "name": "#%% md\n"
    }
   },
   "source": [
    "Логистическая регрессия хорошо себя показала и на тестовой выборке (f1 = 0.783), что можно считать успехом, так как пороговое значение f1 было 0.75"
   ]
  },
  {
   "cell_type": "markdown",
   "metadata": {
    "pycharm": {
     "name": "#%% md\n"
    }
   },
   "source": [
    "## Выводы"
   ]
  },
  {
   "cell_type": "markdown",
   "metadata": {
    "pycharm": {
     "name": "#%% md\n"
    }
   },
   "source": [
    "Суть проекта заключалась в обучении модели классификации комментариев на позитивные и негативные, чтобы помочь интернет-магазину Викишоп определять токсичные комментарии и отправлять их на модерацию. В проекте использовался набор данных с разметкой о токсичности правок.\n",
    "\n",
    "Для выполнения проекта были выполнены следующие шаги:\n",
    "\n",
    "Загрузка и подготовка данных:\n",
    "Набор данных был загружен из файла toxic_comments.csv и был проведен первичный анализ. Для обработки текста комментариев были применены техники предобработки текста, такие как удаление лишних символов и приведение к нижнему регистру. Набор данных был разделен на обучающий и тестовый наборы.\n",
    "\n",
    "Обучение моделей:\n",
    "Для обучения моделей были использованы различные алгоритмы машинного обучения, в том числе логистическая регрессия, наивный байесовский классификатор и случайный лес.\n",
    "\n",
    "Оценка качества моделей:\n",
    "Для оценки качества моделей использовалась метрика F1-score, которая учитывает и точность, и полноту модели. Цель состояла в том, чтобы достичь F1-score не менее 0.75.\n",
    "\n",
    "Наилучший результат (F1-score 0.783) был получен с помощью логистической регрессии.\n",
    "\n",
    "Полученная модель может быть использована для определения токсичных комментариев в интернет-магазине Викишоп и отправки их на модерацию."
   ]
  }
 ],
 "metadata": {
  "ExecuteTimeLog": [
   {
    "duration": 1633,
    "start_time": "2023-02-26T19:41:57.869Z"
   },
   {
    "duration": 1571,
    "start_time": "2023-02-26T19:50:18.332Z"
   },
   {
    "duration": 161,
    "start_time": "2023-02-26T19:50:19.905Z"
   },
   {
    "duration": 0,
    "start_time": "2023-02-26T19:50:20.068Z"
   },
   {
    "duration": 0,
    "start_time": "2023-02-26T19:50:20.069Z"
   },
   {
    "duration": 0,
    "start_time": "2023-02-26T19:50:20.070Z"
   },
   {
    "duration": 0,
    "start_time": "2023-02-26T19:50:20.071Z"
   },
   {
    "duration": 0,
    "start_time": "2023-02-26T19:50:20.072Z"
   },
   {
    "duration": 0,
    "start_time": "2023-02-26T19:50:20.073Z"
   },
   {
    "duration": 0,
    "start_time": "2023-02-26T19:50:20.074Z"
   },
   {
    "duration": 0,
    "start_time": "2023-02-26T19:50:20.075Z"
   },
   {
    "duration": 0,
    "start_time": "2023-02-26T19:50:20.076Z"
   },
   {
    "duration": 0,
    "start_time": "2023-02-26T19:50:20.077Z"
   },
   {
    "duration": 0,
    "start_time": "2023-02-26T19:50:20.078Z"
   },
   {
    "duration": 0,
    "start_time": "2023-02-26T19:50:20.079Z"
   },
   {
    "duration": 0,
    "start_time": "2023-02-26T19:50:20.080Z"
   },
   {
    "duration": 0,
    "start_time": "2023-02-26T19:50:20.081Z"
   },
   {
    "duration": 0,
    "start_time": "2023-02-26T19:50:20.082Z"
   },
   {
    "duration": 0,
    "start_time": "2023-02-26T19:50:20.083Z"
   },
   {
    "duration": 0,
    "start_time": "2023-02-26T19:50:20.084Z"
   },
   {
    "duration": 0,
    "start_time": "2023-02-26T19:50:20.085Z"
   },
   {
    "duration": 0,
    "start_time": "2023-02-26T19:50:20.086Z"
   },
   {
    "duration": 1423,
    "start_time": "2023-02-26T19:50:40.866Z"
   },
   {
    "duration": 2270,
    "start_time": "2023-02-26T19:50:42.291Z"
   },
   {
    "duration": 14,
    "start_time": "2023-02-26T19:50:44.562Z"
   },
   {
    "duration": 30,
    "start_time": "2023-02-26T19:50:44.577Z"
   },
   {
    "duration": 10,
    "start_time": "2023-02-26T19:50:44.610Z"
   },
   {
    "duration": 6,
    "start_time": "2023-02-26T19:50:44.622Z"
   },
   {
    "duration": 54494,
    "start_time": "2023-02-26T19:50:44.630Z"
   },
   {
    "duration": 33,
    "start_time": "2023-02-26T19:51:39.126Z"
   },
   {
    "duration": 2,
    "start_time": "2023-02-26T19:51:39.161Z"
   },
   {
    "duration": 4256,
    "start_time": "2023-02-26T19:51:39.165Z"
   },
   {
    "duration": 3,
    "start_time": "2023-02-26T19:51:43.422Z"
   },
   {
    "duration": 1068992,
    "start_time": "2023-02-26T19:51:43.427Z"
   },
   {
    "duration": 3,
    "start_time": "2023-02-26T20:09:32.420Z"
   },
   {
    "duration": 5956,
    "start_time": "2023-02-26T20:09:32.426Z"
   },
   {
    "duration": 5,
    "start_time": "2023-02-26T20:09:38.384Z"
   },
   {
    "duration": 2,
    "start_time": "2023-02-26T20:09:39.087Z"
   },
   {
    "duration": 8,
    "start_time": "2023-02-26T20:09:39.091Z"
   },
   {
    "duration": 10,
    "start_time": "2023-02-26T20:09:39.101Z"
   },
   {
    "duration": 263,
    "start_time": "2023-02-26T20:09:39.113Z"
   },
   {
    "duration": 0,
    "start_time": "2023-02-26T20:09:39.379Z"
   },
   {
    "duration": 0,
    "start_time": "2023-02-26T20:09:39.381Z"
   },
   {
    "duration": 3255,
    "start_time": "2023-02-27T11:33:06.388Z"
   },
   {
    "duration": 5307,
    "start_time": "2023-02-27T11:33:09.645Z"
   },
   {
    "duration": 11,
    "start_time": "2023-02-27T11:33:14.954Z"
   },
   {
    "duration": 30,
    "start_time": "2023-02-27T11:33:14.968Z"
   },
   {
    "duration": 31,
    "start_time": "2023-02-27T11:33:15.000Z"
   },
   {
    "duration": 15,
    "start_time": "2023-02-27T11:33:15.042Z"
   },
   {
    "duration": 75058,
    "start_time": "2023-02-27T11:33:15.059Z"
   },
   {
    "duration": 46,
    "start_time": "2023-02-27T11:34:30.119Z"
   },
   {
    "duration": 7,
    "start_time": "2023-02-27T11:34:30.167Z"
   },
   {
    "duration": 5788,
    "start_time": "2023-02-27T11:34:30.177Z"
   },
   {
    "duration": 4,
    "start_time": "2023-02-27T11:34:35.967Z"
   }
  ],
  "kernelspec": {
   "display_name": "Python 3 (ipykernel)",
   "language": "python",
   "name": "python3"
  },
  "language_info": {
   "codemirror_mode": {
    "name": "ipython",
    "version": 3
   },
   "file_extension": ".py",
   "mimetype": "text/x-python",
   "name": "python",
   "nbconvert_exporter": "python",
   "pygments_lexer": "ipython3",
   "version": "3.9.5"
  },
  "toc": {
   "base_numbering": 1,
   "nav_menu": {},
   "number_sections": true,
   "sideBar": true,
   "skip_h1_title": true,
   "title_cell": "Содержание",
   "title_sidebar": "Contents",
   "toc_cell": true,
   "toc_position": {
    "height": "calc(100% - 180px)",
    "left": "10px",
    "top": "150px",
    "width": "302.391px"
   },
   "toc_section_display": true,
   "toc_window_display": false
  }
 },
 "nbformat": 4,
 "nbformat_minor": 2
}
