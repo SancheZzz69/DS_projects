{
 "cells": [
  {
   "cell_type": "markdown",
   "metadata": {},
   "source": [
    "# Отток клиентов"
   ]
  },
  {
   "cell_type": "markdown",
   "metadata": {},
   "source": [
    "Из «Бета-Банка» стали уходить клиенты. Каждый месяц. Немного, но заметно. Банковские маркетологи посчитали: сохранять текущих клиентов дешевле, чем привлекать новых.\n",
    "\n",
    "Нужно спрогнозировать, уйдёт клиент из банка в ближайшее время или нет.\n",
    "\n",
    "Нам предоставлены исторические данные о поведении клиентов и расторжении договоров с банком.\n",
    "\n",
    "Нужно построить модель с предельно большим значением *F1*-меры(хотя бы 0.59).\n",
    "\n",
    "Дополнительно нужно измерять *AUC-ROC* и сравнивать её значение с *F1*-мерой.\n",
    "\n",
    "Источник данных: [https://www.kaggle.com/barelydedicated/bank-customer-churn-modeling](https://www.kaggle.com/barelydedicated/bank-customer-churn-modeling)"
   ]
  },
  {
   "cell_type": "markdown",
   "metadata": {},
   "source": [
    "## Подготовка данных"
   ]
  },
  {
   "cell_type": "code",
   "execution_count": 1,
   "metadata": {
    "ExecuteTime": {
     "end_time": "2023-06-26T15:45:40.479327100Z",
     "start_time": "2023-06-26T15:45:39.479413700Z"
    }
   },
   "outputs": [],
   "source": [
    "import pandas as pd\n",
    "from sklearn.model_selection import train_test_split\n",
    "from sklearn.preprocessing import OrdinalEncoder \n",
    "from sklearn.preprocessing import StandardScaler\n",
    "from sklearn.linear_model import LogisticRegression\n",
    "from sklearn.tree import DecisionTreeClassifier\n",
    "from sklearn.ensemble import RandomForestClassifier\n",
    "from sklearn.model_selection import GridSearchCV\n",
    "from sklearn.metrics import f1_score\n",
    "from sklearn.metrics import roc_auc_score\n",
    "from sklearn.utils import shuffle"
   ]
  },
  {
   "cell_type": "code",
   "execution_count": 2,
   "metadata": {
    "ExecuteTime": {
     "end_time": "2023-06-26T15:45:40.498343100Z",
     "start_time": "2023-06-26T15:45:40.480327200Z"
    }
   },
   "outputs": [],
   "source": [
    "df = pd.read_csv('Churn.csv')"
   ]
  },
  {
   "cell_type": "code",
   "execution_count": 3,
   "metadata": {
    "ExecuteTime": {
     "end_time": "2023-06-26T15:45:40.512356400Z",
     "start_time": "2023-06-26T15:45:40.499344500Z"
    }
   },
   "outputs": [
    {
     "data": {
      "text/plain": "   RowNumber  CustomerId   Surname  CreditScore Geography  Gender  Age  \\\n0          1    15634602  Hargrave          619    France  Female   42   \n1          2    15647311      Hill          608     Spain  Female   41   \n2          3    15619304      Onio          502    France  Female   42   \n3          4    15701354      Boni          699    France  Female   39   \n4          5    15737888  Mitchell          850     Spain  Female   43   \n\n   Tenure    Balance  NumOfProducts  HasCrCard  IsActiveMember  \\\n0     2.0       0.00              1          1               1   \n1     1.0   83807.86              1          0               1   \n2     8.0  159660.80              3          1               0   \n3     1.0       0.00              2          0               0   \n4     2.0  125510.82              1          1               1   \n\n   EstimatedSalary  Exited  \n0        101348.88       1  \n1        112542.58       0  \n2        113931.57       1  \n3         93826.63       0  \n4         79084.10       0  ",
      "text/html": "<div>\n<style scoped>\n    .dataframe tbody tr th:only-of-type {\n        vertical-align: middle;\n    }\n\n    .dataframe tbody tr th {\n        vertical-align: top;\n    }\n\n    .dataframe thead th {\n        text-align: right;\n    }\n</style>\n<table border=\"1\" class=\"dataframe\">\n  <thead>\n    <tr style=\"text-align: right;\">\n      <th></th>\n      <th>RowNumber</th>\n      <th>CustomerId</th>\n      <th>Surname</th>\n      <th>CreditScore</th>\n      <th>Geography</th>\n      <th>Gender</th>\n      <th>Age</th>\n      <th>Tenure</th>\n      <th>Balance</th>\n      <th>NumOfProducts</th>\n      <th>HasCrCard</th>\n      <th>IsActiveMember</th>\n      <th>EstimatedSalary</th>\n      <th>Exited</th>\n    </tr>\n  </thead>\n  <tbody>\n    <tr>\n      <th>0</th>\n      <td>1</td>\n      <td>15634602</td>\n      <td>Hargrave</td>\n      <td>619</td>\n      <td>France</td>\n      <td>Female</td>\n      <td>42</td>\n      <td>2.0</td>\n      <td>0.00</td>\n      <td>1</td>\n      <td>1</td>\n      <td>1</td>\n      <td>101348.88</td>\n      <td>1</td>\n    </tr>\n    <tr>\n      <th>1</th>\n      <td>2</td>\n      <td>15647311</td>\n      <td>Hill</td>\n      <td>608</td>\n      <td>Spain</td>\n      <td>Female</td>\n      <td>41</td>\n      <td>1.0</td>\n      <td>83807.86</td>\n      <td>1</td>\n      <td>0</td>\n      <td>1</td>\n      <td>112542.58</td>\n      <td>0</td>\n    </tr>\n    <tr>\n      <th>2</th>\n      <td>3</td>\n      <td>15619304</td>\n      <td>Onio</td>\n      <td>502</td>\n      <td>France</td>\n      <td>Female</td>\n      <td>42</td>\n      <td>8.0</td>\n      <td>159660.80</td>\n      <td>3</td>\n      <td>1</td>\n      <td>0</td>\n      <td>113931.57</td>\n      <td>1</td>\n    </tr>\n    <tr>\n      <th>3</th>\n      <td>4</td>\n      <td>15701354</td>\n      <td>Boni</td>\n      <td>699</td>\n      <td>France</td>\n      <td>Female</td>\n      <td>39</td>\n      <td>1.0</td>\n      <td>0.00</td>\n      <td>2</td>\n      <td>0</td>\n      <td>0</td>\n      <td>93826.63</td>\n      <td>0</td>\n    </tr>\n    <tr>\n      <th>4</th>\n      <td>5</td>\n      <td>15737888</td>\n      <td>Mitchell</td>\n      <td>850</td>\n      <td>Spain</td>\n      <td>Female</td>\n      <td>43</td>\n      <td>2.0</td>\n      <td>125510.82</td>\n      <td>1</td>\n      <td>1</td>\n      <td>1</td>\n      <td>79084.10</td>\n      <td>0</td>\n    </tr>\n  </tbody>\n</table>\n</div>"
     },
     "execution_count": 3,
     "metadata": {},
     "output_type": "execute_result"
    }
   ],
   "source": [
    "df.head()"
   ]
  },
  {
   "cell_type": "code",
   "execution_count": 4,
   "metadata": {
    "scrolled": false,
    "ExecuteTime": {
     "end_time": "2023-06-26T15:45:40.521363800Z",
     "start_time": "2023-06-26T15:45:40.511354500Z"
    }
   },
   "outputs": [
    {
     "name": "stdout",
     "output_type": "stream",
     "text": [
      "<class 'pandas.core.frame.DataFrame'>\n",
      "RangeIndex: 10000 entries, 0 to 9999\n",
      "Data columns (total 14 columns):\n",
      " #   Column           Non-Null Count  Dtype  \n",
      "---  ------           --------------  -----  \n",
      " 0   RowNumber        10000 non-null  int64  \n",
      " 1   CustomerId       10000 non-null  int64  \n",
      " 2   Surname          10000 non-null  object \n",
      " 3   CreditScore      10000 non-null  int64  \n",
      " 4   Geography        10000 non-null  object \n",
      " 5   Gender           10000 non-null  object \n",
      " 6   Age              10000 non-null  int64  \n",
      " 7   Tenure           9091 non-null   float64\n",
      " 8   Balance          10000 non-null  float64\n",
      " 9   NumOfProducts    10000 non-null  int64  \n",
      " 10  HasCrCard        10000 non-null  int64  \n",
      " 11  IsActiveMember   10000 non-null  int64  \n",
      " 12  EstimatedSalary  10000 non-null  float64\n",
      " 13  Exited           10000 non-null  int64  \n",
      "dtypes: float64(3), int64(8), object(3)\n",
      "memory usage: 1.1+ MB\n"
     ]
    }
   ],
   "source": [
    "df.info()"
   ]
  },
  {
   "cell_type": "markdown",
   "metadata": {},
   "source": [
    "Данные оказались неполными, в столбце `Tenure` не хватает 909 значений, заполним их."
   ]
  },
  {
   "cell_type": "code",
   "execution_count": 5,
   "metadata": {
    "ExecuteTime": {
     "end_time": "2023-06-26T15:45:40.572409700Z",
     "start_time": "2023-06-26T15:45:40.522365600Z"
    }
   },
   "outputs": [
    {
     "name": "stderr",
     "output_type": "stream",
     "text": [
      "C:\\Users\\sanchezdoto\\AppData\\Local\\Temp\\ipykernel_26836\\1886530979.py:1: FutureWarning: The default value of numeric_only in DataFrame.corr is deprecated. In a future version, it will default to False. Select only valid columns or specify the value of numeric_only to silence this warning.\n",
      "  df.corr()\n"
     ]
    },
    {
     "data": {
      "text/plain": "                 RowNumber  CustomerId  CreditScore       Age    Tenure  \\\nRowNumber         1.000000    0.004202     0.005840  0.000783 -0.007322   \nCustomerId        0.004202    1.000000     0.005308  0.009497 -0.021418   \nCreditScore       0.005840    0.005308     1.000000 -0.003965 -0.000062   \nAge               0.000783    0.009497    -0.003965  1.000000 -0.013134   \nTenure           -0.007322   -0.021418    -0.000062 -0.013134  1.000000   \nBalance          -0.009067   -0.012419     0.006268  0.028308 -0.007911   \nNumOfProducts     0.007246    0.016972     0.012238 -0.030680  0.011979   \nHasCrCard         0.000599   -0.014025    -0.005458 -0.011721  0.027232   \nIsActiveMember    0.012044    0.001665     0.025651  0.085472 -0.032178   \nEstimatedSalary  -0.005988    0.015271    -0.001384 -0.007201  0.010520   \nExited           -0.016571   -0.006248    -0.027094  0.285323 -0.016761   \n\n                  Balance  NumOfProducts  HasCrCard  IsActiveMember  \\\nRowNumber       -0.009067       0.007246   0.000599        0.012044   \nCustomerId      -0.012419       0.016972  -0.014025        0.001665   \nCreditScore      0.006268       0.012238  -0.005458        0.025651   \nAge              0.028308      -0.030680  -0.011721        0.085472   \nTenure          -0.007911       0.011979   0.027232       -0.032178   \nBalance          1.000000      -0.304180  -0.014858       -0.010084   \nNumOfProducts   -0.304180       1.000000   0.003183        0.009612   \nHasCrCard       -0.014858       0.003183   1.000000       -0.011866   \nIsActiveMember  -0.010084       0.009612  -0.011866        1.000000   \nEstimatedSalary  0.012797       0.014204  -0.009933       -0.011421   \nExited           0.118533      -0.047820  -0.007138       -0.156128   \n\n                 EstimatedSalary    Exited  \nRowNumber              -0.005988 -0.016571  \nCustomerId              0.015271 -0.006248  \nCreditScore            -0.001384 -0.027094  \nAge                    -0.007201  0.285323  \nTenure                  0.010520 -0.016761  \nBalance                 0.012797  0.118533  \nNumOfProducts           0.014204 -0.047820  \nHasCrCard              -0.009933 -0.007138  \nIsActiveMember         -0.011421 -0.156128  \nEstimatedSalary         1.000000  0.012097  \nExited                  0.012097  1.000000  ",
      "text/html": "<div>\n<style scoped>\n    .dataframe tbody tr th:only-of-type {\n        vertical-align: middle;\n    }\n\n    .dataframe tbody tr th {\n        vertical-align: top;\n    }\n\n    .dataframe thead th {\n        text-align: right;\n    }\n</style>\n<table border=\"1\" class=\"dataframe\">\n  <thead>\n    <tr style=\"text-align: right;\">\n      <th></th>\n      <th>RowNumber</th>\n      <th>CustomerId</th>\n      <th>CreditScore</th>\n      <th>Age</th>\n      <th>Tenure</th>\n      <th>Balance</th>\n      <th>NumOfProducts</th>\n      <th>HasCrCard</th>\n      <th>IsActiveMember</th>\n      <th>EstimatedSalary</th>\n      <th>Exited</th>\n    </tr>\n  </thead>\n  <tbody>\n    <tr>\n      <th>RowNumber</th>\n      <td>1.000000</td>\n      <td>0.004202</td>\n      <td>0.005840</td>\n      <td>0.000783</td>\n      <td>-0.007322</td>\n      <td>-0.009067</td>\n      <td>0.007246</td>\n      <td>0.000599</td>\n      <td>0.012044</td>\n      <td>-0.005988</td>\n      <td>-0.016571</td>\n    </tr>\n    <tr>\n      <th>CustomerId</th>\n      <td>0.004202</td>\n      <td>1.000000</td>\n      <td>0.005308</td>\n      <td>0.009497</td>\n      <td>-0.021418</td>\n      <td>-0.012419</td>\n      <td>0.016972</td>\n      <td>-0.014025</td>\n      <td>0.001665</td>\n      <td>0.015271</td>\n      <td>-0.006248</td>\n    </tr>\n    <tr>\n      <th>CreditScore</th>\n      <td>0.005840</td>\n      <td>0.005308</td>\n      <td>1.000000</td>\n      <td>-0.003965</td>\n      <td>-0.000062</td>\n      <td>0.006268</td>\n      <td>0.012238</td>\n      <td>-0.005458</td>\n      <td>0.025651</td>\n      <td>-0.001384</td>\n      <td>-0.027094</td>\n    </tr>\n    <tr>\n      <th>Age</th>\n      <td>0.000783</td>\n      <td>0.009497</td>\n      <td>-0.003965</td>\n      <td>1.000000</td>\n      <td>-0.013134</td>\n      <td>0.028308</td>\n      <td>-0.030680</td>\n      <td>-0.011721</td>\n      <td>0.085472</td>\n      <td>-0.007201</td>\n      <td>0.285323</td>\n    </tr>\n    <tr>\n      <th>Tenure</th>\n      <td>-0.007322</td>\n      <td>-0.021418</td>\n      <td>-0.000062</td>\n      <td>-0.013134</td>\n      <td>1.000000</td>\n      <td>-0.007911</td>\n      <td>0.011979</td>\n      <td>0.027232</td>\n      <td>-0.032178</td>\n      <td>0.010520</td>\n      <td>-0.016761</td>\n    </tr>\n    <tr>\n      <th>Balance</th>\n      <td>-0.009067</td>\n      <td>-0.012419</td>\n      <td>0.006268</td>\n      <td>0.028308</td>\n      <td>-0.007911</td>\n      <td>1.000000</td>\n      <td>-0.304180</td>\n      <td>-0.014858</td>\n      <td>-0.010084</td>\n      <td>0.012797</td>\n      <td>0.118533</td>\n    </tr>\n    <tr>\n      <th>NumOfProducts</th>\n      <td>0.007246</td>\n      <td>0.016972</td>\n      <td>0.012238</td>\n      <td>-0.030680</td>\n      <td>0.011979</td>\n      <td>-0.304180</td>\n      <td>1.000000</td>\n      <td>0.003183</td>\n      <td>0.009612</td>\n      <td>0.014204</td>\n      <td>-0.047820</td>\n    </tr>\n    <tr>\n      <th>HasCrCard</th>\n      <td>0.000599</td>\n      <td>-0.014025</td>\n      <td>-0.005458</td>\n      <td>-0.011721</td>\n      <td>0.027232</td>\n      <td>-0.014858</td>\n      <td>0.003183</td>\n      <td>1.000000</td>\n      <td>-0.011866</td>\n      <td>-0.009933</td>\n      <td>-0.007138</td>\n    </tr>\n    <tr>\n      <th>IsActiveMember</th>\n      <td>0.012044</td>\n      <td>0.001665</td>\n      <td>0.025651</td>\n      <td>0.085472</td>\n      <td>-0.032178</td>\n      <td>-0.010084</td>\n      <td>0.009612</td>\n      <td>-0.011866</td>\n      <td>1.000000</td>\n      <td>-0.011421</td>\n      <td>-0.156128</td>\n    </tr>\n    <tr>\n      <th>EstimatedSalary</th>\n      <td>-0.005988</td>\n      <td>0.015271</td>\n      <td>-0.001384</td>\n      <td>-0.007201</td>\n      <td>0.010520</td>\n      <td>0.012797</td>\n      <td>0.014204</td>\n      <td>-0.009933</td>\n      <td>-0.011421</td>\n      <td>1.000000</td>\n      <td>0.012097</td>\n    </tr>\n    <tr>\n      <th>Exited</th>\n      <td>-0.016571</td>\n      <td>-0.006248</td>\n      <td>-0.027094</td>\n      <td>0.285323</td>\n      <td>-0.016761</td>\n      <td>0.118533</td>\n      <td>-0.047820</td>\n      <td>-0.007138</td>\n      <td>-0.156128</td>\n      <td>0.012097</td>\n      <td>1.000000</td>\n    </tr>\n  </tbody>\n</table>\n</div>"
     },
     "execution_count": 5,
     "metadata": {},
     "output_type": "execute_result"
    }
   ],
   "source": [
    "df.corr()"
   ]
  },
  {
   "cell_type": "markdown",
   "metadata": {},
   "source": [
    "Данные стобца `Tenure` не имеют особой корреляции ни с одним из остальных столбцов, поэтому заполним пропуски обычной медианой."
   ]
  },
  {
   "cell_type": "code",
   "execution_count": 6,
   "metadata": {
    "ExecuteTime": {
     "end_time": "2023-06-26T15:45:40.584421400Z",
     "start_time": "2023-06-26T15:45:40.533374900Z"
    }
   },
   "outputs": [],
   "source": [
    "df = df.fillna(df['Tenure'].median())"
   ]
  },
  {
   "cell_type": "code",
   "execution_count": 7,
   "metadata": {
    "ExecuteTime": {
     "end_time": "2023-06-26T15:45:40.622455Z",
     "start_time": "2023-06-26T15:45:40.557396Z"
    }
   },
   "outputs": [
    {
     "name": "stdout",
     "output_type": "stream",
     "text": [
      "<class 'pandas.core.frame.DataFrame'>\n",
      "RangeIndex: 10000 entries, 0 to 9999\n",
      "Data columns (total 14 columns):\n",
      " #   Column           Non-Null Count  Dtype  \n",
      "---  ------           --------------  -----  \n",
      " 0   RowNumber        10000 non-null  int64  \n",
      " 1   CustomerId       10000 non-null  int64  \n",
      " 2   Surname          10000 non-null  object \n",
      " 3   CreditScore      10000 non-null  int64  \n",
      " 4   Geography        10000 non-null  object \n",
      " 5   Gender           10000 non-null  object \n",
      " 6   Age              10000 non-null  int64  \n",
      " 7   Tenure           10000 non-null  float64\n",
      " 8   Balance          10000 non-null  float64\n",
      " 9   NumOfProducts    10000 non-null  int64  \n",
      " 10  HasCrCard        10000 non-null  int64  \n",
      " 11  IsActiveMember   10000 non-null  int64  \n",
      " 12  EstimatedSalary  10000 non-null  float64\n",
      " 13  Exited           10000 non-null  int64  \n",
      "dtypes: float64(3), int64(8), object(3)\n",
      "memory usage: 1.1+ MB\n"
     ]
    }
   ],
   "source": [
    "df.info()"
   ]
  },
  {
   "cell_type": "markdown",
   "metadata": {},
   "source": [
    "Данные были успешно заполнены."
   ]
  },
  {
   "cell_type": "code",
   "execution_count": 8,
   "metadata": {
    "ExecuteTime": {
     "end_time": "2023-06-26T15:45:40.622455Z",
     "start_time": "2023-06-26T15:45:40.558397100Z"
    }
   },
   "outputs": [],
   "source": [
    "df = df.drop(['RowNumber', 'CustomerId', 'Surname'], axis=1)"
   ]
  },
  {
   "cell_type": "markdown",
   "metadata": {},
   "source": [
    "Уберём столбцы `RowNumber`, `CustomerId`, `Surname`, так как они не повлияют на модель."
   ]
  },
  {
   "cell_type": "code",
   "execution_count": 9,
   "metadata": {
    "ExecuteTime": {
     "end_time": "2023-06-26T15:45:40.622455Z",
     "start_time": "2023-06-26T15:45:40.558397100Z"
    }
   },
   "outputs": [],
   "source": [
    "df.columns = ['credit_score', 'geography', 'gender', 'age', 'tenure', 'balance', 'num_of_products', 'has_cr_card', 'is_active_member', 'estimated_salary', 'exited']"
   ]
  },
  {
   "cell_type": "code",
   "execution_count": 10,
   "metadata": {
    "ExecuteTime": {
     "end_time": "2023-06-26T15:45:40.623456700Z",
     "start_time": "2023-06-26T15:45:40.560399200Z"
    }
   },
   "outputs": [],
   "source": [
    "features = df.drop('exited', axis=1)\n",
    "target = df['exited']\n",
    "features_train, features_valid_and_test, target_train, target_valid_and_test =  train_test_split(features, target, test_size=0.4, random_state=222)\n",
    "features_test, features_valid, target_test, target_valid  = train_test_split(features_valid_and_test, target_valid_and_test, test_size=0.5, random_state=222)\n"
   ]
  },
  {
   "cell_type": "code",
   "execution_count": 11,
   "metadata": {
    "scrolled": true,
    "ExecuteTime": {
     "end_time": "2023-06-26T15:45:40.640472100Z",
     "start_time": "2023-06-26T15:45:40.568406600Z"
    }
   },
   "outputs": [
    {
     "name": "stdout",
     "output_type": "stream",
     "text": [
      "Размер features_train (6000, 10)\n",
      "Размер target_train (6000,)\n",
      "Размер features_test (2000, 10)\n",
      "Размер target_test (2000,)\n",
      "Размер features_valid (2000, 10)\n",
      "Размер target_valid (2000,)\n"
     ]
    }
   ],
   "source": [
    "print(f'Размер features_train {features_train.shape}')\n",
    "print(f'Размер target_train {target_train.shape}')\n",
    "print(f'Размер features_test {features_test.shape}')\n",
    "print(f'Размер target_test {target_test.shape}')\n",
    "print(f'Размер features_valid {features_valid.shape}')\n",
    "print(f'Размер target_valid {target_valid.shape}')"
   ]
  },
  {
   "cell_type": "markdown",
   "metadata": {},
   "source": [
    "Данные были разбиты в соотношении 3:1:1."
   ]
  },
  {
   "cell_type": "code",
   "execution_count": 12,
   "metadata": {
    "ExecuteTime": {
     "end_time": "2023-06-26T15:45:40.650481300Z",
     "start_time": "2023-06-26T15:45:40.584421400Z"
    }
   },
   "outputs": [],
   "source": [
    "features_train_categorial = features_train[['geography', 'gender', 'has_cr_card', 'is_active_member']]\n",
    "features_valid_categorial = features_valid[['geography', 'gender', 'has_cr_card', 'is_active_member']]\n",
    "features_test_categorial = features_test[['geography', 'gender', 'has_cr_card', 'is_active_member']]"
   ]
  },
  {
   "cell_type": "code",
   "execution_count": 13,
   "metadata": {
    "ExecuteTime": {
     "end_time": "2023-06-26T15:45:40.650481300Z",
     "start_time": "2023-06-26T15:45:40.584421400Z"
    }
   },
   "outputs": [],
   "source": [
    "features_train_numeric = features_train.drop(['geography', 'gender', 'has_cr_card', 'is_active_member'], axis=1)\n",
    "features_valid_numeric = features_valid.drop(['geography', 'gender', 'has_cr_card', 'is_active_member'], axis=1)\n",
    "features_test_numeric = features_test.drop(['geography', 'gender', 'has_cr_card', 'is_active_member'], axis=1)"
   ]
  },
  {
   "cell_type": "markdown",
   "metadata": {},
   "source": [
    "Фичи были поделены на категориальные и числовые для каждой группы"
   ]
  },
  {
   "cell_type": "code",
   "execution_count": 14,
   "metadata": {
    "ExecuteTime": {
     "end_time": "2023-06-26T15:45:40.650481300Z",
     "start_time": "2023-06-26T15:45:40.584421400Z"
    }
   },
   "outputs": [],
   "source": [
    "encoder = OrdinalEncoder(handle_unknown = 'use_encoded_value', unknown_value=-1)"
   ]
  },
  {
   "cell_type": "code",
   "execution_count": 15,
   "metadata": {
    "ExecuteTime": {
     "end_time": "2023-06-26T15:45:40.689516700Z",
     "start_time": "2023-06-26T15:45:40.587423700Z"
    }
   },
   "outputs": [],
   "source": [
    "features_train_categorial_ohe = pd.DataFrame(encoder.fit_transform(features_train_categorial), \n",
    "                                             columns=features_train_categorial.columns, \n",
    "                                             index=features_train_categorial.index)"
   ]
  },
  {
   "cell_type": "code",
   "execution_count": 16,
   "metadata": {
    "ExecuteTime": {
     "end_time": "2023-06-26T15:45:40.706532Z",
     "start_time": "2023-06-26T15:45:40.594430200Z"
    }
   },
   "outputs": [],
   "source": [
    "features_valid_categorial_ohe = pd.DataFrame(encoder.transform(features_valid_categorial), \n",
    "                                             columns=features_valid_categorial.columns, \n",
    "                                             index=features_valid_categorial.index)\n",
    "features_test_categorial_ohe = pd.DataFrame(encoder.transform(features_test_categorial), \n",
    "                                            columns=features_test_categorial.columns, \n",
    "                                            index=features_test_categorial.index)"
   ]
  },
  {
   "cell_type": "markdown",
   "metadata": {},
   "source": [
    "Преобразовали столбцы `geography` и `gender`."
   ]
  },
  {
   "cell_type": "code",
   "execution_count": 17,
   "metadata": {
    "ExecuteTime": {
     "end_time": "2023-06-26T15:45:40.707533Z",
     "start_time": "2023-06-26T15:45:40.599434500Z"
    }
   },
   "outputs": [],
   "source": [
    "scaler = StandardScaler()"
   ]
  },
  {
   "cell_type": "code",
   "execution_count": 18,
   "metadata": {
    "ExecuteTime": {
     "end_time": "2023-06-26T15:45:40.707533Z",
     "start_time": "2023-06-26T15:45:40.603439400Z"
    }
   },
   "outputs": [
    {
     "data": {
      "text/plain": "StandardScaler()",
      "text/html": "<style>#sk-container-id-1 {color: black;background-color: white;}#sk-container-id-1 pre{padding: 0;}#sk-container-id-1 div.sk-toggleable {background-color: white;}#sk-container-id-1 label.sk-toggleable__label {cursor: pointer;display: block;width: 100%;margin-bottom: 0;padding: 0.3em;box-sizing: border-box;text-align: center;}#sk-container-id-1 label.sk-toggleable__label-arrow:before {content: \"▸\";float: left;margin-right: 0.25em;color: #696969;}#sk-container-id-1 label.sk-toggleable__label-arrow:hover:before {color: black;}#sk-container-id-1 div.sk-estimator:hover label.sk-toggleable__label-arrow:before {color: black;}#sk-container-id-1 div.sk-toggleable__content {max-height: 0;max-width: 0;overflow: hidden;text-align: left;background-color: #f0f8ff;}#sk-container-id-1 div.sk-toggleable__content pre {margin: 0.2em;color: black;border-radius: 0.25em;background-color: #f0f8ff;}#sk-container-id-1 input.sk-toggleable__control:checked~div.sk-toggleable__content {max-height: 200px;max-width: 100%;overflow: auto;}#sk-container-id-1 input.sk-toggleable__control:checked~label.sk-toggleable__label-arrow:before {content: \"▾\";}#sk-container-id-1 div.sk-estimator input.sk-toggleable__control:checked~label.sk-toggleable__label {background-color: #d4ebff;}#sk-container-id-1 div.sk-label input.sk-toggleable__control:checked~label.sk-toggleable__label {background-color: #d4ebff;}#sk-container-id-1 input.sk-hidden--visually {border: 0;clip: rect(1px 1px 1px 1px);clip: rect(1px, 1px, 1px, 1px);height: 1px;margin: -1px;overflow: hidden;padding: 0;position: absolute;width: 1px;}#sk-container-id-1 div.sk-estimator {font-family: monospace;background-color: #f0f8ff;border: 1px dotted black;border-radius: 0.25em;box-sizing: border-box;margin-bottom: 0.5em;}#sk-container-id-1 div.sk-estimator:hover {background-color: #d4ebff;}#sk-container-id-1 div.sk-parallel-item::after {content: \"\";width: 100%;border-bottom: 1px solid gray;flex-grow: 1;}#sk-container-id-1 div.sk-label:hover label.sk-toggleable__label {background-color: #d4ebff;}#sk-container-id-1 div.sk-serial::before {content: \"\";position: absolute;border-left: 1px solid gray;box-sizing: border-box;top: 0;bottom: 0;left: 50%;z-index: 0;}#sk-container-id-1 div.sk-serial {display: flex;flex-direction: column;align-items: center;background-color: white;padding-right: 0.2em;padding-left: 0.2em;position: relative;}#sk-container-id-1 div.sk-item {position: relative;z-index: 1;}#sk-container-id-1 div.sk-parallel {display: flex;align-items: stretch;justify-content: center;background-color: white;position: relative;}#sk-container-id-1 div.sk-item::before, #sk-container-id-1 div.sk-parallel-item::before {content: \"\";position: absolute;border-left: 1px solid gray;box-sizing: border-box;top: 0;bottom: 0;left: 50%;z-index: -1;}#sk-container-id-1 div.sk-parallel-item {display: flex;flex-direction: column;z-index: 1;position: relative;background-color: white;}#sk-container-id-1 div.sk-parallel-item:first-child::after {align-self: flex-end;width: 50%;}#sk-container-id-1 div.sk-parallel-item:last-child::after {align-self: flex-start;width: 50%;}#sk-container-id-1 div.sk-parallel-item:only-child::after {width: 0;}#sk-container-id-1 div.sk-dashed-wrapped {border: 1px dashed gray;margin: 0 0.4em 0.5em 0.4em;box-sizing: border-box;padding-bottom: 0.4em;background-color: white;}#sk-container-id-1 div.sk-label label {font-family: monospace;font-weight: bold;display: inline-block;line-height: 1.2em;}#sk-container-id-1 div.sk-label-container {text-align: center;}#sk-container-id-1 div.sk-container {/* jupyter's `normalize.less` sets `[hidden] { display: none; }` but bootstrap.min.css set `[hidden] { display: none !important; }` so we also need the `!important` here to be able to override the default hidden behavior on the sphinx rendered scikit-learn.org. See: https://github.com/scikit-learn/scikit-learn/issues/21755 */display: inline-block !important;position: relative;}#sk-container-id-1 div.sk-text-repr-fallback {display: none;}</style><div id=\"sk-container-id-1\" class=\"sk-top-container\"><div class=\"sk-text-repr-fallback\"><pre>StandardScaler()</pre><b>In a Jupyter environment, please rerun this cell to show the HTML representation or trust the notebook. <br />On GitHub, the HTML representation is unable to render, please try loading this page with nbviewer.org.</b></div><div class=\"sk-container\" hidden><div class=\"sk-item\"><div class=\"sk-estimator sk-toggleable\"><input class=\"sk-toggleable__control sk-hidden--visually\" id=\"sk-estimator-id-1\" type=\"checkbox\" checked><label for=\"sk-estimator-id-1\" class=\"sk-toggleable__label sk-toggleable__label-arrow\">StandardScaler</label><div class=\"sk-toggleable__content\"><pre>StandardScaler()</pre></div></div></div></div></div>"
     },
     "execution_count": 18,
     "metadata": {},
     "output_type": "execute_result"
    }
   ],
   "source": [
    "scaler.fit(features_train_numeric)"
   ]
  },
  {
   "cell_type": "code",
   "execution_count": 19,
   "metadata": {
    "ExecuteTime": {
     "end_time": "2023-06-26T15:45:40.707533Z",
     "start_time": "2023-06-26T15:45:40.609444200Z"
    }
   },
   "outputs": [],
   "source": [
    "features_train_numeric_scaled = pd.DataFrame(scaler.transform(features_train_numeric), \n",
    "                                             columns=features_train_numeric.columns, \n",
    "                                             index=features_train_numeric.index)\n",
    "features_valid_numeric_scaled = pd.DataFrame(scaler.transform(features_valid_numeric), \n",
    "                                             columns=features_valid_numeric.columns, \n",
    "                                             index=features_valid_numeric.index)\n",
    "features_test_numeric_scaled = pd.DataFrame(scaler.transform(features_test_numeric), \n",
    "                                            columns=features_test_numeric.columns, \n",
    "                                            index=features_test_numeric.index)"
   ]
  },
  {
   "cell_type": "markdown",
   "metadata": {},
   "source": [
    "Масштабировали числовые столбцы."
   ]
  },
  {
   "cell_type": "code",
   "execution_count": 20,
   "metadata": {
    "ExecuteTime": {
     "end_time": "2023-06-26T15:45:40.707533Z",
     "start_time": "2023-06-26T15:45:40.615449300Z"
    }
   },
   "outputs": [],
   "source": [
    "features_train_merged = features_train_categorial_ohe.join(features_train_numeric_scaled)\n",
    "features_valid_merged = features_valid_categorial_ohe.join(features_valid_numeric_scaled)\n",
    "features_test_merged = features_test_categorial_ohe.join(features_test_numeric_scaled)"
   ]
  },
  {
   "cell_type": "code",
   "execution_count": 21,
   "metadata": {
    "ExecuteTime": {
     "end_time": "2023-06-26T15:45:40.707533Z",
     "start_time": "2023-06-26T15:45:40.620454100Z"
    }
   },
   "outputs": [
    {
     "name": "stdout",
     "output_type": "stream",
     "text": [
      "(6000, 10)\n",
      "(2000, 10)\n",
      "(2000, 10)\n"
     ]
    }
   ],
   "source": [
    "print(features_train_merged.shape)\n",
    "print(features_valid_merged.shape)\n",
    "print(features_test_merged.shape)"
   ]
  },
  {
   "cell_type": "markdown",
   "metadata": {},
   "source": [
    "Обратно соединили числовые и категориальные столбцы."
   ]
  },
  {
   "cell_type": "markdown",
   "metadata": {},
   "source": [
    "## Исследование задачи"
   ]
  },
  {
   "cell_type": "code",
   "execution_count": 22,
   "metadata": {
    "scrolled": false,
    "ExecuteTime": {
     "end_time": "2023-06-26T15:45:41.497249800Z",
     "start_time": "2023-06-26T15:45:40.625459Z"
    }
   },
   "outputs": [
    {
     "name": "stdout",
     "output_type": "stream",
     "text": [
      "best model accuracy is 0.28785046728971964\n",
      "best iter is 101\n",
      "auc roc of best model is 0.7564304264721767\n",
      "CPU times: total: 938 ms\n",
      "Wall time: 868 ms\n"
     ]
    }
   ],
   "source": [
    "%%time\n",
    "def log_regression_model():\n",
    "    model = LogisticRegression(random_state=12345, solver='lbfgs')\n",
    "    parameters = {'max_iter': range(101, 1001, 50)}\n",
    "    grid_search = GridSearchCV(model, parameters, scoring='f1', cv=5)\n",
    "    grid_search.fit(features_train_merged, target_train)\n",
    "\n",
    "    best_model = grid_search.best_estimator_\n",
    "    best_iter = best_model.max_iter\n",
    "\n",
    "    predicted_valid = best_model.predict(features_valid_merged)\n",
    "    best_model_accuracy = f1_score(predicted_valid, target_valid)\n",
    "\n",
    "    probabilities_valid = best_model.predict_proba(features_valid_merged)\n",
    "    probabilities_one_valid = probabilities_valid[:, 1]\n",
    "    auc_roc_of_best = roc_auc_score(target_valid, probabilities_one_valid)\n",
    "\n",
    "    print(f'best model accuracy is {best_model_accuracy}')\n",
    "    print(f'best iter is {best_iter}')\n",
    "    print(f'auc roc of best model is {auc_roc_of_best}')\n",
    "\n",
    "log_regression_model()"
   ]
  },
  {
   "cell_type": "code",
   "execution_count": 23,
   "metadata": {
    "ExecuteTime": {
     "end_time": "2023-06-26T15:45:42.706355500Z",
     "start_time": "2023-06-26T15:45:41.498250700Z"
    }
   },
   "outputs": [
    {
     "name": "stdout",
     "output_type": "stream",
     "text": [
      "best model accuracy is 0.5622254758418741\n",
      "best depth is 8\n",
      "auc roc of best model is 0.814302307924715\n",
      "CPU times: total: 1.2 s\n",
      "Wall time: 1.2 s\n"
     ]
    }
   ],
   "source": [
    "%%time\n",
    "def tree_regression_model():\n",
    "    model = DecisionTreeClassifier(random_state=12345)\n",
    "    parameters = {'max_depth': range(1, 20)}\n",
    "    grid_search = GridSearchCV(model, parameters, scoring='f1', cv=5)\n",
    "    grid_search.fit(features_train_merged, target_train)\n",
    "\n",
    "    best_model = grid_search.best_estimator_\n",
    "    best_depth = best_model.max_depth\n",
    "\n",
    "    predicted_valid = best_model.predict(features_valid_merged)\n",
    "    best_model_accuracy = f1_score(predicted_valid, target_valid)\n",
    "\n",
    "    probabilities_valid = best_model.predict_proba(features_valid_merged)\n",
    "    probabilities_one_valid = probabilities_valid[:, 1]\n",
    "    auc_roc_of_best = roc_auc_score(target_valid, probabilities_one_valid)\n",
    "\n",
    "    print(f'best model accuracy is {best_model_accuracy}')\n",
    "    print(f'best depth is {best_depth}')\n",
    "    print(f'auc roc of best model is {auc_roc_of_best}')\n",
    "\n",
    "tree_regression_model()"
   ]
  },
  {
   "cell_type": "code",
   "execution_count": 24,
   "metadata": {
    "scrolled": true,
    "ExecuteTime": {
     "end_time": "2023-06-26T15:51:13.896985200Z",
     "start_time": "2023-06-26T15:45:42.704353800Z"
    }
   },
   "outputs": [
    {
     "name": "stdout",
     "output_type": "stream",
     "text": [
      "best depth is 15\n",
      "best est is 31\n",
      "best model accuracy is 0.5830815709969789\n",
      "auc roc of best model is 0.8416325009901392\n",
      "CPU times: total: 5min 31s\n",
      "Wall time: 5min 31s\n"
     ]
    }
   ],
   "source": [
    "%%time\n",
    "def forest_model():\n",
    "    model = RandomForestClassifier(random_state=12345)\n",
    "    parameters = {'n_estimators': range(1, 100, 5), 'max_depth': range(1, 20)}\n",
    "    grid_search = GridSearchCV(model, parameters, scoring='f1', cv=5)\n",
    "    grid_search.fit(features_train_merged, target_train)\n",
    "\n",
    "    best_model = grid_search.best_estimator_\n",
    "    best_depth = best_model.max_depth\n",
    "    best_est = best_model.n_estimators\n",
    "\n",
    "    predicted_valid = best_model.predict(features_valid_merged)\n",
    "    best_model_accuracy = f1_score(predicted_valid, target_valid)\n",
    "\n",
    "    probabilities_valid = best_model.predict_proba(features_valid_merged)\n",
    "    probabilities_one_valid = probabilities_valid[:, 1]\n",
    "    auc_roc_of_best = roc_auc_score(target_valid, probabilities_one_valid)\n",
    "\n",
    "    print(f'best depth is {best_depth}')\n",
    "    print(f'best est is {best_est}')\n",
    "    print(f'best model accuracy is {best_model_accuracy}')\n",
    "    print(f'auc roc of best model is {auc_roc_of_best}')\n",
    "\n",
    "forest_model()"
   ]
  },
  {
   "cell_type": "markdown",
   "metadata": {},
   "source": [
    "Даже с дисбалансом некоторые модели показали неплохой результат (дерево и лес с f1, равным ~0.56 и ~0.68 соответственно), а вот логистическая регрессия показала результат, равный ~0.3, что очень мало. Добавим баланс в наши фичи, чтобы улучшить точность."
   ]
  },
  {
   "cell_type": "markdown",
   "metadata": {},
   "source": [
    "## Борьба с дисбалансом"
   ]
  },
  {
   "cell_type": "code",
   "execution_count": 25,
   "metadata": {
    "ExecuteTime": {
     "end_time": "2023-06-26T15:51:13.904993800Z",
     "start_time": "2023-06-26T15:51:13.897984700Z"
    }
   },
   "outputs": [],
   "source": [
    "def downsample(features, target, fraction):\n",
    "    features_zeros = features[target == 0]\n",
    "    features_ones = features[target == 1]\n",
    "    target_zeros = target[target == 0]\n",
    "    target_ones = target[target == 1]\n",
    "    features_downsampled = pd.concat([features_zeros.sample(frac=fraction, random_state=12345)] + [features_ones])\n",
    "    target_downsampled = pd.concat([target_zeros.sample(frac=fraction, random_state=12345)] + [target_ones])\n",
    "    features_downsampled, target_downsampled = shuffle(features_downsampled, target_downsampled, random_state=12345)\n",
    "    return features_downsampled, target_downsampled\n",
    "features_train_merged_down, target_train_down = downsample(features_train_merged, target_train, 0.5)"
   ]
  },
  {
   "cell_type": "code",
   "execution_count": 26,
   "metadata": {
    "ExecuteTime": {
     "end_time": "2023-06-26T15:51:13.916003500Z",
     "start_time": "2023-06-26T15:51:13.905994300Z"
    }
   },
   "outputs": [],
   "source": [
    "def upsample(features, target, repeat):\n",
    "    features_zeros = features[target == 0]\n",
    "    features_ones = features[target == 1]\n",
    "    target_zeros = target[target == 0]\n",
    "    target_ones = target[target == 1]\n",
    "    features_upsampled = pd.concat([features_zeros] + [features_ones] * repeat)\n",
    "    target_upsampled = pd.concat([target_zeros] + [target_ones] * repeat)\n",
    "    features_upsampled, target_upsampled = shuffle(features_upsampled, target_upsampled, random_state=12345)\n",
    "    return features_upsampled, target_upsampled\n",
    "features_train_merged_up, target_train_up = upsample(features_train_merged, target_train, 4)"
   ]
  },
  {
   "cell_type": "code",
   "execution_count": 27,
   "metadata": {
    "scrolled": false,
    "ExecuteTime": {
     "end_time": "2023-06-26T15:51:14.719733700Z",
     "start_time": "2023-06-26T15:51:13.916003500Z"
    }
   },
   "outputs": [
    {
     "name": "stdout",
     "output_type": "stream",
     "text": [
      "best model accuracy is 0.4591836734693878\n",
      "best iter is 101\n",
      "auc roc of best model is 0.7569000577646489\n",
      "CPU times: total: 906 ms\n",
      "Wall time: 798 ms\n"
     ]
    }
   ],
   "source": [
    "%%time\n",
    "def log_regression_model_down():\n",
    "    model = LogisticRegression(random_state=12345, solver='lbfgs')\n",
    "    parameters = {'max_iter': range(101, 1001, 50)}\n",
    "    grid_search = GridSearchCV(model, parameters, scoring='f1', cv=5)\n",
    "    grid_search.fit(features_train_merged_down, target_train_down)\n",
    "\n",
    "    best_model = grid_search.best_estimator_\n",
    "    best_iter = best_model.max_iter\n",
    "\n",
    "    predicted_valid = best_model.predict(features_valid_merged)\n",
    "    best_model_accuracy = f1_score(predicted_valid, target_valid)\n",
    "\n",
    "    probabilities_valid = best_model.predict_proba(features_valid_merged)\n",
    "    probabilities_one_valid = probabilities_valid[:, 1]\n",
    "    auc_roc_of_best = roc_auc_score(target_valid, probabilities_one_valid)\n",
    "\n",
    "    print(f'best model accuracy is {best_model_accuracy}')\n",
    "    print(f'best iter is {best_iter}')\n",
    "    print(f'auc roc of best model is {auc_roc_of_best}')\n",
    "\n",
    "log_regression_model_down()"
   ]
  },
  {
   "cell_type": "markdown",
   "metadata": {},
   "source": [
    "Логистическая регрессия показала значение 0.45, что ниже заданной нормы."
   ]
  },
  {
   "cell_type": "code",
   "execution_count": 28,
   "metadata": {
    "ExecuteTime": {
     "end_time": "2023-06-26T15:51:15.489443100Z",
     "start_time": "2023-06-26T15:51:14.718732Z"
    }
   },
   "outputs": [
    {
     "name": "stdout",
     "output_type": "stream",
     "text": [
      "best model accuracy is 0.5896510228640193\n",
      "best depth is 5\n",
      "auc roc of best model is 0.8330476409637461\n",
      "CPU times: total: 766 ms\n",
      "Wall time: 765 ms\n"
     ]
    }
   ],
   "source": [
    "%%time\n",
    "def tree_regression_model_down():\n",
    "    model = DecisionTreeClassifier(random_state=12345)\n",
    "    parameters = {'max_depth': range(1, 20)}\n",
    "    grid_search = GridSearchCV(model, parameters, scoring='f1', cv=5)\n",
    "    grid_search.fit(features_train_merged_down, target_train_down)\n",
    "\n",
    "    best_model = grid_search.best_estimator_\n",
    "    best_depth = best_model.max_depth\n",
    "\n",
    "    predicted_valid = best_model.predict(features_valid_merged)\n",
    "    best_model_accuracy = f1_score(predicted_valid, target_valid)\n",
    "\n",
    "    probabilities_valid = best_model.predict_proba(features_valid_merged)\n",
    "    probabilities_one_valid = probabilities_valid[:, 1]\n",
    "    auc_roc_of_best = roc_auc_score(target_valid, probabilities_one_valid)\n",
    "\n",
    "    print(f'best model accuracy is {best_model_accuracy}')\n",
    "    print(f'best depth is {best_depth}')\n",
    "    print(f'auc roc of best model is {auc_roc_of_best}')\n",
    "\n",
    "tree_regression_model_down()"
   ]
  },
  {
   "cell_type": "markdown",
   "metadata": {},
   "source": [
    "При downsampling'е дерево совсем чуть-чуть не дотянуло до минимально допустимого значения f1."
   ]
  },
  {
   "cell_type": "code",
   "execution_count": 29,
   "metadata": {
    "scrolled": true,
    "ExecuteTime": {
     "end_time": "2023-06-26T15:51:17.113928800Z",
     "start_time": "2023-06-26T15:51:15.489443100Z"
    }
   },
   "outputs": [
    {
     "name": "stdout",
     "output_type": "stream",
     "text": [
      "best model accuracy is 0.5077105575326216\n",
      "best depth is 19\n",
      "auc roc of best model is 0.6976216305911562\n",
      "CPU times: total: 1.62 s\n",
      "Wall time: 1.62 s\n"
     ]
    }
   ],
   "source": [
    "%%time\n",
    "def tree_regression_model_up():\n",
    "    model = DecisionTreeClassifier(random_state=12345)\n",
    "    parameters = {'max_depth': range(1, 20)}\n",
    "    grid_search = GridSearchCV(model, parameters, scoring='f1', cv=5)\n",
    "    grid_search.fit(features_train_merged_up, target_train_up)\n",
    "\n",
    "    best_model = grid_search.best_estimator_\n",
    "    best_depth = best_model.max_depth\n",
    "\n",
    "    predicted_valid = best_model.predict(features_valid_merged)\n",
    "    best_model_accuracy = f1_score(predicted_valid, target_valid)\n",
    "\n",
    "    probabilities_valid = best_model.predict_proba(features_valid_merged)\n",
    "    probabilities_one_valid = probabilities_valid[:, 1]\n",
    "    auc_roc_of_best = roc_auc_score(target_valid, probabilities_one_valid)\n",
    "\n",
    "    print(f'best model accuracy is {best_model_accuracy}')\n",
    "    print(f'best depth is {best_depth}')\n",
    "    print(f'auc roc of best model is {auc_roc_of_best}')\n",
    "\n",
    "tree_regression_model_up()"
   ]
  },
  {
   "cell_type": "markdown",
   "metadata": {},
   "source": [
    "Upsampling сделал результаты более неточными."
   ]
  },
  {
   "cell_type": "code",
   "execution_count": 30,
   "metadata": {
    "scrolled": true,
    "ExecuteTime": {
     "end_time": "2023-06-26T15:55:04.827493700Z",
     "start_time": "2023-06-26T15:51:17.114929300Z"
    }
   },
   "outputs": [
    {
     "name": "stdout",
     "output_type": "stream",
     "text": [
      "best depth is 16\n",
      "best est is 81\n",
      "best model accuracy is 0.6289308176100629\n",
      "auc roc of best model is 0.856069749639558\n",
      "CPU times: total: 3min 47s\n",
      "Wall time: 3min 47s\n"
     ]
    }
   ],
   "source": [
    "%%time\n",
    "def forest_model_down():\n",
    "    model = RandomForestClassifier(random_state=12345)\n",
    "    parameters = {'n_estimators': range(1, 100, 5), 'max_depth': range(1, 20)}\n",
    "    grid_search = GridSearchCV(model, parameters, scoring='f1', cv=5)\n",
    "    grid_search.fit(features_train_merged_down, target_train_down)\n",
    "\n",
    "    best_model = grid_search.best_estimator_\n",
    "    best_depth = best_model.max_depth\n",
    "    best_est = best_model.n_estimators\n",
    "\n",
    "    predicted_valid = best_model.predict(features_valid_merged)\n",
    "    best_model_accuracy = f1_score(predicted_valid, target_valid)\n",
    "\n",
    "    probabilities_valid = best_model.predict_proba(features_valid_merged)\n",
    "    probabilities_one_valid = probabilities_valid[:, 1]\n",
    "    auc_roc_of_best = roc_auc_score(target_valid, probabilities_one_valid)\n",
    "\n",
    "    print(f'best depth is {best_depth}')\n",
    "    print(f'best est is {best_est}')\n",
    "    print(f'best model accuracy is {best_model_accuracy}')\n",
    "    print(f'auc roc of best model is {auc_roc_of_best}')\n",
    "\n",
    "forest_model_down()"
   ]
  },
  {
   "cell_type": "markdown",
   "metadata": {},
   "source": [
    "Downsampling улучшил результаты леса, хоть и незначительно."
   ]
  },
  {
   "cell_type": "code",
   "execution_count": 31,
   "metadata": {
    "scrolled": true,
    "ExecuteTime": {
     "end_time": "2023-06-26T16:02:44.306333700Z",
     "start_time": "2023-06-26T15:55:04.828495900Z"
    }
   },
   "outputs": [
    {
     "name": "stdout",
     "output_type": "stream",
     "text": [
      "best depth is 19\n",
      "best est is 46\n",
      "best model accuracy is 0.6186666666666667\n",
      "auc roc of best model is 0.8499864589644003\n",
      "CPU times: total: 7min 39s\n",
      "Wall time: 7min 39s\n"
     ]
    }
   ],
   "source": [
    "%%time\n",
    "def forest_model_up():\n",
    "    model = RandomForestClassifier(random_state=12345)\n",
    "    parameters = {'n_estimators': range(1, 100, 5), 'max_depth': range(1, 20)}\n",
    "    grid_search = GridSearchCV(model, parameters, scoring='f1', cv=5)\n",
    "    grid_search.fit(features_train_merged_up, target_train_up)\n",
    "\n",
    "    best_model = grid_search.best_estimator_\n",
    "    best_depth = best_model.max_depth\n",
    "    best_est = best_model.n_estimators\n",
    "\n",
    "    predicted_valid = best_model.predict(features_valid_merged)\n",
    "    best_model_accuracy = f1_score(predicted_valid, target_valid)\n",
    "\n",
    "    probabilities_valid = best_model.predict_proba(features_valid_merged)\n",
    "    probabilities_one_valid = probabilities_valid[:, 1]\n",
    "    auc_roc_of_best = roc_auc_score(target_valid, probabilities_one_valid)\n",
    "\n",
    "    print(f'best depth is {best_depth}')\n",
    "    print(f'best est is {best_est}')\n",
    "    print(f'best model accuracy is {best_model_accuracy}')\n",
    "    print(f'auc roc of best model is {auc_roc_of_best}')\n",
    "\n",
    "forest_model_up()"
   ]
  },
  {
   "cell_type": "markdown",
   "metadata": {},
   "source": [
    "Upsampling тоже улучшил результат, но downsampling справился лучше."
   ]
  },
  {
   "cell_type": "markdown",
   "metadata": {},
   "source": [
    "Модель `RandomForestClassifier` успешно обучилась и справилась с поставленной задачей на валидационной выборке, `DecisionTreeClassifier` почти достигла успеха, а вот `LogisticRegression` оказалась далеко от порога точности. В итоге в тестовых испытаниях будет участвовать только модель леса."
   ]
  },
  {
   "cell_type": "markdown",
   "metadata": {},
   "source": [
    "## Тестирование модели"
   ]
  },
  {
   "cell_type": "code",
   "execution_count": 32,
   "metadata": {
    "scrolled": true,
    "ExecuteTime": {
     "end_time": "2023-06-26T16:02:44.468485800Z",
     "start_time": "2023-06-26T16:02:44.306333700Z"
    }
   },
   "outputs": [
    {
     "name": "stdout",
     "output_type": "stream",
     "text": [
      "Model F1 accuracy is 0.5982905982905983\n",
      "Auc-Roc of model is 0.8269299303689894\n",
      "CPU times: total: 172 ms\n",
      "Wall time: 159 ms\n"
     ]
    }
   ],
   "source": [
    "%%time\n",
    "def forest_model_down_test():\n",
    "    model = RandomForestClassifier(n_estimators=19, max_depth=81, random_state=12345)\n",
    "    model.fit(features_train_merged_up, target_train_up)\n",
    "    predicted_test = model.predict(features_test_merged)\n",
    "    model_accuracy = f1_score(predicted_test, target_test)\n",
    "    probabilities_test = model.predict_proba(features_test_merged)\n",
    "    probabilities_one_test = probabilities_test[:, 1]\n",
    "    model_roc_auc = roc_auc_score(target_test, probabilities_one_test)\n",
    "    print(f'Model F1 accuracy is {model_accuracy}')\n",
    "    print(f'Auc-Roc of model is {model_roc_auc}')\n",
    "forest_model_down_test()"
   ]
  },
  {
   "cell_type": "markdown",
   "metadata": {},
   "source": [
    "F1-мера и в тестовой выборке достигла значения 0.59."
   ]
  },
  {
   "cell_type": "markdown",
   "metadata": {},
   "source": [
    "Мы исследовали 3 вида моделей: логистическую регрессию, дерево и лес.     \n",
    "После подбора гиперпараметров мы улучшили точность этих моделей, но лучшей оказалась именно модель леса, которая была успешно протестирована.\n",
    "В итоге мы получили модель, позволяющую с большим успехом прогнозировать уйдёт клиент из банка в ближайшее время или нет."
   ]
  }
 ],
 "metadata": {
  "ExecuteTimeLog": [
   {
    "duration": 55,
    "start_time": "2022-12-11T08:18:44.587Z"
   },
   {
    "duration": 1263,
    "start_time": "2022-12-11T08:19:13.706Z"
   },
   {
    "duration": 408,
    "start_time": "2022-12-11T08:19:25.671Z"
   },
   {
    "duration": 1156,
    "start_time": "2022-12-11T08:19:27.145Z"
   },
   {
    "duration": 11,
    "start_time": "2022-12-11T08:20:07.505Z"
   },
   {
    "duration": 11,
    "start_time": "2022-12-11T08:20:09.203Z"
   },
   {
    "duration": 1020,
    "start_time": "2022-12-11T08:20:10.990Z"
   },
   {
    "duration": 18,
    "start_time": "2022-12-11T08:20:17.817Z"
   },
   {
    "duration": 634,
    "start_time": "2022-12-11T08:29:32.110Z"
   },
   {
    "duration": 5,
    "start_time": "2022-12-11T08:29:51.443Z"
   },
   {
    "duration": 6,
    "start_time": "2022-12-11T08:30:05.755Z"
   },
   {
    "duration": 59,
    "start_time": "2022-12-11T08:32:41.333Z"
   },
   {
    "duration": 9,
    "start_time": "2022-12-11T08:34:26.155Z"
   },
   {
    "duration": 24,
    "start_time": "2022-12-11T08:35:37.431Z"
   },
   {
    "duration": 4,
    "start_time": "2022-12-11T08:35:49.431Z"
   },
   {
    "duration": 4,
    "start_time": "2022-12-11T08:38:04.848Z"
   },
   {
    "duration": 10,
    "start_time": "2022-12-11T08:57:24.186Z"
   },
   {
    "duration": 5,
    "start_time": "2022-12-11T08:57:30.469Z"
   },
   {
    "duration": 10,
    "start_time": "2022-12-11T08:57:45.333Z"
   },
   {
    "duration": 18,
    "start_time": "2022-12-11T08:57:53.564Z"
   },
   {
    "duration": 905,
    "start_time": "2022-12-11T09:00:24.657Z"
   },
   {
    "duration": 4,
    "start_time": "2022-12-11T09:00:31.589Z"
   },
   {
    "duration": 9,
    "start_time": "2022-12-11T09:00:35.387Z"
   },
   {
    "duration": 1173,
    "start_time": "2022-12-11T09:02:04.092Z"
   },
   {
    "duration": 1235,
    "start_time": "2022-12-11T09:02:06.232Z"
   },
   {
    "duration": 19,
    "start_time": "2022-12-11T09:02:07.469Z"
   },
   {
    "duration": 24,
    "start_time": "2022-12-11T09:02:07.489Z"
   },
   {
    "duration": 11,
    "start_time": "2022-12-11T09:02:07.723Z"
   },
   {
    "duration": 106,
    "start_time": "2022-12-11T09:02:40.748Z"
   },
   {
    "duration": 16,
    "start_time": "2022-12-11T09:02:52.006Z"
   },
   {
    "duration": 12,
    "start_time": "2022-12-11T09:02:59.882Z"
   },
   {
    "duration": 11,
    "start_time": "2022-12-11T09:03:11.366Z"
   },
   {
    "duration": 11,
    "start_time": "2022-12-11T09:03:17.724Z"
   },
   {
    "duration": 7,
    "start_time": "2022-12-11T09:03:40.438Z"
   },
   {
    "duration": 9,
    "start_time": "2022-12-11T09:03:54.381Z"
   },
   {
    "duration": 9,
    "start_time": "2022-12-11T09:04:03.285Z"
   },
   {
    "duration": 207,
    "start_time": "2022-12-11T09:08:25.335Z"
   },
   {
    "duration": 231,
    "start_time": "2022-12-11T09:08:29.984Z"
   },
   {
    "duration": 1041,
    "start_time": "2022-12-11T09:08:47.179Z"
   },
   {
    "duration": 1217,
    "start_time": "2022-12-11T09:08:48.223Z"
   },
   {
    "duration": 19,
    "start_time": "2022-12-11T09:08:49.442Z"
   },
   {
    "duration": 11,
    "start_time": "2022-12-11T09:08:49.463Z"
   },
   {
    "duration": 14,
    "start_time": "2022-12-11T09:08:49.476Z"
   },
   {
    "duration": 11,
    "start_time": "2022-12-11T09:08:49.492Z"
   },
   {
    "duration": 25,
    "start_time": "2022-12-11T09:08:49.505Z"
   },
   {
    "duration": 104,
    "start_time": "2022-12-11T09:08:49.532Z"
   },
   {
    "duration": 0,
    "start_time": "2022-12-11T09:08:49.637Z"
   },
   {
    "duration": 0,
    "start_time": "2022-12-11T09:08:49.639Z"
   },
   {
    "duration": 3,
    "start_time": "2022-12-11T09:23:11.387Z"
   },
   {
    "duration": 968,
    "start_time": "2022-12-11T09:27:49.910Z"
   },
   {
    "duration": 1245,
    "start_time": "2022-12-11T09:27:50.880Z"
   },
   {
    "duration": 19,
    "start_time": "2022-12-11T09:27:52.127Z"
   },
   {
    "duration": 11,
    "start_time": "2022-12-11T09:27:52.148Z"
   },
   {
    "duration": 15,
    "start_time": "2022-12-11T09:27:52.161Z"
   },
   {
    "duration": 108,
    "start_time": "2022-12-11T09:27:52.197Z"
   },
   {
    "duration": 0,
    "start_time": "2022-12-11T09:27:52.307Z"
   },
   {
    "duration": 14,
    "start_time": "2022-12-11T09:28:11.611Z"
   },
   {
    "duration": 9,
    "start_time": "2022-12-11T09:28:12.852Z"
   },
   {
    "duration": 1062,
    "start_time": "2022-12-11T09:29:23.331Z"
   },
   {
    "duration": 1087,
    "start_time": "2022-12-11T09:29:24.395Z"
   },
   {
    "duration": 19,
    "start_time": "2022-12-11T09:29:25.484Z"
   },
   {
    "duration": 10,
    "start_time": "2022-12-11T09:29:25.505Z"
   },
   {
    "duration": 13,
    "start_time": "2022-12-11T09:29:25.516Z"
   },
   {
    "duration": 10,
    "start_time": "2022-12-11T09:29:25.531Z"
   },
   {
    "duration": 4,
    "start_time": "2022-12-11T09:29:25.542Z"
   },
   {
    "duration": 99,
    "start_time": "2022-12-11T09:32:25.245Z"
   },
   {
    "duration": 2,
    "start_time": "2022-12-11T09:32:29.263Z"
   },
   {
    "duration": 25,
    "start_time": "2022-12-11T09:34:05.059Z"
   },
   {
    "duration": 21,
    "start_time": "2022-12-11T09:42:33.541Z"
   },
   {
    "duration": 15,
    "start_time": "2022-12-11T09:43:37.290Z"
   },
   {
    "duration": 10,
    "start_time": "2022-12-11T09:44:28.421Z"
   },
   {
    "duration": 25,
    "start_time": "2022-12-11T09:44:34.889Z"
   },
   {
    "duration": 1095,
    "start_time": "2022-12-11T09:45:01.317Z"
   },
   {
    "duration": 1149,
    "start_time": "2022-12-11T09:45:02.413Z"
   },
   {
    "duration": 19,
    "start_time": "2022-12-11T09:45:03.563Z"
   },
   {
    "duration": 12,
    "start_time": "2022-12-11T09:45:03.584Z"
   },
   {
    "duration": 13,
    "start_time": "2022-12-11T09:45:03.598Z"
   },
   {
    "duration": 9,
    "start_time": "2022-12-11T09:45:03.613Z"
   },
   {
    "duration": 4,
    "start_time": "2022-12-11T09:45:03.624Z"
   },
   {
    "duration": 141,
    "start_time": "2022-12-11T09:45:03.629Z"
   },
   {
    "duration": 34,
    "start_time": "2022-12-11T09:45:33.568Z"
   },
   {
    "duration": 1003,
    "start_time": "2022-12-11T09:45:59.397Z"
   },
   {
    "duration": 1216,
    "start_time": "2022-12-11T09:46:00.402Z"
   },
   {
    "duration": 19,
    "start_time": "2022-12-11T09:46:01.620Z"
   },
   {
    "duration": 10,
    "start_time": "2022-12-11T09:46:01.641Z"
   },
   {
    "duration": 22,
    "start_time": "2022-12-11T09:46:01.653Z"
   },
   {
    "duration": 13,
    "start_time": "2022-12-11T09:46:01.676Z"
   },
   {
    "duration": 8,
    "start_time": "2022-12-11T09:46:01.691Z"
   },
   {
    "duration": 12,
    "start_time": "2022-12-11T09:46:01.700Z"
   },
   {
    "duration": 34,
    "start_time": "2022-12-11T09:46:01.713Z"
   },
   {
    "duration": 100,
    "start_time": "2022-12-11T09:46:01.749Z"
   },
   {
    "duration": 990,
    "start_time": "2022-12-11T09:46:36.320Z"
   },
   {
    "duration": 1345,
    "start_time": "2022-12-11T09:46:37.312Z"
   },
   {
    "duration": 18,
    "start_time": "2022-12-11T09:46:38.658Z"
   },
   {
    "duration": 11,
    "start_time": "2022-12-11T09:46:41.458Z"
   },
   {
    "duration": 12,
    "start_time": "2022-12-11T09:46:42.498Z"
   },
   {
    "duration": 10,
    "start_time": "2022-12-11T09:46:45.621Z"
   },
   {
    "duration": 4,
    "start_time": "2022-12-11T09:46:50.156Z"
   },
   {
    "duration": 2,
    "start_time": "2022-12-11T09:46:56.174Z"
   },
   {
    "duration": 24,
    "start_time": "2022-12-11T09:47:16.904Z"
   },
   {
    "duration": 111,
    "start_time": "2022-12-11T09:47:18.094Z"
   },
   {
    "duration": 1043,
    "start_time": "2022-12-11T09:48:03.261Z"
   },
   {
    "duration": 1267,
    "start_time": "2022-12-11T09:48:04.306Z"
   },
   {
    "duration": 18,
    "start_time": "2022-12-11T09:48:05.574Z"
   },
   {
    "duration": 20,
    "start_time": "2022-12-11T09:48:05.594Z"
   },
   {
    "duration": 16,
    "start_time": "2022-12-11T09:48:05.616Z"
   },
   {
    "duration": 10,
    "start_time": "2022-12-11T09:48:05.634Z"
   },
   {
    "duration": 4,
    "start_time": "2022-12-11T09:48:05.645Z"
   },
   {
    "duration": 6,
    "start_time": "2022-12-11T09:48:05.650Z"
   },
   {
    "duration": 31,
    "start_time": "2022-12-11T09:48:05.657Z"
   },
   {
    "duration": 112,
    "start_time": "2022-12-11T09:48:05.691Z"
   },
   {
    "duration": 1095,
    "start_time": "2022-12-11T09:49:03.119Z"
   },
   {
    "duration": 1150,
    "start_time": "2022-12-11T09:49:04.216Z"
   },
   {
    "duration": 19,
    "start_time": "2022-12-11T09:49:05.367Z"
   },
   {
    "duration": 12,
    "start_time": "2022-12-11T09:49:05.388Z"
   },
   {
    "duration": 14,
    "start_time": "2022-12-11T09:49:05.401Z"
   },
   {
    "duration": 10,
    "start_time": "2022-12-11T09:49:05.416Z"
   },
   {
    "duration": 7,
    "start_time": "2022-12-11T09:49:05.427Z"
   },
   {
    "duration": 8,
    "start_time": "2022-12-11T09:49:05.436Z"
   },
   {
    "duration": 31,
    "start_time": "2022-12-11T09:49:05.446Z"
   },
   {
    "duration": 152,
    "start_time": "2022-12-11T09:49:05.479Z"
   },
   {
    "duration": 22,
    "start_time": "2022-12-11T09:51:24.173Z"
   },
   {
    "duration": 18,
    "start_time": "2022-12-11T09:54:23.137Z"
   },
   {
    "duration": 1129,
    "start_time": "2022-12-11T09:54:39.924Z"
   },
   {
    "duration": 1211,
    "start_time": "2022-12-11T09:54:41.055Z"
   },
   {
    "duration": 28,
    "start_time": "2022-12-11T09:54:43.405Z"
   },
   {
    "duration": 13,
    "start_time": "2022-12-11T09:54:43.673Z"
   },
   {
    "duration": 18,
    "start_time": "2022-12-11T09:54:45.309Z"
   },
   {
    "duration": 18,
    "start_time": "2022-12-11T09:54:59.183Z"
   },
   {
    "duration": 285,
    "start_time": "2022-12-11T09:57:51.912Z"
   },
   {
    "duration": 5,
    "start_time": "2022-12-11T09:58:05.030Z"
   },
   {
    "duration": 3,
    "start_time": "2022-12-11T09:58:07.406Z"
   },
   {
    "duration": 17,
    "start_time": "2022-12-11T09:58:10.248Z"
   },
   {
    "duration": 1044,
    "start_time": "2022-12-11T09:58:15.338Z"
   },
   {
    "duration": 1129,
    "start_time": "2022-12-11T09:58:16.383Z"
   },
   {
    "duration": 19,
    "start_time": "2022-12-11T09:58:17.514Z"
   },
   {
    "duration": 15,
    "start_time": "2022-12-11T09:58:17.535Z"
   },
   {
    "duration": 23,
    "start_time": "2022-12-11T09:58:17.551Z"
   },
   {
    "duration": 4,
    "start_time": "2022-12-11T09:58:17.576Z"
   },
   {
    "duration": 15,
    "start_time": "2022-12-11T09:58:17.581Z"
   },
   {
    "duration": 106,
    "start_time": "2022-12-11T09:58:17.598Z"
   },
   {
    "duration": 0,
    "start_time": "2022-12-11T09:58:17.706Z"
   },
   {
    "duration": 0,
    "start_time": "2022-12-11T09:58:17.708Z"
   },
   {
    "duration": 0,
    "start_time": "2022-12-11T09:58:17.709Z"
   },
   {
    "duration": 0,
    "start_time": "2022-12-11T09:58:17.710Z"
   },
   {
    "duration": 972,
    "start_time": "2022-12-11T09:58:28.405Z"
   },
   {
    "duration": 1135,
    "start_time": "2022-12-11T09:58:29.379Z"
   },
   {
    "duration": 21,
    "start_time": "2022-12-11T09:58:30.516Z"
   },
   {
    "duration": 19,
    "start_time": "2022-12-11T09:58:30.539Z"
   },
   {
    "duration": 28,
    "start_time": "2022-12-11T09:58:30.559Z"
   },
   {
    "duration": 3,
    "start_time": "2022-12-11T09:58:30.589Z"
   },
   {
    "duration": 11,
    "start_time": "2022-12-11T09:58:30.594Z"
   },
   {
    "duration": 15,
    "start_time": "2022-12-11T09:58:30.606Z"
   },
   {
    "duration": 11,
    "start_time": "2022-12-11T09:58:30.623Z"
   },
   {
    "duration": 5,
    "start_time": "2022-12-11T09:58:30.636Z"
   },
   {
    "duration": 31,
    "start_time": "2022-12-11T09:58:30.643Z"
   },
   {
    "duration": 101,
    "start_time": "2022-12-11T09:58:30.676Z"
   },
   {
    "duration": 18,
    "start_time": "2022-12-11T09:58:46.942Z"
   },
   {
    "duration": 1024,
    "start_time": "2022-12-11T10:08:42.459Z"
   },
   {
    "duration": 1784,
    "start_time": "2022-12-11T10:08:43.485Z"
   },
   {
    "duration": 20,
    "start_time": "2022-12-11T10:08:45.271Z"
   },
   {
    "duration": 12,
    "start_time": "2022-12-11T10:08:45.293Z"
   },
   {
    "duration": 17,
    "start_time": "2022-12-11T10:08:45.307Z"
   },
   {
    "duration": 4,
    "start_time": "2022-12-11T10:08:45.325Z"
   },
   {
    "duration": 6,
    "start_time": "2022-12-11T10:08:45.330Z"
   },
   {
    "duration": 10,
    "start_time": "2022-12-11T10:08:49.536Z"
   },
   {
    "duration": 4,
    "start_time": "2022-12-11T10:08:49.803Z"
   },
   {
    "duration": 2,
    "start_time": "2022-12-11T10:08:51.316Z"
   },
   {
    "duration": 119,
    "start_time": "2022-12-11T10:09:29.924Z"
   },
   {
    "duration": 16,
    "start_time": "2022-12-11T10:09:45.864Z"
   },
   {
    "duration": 14,
    "start_time": "2022-12-11T10:09:52.342Z"
   },
   {
    "duration": 15,
    "start_time": "2022-12-11T10:10:47.480Z"
   },
   {
    "duration": 1034,
    "start_time": "2022-12-11T10:10:58.858Z"
   },
   {
    "duration": 1170,
    "start_time": "2022-12-11T10:10:59.895Z"
   },
   {
    "duration": 20,
    "start_time": "2022-12-11T10:11:01.066Z"
   },
   {
    "duration": 32,
    "start_time": "2022-12-11T10:11:01.088Z"
   },
   {
    "duration": 29,
    "start_time": "2022-12-11T10:11:01.122Z"
   },
   {
    "duration": 19,
    "start_time": "2022-12-11T10:11:01.153Z"
   },
   {
    "duration": 38,
    "start_time": "2022-12-11T10:11:01.173Z"
   },
   {
    "duration": 25,
    "start_time": "2022-12-11T10:11:01.213Z"
   },
   {
    "duration": 30,
    "start_time": "2022-12-11T10:11:01.240Z"
   },
   {
    "duration": 18,
    "start_time": "2022-12-11T10:11:01.273Z"
   },
   {
    "duration": 21,
    "start_time": "2022-12-11T10:11:01.293Z"
   },
   {
    "duration": 30,
    "start_time": "2022-12-11T10:11:01.315Z"
   },
   {
    "duration": 106,
    "start_time": "2022-12-11T10:11:01.347Z"
   },
   {
    "duration": 2,
    "start_time": "2022-12-11T10:11:16.604Z"
   },
   {
    "duration": 1086,
    "start_time": "2022-12-11T10:11:25.743Z"
   },
   {
    "duration": 1163,
    "start_time": "2022-12-11T10:11:26.831Z"
   },
   {
    "duration": 24,
    "start_time": "2022-12-11T10:11:27.996Z"
   },
   {
    "duration": 25,
    "start_time": "2022-12-11T10:11:28.022Z"
   },
   {
    "duration": 33,
    "start_time": "2022-12-11T10:11:28.049Z"
   },
   {
    "duration": 27,
    "start_time": "2022-12-11T10:11:28.084Z"
   },
   {
    "duration": 17,
    "start_time": "2022-12-11T10:11:28.113Z"
   },
   {
    "duration": 27,
    "start_time": "2022-12-11T10:11:28.132Z"
   },
   {
    "duration": 14,
    "start_time": "2022-12-11T10:11:28.161Z"
   },
   {
    "duration": 26,
    "start_time": "2022-12-11T10:11:28.177Z"
   },
   {
    "duration": 28,
    "start_time": "2022-12-11T10:11:28.204Z"
   },
   {
    "duration": 22,
    "start_time": "2022-12-11T10:11:28.233Z"
   },
   {
    "duration": 1045,
    "start_time": "2022-12-11T10:15:52.644Z"
   },
   {
    "duration": 1184,
    "start_time": "2022-12-11T10:15:53.690Z"
   },
   {
    "duration": 18,
    "start_time": "2022-12-11T10:15:54.875Z"
   },
   {
    "duration": 10,
    "start_time": "2022-12-11T10:15:54.895Z"
   },
   {
    "duration": 14,
    "start_time": "2022-12-11T10:15:54.906Z"
   },
   {
    "duration": 3,
    "start_time": "2022-12-11T10:15:54.922Z"
   },
   {
    "duration": 6,
    "start_time": "2022-12-11T10:15:54.926Z"
   },
   {
    "duration": 11,
    "start_time": "2022-12-11T10:15:54.933Z"
   },
   {
    "duration": 3,
    "start_time": "2022-12-11T10:15:54.946Z"
   },
   {
    "duration": 3,
    "start_time": "2022-12-11T10:15:54.951Z"
   },
   {
    "duration": 15,
    "start_time": "2022-12-11T10:15:54.956Z"
   },
   {
    "duration": 28,
    "start_time": "2022-12-11T10:15:54.973Z"
   },
   {
    "duration": 41,
    "start_time": "2022-12-11T10:20:08.962Z"
   },
   {
    "duration": 194,
    "start_time": "2022-12-11T10:23:30.141Z"
   },
   {
    "duration": 92,
    "start_time": "2022-12-11T10:23:36.908Z"
   },
   {
    "duration": 3,
    "start_time": "2022-12-11T10:23:53.011Z"
   },
   {
    "duration": 11,
    "start_time": "2022-12-11T10:23:56.278Z"
   },
   {
    "duration": 4,
    "start_time": "2022-12-11T10:25:00.744Z"
   },
   {
    "duration": 120,
    "start_time": "2022-12-11T10:25:18.284Z"
   },
   {
    "duration": 116,
    "start_time": "2022-12-11T10:30:28.109Z"
   },
   {
    "duration": 106,
    "start_time": "2022-12-11T10:30:56.642Z"
   },
   {
    "duration": 3,
    "start_time": "2022-12-11T10:34:27.335Z"
   },
   {
    "duration": 4,
    "start_time": "2022-12-11T10:36:02.575Z"
   },
   {
    "duration": 16963,
    "start_time": "2022-12-11T10:36:09.939Z"
   },
   {
    "duration": 6240,
    "start_time": "2022-12-11T11:13:20.545Z"
   },
   {
    "duration": 2258,
    "start_time": "2022-12-11T11:13:32.327Z"
   },
   {
    "duration": 560967,
    "start_time": "2022-12-11T11:15:54.339Z"
   },
   {
    "duration": 42671,
    "start_time": "2022-12-11T11:36:30.891Z"
   },
   {
    "duration": 257,
    "start_time": "2022-12-11T11:40:24.016Z"
   },
   {
    "duration": 62281,
    "start_time": "2022-12-11T11:45:28.319Z"
   },
   {
    "duration": 115,
    "start_time": "2022-12-11T11:52:25.395Z"
   },
   {
    "duration": 39,
    "start_time": "2022-12-11T12:02:45.155Z"
   },
   {
    "duration": 3,
    "start_time": "2022-12-11T12:02:49.411Z"
   },
   {
    "duration": 3,
    "start_time": "2022-12-11T12:04:25.341Z"
   },
   {
    "duration": 1071,
    "start_time": "2022-12-11T12:04:29.845Z"
   },
   {
    "duration": 1883,
    "start_time": "2022-12-11T12:04:30.917Z"
   },
   {
    "duration": 19,
    "start_time": "2022-12-11T12:04:32.802Z"
   },
   {
    "duration": 11,
    "start_time": "2022-12-11T12:04:32.822Z"
   },
   {
    "duration": 14,
    "start_time": "2022-12-11T12:04:32.835Z"
   },
   {
    "duration": 4,
    "start_time": "2022-12-11T12:04:32.850Z"
   },
   {
    "duration": 7,
    "start_time": "2022-12-11T12:04:32.855Z"
   },
   {
    "duration": 12,
    "start_time": "2022-12-11T12:04:32.863Z"
   },
   {
    "duration": 21,
    "start_time": "2022-12-11T12:04:32.876Z"
   },
   {
    "duration": 10,
    "start_time": "2022-12-11T12:04:32.899Z"
   },
   {
    "duration": 4,
    "start_time": "2022-12-11T12:04:32.911Z"
   },
   {
    "duration": 8,
    "start_time": "2022-12-11T12:04:32.916Z"
   },
   {
    "duration": 6,
    "start_time": "2022-12-11T12:18:30.151Z"
   },
   {
    "duration": 108,
    "start_time": "2022-12-11T12:19:03.160Z"
   },
   {
    "duration": 12,
    "start_time": "2022-12-11T12:19:13.141Z"
   },
   {
    "duration": 5,
    "start_time": "2022-12-11T12:20:55.932Z"
   },
   {
    "duration": 260,
    "start_time": "2022-12-11T12:29:28.538Z"
   },
   {
    "duration": 10,
    "start_time": "2022-12-11T12:29:43.890Z"
   },
   {
    "duration": 4,
    "start_time": "2022-12-11T12:31:06.410Z"
   },
   {
    "duration": 8,
    "start_time": "2022-12-11T12:31:27.551Z"
   },
   {
    "duration": 1088,
    "start_time": "2022-12-11T12:34:03.580Z"
   },
   {
    "duration": 2242,
    "start_time": "2022-12-11T12:34:04.670Z"
   },
   {
    "duration": 16,
    "start_time": "2022-12-11T12:34:06.914Z"
   },
   {
    "duration": 13,
    "start_time": "2022-12-11T12:34:06.932Z"
   },
   {
    "duration": 12,
    "start_time": "2022-12-11T12:34:06.946Z"
   },
   {
    "duration": 3,
    "start_time": "2022-12-11T12:34:06.960Z"
   },
   {
    "duration": 7,
    "start_time": "2022-12-11T12:34:06.964Z"
   },
   {
    "duration": 27,
    "start_time": "2022-12-11T12:34:06.972Z"
   },
   {
    "duration": 5,
    "start_time": "2022-12-11T12:34:07.001Z"
   },
   {
    "duration": 7,
    "start_time": "2022-12-11T12:34:07.008Z"
   },
   {
    "duration": 7,
    "start_time": "2022-12-11T12:34:07.016Z"
   },
   {
    "duration": 6,
    "start_time": "2022-12-11T12:34:07.024Z"
   },
   {
    "duration": 11,
    "start_time": "2022-12-11T12:34:07.031Z"
   },
   {
    "duration": 8,
    "start_time": "2022-12-11T12:34:07.043Z"
   },
   {
    "duration": 6,
    "start_time": "2022-12-11T12:34:07.052Z"
   },
   {
    "duration": 8,
    "start_time": "2022-12-11T12:34:51.925Z"
   },
   {
    "duration": 4,
    "start_time": "2022-12-11T12:36:27.011Z"
   },
   {
    "duration": 2,
    "start_time": "2022-12-11T12:36:45.823Z"
   },
   {
    "duration": 8,
    "start_time": "2022-12-11T12:37:26.404Z"
   },
   {
    "duration": 8,
    "start_time": "2022-12-11T12:38:34.594Z"
   },
   {
    "duration": 1052,
    "start_time": "2022-12-11T12:41:28.987Z"
   },
   {
    "duration": 1982,
    "start_time": "2022-12-11T12:41:30.042Z"
   },
   {
    "duration": 17,
    "start_time": "2022-12-11T12:41:32.026Z"
   },
   {
    "duration": 11,
    "start_time": "2022-12-11T12:41:32.045Z"
   },
   {
    "duration": 17,
    "start_time": "2022-12-11T12:41:32.057Z"
   },
   {
    "duration": 5,
    "start_time": "2022-12-11T12:41:32.075Z"
   },
   {
    "duration": 16,
    "start_time": "2022-12-11T12:41:32.081Z"
   },
   {
    "duration": 9,
    "start_time": "2022-12-11T12:41:32.099Z"
   },
   {
    "duration": 3,
    "start_time": "2022-12-11T12:41:32.110Z"
   },
   {
    "duration": 7,
    "start_time": "2022-12-11T12:41:32.115Z"
   },
   {
    "duration": 7,
    "start_time": "2022-12-11T12:41:32.123Z"
   },
   {
    "duration": 7,
    "start_time": "2022-12-11T12:41:32.131Z"
   },
   {
    "duration": 11,
    "start_time": "2022-12-11T12:41:32.140Z"
   },
   {
    "duration": 6,
    "start_time": "2022-12-11T12:41:32.152Z"
   },
   {
    "duration": 7,
    "start_time": "2022-12-11T12:41:32.159Z"
   },
   {
    "duration": 12,
    "start_time": "2022-12-11T12:41:32.168Z"
   },
   {
    "duration": 21,
    "start_time": "2022-12-11T12:41:32.182Z"
   },
   {
    "duration": 45,
    "start_time": "2022-12-11T12:41:32.205Z"
   },
   {
    "duration": 0,
    "start_time": "2022-12-11T12:41:32.252Z"
   },
   {
    "duration": 0,
    "start_time": "2022-12-11T12:41:32.253Z"
   },
   {
    "duration": 128,
    "start_time": "2022-12-11T12:41:54.592Z"
   },
   {
    "duration": 10,
    "start_time": "2022-12-11T12:43:15.910Z"
   },
   {
    "duration": 4,
    "start_time": "2022-12-11T12:43:23.555Z"
   },
   {
    "duration": 11,
    "start_time": "2022-12-11T12:46:34.823Z"
   },
   {
    "duration": 1083,
    "start_time": "2022-12-11T12:46:40.834Z"
   },
   {
    "duration": 1215,
    "start_time": "2022-12-11T12:46:41.919Z"
   },
   {
    "duration": 17,
    "start_time": "2022-12-11T12:46:43.136Z"
   },
   {
    "duration": 34,
    "start_time": "2022-12-11T12:46:43.154Z"
   },
   {
    "duration": 36,
    "start_time": "2022-12-11T12:46:43.190Z"
   },
   {
    "duration": 20,
    "start_time": "2022-12-11T12:46:43.227Z"
   },
   {
    "duration": 12,
    "start_time": "2022-12-11T12:46:43.249Z"
   },
   {
    "duration": 36,
    "start_time": "2022-12-11T12:46:43.262Z"
   },
   {
    "duration": 18,
    "start_time": "2022-12-11T12:46:43.299Z"
   },
   {
    "duration": 27,
    "start_time": "2022-12-11T12:46:43.319Z"
   },
   {
    "duration": 37,
    "start_time": "2022-12-11T12:46:43.348Z"
   },
   {
    "duration": 39,
    "start_time": "2022-12-11T12:46:43.386Z"
   },
   {
    "duration": 38,
    "start_time": "2022-12-11T12:46:43.427Z"
   },
   {
    "duration": 37,
    "start_time": "2022-12-11T12:46:43.468Z"
   },
   {
    "duration": 25,
    "start_time": "2022-12-11T12:46:43.506Z"
   },
   {
    "duration": 34,
    "start_time": "2022-12-11T12:46:43.533Z"
   },
   {
    "duration": 116,
    "start_time": "2022-12-11T12:46:43.569Z"
   },
   {
    "duration": 0,
    "start_time": "2022-12-11T12:46:43.686Z"
   },
   {
    "duration": 0,
    "start_time": "2022-12-11T12:46:43.687Z"
   },
   {
    "duration": 0,
    "start_time": "2022-12-11T12:46:43.688Z"
   },
   {
    "duration": 0,
    "start_time": "2022-12-11T12:46:43.696Z"
   },
   {
    "duration": 0,
    "start_time": "2022-12-11T12:46:43.698Z"
   },
   {
    "duration": 10,
    "start_time": "2022-12-11T12:47:15.146Z"
   },
   {
    "duration": 10,
    "start_time": "2022-12-11T12:47:17.778Z"
   },
   {
    "duration": 12,
    "start_time": "2022-12-11T12:47:19.731Z"
   },
   {
    "duration": 5,
    "start_time": "2022-12-11T12:47:58.502Z"
   },
   {
    "duration": 45604,
    "start_time": "2022-12-11T12:50:13.099Z"
   },
   {
    "duration": 104,
    "start_time": "2022-12-11T13:01:16.754Z"
   },
   {
    "duration": 116,
    "start_time": "2022-12-11T13:01:38.917Z"
   },
   {
    "duration": 106,
    "start_time": "2022-12-11T13:02:31.739Z"
   },
   {
    "duration": 14,
    "start_time": "2022-12-11T13:03:55.781Z"
   },
   {
    "duration": 1021,
    "start_time": "2022-12-11T13:05:34.900Z"
   },
   {
    "duration": 1731,
    "start_time": "2022-12-11T13:05:35.923Z"
   },
   {
    "duration": 15,
    "start_time": "2022-12-11T13:05:37.656Z"
   },
   {
    "duration": 10,
    "start_time": "2022-12-11T13:05:37.673Z"
   },
   {
    "duration": 13,
    "start_time": "2022-12-11T13:05:37.684Z"
   },
   {
    "duration": 4,
    "start_time": "2022-12-11T13:05:39.059Z"
   },
   {
    "duration": 3,
    "start_time": "2022-12-11T13:05:39.482Z"
   },
   {
    "duration": 9,
    "start_time": "2022-12-11T13:05:40.058Z"
   },
   {
    "duration": 4,
    "start_time": "2022-12-11T13:05:40.253Z"
   },
   {
    "duration": 5,
    "start_time": "2022-12-11T13:05:40.664Z"
   },
   {
    "duration": 6,
    "start_time": "2022-12-11T13:05:41.040Z"
   },
   {
    "duration": 3,
    "start_time": "2022-12-11T13:05:41.400Z"
   },
   {
    "duration": 8,
    "start_time": "2022-12-11T13:05:41.564Z"
   },
   {
    "duration": 8,
    "start_time": "2022-12-11T13:05:41.984Z"
   },
   {
    "duration": 3,
    "start_time": "2022-12-11T13:05:42.904Z"
   },
   {
    "duration": 7,
    "start_time": "2022-12-11T13:05:43.637Z"
   },
   {
    "duration": 9,
    "start_time": "2022-12-11T13:05:43.810Z"
   },
   {
    "duration": 7,
    "start_time": "2022-12-11T13:05:44.558Z"
   },
   {
    "duration": 76282,
    "start_time": "2022-12-11T13:05:46.016Z"
   },
   {
    "duration": 111,
    "start_time": "2022-12-11T13:07:02.301Z"
   },
   {
    "duration": 3173,
    "start_time": "2022-12-11T13:25:59.199Z"
   },
   {
    "duration": 23,
    "start_time": "2022-12-11T13:26:34.481Z"
   },
   {
    "duration": 1055,
    "start_time": "2022-12-11T13:26:41.863Z"
   },
   {
    "duration": 1647,
    "start_time": "2022-12-11T13:26:42.919Z"
   },
   {
    "duration": 23,
    "start_time": "2022-12-11T13:26:44.567Z"
   },
   {
    "duration": 15,
    "start_time": "2022-12-11T13:26:44.594Z"
   },
   {
    "duration": 23,
    "start_time": "2022-12-11T13:26:44.610Z"
   },
   {
    "duration": 4,
    "start_time": "2022-12-11T13:26:44.636Z"
   },
   {
    "duration": 5,
    "start_time": "2022-12-11T13:26:44.642Z"
   },
   {
    "duration": 16,
    "start_time": "2022-12-11T13:26:44.649Z"
   },
   {
    "duration": 9,
    "start_time": "2022-12-11T13:26:44.667Z"
   },
   {
    "duration": 27,
    "start_time": "2022-12-11T13:26:44.678Z"
   },
   {
    "duration": 16,
    "start_time": "2022-12-11T13:26:44.708Z"
   },
   {
    "duration": 10,
    "start_time": "2022-12-11T13:26:44.726Z"
   },
   {
    "duration": 14,
    "start_time": "2022-12-11T13:26:44.738Z"
   },
   {
    "duration": 10,
    "start_time": "2022-12-11T13:26:44.754Z"
   },
   {
    "duration": 25,
    "start_time": "2022-12-11T13:26:44.766Z"
   },
   {
    "duration": 18,
    "start_time": "2022-12-11T13:26:44.793Z"
   },
   {
    "duration": 24,
    "start_time": "2022-12-11T13:26:44.813Z"
   },
   {
    "duration": 26,
    "start_time": "2022-12-11T13:26:44.838Z"
   },
   {
    "duration": 53,
    "start_time": "2022-12-11T13:26:44.866Z"
   },
   {
    "duration": 31946,
    "start_time": "2022-12-11T13:26:51.957Z"
   },
   {
    "duration": 25,
    "start_time": "2022-12-11T13:35:08.878Z"
   },
   {
    "duration": 197,
    "start_time": "2022-12-11T13:35:24.081Z"
   },
   {
    "duration": 127,
    "start_time": "2022-12-11T13:41:53.552Z"
   },
   {
    "duration": 83,
    "start_time": "2022-12-11T13:42:21.160Z"
   },
   {
    "duration": 324,
    "start_time": "2022-12-11T13:42:41.639Z"
   },
   {
    "duration": 331,
    "start_time": "2022-12-11T13:42:52.303Z"
   },
   {
    "duration": 22,
    "start_time": "2022-12-11T13:44:05.851Z"
   },
   {
    "duration": 189194,
    "start_time": "2022-12-11T13:44:26.487Z"
   },
   {
    "duration": 93,
    "start_time": "2022-12-11T13:49:27.699Z"
   },
   {
    "duration": 107,
    "start_time": "2022-12-11T14:00:17.922Z"
   },
   {
    "duration": 132,
    "start_time": "2022-12-11T14:00:30.632Z"
   },
   {
    "duration": 99,
    "start_time": "2022-12-11T14:08:12.147Z"
   },
   {
    "duration": 3,
    "start_time": "2022-12-11T14:08:26.779Z"
   },
   {
    "duration": 132,
    "start_time": "2022-12-11T14:08:31.155Z"
   },
   {
    "duration": 429,
    "start_time": "2022-12-11T14:08:49.121Z"
   },
   {
    "duration": 426,
    "start_time": "2022-12-11T14:09:06.072Z"
   },
   {
    "duration": 95219,
    "start_time": "2022-12-11T14:09:53.817Z"
   },
   {
    "duration": 29,
    "start_time": "2022-12-11T14:41:11.762Z"
   },
   {
    "duration": 8,
    "start_time": "2022-12-11T14:44:52.049Z"
   },
   {
    "duration": 17,
    "start_time": "2022-12-11T14:44:57.391Z"
   },
   {
    "duration": 5,
    "start_time": "2022-12-11T14:45:09.417Z"
   },
   {
    "duration": 17,
    "start_time": "2022-12-11T14:45:54.824Z"
   },
   {
    "duration": 12,
    "start_time": "2022-12-11T14:46:11.542Z"
   },
   {
    "duration": 1141,
    "start_time": "2022-12-11T14:55:18.996Z"
   },
   {
    "duration": 1583,
    "start_time": "2022-12-11T14:55:20.139Z"
   },
   {
    "duration": 18,
    "start_time": "2022-12-11T14:55:21.724Z"
   },
   {
    "duration": 11,
    "start_time": "2022-12-11T14:55:21.743Z"
   },
   {
    "duration": 21,
    "start_time": "2022-12-11T14:55:21.756Z"
   },
   {
    "duration": 18,
    "start_time": "2022-12-11T14:55:21.779Z"
   },
   {
    "duration": 3,
    "start_time": "2022-12-11T14:55:21.798Z"
   },
   {
    "duration": 12,
    "start_time": "2022-12-11T14:55:21.802Z"
   },
   {
    "duration": 4,
    "start_time": "2022-12-11T14:55:21.815Z"
   },
   {
    "duration": 5,
    "start_time": "2022-12-11T14:55:21.821Z"
   },
   {
    "duration": 12,
    "start_time": "2022-12-11T14:55:21.828Z"
   },
   {
    "duration": 8,
    "start_time": "2022-12-11T14:55:21.841Z"
   },
   {
    "duration": 10,
    "start_time": "2022-12-11T14:55:21.850Z"
   },
   {
    "duration": 142,
    "start_time": "2022-12-11T14:55:21.862Z"
   },
   {
    "duration": 0,
    "start_time": "2022-12-11T14:55:22.006Z"
   },
   {
    "duration": 0,
    "start_time": "2022-12-11T14:55:22.007Z"
   },
   {
    "duration": 0,
    "start_time": "2022-12-11T14:55:22.008Z"
   },
   {
    "duration": 0,
    "start_time": "2022-12-11T14:55:22.010Z"
   },
   {
    "duration": 0,
    "start_time": "2022-12-11T14:55:22.011Z"
   },
   {
    "duration": 0,
    "start_time": "2022-12-11T14:55:22.012Z"
   },
   {
    "duration": 0,
    "start_time": "2022-12-11T14:55:22.014Z"
   },
   {
    "duration": 0,
    "start_time": "2022-12-11T14:55:22.015Z"
   },
   {
    "duration": 0,
    "start_time": "2022-12-11T14:55:22.016Z"
   },
   {
    "duration": 0,
    "start_time": "2022-12-11T14:55:22.017Z"
   },
   {
    "duration": 1095,
    "start_time": "2022-12-11T14:56:03.300Z"
   },
   {
    "duration": 1154,
    "start_time": "2022-12-11T14:56:04.397Z"
   },
   {
    "duration": 20,
    "start_time": "2022-12-11T14:56:05.553Z"
   },
   {
    "duration": 11,
    "start_time": "2022-12-11T14:56:05.574Z"
   },
   {
    "duration": 23,
    "start_time": "2022-12-11T14:56:05.586Z"
   },
   {
    "duration": 3,
    "start_time": "2022-12-11T14:56:05.611Z"
   },
   {
    "duration": 13,
    "start_time": "2022-12-11T14:56:05.616Z"
   },
   {
    "duration": 23,
    "start_time": "2022-12-11T14:56:05.630Z"
   },
   {
    "duration": 5,
    "start_time": "2022-12-11T14:56:05.654Z"
   },
   {
    "duration": 8,
    "start_time": "2022-12-11T14:56:05.661Z"
   },
   {
    "duration": 16,
    "start_time": "2022-12-11T14:56:05.671Z"
   },
   {
    "duration": 11,
    "start_time": "2022-12-11T14:56:05.689Z"
   },
   {
    "duration": 20,
    "start_time": "2022-12-11T14:56:05.702Z"
   },
   {
    "duration": 14,
    "start_time": "2022-12-11T14:56:05.724Z"
   },
   {
    "duration": 5,
    "start_time": "2022-12-11T14:56:05.739Z"
   },
   {
    "duration": 11,
    "start_time": "2022-12-11T14:56:05.746Z"
   },
   {
    "duration": 10,
    "start_time": "2022-12-11T14:56:05.759Z"
   },
   {
    "duration": 7,
    "start_time": "2022-12-11T14:56:05.770Z"
   },
   {
    "duration": 6185,
    "start_time": "2022-12-11T14:56:05.778Z"
   },
   {
    "duration": 445,
    "start_time": "2022-12-11T14:56:11.965Z"
   },
   {
    "duration": 9135,
    "start_time": "2022-12-11T14:56:12.412Z"
   },
   {
    "duration": 15,
    "start_time": "2022-12-11T14:56:21.549Z"
   },
   {
    "duration": 6,
    "start_time": "2022-12-11T14:56:21.566Z"
   },
   {
    "duration": 23,
    "start_time": "2022-12-11T14:56:21.573Z"
   },
   {
    "duration": 18,
    "start_time": "2022-12-11T14:56:39.192Z"
   },
   {
    "duration": 21,
    "start_time": "2022-12-11T14:58:40.397Z"
   },
   {
    "duration": 3,
    "start_time": "2022-12-11T14:59:57.843Z"
   },
   {
    "duration": 12,
    "start_time": "2022-12-11T15:00:05.153Z"
   },
   {
    "duration": 24378,
    "start_time": "2022-12-11T15:01:14.621Z"
   },
   {
    "duration": 311,
    "start_time": "2022-12-11T15:03:11.248Z"
   },
   {
    "duration": 74498,
    "start_time": "2022-12-11T15:03:58.138Z"
   },
   {
    "duration": 8,
    "start_time": "2022-12-11T15:43:45.060Z"
   },
   {
    "duration": 137362,
    "start_time": "2022-12-11T15:44:20.486Z"
   },
   {
    "duration": 119110,
    "start_time": "2022-12-11T16:18:52.800Z"
   },
   {
    "duration": 132793,
    "start_time": "2022-12-11T16:21:28.448Z"
   },
   {
    "duration": 1080,
    "start_time": "2022-12-11T16:23:45.844Z"
   },
   {
    "duration": 1621,
    "start_time": "2022-12-11T16:23:46.926Z"
   },
   {
    "duration": 17,
    "start_time": "2022-12-11T16:23:48.549Z"
   },
   {
    "duration": 49,
    "start_time": "2022-12-11T16:23:48.568Z"
   },
   {
    "duration": 45,
    "start_time": "2022-12-11T16:23:48.619Z"
   },
   {
    "duration": 38,
    "start_time": "2022-12-11T16:23:48.666Z"
   },
   {
    "duration": 49,
    "start_time": "2022-12-11T16:23:48.705Z"
   },
   {
    "duration": 40,
    "start_time": "2022-12-11T16:23:48.755Z"
   },
   {
    "duration": 55,
    "start_time": "2022-12-11T16:23:48.797Z"
   },
   {
    "duration": 42,
    "start_time": "2022-12-11T16:23:48.855Z"
   },
   {
    "duration": 22,
    "start_time": "2022-12-11T16:23:48.899Z"
   },
   {
    "duration": 28,
    "start_time": "2022-12-11T16:23:48.923Z"
   },
   {
    "duration": 45,
    "start_time": "2022-12-11T16:23:48.953Z"
   },
   {
    "duration": 32,
    "start_time": "2022-12-11T16:23:48.999Z"
   },
   {
    "duration": 58,
    "start_time": "2022-12-11T16:23:49.033Z"
   },
   {
    "duration": 61,
    "start_time": "2022-12-11T16:23:49.093Z"
   },
   {
    "duration": 27,
    "start_time": "2022-12-11T16:23:49.156Z"
   },
   {
    "duration": 25,
    "start_time": "2022-12-11T16:23:49.185Z"
   },
   {
    "duration": 35987,
    "start_time": "2022-12-11T16:23:49.212Z"
   },
   {
    "duration": 537,
    "start_time": "2022-12-11T16:24:25.201Z"
   },
   {
    "duration": 104499,
    "start_time": "2022-12-11T16:24:25.739Z"
   },
   {
    "duration": 11,
    "start_time": "2022-12-11T16:26:10.240Z"
   },
   {
    "duration": 11,
    "start_time": "2022-12-11T16:26:10.252Z"
   },
   {
    "duration": 30238,
    "start_time": "2022-12-11T16:26:10.264Z"
   },
   {
    "duration": 481,
    "start_time": "2022-12-11T16:26:40.504Z"
   },
   {
    "duration": 78878,
    "start_time": "2022-12-11T16:26:40.987Z"
   },
   {
    "duration": 58553,
    "start_time": "2022-12-11T16:27:59.867Z"
   },
   {
    "duration": 5369,
    "start_time": "2022-12-11T16:28:58.422Z"
   },
   {
    "duration": 141252,
    "start_time": "2022-12-11T16:29:14.178Z"
   },
   {
    "duration": 139836,
    "start_time": "2022-12-11T16:31:51.863Z"
   },
   {
    "duration": 16,
    "start_time": "2022-12-11T16:39:39.170Z"
   },
   {
    "duration": 17,
    "start_time": "2022-12-11T16:39:46.048Z"
   },
   {
    "duration": 15,
    "start_time": "2022-12-11T16:39:54.151Z"
   },
   {
    "duration": 16,
    "start_time": "2022-12-11T16:39:59.045Z"
   },
   {
    "duration": 24,
    "start_time": "2022-12-11T16:40:04.812Z"
   },
   {
    "duration": 11,
    "start_time": "2022-12-11T16:41:45.279Z"
   },
   {
    "duration": 12,
    "start_time": "2022-12-11T16:41:51.067Z"
   },
   {
    "duration": 102,
    "start_time": "2022-12-11T16:42:38.363Z"
   },
   {
    "duration": 1138,
    "start_time": "2022-12-11T17:11:58.446Z"
   },
   {
    "duration": 1778,
    "start_time": "2022-12-11T17:11:59.586Z"
   },
   {
    "duration": 23,
    "start_time": "2022-12-11T17:12:01.366Z"
   },
   {
    "duration": 32,
    "start_time": "2022-12-11T17:12:01.391Z"
   },
   {
    "duration": 49,
    "start_time": "2022-12-11T17:12:01.426Z"
   },
   {
    "duration": 56,
    "start_time": "2022-12-11T17:12:01.477Z"
   },
   {
    "duration": 23,
    "start_time": "2022-12-11T17:12:01.535Z"
   },
   {
    "duration": 39,
    "start_time": "2022-12-11T17:12:01.560Z"
   },
   {
    "duration": 34,
    "start_time": "2022-12-11T17:12:01.601Z"
   },
   {
    "duration": 30,
    "start_time": "2022-12-11T17:12:01.636Z"
   },
   {
    "duration": 31,
    "start_time": "2022-12-11T17:12:01.667Z"
   },
   {
    "duration": 37,
    "start_time": "2022-12-11T17:12:01.701Z"
   },
   {
    "duration": 37,
    "start_time": "2022-12-11T17:12:01.740Z"
   },
   {
    "duration": 26,
    "start_time": "2022-12-11T17:12:01.780Z"
   },
   {
    "duration": 44,
    "start_time": "2022-12-11T17:12:01.807Z"
   },
   {
    "duration": 30,
    "start_time": "2022-12-11T17:12:01.852Z"
   },
   {
    "duration": 43,
    "start_time": "2022-12-11T17:12:01.884Z"
   },
   {
    "duration": 51,
    "start_time": "2022-12-11T17:12:01.930Z"
   },
   {
    "duration": 49735,
    "start_time": "2022-12-11T17:12:01.983Z"
   },
   {
    "duration": 635,
    "start_time": "2022-12-11T17:12:51.722Z"
   },
   {
    "duration": 103464,
    "start_time": "2022-12-11T17:12:52.359Z"
   },
   {
    "duration": 10,
    "start_time": "2022-12-11T17:14:35.825Z"
   },
   {
    "duration": 9,
    "start_time": "2022-12-11T17:14:35.836Z"
   },
   {
    "duration": 31163,
    "start_time": "2022-12-11T17:14:35.846Z"
   },
   {
    "duration": 424,
    "start_time": "2022-12-11T17:15:07.098Z"
   },
   {
    "duration": 75286,
    "start_time": "2022-12-11T17:15:07.524Z"
   },
   {
    "duration": 144630,
    "start_time": "2022-12-11T17:16:22.811Z"
   },
   {
    "duration": 114,
    "start_time": "2022-12-11T17:18:47.443Z"
   },
   {
    "duration": 1480,
    "start_time": "2022-12-12T12:34:05.350Z"
   },
   {
    "duration": 1619,
    "start_time": "2022-12-12T12:34:09.054Z"
   },
   {
    "duration": 111,
    "start_time": "2022-12-12T12:41:42.657Z"
   },
   {
    "duration": 19,
    "start_time": "2022-12-12T12:42:14.161Z"
   },
   {
    "duration": 13,
    "start_time": "2022-12-12T12:42:14.494Z"
   },
   {
    "duration": 14,
    "start_time": "2022-12-12T12:42:14.862Z"
   },
   {
    "duration": 4,
    "start_time": "2022-12-12T12:42:16.126Z"
   },
   {
    "duration": 3,
    "start_time": "2022-12-12T12:42:17.007Z"
   },
   {
    "duration": 12,
    "start_time": "2022-12-12T12:42:17.349Z"
   },
   {
    "duration": 7,
    "start_time": "2022-12-12T12:42:17.758Z"
   },
   {
    "duration": 4411,
    "start_time": "2022-12-12T12:42:18.466Z"
   },
   {
    "duration": 0,
    "start_time": "2022-12-12T12:42:22.880Z"
   },
   {
    "duration": 0,
    "start_time": "2022-12-12T12:42:22.882Z"
   },
   {
    "duration": 0,
    "start_time": "2022-12-12T12:42:22.884Z"
   },
   {
    "duration": 0,
    "start_time": "2022-12-12T12:42:22.886Z"
   },
   {
    "duration": 8,
    "start_time": "2022-12-12T12:42:33.407Z"
   },
   {
    "duration": 9,
    "start_time": "2022-12-12T12:42:35.010Z"
   },
   {
    "duration": 2,
    "start_time": "2022-12-12T12:42:36.417Z"
   },
   {
    "duration": 15,
    "start_time": "2022-12-12T12:42:36.867Z"
   },
   {
    "duration": 11,
    "start_time": "2022-12-12T12:42:37.248Z"
   },
   {
    "duration": 3,
    "start_time": "2022-12-12T12:42:38.663Z"
   },
   {
    "duration": 9,
    "start_time": "2022-12-12T12:42:38.966Z"
   },
   {
    "duration": 11,
    "start_time": "2022-12-12T12:42:39.179Z"
   },
   {
    "duration": 7,
    "start_time": "2022-12-12T12:42:40.223Z"
   },
   {
    "duration": 21,
    "start_time": "2022-12-12T12:42:56.931Z"
   },
   {
    "duration": 5,
    "start_time": "2022-12-12T12:43:02.782Z"
   },
   {
    "duration": 6,
    "start_time": "2022-12-12T12:44:12.452Z"
   },
   {
    "duration": 8,
    "start_time": "2022-12-12T12:49:59.150Z"
   },
   {
    "duration": 111,
    "start_time": "2022-12-12T12:59:44.946Z"
   },
   {
    "duration": 11,
    "start_time": "2022-12-12T13:01:06.996Z"
   },
   {
    "duration": 1070,
    "start_time": "2022-12-12T19:59:34.713Z"
   },
   {
    "duration": 171,
    "start_time": "2022-12-12T19:59:39.653Z"
   },
   {
    "duration": 20,
    "start_time": "2022-12-12T19:59:41.105Z"
   },
   {
    "duration": 13,
    "start_time": "2022-12-12T19:59:44.343Z"
   },
   {
    "duration": 12,
    "start_time": "2022-12-12T19:59:45.282Z"
   },
   {
    "duration": 4,
    "start_time": "2022-12-12T20:00:29.357Z"
   },
   {
    "duration": 5,
    "start_time": "2022-12-12T20:00:43.347Z"
   },
   {
    "duration": 5,
    "start_time": "2022-12-12T20:02:04.246Z"
   },
   {
    "duration": 7,
    "start_time": "2022-12-12T20:03:18.550Z"
   },
   {
    "duration": 20,
    "start_time": "2022-12-12T20:03:23.495Z"
   },
   {
    "duration": 12,
    "start_time": "2022-12-12T20:03:28.174Z"
   },
   {
    "duration": 1046,
    "start_time": "2022-12-12T20:04:25.911Z"
   },
   {
    "duration": 40,
    "start_time": "2022-12-12T20:04:26.959Z"
   },
   {
    "duration": 18,
    "start_time": "2022-12-12T20:04:27.000Z"
   },
   {
    "duration": 13,
    "start_time": "2022-12-12T20:04:27.209Z"
   },
   {
    "duration": 14,
    "start_time": "2022-12-12T20:04:28.246Z"
   },
   {
    "duration": 99,
    "start_time": "2022-12-12T20:05:02.964Z"
   },
   {
    "duration": 23,
    "start_time": "2022-12-12T20:05:51.464Z"
   },
   {
    "duration": 19,
    "start_time": "2022-12-12T20:05:57.148Z"
   },
   {
    "duration": 7,
    "start_time": "2022-12-12T20:07:10.120Z"
   },
   {
    "duration": 13,
    "start_time": "2022-12-12T20:07:22.173Z"
   },
   {
    "duration": 5,
    "start_time": "2022-12-12T20:08:16.935Z"
   },
   {
    "duration": 3,
    "start_time": "2022-12-12T20:08:18.120Z"
   },
   {
    "duration": 10,
    "start_time": "2022-12-12T20:08:18.495Z"
   },
   {
    "duration": 4,
    "start_time": "2022-12-12T20:08:20.373Z"
   },
   {
    "duration": 3248,
    "start_time": "2022-12-12T20:08:24.541Z"
   },
   {
    "duration": 2075,
    "start_time": "2022-12-12T20:08:42.431Z"
   },
   {
    "duration": 6,
    "start_time": "2022-12-12T20:08:55.375Z"
   },
   {
    "duration": 6,
    "start_time": "2022-12-12T20:08:55.746Z"
   },
   {
    "duration": 3,
    "start_time": "2022-12-12T20:08:57.910Z"
   },
   {
    "duration": 11,
    "start_time": "2022-12-12T20:08:58.446Z"
   },
   {
    "duration": 10,
    "start_time": "2022-12-12T20:08:58.814Z"
   },
   {
    "duration": 3,
    "start_time": "2022-12-12T20:09:03.390Z"
   },
   {
    "duration": 9,
    "start_time": "2022-12-12T20:09:03.580Z"
   },
   {
    "duration": 12,
    "start_time": "2022-12-12T20:09:05.839Z"
   },
   {
    "duration": 7,
    "start_time": "2022-12-12T20:09:09.248Z"
   },
   {
    "duration": 4,
    "start_time": "2022-12-12T20:09:09.539Z"
   },
   {
    "duration": 1177,
    "start_time": "2022-12-12T20:16:59.454Z"
   },
   {
    "duration": 42,
    "start_time": "2022-12-12T20:17:00.633Z"
   },
   {
    "duration": 21,
    "start_time": "2022-12-12T20:17:00.677Z"
   },
   {
    "duration": 38,
    "start_time": "2022-12-12T20:17:00.700Z"
   },
   {
    "duration": 22,
    "start_time": "2022-12-12T20:17:00.740Z"
   },
   {
    "duration": 35,
    "start_time": "2022-12-12T20:17:00.763Z"
   },
   {
    "duration": 13,
    "start_time": "2022-12-12T20:17:00.800Z"
   },
   {
    "duration": 34,
    "start_time": "2022-12-12T20:17:00.815Z"
   },
   {
    "duration": 17,
    "start_time": "2022-12-12T20:17:00.851Z"
   },
   {
    "duration": 16,
    "start_time": "2022-12-12T20:17:00.872Z"
   },
   {
    "duration": 17,
    "start_time": "2022-12-12T20:17:00.889Z"
   },
   {
    "duration": 28,
    "start_time": "2022-12-12T20:17:00.908Z"
   },
   {
    "duration": 2377,
    "start_time": "2022-12-12T20:17:00.938Z"
   },
   {
    "duration": 7,
    "start_time": "2022-12-12T20:17:03.317Z"
   },
   {
    "duration": 8,
    "start_time": "2022-12-12T20:17:03.326Z"
   },
   {
    "duration": 11,
    "start_time": "2022-12-12T20:17:03.336Z"
   },
   {
    "duration": 15,
    "start_time": "2022-12-12T20:17:03.349Z"
   },
   {
    "duration": 17,
    "start_time": "2022-12-12T20:17:03.365Z"
   },
   {
    "duration": 3,
    "start_time": "2022-12-12T20:17:03.383Z"
   },
   {
    "duration": 19,
    "start_time": "2022-12-12T20:17:03.387Z"
   },
   {
    "duration": 10,
    "start_time": "2022-12-12T20:17:03.407Z"
   },
   {
    "duration": 22,
    "start_time": "2022-12-12T20:17:03.419Z"
   },
   {
    "duration": 4,
    "start_time": "2022-12-12T20:17:03.443Z"
   },
   {
    "duration": 27835,
    "start_time": "2022-12-12T20:17:03.448Z"
   },
   {
    "duration": 537,
    "start_time": "2022-12-12T20:17:31.286Z"
   },
   {
    "duration": 103536,
    "start_time": "2022-12-12T20:17:31.825Z"
   },
   {
    "duration": 15,
    "start_time": "2022-12-12T20:19:15.363Z"
   },
   {
    "duration": 10,
    "start_time": "2022-12-12T20:19:15.381Z"
   },
   {
    "duration": 23387,
    "start_time": "2022-12-12T20:19:15.392Z"
   },
   {
    "duration": 394,
    "start_time": "2022-12-12T20:19:38.781Z"
   },
   {
    "duration": 75507,
    "start_time": "2022-12-12T20:19:39.178Z"
   },
   {
    "duration": 137974,
    "start_time": "2022-12-12T20:20:54.687Z"
   },
   {
    "duration": 105,
    "start_time": "2022-12-12T20:23:12.663Z"
   },
   {
    "duration": 404,
    "start_time": "2022-12-12T20:27:07.808Z"
   },
   {
    "duration": 538,
    "start_time": "2022-12-12T20:27:13.620Z"
   },
   {
    "duration": 713,
    "start_time": "2022-12-12T20:27:18.557Z"
   },
   {
    "duration": 542,
    "start_time": "2022-12-12T20:28:58.522Z"
   },
   {
    "duration": 114,
    "start_time": "2022-12-12T20:33:40.280Z"
   }
  ],
  "kernelspec": {
   "display_name": "Python 3 (ipykernel)",
   "language": "python",
   "name": "python3"
  },
  "language_info": {
   "codemirror_mode": {
    "name": "ipython",
    "version": 3
   },
   "file_extension": ".py",
   "mimetype": "text/x-python",
   "name": "python",
   "nbconvert_exporter": "python",
   "pygments_lexer": "ipython3",
   "version": "3.9.5"
  },
  "toc": {
   "base_numbering": 1,
   "nav_menu": {},
   "number_sections": true,
   "sideBar": true,
   "skip_h1_title": true,
   "title_cell": "Содержание",
   "title_sidebar": "Contents",
   "toc_cell": true,
   "toc_position": {
    "height": "calc(100% - 180px)",
    "left": "10px",
    "top": "150px",
    "width": "165px"
   },
   "toc_section_display": true,
   "toc_window_display": true
  }
 },
 "nbformat": 4,
 "nbformat_minor": 2
}
