{
 "cells": [
  {
   "cell_type": "markdown",
   "metadata": {},
   "source": [
    "# Описание проекта\n",
    "\n",
    "Заказчик — интернет-магазин «Стримчик», который продаёт по всему миру компьютерные игры. Из открытых источников доступны исторические данные о продажах игр, оценки пользователей и экспертов, жанры и платформы (например, Xbox или PlayStation). Нам нужно выявить определяющие успешность игры закономерности. Это позволит сделать ставку на потенциально популярный продукт и спланировать рекламные кампании.\n",
    "\n",
    "Перед нами данные до 2016 года. Мы планируем кампанию на 2017-й."
   ]
  },
  {
   "cell_type": "markdown",
   "metadata": {},
   "source": [
    "### Открытие файла с данными и изучение общей информации"
   ]
  },
  {
   "cell_type": "code",
   "execution_count": 1,
   "metadata": {},
   "outputs": [],
   "source": [
    "import pandas as pd\n",
    "import matplotlib.pyplot as plt\n",
    "from scipy import stats as st\n",
    "import seaborn as sb\n",
    "import numpy as np"
   ]
  },
  {
   "cell_type": "code",
   "execution_count": 2,
   "metadata": {},
   "outputs": [
    {
     "name": "stdout",
     "output_type": "stream",
     "text": [
      "<class 'pandas.core.frame.DataFrame'>\n",
      "RangeIndex: 16715 entries, 0 to 16714\n",
      "Data columns (total 11 columns):\n",
      " #   Column           Non-Null Count  Dtype  \n",
      "---  ------           --------------  -----  \n",
      " 0   Name             16713 non-null  object \n",
      " 1   Platform         16715 non-null  object \n",
      " 2   Year_of_Release  16446 non-null  float64\n",
      " 3   Genre            16713 non-null  object \n",
      " 4   NA_sales         16715 non-null  float64\n",
      " 5   EU_sales         16715 non-null  float64\n",
      " 6   JP_sales         16715 non-null  float64\n",
      " 7   Other_sales      16715 non-null  float64\n",
      " 8   Critic_Score     8137 non-null   float64\n",
      " 9   User_Score       10014 non-null  object \n",
      " 10  Rating           9949 non-null   object \n",
      "dtypes: float64(6), object(5)\n",
      "memory usage: 1.4+ MB\n"
     ]
    }
   ],
   "source": [
    "data = pd.read_csv('/datasets/games.csv', sep=',')\n",
    "data.info()"
   ]
  },
  {
   "cell_type": "code",
   "execution_count": 46,
   "metadata": {
    "scrolled": true
   },
   "outputs": [
    {
     "data": {
      "text/html": [
       "<div>\n",
       "<style scoped>\n",
       "    .dataframe tbody tr th:only-of-type {\n",
       "        vertical-align: middle;\n",
       "    }\n",
       "\n",
       "    .dataframe tbody tr th {\n",
       "        vertical-align: top;\n",
       "    }\n",
       "\n",
       "    .dataframe thead th {\n",
       "        text-align: right;\n",
       "    }\n",
       "</style>\n",
       "<table border=\"1\" class=\"dataframe\">\n",
       "  <thead>\n",
       "    <tr style=\"text-align: right;\">\n",
       "      <th></th>\n",
       "      <th>name</th>\n",
       "      <th>platform</th>\n",
       "      <th>year_of_release</th>\n",
       "      <th>genre</th>\n",
       "      <th>na_sales</th>\n",
       "      <th>eu_sales</th>\n",
       "      <th>jp_sales</th>\n",
       "      <th>other_sales</th>\n",
       "      <th>critic_score</th>\n",
       "      <th>user_score</th>\n",
       "      <th>rating</th>\n",
       "      <th>ttl_sales</th>\n",
       "    </tr>\n",
       "  </thead>\n",
       "  <tbody>\n",
       "    <tr>\n",
       "      <th>0</th>\n",
       "      <td>Wii Sports</td>\n",
       "      <td>Wii</td>\n",
       "      <td>2006</td>\n",
       "      <td>Sports</td>\n",
       "      <td>41.36</td>\n",
       "      <td>28.96</td>\n",
       "      <td>3.77</td>\n",
       "      <td>8.45</td>\n",
       "      <td>76</td>\n",
       "      <td>8.0</td>\n",
       "      <td>E</td>\n",
       "      <td>82.54</td>\n",
       "    </tr>\n",
       "    <tr>\n",
       "      <th>1</th>\n",
       "      <td>Super Mario Bros.</td>\n",
       "      <td>NES</td>\n",
       "      <td>1985</td>\n",
       "      <td>Platform</td>\n",
       "      <td>29.08</td>\n",
       "      <td>3.58</td>\n",
       "      <td>6.81</td>\n",
       "      <td>0.77</td>\n",
       "      <td>&lt;NA&gt;</td>\n",
       "      <td>NaN</td>\n",
       "      <td>Unrated</td>\n",
       "      <td>40.24</td>\n",
       "    </tr>\n",
       "    <tr>\n",
       "      <th>2</th>\n",
       "      <td>Mario Kart Wii</td>\n",
       "      <td>Wii</td>\n",
       "      <td>2008</td>\n",
       "      <td>Racing</td>\n",
       "      <td>15.68</td>\n",
       "      <td>12.76</td>\n",
       "      <td>3.79</td>\n",
       "      <td>3.29</td>\n",
       "      <td>82</td>\n",
       "      <td>8.3</td>\n",
       "      <td>E</td>\n",
       "      <td>35.52</td>\n",
       "    </tr>\n",
       "    <tr>\n",
       "      <th>3</th>\n",
       "      <td>Wii Sports Resort</td>\n",
       "      <td>Wii</td>\n",
       "      <td>2009</td>\n",
       "      <td>Sports</td>\n",
       "      <td>15.61</td>\n",
       "      <td>10.93</td>\n",
       "      <td>3.28</td>\n",
       "      <td>2.95</td>\n",
       "      <td>80</td>\n",
       "      <td>8.0</td>\n",
       "      <td>E</td>\n",
       "      <td>32.77</td>\n",
       "    </tr>\n",
       "    <tr>\n",
       "      <th>4</th>\n",
       "      <td>Pokemon Red/Pokemon Blue</td>\n",
       "      <td>GB</td>\n",
       "      <td>1996</td>\n",
       "      <td>Role-Playing</td>\n",
       "      <td>11.27</td>\n",
       "      <td>8.89</td>\n",
       "      <td>10.22</td>\n",
       "      <td>1.00</td>\n",
       "      <td>&lt;NA&gt;</td>\n",
       "      <td>NaN</td>\n",
       "      <td>Unrated</td>\n",
       "      <td>31.38</td>\n",
       "    </tr>\n",
       "  </tbody>\n",
       "</table>\n",
       "</div>"
      ],
      "text/plain": [
       "                       name platform  year_of_release         genre  na_sales  \\\n",
       "0                Wii Sports      Wii             2006        Sports     41.36   \n",
       "1         Super Mario Bros.      NES             1985      Platform     29.08   \n",
       "2            Mario Kart Wii      Wii             2008        Racing     15.68   \n",
       "3         Wii Sports Resort      Wii             2009        Sports     15.61   \n",
       "4  Pokemon Red/Pokemon Blue       GB             1996  Role-Playing     11.27   \n",
       "\n",
       "   eu_sales  jp_sales  other_sales  critic_score  user_score   rating  \\\n",
       "0     28.96      3.77         8.45            76         8.0        E   \n",
       "1      3.58      6.81         0.77          <NA>         NaN  Unrated   \n",
       "2     12.76      3.79         3.29            82         8.3        E   \n",
       "3     10.93      3.28         2.95            80         8.0        E   \n",
       "4      8.89     10.22         1.00          <NA>         NaN  Unrated   \n",
       "\n",
       "   ttl_sales  \n",
       "0      82.54  \n",
       "1      40.24  \n",
       "2      35.52  \n",
       "3      32.77  \n",
       "4      31.38  "
      ]
     },
     "execution_count": 46,
     "metadata": {},
     "output_type": "execute_result"
    }
   ],
   "source": [
    "data.head()"
   ]
  },
  {
   "cell_type": "markdown",
   "metadata": {},
   "source": [
    "### Подготовка данных"
   ]
  },
  {
   "cell_type": "markdown",
   "metadata": {},
   "source": [
    "#### Замена названий столбцов"
   ]
  },
  {
   "cell_type": "code",
   "execution_count": 4,
   "metadata": {
    "scrolled": true
   },
   "outputs": [
    {
     "data": {
      "text/html": [
       "<div>\n",
       "<style scoped>\n",
       "    .dataframe tbody tr th:only-of-type {\n",
       "        vertical-align: middle;\n",
       "    }\n",
       "\n",
       "    .dataframe tbody tr th {\n",
       "        vertical-align: top;\n",
       "    }\n",
       "\n",
       "    .dataframe thead th {\n",
       "        text-align: right;\n",
       "    }\n",
       "</style>\n",
       "<table border=\"1\" class=\"dataframe\">\n",
       "  <thead>\n",
       "    <tr style=\"text-align: right;\">\n",
       "      <th></th>\n",
       "      <th>name</th>\n",
       "      <th>platform</th>\n",
       "      <th>year_of_release</th>\n",
       "      <th>genre</th>\n",
       "      <th>na_sales</th>\n",
       "      <th>eu_sales</th>\n",
       "      <th>jp_sales</th>\n",
       "      <th>other_sales</th>\n",
       "      <th>critic_score</th>\n",
       "      <th>user_score</th>\n",
       "      <th>rating</th>\n",
       "    </tr>\n",
       "  </thead>\n",
       "  <tbody>\n",
       "    <tr>\n",
       "      <th>0</th>\n",
       "      <td>Wii Sports</td>\n",
       "      <td>Wii</td>\n",
       "      <td>2006.0</td>\n",
       "      <td>Sports</td>\n",
       "      <td>41.36</td>\n",
       "      <td>28.96</td>\n",
       "      <td>3.77</td>\n",
       "      <td>8.45</td>\n",
       "      <td>76.0</td>\n",
       "      <td>8</td>\n",
       "      <td>E</td>\n",
       "    </tr>\n",
       "    <tr>\n",
       "      <th>1</th>\n",
       "      <td>Super Mario Bros.</td>\n",
       "      <td>NES</td>\n",
       "      <td>1985.0</td>\n",
       "      <td>Platform</td>\n",
       "      <td>29.08</td>\n",
       "      <td>3.58</td>\n",
       "      <td>6.81</td>\n",
       "      <td>0.77</td>\n",
       "      <td>NaN</td>\n",
       "      <td>NaN</td>\n",
       "      <td>NaN</td>\n",
       "    </tr>\n",
       "    <tr>\n",
       "      <th>2</th>\n",
       "      <td>Mario Kart Wii</td>\n",
       "      <td>Wii</td>\n",
       "      <td>2008.0</td>\n",
       "      <td>Racing</td>\n",
       "      <td>15.68</td>\n",
       "      <td>12.76</td>\n",
       "      <td>3.79</td>\n",
       "      <td>3.29</td>\n",
       "      <td>82.0</td>\n",
       "      <td>8.3</td>\n",
       "      <td>E</td>\n",
       "    </tr>\n",
       "    <tr>\n",
       "      <th>3</th>\n",
       "      <td>Wii Sports Resort</td>\n",
       "      <td>Wii</td>\n",
       "      <td>2009.0</td>\n",
       "      <td>Sports</td>\n",
       "      <td>15.61</td>\n",
       "      <td>10.93</td>\n",
       "      <td>3.28</td>\n",
       "      <td>2.95</td>\n",
       "      <td>80.0</td>\n",
       "      <td>8</td>\n",
       "      <td>E</td>\n",
       "    </tr>\n",
       "    <tr>\n",
       "      <th>4</th>\n",
       "      <td>Pokemon Red/Pokemon Blue</td>\n",
       "      <td>GB</td>\n",
       "      <td>1996.0</td>\n",
       "      <td>Role-Playing</td>\n",
       "      <td>11.27</td>\n",
       "      <td>8.89</td>\n",
       "      <td>10.22</td>\n",
       "      <td>1.00</td>\n",
       "      <td>NaN</td>\n",
       "      <td>NaN</td>\n",
       "      <td>NaN</td>\n",
       "    </tr>\n",
       "    <tr>\n",
       "      <th>...</th>\n",
       "      <td>...</td>\n",
       "      <td>...</td>\n",
       "      <td>...</td>\n",
       "      <td>...</td>\n",
       "      <td>...</td>\n",
       "      <td>...</td>\n",
       "      <td>...</td>\n",
       "      <td>...</td>\n",
       "      <td>...</td>\n",
       "      <td>...</td>\n",
       "      <td>...</td>\n",
       "    </tr>\n",
       "    <tr>\n",
       "      <th>16710</th>\n",
       "      <td>Samurai Warriors: Sanada Maru</td>\n",
       "      <td>PS3</td>\n",
       "      <td>2016.0</td>\n",
       "      <td>Action</td>\n",
       "      <td>0.00</td>\n",
       "      <td>0.00</td>\n",
       "      <td>0.01</td>\n",
       "      <td>0.00</td>\n",
       "      <td>NaN</td>\n",
       "      <td>NaN</td>\n",
       "      <td>NaN</td>\n",
       "    </tr>\n",
       "    <tr>\n",
       "      <th>16711</th>\n",
       "      <td>LMA Manager 2007</td>\n",
       "      <td>X360</td>\n",
       "      <td>2006.0</td>\n",
       "      <td>Sports</td>\n",
       "      <td>0.00</td>\n",
       "      <td>0.01</td>\n",
       "      <td>0.00</td>\n",
       "      <td>0.00</td>\n",
       "      <td>NaN</td>\n",
       "      <td>NaN</td>\n",
       "      <td>NaN</td>\n",
       "    </tr>\n",
       "    <tr>\n",
       "      <th>16712</th>\n",
       "      <td>Haitaka no Psychedelica</td>\n",
       "      <td>PSV</td>\n",
       "      <td>2016.0</td>\n",
       "      <td>Adventure</td>\n",
       "      <td>0.00</td>\n",
       "      <td>0.00</td>\n",
       "      <td>0.01</td>\n",
       "      <td>0.00</td>\n",
       "      <td>NaN</td>\n",
       "      <td>NaN</td>\n",
       "      <td>NaN</td>\n",
       "    </tr>\n",
       "    <tr>\n",
       "      <th>16713</th>\n",
       "      <td>Spirits &amp; Spells</td>\n",
       "      <td>GBA</td>\n",
       "      <td>2003.0</td>\n",
       "      <td>Platform</td>\n",
       "      <td>0.01</td>\n",
       "      <td>0.00</td>\n",
       "      <td>0.00</td>\n",
       "      <td>0.00</td>\n",
       "      <td>NaN</td>\n",
       "      <td>NaN</td>\n",
       "      <td>NaN</td>\n",
       "    </tr>\n",
       "    <tr>\n",
       "      <th>16714</th>\n",
       "      <td>Winning Post 8 2016</td>\n",
       "      <td>PSV</td>\n",
       "      <td>2016.0</td>\n",
       "      <td>Simulation</td>\n",
       "      <td>0.00</td>\n",
       "      <td>0.00</td>\n",
       "      <td>0.01</td>\n",
       "      <td>0.00</td>\n",
       "      <td>NaN</td>\n",
       "      <td>NaN</td>\n",
       "      <td>NaN</td>\n",
       "    </tr>\n",
       "  </tbody>\n",
       "</table>\n",
       "<p>16715 rows × 11 columns</p>\n",
       "</div>"
      ],
      "text/plain": [
       "                                name platform  year_of_release         genre  \\\n",
       "0                         Wii Sports      Wii           2006.0        Sports   \n",
       "1                  Super Mario Bros.      NES           1985.0      Platform   \n",
       "2                     Mario Kart Wii      Wii           2008.0        Racing   \n",
       "3                  Wii Sports Resort      Wii           2009.0        Sports   \n",
       "4           Pokemon Red/Pokemon Blue       GB           1996.0  Role-Playing   \n",
       "...                              ...      ...              ...           ...   \n",
       "16710  Samurai Warriors: Sanada Maru      PS3           2016.0        Action   \n",
       "16711               LMA Manager 2007     X360           2006.0        Sports   \n",
       "16712        Haitaka no Psychedelica      PSV           2016.0     Adventure   \n",
       "16713               Spirits & Spells      GBA           2003.0      Platform   \n",
       "16714            Winning Post 8 2016      PSV           2016.0    Simulation   \n",
       "\n",
       "       na_sales  eu_sales  jp_sales  other_sales  critic_score user_score  \\\n",
       "0         41.36     28.96      3.77         8.45          76.0          8   \n",
       "1         29.08      3.58      6.81         0.77           NaN        NaN   \n",
       "2         15.68     12.76      3.79         3.29          82.0        8.3   \n",
       "3         15.61     10.93      3.28         2.95          80.0          8   \n",
       "4         11.27      8.89     10.22         1.00           NaN        NaN   \n",
       "...         ...       ...       ...          ...           ...        ...   \n",
       "16710      0.00      0.00      0.01         0.00           NaN        NaN   \n",
       "16711      0.00      0.01      0.00         0.00           NaN        NaN   \n",
       "16712      0.00      0.00      0.01         0.00           NaN        NaN   \n",
       "16713      0.01      0.00      0.00         0.00           NaN        NaN   \n",
       "16714      0.00      0.00      0.01         0.00           NaN        NaN   \n",
       "\n",
       "      rating  \n",
       "0          E  \n",
       "1        NaN  \n",
       "2          E  \n",
       "3          E  \n",
       "4        NaN  \n",
       "...      ...  \n",
       "16710    NaN  \n",
       "16711    NaN  \n",
       "16712    NaN  \n",
       "16713    NaN  \n",
       "16714    NaN  \n",
       "\n",
       "[16715 rows x 11 columns]"
      ]
     },
     "execution_count": 4,
     "metadata": {},
     "output_type": "execute_result"
    }
   ],
   "source": [
    "data.columns = data.columns.str.lower()\n",
    "data.columns"
   ]
  },
  {
   "cell_type": "markdown",
   "metadata": {},
   "source": [
    "Было принято решение привести все названия столбцов к нижнему регистру. "
   ]
  },
  {
   "cell_type": "markdown",
   "metadata": {},
   "source": [
    "#### Преобразование типов данных"
   ]
  },
  {
   "cell_type": "code",
   "execution_count": 5,
   "metadata": {},
   "outputs": [
    {
     "data": {
      "text/html": [
       "<div>\n",
       "<style scoped>\n",
       "    .dataframe tbody tr th:only-of-type {\n",
       "        vertical-align: middle;\n",
       "    }\n",
       "\n",
       "    .dataframe tbody tr th {\n",
       "        vertical-align: top;\n",
       "    }\n",
       "\n",
       "    .dataframe thead th {\n",
       "        text-align: right;\n",
       "    }\n",
       "</style>\n",
       "<table border=\"1\" class=\"dataframe\">\n",
       "  <thead>\n",
       "    <tr style=\"text-align: right;\">\n",
       "      <th></th>\n",
       "      <th>name</th>\n",
       "      <th>platform</th>\n",
       "      <th>year_of_release</th>\n",
       "      <th>genre</th>\n",
       "      <th>na_sales</th>\n",
       "      <th>eu_sales</th>\n",
       "      <th>jp_sales</th>\n",
       "      <th>other_sales</th>\n",
       "      <th>critic_score</th>\n",
       "      <th>user_score</th>\n",
       "      <th>rating</th>\n",
       "    </tr>\n",
       "  </thead>\n",
       "  <tbody>\n",
       "    <tr>\n",
       "      <th>0</th>\n",
       "      <td>Wii Sports</td>\n",
       "      <td>Wii</td>\n",
       "      <td>2006</td>\n",
       "      <td>Sports</td>\n",
       "      <td>41.36</td>\n",
       "      <td>28.96</td>\n",
       "      <td>3.77</td>\n",
       "      <td>8.45</td>\n",
       "      <td>76.0</td>\n",
       "      <td>8</td>\n",
       "      <td>E</td>\n",
       "    </tr>\n",
       "    <tr>\n",
       "      <th>1</th>\n",
       "      <td>Super Mario Bros.</td>\n",
       "      <td>NES</td>\n",
       "      <td>1985</td>\n",
       "      <td>Platform</td>\n",
       "      <td>29.08</td>\n",
       "      <td>3.58</td>\n",
       "      <td>6.81</td>\n",
       "      <td>0.77</td>\n",
       "      <td>NaN</td>\n",
       "      <td>NaN</td>\n",
       "      <td>NaN</td>\n",
       "    </tr>\n",
       "    <tr>\n",
       "      <th>2</th>\n",
       "      <td>Mario Kart Wii</td>\n",
       "      <td>Wii</td>\n",
       "      <td>2008</td>\n",
       "      <td>Racing</td>\n",
       "      <td>15.68</td>\n",
       "      <td>12.76</td>\n",
       "      <td>3.79</td>\n",
       "      <td>3.29</td>\n",
       "      <td>82.0</td>\n",
       "      <td>8.3</td>\n",
       "      <td>E</td>\n",
       "    </tr>\n",
       "    <tr>\n",
       "      <th>3</th>\n",
       "      <td>Wii Sports Resort</td>\n",
       "      <td>Wii</td>\n",
       "      <td>2009</td>\n",
       "      <td>Sports</td>\n",
       "      <td>15.61</td>\n",
       "      <td>10.93</td>\n",
       "      <td>3.28</td>\n",
       "      <td>2.95</td>\n",
       "      <td>80.0</td>\n",
       "      <td>8</td>\n",
       "      <td>E</td>\n",
       "    </tr>\n",
       "    <tr>\n",
       "      <th>4</th>\n",
       "      <td>Pokemon Red/Pokemon Blue</td>\n",
       "      <td>GB</td>\n",
       "      <td>1996</td>\n",
       "      <td>Role-Playing</td>\n",
       "      <td>11.27</td>\n",
       "      <td>8.89</td>\n",
       "      <td>10.22</td>\n",
       "      <td>1.00</td>\n",
       "      <td>NaN</td>\n",
       "      <td>NaN</td>\n",
       "      <td>NaN</td>\n",
       "    </tr>\n",
       "  </tbody>\n",
       "</table>\n",
       "</div>"
      ],
      "text/plain": [
       "                       name platform  year_of_release         genre  na_sales  \\\n",
       "0                Wii Sports      Wii             2006        Sports     41.36   \n",
       "1         Super Mario Bros.      NES             1985      Platform     29.08   \n",
       "2            Mario Kart Wii      Wii             2008        Racing     15.68   \n",
       "3         Wii Sports Resort      Wii             2009        Sports     15.61   \n",
       "4  Pokemon Red/Pokemon Blue       GB             1996  Role-Playing     11.27   \n",
       "\n",
       "   eu_sales  jp_sales  other_sales  critic_score user_score rating  \n",
       "0     28.96      3.77         8.45          76.0          8      E  \n",
       "1      3.58      6.81         0.77           NaN        NaN    NaN  \n",
       "2     12.76      3.79         3.29          82.0        8.3      E  \n",
       "3     10.93      3.28         2.95          80.0          8      E  \n",
       "4      8.89     10.22         1.00           NaN        NaN    NaN  "
      ]
     },
     "execution_count": 5,
     "metadata": {},
     "output_type": "execute_result"
    }
   ],
   "source": [
    "data['year_of_release'] = data['year_of_release'].astype('Int64')\n",
    "data.head()"
   ]
  },
  {
   "cell_type": "markdown",
   "metadata": {},
   "source": [
    "Так как год представляет собой целое число, было принято решение изменить формат с `float64` на `Int64`."
   ]
  },
  {
   "cell_type": "code",
   "execution_count": 6,
   "metadata": {},
   "outputs": [
    {
     "name": "stdout",
     "output_type": "stream",
     "text": [
      "[13. 17. 19. 20. 21. 22. 23. 24. 25. 26. 27. 28. 29. 30. 31. 32. 33. 34.\n",
      " 35. 36. 37. 38. 39. 40. 41. 42. 43. 44. 45. 46. 47. 48. 49. 50. 51. 52.\n",
      " 53. 54. 55. 56. 57. 58. 59. 60. 61. 62. 63. 64. 65. 66. 67. 68. 69. 70.\n",
      " 71. 72. 73. 74. 75. 76. 77. 78. 79. 80. 81. 82. 83. 84. 85. 86. 87. 88.\n",
      " 89. 90. 91. 92. 93. 94. 95. 96. 97. 98. nan]\n"
     ]
    }
   ],
   "source": [
    "print(data['critic_score'].sort_values().unique())"
   ]
  },
  {
   "cell_type": "markdown",
   "metadata": {},
   "source": [
    "Визуальная проверка значений столбца на целочисленность."
   ]
  },
  {
   "cell_type": "code",
   "execution_count": 7,
   "metadata": {
    "scrolled": true
   },
   "outputs": [
    {
     "data": {
      "text/html": [
       "<div>\n",
       "<style scoped>\n",
       "    .dataframe tbody tr th:only-of-type {\n",
       "        vertical-align: middle;\n",
       "    }\n",
       "\n",
       "    .dataframe tbody tr th {\n",
       "        vertical-align: top;\n",
       "    }\n",
       "\n",
       "    .dataframe thead th {\n",
       "        text-align: right;\n",
       "    }\n",
       "</style>\n",
       "<table border=\"1\" class=\"dataframe\">\n",
       "  <thead>\n",
       "    <tr style=\"text-align: right;\">\n",
       "      <th></th>\n",
       "      <th>name</th>\n",
       "      <th>platform</th>\n",
       "      <th>year_of_release</th>\n",
       "      <th>genre</th>\n",
       "      <th>na_sales</th>\n",
       "      <th>eu_sales</th>\n",
       "      <th>jp_sales</th>\n",
       "      <th>other_sales</th>\n",
       "      <th>critic_score</th>\n",
       "      <th>user_score</th>\n",
       "      <th>rating</th>\n",
       "    </tr>\n",
       "  </thead>\n",
       "  <tbody>\n",
       "    <tr>\n",
       "      <th>0</th>\n",
       "      <td>Wii Sports</td>\n",
       "      <td>Wii</td>\n",
       "      <td>2006</td>\n",
       "      <td>Sports</td>\n",
       "      <td>41.36</td>\n",
       "      <td>28.96</td>\n",
       "      <td>3.77</td>\n",
       "      <td>8.45</td>\n",
       "      <td>76</td>\n",
       "      <td>8</td>\n",
       "      <td>E</td>\n",
       "    </tr>\n",
       "    <tr>\n",
       "      <th>1</th>\n",
       "      <td>Super Mario Bros.</td>\n",
       "      <td>NES</td>\n",
       "      <td>1985</td>\n",
       "      <td>Platform</td>\n",
       "      <td>29.08</td>\n",
       "      <td>3.58</td>\n",
       "      <td>6.81</td>\n",
       "      <td>0.77</td>\n",
       "      <td>&lt;NA&gt;</td>\n",
       "      <td>NaN</td>\n",
       "      <td>NaN</td>\n",
       "    </tr>\n",
       "    <tr>\n",
       "      <th>2</th>\n",
       "      <td>Mario Kart Wii</td>\n",
       "      <td>Wii</td>\n",
       "      <td>2008</td>\n",
       "      <td>Racing</td>\n",
       "      <td>15.68</td>\n",
       "      <td>12.76</td>\n",
       "      <td>3.79</td>\n",
       "      <td>3.29</td>\n",
       "      <td>82</td>\n",
       "      <td>8.3</td>\n",
       "      <td>E</td>\n",
       "    </tr>\n",
       "    <tr>\n",
       "      <th>3</th>\n",
       "      <td>Wii Sports Resort</td>\n",
       "      <td>Wii</td>\n",
       "      <td>2009</td>\n",
       "      <td>Sports</td>\n",
       "      <td>15.61</td>\n",
       "      <td>10.93</td>\n",
       "      <td>3.28</td>\n",
       "      <td>2.95</td>\n",
       "      <td>80</td>\n",
       "      <td>8</td>\n",
       "      <td>E</td>\n",
       "    </tr>\n",
       "    <tr>\n",
       "      <th>4</th>\n",
       "      <td>Pokemon Red/Pokemon Blue</td>\n",
       "      <td>GB</td>\n",
       "      <td>1996</td>\n",
       "      <td>Role-Playing</td>\n",
       "      <td>11.27</td>\n",
       "      <td>8.89</td>\n",
       "      <td>10.22</td>\n",
       "      <td>1.00</td>\n",
       "      <td>&lt;NA&gt;</td>\n",
       "      <td>NaN</td>\n",
       "      <td>NaN</td>\n",
       "    </tr>\n",
       "  </tbody>\n",
       "</table>\n",
       "</div>"
      ],
      "text/plain": [
       "                       name platform  year_of_release         genre  na_sales  \\\n",
       "0                Wii Sports      Wii             2006        Sports     41.36   \n",
       "1         Super Mario Bros.      NES             1985      Platform     29.08   \n",
       "2            Mario Kart Wii      Wii             2008        Racing     15.68   \n",
       "3         Wii Sports Resort      Wii             2009        Sports     15.61   \n",
       "4  Pokemon Red/Pokemon Blue       GB             1996  Role-Playing     11.27   \n",
       "\n",
       "   eu_sales  jp_sales  other_sales  critic_score user_score rating  \n",
       "0     28.96      3.77         8.45            76          8      E  \n",
       "1      3.58      6.81         0.77          <NA>        NaN    NaN  \n",
       "2     12.76      3.79         3.29            82        8.3      E  \n",
       "3     10.93      3.28         2.95            80          8      E  \n",
       "4      8.89     10.22         1.00          <NA>        NaN    NaN  "
      ]
     },
     "execution_count": 7,
     "metadata": {},
     "output_type": "execute_result"
    }
   ],
   "source": [
    "data['critic_score'] = data['critic_score'].astype('Int64')\n",
    "data.head()"
   ]
  },
  {
   "cell_type": "markdown",
   "metadata": {},
   "source": [
    "Здесь представлена целочисленная система оценки, так что вновь преобразовали формат данных в `Int64`."
   ]
  },
  {
   "cell_type": "code",
   "execution_count": 8,
   "metadata": {
    "scrolled": true
   },
   "outputs": [
    {
     "name": "stdout",
     "output_type": "stream",
     "text": [
      "['0' '0.2' '0.3' '0.5' '0.6' '0.7' '0.9' '1' '1.1' '1.2' '1.3' '1.4' '1.5'\n",
      " '1.6' '1.7' '1.8' '1.9' '2' '2.1' '2.2' '2.3' '2.4' '2.5' '2.6' '2.7'\n",
      " '2.8' '2.9' '3' '3.1' '3.2' '3.3' '3.4' '3.5' '3.6' '3.7' '3.8' '3.9' '4'\n",
      " '4.1' '4.2' '4.3' '4.4' '4.5' '4.6' '4.7' '4.8' '4.9' '5' '5.1' '5.2'\n",
      " '5.3' '5.4' '5.5' '5.6' '5.7' '5.8' '5.9' '6' '6.1' '6.2' '6.3' '6.4'\n",
      " '6.5' '6.6' '6.7' '6.8' '6.9' '7' '7.1' '7.2' '7.3' '7.4' '7.5' '7.6'\n",
      " '7.7' '7.8' '7.9' '8' '8.1' '8.2' '8.3' '8.4' '8.5' '8.6' '8.7' '8.8'\n",
      " '8.9' '9' '9.1' '9.2' '9.3' '9.4' '9.5' '9.6' '9.7' 'tbd' nan]\n"
     ]
    }
   ],
   "source": [
    "print(data['user_score'].sort_values().unique())"
   ]
  },
  {
   "cell_type": "markdown",
   "metadata": {},
   "source": [
    "Визуальная проверка значений столбца на целочисленность показала, что в значениях изучаемого столбца есть `tbd`, означающее, что оценка еще не определена.   \n",
    "Преобразуем эти значения в `nan`."
   ]
  },
  {
   "cell_type": "code",
   "execution_count": 9,
   "metadata": {},
   "outputs": [
    {
     "name": "stdout",
     "output_type": "stream",
     "text": [
      "[0.  0.2 0.3 0.5 0.6 0.7 0.9 1.  1.1 1.2 1.3 1.4 1.5 1.6 1.7 1.8 1.9 2.\n",
      " 2.1 2.2 2.3 2.4 2.5 2.6 2.7 2.8 2.9 3.  3.1 3.2 3.3 3.4 3.5 3.6 3.7 3.8\n",
      " 3.9 4.  4.1 4.2 4.3 4.4 4.5 4.6 4.7 4.8 4.9 5.  5.1 5.2 5.3 5.4 5.5 5.6\n",
      " 5.7 5.8 5.9 6.  6.1 6.2 6.3 6.4 6.5 6.6 6.7 6.8 6.9 7.  7.1 7.2 7.3 7.4\n",
      " 7.5 7.6 7.7 7.8 7.9 8.  8.1 8.2 8.3 8.4 8.5 8.6 8.7 8.8 8.9 9.  9.1 9.2\n",
      " 9.3 9.4 9.5 9.6 9.7 nan]\n"
     ]
    }
   ],
   "source": [
    "data = data.replace('tbd',np.NaN)\n",
    "data['user_score'] = data['user_score'].astype('float64')\n",
    "print(data['user_score'].sort_values().unique())"
   ]
  },
  {
   "cell_type": "code",
   "execution_count": 10,
   "metadata": {
    "scrolled": true
   },
   "outputs": [
    {
     "name": "stdout",
     "output_type": "stream",
     "text": [
      "<class 'pandas.core.frame.DataFrame'>\n",
      "RangeIndex: 16715 entries, 0 to 16714\n",
      "Data columns (total 11 columns):\n",
      " #   Column           Non-Null Count  Dtype  \n",
      "---  ------           --------------  -----  \n",
      " 0   name             16713 non-null  object \n",
      " 1   platform         16715 non-null  object \n",
      " 2   year_of_release  16446 non-null  Int64  \n",
      " 3   genre            16713 non-null  object \n",
      " 4   na_sales         16715 non-null  float64\n",
      " 5   eu_sales         16715 non-null  float64\n",
      " 6   jp_sales         16715 non-null  float64\n",
      " 7   other_sales      16715 non-null  float64\n",
      " 8   critic_score     8137 non-null   Int64  \n",
      " 9   user_score       7590 non-null   float64\n",
      " 10  rating           9949 non-null   object \n",
      "dtypes: Int64(2), float64(5), object(4)\n",
      "memory usage: 1.4+ MB\n"
     ]
    }
   ],
   "source": [
    "data.info()"
   ]
  },
  {
   "cell_type": "markdown",
   "metadata": {},
   "source": [
    "#### Обработка пропусков"
   ]
  },
  {
   "cell_type": "code",
   "execution_count": 11,
   "metadata": {
    "scrolled": true
   },
   "outputs": [
    {
     "data": {
      "text/html": [
       "<div>\n",
       "<style scoped>\n",
       "    .dataframe tbody tr th:only-of-type {\n",
       "        vertical-align: middle;\n",
       "    }\n",
       "\n",
       "    .dataframe tbody tr th {\n",
       "        vertical-align: top;\n",
       "    }\n",
       "\n",
       "    .dataframe thead th {\n",
       "        text-align: right;\n",
       "    }\n",
       "</style>\n",
       "<table border=\"1\" class=\"dataframe\">\n",
       "  <thead>\n",
       "    <tr style=\"text-align: right;\">\n",
       "      <th></th>\n",
       "      <th>name</th>\n",
       "      <th>platform</th>\n",
       "      <th>year_of_release</th>\n",
       "      <th>genre</th>\n",
       "      <th>na_sales</th>\n",
       "      <th>eu_sales</th>\n",
       "      <th>jp_sales</th>\n",
       "      <th>other_sales</th>\n",
       "      <th>critic_score</th>\n",
       "      <th>user_score</th>\n",
       "      <th>rating</th>\n",
       "    </tr>\n",
       "  </thead>\n",
       "  <tbody>\n",
       "    <tr>\n",
       "      <th>659</th>\n",
       "      <td>NaN</td>\n",
       "      <td>GEN</td>\n",
       "      <td>1993</td>\n",
       "      <td>NaN</td>\n",
       "      <td>1.78</td>\n",
       "      <td>0.53</td>\n",
       "      <td>0.00</td>\n",
       "      <td>0.08</td>\n",
       "      <td>&lt;NA&gt;</td>\n",
       "      <td>NaN</td>\n",
       "      <td>NaN</td>\n",
       "    </tr>\n",
       "    <tr>\n",
       "      <th>14244</th>\n",
       "      <td>NaN</td>\n",
       "      <td>GEN</td>\n",
       "      <td>1993</td>\n",
       "      <td>NaN</td>\n",
       "      <td>0.00</td>\n",
       "      <td>0.00</td>\n",
       "      <td>0.03</td>\n",
       "      <td>0.00</td>\n",
       "      <td>&lt;NA&gt;</td>\n",
       "      <td>NaN</td>\n",
       "      <td>NaN</td>\n",
       "    </tr>\n",
       "  </tbody>\n",
       "</table>\n",
       "</div>"
      ],
      "text/plain": [
       "      name platform  year_of_release genre  na_sales  eu_sales  jp_sales  \\\n",
       "659    NaN      GEN             1993   NaN      1.78      0.53      0.00   \n",
       "14244  NaN      GEN             1993   NaN      0.00      0.00      0.03   \n",
       "\n",
       "       other_sales  critic_score  user_score rating  \n",
       "659           0.08          <NA>         NaN    NaN  \n",
       "14244         0.00          <NA>         NaN    NaN  "
      ]
     },
     "metadata": {},
     "output_type": "display_data"
    }
   ],
   "source": [
    "display(data.loc[data['name'].isna() == True])\n",
    "data = (data.loc[data['name'].isna() == False]).reset_index(drop=True)"
   ]
  },
  {
   "cell_type": "markdown",
   "metadata": {},
   "source": [
    "2 строки в этом датафрейме имеют слишком мало данных, поэтому удалим их для увеличения степени объективности последующих исследований."
   ]
  },
  {
   "cell_type": "code",
   "execution_count": 12,
   "metadata": {},
   "outputs": [],
   "source": [
    "data['year_of_release'] = data['year_of_release'].fillna(data[data['platform'] != 'PC'].groupby('platform')['year_of_release'].transform('median'))"
   ]
  },
  {
   "cell_type": "markdown",
   "metadata": {},
   "source": [
    "Также мы частично заполнили пропуски `year_of_release`, все строки были заполнены медианой в зависимости от платформы (логика таких действий заключается в том, что платформы часто сменяют друг друга, из-за чего разброс в годах не такой большой; исключением стал `PC`, так как эта платформа существует долгие годы, поэтому брать медиану по этим строкам было бы ошибкой)."
   ]
  },
  {
   "cell_type": "code",
   "execution_count": 13,
   "metadata": {},
   "outputs": [],
   "source": [
    "data['rating'] = data['rating'].fillna('Unrated')"
   ]
  },
  {
   "cell_type": "markdown",
   "metadata": {},
   "source": [
    "Заполним пропуски в столбце рейтинг значением `Unrated`. Подозреваем, что отсутствие рейтинга связано с тем, что его ещё не определили, либо продукт не был оценен агенством ESRB."
   ]
  },
  {
   "cell_type": "code",
   "execution_count": 14,
   "metadata": {},
   "outputs": [
    {
     "name": "stdout",
     "output_type": "stream",
     "text": [
      "<class 'pandas.core.frame.DataFrame'>\n",
      "RangeIndex: 16713 entries, 0 to 16712\n",
      "Data columns (total 11 columns):\n",
      " #   Column           Non-Null Count  Dtype  \n",
      "---  ------           --------------  -----  \n",
      " 0   name             16713 non-null  object \n",
      " 1   platform         16713 non-null  object \n",
      " 2   year_of_release  16696 non-null  Int64  \n",
      " 3   genre            16713 non-null  object \n",
      " 4   na_sales         16713 non-null  float64\n",
      " 5   eu_sales         16713 non-null  float64\n",
      " 6   jp_sales         16713 non-null  float64\n",
      " 7   other_sales      16713 non-null  float64\n",
      " 8   critic_score     8137 non-null   Int64  \n",
      " 9   user_score       7590 non-null   float64\n",
      " 10  rating           16713 non-null  object \n",
      "dtypes: Int64(2), float64(5), object(4)\n",
      "memory usage: 1.4+ MB\n"
     ]
    }
   ],
   "source": [
    "data.info()"
   ]
  },
  {
   "cell_type": "markdown",
   "metadata": {},
   "source": [
    "Заполнять пропуски в последних трёх столбцах было бы необъективно, так как это оценочные данные, они всегда субъективны.\n",
    "В итоге получили такой `data.info()`."
   ]
  },
  {
   "cell_type": "markdown",
   "metadata": {},
   "source": [
    "#### Добавление нового столбца продаж"
   ]
  },
  {
   "cell_type": "code",
   "execution_count": 15,
   "metadata": {
    "scrolled": true
   },
   "outputs": [
    {
     "data": {
      "text/html": [
       "<div>\n",
       "<style scoped>\n",
       "    .dataframe tbody tr th:only-of-type {\n",
       "        vertical-align: middle;\n",
       "    }\n",
       "\n",
       "    .dataframe tbody tr th {\n",
       "        vertical-align: top;\n",
       "    }\n",
       "\n",
       "    .dataframe thead th {\n",
       "        text-align: right;\n",
       "    }\n",
       "</style>\n",
       "<table border=\"1\" class=\"dataframe\">\n",
       "  <thead>\n",
       "    <tr style=\"text-align: right;\">\n",
       "      <th></th>\n",
       "      <th>name</th>\n",
       "      <th>platform</th>\n",
       "      <th>year_of_release</th>\n",
       "      <th>genre</th>\n",
       "      <th>na_sales</th>\n",
       "      <th>eu_sales</th>\n",
       "      <th>jp_sales</th>\n",
       "      <th>other_sales</th>\n",
       "      <th>critic_score</th>\n",
       "      <th>user_score</th>\n",
       "      <th>rating</th>\n",
       "      <th>ttl_sales</th>\n",
       "    </tr>\n",
       "  </thead>\n",
       "  <tbody>\n",
       "    <tr>\n",
       "      <th>0</th>\n",
       "      <td>Wii Sports</td>\n",
       "      <td>Wii</td>\n",
       "      <td>2006</td>\n",
       "      <td>Sports</td>\n",
       "      <td>41.36</td>\n",
       "      <td>28.96</td>\n",
       "      <td>3.77</td>\n",
       "      <td>8.45</td>\n",
       "      <td>76</td>\n",
       "      <td>8.0</td>\n",
       "      <td>E</td>\n",
       "      <td>82.54</td>\n",
       "    </tr>\n",
       "    <tr>\n",
       "      <th>1</th>\n",
       "      <td>Super Mario Bros.</td>\n",
       "      <td>NES</td>\n",
       "      <td>1985</td>\n",
       "      <td>Platform</td>\n",
       "      <td>29.08</td>\n",
       "      <td>3.58</td>\n",
       "      <td>6.81</td>\n",
       "      <td>0.77</td>\n",
       "      <td>&lt;NA&gt;</td>\n",
       "      <td>NaN</td>\n",
       "      <td>Unrated</td>\n",
       "      <td>40.24</td>\n",
       "    </tr>\n",
       "    <tr>\n",
       "      <th>2</th>\n",
       "      <td>Mario Kart Wii</td>\n",
       "      <td>Wii</td>\n",
       "      <td>2008</td>\n",
       "      <td>Racing</td>\n",
       "      <td>15.68</td>\n",
       "      <td>12.76</td>\n",
       "      <td>3.79</td>\n",
       "      <td>3.29</td>\n",
       "      <td>82</td>\n",
       "      <td>8.3</td>\n",
       "      <td>E</td>\n",
       "      <td>35.52</td>\n",
       "    </tr>\n",
       "    <tr>\n",
       "      <th>3</th>\n",
       "      <td>Wii Sports Resort</td>\n",
       "      <td>Wii</td>\n",
       "      <td>2009</td>\n",
       "      <td>Sports</td>\n",
       "      <td>15.61</td>\n",
       "      <td>10.93</td>\n",
       "      <td>3.28</td>\n",
       "      <td>2.95</td>\n",
       "      <td>80</td>\n",
       "      <td>8.0</td>\n",
       "      <td>E</td>\n",
       "      <td>32.77</td>\n",
       "    </tr>\n",
       "    <tr>\n",
       "      <th>4</th>\n",
       "      <td>Pokemon Red/Pokemon Blue</td>\n",
       "      <td>GB</td>\n",
       "      <td>1996</td>\n",
       "      <td>Role-Playing</td>\n",
       "      <td>11.27</td>\n",
       "      <td>8.89</td>\n",
       "      <td>10.22</td>\n",
       "      <td>1.00</td>\n",
       "      <td>&lt;NA&gt;</td>\n",
       "      <td>NaN</td>\n",
       "      <td>Unrated</td>\n",
       "      <td>31.38</td>\n",
       "    </tr>\n",
       "    <tr>\n",
       "      <th>...</th>\n",
       "      <td>...</td>\n",
       "      <td>...</td>\n",
       "      <td>...</td>\n",
       "      <td>...</td>\n",
       "      <td>...</td>\n",
       "      <td>...</td>\n",
       "      <td>...</td>\n",
       "      <td>...</td>\n",
       "      <td>...</td>\n",
       "      <td>...</td>\n",
       "      <td>...</td>\n",
       "      <td>...</td>\n",
       "    </tr>\n",
       "    <tr>\n",
       "      <th>16708</th>\n",
       "      <td>Samurai Warriors: Sanada Maru</td>\n",
       "      <td>PS3</td>\n",
       "      <td>2016</td>\n",
       "      <td>Action</td>\n",
       "      <td>0.00</td>\n",
       "      <td>0.00</td>\n",
       "      <td>0.01</td>\n",
       "      <td>0.00</td>\n",
       "      <td>&lt;NA&gt;</td>\n",
       "      <td>NaN</td>\n",
       "      <td>Unrated</td>\n",
       "      <td>0.01</td>\n",
       "    </tr>\n",
       "    <tr>\n",
       "      <th>16709</th>\n",
       "      <td>LMA Manager 2007</td>\n",
       "      <td>X360</td>\n",
       "      <td>2006</td>\n",
       "      <td>Sports</td>\n",
       "      <td>0.00</td>\n",
       "      <td>0.01</td>\n",
       "      <td>0.00</td>\n",
       "      <td>0.00</td>\n",
       "      <td>&lt;NA&gt;</td>\n",
       "      <td>NaN</td>\n",
       "      <td>Unrated</td>\n",
       "      <td>0.01</td>\n",
       "    </tr>\n",
       "    <tr>\n",
       "      <th>16710</th>\n",
       "      <td>Haitaka no Psychedelica</td>\n",
       "      <td>PSV</td>\n",
       "      <td>2016</td>\n",
       "      <td>Adventure</td>\n",
       "      <td>0.00</td>\n",
       "      <td>0.00</td>\n",
       "      <td>0.01</td>\n",
       "      <td>0.00</td>\n",
       "      <td>&lt;NA&gt;</td>\n",
       "      <td>NaN</td>\n",
       "      <td>Unrated</td>\n",
       "      <td>0.01</td>\n",
       "    </tr>\n",
       "    <tr>\n",
       "      <th>16711</th>\n",
       "      <td>Spirits &amp; Spells</td>\n",
       "      <td>GBA</td>\n",
       "      <td>2003</td>\n",
       "      <td>Platform</td>\n",
       "      <td>0.01</td>\n",
       "      <td>0.00</td>\n",
       "      <td>0.00</td>\n",
       "      <td>0.00</td>\n",
       "      <td>&lt;NA&gt;</td>\n",
       "      <td>NaN</td>\n",
       "      <td>Unrated</td>\n",
       "      <td>0.01</td>\n",
       "    </tr>\n",
       "    <tr>\n",
       "      <th>16712</th>\n",
       "      <td>Winning Post 8 2016</td>\n",
       "      <td>PSV</td>\n",
       "      <td>2016</td>\n",
       "      <td>Simulation</td>\n",
       "      <td>0.00</td>\n",
       "      <td>0.00</td>\n",
       "      <td>0.01</td>\n",
       "      <td>0.00</td>\n",
       "      <td>&lt;NA&gt;</td>\n",
       "      <td>NaN</td>\n",
       "      <td>Unrated</td>\n",
       "      <td>0.01</td>\n",
       "    </tr>\n",
       "  </tbody>\n",
       "</table>\n",
       "<p>16713 rows × 12 columns</p>\n",
       "</div>"
      ],
      "text/plain": [
       "                                name platform  year_of_release         genre  \\\n",
       "0                         Wii Sports      Wii             2006        Sports   \n",
       "1                  Super Mario Bros.      NES             1985      Platform   \n",
       "2                     Mario Kart Wii      Wii             2008        Racing   \n",
       "3                  Wii Sports Resort      Wii             2009        Sports   \n",
       "4           Pokemon Red/Pokemon Blue       GB             1996  Role-Playing   \n",
       "...                              ...      ...              ...           ...   \n",
       "16708  Samurai Warriors: Sanada Maru      PS3             2016        Action   \n",
       "16709               LMA Manager 2007     X360             2006        Sports   \n",
       "16710        Haitaka no Psychedelica      PSV             2016     Adventure   \n",
       "16711               Spirits & Spells      GBA             2003      Platform   \n",
       "16712            Winning Post 8 2016      PSV             2016    Simulation   \n",
       "\n",
       "       na_sales  eu_sales  jp_sales  other_sales  critic_score  user_score  \\\n",
       "0         41.36     28.96      3.77         8.45            76         8.0   \n",
       "1         29.08      3.58      6.81         0.77          <NA>         NaN   \n",
       "2         15.68     12.76      3.79         3.29            82         8.3   \n",
       "3         15.61     10.93      3.28         2.95            80         8.0   \n",
       "4         11.27      8.89     10.22         1.00          <NA>         NaN   \n",
       "...         ...       ...       ...          ...           ...         ...   \n",
       "16708      0.00      0.00      0.01         0.00          <NA>         NaN   \n",
       "16709      0.00      0.01      0.00         0.00          <NA>         NaN   \n",
       "16710      0.00      0.00      0.01         0.00          <NA>         NaN   \n",
       "16711      0.01      0.00      0.00         0.00          <NA>         NaN   \n",
       "16712      0.00      0.00      0.01         0.00          <NA>         NaN   \n",
       "\n",
       "        rating  ttl_sales  \n",
       "0            E      82.54  \n",
       "1      Unrated      40.24  \n",
       "2            E      35.52  \n",
       "3            E      32.77  \n",
       "4      Unrated      31.38  \n",
       "...        ...        ...  \n",
       "16708  Unrated       0.01  \n",
       "16709  Unrated       0.01  \n",
       "16710  Unrated       0.01  \n",
       "16711  Unrated       0.01  \n",
       "16712  Unrated       0.01  \n",
       "\n",
       "[16713 rows x 12 columns]"
      ]
     },
     "execution_count": 15,
     "metadata": {},
     "output_type": "execute_result"
    }
   ],
   "source": [
    "data['ttl_sales'] = data[['na_sales', 'eu_sales', 'jp_sales', 'other_sales']].sum(axis=1)\n",
    "data"
   ]
  },
  {
   "cell_type": "markdown",
   "metadata": {},
   "source": [
    "Успешно добавили столбец `ttl_sales`, показывающий продажи во всех регионах."
   ]
  },
  {
   "cell_type": "markdown",
   "metadata": {},
   "source": [
    "### Исследовательский анализ данных"
   ]
  },
  {
   "cell_type": "markdown",
   "metadata": {},
   "source": [
    "#### Выпуск игр в разные годы"
   ]
  },
  {
   "cell_type": "code",
   "execution_count": 16,
   "metadata": {
    "scrolled": true
   },
   "outputs": [
    {
     "data": {
      "image/png": "[encoded data removed]",
      "text/plain": [
       "<Figure size 432x288 with 1 Axes>"
      ]
     },
     "metadata": {
      "needs_background": "light"
     },
     "output_type": "display_data"
    },
    {
     "data": {
      "text/plain": [
       "year_of_release\n",
       "1980       9\n",
       "1981      46\n",
       "1982      53\n",
       "1983      17\n",
       "1984      14\n",
       "1985      14\n",
       "1986      21\n",
       "1987      16\n",
       "1988      15\n",
       "1989      17\n",
       "1990      16\n",
       "1991      41\n",
       "1992      43\n",
       "1993      60\n",
       "1994     121\n",
       "1995     219\n",
       "1996     263\n",
       "1997     290\n",
       "1998     386\n",
       "1999     341\n",
       "2000     350\n",
       "2001     482\n",
       "2002     829\n",
       "2003     800\n",
       "2004     783\n",
       "2005     973\n",
       "2006    1006\n",
       "2007    1197\n",
       "2008    1457\n",
       "2009    1476\n",
       "2010    1285\n",
       "2011    1161\n",
       "2012     653\n",
       "2013     552\n",
       "2014     582\n",
       "2015     606\n",
       "2016     502\n",
       "Name: name, dtype: int64"
      ]
     },
     "execution_count": 16,
     "metadata": {},
     "output_type": "execute_result"
    }
   ],
   "source": [
    "data.groupby('year_of_release')['name'].count().plot.line(x = 'year_of_release', y = 'count');\n",
    "plt.show()\n",
    "data.groupby('year_of_release')['name'].count()"
   ]
  },
  {
   "cell_type": "markdown",
   "metadata": {},
   "source": [
    "Судя по графику видно, что \"золотой век\" гейм-девелопа пришёлся на период с 2005 по 2011 годы.     \n",
    "Рынок с каждым годом меняется, поэтому для планирования кампании на 2017-ый год нам точно не понадобятся устаревшие с этой точки зрения данные."
   ]
  },
  {
   "cell_type": "markdown",
   "metadata": {},
   "source": [
    "#### Как менялись продажи по платформам"
   ]
  },
  {
   "cell_type": "code",
   "execution_count": 17,
   "metadata": {},
   "outputs": [
    {
     "name": "stdout",
     "output_type": "stream",
     "text": [
      "platform\n",
      "PS2     1255.77\n",
      "X360     971.42\n",
      "PS3      939.65\n",
      "Wii      907.51\n",
      "DS       806.12\n",
      "PS       730.86\n",
      "GBA      317.85\n",
      "PS4      314.14\n",
      "PSP      294.05\n",
      "PC       259.52\n",
      "Name: ttl_sales, dtype: float64\n"
     ]
    },
    {
     "data": {
      "text/plain": [
       "['PS2', 'X360', 'PS3', 'Wii', 'DS', 'PS', 'GBA', 'PS4', 'PSP', 'PC']"
      ]
     },
     "execution_count": 17,
     "metadata": {},
     "output_type": "execute_result"
    }
   ],
   "source": [
    "top10_platforms = data.groupby('platform')['ttl_sales'].sum().sort_values(ascending=False).head(10)\n",
    "print(top10_platforms)\n",
    "top10_platforms_list = list(top10_platforms.index)\n",
    "top10_platforms_list"
   ]
  },
  {
   "cell_type": "markdown",
   "metadata": {},
   "source": [
    "Мы получили список 10 платформ с наибольшими суммарными продажами."
   ]
  },
  {
   "cell_type": "code",
   "execution_count": 49,
   "metadata": {
    "scrolled": false
   },
   "outputs": [
    {
     "data": {
      "image/png": "[encoded data removed]",
      "text/plain": [
       "<Figure size 864x648 with 1 Axes>"
      ]
     },
     "metadata": {
      "needs_background": "light"
     },
     "output_type": "display_data"
    }
   ],
   "source": [
    "platform_sales_t = data.pivot_table(index='year_of_release', values='ttl_sales', columns = 'platform', aggfunc='sum')\n",
    "platform_sales_top10_t = platform_sales_t[top10_platforms_list]\n",
    "platform_sales_top10_t.plot(figsize=(12, 9), linewidth=4.0, alpha=0.6, xlim=(1993, 2017));\n",
    "plt.ylabel('Общие продажи')\n",
    "plt.xlabel('Год выпуска')\n",
    "plt.title('Общий объем продаж по годам для 10 крупнейших платформ')\n",
    "plt.show()"
   ]
  },
  {
   "cell_type": "markdown",
   "metadata": {},
   "source": [
    "А также график, иллюстрирующий эту выборку."
   ]
  },
  {
   "cell_type": "markdown",
   "metadata": {},
   "source": [
    "По графику можно заметить, что \"цикл жизни\" платформы составляет около 5-10 лет (за исключением ПК)."
   ]
  },
  {
   "cell_type": "markdown",
   "metadata": {},
   "source": [
    "В итоге, актуальным периодом для построения прогноза на 2017 год мы решили считать 2014 - 2016 годы. "
   ]
  },
  {
   "cell_type": "code",
   "execution_count": 19,
   "metadata": {
    "scrolled": true
   },
   "outputs": [],
   "source": [
    "actual_data = data.loc[data.year_of_release >= 2014]"
   ]
  },
  {
   "cell_type": "code",
   "execution_count": 20,
   "metadata": {},
   "outputs": [
    {
     "data": {
      "text/html": [
       "<div>\n",
       "<style scoped>\n",
       "    .dataframe tbody tr th:only-of-type {\n",
       "        vertical-align: middle;\n",
       "    }\n",
       "\n",
       "    .dataframe tbody tr th {\n",
       "        vertical-align: top;\n",
       "    }\n",
       "\n",
       "    .dataframe thead th {\n",
       "        text-align: right;\n",
       "    }\n",
       "</style>\n",
       "<table border=\"1\" class=\"dataframe\">\n",
       "  <thead>\n",
       "    <tr style=\"text-align: right;\">\n",
       "      <th></th>\n",
       "      <th>name</th>\n",
       "      <th>platform</th>\n",
       "      <th>year_of_release</th>\n",
       "      <th>genre</th>\n",
       "      <th>na_sales</th>\n",
       "      <th>eu_sales</th>\n",
       "      <th>jp_sales</th>\n",
       "      <th>other_sales</th>\n",
       "      <th>critic_score</th>\n",
       "      <th>user_score</th>\n",
       "      <th>rating</th>\n",
       "      <th>ttl_sales</th>\n",
       "    </tr>\n",
       "  </thead>\n",
       "  <tbody>\n",
       "    <tr>\n",
       "      <th>31</th>\n",
       "      <td>Call of Duty: Black Ops 3</td>\n",
       "      <td>PS4</td>\n",
       "      <td>2015</td>\n",
       "      <td>Shooter</td>\n",
       "      <td>6.03</td>\n",
       "      <td>5.86</td>\n",
       "      <td>0.36</td>\n",
       "      <td>2.38</td>\n",
       "      <td>&lt;NA&gt;</td>\n",
       "      <td>NaN</td>\n",
       "      <td>Unrated</td>\n",
       "      <td>14.63</td>\n",
       "    </tr>\n",
       "    <tr>\n",
       "      <th>42</th>\n",
       "      <td>Grand Theft Auto V</td>\n",
       "      <td>PS4</td>\n",
       "      <td>2014</td>\n",
       "      <td>Action</td>\n",
       "      <td>3.96</td>\n",
       "      <td>6.31</td>\n",
       "      <td>0.38</td>\n",
       "      <td>1.97</td>\n",
       "      <td>97</td>\n",
       "      <td>8.3</td>\n",
       "      <td>M</td>\n",
       "      <td>12.62</td>\n",
       "    </tr>\n",
       "    <tr>\n",
       "      <th>47</th>\n",
       "      <td>Pokemon Omega Ruby/Pokemon Alpha Sapphire</td>\n",
       "      <td>3DS</td>\n",
       "      <td>2014</td>\n",
       "      <td>Role-Playing</td>\n",
       "      <td>4.35</td>\n",
       "      <td>3.49</td>\n",
       "      <td>3.10</td>\n",
       "      <td>0.74</td>\n",
       "      <td>&lt;NA&gt;</td>\n",
       "      <td>NaN</td>\n",
       "      <td>Unrated</td>\n",
       "      <td>11.68</td>\n",
       "    </tr>\n",
       "    <tr>\n",
       "      <th>77</th>\n",
       "      <td>FIFA 16</td>\n",
       "      <td>PS4</td>\n",
       "      <td>2015</td>\n",
       "      <td>Sports</td>\n",
       "      <td>1.12</td>\n",
       "      <td>6.12</td>\n",
       "      <td>0.06</td>\n",
       "      <td>1.28</td>\n",
       "      <td>82</td>\n",
       "      <td>4.3</td>\n",
       "      <td>E</td>\n",
       "      <td>8.58</td>\n",
       "    </tr>\n",
       "    <tr>\n",
       "      <th>87</th>\n",
       "      <td>Star Wars Battlefront (2015)</td>\n",
       "      <td>PS4</td>\n",
       "      <td>2015</td>\n",
       "      <td>Shooter</td>\n",
       "      <td>2.99</td>\n",
       "      <td>3.49</td>\n",
       "      <td>0.22</td>\n",
       "      <td>1.28</td>\n",
       "      <td>&lt;NA&gt;</td>\n",
       "      <td>NaN</td>\n",
       "      <td>Unrated</td>\n",
       "      <td>7.98</td>\n",
       "    </tr>\n",
       "    <tr>\n",
       "      <th>...</th>\n",
       "      <td>...</td>\n",
       "      <td>...</td>\n",
       "      <td>...</td>\n",
       "      <td>...</td>\n",
       "      <td>...</td>\n",
       "      <td>...</td>\n",
       "      <td>...</td>\n",
       "      <td>...</td>\n",
       "      <td>...</td>\n",
       "      <td>...</td>\n",
       "      <td>...</td>\n",
       "      <td>...</td>\n",
       "    </tr>\n",
       "    <tr>\n",
       "      <th>16701</th>\n",
       "      <td>Strawberry Nauts</td>\n",
       "      <td>PSV</td>\n",
       "      <td>2016</td>\n",
       "      <td>Adventure</td>\n",
       "      <td>0.00</td>\n",
       "      <td>0.00</td>\n",
       "      <td>0.01</td>\n",
       "      <td>0.00</td>\n",
       "      <td>&lt;NA&gt;</td>\n",
       "      <td>NaN</td>\n",
       "      <td>Unrated</td>\n",
       "      <td>0.01</td>\n",
       "    </tr>\n",
       "    <tr>\n",
       "      <th>16705</th>\n",
       "      <td>Aiyoku no Eustia</td>\n",
       "      <td>PSV</td>\n",
       "      <td>2014</td>\n",
       "      <td>Misc</td>\n",
       "      <td>0.00</td>\n",
       "      <td>0.00</td>\n",
       "      <td>0.01</td>\n",
       "      <td>0.00</td>\n",
       "      <td>&lt;NA&gt;</td>\n",
       "      <td>NaN</td>\n",
       "      <td>Unrated</td>\n",
       "      <td>0.01</td>\n",
       "    </tr>\n",
       "    <tr>\n",
       "      <th>16708</th>\n",
       "      <td>Samurai Warriors: Sanada Maru</td>\n",
       "      <td>PS3</td>\n",
       "      <td>2016</td>\n",
       "      <td>Action</td>\n",
       "      <td>0.00</td>\n",
       "      <td>0.00</td>\n",
       "      <td>0.01</td>\n",
       "      <td>0.00</td>\n",
       "      <td>&lt;NA&gt;</td>\n",
       "      <td>NaN</td>\n",
       "      <td>Unrated</td>\n",
       "      <td>0.01</td>\n",
       "    </tr>\n",
       "    <tr>\n",
       "      <th>16710</th>\n",
       "      <td>Haitaka no Psychedelica</td>\n",
       "      <td>PSV</td>\n",
       "      <td>2016</td>\n",
       "      <td>Adventure</td>\n",
       "      <td>0.00</td>\n",
       "      <td>0.00</td>\n",
       "      <td>0.01</td>\n",
       "      <td>0.00</td>\n",
       "      <td>&lt;NA&gt;</td>\n",
       "      <td>NaN</td>\n",
       "      <td>Unrated</td>\n",
       "      <td>0.01</td>\n",
       "    </tr>\n",
       "    <tr>\n",
       "      <th>16712</th>\n",
       "      <td>Winning Post 8 2016</td>\n",
       "      <td>PSV</td>\n",
       "      <td>2016</td>\n",
       "      <td>Simulation</td>\n",
       "      <td>0.00</td>\n",
       "      <td>0.00</td>\n",
       "      <td>0.01</td>\n",
       "      <td>0.00</td>\n",
       "      <td>&lt;NA&gt;</td>\n",
       "      <td>NaN</td>\n",
       "      <td>Unrated</td>\n",
       "      <td>0.01</td>\n",
       "    </tr>\n",
       "  </tbody>\n",
       "</table>\n",
       "<p>1690 rows × 12 columns</p>\n",
       "</div>"
      ],
      "text/plain": [
       "                                            name platform  year_of_release  \\\n",
       "31                     Call of Duty: Black Ops 3      PS4             2015   \n",
       "42                            Grand Theft Auto V      PS4             2014   \n",
       "47     Pokemon Omega Ruby/Pokemon Alpha Sapphire      3DS             2014   \n",
       "77                                       FIFA 16      PS4             2015   \n",
       "87                  Star Wars Battlefront (2015)      PS4             2015   \n",
       "...                                          ...      ...              ...   \n",
       "16701                           Strawberry Nauts      PSV             2016   \n",
       "16705                           Aiyoku no Eustia      PSV             2014   \n",
       "16708              Samurai Warriors: Sanada Maru      PS3             2016   \n",
       "16710                    Haitaka no Psychedelica      PSV             2016   \n",
       "16712                        Winning Post 8 2016      PSV             2016   \n",
       "\n",
       "              genre  na_sales  eu_sales  jp_sales  other_sales  critic_score  \\\n",
       "31          Shooter      6.03      5.86      0.36         2.38          <NA>   \n",
       "42           Action      3.96      6.31      0.38         1.97            97   \n",
       "47     Role-Playing      4.35      3.49      3.10         0.74          <NA>   \n",
       "77           Sports      1.12      6.12      0.06         1.28            82   \n",
       "87          Shooter      2.99      3.49      0.22         1.28          <NA>   \n",
       "...             ...       ...       ...       ...          ...           ...   \n",
       "16701     Adventure      0.00      0.00      0.01         0.00          <NA>   \n",
       "16705          Misc      0.00      0.00      0.01         0.00          <NA>   \n",
       "16708        Action      0.00      0.00      0.01         0.00          <NA>   \n",
       "16710     Adventure      0.00      0.00      0.01         0.00          <NA>   \n",
       "16712    Simulation      0.00      0.00      0.01         0.00          <NA>   \n",
       "\n",
       "       user_score   rating  ttl_sales  \n",
       "31            NaN  Unrated      14.63  \n",
       "42            8.3        M      12.62  \n",
       "47            NaN  Unrated      11.68  \n",
       "77            4.3        E       8.58  \n",
       "87            NaN  Unrated       7.98  \n",
       "...           ...      ...        ...  \n",
       "16701         NaN  Unrated       0.01  \n",
       "16705         NaN  Unrated       0.01  \n",
       "16708         NaN  Unrated       0.01  \n",
       "16710         NaN  Unrated       0.01  \n",
       "16712         NaN  Unrated       0.01  \n",
       "\n",
       "[1690 rows x 12 columns]"
      ]
     },
     "execution_count": 20,
     "metadata": {},
     "output_type": "execute_result"
    }
   ],
   "source": [
    "actual_data"
   ]
  },
  {
   "cell_type": "code",
   "execution_count": 21,
   "metadata": {},
   "outputs": [
    {
     "name": "stdout",
     "output_type": "stream",
     "text": [
      "<class 'pandas.core.frame.DataFrame'>\n",
      "Int64Index: 1690 entries, 31 to 16712\n",
      "Data columns (total 12 columns):\n",
      " #   Column           Non-Null Count  Dtype  \n",
      "---  ------           --------------  -----  \n",
      " 0   name             1690 non-null   object \n",
      " 1   platform         1690 non-null   object \n",
      " 2   year_of_release  1690 non-null   Int64  \n",
      " 3   genre            1690 non-null   object \n",
      " 4   na_sales         1690 non-null   float64\n",
      " 5   eu_sales         1690 non-null   float64\n",
      " 6   jp_sales         1690 non-null   float64\n",
      " 7   other_sales      1690 non-null   float64\n",
      " 8   critic_score     719 non-null    Int64  \n",
      " 9   user_score       889 non-null    float64\n",
      " 10  rating           1690 non-null   object \n",
      " 11  ttl_sales        1690 non-null   float64\n",
      "dtypes: Int64(2), float64(6), object(4)\n",
      "memory usage: 174.9+ KB\n"
     ]
    }
   ],
   "source": [
    "actual_data.info()"
   ]
  },
  {
   "cell_type": "markdown",
   "metadata": {},
   "source": [
    "Получили такой датафрейм."
   ]
  },
  {
   "cell_type": "markdown",
   "metadata": {},
   "source": [
    "#### Поиск потенциально прибыльных платформ"
   ]
  },
  {
   "cell_type": "code",
   "execution_count": 22,
   "metadata": {
    "scrolled": true
   },
   "outputs": [
    {
     "data": {
      "image/png": "[encoded data removed]",
      "text/plain": [
       "<Figure size 576x432 with 1 Axes>"
      ]
     },
     "metadata": {
      "needs_background": "light"
     },
     "output_type": "display_data"
    }
   ],
   "source": [
    "fig, ax = plt.subplots(figsize=(8, 6)) # установим размер графика через subplot\n",
    "sb.barplot(data=actual_data, x='platform', hue='year_of_release', y='ttl_sales', palette='pastel', ci=None, ax=ax);\n",
    "ax.set(xlabel='Платформа', ylabel='Общие продажи') # имена для осей\n",
    "plt.show()"
   ]
  },
  {
   "cell_type": "markdown",
   "metadata": {},
   "source": [
    "По графику видно, что топ-3 по общим продажам занимают: PS4, XOne и WiiU. Среди всех платформ выделяется 3DS, которая единственная показала рост в 2016 году относительно 2015 года, так что можно причислить эту платформу к потенциально прибыльным. В этот же список войдут и платформы из ранее названного топ-3, потому что такие высокие продажи точно поспособствуют получению прибыли."
   ]
  },
  {
   "cell_type": "markdown",
   "metadata": {},
   "source": [
    "#### \"Ящик с усами\" по глобальным продажам игр в разбивке по платформам"
   ]
  },
  {
   "cell_type": "code",
   "execution_count": 23,
   "metadata": {
    "scrolled": true
   },
   "outputs": [
    {
     "data": {
      "image/png": "[encoded data removed]",
      "text/plain": [
       "<Figure size 1440x1080 with 1 Axes>"
      ]
     },
     "metadata": {
      "needs_background": "light"
     },
     "output_type": "display_data"
    }
   ],
   "source": [
    "fig, ax = plt.subplots(figsize=(20, 15))\n",
    "ax.set_ylim([0, 2])\n",
    "sb.boxplot(data=actual_data, y = 'ttl_sales', x='platform', ax=ax);\n",
    "ax.set(xlabel='Платформа', ylabel='Общие продажи')\n",
    "plt.show()"
   ]
  },
  {
   "cell_type": "markdown",
   "metadata": {},
   "source": [
    "На графиках видно, что высота у некоторых боксплотов заметно отличается, это может говорить нам о количестве разноплановых проектов на этих платформах. Например, на Wii проект может как принести большое количество продаж, так и малое, когда как на PС и PSV игры не так сильно \"выстреливают\".    \n",
    "Можно заметить, что медиана на всех графиках горазда меньше среднего, что говорит о том, что большинство проектов всё же являются \"проходными\" либо же нишевыми."
   ]
  },
  {
   "cell_type": "markdown",
   "metadata": {},
   "source": [
    "####  Влияние отзывов пользователей и критиков на продажи"
   ]
  },
  {
   "cell_type": "markdown",
   "metadata": {},
   "source": [
    "Возьмём в качестве примера PS4 как самую популярную платформу. \n"
   ]
  },
  {
   "cell_type": "code",
   "execution_count": 24,
   "metadata": {
    "scrolled": false
   },
   "outputs": [
    {
     "data": {
      "image/png": "[encoded data removed]",
      "text/plain": [
       "<Figure size 432x288 with 1 Axes>"
      ]
     },
     "metadata": {
      "needs_background": "light"
     },
     "output_type": "display_data"
    },
    {
     "name": "stdout",
     "output_type": "stream",
     "text": [
      "Коэффициент корреляции равен:\n"
     ]
    },
    {
     "data": {
      "text/plain": [
       "0.40266141068104083"
      ]
     },
     "execution_count": 24,
     "metadata": {},
     "output_type": "execute_result"
    }
   ],
   "source": [
    "actual_data[actual_data['platform'] == 'PS4'].plot(y='ttl_sales', x='critic_score', kind='scatter', alpha=0.3);\n",
    "plt.ylabel('Общие продажи (PS4)')\n",
    "plt.xlabel('Оценка критиков (PS4)')\n",
    "plt.show()\n",
    "print('Коэффициент корреляции равен:')\n",
    "actual_data[actual_data['platform'] == 'PS4']['ttl_sales'].corr(actual_data[actual_data['platform'] == 'PS4']['critic_score'].astype('float64')) #приводим к типу float64, так как с int64 корреляция дружить не хочет"
   ]
  },
  {
   "cell_type": "markdown",
   "metadata": {},
   "source": [
    "По графику, а также по полученным значениям, видно, что корреляция, хоть и слабая, имеет место быть. Это имеет смысл, так как критики получают игру раньше, до обычных игроков. Выставляя высокие оценки, они побуждают игроков делать предзаказы или покупать игру на релизе."
   ]
  },
  {
   "cell_type": "code",
   "execution_count": 25,
   "metadata": {
    "scrolled": true
   },
   "outputs": [
    {
     "data": {
      "image/png": "[encoded data removed]",
      "text/plain": [
       "<Figure size 432x288 with 1 Axes>"
      ]
     },
     "metadata": {
      "needs_background": "light"
     },
     "output_type": "display_data"
    },
    {
     "name": "stdout",
     "output_type": "stream",
     "text": [
      "Коэффициент корреляции равен:\n"
     ]
    },
    {
     "data": {
      "text/plain": [
       "-0.040131589472697356"
      ]
     },
     "execution_count": 25,
     "metadata": {},
     "output_type": "execute_result"
    }
   ],
   "source": [
    "actual_data[actual_data['platform'] == 'PS4'].plot(y='ttl_sales', x='user_score', kind='scatter', alpha=0.3);\n",
    "plt.xlabel('Оценка игроков (PS4)')\n",
    "plt.ylabel('Общие продажи (PS4)')\n",
    "plt.show()\n",
    "print('Коэффициент корреляции равен:')\n",
    "actual_data[actual_data['platform'] == 'PS4']['ttl_sales'].corr(actual_data[actual_data['platform'] == 'PS4']['user_score'])"
   ]
  },
  {
   "cell_type": "markdown",
   "metadata": {},
   "source": [
    "С оценками пользователей всё иначе, здесь никакой корреляции нет. Игра, которая была куплена миллионами игроков, могла никому не понравится, а также возможны и абсолютно зеркальные ситуации: имея всего условных 300 тысяч проданных копий, игра может иметь оценку на условном Metacritic близкую к 9."
   ]
  },
  {
   "cell_type": "markdown",
   "metadata": {},
   "source": [
    "Проверим эти выводы на некоторых других платформах (PC, XOne и WiiU)."
   ]
  },
  {
   "cell_type": "code",
   "execution_count": 26,
   "metadata": {
    "scrolled": true
   },
   "outputs": [
    {
     "data": {
      "image/png": "[encoded data removed]",
      "text/plain": [
       "<Figure size 432x288 with 1 Axes>"
      ]
     },
     "metadata": {
      "needs_background": "light"
     },
     "output_type": "display_data"
    },
    {
     "name": "stdout",
     "output_type": "stream",
     "text": [
      "Коэффициент корреляции равен:\n"
     ]
    },
    {
     "data": {
      "text/plain": [
       "0.42867694370333226"
      ]
     },
     "execution_count": 26,
     "metadata": {},
     "output_type": "execute_result"
    }
   ],
   "source": [
    "actual_data[actual_data['platform'] == 'XOne'].plot(y='ttl_sales', x='critic_score', kind='scatter', alpha=0.3, color='green');\n",
    "\n",
    "plt.xlabel('Оценка критиков (XOne)')\n",
    "plt.ylabel('Общие продажи (XOne)')\n",
    "plt.show()\n",
    "print('Коэффициент корреляции равен:')\n",
    "actual_data[actual_data['platform'] == 'XOne']['ttl_sales'].corr(actual_data[actual_data['platform'] == 'XOne']['critic_score'].astype('float64'))"
   ]
  },
  {
   "cell_type": "code",
   "execution_count": 27,
   "metadata": {},
   "outputs": [
    {
     "data": {
      "image/png": "[encoded data removed]",
      "text/plain": [
       "<Figure size 432x288 with 1 Axes>"
      ]
     },
     "metadata": {
      "needs_background": "light"
     },
     "output_type": "display_data"
    },
    {
     "name": "stdout",
     "output_type": "stream",
     "text": [
      "Коэффициент корреляции равен:\n"
     ]
    },
    {
     "data": {
      "text/plain": [
       "-0.0703839280647581"
      ]
     },
     "execution_count": 27,
     "metadata": {},
     "output_type": "execute_result"
    }
   ],
   "source": [
    "actual_data[actual_data['platform'] == 'XOne'].plot(y='ttl_sales', x='user_score', kind='scatter', alpha=0.3, color='green');\n",
    "plt.xlabel('Оценка игроков (XOne)')\n",
    "plt.ylabel('Общие продажи (XOne)')\n",
    "plt.show()\n",
    "print('Коэффициент корреляции равен:')\n",
    "actual_data[actual_data['platform'] == 'XOne']['ttl_sales'].corr(actual_data[actual_data['platform'] == 'XOne']['user_score'])"
   ]
  },
  {
   "cell_type": "code",
   "execution_count": 28,
   "metadata": {},
   "outputs": [
    {
     "data": {
      "image/png": "[encoded data removed]",
      "text/plain": [
       "<Figure size 432x288 with 1 Axes>"
      ]
     },
     "metadata": {
      "needs_background": "light"
     },
     "output_type": "display_data"
    },
    {
     "name": "stdout",
     "output_type": "stream",
     "text": [
      "Коэффициент корреляции равен:\n"
     ]
    },
    {
     "data": {
      "text/plain": [
       "0.17463413769350036"
      ]
     },
     "execution_count": 28,
     "metadata": {},
     "output_type": "execute_result"
    }
   ],
   "source": [
    "actual_data[actual_data['platform'] == 'PC'].plot(y='ttl_sales', x='critic_score', kind='scatter', alpha=0.3, color='red');\n",
    "\n",
    "plt.xlabel('Оценка критиков (PC)')\n",
    "plt.ylabel('Общие продажи (PC)')\n",
    "plt.show()\n",
    "print('Коэффициент корреляции равен:')\n",
    "actual_data[actual_data['platform'] == 'PC']['ttl_sales'].corr(actual_data[actual_data['platform'] == 'PC']['critic_score'].astype('float64'))"
   ]
  },
  {
   "cell_type": "code",
   "execution_count": 29,
   "metadata": {
    "scrolled": true
   },
   "outputs": [
    {
     "data": {
      "image/png": "[encoded data removed]",
      "text/plain": [
       "<Figure size 432x288 with 1 Axes>"
      ]
     },
     "metadata": {
      "needs_background": "light"
     },
     "output_type": "display_data"
    },
    {
     "name": "stdout",
     "output_type": "stream",
     "text": [
      "Коэффициент корреляции равен:\n"
     ]
    },
    {
     "data": {
      "text/plain": [
       "-0.07159665703472452"
      ]
     },
     "execution_count": 29,
     "metadata": {},
     "output_type": "execute_result"
    }
   ],
   "source": [
    "actual_data[actual_data['platform'] == 'PC'].plot(y='ttl_sales', x='user_score', kind='scatter', alpha=0.3, color='red');\n",
    "plt.xlabel('Оценка игроков (PC)')\n",
    "plt.ylabel('Общие продажи (PC)')\n",
    "plt.show()\n",
    "print('Коэффициент корреляции равен:')\n",
    "actual_data[actual_data['platform'] == 'PC']['ttl_sales'].corr(actual_data[actual_data['platform'] == 'PC']['user_score'])"
   ]
  },
  {
   "cell_type": "code",
   "execution_count": 30,
   "metadata": {
    "scrolled": true
   },
   "outputs": [
    {
     "data": {
      "image/png": "[encoded data removed]",
      "text/plain": [
       "<Figure size 432x288 with 1 Axes>"
      ]
     },
     "metadata": {
      "needs_background": "light"
     },
     "output_type": "display_data"
    },
    {
     "name": "stdout",
     "output_type": "stream",
     "text": [
      "Коэффициент корреляции равен:\n"
     ]
    },
    {
     "data": {
      "text/plain": [
       "0.370201412480884"
      ]
     },
     "execution_count": 30,
     "metadata": {},
     "output_type": "execute_result"
    }
   ],
   "source": [
    "actual_data[actual_data['platform'] == 'WiiU'].plot(y='ttl_sales', x='critic_score', kind='scatter', alpha=0.3, color='purple');\n",
    "\n",
    "plt.xlabel('Оценка критиков (WiiU)')\n",
    "plt.ylabel('Общие продажи (WiiU)')\n",
    "plt.show()\n",
    "print('Коэффициент корреляции равен:')\n",
    "actual_data[actual_data['platform'] == 'WiiU']['ttl_sales'].corr(actual_data[actual_data['platform'] == 'WiiU']['critic_score'].astype('float64'))"
   ]
  },
  {
   "cell_type": "code",
   "execution_count": 31,
   "metadata": {
    "scrolled": true
   },
   "outputs": [
    {
     "data": {
      "image/png": "[encoded data removed]",
      "text/plain": [
       "<Figure size 432x288 with 1 Axes>"
      ]
     },
     "metadata": {
      "needs_background": "light"
     },
     "output_type": "display_data"
    },
    {
     "name": "stdout",
     "output_type": "stream",
     "text": [
      "Коэффициент корреляции равен:\n"
     ]
    },
    {
     "data": {
      "text/plain": [
       "0.4079264579217078"
      ]
     },
     "execution_count": 31,
     "metadata": {},
     "output_type": "execute_result"
    }
   ],
   "source": [
    "actual_data[actual_data['platform'] == 'WiiU'].plot(y='ttl_sales', x='user_score', kind='scatter', alpha=0.3, color='purple');\n",
    "\n",
    "plt.xlabel('Оценка игроков (WiiU)')\n",
    "plt.ylabel('Общие продажи (WiiU)')\n",
    "plt.show()\n",
    "print('Коэффициент корреляции равен:')\n",
    "actual_data[actual_data['platform'] == 'WiiU']['ttl_sales'].corr(actual_data[actual_data['platform'] == 'WiiU']['user_score'])"
   ]
  },
  {
   "cell_type": "markdown",
   "metadata": {},
   "source": [
    "Судя по всему владельцы ПК менее охотно прислушиваются к критикам, чем владельцы консолей PS4 и Xbox One.   \n",
    "А вот проекты, выходящие на WiiU, показывают, что популярные игры часто заслуживают высоких оценок. "
   ]
  },
  {
   "cell_type": "markdown",
   "metadata": {},
   "source": [
    "#### Влияние жанра на прибыль"
   ]
  },
  {
   "cell_type": "code",
   "execution_count": 32,
   "metadata": {
    "scrolled": true
   },
   "outputs": [
    {
     "data": {
      "image/png": "[encoded data removed]",
      "text/plain": [
       "<Figure size 1152x864 with 1 Axes>"
      ]
     },
     "metadata": {
      "needs_background": "light"
     },
     "output_type": "display_data"
    }
   ],
   "source": [
    "fig, ax = plt.subplots(figsize=(16, 12)) \n",
    "sb.barplot(data=actual_data, x='genre', y='ttl_sales', palette='pastel', ci=None, ax=ax);\n",
    "ax.set(xlabel='Жанр', ylabel='Общие продажи') \n",
    "plt.show()"
   ]
  },
  {
   "cell_type": "markdown",
   "metadata": {},
   "source": [
    "Графики показывают, что шутеры самый прибыльный жанр.\n",
    "\n",
    "На втором месте располагаются спортивные симуляторы, их прибыльность легко объяснить конвейерностью: люди, покупающие эти игры, будут делать это из года в год, неважно насколько сильно преобразовываются эти игры.\n",
    "\n",
    "Самыми же неприбыльными жанрами являются приключения, стратегии и головоломки. Такую неприбыльность можно легко объяснить обычной непопулярностью (головоломки и приключения скорее пережитки прошлого) либо же нишевостью (стратегии не самый популярный жанр, да ещё и не на всех платформах его можно в полной мере реализовать)."
   ]
  },
  {
   "cell_type": "markdown",
   "metadata": {},
   "source": [
    "### Портрет пользователя каждого региона"
   ]
  },
  {
   "cell_type": "markdown",
   "metadata": {},
   "source": [
    "#### Северная Америка"
   ]
  },
  {
   "cell_type": "markdown",
   "metadata": {},
   "source": [
    "##### Популярность платформы"
   ]
  },
  {
   "cell_type": "code",
   "execution_count": 33,
   "metadata": {
    "scrolled": true
   },
   "outputs": [
    {
     "data": {
      "image/png": "[encoded data removed]",
      "text/plain": [
       "<Figure size 576x432 with 1 Axes>"
      ]
     },
     "metadata": {
      "needs_background": "light"
     },
     "output_type": "display_data"
    }
   ],
   "source": [
    "fig, ax = plt.subplots(figsize=(8, 6)) # установим размер графика через subplot\n",
    "sb.barplot(data=actual_data, x='platform', y='na_sales', palette='pastel', ci=None, ax=ax);\n",
    "ax.set(xlabel='Платформа', ylabel='Продажи в Северной Америке') # имена для осей\n",
    "plt.show()"
   ]
  },
  {
   "cell_type": "code",
   "execution_count": 34,
   "metadata": {},
   "outputs": [
    {
     "data": {
      "text/plain": [
       "platform\n",
       "XOne    0.356447\n",
       "WiiU    0.265205\n",
       "PS4     0.262261\n",
       "X360    0.254955\n",
       "Wii     0.189091\n",
       "3DS     0.106792\n",
       "PS3     0.100685\n",
       "PC      0.047881\n",
       "PSV     0.008885\n",
       "PSP     0.000000\n",
       "Name: na_sales, dtype: float64"
      ]
     },
     "execution_count": 34,
     "metadata": {},
     "output_type": "execute_result"
    }
   ],
   "source": [
    "actual_data.groupby('platform')['na_sales'].mean().sort_values(ascending=False)"
   ]
  },
  {
   "cell_type": "markdown",
   "metadata": {},
   "source": [
    "Топ-5 платформ в этом регионе:    \n",
    "1. Xbox One\n",
    "2. WiiU\n",
    "3. PS 4\n",
    "4. Xbox 360\n",
    "5. Wii"
   ]
  },
  {
   "cell_type": "markdown",
   "metadata": {},
   "source": [
    "Xbox One уверенно держит первое место по продажам (причина по которой Xbox так популярен в Америке кроется в том, что это американская компания, а значит она имеет больше возможностей для рекламы, да и патриотичную поддержку собственного продукта среди пользователей никто не отменял), когда как следующие три платформы (WiiU, PS4 и Xbox 360) расположились на очень близком расстоянии друг от друга. Пятёрку списка замыкает Wii."
   ]
  },
  {
   "cell_type": "markdown",
   "metadata": {},
   "source": [
    "##### Самые популярные жанры"
   ]
  },
  {
   "cell_type": "code",
   "execution_count": 35,
   "metadata": {
    "scrolled": false
   },
   "outputs": [
    {
     "data": {
      "image/png": "[encoded data removed]",
      "text/plain": [
       "<Figure size 1152x864 with 1 Axes>"
      ]
     },
     "metadata": {
      "needs_background": "light"
     },
     "output_type": "display_data"
    }
   ],
   "source": [
    "fig, ax = plt.subplots(figsize=(16, 12)) \n",
    "sb.barplot(data=actual_data, x='genre', y='na_sales', palette='pastel', ci=None, ax=ax);\n",
    "ax.set(xlabel='Жанры', ylabel='Продажи в Северной Америке') \n",
    "plt.show()"
   ]
  },
  {
   "cell_type": "markdown",
   "metadata": {},
   "source": [
    "Топ-5 жанров в этом регионе:    \n",
    "1. Шутер\n",
    "2. Спортивный симулятор\n",
    "3. Файтинг\n",
    "4. Платформер\n",
    "5. РПГ"
   ]
  },
  {
   "cell_type": "markdown",
   "metadata": {},
   "source": [
    "Высоко на первом месте закрепились игры в жанре шутер, это было логично, исходя из графиков по общемировым продажам.    \n",
    "\n",
    "На втором месте находятся спортивные симуляторы, это очень похоже на североамериканский регион, так как там полно людей, обожающих \"американские\" виды спорта: бейсбол, американский футбол, гольф и хоккей, чем игровые разработчики и пользуются.\n",
    "\n",
    "Три замыкающих позиции несильно оторвались от менее популярных жанров, поэтому искать региональные закономерности здесь не очень корректно."
   ]
  },
  {
   "cell_type": "markdown",
   "metadata": {},
   "source": [
    "##### Влияние рейтинга ESRB на продажи"
   ]
  },
  {
   "cell_type": "code",
   "execution_count": 36,
   "metadata": {
    "scrolled": false
   },
   "outputs": [
    {
     "data": {
      "image/png": "[encoded data removed]",
      "text/plain": [
       "<Figure size 1152x864 with 1 Axes>"
      ]
     },
     "metadata": {
      "needs_background": "light"
     },
     "output_type": "display_data"
    }
   ],
   "source": [
    "fig, ax = plt.subplots(figsize=(16, 12))\n",
    "sb.barplot(data=actual_data, x='rating', y='na_sales', palette='pastel', ci=None, ax=ax);\n",
    "ax.set(xlabel='Рейтинг ESRB', ylabel='Продажи в Северной Америке')\n",
    "plt.show()"
   ]
  },
  {
   "cell_type": "code",
   "execution_count": 37,
   "metadata": {},
   "outputs": [
    {
     "data": {
      "text/plain": [
       "rating\n",
       "Unrated    749\n",
       "T          272\n",
       "M          265\n",
       "E          219\n",
       "E10+       185\n",
       "Name: na_sales, dtype: int64"
      ]
     },
     "execution_count": 37,
     "metadata": {},
     "output_type": "execute_result"
    }
   ],
   "source": [
    "actual_data.groupby('rating')['na_sales'].count().sort_values(ascending=False) # Количество игр с определенным рейтингом"
   ]
  },
  {
   "cell_type": "markdown",
   "metadata": {},
   "source": [
    "Похоже, что рейтинг действительно влияет на продажи, это может быть из-за того, что игры с жанром M (то есть 17+) предназначены для взрослых людей, которые могут позволить себе покупку дорогостоящих игр, чем и пользуются издатели."
   ]
  },
  {
   "cell_type": "markdown",
   "metadata": {},
   "source": [
    "#### Европа"
   ]
  },
  {
   "cell_type": "markdown",
   "metadata": {},
   "source": [
    "##### Популярность платформы"
   ]
  },
  {
   "cell_type": "code",
   "execution_count": 38,
   "metadata": {
    "scrolled": true
   },
   "outputs": [
    {
     "data": {
      "image/png": "[encoded data removed]",
      "text/plain": [
       "<Figure size 576x432 with 1 Axes>"
      ]
     },
     "metadata": {
      "needs_background": "light"
     },
     "output_type": "display_data"
    }
   ],
   "source": [
    "fig, ax = plt.subplots(figsize=(8, 6))\n",
    "sb.barplot(data=actual_data, x='platform', y='eu_sales', palette='pastel', ci=None, ax=ax);\n",
    "ax.set(xlabel='Платформа', ylabel='Продажи в Европе')\n",
    "plt.show()"
   ]
  },
  {
   "cell_type": "markdown",
   "metadata": {},
   "source": [
    "В топ-5 европейского региона попали те же платформы, что в североамериканском, отличаются только места в рейтинге.    \n",
    "\n",
    "Топ-5 платформ в этом регионе:    \n",
    "1. PS 4\n",
    "2. Wii\n",
    "3. Xbox One\n",
    "4. WiiU\n",
    "5. Xbox 360"
   ]
  },
  {
   "cell_type": "markdown",
   "metadata": {},
   "source": [
    "Похоже, что европейцы предпочитают японские консоли, оно и логично. Playstation и Nintendo (в этом случае Wii и WiiU) часто покупают из-за их эксклюзивов, у Xbox'а же этих эксклюзивов значительно меньше, да и те скорее всего выходят и на PC.    \n"
   ]
  },
  {
   "cell_type": "markdown",
   "metadata": {},
   "source": [
    "##### Самые популярные жанры"
   ]
  },
  {
   "cell_type": "code",
   "execution_count": 39,
   "metadata": {},
   "outputs": [
    {
     "data": {
      "image/png": "[encoded data removed]",
      "text/plain": [
       "<Figure size 1152x864 with 1 Axes>"
      ]
     },
     "metadata": {
      "needs_background": "light"
     },
     "output_type": "display_data"
    }
   ],
   "source": [
    "fig, ax = plt.subplots(figsize=(16, 12)) \n",
    "sb.barplot(data=actual_data, x='genre', y='eu_sales', palette='pastel', ci=None, ax=ax);\n",
    "ax.set(xlabel='Жанры', ylabel='Продажи в Европе') \n",
    "plt.show()"
   ]
  },
  {
   "cell_type": "markdown",
   "metadata": {},
   "source": [
    "Топ-5 жанров в этом регионе:    \n",
    "1. Шутер\n",
    "2. Спортивный симулятор\n",
    "3. Гонки\n",
    "4. Платформер\n",
    "5. Симулятор"
   ]
  },
  {
   "cell_type": "markdown",
   "metadata": {},
   "source": [
    "Шутеры и здесь занимают первую строчку, такая же ситуация и со спортивными симуляторами (FIFA имеет большой охват игроков в европейском регионе).     \n",
    "\n",
    "Третье место с гонками можно объяснить культурными и национальными особенностями. В Европе популярен гоночный спорт и, что более важно, он интересней (как минимум для игроков, желающий прочувствовать все эмоции водителя) своими трассами, чем сильно отличается от американского NASCAR, на котором росло американское поколение любителей гонок."
   ]
  },
  {
   "cell_type": "markdown",
   "metadata": {},
   "source": [
    "##### Влияние рейтинга ESRB на продажи"
   ]
  },
  {
   "cell_type": "code",
   "execution_count": 40,
   "metadata": {
    "scrolled": false
   },
   "outputs": [
    {
     "data": {
      "image/png": "[encoded data removed]",
      "text/plain": [
       "<Figure size 1152x864 with 1 Axes>"
      ]
     },
     "metadata": {
      "needs_background": "light"
     },
     "output_type": "display_data"
    }
   ],
   "source": [
    "fig, ax = plt.subplots(figsize=(16, 12))\n",
    "sb.barplot(data=actual_data, x='rating', y='eu_sales', palette='pastel', ci=None, ax=ax);\n",
    "ax.set(xlabel='Рейтинг ESRB', ylabel='Продажи в Европе')\n",
    "plt.show()"
   ]
  },
  {
   "cell_type": "markdown",
   "metadata": {},
   "source": [
    "Аналогично североамериканскому региону."
   ]
  },
  {
   "cell_type": "markdown",
   "metadata": {},
   "source": [
    "#### Япония"
   ]
  },
  {
   "cell_type": "markdown",
   "metadata": {},
   "source": [
    "##### Популярность платформы"
   ]
  },
  {
   "cell_type": "code",
   "execution_count": 41,
   "metadata": {},
   "outputs": [
    {
     "data": {
      "image/png": "[encoded data removed]",
      "text/plain": [
       "<Figure size 576x432 with 1 Axes>"
      ]
     },
     "metadata": {
      "needs_background": "light"
     },
     "output_type": "display_data"
    }
   ],
   "source": [
    "fig, ax = plt.subplots(figsize=(8, 6))\n",
    "sb.barplot(data=actual_data, x='platform', y='jp_sales', palette='pastel', ci=None, ax=ax);\n",
    "ax.set(xlabel='Платформа', ylabel='Продажи в Европе')\n",
    "plt.show()"
   ]
  },
  {
   "cell_type": "markdown",
   "metadata": {},
   "source": [
    "Топ-5 платформ в этом регионе:    \n",
    "1. 3DS\n",
    "2. WiiU\n",
    "3. PS 3\n",
    "4. PSV\n",
    "5. PS 4"
   ]
  },
  {
   "cell_type": "markdown",
   "metadata": {},
   "source": [
    "Ситуация в Японии кардинально отличается от всего остального мира. Японцы предпочитают карманные приставки домашним.    \n",
    "Всё это объясняется культурными особенностями, в Японии раньше (да и сейчас) были очень популярны аркадные автоматы, из-за чего японцам не нужно было покупать консоли и проводить дома всё своё играющее время. Стоимость жилой площади достаточно дорогая, а размеры квартир обычно очень маленькие, из-за чего у людей не всегда было/есть место для домашних приставок. Также можно вспомнить как много японцы проводят времени в общественном транспорте, что является поводом скоротать час-другой за новой игрой о водопроводчике Марио."
   ]
  },
  {
   "cell_type": "markdown",
   "metadata": {},
   "source": [
    "##### Самые популярные жанры"
   ]
  },
  {
   "cell_type": "code",
   "execution_count": 42,
   "metadata": {},
   "outputs": [
    {
     "data": {
      "image/png": "[encoded data removed]",
      "text/plain": [
       "<Figure size 1152x864 with 1 Axes>"
      ]
     },
     "metadata": {
      "needs_background": "light"
     },
     "output_type": "display_data"
    }
   ],
   "source": [
    "fig, ax = plt.subplots(figsize=(16, 12)) \n",
    "sb.barplot(data=actual_data, x='genre', y='jp_sales', palette='pastel', ci=None, ax=ax);\n",
    "ax.set(xlabel='Жанры', ylabel='Продажи в Японии') \n",
    "plt.show()"
   ]
  },
  {
   "cell_type": "markdown",
   "metadata": {},
   "source": [
    "Топ-5 жанров в этом регионе:    \n",
    "1. РПГ\n",
    "2. Файтинг\n",
    "3. Платформер\n",
    "4. Головоломки\n",
    "5. Симулятор"
   ]
  },
  {
   "cell_type": "markdown",
   "metadata": {},
   "source": [
    "Японцы снова удивляют. Шутеры, которые так популярны во всём мире, оказались далеко от топ-5.    \n",
    "Первое место занимают РПГ, даже скорее JRPG (Japanese Role-Playing Game), которые так популярны в этой стране, объяснить такую популярность можно только национальными особенностями (как и почти всё, что связано с Японией). Второе место напоминает нам об эпохе аркадных автоматов. Платформеры так популярны благодаря Nintendo и их играм о Марио."
   ]
  },
  {
   "cell_type": "markdown",
   "metadata": {},
   "source": [
    "##### Влияние рейтинга ESRB на продажи"
   ]
  },
  {
   "cell_type": "code",
   "execution_count": 43,
   "metadata": {},
   "outputs": [
    {
     "data": {
      "image/png": "[encoded data removed]",
      "text/plain": [
       "<Figure size 1152x864 with 1 Axes>"
      ]
     },
     "metadata": {
      "needs_background": "light"
     },
     "output_type": "display_data"
    }
   ],
   "source": [
    "fig, ax = plt.subplots(figsize=(16, 12))\n",
    "sb.barplot(data=actual_data, x='rating', y='jp_sales', palette='pastel', ci=None, ax=ax);\n",
    "ax.set(xlabel='Рейтинг ESRB', ylabel='Продажи в Японии')\n",
    "plt.show()"
   ]
  },
  {
   "cell_type": "markdown",
   "metadata": {},
   "source": [
    "И здесь японцы решили отличиться.    \n",
    "Первое место по продажам занимают продукты без рейтинга, чего не было замечено в предыдущих регионах, связано это с тем, что в Японии существует свой возрастной рейтинг, выставляемый компанией CERO.     \n",
    "Если же рассматривать только игры с указанным рейтингом, то мы увидим, что первое место занимают игры для подростков, а второе и вовсе для всех возрастов, игры для взрослой аудитории расположились на третьем месте."
   ]
  },
  {
   "cell_type": "markdown",
   "metadata": {},
   "source": [
    "### Проверка гипотез"
   ]
  },
  {
   "cell_type": "markdown",
   "metadata": {},
   "source": [
    "#### Средние пользовательские рейтинги платформ Xbox One и PC одинаковые"
   ]
  },
  {
   "cell_type": "markdown",
   "metadata": {},
   "source": [
    "Сформулируем нулевую и альтернативную гипотезы.    \n",
    "\n",
    "H₀: \"Средние пользовательские рейтинги платформ Xbox One и PC равны\".      \n",
    "H₁: \"Средние пользовательские рейтинги платформ Xbox One и PC не равны\"."
   ]
  },
  {
   "cell_type": "markdown",
   "metadata": {},
   "source": [
    "Теперь займёмся расчётами."
   ]
  },
  {
   "cell_type": "code",
   "execution_count": 44,
   "metadata": {},
   "outputs": [
    {
     "name": "stdout",
     "output_type": "stream",
     "text": [
      "p-значение: 0.11601398086668832\n",
      "Не получилось отвергнуть нулевую гипотезу\n"
     ]
    }
   ],
   "source": [
    "alpha = .05\n",
    "# Выбросим значения NaN из-за того, что невозможно провести t-test \n",
    "results_h1 = st.ttest_ind(actual_data[actual_data.platform == 'XOne']['user_score'].dropna(),\n",
    "                          actual_data[actual_data.platform == 'PC']['user_score'].dropna(),\n",
    "                          equal_var=False)\n",
    "\n",
    "print('p-значение:', results_h1.pvalue)\n",
    "\n",
    "if results_h1.pvalue < alpha:\n",
    "    print(\"Отвергаем нулевую гипотезу\")\n",
    "else:\n",
    "    print(\"Не получилось отвергнуть нулевую гипотезу\") \n"
   ]
  },
  {
   "cell_type": "markdown",
   "metadata": {},
   "source": [
    "Исходя из значений p-value принимаем нулевую гипотезу.    "
   ]
  },
  {
   "cell_type": "markdown",
   "metadata": {},
   "source": [
    "#### Средние пользовательские рейтинги жанров Action (англ. «действие», экшен-игры) и Sports (англ. «спортивные соревнования») разные"
   ]
  },
  {
   "cell_type": "markdown",
   "metadata": {},
   "source": [
    "Сформулируем нулевую и альтернативную гипотезы.    \n",
    "\n",
    "H₀: \"Средние пользовательские рейтинги жанров Action и Sports разные\".      \n",
    "H₁: \"Средние пользовательские рейтинги жанров Action и Sports равны\"."
   ]
  },
  {
   "cell_type": "code",
   "execution_count": 45,
   "metadata": {
    "scrolled": true
   },
   "outputs": [
    {
     "name": "stdout",
     "output_type": "stream",
     "text": [
      "p-значение: 1.1825550382644557e-14\n",
      "Не получилось отвергнуть нулевую гипотезу\n"
     ]
    }
   ],
   "source": [
    "alpha = .05\n",
    "results_h1 = st.ttest_ind(actual_data[actual_data.genre == 'Action']['user_score'].dropna(),\n",
    "                          actual_data[actual_data.genre == 'Sports']['user_score'].dropna(),\n",
    "                          equal_var=False)\n",
    "\n",
    "print('p-значение:', results_h1.pvalue)\n",
    "\n",
    "if results_h1.pvalue > alpha:\n",
    "    print(\"Отвергаем нулевую гипотезу\")\n",
    "else:\n",
    "    print(\"Не получилось отвергнуть нулевую гипотезу\") \n"
   ]
  },
  {
   "cell_type": "markdown",
   "metadata": {},
   "source": [
    "Исходя из значений p-value принимаем нулевую гипотезу.    "
   ]
  },
  {
   "cell_type": "markdown",
   "metadata": {},
   "source": [
    "Как в первом, так и во втором случае был использован двухвыборочный t-критерий для независимых выборок. Сделано это было потому, что: \n",
    "* каждая из выборок является массивом, а не числом;\n",
    "* обе выборки независимы друг друга (если бы мы, к примеру, выясняли равны ли средние пользовательские рейтинги жанров Action в 2014 и 2015 годах, то тогда можно было бы говорить о наличии зависимости в выборках, но здесь другой случай).     \n",
    "\n",
    "И именно `st.ttest_ind` идеально подходит для этой задачи (мы предположили, что дисперсии выборок различаются, так как размеры массивов не равны друг другу)."
   ]
  },
  {
   "cell_type": "markdown",
   "metadata": {},
   "source": [
    "### Общий вывод"
   ]
  },
  {
   "cell_type": "markdown",
   "metadata": {},
   "source": [
    "В самом начале мы отредактировали датафрейм и привели его к нашим стандартам:    \n",
    "* были исправлены названия столбцов;\n",
    "* были заполнены некоторые пропуски;\n",
    "* были удалены некоторые строки, мешающие объективности данных; \n",
    "* были преобразованы типы данных."
   ]
  },
  {
   "cell_type": "markdown",
   "metadata": {},
   "source": [
    "Проведя анализ данных, было выявлено, что примерная продолжительность \"жизни\" платформы равна 5-10 лет, поэтому актуальным периодом для прогноза на 2017 год мы назвали последние 3 года (2014-2016), как половина \"жизни\" платформы.    \n",
    "После этого все расчёты велись, основываясь на данных именно за этот промежуток времени. "
   ]
  },
  {
   "cell_type": "markdown",
   "metadata": {},
   "source": [
    "На базе полученных данных можно сделать некоторые выводы:  \n",
    "\n",
    "        - топ-3 по общим продажам занимают: PS4, XOne и WiiU. Среди всех платформ выделяется 3DS, которая единственная показала рост в 2016 году относительно 2015 года, так что можно причислить эту платформу к потенциально прибыльным (как и плафтормы указанные до этого);\n",
    "        - на Wii, PS4 и Xbox One проект может принести как большое количество продаж, так и малое, когда как на PС и PSV игры не так сильно \"выстреливают\";\n",
    "        - владельцы ПК менее охотно прислушиваются к критикам, чем владельцы консолей PS4 и Xbox One;\n",
    "        - проекты, выходящие на WiiU, показывают, что популярные игры часто заслуживают высоких оценок (когда как на PS4 и XOne таких зависимостей не наблюдается)."
   ]
  },
  {
   "cell_type": "markdown",
   "metadata": {},
   "source": [
    "Также для каждого из представленных регионов был построен портрет самого прибыльного пользователя."
   ]
  },
  {
   "cell_type": "markdown",
   "metadata": {},
   "source": [
    "Северная Америка:    \n",
    "Взрослый человек, играющий в игры жанра шутер на консоли Xbox One.    \n",
    "\n",
    "Европа:     \n",
    "Взрослый человек, играющий в игры жанра шутер на консоли Playstation 4.\n",
    "\n",
    "Япония:    \n",
    "Подросток, играющий в игры жанра RPG на консоли 3DS."
   ]
  },
  {
   "cell_type": "markdown",
   "metadata": {},
   "source": [
    "Были проверены 2 гипотезы.    \n",
    "1. Средние пользовательские рейтинги платформ Xbox One и PC одинаковые; \n",
    "2. Средние пользовательские рейтинги жанров Action (англ. «действие», экшен-игры) и Sports (англ. «спортивные соревнования») разные.   \n",
    "\n",
    "Обе гипотезы подтвердились"
   ]
  },
  {
   "cell_type": "markdown",
   "metadata": {},
   "source": [
    "Говоря о прогнозе на 2017 год и получению потенциальной прибыли, наш совет такой:     \n",
    "Если Вы ставите приоритет на общемировой либо же европейский/североамериканский рынок, то лучшим решением будет продажа шутеров с рейтингом M на консолях PS4 и Xbox One.     \n",
    "Если же Вы ставите приоритет на японский сегмент рынка, то тогда Вам стоит присмотреться к играм жанров RPG, файтинг и головоломки на портативные приставки (в особенности 3DS)."
   ]
  }
 ],
 "metadata": {
  "ExecuteTimeLog": [
   {
    "duration": 1322,
    "start_time": "2022-11-01T15:32:16.494Z"
   },
   {
    "duration": 100,
    "start_time": "2022-11-01T15:32:59.322Z"
   },
   {
    "duration": 22,
    "start_time": "2022-11-01T15:33:12.481Z"
   },
   {
    "duration": 3,
    "start_time": "2022-11-01T15:37:14.011Z"
   },
   {
    "duration": 19,
    "start_time": "2022-11-01T15:37:21.630Z"
   },
   {
    "duration": 19,
    "start_time": "2022-11-01T15:37:39.054Z"
   },
   {
    "duration": 110,
    "start_time": "2022-11-01T15:40:42.323Z"
   },
   {
    "duration": 4,
    "start_time": "2022-11-01T15:40:56.796Z"
   },
   {
    "duration": 14,
    "start_time": "2022-11-01T15:41:09.955Z"
   },
   {
    "duration": 4,
    "start_time": "2022-11-01T16:08:18.827Z"
   },
   {
    "duration": 6,
    "start_time": "2022-11-01T16:08:33.504Z"
   },
   {
    "duration": 14,
    "start_time": "2022-11-01T16:09:27.922Z"
   },
   {
    "duration": 9,
    "start_time": "2022-11-01T16:11:08.812Z"
   },
   {
    "duration": 1250,
    "start_time": "2022-11-01T16:11:46.803Z"
   },
   {
    "duration": 63,
    "start_time": "2022-11-01T16:11:48.054Z"
   },
   {
    "duration": 27,
    "start_time": "2022-11-01T16:11:48.118Z"
   },
   {
    "duration": 31,
    "start_time": "2022-11-01T16:11:48.148Z"
   },
   {
    "duration": 18,
    "start_time": "2022-11-01T16:11:48.181Z"
   },
   {
    "duration": 12,
    "start_time": "2022-11-01T16:11:48.200Z"
   },
   {
    "duration": 13,
    "start_time": "2022-11-01T16:11:48.214Z"
   },
   {
    "duration": 11,
    "start_time": "2022-11-01T16:12:23.629Z"
   },
   {
    "duration": 3,
    "start_time": "2022-11-01T16:15:37.864Z"
   },
   {
    "duration": 109,
    "start_time": "2022-11-01T16:16:04.557Z"
   },
   {
    "duration": 4,
    "start_time": "2022-11-01T16:16:11.451Z"
   },
   {
    "duration": 25,
    "start_time": "2022-11-01T16:16:15.219Z"
   },
   {
    "duration": 26,
    "start_time": "2022-11-01T16:16:25.275Z"
   },
   {
    "duration": 15,
    "start_time": "2022-11-01T16:16:34.870Z"
   },
   {
    "duration": 13,
    "start_time": "2022-11-01T16:16:43.324Z"
   },
   {
    "duration": 11,
    "start_time": "2022-11-01T16:17:17.070Z"
   },
   {
    "duration": 12,
    "start_time": "2022-11-01T16:17:46.603Z"
   },
   {
    "duration": 50,
    "start_time": "2022-11-03T11:06:25.190Z"
   },
   {
    "duration": 1273,
    "start_time": "2022-11-03T11:06:32.104Z"
   },
   {
    "duration": 115,
    "start_time": "2022-11-03T11:06:33.379Z"
   },
   {
    "duration": 23,
    "start_time": "2022-11-03T11:06:33.496Z"
   },
   {
    "duration": 28,
    "start_time": "2022-11-03T11:06:33.521Z"
   },
   {
    "duration": 40,
    "start_time": "2022-11-03T11:06:33.551Z"
   },
   {
    "duration": 8,
    "start_time": "2022-11-03T11:06:33.592Z"
   },
   {
    "duration": 27,
    "start_time": "2022-11-03T11:06:33.601Z"
   },
   {
    "duration": 25,
    "start_time": "2022-11-03T11:06:33.630Z"
   },
   {
    "duration": 39,
    "start_time": "2022-11-03T11:06:33.656Z"
   },
   {
    "duration": 32,
    "start_time": "2022-11-03T11:06:33.697Z"
   },
   {
    "duration": 17,
    "start_time": "2022-11-03T11:06:33.730Z"
   },
   {
    "duration": 10,
    "start_time": "2022-11-03T11:06:38.613Z"
   },
   {
    "duration": 15,
    "start_time": "2022-11-03T11:07:03.239Z"
   },
   {
    "duration": 16,
    "start_time": "2022-11-03T11:09:01.224Z"
   },
   {
    "duration": 18,
    "start_time": "2022-11-03T11:09:26.603Z"
   },
   {
    "duration": 23,
    "start_time": "2022-11-03T11:09:35.442Z"
   },
   {
    "duration": 1073,
    "start_time": "2022-11-03T11:10:22.592Z"
   },
   {
    "duration": 66,
    "start_time": "2022-11-03T11:10:23.667Z"
   },
   {
    "duration": 25,
    "start_time": "2022-11-03T11:10:23.735Z"
   },
   {
    "duration": 21,
    "start_time": "2022-11-03T11:10:23.762Z"
   },
   {
    "duration": 19,
    "start_time": "2022-11-03T11:10:23.785Z"
   },
   {
    "duration": 11,
    "start_time": "2022-11-03T11:10:23.806Z"
   },
   {
    "duration": 20,
    "start_time": "2022-11-03T11:10:23.818Z"
   },
   {
    "duration": 22,
    "start_time": "2022-11-03T11:10:23.839Z"
   },
   {
    "duration": 21,
    "start_time": "2022-11-03T11:10:23.862Z"
   },
   {
    "duration": 14,
    "start_time": "2022-11-03T11:10:23.884Z"
   },
   {
    "duration": 23,
    "start_time": "2022-11-03T11:10:23.900Z"
   },
   {
    "duration": 25,
    "start_time": "2022-11-03T11:12:55.182Z"
   },
   {
    "duration": 930,
    "start_time": "2022-11-03T11:14:19.355Z"
   },
   {
    "duration": 936,
    "start_time": "2022-11-03T11:14:29.989Z"
   },
   {
    "duration": 26,
    "start_time": "2022-11-03T11:14:44.644Z"
   },
   {
    "duration": 23,
    "start_time": "2022-11-03T11:15:10.428Z"
   },
   {
    "duration": 26,
    "start_time": "2022-11-03T11:15:29.941Z"
   },
   {
    "duration": 5,
    "start_time": "2022-11-03T11:16:42.089Z"
   },
   {
    "duration": 657,
    "start_time": "2022-11-03T11:19:25.552Z"
   },
   {
    "duration": 621,
    "start_time": "2022-11-03T11:19:45.880Z"
   },
   {
    "duration": 526,
    "start_time": "2022-11-03T11:19:56.524Z"
   },
   {
    "duration": 713,
    "start_time": "2022-11-03T11:20:21.840Z"
   },
   {
    "duration": 644,
    "start_time": "2022-11-03T11:20:48.644Z"
   },
   {
    "duration": 579,
    "start_time": "2022-11-03T11:21:15.985Z"
   },
   {
    "duration": 572,
    "start_time": "2022-11-03T11:21:27.325Z"
   },
   {
    "duration": 565,
    "start_time": "2022-11-03T11:21:38.024Z"
   },
   {
    "duration": 6,
    "start_time": "2022-11-03T11:21:53.908Z"
   },
   {
    "duration": 1218,
    "start_time": "2022-11-03T11:22:22.836Z"
   },
   {
    "duration": 63,
    "start_time": "2022-11-03T11:22:24.056Z"
   },
   {
    "duration": 25,
    "start_time": "2022-11-03T11:22:24.120Z"
   },
   {
    "duration": 21,
    "start_time": "2022-11-03T11:22:24.147Z"
   },
   {
    "duration": 23,
    "start_time": "2022-11-03T11:22:24.170Z"
   },
   {
    "duration": 9,
    "start_time": "2022-11-03T11:22:24.194Z"
   },
   {
    "duration": 24,
    "start_time": "2022-11-03T11:22:24.205Z"
   },
   {
    "duration": 28,
    "start_time": "2022-11-03T11:22:24.231Z"
   },
   {
    "duration": 14,
    "start_time": "2022-11-03T11:22:24.261Z"
   },
   {
    "duration": 26,
    "start_time": "2022-11-03T11:22:24.278Z"
   },
   {
    "duration": 36,
    "start_time": "2022-11-03T11:22:24.306Z"
   },
   {
    "duration": 24,
    "start_time": "2022-11-03T11:22:24.344Z"
   },
   {
    "duration": 190,
    "start_time": "2022-11-03T11:22:52.849Z"
   },
   {
    "duration": 202,
    "start_time": "2022-11-03T11:23:02.781Z"
   },
   {
    "duration": 260,
    "start_time": "2022-11-03T11:23:21.390Z"
   },
   {
    "duration": 1169,
    "start_time": "2022-11-03T11:25:10.198Z"
   },
   {
    "duration": 77,
    "start_time": "2022-11-03T11:25:11.369Z"
   },
   {
    "duration": 36,
    "start_time": "2022-11-03T11:25:11.448Z"
   },
   {
    "duration": 41,
    "start_time": "2022-11-03T11:25:11.487Z"
   },
   {
    "duration": 27,
    "start_time": "2022-11-03T11:25:11.531Z"
   },
   {
    "duration": 9,
    "start_time": "2022-11-03T11:25:11.561Z"
   },
   {
    "duration": 21,
    "start_time": "2022-11-03T11:25:11.572Z"
   },
   {
    "duration": 19,
    "start_time": "2022-11-03T11:25:11.595Z"
   },
   {
    "duration": 41,
    "start_time": "2022-11-03T11:25:11.616Z"
   },
   {
    "duration": 19,
    "start_time": "2022-11-03T11:25:11.660Z"
   },
   {
    "duration": 43,
    "start_time": "2022-11-03T11:25:11.682Z"
   },
   {
    "duration": 5,
    "start_time": "2022-11-03T11:25:29.876Z"
   },
   {
    "duration": 59,
    "start_time": "2022-11-03T11:26:28.436Z"
   },
   {
    "duration": 29,
    "start_time": "2022-11-03T11:26:43.392Z"
   },
   {
    "duration": 39,
    "start_time": "2022-11-03T11:26:56.525Z"
   },
   {
    "duration": 32,
    "start_time": "2022-11-03T11:27:06.556Z"
   },
   {
    "duration": 28,
    "start_time": "2022-11-03T11:27:13.529Z"
   },
   {
    "duration": 25,
    "start_time": "2022-11-03T11:27:46.519Z"
   },
   {
    "duration": 41,
    "start_time": "2022-11-03T11:27:49.490Z"
   },
   {
    "duration": 1171,
    "start_time": "2022-11-03T11:29:35.690Z"
   },
   {
    "duration": 65,
    "start_time": "2022-11-03T11:29:36.863Z"
   },
   {
    "duration": 23,
    "start_time": "2022-11-03T11:29:36.930Z"
   },
   {
    "duration": 26,
    "start_time": "2022-11-03T11:29:36.956Z"
   },
   {
    "duration": 21,
    "start_time": "2022-11-03T11:29:36.983Z"
   },
   {
    "duration": 6,
    "start_time": "2022-11-03T11:29:37.005Z"
   },
   {
    "duration": 15,
    "start_time": "2022-11-03T11:29:37.013Z"
   },
   {
    "duration": 28,
    "start_time": "2022-11-03T11:29:37.030Z"
   },
   {
    "duration": 13,
    "start_time": "2022-11-03T11:29:37.060Z"
   },
   {
    "duration": 25,
    "start_time": "2022-11-03T11:29:37.075Z"
   },
   {
    "duration": 20,
    "start_time": "2022-11-03T11:29:37.102Z"
   },
   {
    "duration": 2,
    "start_time": "2022-11-03T11:29:37.124Z"
   },
   {
    "duration": 33,
    "start_time": "2022-11-03T11:29:51.541Z"
   },
   {
    "duration": 24,
    "start_time": "2022-11-03T11:30:35.541Z"
   },
   {
    "duration": 28,
    "start_time": "2022-11-03T11:31:05.282Z"
   },
   {
    "duration": 1263,
    "start_time": "2022-11-03T11:32:01.180Z"
   },
   {
    "duration": 81,
    "start_time": "2022-11-03T11:32:02.445Z"
   },
   {
    "duration": 25,
    "start_time": "2022-11-03T11:32:02.527Z"
   },
   {
    "duration": 22,
    "start_time": "2022-11-03T11:32:02.554Z"
   },
   {
    "duration": 28,
    "start_time": "2022-11-03T11:32:02.577Z"
   },
   {
    "duration": 6,
    "start_time": "2022-11-03T11:32:02.607Z"
   },
   {
    "duration": 19,
    "start_time": "2022-11-03T11:32:02.614Z"
   },
   {
    "duration": 26,
    "start_time": "2022-11-03T11:32:02.635Z"
   },
   {
    "duration": 13,
    "start_time": "2022-11-03T11:32:02.662Z"
   },
   {
    "duration": 21,
    "start_time": "2022-11-03T11:32:02.678Z"
   },
   {
    "duration": 21,
    "start_time": "2022-11-03T11:32:02.701Z"
   },
   {
    "duration": 44,
    "start_time": "2022-11-03T11:32:02.724Z"
   },
   {
    "duration": 3,
    "start_time": "2022-11-03T11:32:02.769Z"
   },
   {
    "duration": 23,
    "start_time": "2022-11-03T11:32:07.721Z"
   },
   {
    "duration": 475,
    "start_time": "2022-11-03T11:32:37.064Z"
   },
   {
    "duration": 484,
    "start_time": "2022-11-03T11:32:49.592Z"
   },
   {
    "duration": 24,
    "start_time": "2022-11-03T11:33:03.423Z"
   },
   {
    "duration": 29,
    "start_time": "2022-11-03T11:33:24.856Z"
   },
   {
    "duration": 11,
    "start_time": "2022-11-03T11:33:33.387Z"
   },
   {
    "duration": 42,
    "start_time": "2022-11-03T11:33:53.578Z"
   },
   {
    "duration": 63,
    "start_time": "2022-11-03T11:34:38.703Z"
   },
   {
    "duration": 5,
    "start_time": "2022-11-03T11:34:52.582Z"
   },
   {
    "duration": 15,
    "start_time": "2022-11-03T11:34:56.029Z"
   },
   {
    "duration": 22,
    "start_time": "2022-11-03T11:35:51.123Z"
   },
   {
    "duration": 1108,
    "start_time": "2022-11-03T11:41:47.453Z"
   },
   {
    "duration": 65,
    "start_time": "2022-11-03T11:41:48.563Z"
   },
   {
    "duration": 31,
    "start_time": "2022-11-03T11:41:48.630Z"
   },
   {
    "duration": 24,
    "start_time": "2022-11-03T11:41:48.664Z"
   },
   {
    "duration": 23,
    "start_time": "2022-11-03T11:41:48.690Z"
   },
   {
    "duration": 6,
    "start_time": "2022-11-03T11:41:48.714Z"
   },
   {
    "duration": 33,
    "start_time": "2022-11-03T11:41:48.721Z"
   },
   {
    "duration": 9,
    "start_time": "2022-11-03T11:41:48.756Z"
   },
   {
    "duration": 20,
    "start_time": "2022-11-03T11:41:48.767Z"
   },
   {
    "duration": 17,
    "start_time": "2022-11-03T11:41:48.789Z"
   },
   {
    "duration": 27,
    "start_time": "2022-11-03T11:41:48.807Z"
   },
   {
    "duration": 26,
    "start_time": "2022-11-03T11:41:48.836Z"
   },
   {
    "duration": 31,
    "start_time": "2022-11-03T11:43:42.819Z"
   },
   {
    "duration": 41,
    "start_time": "2022-11-03T11:43:51.183Z"
   },
   {
    "duration": 38,
    "start_time": "2022-11-03T11:43:55.923Z"
   },
   {
    "duration": 29,
    "start_time": "2022-11-03T11:44:26.173Z"
   },
   {
    "duration": 2,
    "start_time": "2022-11-03T11:45:14.142Z"
   },
   {
    "duration": 1151,
    "start_time": "2022-11-03T11:45:18.122Z"
   },
   {
    "duration": 66,
    "start_time": "2022-11-03T11:45:19.274Z"
   },
   {
    "duration": 25,
    "start_time": "2022-11-03T11:45:19.341Z"
   },
   {
    "duration": 21,
    "start_time": "2022-11-03T11:45:19.368Z"
   },
   {
    "duration": 19,
    "start_time": "2022-11-03T11:45:19.391Z"
   },
   {
    "duration": 6,
    "start_time": "2022-11-03T11:45:19.412Z"
   },
   {
    "duration": 37,
    "start_time": "2022-11-03T11:45:19.419Z"
   },
   {
    "duration": 11,
    "start_time": "2022-11-03T11:45:19.458Z"
   },
   {
    "duration": 14,
    "start_time": "2022-11-03T11:45:19.471Z"
   },
   {
    "duration": 13,
    "start_time": "2022-11-03T11:45:19.487Z"
   },
   {
    "duration": 20,
    "start_time": "2022-11-03T11:45:19.501Z"
   },
   {
    "duration": 34,
    "start_time": "2022-11-03T11:45:19.522Z"
   },
   {
    "duration": 104,
    "start_time": "2022-11-03T11:46:14.370Z"
   },
   {
    "duration": 29,
    "start_time": "2022-11-03T11:46:31.123Z"
   },
   {
    "duration": 1086,
    "start_time": "2022-11-03T11:46:54.410Z"
   },
   {
    "duration": 67,
    "start_time": "2022-11-03T11:46:55.498Z"
   },
   {
    "duration": 27,
    "start_time": "2022-11-03T11:46:55.567Z"
   },
   {
    "duration": 38,
    "start_time": "2022-11-03T11:46:55.596Z"
   },
   {
    "duration": 29,
    "start_time": "2022-11-03T11:46:55.636Z"
   },
   {
    "duration": 19,
    "start_time": "2022-11-03T11:46:55.667Z"
   },
   {
    "duration": 24,
    "start_time": "2022-11-03T11:46:55.688Z"
   },
   {
    "duration": 16,
    "start_time": "2022-11-03T11:46:55.714Z"
   },
   {
    "duration": 43,
    "start_time": "2022-11-03T11:46:55.732Z"
   },
   {
    "duration": 35,
    "start_time": "2022-11-03T11:46:55.778Z"
   },
   {
    "duration": 137,
    "start_time": "2022-11-03T11:46:55.815Z"
   },
   {
    "duration": 0,
    "start_time": "2022-11-03T11:46:55.954Z"
   },
   {
    "duration": 20,
    "start_time": "2022-11-03T11:47:48.558Z"
   },
   {
    "duration": 11,
    "start_time": "2022-11-03T11:47:51.645Z"
   },
   {
    "duration": 1083,
    "start_time": "2022-11-03T11:47:59.094Z"
   },
   {
    "duration": 66,
    "start_time": "2022-11-03T11:48:00.179Z"
   },
   {
    "duration": 23,
    "start_time": "2022-11-03T11:48:00.247Z"
   },
   {
    "duration": 20,
    "start_time": "2022-11-03T11:48:00.272Z"
   },
   {
    "duration": 30,
    "start_time": "2022-11-03T11:48:00.294Z"
   },
   {
    "duration": 20,
    "start_time": "2022-11-03T11:48:00.326Z"
   },
   {
    "duration": 32,
    "start_time": "2022-11-03T11:48:00.347Z"
   },
   {
    "duration": 39,
    "start_time": "2022-11-03T11:48:00.381Z"
   },
   {
    "duration": 36,
    "start_time": "2022-11-03T11:48:00.422Z"
   },
   {
    "duration": 25,
    "start_time": "2022-11-03T11:48:00.461Z"
   },
   {
    "duration": 43,
    "start_time": "2022-11-03T11:48:00.488Z"
   },
   {
    "duration": 4,
    "start_time": "2022-11-03T11:48:00.533Z"
   },
   {
    "duration": 118,
    "start_time": "2022-11-03T11:48:17.949Z"
   },
   {
    "duration": 1212,
    "start_time": "2022-11-03T11:48:45.345Z"
   },
   {
    "duration": 63,
    "start_time": "2022-11-03T11:48:46.560Z"
   },
   {
    "duration": 23,
    "start_time": "2022-11-03T11:48:46.625Z"
   },
   {
    "duration": 25,
    "start_time": "2022-11-03T11:48:46.650Z"
   },
   {
    "duration": 18,
    "start_time": "2022-11-03T11:48:46.677Z"
   },
   {
    "duration": 6,
    "start_time": "2022-11-03T11:48:46.696Z"
   },
   {
    "duration": 16,
    "start_time": "2022-11-03T11:48:46.703Z"
   },
   {
    "duration": 35,
    "start_time": "2022-11-03T11:48:46.720Z"
   },
   {
    "duration": 15,
    "start_time": "2022-11-03T11:48:46.756Z"
   },
   {
    "duration": 14,
    "start_time": "2022-11-03T11:48:46.774Z"
   },
   {
    "duration": 73,
    "start_time": "2022-11-03T11:48:46.790Z"
   },
   {
    "duration": 3,
    "start_time": "2022-11-03T11:48:46.865Z"
   },
   {
    "duration": 32,
    "start_time": "2022-11-03T11:49:47.952Z"
   },
   {
    "duration": 5,
    "start_time": "2022-11-03T12:16:47.701Z"
   },
   {
    "duration": 22,
    "start_time": "2022-11-03T12:16:51.878Z"
   },
   {
    "duration": 26,
    "start_time": "2022-11-03T12:17:17.450Z"
   },
   {
    "duration": 36,
    "start_time": "2022-11-03T12:17:45.390Z"
   },
   {
    "duration": 97,
    "start_time": "2022-11-03T12:18:26.808Z"
   },
   {
    "duration": 44,
    "start_time": "2022-11-03T12:19:25.549Z"
   },
   {
    "duration": 30,
    "start_time": "2022-11-03T12:21:53.319Z"
   },
   {
    "duration": 37,
    "start_time": "2022-11-03T12:22:21.523Z"
   },
   {
    "duration": 27,
    "start_time": "2022-11-03T12:22:31.408Z"
   },
   {
    "duration": 1145,
    "start_time": "2022-11-03T12:22:35.924Z"
   },
   {
    "duration": 64,
    "start_time": "2022-11-03T12:22:37.071Z"
   },
   {
    "duration": 28,
    "start_time": "2022-11-03T12:22:37.137Z"
   },
   {
    "duration": 21,
    "start_time": "2022-11-03T12:22:37.167Z"
   },
   {
    "duration": 24,
    "start_time": "2022-11-03T12:22:37.189Z"
   },
   {
    "duration": 5,
    "start_time": "2022-11-03T12:22:37.215Z"
   },
   {
    "duration": 33,
    "start_time": "2022-11-03T12:22:37.222Z"
   },
   {
    "duration": 16,
    "start_time": "2022-11-03T12:22:37.256Z"
   },
   {
    "duration": 16,
    "start_time": "2022-11-03T12:22:37.277Z"
   },
   {
    "duration": 24,
    "start_time": "2022-11-03T12:22:37.295Z"
   },
   {
    "duration": 49,
    "start_time": "2022-11-03T12:22:37.320Z"
   },
   {
    "duration": 29,
    "start_time": "2022-11-03T12:22:37.371Z"
   },
   {
    "duration": 3,
    "start_time": "2022-11-03T12:22:42.912Z"
   },
   {
    "duration": 37,
    "start_time": "2022-11-03T12:22:48.416Z"
   },
   {
    "duration": 10,
    "start_time": "2022-11-03T12:23:00.805Z"
   },
   {
    "duration": 8,
    "start_time": "2022-11-03T12:23:11.961Z"
   },
   {
    "duration": 37,
    "start_time": "2022-11-03T12:23:40.528Z"
   },
   {
    "duration": 50,
    "start_time": "2022-11-03T12:24:15.805Z"
   },
   {
    "duration": 72,
    "start_time": "2022-11-03T12:24:21.456Z"
   },
   {
    "duration": 53,
    "start_time": "2022-11-03T12:24:27.768Z"
   },
   {
    "duration": 1153,
    "start_time": "2022-11-03T12:26:34.286Z"
   },
   {
    "duration": 75,
    "start_time": "2022-11-03T12:26:35.442Z"
   },
   {
    "duration": 28,
    "start_time": "2022-11-03T12:26:35.519Z"
   },
   {
    "duration": 32,
    "start_time": "2022-11-03T12:26:35.549Z"
   },
   {
    "duration": 51,
    "start_time": "2022-11-03T12:26:35.583Z"
   },
   {
    "duration": 15,
    "start_time": "2022-11-03T12:26:35.636Z"
   },
   {
    "duration": 35,
    "start_time": "2022-11-03T12:26:35.653Z"
   },
   {
    "duration": 13,
    "start_time": "2022-11-03T12:26:35.690Z"
   },
   {
    "duration": 13,
    "start_time": "2022-11-03T12:26:35.705Z"
   },
   {
    "duration": 15,
    "start_time": "2022-11-03T12:26:35.720Z"
   },
   {
    "duration": 60,
    "start_time": "2022-11-03T12:26:35.736Z"
   },
   {
    "duration": 2,
    "start_time": "2022-11-03T12:26:35.798Z"
   },
   {
    "duration": 17,
    "start_time": "2022-11-03T12:26:52.305Z"
   },
   {
    "duration": 34,
    "start_time": "2022-11-03T12:26:54.883Z"
   },
   {
    "duration": 16,
    "start_time": "2022-11-03T12:27:00.841Z"
   },
   {
    "duration": 17,
    "start_time": "2022-11-03T12:27:35.256Z"
   },
   {
    "duration": 1325,
    "start_time": "2022-11-03T12:27:40.564Z"
   },
   {
    "duration": 77,
    "start_time": "2022-11-03T12:27:41.892Z"
   },
   {
    "duration": 32,
    "start_time": "2022-11-03T12:27:41.971Z"
   },
   {
    "duration": 26,
    "start_time": "2022-11-03T12:27:42.005Z"
   },
   {
    "duration": 34,
    "start_time": "2022-11-03T12:27:42.032Z"
   },
   {
    "duration": 8,
    "start_time": "2022-11-03T12:27:42.068Z"
   },
   {
    "duration": 15,
    "start_time": "2022-11-03T12:27:42.078Z"
   },
   {
    "duration": 10,
    "start_time": "2022-11-03T12:27:42.096Z"
   },
   {
    "duration": 46,
    "start_time": "2022-11-03T12:27:42.108Z"
   },
   {
    "duration": 16,
    "start_time": "2022-11-03T12:27:42.157Z"
   },
   {
    "duration": 22,
    "start_time": "2022-11-03T12:27:42.175Z"
   },
   {
    "duration": 21,
    "start_time": "2022-11-03T12:27:42.198Z"
   },
   {
    "duration": 4,
    "start_time": "2022-11-03T12:28:45.364Z"
   },
   {
    "duration": 105,
    "start_time": "2022-11-03T12:29:07.244Z"
   },
   {
    "duration": 13,
    "start_time": "2022-11-03T12:30:10.531Z"
   },
   {
    "duration": 6,
    "start_time": "2022-11-03T12:30:44.195Z"
   },
   {
    "duration": 58,
    "start_time": "2022-11-03T12:31:56.047Z"
   },
   {
    "duration": 12,
    "start_time": "2022-11-03T12:33:19.088Z"
   },
   {
    "duration": 12,
    "start_time": "2022-11-03T12:33:24.163Z"
   },
   {
    "duration": 6,
    "start_time": "2022-11-03T12:34:24.761Z"
   },
   {
    "duration": 6,
    "start_time": "2022-11-03T12:34:31.682Z"
   },
   {
    "duration": 4,
    "start_time": "2022-11-03T12:36:10.698Z"
   },
   {
    "duration": 6,
    "start_time": "2022-11-03T12:36:14.571Z"
   },
   {
    "duration": 733,
    "start_time": "2022-11-03T12:38:28.672Z"
   },
   {
    "duration": 5,
    "start_time": "2022-11-03T12:43:35.149Z"
   },
   {
    "duration": 5,
    "start_time": "2022-11-03T12:43:40.671Z"
   },
   {
    "duration": 9,
    "start_time": "2022-11-03T12:43:47.894Z"
   },
   {
    "duration": 4,
    "start_time": "2022-11-03T12:44:22.028Z"
   },
   {
    "duration": 12,
    "start_time": "2022-11-03T12:44:26.215Z"
   },
   {
    "duration": 16,
    "start_time": "2022-11-03T12:44:31.123Z"
   },
   {
    "duration": 11,
    "start_time": "2022-11-03T12:44:34.763Z"
   },
   {
    "duration": 6,
    "start_time": "2022-11-03T12:44:54.673Z"
   },
   {
    "duration": 8,
    "start_time": "2022-11-03T12:44:57.622Z"
   },
   {
    "duration": 7,
    "start_time": "2022-11-03T12:45:05.205Z"
   },
   {
    "duration": 7,
    "start_time": "2022-11-03T12:46:10.120Z"
   },
   {
    "duration": 68,
    "start_time": "2022-11-03T12:46:50.986Z"
   },
   {
    "duration": 9,
    "start_time": "2022-11-03T12:47:19.201Z"
   },
   {
    "duration": 13,
    "start_time": "2022-11-03T12:47:41.565Z"
   },
   {
    "duration": 8,
    "start_time": "2022-11-03T12:47:46.751Z"
   },
   {
    "duration": 12,
    "start_time": "2022-11-03T12:47:52.633Z"
   },
   {
    "duration": 9,
    "start_time": "2022-11-03T12:48:03.646Z"
   },
   {
    "duration": 48,
    "start_time": "2022-11-03T12:49:57.277Z"
   },
   {
    "duration": 785,
    "start_time": "2022-11-03T12:50:00.808Z"
   },
   {
    "duration": 904,
    "start_time": "2022-11-03T12:50:24.492Z"
   },
   {
    "duration": 773,
    "start_time": "2022-11-03T12:50:37.180Z"
   },
   {
    "duration": 13,
    "start_time": "2022-11-03T12:50:53.083Z"
   },
   {
    "duration": 13,
    "start_time": "2022-11-03T12:51:09.277Z"
   },
   {
    "duration": 13,
    "start_time": "2022-11-03T12:51:36.873Z"
   },
   {
    "duration": 15,
    "start_time": "2022-11-03T12:51:40.914Z"
   },
   {
    "duration": 87,
    "start_time": "2022-11-03T12:52:46.305Z"
   },
   {
    "duration": 70,
    "start_time": "2022-11-03T12:52:52.133Z"
   },
   {
    "duration": 39,
    "start_time": "2022-11-03T12:53:15.036Z"
   },
   {
    "duration": 649,
    "start_time": "2022-11-03T12:53:50.501Z"
   },
   {
    "duration": 1208,
    "start_time": "2022-11-03T12:53:58.567Z"
   },
   {
    "duration": 66,
    "start_time": "2022-11-03T12:53:59.777Z"
   },
   {
    "duration": 32,
    "start_time": "2022-11-03T12:53:59.845Z"
   },
   {
    "duration": 25,
    "start_time": "2022-11-03T12:53:59.878Z"
   },
   {
    "duration": 18,
    "start_time": "2022-11-03T12:53:59.905Z"
   },
   {
    "duration": 11,
    "start_time": "2022-11-03T12:53:59.924Z"
   },
   {
    "duration": 32,
    "start_time": "2022-11-03T12:53:59.936Z"
   },
   {
    "duration": 12,
    "start_time": "2022-11-03T12:53:59.970Z"
   },
   {
    "duration": 12,
    "start_time": "2022-11-03T12:53:59.983Z"
   },
   {
    "duration": 17,
    "start_time": "2022-11-03T12:53:59.997Z"
   },
   {
    "duration": 57,
    "start_time": "2022-11-03T12:54:00.016Z"
   },
   {
    "duration": 861,
    "start_time": "2022-11-03T12:54:00.075Z"
   },
   {
    "duration": 584,
    "start_time": "2022-11-03T12:54:20.432Z"
   },
   {
    "duration": 1193,
    "start_time": "2022-11-03T12:54:27.977Z"
   },
   {
    "duration": 68,
    "start_time": "2022-11-03T12:54:29.172Z"
   },
   {
    "duration": 36,
    "start_time": "2022-11-03T12:54:29.241Z"
   },
   {
    "duration": 21,
    "start_time": "2022-11-03T12:54:29.279Z"
   },
   {
    "duration": 22,
    "start_time": "2022-11-03T12:54:29.302Z"
   },
   {
    "duration": 5,
    "start_time": "2022-11-03T12:54:29.326Z"
   },
   {
    "duration": 29,
    "start_time": "2022-11-03T12:54:29.333Z"
   },
   {
    "duration": 10,
    "start_time": "2022-11-03T12:54:29.366Z"
   },
   {
    "duration": 12,
    "start_time": "2022-11-03T12:54:29.377Z"
   },
   {
    "duration": 13,
    "start_time": "2022-11-03T12:54:29.392Z"
   },
   {
    "duration": 74,
    "start_time": "2022-11-03T12:54:29.407Z"
   },
   {
    "duration": 703,
    "start_time": "2022-11-03T12:54:29.483Z"
   },
   {
    "duration": 8,
    "start_time": "2022-11-03T12:54:46.049Z"
   },
   {
    "duration": 1177,
    "start_time": "2022-11-03T12:55:03.433Z"
   },
   {
    "duration": 71,
    "start_time": "2022-11-03T12:55:04.612Z"
   },
   {
    "duration": 24,
    "start_time": "2022-11-03T12:55:04.685Z"
   },
   {
    "duration": 23,
    "start_time": "2022-11-03T12:55:04.711Z"
   },
   {
    "duration": 22,
    "start_time": "2022-11-03T12:55:04.753Z"
   },
   {
    "duration": 8,
    "start_time": "2022-11-03T12:55:04.776Z"
   },
   {
    "duration": 16,
    "start_time": "2022-11-03T12:55:04.786Z"
   },
   {
    "duration": 10,
    "start_time": "2022-11-03T12:55:04.803Z"
   },
   {
    "duration": 55,
    "start_time": "2022-11-03T12:55:04.815Z"
   },
   {
    "duration": 14,
    "start_time": "2022-11-03T12:55:04.876Z"
   },
   {
    "duration": 22,
    "start_time": "2022-11-03T12:55:04.892Z"
   },
   {
    "duration": 127,
    "start_time": "2022-11-03T12:55:04.915Z"
   },
   {
    "duration": 0,
    "start_time": "2022-11-03T12:55:05.043Z"
   },
   {
    "duration": 21,
    "start_time": "2022-11-03T12:55:09.191Z"
   },
   {
    "duration": 1190,
    "start_time": "2022-11-03T12:56:48.724Z"
   },
   {
    "duration": 71,
    "start_time": "2022-11-03T12:56:49.916Z"
   },
   {
    "duration": 24,
    "start_time": "2022-11-03T12:56:49.989Z"
   },
   {
    "duration": 24,
    "start_time": "2022-11-03T12:56:50.015Z"
   },
   {
    "duration": 53,
    "start_time": "2022-11-03T12:56:50.040Z"
   },
   {
    "duration": 7,
    "start_time": "2022-11-03T12:56:50.095Z"
   },
   {
    "duration": 23,
    "start_time": "2022-11-03T12:56:50.104Z"
   },
   {
    "duration": 11,
    "start_time": "2022-11-03T12:56:50.130Z"
   },
   {
    "duration": 30,
    "start_time": "2022-11-03T12:56:50.143Z"
   },
   {
    "duration": 17,
    "start_time": "2022-11-03T12:56:50.176Z"
   },
   {
    "duration": 25,
    "start_time": "2022-11-03T12:56:50.195Z"
   },
   {
    "duration": 101,
    "start_time": "2022-11-03T12:56:50.222Z"
   },
   {
    "duration": 22,
    "start_time": "2022-11-03T12:56:50.325Z"
   },
   {
    "duration": 12,
    "start_time": "2022-11-03T13:12:05.447Z"
   },
   {
    "duration": 21,
    "start_time": "2022-11-03T13:12:11.334Z"
   },
   {
    "duration": 14,
    "start_time": "2022-11-03T13:16:28.542Z"
   },
   {
    "duration": 550,
    "start_time": "2022-11-03T13:23:13.402Z"
   },
   {
    "duration": 15,
    "start_time": "2022-11-03T13:23:28.943Z"
   },
   {
    "duration": 1192,
    "start_time": "2022-11-03T13:24:14.868Z"
   },
   {
    "duration": 73,
    "start_time": "2022-11-03T13:24:16.062Z"
   },
   {
    "duration": 24,
    "start_time": "2022-11-03T13:24:16.137Z"
   },
   {
    "duration": 22,
    "start_time": "2022-11-03T13:24:16.163Z"
   },
   {
    "duration": 18,
    "start_time": "2022-11-03T13:24:16.187Z"
   },
   {
    "duration": 5,
    "start_time": "2022-11-03T13:24:16.207Z"
   },
   {
    "duration": 41,
    "start_time": "2022-11-03T13:24:16.214Z"
   },
   {
    "duration": 11,
    "start_time": "2022-11-03T13:24:16.257Z"
   },
   {
    "duration": 13,
    "start_time": "2022-11-03T13:24:16.270Z"
   },
   {
    "duration": 13,
    "start_time": "2022-11-03T13:24:16.286Z"
   },
   {
    "duration": 53,
    "start_time": "2022-11-03T13:24:16.301Z"
   },
   {
    "duration": 12,
    "start_time": "2022-11-03T13:24:16.356Z"
   },
   {
    "duration": 15,
    "start_time": "2022-11-03T13:24:16.370Z"
   },
   {
    "duration": 117,
    "start_time": "2022-11-03T13:24:16.386Z"
   },
   {
    "duration": 6,
    "start_time": "2022-11-03T13:25:09.542Z"
   },
   {
    "duration": 26,
    "start_time": "2022-11-03T13:25:14.989Z"
   },
   {
    "duration": 27,
    "start_time": "2022-11-03T13:41:36.329Z"
   },
   {
    "duration": 14,
    "start_time": "2022-11-03T13:44:43.907Z"
   },
   {
    "duration": 22,
    "start_time": "2022-11-03T13:44:54.229Z"
   },
   {
    "duration": 8,
    "start_time": "2022-11-03T13:45:07.140Z"
   },
   {
    "duration": 6,
    "start_time": "2022-11-03T13:47:27.845Z"
   },
   {
    "duration": 683,
    "start_time": "2022-11-03T13:47:32.837Z"
   },
   {
    "duration": 773,
    "start_time": "2022-11-03T13:47:39.513Z"
   },
   {
    "duration": 8,
    "start_time": "2022-11-03T13:47:46.564Z"
   },
   {
    "duration": 7,
    "start_time": "2022-11-03T13:47:56.619Z"
   },
   {
    "duration": 14,
    "start_time": "2022-11-03T13:48:40.399Z"
   },
   {
    "duration": 165,
    "start_time": "2022-11-03T13:48:51.209Z"
   },
   {
    "duration": 142,
    "start_time": "2022-11-03T13:49:40.134Z"
   },
   {
    "duration": 154,
    "start_time": "2022-11-03T13:49:54.357Z"
   },
   {
    "duration": 146,
    "start_time": "2022-11-03T13:50:02.598Z"
   },
   {
    "duration": 141,
    "start_time": "2022-11-03T13:50:22.134Z"
   },
   {
    "duration": 8,
    "start_time": "2022-11-03T14:01:42.931Z"
   },
   {
    "duration": 7,
    "start_time": "2022-11-03T14:02:27.077Z"
   },
   {
    "duration": 10,
    "start_time": "2022-11-03T14:02:39.616Z"
   },
   {
    "duration": 16,
    "start_time": "2022-11-03T14:03:40.662Z"
   },
   {
    "duration": 15,
    "start_time": "2022-11-03T14:03:56.439Z"
   },
   {
    "duration": 14,
    "start_time": "2022-11-03T14:04:02.233Z"
   },
   {
    "duration": 13,
    "start_time": "2022-11-03T14:04:14.027Z"
   },
   {
    "duration": 12,
    "start_time": "2022-11-03T14:20:23.822Z"
   },
   {
    "duration": 15,
    "start_time": "2022-11-03T14:20:41.616Z"
   },
   {
    "duration": 7,
    "start_time": "2022-11-03T14:20:51.959Z"
   },
   {
    "duration": 16,
    "start_time": "2022-11-03T14:25:41.321Z"
   },
   {
    "duration": 15,
    "start_time": "2022-11-03T14:25:53.754Z"
   },
   {
    "duration": 36,
    "start_time": "2022-11-03T14:25:58.684Z"
   },
   {
    "duration": 45,
    "start_time": "2022-11-03T14:29:11.383Z"
   },
   {
    "duration": 547,
    "start_time": "2022-11-03T14:29:42.393Z"
   },
   {
    "duration": 513,
    "start_time": "2022-11-03T14:30:53.494Z"
   },
   {
    "duration": 24,
    "start_time": "2022-11-03T14:31:02.532Z"
   },
   {
    "duration": 539,
    "start_time": "2022-11-03T14:31:05.255Z"
   },
   {
    "duration": 30,
    "start_time": "2022-11-03T14:31:32.353Z"
   },
   {
    "duration": 22,
    "start_time": "2022-11-03T14:32:48.909Z"
   },
   {
    "duration": 15,
    "start_time": "2022-11-03T14:33:27.321Z"
   },
   {
    "duration": 25,
    "start_time": "2022-11-03T14:33:49.480Z"
   },
   {
    "duration": 1197,
    "start_time": "2022-11-03T14:34:00.188Z"
   },
   {
    "duration": 82,
    "start_time": "2022-11-03T14:34:01.387Z"
   },
   {
    "duration": 36,
    "start_time": "2022-11-03T14:34:01.471Z"
   },
   {
    "duration": 44,
    "start_time": "2022-11-03T14:34:01.510Z"
   },
   {
    "duration": 51,
    "start_time": "2022-11-03T14:34:01.556Z"
   },
   {
    "duration": 32,
    "start_time": "2022-11-03T14:34:01.609Z"
   },
   {
    "duration": 75,
    "start_time": "2022-11-03T14:34:01.643Z"
   },
   {
    "duration": 36,
    "start_time": "2022-11-03T14:34:01.719Z"
   },
   {
    "duration": 33,
    "start_time": "2022-11-03T14:34:01.757Z"
   },
   {
    "duration": 35,
    "start_time": "2022-11-03T14:34:01.793Z"
   },
   {
    "duration": 29,
    "start_time": "2022-11-03T14:34:01.830Z"
   },
   {
    "duration": 15,
    "start_time": "2022-11-03T14:34:01.861Z"
   },
   {
    "duration": 20,
    "start_time": "2022-11-03T14:34:01.878Z"
   },
   {
    "duration": 26,
    "start_time": "2022-11-03T14:34:01.900Z"
   },
   {
    "duration": 175,
    "start_time": "2022-11-03T14:34:01.928Z"
   },
   {
    "duration": 20,
    "start_time": "2022-11-03T14:34:02.105Z"
   },
   {
    "duration": 19,
    "start_time": "2022-11-03T14:34:17.789Z"
   },
   {
    "duration": 8,
    "start_time": "2022-11-03T14:35:15.284Z"
   },
   {
    "duration": 12,
    "start_time": "2022-11-03T14:35:31.596Z"
   },
   {
    "duration": 8,
    "start_time": "2022-11-03T14:35:39.539Z"
   },
   {
    "duration": 17,
    "start_time": "2022-11-03T14:35:44.780Z"
   },
   {
    "duration": 106,
    "start_time": "2022-11-03T14:36:01.991Z"
   },
   {
    "duration": 23,
    "start_time": "2022-11-03T14:36:16.407Z"
   },
   {
    "duration": 17,
    "start_time": "2022-11-03T14:36:24.564Z"
   },
   {
    "duration": 24,
    "start_time": "2022-11-03T14:36:35.810Z"
   },
   {
    "duration": 16,
    "start_time": "2022-11-03T14:39:09.147Z"
   },
   {
    "duration": 19,
    "start_time": "2022-11-03T14:39:12.860Z"
   },
   {
    "duration": 18,
    "start_time": "2022-11-03T14:39:37.445Z"
   },
   {
    "duration": 1107,
    "start_time": "2022-11-03T14:39:49.273Z"
   },
   {
    "duration": 67,
    "start_time": "2022-11-03T14:39:50.382Z"
   },
   {
    "duration": 24,
    "start_time": "2022-11-03T14:39:50.451Z"
   },
   {
    "duration": 24,
    "start_time": "2022-11-03T14:39:50.476Z"
   },
   {
    "duration": 28,
    "start_time": "2022-11-03T14:39:50.501Z"
   },
   {
    "duration": 5,
    "start_time": "2022-11-03T14:39:50.531Z"
   },
   {
    "duration": 31,
    "start_time": "2022-11-03T14:39:50.538Z"
   },
   {
    "duration": 26,
    "start_time": "2022-11-03T14:39:50.570Z"
   },
   {
    "duration": 38,
    "start_time": "2022-11-03T14:39:50.597Z"
   },
   {
    "duration": 27,
    "start_time": "2022-11-03T14:39:50.638Z"
   },
   {
    "duration": 47,
    "start_time": "2022-11-03T14:39:50.667Z"
   },
   {
    "duration": 11,
    "start_time": "2022-11-03T14:39:50.716Z"
   },
   {
    "duration": 16,
    "start_time": "2022-11-03T14:39:50.729Z"
   },
   {
    "duration": 28,
    "start_time": "2022-11-03T14:39:50.746Z"
   },
   {
    "duration": 167,
    "start_time": "2022-11-03T14:39:50.776Z"
   },
   {
    "duration": 10,
    "start_time": "2022-11-03T14:39:50.945Z"
   },
   {
    "duration": 34,
    "start_time": "2022-11-03T14:39:50.956Z"
   },
   {
    "duration": 21,
    "start_time": "2022-11-03T14:39:58.044Z"
   },
   {
    "duration": 110,
    "start_time": "2022-11-03T14:40:21.080Z"
   },
   {
    "duration": 19,
    "start_time": "2022-11-03T14:40:29.378Z"
   },
   {
    "duration": 78,
    "start_time": "2022-11-03T14:41:31.500Z"
   },
   {
    "duration": 60,
    "start_time": "2022-11-03T14:42:45.380Z"
   },
   {
    "duration": 63,
    "start_time": "2022-11-03T14:42:57.633Z"
   },
   {
    "duration": 66,
    "start_time": "2022-11-03T14:43:08.003Z"
   },
   {
    "duration": 76,
    "start_time": "2022-11-03T14:43:20.025Z"
   },
   {
    "duration": 101,
    "start_time": "2022-11-03T14:50:25.396Z"
   },
   {
    "duration": 10,
    "start_time": "2022-11-03T14:50:31.124Z"
   },
   {
    "duration": 10,
    "start_time": "2022-11-03T14:50:34.843Z"
   },
   {
    "duration": 14,
    "start_time": "2022-11-03T14:50:38.295Z"
   },
   {
    "duration": 61,
    "start_time": "2022-11-03T14:50:43.590Z"
   },
   {
    "duration": 5,
    "start_time": "2022-11-03T14:53:10.722Z"
   },
   {
    "duration": 9,
    "start_time": "2022-11-03T14:53:15.537Z"
   },
   {
    "duration": 6,
    "start_time": "2022-11-03T14:53:27.296Z"
   },
   {
    "duration": 7,
    "start_time": "2022-11-03T14:53:30.714Z"
   },
   {
    "duration": 9,
    "start_time": "2022-11-03T14:54:39.361Z"
   },
   {
    "duration": 10,
    "start_time": "2022-11-03T14:56:01.439Z"
   },
   {
    "duration": 798,
    "start_time": "2022-11-03T15:01:59.057Z"
   },
   {
    "duration": 27,
    "start_time": "2022-11-03T15:02:07.599Z"
   },
   {
    "duration": 814,
    "start_time": "2022-11-03T15:02:20.403Z"
   },
   {
    "duration": 832,
    "start_time": "2022-11-03T15:03:47.238Z"
   },
   {
    "duration": 27,
    "start_time": "2022-11-03T15:04:04.902Z"
   },
   {
    "duration": 8,
    "start_time": "2022-11-03T15:04:24.869Z"
   },
   {
    "duration": 24,
    "start_time": "2022-11-03T15:04:26.889Z"
   },
   {
    "duration": 39,
    "start_time": "2022-11-03T15:04:36.092Z"
   },
   {
    "duration": 11,
    "start_time": "2022-11-03T15:05:29.877Z"
   },
   {
    "duration": 38,
    "start_time": "2022-11-03T15:06:10.183Z"
   },
   {
    "duration": 238,
    "start_time": "2022-11-03T15:06:17.898Z"
   },
   {
    "duration": 291,
    "start_time": "2022-11-03T15:06:37.138Z"
   },
   {
    "duration": 292,
    "start_time": "2022-11-03T15:06:40.835Z"
   },
   {
    "duration": 257,
    "start_time": "2022-11-03T15:09:06.266Z"
   },
   {
    "duration": 265,
    "start_time": "2022-11-03T15:09:20.561Z"
   },
   {
    "duration": 257,
    "start_time": "2022-11-03T15:09:29.600Z"
   },
   {
    "duration": 365,
    "start_time": "2022-11-03T15:09:35.542Z"
   },
   {
    "duration": 296,
    "start_time": "2022-11-03T15:10:20.595Z"
   },
   {
    "duration": 242,
    "start_time": "2022-11-03T15:10:25.882Z"
   },
   {
    "duration": 252,
    "start_time": "2022-11-03T15:10:30.015Z"
   },
   {
    "duration": 243,
    "start_time": "2022-11-03T15:10:35.787Z"
   },
   {
    "duration": 245,
    "start_time": "2022-11-03T15:10:40.816Z"
   },
   {
    "duration": 262,
    "start_time": "2022-11-03T15:10:46.394Z"
   },
   {
    "duration": 1147,
    "start_time": "2022-11-04T18:18:09.004Z"
   },
   {
    "duration": 215,
    "start_time": "2022-11-04T18:18:10.153Z"
   },
   {
    "duration": 21,
    "start_time": "2022-11-04T18:18:10.370Z"
   },
   {
    "duration": 18,
    "start_time": "2022-11-04T18:18:10.393Z"
   },
   {
    "duration": 15,
    "start_time": "2022-11-04T18:18:10.412Z"
   },
   {
    "duration": 4,
    "start_time": "2022-11-04T18:18:10.429Z"
   },
   {
    "duration": 13,
    "start_time": "2022-11-04T18:18:10.434Z"
   },
   {
    "duration": 31,
    "start_time": "2022-11-04T18:18:10.448Z"
   },
   {
    "duration": 11,
    "start_time": "2022-11-04T18:18:10.480Z"
   },
   {
    "duration": 12,
    "start_time": "2022-11-04T18:18:10.493Z"
   },
   {
    "duration": 20,
    "start_time": "2022-11-04T18:18:10.507Z"
   },
   {
    "duration": 10,
    "start_time": "2022-11-04T18:18:10.528Z"
   },
   {
    "duration": 42,
    "start_time": "2022-11-04T18:18:10.539Z"
   },
   {
    "duration": 21,
    "start_time": "2022-11-04T18:18:10.583Z"
   },
   {
    "duration": 147,
    "start_time": "2022-11-04T18:18:10.606Z"
   },
   {
    "duration": 7,
    "start_time": "2022-11-04T18:18:10.755Z"
   },
   {
    "duration": 251,
    "start_time": "2022-11-04T18:18:10.764Z"
   },
   {
    "duration": 109,
    "start_time": "2022-11-04T18:22:12.636Z"
   },
   {
    "duration": 5,
    "start_time": "2022-11-04T18:22:21.229Z"
   },
   {
    "duration": 21,
    "start_time": "2022-11-04T18:22:27.614Z"
   },
   {
    "duration": 11,
    "start_time": "2022-11-04T18:22:41.959Z"
   },
   {
    "duration": 5,
    "start_time": "2022-11-04T18:22:56.172Z"
   },
   {
    "duration": 21,
    "start_time": "2022-11-04T18:23:00.446Z"
   },
   {
    "duration": 12,
    "start_time": "2022-11-04T18:23:06.233Z"
   },
   {
    "duration": 729,
    "start_time": "2022-11-04T18:28:28.336Z"
   },
   {
    "duration": 752,
    "start_time": "2022-11-04T18:28:35.221Z"
   },
   {
    "duration": 571,
    "start_time": "2022-11-04T18:28:48.036Z"
   },
   {
    "duration": 783,
    "start_time": "2022-11-04T18:30:40.527Z"
   },
   {
    "duration": 725,
    "start_time": "2022-11-04T18:33:22.339Z"
   },
   {
    "duration": 535,
    "start_time": "2022-11-04T18:34:20.651Z"
   },
   {
    "duration": 544,
    "start_time": "2022-11-04T18:34:45.874Z"
   },
   {
    "duration": 567,
    "start_time": "2022-11-04T18:34:50.592Z"
   },
   {
    "duration": 222,
    "start_time": "2022-11-04T18:35:20.964Z"
   },
   {
    "duration": 236,
    "start_time": "2022-11-04T18:37:20.029Z"
   },
   {
    "duration": 138,
    "start_time": "2022-11-04T18:37:26.999Z"
   },
   {
    "duration": 246,
    "start_time": "2022-11-04T18:37:32.691Z"
   },
   {
    "duration": 214,
    "start_time": "2022-11-04T18:38:14.009Z"
   },
   {
    "duration": 302,
    "start_time": "2022-11-04T18:45:06.185Z"
   },
   {
    "duration": 12,
    "start_time": "2022-11-04T18:47:35.228Z"
   },
   {
    "duration": 125,
    "start_time": "2022-11-04T18:47:40.243Z"
   },
   {
    "duration": 209,
    "start_time": "2022-11-04T18:49:43.350Z"
   },
   {
    "duration": 198,
    "start_time": "2022-11-04T18:49:46.728Z"
   },
   {
    "duration": 270,
    "start_time": "2022-11-04T18:50:14.021Z"
   },
   {
    "duration": 511,
    "start_time": "2022-11-04T18:50:33.419Z"
   },
   {
    "duration": 322,
    "start_time": "2022-11-04T18:50:42.825Z"
   },
   {
    "duration": 313,
    "start_time": "2022-11-04T18:51:47.336Z"
   },
   {
    "duration": 269,
    "start_time": "2022-11-04T18:51:59.132Z"
   },
   {
    "duration": 281,
    "start_time": "2022-11-04T18:54:44.755Z"
   },
   {
    "duration": 62,
    "start_time": "2022-11-04T18:54:53.888Z"
   },
   {
    "duration": 203,
    "start_time": "2022-11-04T18:55:00.082Z"
   },
   {
    "duration": 280,
    "start_time": "2022-11-04T18:55:04.153Z"
   },
   {
    "duration": 266,
    "start_time": "2022-11-04T18:55:47.305Z"
   },
   {
    "duration": 317,
    "start_time": "2022-11-04T18:56:40.376Z"
   },
   {
    "duration": 1240,
    "start_time": "2022-11-05T09:35:28.087Z"
   },
   {
    "duration": 203,
    "start_time": "2022-11-05T09:35:29.329Z"
   },
   {
    "duration": 21,
    "start_time": "2022-11-05T09:35:29.536Z"
   },
   {
    "duration": 18,
    "start_time": "2022-11-05T09:35:29.558Z"
   },
   {
    "duration": 15,
    "start_time": "2022-11-05T09:35:29.577Z"
   },
   {
    "duration": 28,
    "start_time": "2022-11-05T09:35:29.593Z"
   },
   {
    "duration": 12,
    "start_time": "2022-11-05T09:35:29.623Z"
   },
   {
    "duration": 9,
    "start_time": "2022-11-05T09:35:29.637Z"
   },
   {
    "duration": 14,
    "start_time": "2022-11-05T09:35:29.648Z"
   },
   {
    "duration": 11,
    "start_time": "2022-11-05T09:35:29.663Z"
   },
   {
    "duration": 47,
    "start_time": "2022-11-05T09:35:29.675Z"
   },
   {
    "duration": 13,
    "start_time": "2022-11-05T09:35:29.723Z"
   },
   {
    "duration": 14,
    "start_time": "2022-11-05T09:35:29.737Z"
   },
   {
    "duration": 21,
    "start_time": "2022-11-05T09:35:29.752Z"
   },
   {
    "duration": 171,
    "start_time": "2022-11-05T09:35:29.775Z"
   },
   {
    "duration": 7,
    "start_time": "2022-11-05T09:35:29.948Z"
   },
   {
    "duration": 272,
    "start_time": "2022-11-05T09:35:29.956Z"
   },
   {
    "duration": 4,
    "start_time": "2022-11-05T09:35:30.230Z"
   },
   {
    "duration": 30,
    "start_time": "2022-11-05T09:35:30.235Z"
   },
   {
    "duration": 24,
    "start_time": "2022-11-05T09:35:30.266Z"
   },
   {
    "duration": 221,
    "start_time": "2022-11-05T09:35:30.291Z"
   },
   {
    "duration": 295,
    "start_time": "2022-11-05T09:35:30.513Z"
   },
   {
    "duration": 126,
    "start_time": "2022-11-05T09:53:44.831Z"
   },
   {
    "duration": 128,
    "start_time": "2022-11-05T09:53:48.513Z"
   },
   {
    "duration": 89,
    "start_time": "2022-11-05T09:54:01.972Z"
   },
   {
    "duration": 134,
    "start_time": "2022-11-05T09:54:06.341Z"
   },
   {
    "duration": 80,
    "start_time": "2022-11-05T09:54:18.275Z"
   },
   {
    "duration": 312,
    "start_time": "2022-11-05T09:54:22.273Z"
   },
   {
    "duration": 155,
    "start_time": "2022-11-05T09:54:30.885Z"
   },
   {
    "duration": 1223,
    "start_time": "2022-11-05T09:59:00.865Z"
   },
   {
    "duration": 140,
    "start_time": "2022-11-05T09:59:09.576Z"
   },
   {
    "duration": 154,
    "start_time": "2022-11-05T09:59:18.843Z"
   },
   {
    "duration": 137,
    "start_time": "2022-11-05T09:59:24.808Z"
   },
   {
    "duration": 118,
    "start_time": "2022-11-05T09:59:31.496Z"
   },
   {
    "duration": 186,
    "start_time": "2022-11-05T09:59:36.317Z"
   },
   {
    "duration": 149,
    "start_time": "2022-11-05T10:00:03.905Z"
   },
   {
    "duration": 1381,
    "start_time": "2022-11-05T10:00:59.752Z"
   },
   {
    "duration": 128,
    "start_time": "2022-11-05T10:01:18.563Z"
   },
   {
    "duration": 428,
    "start_time": "2022-11-05T10:01:30.761Z"
   },
   {
    "duration": 362,
    "start_time": "2022-11-05T10:02:21.581Z"
   },
   {
    "duration": 152,
    "start_time": "2022-11-05T10:04:08.602Z"
   },
   {
    "duration": 230,
    "start_time": "2022-11-05T10:04:48.283Z"
   },
   {
    "duration": 266,
    "start_time": "2022-11-05T10:14:42.683Z"
   },
   {
    "duration": 269,
    "start_time": "2022-11-05T10:15:07.740Z"
   },
   {
    "duration": 253,
    "start_time": "2022-11-05T10:15:18.254Z"
   },
   {
    "duration": 317,
    "start_time": "2022-11-05T10:15:33.717Z"
   },
   {
    "duration": 131,
    "start_time": "2022-11-05T10:16:53.628Z"
   },
   {
    "duration": 139,
    "start_time": "2022-11-05T10:18:13.900Z"
   },
   {
    "duration": 144,
    "start_time": "2022-11-05T10:18:17.450Z"
   },
   {
    "duration": 141,
    "start_time": "2022-11-05T10:18:20.752Z"
   },
   {
    "duration": 442,
    "start_time": "2022-11-05T10:18:25.984Z"
   },
   {
    "duration": 131,
    "start_time": "2022-11-05T10:19:09.428Z"
   },
   {
    "duration": 144,
    "start_time": "2022-11-05T10:19:27.012Z"
   },
   {
    "duration": 160,
    "start_time": "2022-11-05T10:20:55.138Z"
   },
   {
    "duration": 130,
    "start_time": "2022-11-05T10:21:37.157Z"
   },
   {
    "duration": 257,
    "start_time": "2022-11-05T10:21:39.519Z"
   },
   {
    "duration": 136,
    "start_time": "2022-11-05T10:21:50.711Z"
   },
   {
    "duration": 88,
    "start_time": "2022-11-05T10:22:51.462Z"
   },
   {
    "duration": 151,
    "start_time": "2022-11-05T10:23:42.149Z"
   },
   {
    "duration": 145,
    "start_time": "2022-11-05T10:23:49.920Z"
   },
   {
    "duration": 133,
    "start_time": "2022-11-05T10:24:19.930Z"
   },
   {
    "duration": 135,
    "start_time": "2022-11-05T10:24:53.468Z"
   },
   {
    "duration": 124,
    "start_time": "2022-11-05T10:25:19.962Z"
   },
   {
    "duration": 138,
    "start_time": "2022-11-05T10:25:49.342Z"
   },
   {
    "duration": 153,
    "start_time": "2022-11-05T10:26:31.740Z"
   },
   {
    "duration": 230,
    "start_time": "2022-11-05T10:26:59.344Z"
   },
   {
    "duration": 124,
    "start_time": "2022-11-05T10:27:08.231Z"
   },
   {
    "duration": 137,
    "start_time": "2022-11-05T10:27:12.688Z"
   },
   {
    "duration": 156,
    "start_time": "2022-11-05T10:27:18.816Z"
   },
   {
    "duration": 142,
    "start_time": "2022-11-05T10:27:53.981Z"
   },
   {
    "duration": 157,
    "start_time": "2022-11-05T10:32:26.941Z"
   },
   {
    "duration": 203,
    "start_time": "2022-11-05T10:32:33.640Z"
   },
   {
    "duration": 145,
    "start_time": "2022-11-05T10:35:30.365Z"
   },
   {
    "duration": 163,
    "start_time": "2022-11-05T10:35:42.991Z"
   },
   {
    "duration": 180,
    "start_time": "2022-11-05T10:55:06.106Z"
   },
   {
    "duration": 203,
    "start_time": "2022-11-05T10:55:15.265Z"
   },
   {
    "duration": 139,
    "start_time": "2022-11-05T11:02:24.061Z"
   },
   {
    "duration": 130,
    "start_time": "2022-11-05T11:02:31.322Z"
   },
   {
    "duration": 117,
    "start_time": "2022-11-05T11:02:45.371Z"
   },
   {
    "duration": 211,
    "start_time": "2022-11-05T11:02:50.098Z"
   },
   {
    "duration": 131,
    "start_time": "2022-11-05T11:02:57.845Z"
   },
   {
    "duration": 127,
    "start_time": "2022-11-05T11:03:03.695Z"
   },
   {
    "duration": 1052,
    "start_time": "2022-11-05T14:16:26.238Z"
   },
   {
    "duration": 186,
    "start_time": "2022-11-05T14:16:27.292Z"
   },
   {
    "duration": 25,
    "start_time": "2022-11-05T14:16:27.479Z"
   },
   {
    "duration": 24,
    "start_time": "2022-11-05T14:16:27.507Z"
   },
   {
    "duration": 13,
    "start_time": "2022-11-05T14:16:27.533Z"
   },
   {
    "duration": 5,
    "start_time": "2022-11-05T14:16:27.547Z"
   },
   {
    "duration": 13,
    "start_time": "2022-11-05T14:16:27.553Z"
   },
   {
    "duration": 8,
    "start_time": "2022-11-05T14:16:27.567Z"
   },
   {
    "duration": 20,
    "start_time": "2022-11-05T14:16:27.576Z"
   },
   {
    "duration": 31,
    "start_time": "2022-11-05T14:16:27.598Z"
   },
   {
    "duration": 27,
    "start_time": "2022-11-05T14:16:27.630Z"
   },
   {
    "duration": 9,
    "start_time": "2022-11-05T14:16:27.658Z"
   },
   {
    "duration": 10,
    "start_time": "2022-11-05T14:16:27.669Z"
   },
   {
    "duration": 20,
    "start_time": "2022-11-05T14:16:27.680Z"
   },
   {
    "duration": 160,
    "start_time": "2022-11-05T14:16:27.701Z"
   },
   {
    "duration": 9,
    "start_time": "2022-11-05T14:16:27.862Z"
   },
   {
    "duration": 247,
    "start_time": "2022-11-05T14:16:27.873Z"
   },
   {
    "duration": 5,
    "start_time": "2022-11-05T14:16:28.121Z"
   },
   {
    "duration": 44,
    "start_time": "2022-11-05T14:16:28.127Z"
   },
   {
    "duration": 16,
    "start_time": "2022-11-05T14:16:28.173Z"
   },
   {
    "duration": 225,
    "start_time": "2022-11-05T14:16:28.190Z"
   },
   {
    "duration": 285,
    "start_time": "2022-11-05T14:16:28.416Z"
   },
   {
    "duration": 149,
    "start_time": "2022-11-05T14:16:28.702Z"
   },
   {
    "duration": 136,
    "start_time": "2022-11-05T14:16:28.852Z"
   },
   {
    "duration": 136,
    "start_time": "2022-11-05T14:16:28.989Z"
   },
   {
    "duration": 184,
    "start_time": "2022-11-05T14:16:29.126Z"
   },
   {
    "duration": 122,
    "start_time": "2022-11-05T14:16:29.311Z"
   },
   {
    "duration": 131,
    "start_time": "2022-11-05T14:16:29.435Z"
   },
   {
    "duration": 130,
    "start_time": "2022-11-05T14:16:29.568Z"
   },
   {
    "duration": 130,
    "start_time": "2022-11-05T14:16:29.700Z"
   },
   {
    "duration": 203,
    "start_time": "2022-11-05T14:16:29.832Z"
   },
   {
    "duration": 150,
    "start_time": "2022-11-05T14:19:43.201Z"
   },
   {
    "duration": 176,
    "start_time": "2022-11-05T14:21:13.976Z"
   },
   {
    "duration": 145,
    "start_time": "2022-11-05T14:21:37.286Z"
   },
   {
    "duration": 95,
    "start_time": "2022-11-05T14:22:54.218Z"
   },
   {
    "duration": 110,
    "start_time": "2022-11-05T14:23:28.321Z"
   },
   {
    "duration": 100,
    "start_time": "2022-11-05T14:23:33.963Z"
   },
   {
    "duration": 183,
    "start_time": "2022-11-05T14:23:40.093Z"
   },
   {
    "duration": 93,
    "start_time": "2022-11-05T14:23:45.421Z"
   },
   {
    "duration": 72,
    "start_time": "2022-11-05T14:24:06.171Z"
   },
   {
    "duration": 15948,
    "start_time": "2022-11-05T14:24:41.678Z"
   },
   {
    "duration": 3,
    "start_time": "2022-11-05T14:27:51.827Z"
   },
   {
    "duration": 7,
    "start_time": "2022-11-05T14:27:54.931Z"
   },
   {
    "duration": 6,
    "start_time": "2022-11-05T14:28:11.046Z"
   },
   {
    "duration": 148,
    "start_time": "2022-11-05T14:33:09.827Z"
   },
   {
    "duration": 196,
    "start_time": "2022-11-05T14:33:18.667Z"
   },
   {
    "duration": 179,
    "start_time": "2022-11-05T14:41:12.187Z"
   },
   {
    "duration": 147,
    "start_time": "2022-11-05T14:47:56.420Z"
   },
   {
    "duration": 175,
    "start_time": "2022-11-05T14:48:05.954Z"
   },
   {
    "duration": 165,
    "start_time": "2022-11-05T14:48:11.733Z"
   },
   {
    "duration": 155,
    "start_time": "2022-11-05T14:48:23.345Z"
   },
   {
    "duration": 7,
    "start_time": "2022-11-05T14:48:54.846Z"
   },
   {
    "duration": 201,
    "start_time": "2022-11-05T14:59:17.222Z"
   },
   {
    "duration": 183,
    "start_time": "2022-11-05T14:59:21.336Z"
   },
   {
    "duration": 203,
    "start_time": "2022-11-05T15:15:37.114Z"
   },
   {
    "duration": 196,
    "start_time": "2022-11-05T15:29:27.344Z"
   },
   {
    "duration": 199,
    "start_time": "2022-11-05T15:29:33.037Z"
   },
   {
    "duration": 153,
    "start_time": "2022-11-05T15:31:33.210Z"
   },
   {
    "duration": 262,
    "start_time": "2022-11-05T15:45:40.958Z"
   },
   {
    "duration": 202,
    "start_time": "2022-11-05T15:45:45.114Z"
   },
   {
    "duration": 175,
    "start_time": "2022-11-05T15:52:40.282Z"
   },
   {
    "duration": 1140,
    "start_time": "2022-11-05T15:53:43.424Z"
   },
   {
    "duration": 74,
    "start_time": "2022-11-05T15:53:44.566Z"
   },
   {
    "duration": 28,
    "start_time": "2022-11-05T15:53:44.645Z"
   },
   {
    "duration": 20,
    "start_time": "2022-11-05T15:53:44.675Z"
   },
   {
    "duration": 17,
    "start_time": "2022-11-05T15:53:44.697Z"
   },
   {
    "duration": 17,
    "start_time": "2022-11-05T15:53:44.729Z"
   },
   {
    "duration": 22,
    "start_time": "2022-11-05T15:53:44.748Z"
   },
   {
    "duration": 9,
    "start_time": "2022-11-05T15:53:44.772Z"
   },
   {
    "duration": 11,
    "start_time": "2022-11-05T15:53:44.783Z"
   },
   {
    "duration": 11,
    "start_time": "2022-11-05T15:53:44.797Z"
   },
   {
    "duration": 48,
    "start_time": "2022-11-05T15:53:44.810Z"
   },
   {
    "duration": 10,
    "start_time": "2022-11-05T15:53:44.859Z"
   },
   {
    "duration": 11,
    "start_time": "2022-11-05T15:53:44.870Z"
   },
   {
    "duration": 26,
    "start_time": "2022-11-05T15:53:44.883Z"
   },
   {
    "duration": 165,
    "start_time": "2022-11-05T15:53:44.911Z"
   },
   {
    "duration": 8,
    "start_time": "2022-11-05T15:53:45.077Z"
   },
   {
    "duration": 277,
    "start_time": "2022-11-05T15:53:45.087Z"
   },
   {
    "duration": 5,
    "start_time": "2022-11-05T15:53:45.367Z"
   },
   {
    "duration": 33,
    "start_time": "2022-11-05T15:53:45.373Z"
   },
   {
    "duration": 13,
    "start_time": "2022-11-05T15:53:45.408Z"
   },
   {
    "duration": 262,
    "start_time": "2022-11-05T15:53:45.423Z"
   },
   {
    "duration": 321,
    "start_time": "2022-11-05T15:53:45.686Z"
   },
   {
    "duration": 187,
    "start_time": "2022-11-05T15:53:46.009Z"
   },
   {
    "duration": 167,
    "start_time": "2022-11-05T15:53:46.198Z"
   },
   {
    "duration": 189,
    "start_time": "2022-11-05T15:53:46.368Z"
   },
   {
    "duration": 208,
    "start_time": "2022-11-05T15:53:46.559Z"
   },
   {
    "duration": 141,
    "start_time": "2022-11-05T15:53:46.769Z"
   },
   {
    "duration": 151,
    "start_time": "2022-11-05T15:53:46.922Z"
   },
   {
    "duration": 141,
    "start_time": "2022-11-05T15:53:47.075Z"
   },
   {
    "duration": 151,
    "start_time": "2022-11-05T15:53:47.218Z"
   },
   {
    "duration": 228,
    "start_time": "2022-11-05T15:53:47.371Z"
   },
   {
    "duration": 182,
    "start_time": "2022-11-05T15:53:47.601Z"
   },
   {
    "duration": 8,
    "start_time": "2022-11-05T15:53:47.785Z"
   },
   {
    "duration": 232,
    "start_time": "2022-11-05T15:53:47.795Z"
   },
   {
    "duration": 169,
    "start_time": "2022-11-05T15:53:48.029Z"
   },
   {
    "duration": 7,
    "start_time": "2022-11-05T15:53:48.199Z"
   },
   {
    "duration": 179,
    "start_time": "2022-11-05T15:53:48.208Z"
   },
   {
    "duration": 215,
    "start_time": "2022-11-05T15:53:48.388Z"
   },
   {
    "duration": 280,
    "start_time": "2022-11-05T15:53:48.604Z"
   },
   {
    "duration": 188,
    "start_time": "2022-11-05T15:53:48.886Z"
   },
   {
    "duration": 261,
    "start_time": "2022-11-05T15:53:49.076Z"
   },
   {
    "duration": 191,
    "start_time": "2022-11-05T15:53:49.338Z"
   },
   {
    "duration": 172,
    "start_time": "2022-11-05T15:54:00.343Z"
   },
   {
    "duration": 1317,
    "start_time": "2022-11-06T13:29:57.418Z"
   },
   {
    "duration": 132,
    "start_time": "2022-11-06T13:29:58.737Z"
   },
   {
    "duration": 28,
    "start_time": "2022-11-06T13:29:58.872Z"
   },
   {
    "duration": 23,
    "start_time": "2022-11-06T13:29:58.903Z"
   },
   {
    "duration": 60,
    "start_time": "2022-11-06T13:29:58.928Z"
   },
   {
    "duration": 7,
    "start_time": "2022-11-06T13:29:58.990Z"
   },
   {
    "duration": 22,
    "start_time": "2022-11-06T13:29:58.998Z"
   },
   {
    "duration": 13,
    "start_time": "2022-11-06T13:29:59.022Z"
   },
   {
    "duration": 17,
    "start_time": "2022-11-06T13:29:59.037Z"
   },
   {
    "duration": 19,
    "start_time": "2022-11-06T13:29:59.057Z"
   },
   {
    "duration": 55,
    "start_time": "2022-11-06T13:29:59.078Z"
   },
   {
    "duration": 14,
    "start_time": "2022-11-06T13:29:59.135Z"
   },
   {
    "duration": 26,
    "start_time": "2022-11-06T13:29:59.152Z"
   },
   {
    "duration": 50,
    "start_time": "2022-11-06T13:29:59.180Z"
   },
   {
    "duration": 164,
    "start_time": "2022-11-06T13:29:59.232Z"
   },
   {
    "duration": 9,
    "start_time": "2022-11-06T13:29:59.398Z"
   },
   {
    "duration": 294,
    "start_time": "2022-11-06T13:29:59.421Z"
   },
   {
    "duration": 5,
    "start_time": "2022-11-06T13:29:59.717Z"
   },
   {
    "duration": 27,
    "start_time": "2022-11-06T13:29:59.724Z"
   },
   {
    "duration": 15,
    "start_time": "2022-11-06T13:29:59.753Z"
   },
   {
    "duration": 286,
    "start_time": "2022-11-06T13:29:59.770Z"
   },
   {
    "duration": 351,
    "start_time": "2022-11-06T13:30:00.058Z"
   },
   {
    "duration": 162,
    "start_time": "2022-11-06T13:30:00.410Z"
   },
   {
    "duration": 177,
    "start_time": "2022-11-06T13:30:00.574Z"
   },
   {
    "duration": 160,
    "start_time": "2022-11-06T13:30:00.752Z"
   },
   {
    "duration": 234,
    "start_time": "2022-11-06T13:30:00.920Z"
   },
   {
    "duration": 176,
    "start_time": "2022-11-06T13:30:01.156Z"
   },
   {
    "duration": 160,
    "start_time": "2022-11-06T13:30:01.336Z"
   },
   {
    "duration": 158,
    "start_time": "2022-11-06T13:30:01.498Z"
   },
   {
    "duration": 175,
    "start_time": "2022-11-06T13:30:01.658Z"
   },
   {
    "duration": 248,
    "start_time": "2022-11-06T13:30:01.835Z"
   },
   {
    "duration": 185,
    "start_time": "2022-11-06T13:30:02.085Z"
   },
   {
    "duration": 7,
    "start_time": "2022-11-06T13:30:02.272Z"
   },
   {
    "duration": 272,
    "start_time": "2022-11-06T13:30:02.280Z"
   },
   {
    "duration": 203,
    "start_time": "2022-11-06T13:30:02.554Z"
   },
   {
    "duration": 7,
    "start_time": "2022-11-06T13:30:02.759Z"
   },
   {
    "duration": 181,
    "start_time": "2022-11-06T13:30:02.767Z"
   },
   {
    "duration": 236,
    "start_time": "2022-11-06T13:30:02.950Z"
   },
   {
    "duration": 251,
    "start_time": "2022-11-06T13:30:03.188Z"
   },
   {
    "duration": 191,
    "start_time": "2022-11-06T13:30:03.440Z"
   },
   {
    "duration": 244,
    "start_time": "2022-11-06T13:30:03.632Z"
   },
   {
    "duration": 180,
    "start_time": "2022-11-06T13:30:03.878Z"
   },
   {
    "duration": 3,
    "start_time": "2022-11-06T13:34:27.354Z"
   },
   {
    "duration": 2,
    "start_time": "2022-11-06T13:35:51.946Z"
   },
   {
    "duration": 3,
    "start_time": "2022-11-06T13:36:26.180Z"
   },
   {
    "duration": 22,
    "start_time": "2022-11-06T13:40:50.748Z"
   },
   {
    "duration": 26,
    "start_time": "2022-11-06T13:41:06.598Z"
   },
   {
    "duration": 7,
    "start_time": "2022-11-06T13:42:30.444Z"
   },
   {
    "duration": 8,
    "start_time": "2022-11-06T13:42:59.453Z"
   },
   {
    "duration": 10,
    "start_time": "2022-11-06T13:43:12.856Z"
   },
   {
    "duration": 9,
    "start_time": "2022-11-06T13:43:28.955Z"
   },
   {
    "duration": 11,
    "start_time": "2022-11-06T13:45:03.363Z"
   },
   {
    "duration": 12,
    "start_time": "2022-11-06T13:45:27.221Z"
   },
   {
    "duration": 13,
    "start_time": "2022-11-06T13:46:34.650Z"
   },
   {
    "duration": 15,
    "start_time": "2022-11-06T13:47:02.077Z"
   },
   {
    "duration": 15,
    "start_time": "2022-11-06T13:48:22.802Z"
   },
   {
    "duration": 13,
    "start_time": "2022-11-06T13:48:27.132Z"
   },
   {
    "duration": 8,
    "start_time": "2022-11-06T13:49:31.555Z"
   },
   {
    "duration": 12,
    "start_time": "2022-11-06T13:49:50.787Z"
   },
   {
    "duration": 8,
    "start_time": "2022-11-06T13:57:06.034Z"
   },
   {
    "duration": 9,
    "start_time": "2022-11-06T13:57:24.732Z"
   },
   {
    "duration": 9,
    "start_time": "2022-11-06T13:57:35.075Z"
   },
   {
    "duration": 9,
    "start_time": "2022-11-06T13:57:49.365Z"
   },
   {
    "duration": 8,
    "start_time": "2022-11-06T13:58:40.109Z"
   },
   {
    "duration": 8,
    "start_time": "2022-11-06T14:08:22.578Z"
   },
   {
    "duration": 10,
    "start_time": "2022-11-06T14:08:31.862Z"
   },
   {
    "duration": 8,
    "start_time": "2022-11-06T14:08:36.571Z"
   },
   {
    "duration": 1172,
    "start_time": "2022-11-06T14:11:20.682Z"
   },
   {
    "duration": 69,
    "start_time": "2022-11-06T14:11:21.856Z"
   },
   {
    "duration": 24,
    "start_time": "2022-11-06T14:11:21.927Z"
   },
   {
    "duration": 22,
    "start_time": "2022-11-06T14:11:21.953Z"
   },
   {
    "duration": 19,
    "start_time": "2022-11-06T14:11:21.976Z"
   },
   {
    "duration": 27,
    "start_time": "2022-11-06T14:11:21.997Z"
   },
   {
    "duration": 23,
    "start_time": "2022-11-06T14:11:22.026Z"
   },
   {
    "duration": 10,
    "start_time": "2022-11-06T14:11:22.051Z"
   },
   {
    "duration": 13,
    "start_time": "2022-11-06T14:11:22.062Z"
   },
   {
    "duration": 44,
    "start_time": "2022-11-06T14:11:22.078Z"
   },
   {
    "duration": 30,
    "start_time": "2022-11-06T14:11:22.124Z"
   },
   {
    "duration": 12,
    "start_time": "2022-11-06T14:11:22.156Z"
   },
   {
    "duration": 21,
    "start_time": "2022-11-06T14:11:22.170Z"
   },
   {
    "duration": 52,
    "start_time": "2022-11-06T14:11:22.193Z"
   },
   {
    "duration": 190,
    "start_time": "2022-11-06T14:11:22.248Z"
   },
   {
    "duration": 8,
    "start_time": "2022-11-06T14:11:22.440Z"
   },
   {
    "duration": 309,
    "start_time": "2022-11-06T14:11:22.450Z"
   },
   {
    "duration": 5,
    "start_time": "2022-11-06T14:11:22.761Z"
   },
   {
    "duration": 29,
    "start_time": "2022-11-06T14:11:22.768Z"
   },
   {
    "duration": 18,
    "start_time": "2022-11-06T14:11:22.799Z"
   },
   {
    "duration": 267,
    "start_time": "2022-11-06T14:11:22.819Z"
   },
   {
    "duration": 341,
    "start_time": "2022-11-06T14:11:23.088Z"
   },
   {
    "duration": 161,
    "start_time": "2022-11-06T14:11:23.431Z"
   },
   {
    "duration": 157,
    "start_time": "2022-11-06T14:11:23.594Z"
   },
   {
    "duration": 169,
    "start_time": "2022-11-06T14:11:23.752Z"
   },
   {
    "duration": 230,
    "start_time": "2022-11-06T14:11:23.922Z"
   },
   {
    "duration": 151,
    "start_time": "2022-11-06T14:11:24.154Z"
   },
   {
    "duration": 160,
    "start_time": "2022-11-06T14:11:24.308Z"
   },
   {
    "duration": 159,
    "start_time": "2022-11-06T14:11:24.470Z"
   },
   {
    "duration": 158,
    "start_time": "2022-11-06T14:11:24.631Z"
   },
   {
    "duration": 225,
    "start_time": "2022-11-06T14:11:24.791Z"
   },
   {
    "duration": 171,
    "start_time": "2022-11-06T14:11:25.018Z"
   },
   {
    "duration": 7,
    "start_time": "2022-11-06T14:11:25.190Z"
   },
   {
    "duration": 238,
    "start_time": "2022-11-06T14:11:25.199Z"
   },
   {
    "duration": 178,
    "start_time": "2022-11-06T14:11:25.439Z"
   },
   {
    "duration": 7,
    "start_time": "2022-11-06T14:11:25.618Z"
   },
   {
    "duration": 168,
    "start_time": "2022-11-06T14:11:25.627Z"
   },
   {
    "duration": 230,
    "start_time": "2022-11-06T14:11:25.797Z"
   },
   {
    "duration": 257,
    "start_time": "2022-11-06T14:11:26.029Z"
   },
   {
    "duration": 188,
    "start_time": "2022-11-06T14:11:26.288Z"
   },
   {
    "duration": 220,
    "start_time": "2022-11-06T14:11:26.478Z"
   },
   {
    "duration": 174,
    "start_time": "2022-11-06T14:11:26.700Z"
   },
   {
    "duration": 9,
    "start_time": "2022-11-06T14:11:26.876Z"
   },
   {
    "duration": 22,
    "start_time": "2022-11-06T14:11:26.886Z"
   },
   {
    "duration": 10,
    "start_time": "2022-11-06T14:31:24.439Z"
   },
   {
    "duration": 1183,
    "start_time": "2022-11-06T14:37:32.162Z"
   },
   {
    "duration": 64,
    "start_time": "2022-11-06T14:37:33.347Z"
   },
   {
    "duration": 24,
    "start_time": "2022-11-06T14:37:33.415Z"
   },
   {
    "duration": 38,
    "start_time": "2022-11-06T14:37:33.441Z"
   },
   {
    "duration": 55,
    "start_time": "2022-11-06T14:37:33.480Z"
   },
   {
    "duration": 13,
    "start_time": "2022-11-06T14:37:33.537Z"
   },
   {
    "duration": 31,
    "start_time": "2022-11-06T14:37:33.552Z"
   },
   {
    "duration": 15,
    "start_time": "2022-11-06T14:37:33.586Z"
   },
   {
    "duration": 23,
    "start_time": "2022-11-06T14:37:33.605Z"
   },
   {
    "duration": 15,
    "start_time": "2022-11-06T14:37:33.629Z"
   },
   {
    "duration": 31,
    "start_time": "2022-11-06T14:37:33.646Z"
   },
   {
    "duration": 11,
    "start_time": "2022-11-06T14:37:33.679Z"
   },
   {
    "duration": 36,
    "start_time": "2022-11-06T14:37:33.691Z"
   },
   {
    "duration": 24,
    "start_time": "2022-11-06T14:37:33.729Z"
   },
   {
    "duration": 179,
    "start_time": "2022-11-06T14:37:33.755Z"
   },
   {
    "duration": 10,
    "start_time": "2022-11-06T14:37:33.936Z"
   },
   {
    "duration": 320,
    "start_time": "2022-11-06T14:37:33.947Z"
   },
   {
    "duration": 7,
    "start_time": "2022-11-06T14:37:34.269Z"
   },
   {
    "duration": 30,
    "start_time": "2022-11-06T14:37:34.280Z"
   },
   {
    "duration": 19,
    "start_time": "2022-11-06T14:37:34.312Z"
   },
   {
    "duration": 282,
    "start_time": "2022-11-06T14:37:34.333Z"
   },
   {
    "duration": 358,
    "start_time": "2022-11-06T14:37:34.620Z"
   },
   {
    "duration": 171,
    "start_time": "2022-11-06T14:37:34.979Z"
   },
   {
    "duration": 157,
    "start_time": "2022-11-06T14:37:35.151Z"
   },
   {
    "duration": 194,
    "start_time": "2022-11-06T14:37:35.310Z"
   },
   {
    "duration": 273,
    "start_time": "2022-11-06T14:37:35.505Z"
   },
   {
    "duration": 167,
    "start_time": "2022-11-06T14:37:35.786Z"
   },
   {
    "duration": 156,
    "start_time": "2022-11-06T14:37:35.955Z"
   },
   {
    "duration": 157,
    "start_time": "2022-11-06T14:37:36.121Z"
   },
   {
    "duration": 173,
    "start_time": "2022-11-06T14:37:36.280Z"
   },
   {
    "duration": 258,
    "start_time": "2022-11-06T14:37:36.455Z"
   },
   {
    "duration": 200,
    "start_time": "2022-11-06T14:37:36.716Z"
   },
   {
    "duration": 8,
    "start_time": "2022-11-06T14:37:36.918Z"
   },
   {
    "duration": 273,
    "start_time": "2022-11-06T14:37:36.927Z"
   },
   {
    "duration": 186,
    "start_time": "2022-11-06T14:37:37.202Z"
   },
   {
    "duration": 7,
    "start_time": "2022-11-06T14:37:37.390Z"
   },
   {
    "duration": 170,
    "start_time": "2022-11-06T14:37:37.399Z"
   },
   {
    "duration": 240,
    "start_time": "2022-11-06T14:37:37.570Z"
   },
   {
    "duration": 286,
    "start_time": "2022-11-06T14:37:37.813Z"
   },
   {
    "duration": 180,
    "start_time": "2022-11-06T14:37:38.101Z"
   },
   {
    "duration": 252,
    "start_time": "2022-11-06T14:37:38.283Z"
   },
   {
    "duration": 187,
    "start_time": "2022-11-06T14:37:38.538Z"
   },
   {
    "duration": 8,
    "start_time": "2022-11-06T14:37:38.727Z"
   },
   {
    "duration": 28,
    "start_time": "2022-11-06T14:37:38.737Z"
   },
   {
    "duration": 1420,
    "start_time": "2022-11-06T19:52:23.679Z"
   },
   {
    "duration": 124,
    "start_time": "2022-11-06T19:52:25.102Z"
   },
   {
    "duration": 29,
    "start_time": "2022-11-06T19:52:25.228Z"
   },
   {
    "duration": 24,
    "start_time": "2022-11-06T19:52:25.260Z"
   },
   {
    "duration": 51,
    "start_time": "2022-11-06T19:52:25.286Z"
   },
   {
    "duration": 7,
    "start_time": "2022-11-06T19:52:25.339Z"
   },
   {
    "duration": 19,
    "start_time": "2022-11-06T19:52:25.348Z"
   },
   {
    "duration": 10,
    "start_time": "2022-11-06T19:52:25.370Z"
   },
   {
    "duration": 41,
    "start_time": "2022-11-06T19:52:25.382Z"
   },
   {
    "duration": 14,
    "start_time": "2022-11-06T19:52:25.426Z"
   },
   {
    "duration": 24,
    "start_time": "2022-11-06T19:52:25.442Z"
   },
   {
    "duration": 11,
    "start_time": "2022-11-06T19:52:25.467Z"
   },
   {
    "duration": 45,
    "start_time": "2022-11-06T19:52:25.480Z"
   },
   {
    "duration": 18,
    "start_time": "2022-11-06T19:52:25.527Z"
   },
   {
    "duration": 27,
    "start_time": "2022-11-06T19:52:25.546Z"
   },
   {
    "duration": 180,
    "start_time": "2022-11-06T19:52:25.574Z"
   },
   {
    "duration": 9,
    "start_time": "2022-11-06T19:52:25.756Z"
   },
   {
    "duration": 343,
    "start_time": "2022-11-06T19:52:25.767Z"
   },
   {
    "duration": 5,
    "start_time": "2022-11-06T19:52:26.112Z"
   },
   {
    "duration": 27,
    "start_time": "2022-11-06T19:52:26.119Z"
   },
   {
    "duration": 14,
    "start_time": "2022-11-06T19:52:26.148Z"
   },
   {
    "duration": 261,
    "start_time": "2022-11-06T19:52:26.164Z"
   },
   {
    "duration": 382,
    "start_time": "2022-11-06T19:52:26.426Z"
   },
   {
    "duration": 162,
    "start_time": "2022-11-06T19:52:26.810Z"
   },
   {
    "duration": 171,
    "start_time": "2022-11-06T19:52:26.974Z"
   },
   {
    "duration": 171,
    "start_time": "2022-11-06T19:52:27.147Z"
   },
   {
    "duration": 275,
    "start_time": "2022-11-06T19:52:27.321Z"
   },
   {
    "duration": 180,
    "start_time": "2022-11-06T19:52:27.600Z"
   },
   {
    "duration": 212,
    "start_time": "2022-11-06T19:52:27.782Z"
   },
   {
    "duration": 169,
    "start_time": "2022-11-06T19:52:27.996Z"
   },
   {
    "duration": 170,
    "start_time": "2022-11-06T19:52:28.167Z"
   },
   {
    "duration": 286,
    "start_time": "2022-11-06T19:52:28.338Z"
   },
   {
    "duration": 187,
    "start_time": "2022-11-06T19:52:28.626Z"
   },
   {
    "duration": 9,
    "start_time": "2022-11-06T19:52:28.815Z"
   },
   {
    "duration": 327,
    "start_time": "2022-11-06T19:52:28.827Z"
   },
   {
    "duration": 223,
    "start_time": "2022-11-06T19:52:29.156Z"
   },
   {
    "duration": 9,
    "start_time": "2022-11-06T19:52:29.382Z"
   },
   {
    "duration": 186,
    "start_time": "2022-11-06T19:52:29.394Z"
   },
   {
    "duration": 272,
    "start_time": "2022-11-06T19:52:29.582Z"
   },
   {
    "duration": 289,
    "start_time": "2022-11-06T19:52:29.856Z"
   },
   {
    "duration": 186,
    "start_time": "2022-11-06T19:52:30.147Z"
   },
   {
    "duration": 244,
    "start_time": "2022-11-06T19:52:30.335Z"
   },
   {
    "duration": 203,
    "start_time": "2022-11-06T19:52:30.581Z"
   },
   {
    "duration": 10,
    "start_time": "2022-11-06T19:52:30.786Z"
   },
   {
    "duration": 34,
    "start_time": "2022-11-06T19:52:30.799Z"
   },
   {
    "duration": 10,
    "start_time": "2022-11-06T19:53:08.506Z"
   },
   {
    "duration": 7,
    "start_time": "2022-11-06T19:53:16.079Z"
   },
   {
    "duration": 1162,
    "start_time": "2022-11-06T19:55:16.005Z"
   },
   {
    "duration": 66,
    "start_time": "2022-11-06T19:55:17.169Z"
   },
   {
    "duration": 31,
    "start_time": "2022-11-06T19:55:17.237Z"
   },
   {
    "duration": 34,
    "start_time": "2022-11-06T19:55:17.271Z"
   },
   {
    "duration": 56,
    "start_time": "2022-11-06T19:55:17.307Z"
   },
   {
    "duration": 15,
    "start_time": "2022-11-06T19:55:17.365Z"
   },
   {
    "duration": 40,
    "start_time": "2022-11-06T19:55:17.382Z"
   },
   {
    "duration": 10,
    "start_time": "2022-11-06T19:55:17.424Z"
   },
   {
    "duration": 15,
    "start_time": "2022-11-06T19:55:17.436Z"
   },
   {
    "duration": 14,
    "start_time": "2022-11-06T19:55:17.455Z"
   },
   {
    "duration": 55,
    "start_time": "2022-11-06T19:55:17.471Z"
   },
   {
    "duration": 12,
    "start_time": "2022-11-06T19:55:17.528Z"
   },
   {
    "duration": 10,
    "start_time": "2022-11-06T19:55:17.542Z"
   },
   {
    "duration": 46,
    "start_time": "2022-11-06T19:55:17.554Z"
   },
   {
    "duration": 44,
    "start_time": "2022-11-06T19:55:17.602Z"
   },
   {
    "duration": 159,
    "start_time": "2022-11-06T19:55:17.648Z"
   },
   {
    "duration": 25,
    "start_time": "2022-11-06T19:55:17.809Z"
   },
   {
    "duration": 327,
    "start_time": "2022-11-06T19:55:17.836Z"
   },
   {
    "duration": 6,
    "start_time": "2022-11-06T19:55:18.165Z"
   },
   {
    "duration": 42,
    "start_time": "2022-11-06T19:55:18.173Z"
   },
   {
    "duration": 24,
    "start_time": "2022-11-06T19:55:18.218Z"
   },
   {
    "duration": 279,
    "start_time": "2022-11-06T19:55:18.244Z"
   },
   {
    "duration": 382,
    "start_time": "2022-11-06T19:55:18.525Z"
   },
   {
    "duration": 211,
    "start_time": "2022-11-06T19:55:18.912Z"
   },
   {
    "duration": 210,
    "start_time": "2022-11-06T19:55:19.126Z"
   },
   {
    "duration": 175,
    "start_time": "2022-11-06T19:55:19.338Z"
   },
   {
    "duration": 253,
    "start_time": "2022-11-06T19:55:19.520Z"
   },
   {
    "duration": 223,
    "start_time": "2022-11-06T19:55:19.780Z"
   },
   {
    "duration": 177,
    "start_time": "2022-11-06T19:55:20.005Z"
   },
   {
    "duration": 189,
    "start_time": "2022-11-06T19:55:20.184Z"
   },
   {
    "duration": 250,
    "start_time": "2022-11-06T19:55:20.376Z"
   },
   {
    "duration": 340,
    "start_time": "2022-11-06T19:55:20.628Z"
   },
   {
    "duration": 175,
    "start_time": "2022-11-06T19:55:20.970Z"
   },
   {
    "duration": 8,
    "start_time": "2022-11-06T19:55:21.147Z"
   },
   {
    "duration": 485,
    "start_time": "2022-11-06T19:55:21.156Z"
   },
   {
    "duration": 269,
    "start_time": "2022-11-06T19:55:21.643Z"
   },
   {
    "duration": 12,
    "start_time": "2022-11-06T19:55:21.915Z"
   },
   {
    "duration": 212,
    "start_time": "2022-11-06T19:55:21.932Z"
   },
   {
    "duration": 275,
    "start_time": "2022-11-06T19:55:22.146Z"
   },
   {
    "duration": 325,
    "start_time": "2022-11-06T19:55:22.423Z"
   },
   {
    "duration": 243,
    "start_time": "2022-11-06T19:55:22.750Z"
   },
   {
    "duration": 321,
    "start_time": "2022-11-06T19:55:22.996Z"
   },
   {
    "duration": 257,
    "start_time": "2022-11-06T19:55:23.320Z"
   },
   {
    "duration": 12,
    "start_time": "2022-11-06T19:55:23.580Z"
   },
   {
    "duration": 28,
    "start_time": "2022-11-06T19:55:23.594Z"
   },
   {
    "duration": 226,
    "start_time": "2022-11-06T19:57:41.164Z"
   },
   {
    "duration": 1310,
    "start_time": "2022-11-06T20:15:06.167Z"
   },
   {
    "duration": 83,
    "start_time": "2022-11-06T20:15:07.481Z"
   },
   {
    "duration": 31,
    "start_time": "2022-11-06T20:15:07.567Z"
   },
   {
    "duration": 38,
    "start_time": "2022-11-06T20:15:07.600Z"
   },
   {
    "duration": 25,
    "start_time": "2022-11-06T20:15:07.640Z"
   },
   {
    "duration": 18,
    "start_time": "2022-11-06T20:15:07.668Z"
   },
   {
    "duration": 19,
    "start_time": "2022-11-06T20:15:07.689Z"
   },
   {
    "duration": 15,
    "start_time": "2022-11-06T20:15:07.720Z"
   },
   {
    "duration": 17,
    "start_time": "2022-11-06T20:15:07.739Z"
   },
   {
    "duration": 17,
    "start_time": "2022-11-06T20:15:07.760Z"
   },
   {
    "duration": 68,
    "start_time": "2022-11-06T20:15:07.779Z"
   },
   {
    "duration": 17,
    "start_time": "2022-11-06T20:15:07.850Z"
   },
   {
    "duration": 6,
    "start_time": "2022-11-06T20:15:07.869Z"
   },
   {
    "duration": 28,
    "start_time": "2022-11-06T20:15:07.878Z"
   },
   {
    "duration": 36,
    "start_time": "2022-11-06T20:15:07.920Z"
   },
   {
    "duration": 229,
    "start_time": "2022-11-06T20:15:07.958Z"
   },
   {
    "duration": 11,
    "start_time": "2022-11-06T20:15:08.189Z"
   },
   {
    "duration": 341,
    "start_time": "2022-11-06T20:15:08.202Z"
   },
   {
    "duration": 7,
    "start_time": "2022-11-06T20:15:08.546Z"
   },
   {
    "duration": 40,
    "start_time": "2022-11-06T20:15:08.556Z"
   },
   {
    "duration": 29,
    "start_time": "2022-11-06T20:15:08.599Z"
   },
   {
    "duration": 364,
    "start_time": "2022-11-06T20:15:08.630Z"
   },
   {
    "duration": 473,
    "start_time": "2022-11-06T20:15:08.997Z"
   },
   {
    "duration": 179,
    "start_time": "2022-11-06T20:15:09.472Z"
   },
   {
    "duration": 187,
    "start_time": "2022-11-06T20:15:09.653Z"
   },
   {
    "duration": 199,
    "start_time": "2022-11-06T20:15:09.843Z"
   },
   {
    "duration": 307,
    "start_time": "2022-11-06T20:15:10.045Z"
   },
   {
    "duration": 234,
    "start_time": "2022-11-06T20:15:10.356Z"
   },
   {
    "duration": 230,
    "start_time": "2022-11-06T20:15:10.592Z"
   },
   {
    "duration": 202,
    "start_time": "2022-11-06T20:15:10.824Z"
   },
   {
    "duration": 230,
    "start_time": "2022-11-06T20:15:11.029Z"
   },
   {
    "duration": 273,
    "start_time": "2022-11-06T20:15:11.262Z"
   },
   {
    "duration": 246,
    "start_time": "2022-11-06T20:15:11.537Z"
   },
   {
    "duration": 11,
    "start_time": "2022-11-06T20:15:11.785Z"
   },
   {
    "duration": 266,
    "start_time": "2022-11-06T20:15:11.798Z"
   },
   {
    "duration": 240,
    "start_time": "2022-11-06T20:15:12.067Z"
   },
   {
    "duration": 22,
    "start_time": "2022-11-06T20:15:12.309Z"
   },
   {
    "duration": 190,
    "start_time": "2022-11-06T20:15:12.333Z"
   },
   {
    "duration": 260,
    "start_time": "2022-11-06T20:15:12.525Z"
   },
   {
    "duration": 340,
    "start_time": "2022-11-06T20:15:12.787Z"
   },
   {
    "duration": 230,
    "start_time": "2022-11-06T20:15:13.130Z"
   },
   {
    "duration": 242,
    "start_time": "2022-11-06T20:15:13.363Z"
   },
   {
    "duration": 202,
    "start_time": "2022-11-06T20:15:13.607Z"
   },
   {
    "duration": 15,
    "start_time": "2022-11-06T20:15:13.811Z"
   },
   {
    "duration": 45,
    "start_time": "2022-11-06T20:15:13.829Z"
   },
   {
    "duration": 24,
    "start_time": "2022-11-06T20:20:02.552Z"
   },
   {
    "duration": 21,
    "start_time": "2022-11-06T20:20:10.019Z"
   },
   {
    "duration": 360,
    "start_time": "2022-11-06T20:20:48.268Z"
   },
   {
    "duration": 322,
    "start_time": "2022-11-06T20:21:31.465Z"
   }
  ],
  "kernelspec": {
   "display_name": "Python 3 (ipykernel)",
   "language": "python",
   "name": "python3"
  },
  "language_info": {
   "codemirror_mode": {
    "name": "ipython",
    "version": 3
   },
   "file_extension": ".py",
   "mimetype": "text/x-python",
   "name": "python",
   "nbconvert_exporter": "python",
   "pygments_lexer": "ipython3",
   "version": "3.9.5"
  },
  "toc": {
   "base_numbering": 1,
   "nav_menu": {},
   "number_sections": true,
   "sideBar": true,
   "skip_h1_title": true,
   "title_cell": "Table of Contents",
   "title_sidebar": "Contents",
   "toc_cell": false,
   "toc_position": {
    "height": "calc(100% - 180px)",
    "left": "10px",
    "top": "150px",
    "width": "366.188px"
   },
   "toc_section_display": true,
   "toc_window_display": false
  }
 },
 "nbformat": 4,
 "nbformat_minor": 2
}
