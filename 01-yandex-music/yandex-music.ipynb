{
 "cells": [
  {
   "cell_type": "markdown",
   "source": [
    "# Яндекс Музыка"
   ],
   "metadata": {
    "collapsed": false
   }
  },
  {
   "cell_type": "markdown",
   "source": [
    "**Цель исследования** — нам нужно проверить 3 гипотезы:\n",
    "1. Активность пользователей зависит от дня недели. Причём в Москве и Петербурге это проявляется по-разному.\n",
    "2. В понедельник утром в Москве преобладают одни жанры, а в Петербурге — другие. Так же и вечером пятницы преобладают разные жанры — в зависимости от города.\n",
    "3. Москва и Петербург предпочитают разные жанры музыки. В Москве чаще слушают поп-музыку, в Петербурге — русский рэп.\n",
    "\n",
    "**Ход исследования**\n",
    "\n",
    "Данные о поведении пользователей мы получили от заказчика из файла `yandex_music_project.csv`. О качестве данных нам ничего не известно. Поэтому перед проверкой гипотез понадобится обзор данных.\n",
    "\n",
    "Мы проверим данные на ошибки и оценим их влияние на исследование. Затем, на этапе предобработки мы поищем возможность исправить самые критичные ошибки данных.\n",
    "\n",
    "Таким образом, исследование пройдёт в три этапа:\n",
    " 1. Обзор данных.\n",
    " 2. Предобработка данных.\n",
    " 3. Проверка гипотез.\n",
    "\n"
   ],
   "metadata": {
    "collapsed": false
   }
  },
  {
   "cell_type": "markdown",
   "source": [
    "## Получение данных"
   ],
   "metadata": {
    "collapsed": false
   }
  },
  {
   "cell_type": "code",
   "execution_count": 1,
   "outputs": [],
   "source": [
    "import pandas as pd"
   ],
   "metadata": {
    "collapsed": false,
    "ExecuteTime": {
     "end_time": "2023-06-26T11:33:14.762796500Z",
     "start_time": "2023-06-26T11:33:14.469650700Z"
    }
   }
  },
  {
   "cell_type": "markdown",
   "source": [
    "Прочитаем файл yandex_music_project.csv и сохраним его в переменной df."
   ],
   "metadata": {
    "collapsed": false
   }
  },
  {
   "cell_type": "code",
   "execution_count": 2,
   "outputs": [],
   "source": [
    "df = pd.read_csv('yandex_music_project.csv')"
   ],
   "metadata": {
    "collapsed": false,
    "ExecuteTime": {
     "end_time": "2023-06-26T11:33:14.844868300Z",
     "start_time": "2023-06-26T11:33:14.763794800Z"
    }
   }
  },
  {
   "cell_type": "code",
   "execution_count": 3,
   "outputs": [
    {
     "data": {
      "text/plain": "     userID                        Track            artist   genre  \\\n0  FFB692EC            Kamigata To Boots  The Mass Missile    rock   \n1  55204538  Delayed Because of Accident  Andreas Rönnberg    rock   \n2    20EC38            Funiculì funiculà       Mario Lanza     pop   \n3  A3DD03C9        Dragons in the Sunset        Fire + Ice    folk   \n4  E2DC1FAE                  Soul People        Space Echo   dance   \n5  842029A1                    Преданная         IMPERVTOR  rusrap   \n6  4CB90AA5                         True      Roman Messer   dance   \n7  F03E1C1F             Feeling This Way   Polina Griffith   dance   \n8  8FA1D3BE     И вновь продолжается бой               NaN  ruspop   \n9  E772D5C0                    Pessimist               NaN   dance   \n\n             City        time        Day  \n0  Saint-Petersburg  20:28:33  Wednesday  \n1            Moscow  14:07:09     Friday  \n2  Saint-Petersburg  20:58:07  Wednesday  \n3  Saint-Petersburg  08:37:09     Monday  \n4            Moscow  08:34:34     Monday  \n5  Saint-Petersburg  13:09:41     Friday  \n6            Moscow  13:00:07  Wednesday  \n7            Moscow  20:47:49  Wednesday  \n8            Moscow  09:17:40     Friday  \n9  Saint-Petersburg  21:20:49  Wednesday  ",
      "text/html": "<div>\n<style scoped>\n    .dataframe tbody tr th:only-of-type {\n        vertical-align: middle;\n    }\n\n    .dataframe tbody tr th {\n        vertical-align: top;\n    }\n\n    .dataframe thead th {\n        text-align: right;\n    }\n</style>\n<table border=\"1\" class=\"dataframe\">\n  <thead>\n    <tr style=\"text-align: right;\">\n      <th></th>\n      <th>userID</th>\n      <th>Track</th>\n      <th>artist</th>\n      <th>genre</th>\n      <th>City</th>\n      <th>time</th>\n      <th>Day</th>\n    </tr>\n  </thead>\n  <tbody>\n    <tr>\n      <th>0</th>\n      <td>FFB692EC</td>\n      <td>Kamigata To Boots</td>\n      <td>The Mass Missile</td>\n      <td>rock</td>\n      <td>Saint-Petersburg</td>\n      <td>20:28:33</td>\n      <td>Wednesday</td>\n    </tr>\n    <tr>\n      <th>1</th>\n      <td>55204538</td>\n      <td>Delayed Because of Accident</td>\n      <td>Andreas Rönnberg</td>\n      <td>rock</td>\n      <td>Moscow</td>\n      <td>14:07:09</td>\n      <td>Friday</td>\n    </tr>\n    <tr>\n      <th>2</th>\n      <td>20EC38</td>\n      <td>Funiculì funiculà</td>\n      <td>Mario Lanza</td>\n      <td>pop</td>\n      <td>Saint-Petersburg</td>\n      <td>20:58:07</td>\n      <td>Wednesday</td>\n    </tr>\n    <tr>\n      <th>3</th>\n      <td>A3DD03C9</td>\n      <td>Dragons in the Sunset</td>\n      <td>Fire + Ice</td>\n      <td>folk</td>\n      <td>Saint-Petersburg</td>\n      <td>08:37:09</td>\n      <td>Monday</td>\n    </tr>\n    <tr>\n      <th>4</th>\n      <td>E2DC1FAE</td>\n      <td>Soul People</td>\n      <td>Space Echo</td>\n      <td>dance</td>\n      <td>Moscow</td>\n      <td>08:34:34</td>\n      <td>Monday</td>\n    </tr>\n    <tr>\n      <th>5</th>\n      <td>842029A1</td>\n      <td>Преданная</td>\n      <td>IMPERVTOR</td>\n      <td>rusrap</td>\n      <td>Saint-Petersburg</td>\n      <td>13:09:41</td>\n      <td>Friday</td>\n    </tr>\n    <tr>\n      <th>6</th>\n      <td>4CB90AA5</td>\n      <td>True</td>\n      <td>Roman Messer</td>\n      <td>dance</td>\n      <td>Moscow</td>\n      <td>13:00:07</td>\n      <td>Wednesday</td>\n    </tr>\n    <tr>\n      <th>7</th>\n      <td>F03E1C1F</td>\n      <td>Feeling This Way</td>\n      <td>Polina Griffith</td>\n      <td>dance</td>\n      <td>Moscow</td>\n      <td>20:47:49</td>\n      <td>Wednesday</td>\n    </tr>\n    <tr>\n      <th>8</th>\n      <td>8FA1D3BE</td>\n      <td>И вновь продолжается бой</td>\n      <td>NaN</td>\n      <td>ruspop</td>\n      <td>Moscow</td>\n      <td>09:17:40</td>\n      <td>Friday</td>\n    </tr>\n    <tr>\n      <th>9</th>\n      <td>E772D5C0</td>\n      <td>Pessimist</td>\n      <td>NaN</td>\n      <td>dance</td>\n      <td>Saint-Petersburg</td>\n      <td>21:20:49</td>\n      <td>Wednesday</td>\n    </tr>\n  </tbody>\n</table>\n</div>"
     },
     "execution_count": 3,
     "metadata": {},
     "output_type": "execute_result"
    }
   ],
   "source": [
    "df.head(10)"
   ],
   "metadata": {
    "collapsed": false,
    "ExecuteTime": {
     "end_time": "2023-06-26T11:33:14.853881800Z",
     "start_time": "2023-06-26T11:33:14.845869300Z"
    }
   }
  },
  {
   "cell_type": "markdown",
   "source": [
    "Общая информация о данных таблицы *df*."
   ],
   "metadata": {
    "collapsed": false
   }
  },
  {
   "cell_type": "code",
   "execution_count": 4,
   "outputs": [
    {
     "name": "stdout",
     "output_type": "stream",
     "text": [
      "<class 'pandas.core.frame.DataFrame'>\n",
      "RangeIndex: 65079 entries, 0 to 65078\n",
      "Data columns (total 7 columns):\n",
      " #   Column    Non-Null Count  Dtype \n",
      "---  ------    --------------  ----- \n",
      " 0     userID  65079 non-null  object\n",
      " 1   Track     63848 non-null  object\n",
      " 2   artist    57876 non-null  object\n",
      " 3   genre     63881 non-null  object\n",
      " 4     City    65079 non-null  object\n",
      " 5   time      65079 non-null  object\n",
      " 6   Day       65079 non-null  object\n",
      "dtypes: object(7)\n",
      "memory usage: 3.5+ MB\n"
     ]
    }
   ],
   "source": [
    "df.info()"
   ],
   "metadata": {
    "collapsed": false,
    "ExecuteTime": {
     "end_time": "2023-06-26T11:33:14.918935800Z",
     "start_time": "2023-06-26T11:33:14.853881800Z"
    }
   }
  },
  {
   "cell_type": "markdown",
   "metadata": {
    "deletable": false,
    "editable": false,
    "id": "TaQ2Iwbr_Zct"
   },
   "source": [
    "Итак, в таблице семь столбцов. Тип данных во всех столбцах — `object`.\n",
    "\n",
    "Согласно документации к данным:\n",
    "* `userID` — идентификатор пользователя;\n",
    "* `Track` — название трека;  \n",
    "* `artist` — имя исполнителя;\n",
    "* `genre` — название жанра;\n",
    "* `City` — город пользователя;\n",
    "* `time` — время начала прослушивания;\n",
    "* `Day` — день недели.\n",
    "\n",
    "Количество значений в столбцах различается. Значит, в данных есть пропущенные значения."
   ]
  },
  {
   "cell_type": "markdown",
   "metadata": {
    "deletable": false,
    "editable": false,
    "id": "MCB6-dXG_Zct"
   },
   "source": [
    "**Выводы**\n",
    "\n",
    "В каждой строке таблицы — данные о прослушанном треке. Часть колонок описывает саму композицию: название, исполнителя и жанр. Остальные данные рассказывают о пользователе: из какого он города, когда он слушал музыку.\n",
    "\n",
    "Предварительно можно утверждать, что данных достаточно для проверки гипотез. Но встречаются пропуски в данных, а в названиях колонок — расхождения с хорошим стилем.\n",
    "\n",
    "Чтобы двигаться дальше, нужно устранить проблемы в данных."
   ]
  },
  {
   "cell_type": "markdown",
   "metadata": {
    "deletable": false,
    "editable": false,
    "id": "SjYF6Ub9_Zct"
   },
   "source": [
    "## Предобработка данных"
   ]
  },
  {
   "cell_type": "markdown",
   "source": [
    "Исключим пропуски, переименуем столбцы, а также проверим данные на наличие дубликатов."
   ],
   "metadata": {
    "collapsed": false
   }
  },
  {
   "cell_type": "code",
   "execution_count": 5,
   "outputs": [
    {
     "data": {
      "text/plain": "Index(['  userID', 'Track', 'artist', 'genre', '  City  ', 'time', 'Day'], dtype='object')"
     },
     "execution_count": 5,
     "metadata": {},
     "output_type": "execute_result"
    }
   ],
   "source": [
    "df.columns"
   ],
   "metadata": {
    "collapsed": false,
    "ExecuteTime": {
     "end_time": "2023-06-26T11:33:14.919936500Z",
     "start_time": "2023-06-26T11:33:14.899918400Z"
    }
   }
  },
  {
   "cell_type": "markdown",
   "source": [
    "В названиях столбцов есть пробелы, которые могут затруднять доступ к данным.\n",
    "Переименуем столбцы для удобства дальнейшей работы. Проверим результат."
   ],
   "metadata": {
    "collapsed": false
   }
  },
  {
   "cell_type": "code",
   "execution_count": 6,
   "metadata": {
    "deletable": false,
    "id": "ISlFqs5y_Zct",
    "ExecuteTime": {
     "end_time": "2023-06-26T11:33:14.919936500Z",
     "start_time": "2023-06-26T11:33:14.899918400Z"
    }
   },
   "outputs": [
    {
     "name": "stderr",
     "output_type": "stream",
     "text": [
      "C:\\Users\\sanchezdoto\\AppData\\Local\\Temp\\ipykernel_21692\\297159262.py:1: FutureWarning: DataFrame.set_axis 'inplace' keyword is deprecated and will be removed in a future version. Use `obj = obj.set_axis(..., copy=False)` instead\n",
      "  df.set_axis(['user_id','track','artist','genre','city','time','day'], axis='columns', inplace=True)\n"
     ]
    }
   ],
   "source": [
    "df.set_axis(['user_id','track','artist','genre','city','time','day'], axis='columns', inplace=True)"
   ]
  },
  {
   "cell_type": "code",
   "execution_count": 7,
   "outputs": [
    {
     "data": {
      "text/plain": "Index(['user_id', 'track', 'artist', 'genre', 'city', 'time', 'day'], dtype='object')"
     },
     "execution_count": 7,
     "metadata": {},
     "output_type": "execute_result"
    }
   ],
   "source": [
    "df.columns"
   ],
   "metadata": {
    "collapsed": false,
    "ExecuteTime": {
     "end_time": "2023-06-26T11:33:14.919936500Z",
     "start_time": "2023-06-26T11:33:14.899918400Z"
    }
   }
  },
  {
   "cell_type": "markdown",
   "metadata": {
    "deletable": false,
    "editable": false,
    "id": "1dqbh00J_Zct",
    "tags": [
     "start_task"
    ]
   },
   "source": [
    "Проверим данные на наличие пропусков вызовом набора методов для суммирования пропущенных значений."
   ]
  },
  {
   "cell_type": "code",
   "execution_count": 8,
   "metadata": {
    "deletable": false,
    "id": "RskX29qr_Zct",
    "ExecuteTime": {
     "end_time": "2023-06-26T11:33:14.936952700Z",
     "start_time": "2023-06-26T11:33:14.902921100Z"
    }
   },
   "outputs": [
    {
     "data": {
      "text/plain": "user_id       0\ntrack      1231\nartist     7203\ngenre      1198\ncity          0\ntime          0\nday           0\ndtype: int64"
     },
     "execution_count": 8,
     "metadata": {},
     "output_type": "execute_result"
    }
   ],
   "source": [
    "df.isna().sum()"
   ]
  },
  {
   "cell_type": "markdown",
   "metadata": {
    "deletable": false,
    "editable": false,
    "id": "qubhgnlO_Zct"
   },
   "source": [
    "Не все пропущенные значения влияют на исследование. Так в `track` и `artist` пропуски не важны для нашей работы. Достаточно заменить их явными обозначениями.\n",
    "\n",
    "Но пропуски в `genre` могут помешать сравнению музыкальных вкусов в Москве и Санкт-Петербурге. На практике было бы правильно установить причину пропусков и восстановить данные. Такой возможности у нас нет. Придётся:\n",
    "* заполнить и эти пропуски явными обозначениями;\n",
    "* оценить, насколько они повредят расчётам. "
   ]
  },
  {
   "cell_type": "markdown",
   "metadata": {
    "deletable": false,
    "editable": false,
    "id": "fSv2laPA_Zct",
    "tags": [
     "start_task"
    ]
   },
   "source": [
    "Заменяем пропущенные значения в столбцах с названием трека и исполнителя на строку ‘unknown’. После этой операции нужно убедиться, что таблица больше не содержит пропусков."
   ]
  },
  {
   "cell_type": "code",
   "execution_count": 9,
   "metadata": {
    "deletable": false,
    "id": "KplB5qWs_Zct",
    "ExecuteTime": {
     "end_time": "2023-06-26T11:33:15.000009600Z",
     "start_time": "2023-06-26T11:33:14.936952700Z"
    }
   },
   "outputs": [],
   "source": [
    "columns_to_replace = ['track', 'artist', 'genre']\n",
    "for col in columns_to_replace:\n",
    "    df[col] = df[col].fillna('unknown')"
   ]
  },
  {
   "cell_type": "code",
   "execution_count": 10,
   "metadata": {
    "deletable": false,
    "id": "Tq4nYRX4_Zct",
    "ExecuteTime": {
     "end_time": "2023-06-26T11:33:15.010018600Z",
     "start_time": "2023-06-26T11:33:14.952966800Z"
    }
   },
   "outputs": [
    {
     "data": {
      "text/plain": "user_id    0\ntrack      0\nartist     0\ngenre      0\ncity       0\ntime       0\nday        0\ndtype: int64"
     },
     "execution_count": 10,
     "metadata": {},
     "output_type": "execute_result"
    }
   ],
   "source": [
    "df.isna().sum()"
   ]
  },
  {
   "cell_type": "markdown",
   "metadata": {
    "deletable": false,
    "editable": false,
    "id": "BWKRtBJ3_Zct",
    "tags": [
     "start_task"
    ]
   },
   "source": [
    "Необходимо установить наличие дубликатов. Если найдутся, удаляем, и проверяем, все ли удалились."
   ]
  },
  {
   "cell_type": "code",
   "execution_count": 11,
   "metadata": {
    "deletable": false,
    "id": "36eES_S0_Zct",
    "ExecuteTime": {
     "end_time": "2023-06-26T11:33:15.035041500Z",
     "start_time": "2023-06-26T11:33:14.986998400Z"
    }
   },
   "outputs": [
    {
     "data": {
      "text/plain": "3826"
     },
     "execution_count": 11,
     "metadata": {},
     "output_type": "execute_result"
    }
   ],
   "source": [
    "df.duplicated().sum()"
   ]
  },
  {
   "cell_type": "code",
   "execution_count": 12,
   "metadata": {
    "deletable": false,
    "id": "exFHq6tt_Zct",
    "ExecuteTime": {
     "end_time": "2023-06-26T11:33:15.083085100Z",
     "start_time": "2023-06-26T11:33:15.025032Z"
    }
   },
   "outputs": [],
   "source": [
    "df = df.drop_duplicates().reset_index(drop=True)"
   ]
  },
  {
   "cell_type": "code",
   "execution_count": 13,
   "metadata": {
    "deletable": false,
    "id": "-8PuNWQ0_Zct",
    "ExecuteTime": {
     "end_time": "2023-06-26T11:33:15.098098300Z",
     "start_time": "2023-06-26T11:33:15.066070100Z"
    }
   },
   "outputs": [
    {
     "data": {
      "text/plain": "0"
     },
     "execution_count": 13,
     "metadata": {},
     "output_type": "execute_result"
    }
   ],
   "source": [
    "df.duplicated().sum()"
   ]
  },
  {
   "cell_type": "markdown",
   "metadata": {
    "deletable": false,
    "editable": false,
    "id": "QlFBsxAr_Zct"
   },
   "source": [
    "Теперь нужно избавиться от неявных дубликатов в колонке `genre`. Например, название одного и того же жанра может быть записано немного по-разному. Такие ошибки тоже повлияют на результат исследования."
   ]
  },
  {
   "cell_type": "markdown",
   "metadata": {
    "deletable": false,
    "editable": false,
    "id": "eSjWwsOh_Zct",
    "tags": [
     "start_task"
    ]
   },
   "source": [
    "Выведем на экран список уникальных названий жанров, отсортированный в алфавитном порядке. Для этого:\n",
    "1. извлечём нужный столбец датафрейма;\n",
    "2. применим к нему метод сортировки;\n",
    "3. для отсортированного столбца вызовем метод, который вернёт уникальные значения из столбца."
   ]
  },
  {
   "cell_type": "code",
   "execution_count": 14,
   "metadata": {
    "deletable": false,
    "id": "JIUcqzZN_Zct",
    "ExecuteTime": {
     "end_time": "2023-06-26T11:33:15.123121500Z",
     "start_time": "2023-06-26T11:33:15.099099Z"
    }
   },
   "outputs": [
    {
     "data": {
      "text/plain": "array(['acid', 'acoustic', 'action', 'adult', 'africa', 'afrikaans',\n       'alternative', 'alternativepunk', 'ambient', 'americana',\n       'animated', 'anime', 'arabesk', 'arabic', 'arena',\n       'argentinetango', 'art', 'audiobook', 'author', 'avantgarde',\n       'axé', 'baile', 'balkan', 'beats', 'bigroom', 'black', 'bluegrass',\n       'blues', 'bollywood', 'bossa', 'brazilian', 'breakbeat', 'breaks',\n       'broadway', 'cantautori', 'cantopop', 'canzone', 'caribbean',\n       'caucasian', 'celtic', 'chamber', 'chanson', 'children', 'chill',\n       'chinese', 'choral', 'christian', 'christmas', 'classical',\n       'classicmetal', 'club', 'colombian', 'comedy', 'conjazz',\n       'contemporary', 'country', 'cuban', 'dance', 'dancehall',\n       'dancepop', 'dark', 'death', 'deep', 'deutschrock', 'deutschspr',\n       'dirty', 'disco', 'dnb', 'documentary', 'downbeat', 'downtempo',\n       'drum', 'dub', 'dubstep', 'eastern', 'easy', 'electronic',\n       'electropop', 'emo', 'entehno', 'epicmetal', 'estrada', 'ethnic',\n       'eurofolk', 'european', 'experimental', 'extrememetal', 'fado',\n       'fairytail', 'film', 'fitness', 'flamenco', 'folk', 'folklore',\n       'folkmetal', 'folkrock', 'folktronica', 'forró', 'frankreich',\n       'französisch', 'french', 'funk', 'future', 'gangsta', 'garage',\n       'german', 'ghazal', 'gitarre', 'glitch', 'gospel', 'gothic',\n       'grime', 'grunge', 'gypsy', 'handsup', \"hard'n'heavy\", 'hardcore',\n       'hardstyle', 'hardtechno', 'hip', 'hip-hop', 'hiphop',\n       'historisch', 'holiday', 'hop', 'horror', 'house', 'hymn', 'idm',\n       'independent', 'indian', 'indie', 'indipop', 'industrial',\n       'inspirational', 'instrumental', 'international', 'irish', 'jam',\n       'japanese', 'jazz', 'jewish', 'jpop', 'jungle', 'k-pop',\n       'karadeniz', 'karaoke', 'kayokyoku', 'korean', 'laiko', 'latin',\n       'latino', 'leftfield', 'local', 'lounge', 'loungeelectronic',\n       'lovers', 'malaysian', 'mandopop', 'marschmusik', 'meditative',\n       'mediterranean', 'melodic', 'metal', 'metalcore', 'mexican',\n       'middle', 'minimal', 'miscellaneous', 'modern', 'mood', 'mpb',\n       'muslim', 'native', 'neoklassik', 'neue', 'new', 'newage',\n       'newwave', 'nu', 'nujazz', 'numetal', 'oceania', 'old', 'opera',\n       'orchestral', 'other', 'piano', 'podcasts', 'pop', 'popdance',\n       'popelectronic', 'popeurodance', 'poprussian', 'post',\n       'posthardcore', 'postrock', 'power', 'progmetal', 'progressive',\n       'psychedelic', 'punjabi', 'punk', 'quebecois', 'ragga', 'ram',\n       'rancheras', 'rap', 'rave', 'reggae', 'reggaeton', 'regional',\n       'relax', 'religious', 'retro', 'rhythm', 'rnb', 'rnr', 'rock',\n       'rockabilly', 'rockalternative', 'rockindie', 'rockother',\n       'romance', 'roots', 'ruspop', 'rusrap', 'rusrock', 'russian',\n       'salsa', 'samba', 'scenic', 'schlager', 'self', 'sertanejo',\n       'shanson', 'shoegazing', 'showtunes', 'singer', 'ska', 'skarock',\n       'slow', 'smooth', 'soft', 'soul', 'soulful', 'sound', 'soundtrack',\n       'southern', 'specialty', 'speech', 'spiritual', 'sport',\n       'stonerrock', 'surf', 'swing', 'synthpop', 'synthrock',\n       'sängerportrait', 'tango', 'tanzorchester', 'taraftar', 'tatar',\n       'tech', 'techno', 'teen', 'thrash', 'top', 'traditional',\n       'tradjazz', 'trance', 'tribal', 'trip', 'triphop', 'tropical',\n       'türk', 'türkçe', 'ukrrock', 'unknown', 'urban', 'uzbek',\n       'variété', 'vi', 'videogame', 'vocal', 'western', 'world',\n       'worldbeat', 'ïîï', 'электроника'], dtype=object)"
     },
     "execution_count": 14,
     "metadata": {},
     "output_type": "execute_result"
    }
   ],
   "source": [
    "df.genre.sort_values().unique()"
   ]
  },
  {
   "cell_type": "markdown",
   "metadata": {
    "deletable": false,
    "editable": false,
    "id": "qej-Qmuo_Zct",
    "tags": [
     "start_task"
    ]
   },
   "source": [
    "Можно заметить следующие неявные дубликаты:\n",
    "* *hip*,\n",
    "* *hop*,\n",
    "* *hip-hop*.\n",
    "\n",
    "Чтобы очистить от них таблицу используем метод `replace()` с двумя аргументами: списком строк-дубликатов (включающий *hip*, *hop* и *hip-hop*) и строкой с правильным значением. Нам нужно исправить колонку `genre` в таблице `df`: заменить каждое значение из списка дубликатов на верное. Вместо `hip`, `hop` и `hip-hop` в таблице будет значение `hiphop`:"
   ]
  },
  {
   "cell_type": "code",
   "execution_count": 15,
   "metadata": {
    "deletable": false,
    "id": "ErNDkmns_Zct",
    "ExecuteTime": {
     "end_time": "2023-06-26T11:33:15.137134300Z",
     "start_time": "2023-06-26T11:33:15.123121500Z"
    }
   },
   "outputs": [],
   "source": [
    "df.genre = df.genre.replace(['hip', 'hop', 'hip-hop'], 'hiphop')"
   ]
  },
  {
   "cell_type": "markdown",
   "metadata": {
    "deletable": false,
    "editable": false,
    "id": "zQKF16_RG15m",
    "tags": [
     "start_task"
    ]
   },
   "source": [
    "Проверим список жанров снова."
   ]
  },
  {
   "cell_type": "code",
   "execution_count": 16,
   "metadata": {
    "deletable": false,
    "id": "wvixALnFG15m",
    "ExecuteTime": {
     "end_time": "2023-06-26T11:33:15.160155700Z",
     "start_time": "2023-06-26T11:33:15.133130100Z"
    }
   },
   "outputs": [
    {
     "data": {
      "text/plain": "array(['acid', 'acoustic', 'action', 'adult', 'africa', 'afrikaans',\n       'alternative', 'alternativepunk', 'ambient', 'americana',\n       'animated', 'anime', 'arabesk', 'arabic', 'arena',\n       'argentinetango', 'art', 'audiobook', 'author', 'avantgarde',\n       'axé', 'baile', 'balkan', 'beats', 'bigroom', 'black', 'bluegrass',\n       'blues', 'bollywood', 'bossa', 'brazilian', 'breakbeat', 'breaks',\n       'broadway', 'cantautori', 'cantopop', 'canzone', 'caribbean',\n       'caucasian', 'celtic', 'chamber', 'chanson', 'children', 'chill',\n       'chinese', 'choral', 'christian', 'christmas', 'classical',\n       'classicmetal', 'club', 'colombian', 'comedy', 'conjazz',\n       'contemporary', 'country', 'cuban', 'dance', 'dancehall',\n       'dancepop', 'dark', 'death', 'deep', 'deutschrock', 'deutschspr',\n       'dirty', 'disco', 'dnb', 'documentary', 'downbeat', 'downtempo',\n       'drum', 'dub', 'dubstep', 'eastern', 'easy', 'electronic',\n       'electropop', 'emo', 'entehno', 'epicmetal', 'estrada', 'ethnic',\n       'eurofolk', 'european', 'experimental', 'extrememetal', 'fado',\n       'fairytail', 'film', 'fitness', 'flamenco', 'folk', 'folklore',\n       'folkmetal', 'folkrock', 'folktronica', 'forró', 'frankreich',\n       'französisch', 'french', 'funk', 'future', 'gangsta', 'garage',\n       'german', 'ghazal', 'gitarre', 'glitch', 'gospel', 'gothic',\n       'grime', 'grunge', 'gypsy', 'handsup', \"hard'n'heavy\", 'hardcore',\n       'hardstyle', 'hardtechno', 'hiphop', 'historisch', 'holiday',\n       'horror', 'house', 'hymn', 'idm', 'independent', 'indian', 'indie',\n       'indipop', 'industrial', 'inspirational', 'instrumental',\n       'international', 'irish', 'jam', 'japanese', 'jazz', 'jewish',\n       'jpop', 'jungle', 'k-pop', 'karadeniz', 'karaoke', 'kayokyoku',\n       'korean', 'laiko', 'latin', 'latino', 'leftfield', 'local',\n       'lounge', 'loungeelectronic', 'lovers', 'malaysian', 'mandopop',\n       'marschmusik', 'meditative', 'mediterranean', 'melodic', 'metal',\n       'metalcore', 'mexican', 'middle', 'minimal', 'miscellaneous',\n       'modern', 'mood', 'mpb', 'muslim', 'native', 'neoklassik', 'neue',\n       'new', 'newage', 'newwave', 'nu', 'nujazz', 'numetal', 'oceania',\n       'old', 'opera', 'orchestral', 'other', 'piano', 'podcasts', 'pop',\n       'popdance', 'popelectronic', 'popeurodance', 'poprussian', 'post',\n       'posthardcore', 'postrock', 'power', 'progmetal', 'progressive',\n       'psychedelic', 'punjabi', 'punk', 'quebecois', 'ragga', 'ram',\n       'rancheras', 'rap', 'rave', 'reggae', 'reggaeton', 'regional',\n       'relax', 'religious', 'retro', 'rhythm', 'rnb', 'rnr', 'rock',\n       'rockabilly', 'rockalternative', 'rockindie', 'rockother',\n       'romance', 'roots', 'ruspop', 'rusrap', 'rusrock', 'russian',\n       'salsa', 'samba', 'scenic', 'schlager', 'self', 'sertanejo',\n       'shanson', 'shoegazing', 'showtunes', 'singer', 'ska', 'skarock',\n       'slow', 'smooth', 'soft', 'soul', 'soulful', 'sound', 'soundtrack',\n       'southern', 'specialty', 'speech', 'spiritual', 'sport',\n       'stonerrock', 'surf', 'swing', 'synthpop', 'synthrock',\n       'sängerportrait', 'tango', 'tanzorchester', 'taraftar', 'tatar',\n       'tech', 'techno', 'teen', 'thrash', 'top', 'traditional',\n       'tradjazz', 'trance', 'tribal', 'trip', 'triphop', 'tropical',\n       'türk', 'türkçe', 'ukrrock', 'unknown', 'urban', 'uzbek',\n       'variété', 'vi', 'videogame', 'vocal', 'western', 'world',\n       'worldbeat', 'ïîï', 'электроника'], dtype=object)"
     },
     "execution_count": 16,
     "metadata": {},
     "output_type": "execute_result"
    }
   ],
   "source": [
    "df.genre.sort_values().unique()"
   ]
  },
  {
   "cell_type": "markdown",
   "metadata": {
    "deletable": false,
    "editable": false,
    "id": "jz6a9-7HQUDd"
   },
   "source": [
    "**Выводы**\n",
    "\n",
    "Предобработка обнаружила три проблемы в данных:\n",
    "\n",
    "- нарушения в стиле заголовков,\n",
    "- пропущенные значения,\n",
    "- дубликаты — явные и неявные.\n",
    "\n",
    "Мы исправили заголовки, чтобы упростить работу с таблицей. Без дубликатов исследование станет более точным.\n",
    "\n",
    "Пропущенные значения мы заменили на `'unknown'`. Ещё предстоит увидеть, не повредят ли исследованию пропуски в колонке `genre`.\n",
    "\n",
    "Теперь можно перейти к проверке гипотез. "
   ]
  },
  {
   "cell_type": "markdown",
   "metadata": {
    "deletable": false,
    "editable": false,
    "id": "WttZHXH0SqKk"
   },
   "source": [
    "## Проверка гипотез"
   ]
  },
  {
   "cell_type": "markdown",
   "metadata": {
    "deletable": false,
    "editable": false,
    "id": "Im936VVi_Zcu"
   },
   "source": [
    "### Сравнение поведения пользователей двух столиц"
   ]
  },
  {
   "cell_type": "markdown",
   "metadata": {
    "deletable": false,
    "editable": false,
    "id": "nwt_MuaL_Zcu"
   },
   "source": [
    "Первая гипотеза утверждает, что пользователи по-разному слушают музыку в Москве и Санкт-Петербурге. Проверим это предположение по данным о трёх днях недели — понедельнике, среде и пятнице. Для этого:\n",
    "\n",
    "* Разделим пользователей Москвы и Санкт-Петербурга.\n",
    "* Сравним, сколько треков послушала каждая группа пользователей в понедельник, среду и пятницу.\n"
   ]
  },
  {
   "cell_type": "markdown",
   "metadata": {
    "deletable": false,
    "editable": false,
    "id": "POzs8bGa_Zcu",
    "tags": [
     "start_task"
    ]
   },
   "source": [
    "Создадим функцию `number_tracks()`, которая посчитает прослушивания для заданного дня и города. Ей понадобятся два параметра:\n",
    "* день недели,\n",
    "* название города.\n",
    "\n",
    "В функции сохраним в переменную строки исходной таблицы, у которых значение:\n",
    "  * в колонке `day` равно параметру `day`,\n",
    "  * в колонке `city` равно параметру `city`.\n",
    "\n",
    "Посчитаем значения в столбце `user_id` получившейся таблицы. Результат сохраним в новую переменную. Вернём эту переменную из функции."
   ]
  },
  {
   "cell_type": "code",
   "execution_count": 17,
   "metadata": {
    "deletable": false,
    "id": "Nz3GdQB1_Zcu",
    "ExecuteTime": {
     "end_time": "2023-06-26T11:33:15.161156Z",
     "start_time": "2023-06-26T11:33:15.156151900Z"
    }
   },
   "outputs": [],
   "source": [
    "def number_tracks(day, city):\n",
    "    track_list = df[df.day == day][df.city == city]\n",
    "    track_list_count = track_list['user_id'].count()\n",
    "    return track_list_count"
   ]
  },
  {
   "cell_type": "markdown",
   "metadata": {
    "deletable": false,
    "editable": false,
    "id": "ytf7xFrFJQ2r",
    "tags": [
     "start_task"
    ]
   },
   "source": [
    "Вызовем `number_tracks()` шесть раз, меняя значение параметров — так, чтобы получить данные для каждого города в каждый из трёх дней."
   ]
  },
  {
   "cell_type": "code",
   "execution_count": 18,
   "metadata": {
    "deletable": false,
    "id": "rJcRATNQ_Zcu",
    "ExecuteTime": {
     "end_time": "2023-06-26T11:33:15.178171100Z",
     "start_time": "2023-06-26T11:33:15.159154300Z"
    }
   },
   "outputs": [
    {
     "name": "stderr",
     "output_type": "stream",
     "text": [
      "C:\\Users\\sanchezdoto\\AppData\\Local\\Temp\\ipykernel_21692\\2817273081.py:2: UserWarning: Boolean Series key will be reindexed to match DataFrame index.\n",
      "  track_list = df[df.day == day][df.city == city]\n"
     ]
    },
    {
     "data": {
      "text/plain": "15740"
     },
     "execution_count": 18,
     "metadata": {},
     "output_type": "execute_result"
    }
   ],
   "source": [
    "number_tracks('Monday', 'Moscow')"
   ]
  },
  {
   "cell_type": "code",
   "execution_count": 19,
   "metadata": {
    "deletable": false,
    "id": "hq_ncZ5T_Zcu",
    "ExecuteTime": {
     "end_time": "2023-06-26T11:33:15.224213200Z",
     "start_time": "2023-06-26T11:33:15.179171900Z"
    }
   },
   "outputs": [
    {
     "name": "stderr",
     "output_type": "stream",
     "text": [
      "C:\\Users\\sanchezdoto\\AppData\\Local\\Temp\\ipykernel_21692\\2817273081.py:2: UserWarning: Boolean Series key will be reindexed to match DataFrame index.\n",
      "  track_list = df[df.day == day][df.city == city]\n"
     ]
    },
    {
     "data": {
      "text/plain": "5614"
     },
     "execution_count": 19,
     "metadata": {},
     "output_type": "execute_result"
    }
   ],
   "source": [
    "number_tracks('Monday', 'Saint-Petersburg')"
   ]
  },
  {
   "cell_type": "code",
   "execution_count": 20,
   "metadata": {
    "deletable": false,
    "id": "_NTy2VPU_Zcu",
    "ExecuteTime": {
     "end_time": "2023-06-26T11:33:15.225214100Z",
     "start_time": "2023-06-26T11:33:15.190182Z"
    }
   },
   "outputs": [
    {
     "name": "stderr",
     "output_type": "stream",
     "text": [
      "C:\\Users\\sanchezdoto\\AppData\\Local\\Temp\\ipykernel_21692\\2817273081.py:2: UserWarning: Boolean Series key will be reindexed to match DataFrame index.\n",
      "  track_list = df[df.day == day][df.city == city]\n"
     ]
    },
    {
     "data": {
      "text/plain": "11056"
     },
     "execution_count": 20,
     "metadata": {},
     "output_type": "execute_result"
    }
   ],
   "source": [
    "number_tracks('Wednesday', 'Moscow')"
   ]
  },
  {
   "cell_type": "code",
   "execution_count": 21,
   "metadata": {
    "deletable": false,
    "id": "j2y3TAwo_Zcu",
    "ExecuteTime": {
     "end_time": "2023-06-26T11:33:15.225214100Z",
     "start_time": "2023-06-26T11:33:15.203193900Z"
    }
   },
   "outputs": [
    {
     "name": "stderr",
     "output_type": "stream",
     "text": [
      "C:\\Users\\sanchezdoto\\AppData\\Local\\Temp\\ipykernel_21692\\2817273081.py:2: UserWarning: Boolean Series key will be reindexed to match DataFrame index.\n",
      "  track_list = df[df.day == day][df.city == city]\n"
     ]
    },
    {
     "data": {
      "text/plain": "7003"
     },
     "execution_count": 21,
     "metadata": {},
     "output_type": "execute_result"
    }
   ],
   "source": [
    "number_tracks('Wednesday', 'Saint-Petersburg')"
   ]
  },
  {
   "cell_type": "code",
   "execution_count": 22,
   "metadata": {
    "deletable": false,
    "id": "vYDw5u_K_Zcu",
    "ExecuteTime": {
     "end_time": "2023-06-26T11:33:15.231219800Z",
     "start_time": "2023-06-26T11:33:15.220208900Z"
    }
   },
   "outputs": [
    {
     "name": "stderr",
     "output_type": "stream",
     "text": [
      "C:\\Users\\sanchezdoto\\AppData\\Local\\Temp\\ipykernel_21692\\2817273081.py:2: UserWarning: Boolean Series key will be reindexed to match DataFrame index.\n",
      "  track_list = df[df.day == day][df.city == city]\n"
     ]
    },
    {
     "data": {
      "text/plain": "15945"
     },
     "execution_count": 22,
     "metadata": {},
     "output_type": "execute_result"
    }
   ],
   "source": [
    "number_tracks('Friday', 'Moscow')"
   ]
  },
  {
   "cell_type": "code",
   "execution_count": 23,
   "metadata": {
    "deletable": false,
    "id": "8_yzFtW3_Zcu",
    "ExecuteTime": {
     "end_time": "2023-06-26T11:33:15.301283100Z",
     "start_time": "2023-06-26T11:33:15.231219800Z"
    }
   },
   "outputs": [
    {
     "name": "stderr",
     "output_type": "stream",
     "text": [
      "C:\\Users\\sanchezdoto\\AppData\\Local\\Temp\\ipykernel_21692\\2817273081.py:2: UserWarning: Boolean Series key will be reindexed to match DataFrame index.\n",
      "  track_list = df[df.day == day][df.city == city]\n"
     ]
    },
    {
     "data": {
      "text/plain": "5895"
     },
     "execution_count": 23,
     "metadata": {},
     "output_type": "execute_result"
    }
   ],
   "source": [
    "number_tracks('Friday', 'Saint-Petersburg')"
   ]
  },
  {
   "cell_type": "markdown",
   "metadata": {
    "deletable": false,
    "editable": false,
    "id": "7QXffbO-_Zcu",
    "tags": [
     "start_task"
    ]
   },
   "source": [
    "Создадим с помощью конструктора `pd.DataFrame` таблицу, где\n",
    "* названия колонок — `['city', 'monday', 'wednesday', 'friday']`;\n",
    "* данные — результаты, которые мы получили с помощью `number_tracks`."
   ]
  },
  {
   "cell_type": "code",
   "execution_count": 24,
   "metadata": {
    "deletable": false,
    "id": "APAcLpOr_Zcu",
    "ExecuteTime": {
     "end_time": "2023-06-26T11:33:15.304285700Z",
     "start_time": "2023-06-26T11:33:15.243230300Z"
    }
   },
   "outputs": [
    {
     "data": {
      "text/plain": "               city  monday  wednesday  friday\n0            Moscow   15740      11056   15945\n1  Saint-Petersburg    5614       7003    5895",
      "text/html": "<div>\n<style scoped>\n    .dataframe tbody tr th:only-of-type {\n        vertical-align: middle;\n    }\n\n    .dataframe tbody tr th {\n        vertical-align: top;\n    }\n\n    .dataframe thead th {\n        text-align: right;\n    }\n</style>\n<table border=\"1\" class=\"dataframe\">\n  <thead>\n    <tr style=\"text-align: right;\">\n      <th></th>\n      <th>city</th>\n      <th>monday</th>\n      <th>wednesday</th>\n      <th>friday</th>\n    </tr>\n  </thead>\n  <tbody>\n    <tr>\n      <th>0</th>\n      <td>Moscow</td>\n      <td>15740</td>\n      <td>11056</td>\n      <td>15945</td>\n    </tr>\n    <tr>\n      <th>1</th>\n      <td>Saint-Petersburg</td>\n      <td>5614</td>\n      <td>7003</td>\n      <td>5895</td>\n    </tr>\n  </tbody>\n</table>\n</div>"
     },
     "execution_count": 24,
     "metadata": {},
     "output_type": "execute_result"
    }
   ],
   "source": [
    "pd.DataFrame(columns = ['city', 'monday', 'wednesday', 'friday'], data = [['Moscow', 15740, 11056, 15945], ['Saint-Petersburg', 5614, 7003, 5895]])"
   ]
  },
  {
   "cell_type": "markdown",
   "metadata": {
    "deletable": false,
    "editable": false,
    "id": "-EgPIHYu_Zcu"
   },
   "source": [
    "**Выводы**\n",
    "\n",
    "Данные показывают разницу поведения пользователей:\n",
    "\n",
    "- В Москве пик прослушиваний приходится на понедельник и пятницу, а в среду заметен спад.\n",
    "- В Петербурге, наоборот, больше слушают музыку по средам. Активность в понедельник и пятницу здесь почти в равной мере уступает среде.\n",
    "\n",
    "Значит, данные говорят в пользу первой гипотезы."
   ]
  },
  {
   "cell_type": "markdown",
   "metadata": {
    "deletable": false,
    "editable": false,
    "id": "atZAxtq4_Zcu"
   },
   "source": [
    "### Музыка в начале и в конце недели"
   ]
  },
  {
   "cell_type": "markdown",
   "metadata": {
    "deletable": false,
    "editable": false,
    "id": "eXrQqXFH_Zcu"
   },
   "source": [
    "Согласно второй гипотезе, утром в понедельник в Москве преобладают одни жанры, а в Петербурге — другие. Так же и вечером пятницы преобладают разные жанры — в зависимости от города."
   ]
  },
  {
   "cell_type": "markdown",
   "metadata": {
    "deletable": false,
    "editable": false,
    "id": "S8UcW6Hw_Zcu",
    "tags": [
     "start_task"
    ]
   },
   "source": [
    "Сохраним таблицы с данными в две переменные:\n",
    "* по Москве — в `moscow_general`;\n",
    "* по Санкт-Петербургу — в `spb_general`."
   ]
  },
  {
   "cell_type": "code",
   "execution_count": 25,
   "metadata": {
    "deletable": false,
    "id": "qeaFfM_P_Zcu",
    "ExecuteTime": {
     "end_time": "2023-06-26T11:33:15.304285700Z",
     "start_time": "2023-06-26T11:33:15.249236Z"
    }
   },
   "outputs": [],
   "source": [
    "moscow_general = df[df.city == 'Moscow']"
   ]
  },
  {
   "cell_type": "code",
   "execution_count": 26,
   "metadata": {
    "deletable": false,
    "id": "ORaVRKto_Zcu",
    "ExecuteTime": {
     "end_time": "2023-06-26T11:33:15.305286500Z",
     "start_time": "2023-06-26T11:33:15.258243500Z"
    }
   },
   "outputs": [],
   "source": [
    "spb_general = df[df.city == 'Saint-Petersburg']"
   ]
  },
  {
   "cell_type": "markdown",
   "metadata": {
    "deletable": false,
    "editable": false,
    "id": "MEJV-CX2_Zcu",
    "tags": [
     "start_task"
    ]
   },
   "source": [
    "Создадим функцию `genre_weekday()` с четырьмя параметрами:\n",
    "* таблица (датафрейм) с данными,\n",
    "* день недели,\n",
    "* начальная временная метка в формате 'hh:mm', \n",
    "* последняя временная метка в формате 'hh:mm'.\n",
    "\n",
    "Функция должна вернуть информацию о топ-10 жанров тех треков, которые прослушивали в указанный день, в промежутке между двумя отметками времени."
   ]
  },
  {
   "cell_type": "code",
   "execution_count": 27,
   "metadata": {
    "deletable": false,
    "id": "laJT9BYl_Zcu",
    "ExecuteTime": {
     "end_time": "2023-06-26T11:33:15.305286500Z",
     "start_time": "2023-06-26T11:33:15.266250800Z"
    }
   },
   "outputs": [],
   "source": [
    "def genre_weekday(table, day, time1, time2):\n",
    "    genre_df = table[table.day == day][table.time > time1][table.time < time2]\n",
    "    genre_df_count = genre_df.groupby('genre')['genre'].count()\n",
    "    genre_df_sorted = genre_df_count.sort_values(ascending=False)\n",
    "    return genre_df_sorted.head(10)"
   ]
  },
  {
   "cell_type": "markdown",
   "metadata": {
    "deletable": false,
    "editable": false,
    "id": "la2s2_PF_Zcu",
    "tags": [
     "start_task"
    ]
   },
   "source": [
    "Сравним результаты функции `genre_weekday()` для Москвы и Санкт-Петербурга в понедельник утром (с 7:00 до 11:00) и в пятницу вечером (с 17:00 до 23:00):"
   ]
  },
  {
   "cell_type": "code",
   "execution_count": 28,
   "metadata": {
    "deletable": false,
    "id": "yz7itPUQ_Zcu",
    "ExecuteTime": {
     "end_time": "2023-06-26T11:33:15.305286500Z",
     "start_time": "2023-06-26T11:33:15.270254700Z"
    }
   },
   "outputs": [
    {
     "name": "stderr",
     "output_type": "stream",
     "text": [
      "C:\\Users\\sanchezdoto\\AppData\\Local\\Temp\\ipykernel_21692\\1116330707.py:2: UserWarning: Boolean Series key will be reindexed to match DataFrame index.\n",
      "  genre_df = table[table.day == day][table.time > time1][table.time < time2]\n"
     ]
    },
    {
     "data": {
      "text/plain": "genre\npop            781\ndance          549\nelectronic     480\nrock           474\nhiphop         286\nruspop         186\nworld          181\nrusrap         175\nalternative    164\nunknown        161\nName: genre, dtype: int64"
     },
     "execution_count": 28,
     "metadata": {},
     "output_type": "execute_result"
    }
   ],
   "source": [
    "genre_weekday(moscow_general, 'Monday', '07:00', '11:00')"
   ]
  },
  {
   "cell_type": "code",
   "execution_count": 29,
   "metadata": {
    "deletable": false,
    "id": "kwUcHPdy_Zcu",
    "ExecuteTime": {
     "end_time": "2023-06-26T11:33:15.305286500Z",
     "start_time": "2023-06-26T11:33:15.284267400Z"
    }
   },
   "outputs": [
    {
     "name": "stderr",
     "output_type": "stream",
     "text": [
      "C:\\Users\\sanchezdoto\\AppData\\Local\\Temp\\ipykernel_21692\\1116330707.py:2: UserWarning: Boolean Series key will be reindexed to match DataFrame index.\n",
      "  genre_df = table[table.day == day][table.time > time1][table.time < time2]\n"
     ]
    },
    {
     "data": {
      "text/plain": "genre\npop            218\ndance          182\nrock           162\nelectronic     147\nhiphop          80\nruspop          64\nalternative     58\nrusrap          55\njazz            44\nclassical       40\nName: genre, dtype: int64"
     },
     "execution_count": 29,
     "metadata": {},
     "output_type": "execute_result"
    }
   ],
   "source": [
    "genre_weekday(spb_general, 'Monday', '07:00', '11:00')"
   ]
  },
  {
   "cell_type": "code",
   "execution_count": 30,
   "metadata": {
    "deletable": false,
    "id": "EzXVRE1o_Zcu",
    "ExecuteTime": {
     "end_time": "2023-06-26T11:33:15.376351300Z",
     "start_time": "2023-06-26T11:33:15.301283100Z"
    }
   },
   "outputs": [
    {
     "name": "stderr",
     "output_type": "stream",
     "text": [
      "C:\\Users\\sanchezdoto\\AppData\\Local\\Temp\\ipykernel_21692\\1116330707.py:2: UserWarning: Boolean Series key will be reindexed to match DataFrame index.\n",
      "  genre_df = table[table.day == day][table.time > time1][table.time < time2]\n"
     ]
    },
    {
     "data": {
      "text/plain": "genre\npop            713\nrock           517\ndance          495\nelectronic     482\nhiphop         273\nworld          208\nruspop         170\nalternative    163\nclassical      163\nrusrap         142\nName: genre, dtype: int64"
     },
     "execution_count": 30,
     "metadata": {},
     "output_type": "execute_result"
    }
   ],
   "source": [
    "genre_weekday(moscow_general, 'Friday', '17:00', '23:00')"
   ]
  },
  {
   "cell_type": "code",
   "execution_count": 31,
   "metadata": {
    "deletable": false,
    "id": "JZaEKu5v_Zcu",
    "ExecuteTime": {
     "end_time": "2023-06-26T11:33:15.388361600Z",
     "start_time": "2023-06-26T11:33:15.309290100Z"
    }
   },
   "outputs": [
    {
     "name": "stderr",
     "output_type": "stream",
     "text": [
      "C:\\Users\\sanchezdoto\\AppData\\Local\\Temp\\ipykernel_21692\\1116330707.py:2: UserWarning: Boolean Series key will be reindexed to match DataFrame index.\n",
      "  genre_df = table[table.day == day][table.time > time1][table.time < time2]\n"
     ]
    },
    {
     "data": {
      "text/plain": "genre\npop            256\nelectronic     216\nrock           216\ndance          210\nhiphop          97\nalternative     63\njazz            61\nclassical       60\nrusrap          59\nworld           54\nName: genre, dtype: int64"
     },
     "execution_count": 31,
     "metadata": {},
     "output_type": "execute_result"
    }
   ],
   "source": [
    "genre_weekday(spb_general, 'Friday', '17:00', '23:00')"
   ]
  },
  {
   "cell_type": "markdown",
   "metadata": {
    "deletable": false,
    "editable": false,
    "id": "wrCe4MNX_Zcu"
   },
   "source": [
    "**Выводы**\n",
    "\n",
    "Если сравнить топ-10 жанров в понедельник утром, можно сделать такие выводы:\n",
    "\n",
    "1. В Москве и Петербурге слушают похожую музыку. Единственное отличие — в московский рейтинг вошёл жанр “world”, а в петербургский — джаз и классика.\n",
    "\n",
    "2. В Москве пропущенных значений оказалось так много, что значение `'unknown'` заняло десятое место среди самых популярных жанров. Значит, пропущенные значения занимают существенную долю в данных и угрожают достоверности исследования.\n",
    "\n",
    "Вечер пятницы не меняет эту картину. Некоторые жанры поднимаются немного выше, другие спускаются, но в целом топ-10 остаётся тем же самым.\n",
    "\n",
    "Таким образом, вторая гипотеза подтвердилась лишь частично:\n",
    "* Пользователи слушают похожую музыку в начале недели и в конце.\n",
    "* Разница между Москвой и Петербургом не слишком выражена. В Москве чаще слушают русскую популярную музыку, в Петербурге — джаз.\n",
    "\n",
    "Однако пропуски в данных ставят под сомнение этот результат. В Москве их так много, что рейтинг топ-10 мог бы выглядеть иначе, если бы не утерянные данные о жанрах."
   ]
  },
  {
   "cell_type": "markdown",
   "metadata": {
    "deletable": false,
    "editable": false,
    "id": "JolODAqr_Zcu"
   },
   "source": [
    "### Жанровые предпочтения в Москве и Петербурге\n",
    "\n",
    "Гипотеза: Петербург — столица рэпа, музыку этого жанра там слушают чаще, чем в Москве.  А Москва — город контрастов, в котором, тем не менее, преобладает поп-музыка."
   ]
  },
  {
   "cell_type": "markdown",
   "metadata": {
    "deletable": false,
    "editable": false,
    "id": "DlegSvaT_Zcu",
    "tags": [
     "start_task"
    ]
   },
   "source": [
    "Сгруппируем таблицу `moscow_general` по жанру и посчитаем прослушивания треков каждого жанра методом `count()`. Затем отсортируем результат в порядке убывания и сохраним его в таблице `moscow_genres`."
   ]
  },
  {
   "cell_type": "code",
   "execution_count": 32,
   "metadata": {
    "deletable": false,
    "id": "r19lIPke_Zcu",
    "ExecuteTime": {
     "end_time": "2023-06-26T11:33:15.388361600Z",
     "start_time": "2023-06-26T11:33:15.319299200Z"
    }
   },
   "outputs": [],
   "source": [
    "moscow_genres = moscow_general.groupby('genre')['genre'].count()\n",
    "moscow_genres = moscow_genres.sort_values(ascending=False)"
   ]
  },
  {
   "cell_type": "markdown",
   "metadata": {
    "deletable": false,
    "editable": false,
    "id": "6kMuomxTiIr8",
    "tags": [
     "start_task"
    ]
   },
   "source": [
    "Выведем на экран первые десять строк `moscow_genres`:"
   ]
  },
  {
   "cell_type": "code",
   "execution_count": 33,
   "metadata": {
    "deletable": false,
    "id": "WhCSooF8_Zcv",
    "ExecuteTime": {
     "end_time": "2023-06-26T11:33:15.388361600Z",
     "start_time": "2023-06-26T11:33:15.324303800Z"
    }
   },
   "outputs": [
    {
     "data": {
      "text/plain": "genre\npop            5892\ndance          4435\nrock           3965\nelectronic     3786\nhiphop         2096\nclassical      1616\nworld          1432\nalternative    1379\nruspop         1372\nrusrap         1161\nName: genre, dtype: int64"
     },
     "execution_count": 33,
     "metadata": {},
     "output_type": "execute_result"
    }
   ],
   "source": [
    "moscow_genres.head(10)"
   ]
  },
  {
   "cell_type": "markdown",
   "metadata": {
    "deletable": false,
    "editable": false,
    "id": "cnPG2vnN_Zcv",
    "tags": [
     "start_task"
    ]
   },
   "source": [
    "Теперь повторим то же и для Петербурга.\n",
    "\n",
    "Сгруппируем таблицу `spb_general` по жанру. Посчитаем прослушивания треков каждого жанра. Результат отсортируем в порядке убывания и сохраним в таблице `spb_genres`:\n"
   ]
  },
  {
   "cell_type": "code",
   "execution_count": 34,
   "metadata": {
    "deletable": false,
    "id": "gluLIpE7_Zcv",
    "ExecuteTime": {
     "end_time": "2023-06-26T11:33:15.388361600Z",
     "start_time": "2023-06-26T11:33:15.329308100Z"
    }
   },
   "outputs": [],
   "source": [
    "spb_genres = spb_general.groupby('genre')['genre'].count()\n",
    "spb_genres = spb_genres.sort_values(ascending=False)"
   ]
  },
  {
   "cell_type": "markdown",
   "metadata": {
    "deletable": false,
    "editable": false,
    "id": "5Doha_ODgyQ8",
    "tags": [
     "start_task"
    ]
   },
   "source": [
    "Выведем на экран первые десять строк `spb_genres`:"
   ]
  },
  {
   "cell_type": "code",
   "execution_count": 35,
   "metadata": {
    "deletable": false,
    "id": "uaGJHjVU_Zcv",
    "ExecuteTime": {
     "end_time": "2023-06-26T11:33:15.388361600Z",
     "start_time": "2023-06-26T11:33:15.333312100Z"
    }
   },
   "outputs": [
    {
     "data": {
      "text/plain": "genre\npop            2431\ndance          1932\nrock           1879\nelectronic     1736\nhiphop          960\nalternative     649\nclassical       646\nrusrap          564\nruspop          538\nworld           515\nName: genre, dtype: int64"
     },
     "execution_count": 35,
     "metadata": {},
     "output_type": "execute_result"
    }
   ],
   "source": [
    "spb_genres.head(10)"
   ]
  },
  {
   "cell_type": "markdown",
   "metadata": {
    "deletable": false,
    "editable": false,
    "id": "RY51YJYu_Zcv"
   },
   "source": [
    "**Выводы**"
   ]
  },
  {
   "cell_type": "markdown",
   "metadata": {
    "deletable": false,
    "editable": false,
    "id": "nVhnJEm__Zcv"
   },
   "source": [
    "Гипотеза частично подтвердилась:\n",
    "* Поп-музыка — самый популярный жанр в Москве, как и предполагала гипотеза. Более того, в топ-10 жанров встречается близкий жанр — русская популярная музыка.\n",
    "* Вопреки ожиданиям, рэп одинаково популярен в Москве и Петербурге. \n"
   ]
  },
  {
   "cell_type": "markdown",
   "metadata": {
    "deletable": false,
    "editable": false,
    "id": "ykKQ0N65_Zcv"
   },
   "source": [
    "## Итоги исследования"
   ]
  },
  {
   "cell_type": "markdown",
   "metadata": {
    "deletable": false,
    "editable": false,
    "id": "tjUwbHb3_Zcv"
   },
   "source": [
    "Мы проверили три гипотезы и установили:\n",
    "\n",
    "1. День недели по-разному влияет на активность пользователей в Москве и Петербурге.\n",
    "\n",
    "Первая гипотеза полностью подтвердилась.\n",
    "\n",
    "2. Музыкальные предпочтения не сильно меняются в течение недели — будь то Москва или Петербург. Небольшие различия заметны в начале недели, по понедельникам:\n",
    "* в Москве слушают музыку жанра “world”,\n",
    "* в Петербурге — джаз и классику.\n",
    "\n",
    "Таким образом, вторая гипотеза подтвердилась лишь отчасти. Этот результат мог оказаться иным, если бы не пропуски в данных.\n",
    "\n",
    "3. Во вкусах пользователей Москвы и Петербурга больше общего чем различий. Вопреки ожиданиям, предпочтения жанров в Петербурге напоминают московские.\n",
    "\n",
    "Третья гипотеза не подтвердилась. Если различия в предпочтениях и существуют, на основной массе пользователей они незаметны."
   ]
  }
 ],
 "metadata": {
  "ExecuteTimeLog": [
   {
    "duration": 98,
    "start_time": "2022-09-10T08:56:26.597Z"
   },
   {
    "duration": 458,
    "start_time": "2022-09-10T08:56:41.769Z"
   },
   {
    "duration": 361,
    "start_time": "2022-09-10T08:56:42.240Z"
   },
   {
    "duration": 39,
    "start_time": "2022-09-10T08:56:42.602Z"
   },
   {
    "duration": 65,
    "start_time": "2022-09-10T08:56:42.642Z"
   },
   {
    "duration": 36,
    "start_time": "2022-09-10T08:56:42.716Z"
   },
   {
    "duration": 26,
    "start_time": "2022-09-10T08:56:42.757Z"
   },
   {
    "duration": 13,
    "start_time": "2022-09-10T08:56:42.785Z"
   },
   {
    "duration": 14,
    "start_time": "2022-09-10T08:56:42.801Z"
   },
   {
    "duration": 72,
    "start_time": "2022-09-10T08:56:42.816Z"
   },
   {
    "duration": 6,
    "start_time": "2022-09-10T08:56:42.890Z"
   },
   {
    "duration": 64,
    "start_time": "2022-09-10T08:56:42.899Z"
   },
   {
    "duration": 8,
    "start_time": "2022-09-10T08:56:42.972Z"
   },
   {
    "duration": 10,
    "start_time": "2022-09-10T08:56:42.982Z"
   },
   {
    "duration": 5,
    "start_time": "2022-09-10T08:56:42.996Z"
   },
   {
    "duration": 16,
    "start_time": "2022-09-10T08:56:43.005Z"
   },
   {
    "duration": 67,
    "start_time": "2022-09-10T08:56:43.025Z"
   },
   {
    "duration": 5,
    "start_time": "2022-09-10T08:56:43.094Z"
   },
   {
    "duration": 5,
    "start_time": "2022-09-10T08:56:43.101Z"
   },
   {
    "duration": 78,
    "start_time": "2022-09-10T08:56:43.109Z"
   },
   {
    "duration": 9,
    "start_time": "2022-09-10T08:56:43.193Z"
   },
   {
    "duration": 75,
    "start_time": "2022-09-10T08:56:43.204Z"
   },
   {
    "duration": 59,
    "start_time": "2022-09-10T08:56:43.280Z"
   },
   {
    "duration": 47,
    "start_time": "2022-09-10T08:56:43.340Z"
   },
   {
    "duration": 5,
    "start_time": "2022-09-10T08:56:43.390Z"
   },
   {
    "duration": 9,
    "start_time": "2022-09-10T08:56:43.397Z"
   },
   {
    "duration": 76,
    "start_time": "2022-09-10T08:56:43.408Z"
   },
   {
    "duration": 12,
    "start_time": "2022-09-10T08:56:43.485Z"
   },
   {
    "duration": 8,
    "start_time": "2022-09-10T08:56:43.499Z"
   },
   {
    "duration": 72,
    "start_time": "2022-09-10T08:56:43.508Z"
   },
   {
    "duration": 155,
    "start_time": "2022-09-10T08:56:43.584Z"
   },
   {
    "duration": 0,
    "start_time": "2022-09-10T08:56:43.740Z"
   },
   {
    "duration": 0,
    "start_time": "2022-09-10T08:56:43.742Z"
   },
   {
    "duration": 1,
    "start_time": "2022-09-10T08:56:43.742Z"
   },
   {
    "duration": 1,
    "start_time": "2022-09-10T08:56:43.743Z"
   },
   {
    "duration": 0,
    "start_time": "2022-09-10T08:56:43.744Z"
   },
   {
    "duration": 1,
    "start_time": "2022-09-10T08:56:43.745Z"
   },
   {
    "duration": 1,
    "start_time": "2022-09-10T08:56:43.749Z"
   },
   {
    "duration": 0,
    "start_time": "2022-09-10T08:56:43.751Z"
   },
   {
    "duration": 45,
    "start_time": "2022-09-10T09:04:09.325Z"
   },
   {
    "duration": 3,
    "start_time": "2022-09-10T09:06:01.077Z"
   },
   {
    "duration": 14,
    "start_time": "2022-09-10T09:07:17.661Z"
   },
   {
    "duration": 14,
    "start_time": "2022-09-10T09:07:24.978Z"
   },
   {
    "duration": 25,
    "start_time": "2022-09-10T09:07:32.752Z"
   },
   {
    "duration": 59,
    "start_time": "2022-09-10T09:08:03.904Z"
   },
   {
    "duration": 34,
    "start_time": "2022-09-10T09:08:10.489Z"
   },
   {
    "duration": 31,
    "start_time": "2022-09-10T09:08:14.464Z"
   },
   {
    "duration": 19,
    "start_time": "2022-09-10T09:08:16.780Z"
   },
   {
    "duration": 52,
    "start_time": "2022-09-10T09:09:09.636Z"
   },
   {
    "duration": 40,
    "start_time": "2022-09-10T09:09:14.967Z"
   },
   {
    "duration": 99,
    "start_time": "2022-09-10T09:09:25.489Z"
   },
   {
    "duration": 21,
    "start_time": "2022-09-10T09:09:36.209Z"
   },
   {
    "duration": 23,
    "start_time": "2022-09-10T09:09:38.855Z"
   },
   {
    "duration": 445,
    "start_time": "2022-09-10T09:15:23.814Z"
   },
   {
    "duration": 248,
    "start_time": "2022-09-10T09:15:24.260Z"
   },
   {
    "duration": 46,
    "start_time": "2022-09-10T09:15:24.524Z"
   },
   {
    "duration": 57,
    "start_time": "2022-09-10T09:15:24.578Z"
   },
   {
    "duration": 35,
    "start_time": "2022-09-10T09:15:24.642Z"
   },
   {
    "duration": 85,
    "start_time": "2022-09-10T09:15:24.679Z"
   },
   {
    "duration": 21,
    "start_time": "2022-09-10T09:15:24.766Z"
   },
   {
    "duration": 30,
    "start_time": "2022-09-10T09:15:24.789Z"
   },
   {
    "duration": 92,
    "start_time": "2022-09-10T09:15:24.821Z"
   },
   {
    "duration": 74,
    "start_time": "2022-09-10T09:15:24.915Z"
   },
   {
    "duration": 102,
    "start_time": "2022-09-10T09:15:24.992Z"
   },
   {
    "duration": 186,
    "start_time": "2022-09-10T09:15:25.096Z"
   },
   {
    "duration": 103,
    "start_time": "2022-09-10T09:15:25.284Z"
   },
   {
    "duration": 87,
    "start_time": "2022-09-10T09:15:25.389Z"
   },
   {
    "duration": 11,
    "start_time": "2022-09-10T09:15:25.477Z"
   },
   {
    "duration": 77,
    "start_time": "2022-09-10T09:15:25.490Z"
   },
   {
    "duration": 12,
    "start_time": "2022-09-10T09:15:25.569Z"
   },
   {
    "duration": 7,
    "start_time": "2022-09-10T09:15:25.582Z"
   },
   {
    "duration": 15,
    "start_time": "2022-09-10T09:15:25.590Z"
   },
   {
    "duration": 61,
    "start_time": "2022-09-10T09:15:25.607Z"
   },
   {
    "duration": 3,
    "start_time": "2022-09-10T09:15:25.669Z"
   },
   {
    "duration": 5,
    "start_time": "2022-09-10T09:15:25.673Z"
   },
   {
    "duration": 14,
    "start_time": "2022-09-10T09:15:25.680Z"
   },
   {
    "duration": 66,
    "start_time": "2022-09-10T09:15:25.696Z"
   },
   {
    "duration": 3,
    "start_time": "2022-09-10T09:15:25.766Z"
   },
   {
    "duration": 5,
    "start_time": "2022-09-10T09:15:25.771Z"
   },
   {
    "duration": 7,
    "start_time": "2022-09-10T09:15:25.778Z"
   },
   {
    "duration": 6,
    "start_time": "2022-09-10T09:15:25.788Z"
   },
   {
    "duration": 31,
    "start_time": "2022-09-10T09:15:25.796Z"
   },
   {
    "duration": 73,
    "start_time": "2022-09-10T09:15:25.828Z"
   },
   {
    "duration": 0,
    "start_time": "2022-09-10T09:15:25.903Z"
   },
   {
    "duration": 0,
    "start_time": "2022-09-10T09:15:25.909Z"
   },
   {
    "duration": 0,
    "start_time": "2022-09-10T09:15:25.910Z"
   },
   {
    "duration": 0,
    "start_time": "2022-09-10T09:15:25.911Z"
   },
   {
    "duration": 0,
    "start_time": "2022-09-10T09:15:25.911Z"
   },
   {
    "duration": 0,
    "start_time": "2022-09-10T09:15:25.912Z"
   },
   {
    "duration": 0,
    "start_time": "2022-09-10T09:15:25.913Z"
   },
   {
    "duration": 0,
    "start_time": "2022-09-10T09:15:25.914Z"
   },
   {
    "duration": 96,
    "start_time": "2022-09-10T09:15:32.665Z"
   },
   {
    "duration": 93,
    "start_time": "2022-09-10T09:16:02.468Z"
   },
   {
    "duration": 104,
    "start_time": "2022-09-10T09:16:04.564Z"
   },
   {
    "duration": 79,
    "start_time": "2022-09-10T09:16:18.706Z"
   },
   {
    "duration": 446,
    "start_time": "2022-09-10T09:16:26.409Z"
   },
   {
    "duration": 207,
    "start_time": "2022-09-10T09:16:26.856Z"
   },
   {
    "duration": 21,
    "start_time": "2022-09-10T09:16:27.068Z"
   },
   {
    "duration": 68,
    "start_time": "2022-09-10T09:16:27.091Z"
   },
   {
    "duration": 10,
    "start_time": "2022-09-10T09:16:27.160Z"
   },
   {
    "duration": 7,
    "start_time": "2022-09-10T09:16:27.172Z"
   },
   {
    "duration": 17,
    "start_time": "2022-09-10T09:16:27.180Z"
   },
   {
    "duration": 10,
    "start_time": "2022-09-10T09:16:27.199Z"
   },
   {
    "duration": 90,
    "start_time": "2022-09-10T09:16:27.214Z"
   },
   {
    "duration": 79,
    "start_time": "2022-09-10T09:16:27.307Z"
   },
   {
    "duration": 35,
    "start_time": "2022-09-10T09:16:27.388Z"
   },
   {
    "duration": 108,
    "start_time": "2022-09-10T09:16:27.424Z"
   },
   {
    "duration": 77,
    "start_time": "2022-09-10T09:16:27.534Z"
   },
   {
    "duration": 77,
    "start_time": "2022-09-10T09:16:27.620Z"
   },
   {
    "duration": 2,
    "start_time": "2022-09-10T09:16:27.699Z"
   },
   {
    "duration": 44,
    "start_time": "2022-09-10T09:16:27.703Z"
   },
   {
    "duration": 13,
    "start_time": "2022-09-10T09:16:27.763Z"
   },
   {
    "duration": 5,
    "start_time": "2022-09-10T09:16:27.778Z"
   },
   {
    "duration": 5,
    "start_time": "2022-09-10T09:16:27.785Z"
   },
   {
    "duration": 8,
    "start_time": "2022-09-10T09:16:27.792Z"
   },
   {
    "duration": 65,
    "start_time": "2022-09-10T09:16:27.802Z"
   },
   {
    "duration": 19,
    "start_time": "2022-09-10T09:16:27.869Z"
   },
   {
    "duration": 5,
    "start_time": "2022-09-10T09:16:27.890Z"
   },
   {
    "duration": 6,
    "start_time": "2022-09-10T09:16:27.896Z"
   },
   {
    "duration": 52,
    "start_time": "2022-09-10T09:16:27.903Z"
   },
   {
    "duration": 6,
    "start_time": "2022-09-10T09:16:27.960Z"
   },
   {
    "duration": 5,
    "start_time": "2022-09-10T09:16:27.967Z"
   },
   {
    "duration": 8,
    "start_time": "2022-09-10T09:16:27.976Z"
   },
   {
    "duration": 5,
    "start_time": "2022-09-10T09:16:27.985Z"
   },
   {
    "duration": 91,
    "start_time": "2022-09-10T09:16:27.991Z"
   },
   {
    "duration": 0,
    "start_time": "2022-09-10T09:16:28.084Z"
   },
   {
    "duration": 0,
    "start_time": "2022-09-10T09:16:28.085Z"
   },
   {
    "duration": 0,
    "start_time": "2022-09-10T09:16:28.086Z"
   },
   {
    "duration": 0,
    "start_time": "2022-09-10T09:16:28.089Z"
   },
   {
    "duration": 0,
    "start_time": "2022-09-10T09:16:28.091Z"
   },
   {
    "duration": 0,
    "start_time": "2022-09-10T09:16:28.092Z"
   },
   {
    "duration": 0,
    "start_time": "2022-09-10T09:16:28.094Z"
   },
   {
    "duration": 0,
    "start_time": "2022-09-10T09:16:28.095Z"
   },
   {
    "duration": 104,
    "start_time": "2022-09-10T09:17:39.261Z"
   },
   {
    "duration": 25,
    "start_time": "2022-09-10T09:17:58.502Z"
   },
   {
    "duration": 73,
    "start_time": "2022-09-10T09:19:11.594Z"
   },
   {
    "duration": 36,
    "start_time": "2022-09-10T09:19:21.920Z"
   },
   {
    "duration": 60,
    "start_time": "2022-09-10T09:19:39.391Z"
   },
   {
    "duration": 33,
    "start_time": "2022-09-10T09:19:43.560Z"
   },
   {
    "duration": 78,
    "start_time": "2022-09-10T09:19:51.068Z"
   },
   {
    "duration": 78,
    "start_time": "2022-09-10T09:19:59.703Z"
   },
   {
    "duration": 12,
    "start_time": "2022-09-10T09:22:28.456Z"
   },
   {
    "duration": 8,
    "start_time": "2022-09-10T09:22:37.865Z"
   },
   {
    "duration": 10,
    "start_time": "2022-09-10T09:22:52.782Z"
   },
   {
    "duration": 10,
    "start_time": "2022-09-10T09:22:55.281Z"
   },
   {
    "duration": 9,
    "start_time": "2022-09-10T09:23:51.358Z"
   },
   {
    "duration": 10,
    "start_time": "2022-09-10T09:23:56.165Z"
   },
   {
    "duration": 44,
    "start_time": "2022-09-10T09:24:08.061Z"
   },
   {
    "duration": 74,
    "start_time": "2022-09-10T09:28:02.369Z"
   },
   {
    "duration": 77,
    "start_time": "2022-09-10T09:28:08.265Z"
   },
   {
    "duration": 483,
    "start_time": "2022-09-10T09:28:44.909Z"
   },
   {
    "duration": 21,
    "start_time": "2022-09-10T09:29:17.656Z"
   },
   {
    "duration": 6,
    "start_time": "2022-09-10T09:29:58.501Z"
   },
   {
    "duration": 10,
    "start_time": "2022-09-10T09:30:07.073Z"
   },
   {
    "duration": 20,
    "start_time": "2022-09-10T09:30:12.343Z"
   },
   {
    "duration": 3,
    "start_time": "2022-09-10T09:30:21.681Z"
   },
   {
    "duration": 19,
    "start_time": "2022-09-10T09:30:24.347Z"
   },
   {
    "duration": 180,
    "start_time": "2022-09-10T09:30:54.875Z"
   },
   {
    "duration": 8,
    "start_time": "2022-09-10T09:30:58.662Z"
   },
   {
    "duration": 8,
    "start_time": "2022-09-10T09:31:13.873Z"
   },
   {
    "duration": 7,
    "start_time": "2022-09-10T09:31:15.972Z"
   },
   {
    "duration": 10,
    "start_time": "2022-09-10T09:31:30.864Z"
   },
   {
    "duration": 9,
    "start_time": "2022-09-10T09:32:34.867Z"
   },
   {
    "duration": 21,
    "start_time": "2022-09-10T09:32:39.847Z"
   },
   {
    "duration": 23,
    "start_time": "2022-09-10T09:32:41.812Z"
   },
   {
    "duration": 14,
    "start_time": "2022-09-10T09:32:43.836Z"
   },
   {
    "duration": 459,
    "start_time": "2022-09-10T09:33:06.964Z"
   },
   {
    "duration": 242,
    "start_time": "2022-09-10T09:33:07.425Z"
   },
   {
    "duration": 19,
    "start_time": "2022-09-10T09:33:07.669Z"
   },
   {
    "duration": 98,
    "start_time": "2022-09-10T09:33:07.690Z"
   },
   {
    "duration": 2,
    "start_time": "2022-09-10T09:33:07.790Z"
   },
   {
    "duration": 6,
    "start_time": "2022-09-10T09:33:07.794Z"
   },
   {
    "duration": 33,
    "start_time": "2022-09-10T09:33:07.802Z"
   },
   {
    "duration": 32,
    "start_time": "2022-09-10T09:33:07.837Z"
   },
   {
    "duration": 52,
    "start_time": "2022-09-10T09:33:07.871Z"
   },
   {
    "duration": 71,
    "start_time": "2022-09-10T09:33:07.924Z"
   },
   {
    "duration": 53,
    "start_time": "2022-09-10T09:33:07.996Z"
   },
   {
    "duration": 102,
    "start_time": "2022-09-10T09:33:08.059Z"
   },
   {
    "duration": 90,
    "start_time": "2022-09-10T09:33:08.163Z"
   },
   {
    "duration": 92,
    "start_time": "2022-09-10T09:33:08.259Z"
   },
   {
    "duration": 51,
    "start_time": "2022-09-10T09:33:08.355Z"
   },
   {
    "duration": 27,
    "start_time": "2022-09-10T09:33:08.408Z"
   },
   {
    "duration": 94,
    "start_time": "2022-09-10T09:33:08.447Z"
   },
   {
    "duration": 41,
    "start_time": "2022-09-10T09:33:08.549Z"
   },
   {
    "duration": 3,
    "start_time": "2022-09-10T09:33:08.591Z"
   },
   {
    "duration": 16,
    "start_time": "2022-09-10T09:33:08.595Z"
   },
   {
    "duration": 13,
    "start_time": "2022-09-10T09:33:08.623Z"
   },
   {
    "duration": 32,
    "start_time": "2022-09-10T09:33:08.643Z"
   },
   {
    "duration": 22,
    "start_time": "2022-09-10T09:33:08.677Z"
   },
   {
    "duration": 49,
    "start_time": "2022-09-10T09:33:08.701Z"
   },
   {
    "duration": 33,
    "start_time": "2022-09-10T09:33:08.753Z"
   },
   {
    "duration": 12,
    "start_time": "2022-09-10T09:33:08.788Z"
   },
   {
    "duration": 39,
    "start_time": "2022-09-10T09:33:08.802Z"
   },
   {
    "duration": 45,
    "start_time": "2022-09-10T09:33:08.842Z"
   },
   {
    "duration": 8,
    "start_time": "2022-09-10T09:33:08.889Z"
   },
   {
    "duration": 171,
    "start_time": "2022-09-10T09:33:08.899Z"
   },
   {
    "duration": 0,
    "start_time": "2022-09-10T09:33:09.072Z"
   },
   {
    "duration": 0,
    "start_time": "2022-09-10T09:33:09.073Z"
   },
   {
    "duration": 0,
    "start_time": "2022-09-10T09:33:09.075Z"
   },
   {
    "duration": 0,
    "start_time": "2022-09-10T09:33:09.076Z"
   },
   {
    "duration": 0,
    "start_time": "2022-09-10T09:33:09.077Z"
   },
   {
    "duration": 0,
    "start_time": "2022-09-10T09:33:09.078Z"
   },
   {
    "duration": 0,
    "start_time": "2022-09-10T09:33:09.079Z"
   },
   {
    "duration": 0,
    "start_time": "2022-09-10T09:33:09.081Z"
   },
   {
    "duration": 73,
    "start_time": "2022-09-10T09:33:45.082Z"
   },
   {
    "duration": 41,
    "start_time": "2022-09-10T09:34:52.860Z"
   },
   {
    "duration": 63,
    "start_time": "2022-09-10T09:34:54.836Z"
   },
   {
    "duration": 26,
    "start_time": "2022-09-10T09:35:32.542Z"
   },
   {
    "duration": 72,
    "start_time": "2022-09-10T09:36:35.396Z"
   },
   {
    "duration": 143,
    "start_time": "2022-09-10T09:39:01.194Z"
   },
   {
    "duration": 22,
    "start_time": "2022-09-10T09:39:21.904Z"
   },
   {
    "duration": 61,
    "start_time": "2022-09-10T09:39:27.438Z"
   },
   {
    "duration": 75,
    "start_time": "2022-09-10T09:41:46.791Z"
   },
   {
    "duration": 7,
    "start_time": "2022-09-10T09:42:22.141Z"
   },
   {
    "duration": 9,
    "start_time": "2022-09-10T09:42:24.998Z"
   },
   {
    "duration": 44,
    "start_time": "2022-09-10T09:42:43.391Z"
   },
   {
    "duration": 14,
    "start_time": "2022-09-10T09:44:44.938Z"
   },
   {
    "duration": 401,
    "start_time": "2022-09-10T09:45:05.153Z"
   },
   {
    "duration": 188,
    "start_time": "2022-09-10T09:45:05.555Z"
   },
   {
    "duration": 24,
    "start_time": "2022-09-10T09:45:05.745Z"
   },
   {
    "duration": 26,
    "start_time": "2022-09-10T09:45:05.771Z"
   },
   {
    "duration": 2,
    "start_time": "2022-09-10T09:45:05.800Z"
   },
   {
    "duration": 34,
    "start_time": "2022-09-10T09:45:05.809Z"
   },
   {
    "duration": 13,
    "start_time": "2022-09-10T09:45:05.844Z"
   },
   {
    "duration": 8,
    "start_time": "2022-09-10T09:45:05.859Z"
   },
   {
    "duration": 24,
    "start_time": "2022-09-10T09:45:05.869Z"
   },
   {
    "duration": 27,
    "start_time": "2022-09-10T09:45:05.896Z"
   },
   {
    "duration": 28,
    "start_time": "2022-09-10T09:45:05.932Z"
   },
   {
    "duration": 78,
    "start_time": "2022-09-10T09:45:05.962Z"
   },
   {
    "duration": 91,
    "start_time": "2022-09-10T09:45:06.041Z"
   },
   {
    "duration": 72,
    "start_time": "2022-09-10T09:45:06.136Z"
   },
   {
    "duration": 65,
    "start_time": "2022-09-10T09:45:06.219Z"
   },
   {
    "duration": 11,
    "start_time": "2022-09-10T09:45:06.286Z"
   },
   {
    "duration": 81,
    "start_time": "2022-09-10T09:45:06.298Z"
   },
   {
    "duration": 81,
    "start_time": "2022-09-10T09:45:06.380Z"
   },
   {
    "duration": 0,
    "start_time": "2022-09-10T09:45:06.463Z"
   },
   {
    "duration": 0,
    "start_time": "2022-09-10T09:45:06.464Z"
   },
   {
    "duration": 0,
    "start_time": "2022-09-10T09:45:06.465Z"
   },
   {
    "duration": 0,
    "start_time": "2022-09-10T09:45:06.467Z"
   },
   {
    "duration": 0,
    "start_time": "2022-09-10T09:45:06.469Z"
   },
   {
    "duration": 1,
    "start_time": "2022-09-10T09:45:06.470Z"
   },
   {
    "duration": 0,
    "start_time": "2022-09-10T09:45:06.472Z"
   },
   {
    "duration": 0,
    "start_time": "2022-09-10T09:45:06.474Z"
   },
   {
    "duration": 0,
    "start_time": "2022-09-10T09:45:06.475Z"
   },
   {
    "duration": 0,
    "start_time": "2022-09-10T09:45:06.477Z"
   },
   {
    "duration": 0,
    "start_time": "2022-09-10T09:45:06.478Z"
   },
   {
    "duration": 0,
    "start_time": "2022-09-10T09:45:06.481Z"
   },
   {
    "duration": 0,
    "start_time": "2022-09-10T09:45:06.521Z"
   },
   {
    "duration": 0,
    "start_time": "2022-09-10T09:45:06.522Z"
   },
   {
    "duration": 0,
    "start_time": "2022-09-10T09:45:06.522Z"
   },
   {
    "duration": 0,
    "start_time": "2022-09-10T09:45:06.523Z"
   },
   {
    "duration": 0,
    "start_time": "2022-09-10T09:45:06.524Z"
   },
   {
    "duration": 0,
    "start_time": "2022-09-10T09:45:06.524Z"
   },
   {
    "duration": 0,
    "start_time": "2022-09-10T09:45:06.525Z"
   },
   {
    "duration": 0,
    "start_time": "2022-09-10T09:45:06.526Z"
   },
   {
    "duration": 10,
    "start_time": "2022-09-10T09:47:01.168Z"
   },
   {
    "duration": 10,
    "start_time": "2022-09-10T09:47:04.456Z"
   },
   {
    "duration": 8,
    "start_time": "2022-09-10T09:47:09.233Z"
   },
   {
    "duration": 85,
    "start_time": "2022-09-10T09:47:14.093Z"
   },
   {
    "duration": 84,
    "start_time": "2022-09-10T09:47:21.098Z"
   },
   {
    "duration": 93,
    "start_time": "2022-09-10T09:47:26.259Z"
   },
   {
    "duration": 50,
    "start_time": "2022-09-10T09:47:40.642Z"
   },
   {
    "duration": 45,
    "start_time": "2022-09-10T09:48:04.008Z"
   },
   {
    "duration": 47,
    "start_time": "2022-09-10T09:48:28.838Z"
   },
   {
    "duration": 52,
    "start_time": "2022-09-10T09:49:07.732Z"
   },
   {
    "duration": 67,
    "start_time": "2022-09-10T09:49:11.367Z"
   },
   {
    "duration": 50,
    "start_time": "2022-09-10T09:50:36.250Z"
   },
   {
    "duration": 51,
    "start_time": "2022-09-10T09:51:04.872Z"
   },
   {
    "duration": 2,
    "start_time": "2022-09-10T09:51:07.873Z"
   },
   {
    "duration": 5,
    "start_time": "2022-09-10T09:52:04.142Z"
   },
   {
    "duration": 28,
    "start_time": "2022-09-10T09:52:12.363Z"
   },
   {
    "duration": 47,
    "start_time": "2022-09-10T09:55:30.391Z"
   },
   {
    "duration": 47,
    "start_time": "2022-09-10T09:55:33.155Z"
   },
   {
    "duration": 47,
    "start_time": "2022-09-10T09:56:15.904Z"
   },
   {
    "duration": 37,
    "start_time": "2022-09-10T09:56:22.232Z"
   },
   {
    "duration": 10,
    "start_time": "2022-09-10T09:56:29.843Z"
   },
   {
    "duration": 8,
    "start_time": "2022-09-10T09:56:38.187Z"
   },
   {
    "duration": 6,
    "start_time": "2022-09-10T09:56:39.740Z"
   },
   {
    "duration": 35,
    "start_time": "2022-09-10T09:56:45.204Z"
   },
   {
    "duration": 7,
    "start_time": "2022-09-10T09:57:00.630Z"
   },
   {
    "duration": 201,
    "start_time": "2022-09-10T09:57:00.638Z"
   },
   {
    "duration": 11,
    "start_time": "2022-09-10T09:57:00.844Z"
   },
   {
    "duration": 186,
    "start_time": "2022-09-10T09:57:00.857Z"
   },
   {
    "duration": 13,
    "start_time": "2022-09-10T09:57:01.045Z"
   },
   {
    "duration": 20,
    "start_time": "2022-09-10T09:57:01.060Z"
   },
   {
    "duration": 34,
    "start_time": "2022-09-10T09:57:01.081Z"
   },
   {
    "duration": 65,
    "start_time": "2022-09-10T09:57:01.116Z"
   },
   {
    "duration": 46,
    "start_time": "2022-09-10T09:57:01.182Z"
   },
   {
    "duration": 28,
    "start_time": "2022-09-10T09:57:01.237Z"
   },
   {
    "duration": 80,
    "start_time": "2022-09-10T09:57:01.267Z"
   },
   {
    "duration": 74,
    "start_time": "2022-09-10T09:57:01.349Z"
   },
   {
    "duration": 102,
    "start_time": "2022-09-10T09:57:01.424Z"
   },
   {
    "duration": 60,
    "start_time": "2022-09-10T09:57:01.529Z"
   },
   {
    "duration": 59,
    "start_time": "2022-09-10T09:57:01.590Z"
   },
   {
    "duration": 15,
    "start_time": "2022-09-10T09:57:01.650Z"
   },
   {
    "duration": 85,
    "start_time": "2022-09-10T09:57:01.667Z"
   },
   {
    "duration": 10,
    "start_time": "2022-09-10T09:57:01.754Z"
   },
   {
    "duration": 0,
    "start_time": "2022-09-10T09:57:01.766Z"
   },
   {
    "duration": 0,
    "start_time": "2022-09-10T09:57:01.767Z"
   },
   {
    "duration": 0,
    "start_time": "2022-09-10T09:57:01.768Z"
   },
   {
    "duration": 0,
    "start_time": "2022-09-10T09:57:01.770Z"
   },
   {
    "duration": 0,
    "start_time": "2022-09-10T09:57:01.771Z"
   },
   {
    "duration": 0,
    "start_time": "2022-09-10T09:57:01.772Z"
   },
   {
    "duration": 0,
    "start_time": "2022-09-10T09:57:01.774Z"
   },
   {
    "duration": 0,
    "start_time": "2022-09-10T09:57:01.775Z"
   },
   {
    "duration": 0,
    "start_time": "2022-09-10T09:57:01.776Z"
   },
   {
    "duration": 0,
    "start_time": "2022-09-10T09:57:01.777Z"
   },
   {
    "duration": 0,
    "start_time": "2022-09-10T09:57:01.778Z"
   },
   {
    "duration": 0,
    "start_time": "2022-09-10T09:57:01.780Z"
   },
   {
    "duration": 0,
    "start_time": "2022-09-10T09:57:01.781Z"
   },
   {
    "duration": 0,
    "start_time": "2022-09-10T09:57:01.782Z"
   },
   {
    "duration": 0,
    "start_time": "2022-09-10T09:57:01.813Z"
   },
   {
    "duration": 0,
    "start_time": "2022-09-10T09:57:01.814Z"
   },
   {
    "duration": 0,
    "start_time": "2022-09-10T09:57:01.815Z"
   },
   {
    "duration": 0,
    "start_time": "2022-09-10T09:57:01.816Z"
   },
   {
    "duration": 0,
    "start_time": "2022-09-10T09:57:01.817Z"
   },
   {
    "duration": 0,
    "start_time": "2022-09-10T09:57:01.818Z"
   },
   {
    "duration": 30,
    "start_time": "2022-09-10T09:57:30.569Z"
   },
   {
    "duration": 446,
    "start_time": "2022-09-10T09:58:46.432Z"
   },
   {
    "duration": 187,
    "start_time": "2022-09-10T09:58:46.880Z"
   },
   {
    "duration": 18,
    "start_time": "2022-09-10T09:58:47.068Z"
   },
   {
    "duration": 75,
    "start_time": "2022-09-10T09:58:47.088Z"
   },
   {
    "duration": 3,
    "start_time": "2022-09-10T09:58:47.166Z"
   },
   {
    "duration": 11,
    "start_time": "2022-09-10T09:58:47.171Z"
   },
   {
    "duration": 12,
    "start_time": "2022-09-10T09:58:47.184Z"
   },
   {
    "duration": 9,
    "start_time": "2022-09-10T09:58:47.198Z"
   },
   {
    "duration": 65,
    "start_time": "2022-09-10T09:58:47.223Z"
   },
   {
    "duration": 55,
    "start_time": "2022-09-10T09:58:47.291Z"
   },
   {
    "duration": 29,
    "start_time": "2022-09-10T09:58:47.351Z"
   },
   {
    "duration": 81,
    "start_time": "2022-09-10T09:58:47.381Z"
   },
   {
    "duration": 69,
    "start_time": "2022-09-10T09:58:47.464Z"
   },
   {
    "duration": 67,
    "start_time": "2022-09-10T09:58:47.536Z"
   },
   {
    "duration": 65,
    "start_time": "2022-09-10T09:58:47.616Z"
   },
   {
    "duration": 11,
    "start_time": "2022-09-10T09:58:47.683Z"
   },
   {
    "duration": 77,
    "start_time": "2022-09-10T09:58:47.696Z"
   },
   {
    "duration": 60,
    "start_time": "2022-09-10T09:58:47.775Z"
   },
   {
    "duration": 3,
    "start_time": "2022-09-10T09:58:47.839Z"
   },
   {
    "duration": 21,
    "start_time": "2022-09-10T09:58:47.844Z"
   },
   {
    "duration": 13,
    "start_time": "2022-09-10T09:58:47.867Z"
   },
   {
    "duration": 21,
    "start_time": "2022-09-10T09:58:47.882Z"
   },
   {
    "duration": 49,
    "start_time": "2022-09-10T09:58:47.907Z"
   },
   {
    "duration": 5,
    "start_time": "2022-09-10T09:58:47.958Z"
   },
   {
    "duration": 10,
    "start_time": "2022-09-10T09:58:47.965Z"
   },
   {
    "duration": 6,
    "start_time": "2022-09-10T09:58:47.977Z"
   },
   {
    "duration": 12,
    "start_time": "2022-09-10T09:58:47.985Z"
   },
   {
    "duration": 5,
    "start_time": "2022-09-10T09:58:47.999Z"
   },
   {
    "duration": 46,
    "start_time": "2022-09-10T09:58:48.006Z"
   },
   {
    "duration": 66,
    "start_time": "2022-09-10T09:58:48.053Z"
   },
   {
    "duration": 0,
    "start_time": "2022-09-10T09:58:48.120Z"
   },
   {
    "duration": 0,
    "start_time": "2022-09-10T09:58:48.121Z"
   },
   {
    "duration": 0,
    "start_time": "2022-09-10T09:58:48.122Z"
   },
   {
    "duration": 0,
    "start_time": "2022-09-10T09:58:48.122Z"
   },
   {
    "duration": 0,
    "start_time": "2022-09-10T09:58:48.123Z"
   },
   {
    "duration": 0,
    "start_time": "2022-09-10T09:58:48.124Z"
   },
   {
    "duration": 0,
    "start_time": "2022-09-10T09:58:48.125Z"
   },
   {
    "duration": 0,
    "start_time": "2022-09-10T09:58:48.125Z"
   },
   {
    "duration": 456,
    "start_time": "2022-09-10T09:59:21.642Z"
   },
   {
    "duration": 251,
    "start_time": "2022-09-10T09:59:22.100Z"
   },
   {
    "duration": 25,
    "start_time": "2022-09-10T09:59:22.354Z"
   },
   {
    "duration": 45,
    "start_time": "2022-09-10T09:59:22.382Z"
   },
   {
    "duration": 19,
    "start_time": "2022-09-10T09:59:22.428Z"
   },
   {
    "duration": 10,
    "start_time": "2022-09-10T09:59:22.448Z"
   },
   {
    "duration": 13,
    "start_time": "2022-09-10T09:59:22.459Z"
   },
   {
    "duration": 7,
    "start_time": "2022-09-10T09:59:22.474Z"
   },
   {
    "duration": 23,
    "start_time": "2022-09-10T09:59:22.483Z"
   },
   {
    "duration": 61,
    "start_time": "2022-09-10T09:59:22.508Z"
   },
   {
    "duration": 35,
    "start_time": "2022-09-10T09:59:22.571Z"
   },
   {
    "duration": 136,
    "start_time": "2022-09-10T09:59:22.608Z"
   },
   {
    "duration": 92,
    "start_time": "2022-09-10T09:59:22.756Z"
   },
   {
    "duration": 58,
    "start_time": "2022-09-10T09:59:22.850Z"
   },
   {
    "duration": 73,
    "start_time": "2022-09-10T09:59:22.933Z"
   },
   {
    "duration": 27,
    "start_time": "2022-09-10T09:59:23.008Z"
   },
   {
    "duration": 92,
    "start_time": "2022-09-10T09:59:23.039Z"
   },
   {
    "duration": 38,
    "start_time": "2022-09-10T09:59:23.135Z"
   },
   {
    "duration": 3,
    "start_time": "2022-09-10T09:59:23.175Z"
   },
   {
    "duration": 10,
    "start_time": "2022-09-10T09:59:23.180Z"
   },
   {
    "duration": 7,
    "start_time": "2022-09-10T09:59:23.192Z"
   },
   {
    "duration": 5,
    "start_time": "2022-09-10T09:59:23.201Z"
   },
   {
    "duration": 49,
    "start_time": "2022-09-10T09:59:23.208Z"
   },
   {
    "duration": 13,
    "start_time": "2022-09-10T09:59:23.259Z"
   },
   {
    "duration": 18,
    "start_time": "2022-09-10T09:59:23.273Z"
   },
   {
    "duration": 6,
    "start_time": "2022-09-10T09:59:23.293Z"
   },
   {
    "duration": 23,
    "start_time": "2022-09-10T09:59:23.300Z"
   },
   {
    "duration": 34,
    "start_time": "2022-09-10T09:59:23.328Z"
   },
   {
    "duration": 6,
    "start_time": "2022-09-10T09:59:23.364Z"
   },
   {
    "duration": 85,
    "start_time": "2022-09-10T09:59:23.372Z"
   },
   {
    "duration": 0,
    "start_time": "2022-09-10T09:59:23.459Z"
   },
   {
    "duration": 0,
    "start_time": "2022-09-10T09:59:23.460Z"
   },
   {
    "duration": 0,
    "start_time": "2022-09-10T09:59:23.462Z"
   },
   {
    "duration": 0,
    "start_time": "2022-09-10T09:59:23.463Z"
   },
   {
    "duration": 0,
    "start_time": "2022-09-10T09:59:23.464Z"
   },
   {
    "duration": 0,
    "start_time": "2022-09-10T09:59:23.465Z"
   },
   {
    "duration": 0,
    "start_time": "2022-09-10T09:59:23.466Z"
   },
   {
    "duration": 0,
    "start_time": "2022-09-10T09:59:23.467Z"
   },
   {
    "duration": 40,
    "start_time": "2022-09-10T10:03:19.072Z"
   },
   {
    "duration": 1257,
    "start_time": "2022-09-10T10:04:33.648Z"
   },
   {
    "duration": 57,
    "start_time": "2022-09-10T10:04:50.582Z"
   },
   {
    "duration": 1097,
    "start_time": "2022-09-10T10:05:05.681Z"
   },
   {
    "duration": 24,
    "start_time": "2022-09-10T10:05:22.264Z"
   },
   {
    "duration": 41,
    "start_time": "2022-09-10T10:05:25.548Z"
   },
   {
    "duration": 46,
    "start_time": "2022-09-10T10:05:38.805Z"
   },
   {
    "duration": 42,
    "start_time": "2022-09-10T10:06:32.826Z"
   },
   {
    "duration": 29,
    "start_time": "2022-09-10T10:06:43.951Z"
   },
   {
    "duration": 7840,
    "start_time": "2022-09-10T10:07:22.755Z"
   },
   {
    "duration": 9974,
    "start_time": "2022-09-10T10:07:48.563Z"
   },
   {
    "duration": 46,
    "start_time": "2022-09-10T10:08:05.745Z"
   },
   {
    "duration": 56,
    "start_time": "2022-09-10T10:10:07.699Z"
   },
   {
    "duration": 57,
    "start_time": "2022-09-10T10:11:14.791Z"
   },
   {
    "duration": 32,
    "start_time": "2022-09-10T10:11:35.444Z"
   },
   {
    "duration": 40,
    "start_time": "2022-09-10T10:12:23.253Z"
   },
   {
    "duration": 59,
    "start_time": "2022-09-10T10:12:25.005Z"
   },
   {
    "duration": 78,
    "start_time": "2022-09-10T10:12:28.306Z"
   },
   {
    "duration": 28,
    "start_time": "2022-09-10T10:13:19.753Z"
   },
   {
    "duration": 44,
    "start_time": "2022-09-10T10:13:28.657Z"
   },
   {
    "duration": 44,
    "start_time": "2022-09-10T10:13:43.187Z"
   },
   {
    "duration": 511,
    "start_time": "2022-09-10T10:13:58.465Z"
   },
   {
    "duration": 266,
    "start_time": "2022-09-10T10:13:58.981Z"
   },
   {
    "duration": 26,
    "start_time": "2022-09-10T10:13:59.249Z"
   },
   {
    "duration": 58,
    "start_time": "2022-09-10T10:13:59.285Z"
   },
   {
    "duration": 39,
    "start_time": "2022-09-10T10:13:59.345Z"
   },
   {
    "duration": 20,
    "start_time": "2022-09-10T10:13:59.386Z"
   },
   {
    "duration": 69,
    "start_time": "2022-09-10T10:13:59.408Z"
   },
   {
    "duration": 12,
    "start_time": "2022-09-10T10:13:59.479Z"
   },
   {
    "duration": 61,
    "start_time": "2022-09-10T10:13:59.493Z"
   },
   {
    "duration": 51,
    "start_time": "2022-09-10T10:13:59.557Z"
   },
   {
    "duration": 35,
    "start_time": "2022-09-10T10:13:59.613Z"
   },
   {
    "duration": 141,
    "start_time": "2022-09-10T10:13:59.650Z"
   },
   {
    "duration": 100,
    "start_time": "2022-09-10T10:13:59.793Z"
   },
   {
    "duration": 86,
    "start_time": "2022-09-10T10:13:59.895Z"
   },
   {
    "duration": 96,
    "start_time": "2022-09-10T10:13:59.983Z"
   },
   {
    "duration": 12,
    "start_time": "2022-09-10T10:14:00.082Z"
   },
   {
    "duration": 155,
    "start_time": "2022-09-10T10:14:00.096Z"
   },
   {
    "duration": 29,
    "start_time": "2022-09-10T10:14:00.253Z"
   },
   {
    "duration": 100,
    "start_time": "2022-09-10T10:14:00.284Z"
   },
   {
    "duration": 80,
    "start_time": "2022-09-10T10:14:00.386Z"
   },
   {
    "duration": 35,
    "start_time": "2022-09-10T10:14:00.468Z"
   },
   {
    "duration": 77,
    "start_time": "2022-09-10T10:14:00.505Z"
   },
   {
    "duration": 71,
    "start_time": "2022-09-10T10:14:00.584Z"
   },
   {
    "duration": 90,
    "start_time": "2022-09-10T10:14:00.657Z"
   },
   {
    "duration": 40,
    "start_time": "2022-09-10T10:14:00.748Z"
   },
   {
    "duration": 70,
    "start_time": "2022-09-10T10:14:00.789Z"
   },
   {
    "duration": 90,
    "start_time": "2022-09-10T10:14:00.861Z"
   },
   {
    "duration": 51,
    "start_time": "2022-09-10T10:14:00.956Z"
   },
   {
    "duration": 157,
    "start_time": "2022-09-10T10:14:01.010Z"
   },
   {
    "duration": 0,
    "start_time": "2022-09-10T10:14:01.169Z"
   },
   {
    "duration": 0,
    "start_time": "2022-09-10T10:14:01.170Z"
   },
   {
    "duration": 0,
    "start_time": "2022-09-10T10:14:01.171Z"
   },
   {
    "duration": 0,
    "start_time": "2022-09-10T10:14:01.173Z"
   },
   {
    "duration": 0,
    "start_time": "2022-09-10T10:14:01.174Z"
   },
   {
    "duration": 0,
    "start_time": "2022-09-10T10:14:01.175Z"
   },
   {
    "duration": 0,
    "start_time": "2022-09-10T10:14:01.176Z"
   },
   {
    "duration": 0,
    "start_time": "2022-09-10T10:14:01.177Z"
   },
   {
    "duration": 70,
    "start_time": "2022-09-10T10:14:28.869Z"
   },
   {
    "duration": 2106,
    "start_time": "2022-09-10T10:18:35.255Z"
   },
   {
    "duration": 46,
    "start_time": "2022-09-10T10:18:51.642Z"
   },
   {
    "duration": 54,
    "start_time": "2022-09-10T10:19:18.601Z"
   },
   {
    "duration": 45,
    "start_time": "2022-09-10T10:19:23.330Z"
   },
   {
    "duration": 51,
    "start_time": "2022-09-10T10:19:57.468Z"
   },
   {
    "duration": 53,
    "start_time": "2022-09-10T10:20:37.474Z"
   },
   {
    "duration": 27,
    "start_time": "2022-09-10T10:21:23.537Z"
   },
   {
    "duration": 34,
    "start_time": "2022-09-10T10:21:29.354Z"
   },
   {
    "duration": 64,
    "start_time": "2022-09-10T10:21:45.371Z"
   },
   {
    "duration": 81,
    "start_time": "2022-09-10T10:22:08.875Z"
   },
   {
    "duration": 98,
    "start_time": "2022-09-10T10:22:30.561Z"
   },
   {
    "duration": 11,
    "start_time": "2022-09-10T10:23:26.796Z"
   },
   {
    "duration": 9,
    "start_time": "2022-09-10T10:24:02.348Z"
   },
   {
    "duration": 13,
    "start_time": "2022-09-10T10:24:42.392Z"
   },
   {
    "duration": 20,
    "start_time": "2022-09-10T10:24:44.115Z"
   },
   {
    "duration": 18,
    "start_time": "2022-09-10T10:24:54.548Z"
   },
   {
    "duration": 39,
    "start_time": "2022-09-10T10:26:54.400Z"
   },
   {
    "duration": 125,
    "start_time": "2022-09-10T10:31:25.156Z"
   },
   {
    "duration": 51,
    "start_time": "2022-09-10T10:31:29.660Z"
   },
   {
    "duration": 20,
    "start_time": "2022-09-10T10:31:35.607Z"
   },
   {
    "duration": 3,
    "start_time": "2022-09-10T10:32:07.987Z"
   },
   {
    "duration": 25,
    "start_time": "2022-09-10T10:33:14.236Z"
   },
   {
    "duration": 7,
    "start_time": "2022-09-10T10:33:25.742Z"
   },
   {
    "duration": 9,
    "start_time": "2022-09-10T10:33:37.843Z"
   },
   {
    "duration": 33,
    "start_time": "2022-09-10T10:33:40.822Z"
   },
   {
    "duration": 19,
    "start_time": "2022-09-10T10:34:30.977Z"
   },
   {
    "duration": 22,
    "start_time": "2022-09-10T10:35:16.746Z"
   },
   {
    "duration": 23,
    "start_time": "2022-09-10T10:35:18.433Z"
   },
   {
    "duration": 40,
    "start_time": "2022-09-10T10:35:20.503Z"
   },
   {
    "duration": 21,
    "start_time": "2022-09-10T10:35:22.438Z"
   },
   {
    "duration": 7,
    "start_time": "2022-09-10T10:36:34.891Z"
   },
   {
    "duration": 20,
    "start_time": "2022-09-10T10:36:40.343Z"
   },
   {
    "duration": 7,
    "start_time": "2022-09-10T10:36:54.235Z"
   },
   {
    "duration": 7,
    "start_time": "2022-09-10T10:37:00.196Z"
   },
   {
    "duration": 7,
    "start_time": "2022-09-10T10:37:05.732Z"
   },
   {
    "duration": 7,
    "start_time": "2022-09-10T10:38:06.164Z"
   },
   {
    "duration": 3,
    "start_time": "2022-09-10T10:38:23.039Z"
   },
   {
    "duration": 5,
    "start_time": "2022-09-10T10:38:24.939Z"
   },
   {
    "duration": 9,
    "start_time": "2022-09-10T10:38:30.132Z"
   },
   {
    "duration": 16,
    "start_time": "2022-09-10T10:39:04.878Z"
   },
   {
    "duration": 17,
    "start_time": "2022-09-10T10:39:35.885Z"
   },
   {
    "duration": 57,
    "start_time": "2022-09-10T10:39:51.346Z"
   },
   {
    "duration": 14,
    "start_time": "2022-09-10T11:05:57.429Z"
   },
   {
    "duration": 14,
    "start_time": "2022-09-10T11:07:40.383Z"
   },
   {
    "duration": 13,
    "start_time": "2022-09-10T11:07:41.402Z"
   },
   {
    "duration": 40,
    "start_time": "2022-09-10T11:13:55.136Z"
   },
   {
    "duration": 4,
    "start_time": "2022-09-10T11:14:08.047Z"
   },
   {
    "duration": 20,
    "start_time": "2022-09-10T11:15:33.436Z"
   },
   {
    "duration": 17,
    "start_time": "2022-09-10T11:16:05.194Z"
   },
   {
    "duration": 18,
    "start_time": "2022-09-10T11:16:06.846Z"
   },
   {
    "duration": 14,
    "start_time": "2022-09-10T11:16:07.850Z"
   },
   {
    "duration": 408,
    "start_time": "2022-09-10T11:17:11.139Z"
   },
   {
    "duration": 178,
    "start_time": "2022-09-10T11:17:11.549Z"
   },
   {
    "duration": 24,
    "start_time": "2022-09-10T11:17:11.728Z"
   },
   {
    "duration": 43,
    "start_time": "2022-09-10T11:17:11.754Z"
   },
   {
    "duration": 2,
    "start_time": "2022-09-10T11:17:11.800Z"
   },
   {
    "duration": 35,
    "start_time": "2022-09-10T11:17:11.804Z"
   },
   {
    "duration": 20,
    "start_time": "2022-09-10T11:17:11.840Z"
   },
   {
    "duration": 6,
    "start_time": "2022-09-10T11:17:11.862Z"
   },
   {
    "duration": 22,
    "start_time": "2022-09-10T11:17:11.870Z"
   },
   {
    "duration": 23,
    "start_time": "2022-09-10T11:17:11.894Z"
   },
   {
    "duration": 46,
    "start_time": "2022-09-10T11:17:11.919Z"
   },
   {
    "duration": 79,
    "start_time": "2022-09-10T11:17:11.966Z"
   },
   {
    "duration": 72,
    "start_time": "2022-09-10T11:17:12.047Z"
   },
   {
    "duration": 84,
    "start_time": "2022-09-10T11:17:12.122Z"
   },
   {
    "duration": 51,
    "start_time": "2022-09-10T11:17:12.208Z"
   },
   {
    "duration": 12,
    "start_time": "2022-09-10T11:17:12.261Z"
   },
   {
    "duration": 61,
    "start_time": "2022-09-10T11:17:12.274Z"
   },
   {
    "duration": 15,
    "start_time": "2022-09-10T11:17:12.336Z"
   },
   {
    "duration": 13,
    "start_time": "2022-09-10T11:17:12.353Z"
   },
   {
    "duration": 3,
    "start_time": "2022-09-10T11:17:12.368Z"
   },
   {
    "duration": 51,
    "start_time": "2022-09-10T11:17:12.372Z"
   },
   {
    "duration": 25,
    "start_time": "2022-09-10T11:17:12.424Z"
   },
   {
    "duration": 16,
    "start_time": "2022-09-10T11:17:12.451Z"
   },
   {
    "duration": 15,
    "start_time": "2022-09-10T11:17:12.469Z"
   },
   {
    "duration": 43,
    "start_time": "2022-09-10T11:17:12.486Z"
   },
   {
    "duration": 34,
    "start_time": "2022-09-10T11:17:12.530Z"
   },
   {
    "duration": 9,
    "start_time": "2022-09-10T11:17:12.566Z"
   },
   {
    "duration": 16,
    "start_time": "2022-09-10T11:17:12.577Z"
   },
   {
    "duration": 32,
    "start_time": "2022-09-10T11:17:12.595Z"
   },
   {
    "duration": 14,
    "start_time": "2022-09-10T11:17:12.640Z"
   },
   {
    "duration": 115,
    "start_time": "2022-09-10T11:17:12.656Z"
   },
   {
    "duration": 0,
    "start_time": "2022-09-10T11:17:12.773Z"
   },
   {
    "duration": 0,
    "start_time": "2022-09-10T11:17:12.774Z"
   },
   {
    "duration": 0,
    "start_time": "2022-09-10T11:17:12.776Z"
   },
   {
    "duration": 0,
    "start_time": "2022-09-10T11:17:12.777Z"
   },
   {
    "duration": 0,
    "start_time": "2022-09-10T11:17:12.778Z"
   },
   {
    "duration": 0,
    "start_time": "2022-09-10T11:17:12.778Z"
   },
   {
    "duration": 0,
    "start_time": "2022-09-10T11:17:12.780Z"
   },
   {
    "duration": 4,
    "start_time": "2022-09-10T11:17:55.065Z"
   },
   {
    "duration": 433,
    "start_time": "2022-09-10T11:17:59.594Z"
   },
   {
    "duration": 179,
    "start_time": "2022-09-10T11:18:00.028Z"
   },
   {
    "duration": 39,
    "start_time": "2022-09-10T11:18:00.208Z"
   },
   {
    "duration": 42,
    "start_time": "2022-09-10T11:18:00.249Z"
   },
   {
    "duration": 52,
    "start_time": "2022-09-10T11:18:00.292Z"
   },
   {
    "duration": 32,
    "start_time": "2022-09-10T11:18:00.345Z"
   },
   {
    "duration": 20,
    "start_time": "2022-09-10T11:18:00.378Z"
   },
   {
    "duration": 24,
    "start_time": "2022-09-10T11:18:00.399Z"
   },
   {
    "duration": 65,
    "start_time": "2022-09-10T11:18:00.424Z"
   },
   {
    "duration": 50,
    "start_time": "2022-09-10T11:18:00.493Z"
   },
   {
    "duration": 56,
    "start_time": "2022-09-10T11:18:00.545Z"
   },
   {
    "duration": 124,
    "start_time": "2022-09-10T11:18:00.603Z"
   },
   {
    "duration": 74,
    "start_time": "2022-09-10T11:18:00.728Z"
   },
   {
    "duration": 72,
    "start_time": "2022-09-10T11:18:00.804Z"
   },
   {
    "duration": 72,
    "start_time": "2022-09-10T11:18:00.877Z"
   },
   {
    "duration": 15,
    "start_time": "2022-09-10T11:18:00.950Z"
   },
   {
    "duration": 92,
    "start_time": "2022-09-10T11:18:00.966Z"
   },
   {
    "duration": 14,
    "start_time": "2022-09-10T11:18:01.060Z"
   },
   {
    "duration": 67,
    "start_time": "2022-09-10T11:18:01.076Z"
   },
   {
    "duration": 18,
    "start_time": "2022-09-10T11:18:01.148Z"
   },
   {
    "duration": 53,
    "start_time": "2022-09-10T11:18:01.170Z"
   },
   {
    "duration": 37,
    "start_time": "2022-09-10T11:18:01.224Z"
   },
   {
    "duration": 102,
    "start_time": "2022-09-10T11:18:01.263Z"
   },
   {
    "duration": 56,
    "start_time": "2022-09-10T11:18:01.367Z"
   },
   {
    "duration": 77,
    "start_time": "2022-09-10T11:18:01.424Z"
   },
   {
    "duration": 65,
    "start_time": "2022-09-10T11:18:01.503Z"
   },
   {
    "duration": 12,
    "start_time": "2022-09-10T11:18:01.570Z"
   },
   {
    "duration": 64,
    "start_time": "2022-09-10T11:18:01.586Z"
   },
   {
    "duration": 26,
    "start_time": "2022-09-10T11:18:01.652Z"
   },
   {
    "duration": 11,
    "start_time": "2022-09-10T11:18:01.680Z"
   },
   {
    "duration": 79,
    "start_time": "2022-09-10T11:18:01.692Z"
   },
   {
    "duration": 19,
    "start_time": "2022-09-10T11:18:01.773Z"
   },
   {
    "duration": 52,
    "start_time": "2022-09-10T11:18:01.794Z"
   },
   {
    "duration": 18,
    "start_time": "2022-09-10T11:18:01.848Z"
   },
   {
    "duration": 2,
    "start_time": "2022-09-10T11:18:01.868Z"
   },
   {
    "duration": 15,
    "start_time": "2022-09-10T11:18:01.872Z"
   },
   {
    "duration": 29,
    "start_time": "2022-09-10T11:18:01.889Z"
   },
   {
    "duration": 36,
    "start_time": "2022-09-10T11:18:01.919Z"
   },
   {
    "duration": 4,
    "start_time": "2022-09-10T11:20:28.639Z"
   },
   {
    "duration": 4,
    "start_time": "2022-09-10T11:20:53.168Z"
   },
   {
    "duration": 4,
    "start_time": "2022-09-10T11:21:33.688Z"
   },
   {
    "duration": 4,
    "start_time": "2022-09-10T11:21:46.040Z"
   },
   {
    "duration": 4,
    "start_time": "2022-09-10T11:22:01.649Z"
   },
   {
    "duration": 38,
    "start_time": "2022-09-10T11:22:15.406Z"
   },
   {
    "duration": 19,
    "start_time": "2022-09-10T11:22:19.184Z"
   },
   {
    "duration": 89,
    "start_time": "2022-09-10T11:24:24.645Z"
   },
   {
    "duration": 74,
    "start_time": "2022-09-10T11:24:37.575Z"
   },
   {
    "duration": 89,
    "start_time": "2022-09-10T11:24:48.169Z"
   },
   {
    "duration": 74,
    "start_time": "2022-09-10T11:25:08.909Z"
   },
   {
    "duration": 24,
    "start_time": "2022-09-10T11:25:16.806Z"
   },
   {
    "duration": 16,
    "start_time": "2022-09-10T11:25:18.635Z"
   },
   {
    "duration": 13,
    "start_time": "2022-09-10T11:26:01.439Z"
   },
   {
    "duration": 5,
    "start_time": "2022-09-10T11:26:23.557Z"
   },
   {
    "duration": 10,
    "start_time": "2022-09-10T11:26:46.171Z"
   },
   {
    "duration": 4,
    "start_time": "2022-09-10T11:27:04.365Z"
   }
  ],
  "colab": {
   "collapsed_sections": [
    "E0vqbgi9ay0H",
    "VUC88oWjTJw2"
   ],
   "name": "automatization_template_upd4.ipynb",
   "provenance": []
  },
  "kernelspec": {
   "display_name": "Python 3 (ipykernel)",
   "language": "python",
   "name": "python3"
  },
  "language_info": {
   "codemirror_mode": {
    "name": "ipython",
    "version": 3
   },
   "file_extension": ".py",
   "mimetype": "text/x-python",
   "name": "python",
   "nbconvert_exporter": "python",
   "pygments_lexer": "ipython3",
   "version": "3.9.5"
  },
  "toc": {
   "base_numbering": 1,
   "nav_menu": {
    "height": "215px",
    "width": "403px"
   },
   "number_sections": true,
   "sideBar": true,
   "skip_h1_title": true,
   "title_cell": "Table of Contents",
   "title_sidebar": "Contents",
   "toc_cell": false,
   "toc_position": {
    "height": "calc(100% - 180px)",
    "left": "10px",
    "top": "150px",
    "width": "285.825px"
   },
   "toc_section_display": true,
   "toc_window_display": false
  }
 },
 "nbformat": 4,
 "nbformat_minor": 1
}
