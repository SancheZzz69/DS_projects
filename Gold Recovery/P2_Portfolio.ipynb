{
 "cells": [
  {
   "cell_type": "markdown",
   "source": [
    "# Улучшение процесса обогащения золота"
   ],
   "metadata": {
    "collapsed": false
   }
  },
  {
   "cell_type": "markdown",
   "source": [
    "## Постановка цели"
   ],
   "metadata": {
    "collapsed": false
   }
  },
  {
   "cell_type": "markdown",
   "source": [
    "Заказчиком является инжиниринговая компания, которая разрабатывает решения для эффективной работы промышленных предприятий.\n",
    "\n",
    "Требуется подготовить прототип модели машинного обучения, которая поможет оптимизировать производство, чтобы не запускать предприятие с убыточными характеристиками.\n",
    "\n",
    "Цель работы: на основе данных с параметрами добычи и очистки создать модель, предсказывающую коэффициент восстановления золота из золотосодержащей руды.\n",
    "Перечень задач для осуществления поставленной цели:\n",
    "\n",
    "    – подготовить данные;\n",
    "    – провести исследовательский анализ данных;\n",
    "    – построить и обучить модель.\n",
    "\n"
   ],
   "metadata": {
    "collapsed": false
   }
  },
  {
   "cell_type": "markdown",
   "source": [
    "## Данные"
   ],
   "metadata": {
    "collapsed": false
   }
  },
  {
   "cell_type": "markdown",
   "source": [
    "Мы располагаем набором данных, содержащим информацию о параметрах добычи и очистки, которые мы можем использовать для нашего анализа. Набор данных состоит из трех файлов:\n",
    "\n",
    "* gold_recovery_train_new.csv - служит в качестве обучающей выборки.\n",
    "* gold_recovery_test_new.csv - служит в качестве тестовой выборки.\n",
    "* gold_recovery_full_new.csv - представляет собой исходные данные.\n",
    "\n",
    "Набор данных организован на основе даты и времени получения информации, используя атрибут даты в качестве индекса. Как правило, параметры, смежные по времени, имеют тенденцию к сходству. Однако некоторые параметры могут отсутствовать в тестовом наборе из-за задержки процессов измерения и расчета. Следовательно, в тестовом наборе могут отсутствовать некоторые атрибуты, присутствующие в обучающем наборе. Кроме того, тестовый набор не содержит целевых признаков. Исходный набор данных включает в себя как обучающую, так и тестовую выборки, в том числе все признаки.\n",
    "\n",
    "Перед построением модели мы должны убедиться в точности полученных исходных данных. Эти данные были непосредственно извлечены из хранилища. Очень важно проверить их корректность в соответствии с инструкциями, согласованными с клиентом."
   ],
   "metadata": {
    "collapsed": false
   }
  },
  {
   "cell_type": "markdown",
   "source": [
    "## Наименование признаков"
   ],
   "metadata": {
    "collapsed": false
   }
  },
  {
   "cell_type": "markdown",
   "source": [
    "Наименование признаков строится по следующему правилу:\n",
    "\n",
    "`[этап].[тип_параметра].[название_параметра]`\n",
    "\n",
    "Пример: `rougher.input.feed_ag`\n",
    "\n",
    "Возможные значения для блока `[этап]`:\n",
    "\n",
    "* **rougher** — флотация\n",
    "* **primary_cleaner** — первичная очистка\n",
    "* **secondary_cleaner** — вторичная очистка\n",
    "* **final** — финальные характеристики\n",
    "\n",
    "Возможные значения для блока `[тип_параметра]`:\n",
    "\n",
    "* **input** — параметры сырья\n",
    "* **output** — параметры продукта\n",
    "* **state** — параметры, характеризующие текущее состояние этапа\n",
    "* **calculation** — расчётные характеристики"
   ],
   "metadata": {
    "collapsed": false
   }
  },
  {
   "cell_type": "markdown",
   "source": [
    "## Формулы"
   ],
   "metadata": {
    "collapsed": false
   }
  },
  {
   "cell_type": "markdown",
   "source": [
    "Требуется использовать следующие формулы для вычисления метрик качества."
   ],
   "metadata": {
    "collapsed": false
   }
  },
  {
   "cell_type": "markdown",
   "source": [
    "Эффективность обогащения рассчитывается по формуле:"
   ],
   "metadata": {
    "collapsed": false
   }
  },
  {
   "cell_type": "markdown",
   "source": [
    "где:\n",
    "- $C$ — доля золота в концентрате после флотации/очистки;\n",
    "- $F$ — доля золота в сырье/концентрате до флотации/очистки;\n",
    "- $T$ — доля золота в отвальных хвостах после флотации/очистки."
   ],
   "metadata": {
    "collapsed": false
   }
  },
  {
   "cell_type": "markdown",
   "source": [
    "$$\n",
    "Recovery = {{C \\times (F - T)} \\over {F \\times (C - T)}} \\times 100\\%\n",
    "$$"
   ],
   "metadata": {
    "collapsed": false
   }
  },
  {
   "cell_type": "markdown",
   "source": [
    "Для решения задачи введём новую метрику качества — **sMAPE** (Symmetric Mean Absolute Percentage Error - симметричное среднее абсолютное процентное отклонение).\n",
    "Она похожа на MAE, но выражается не в абсолютных величинах, а в относительных и одинаково учитывает масштаб и целевого признака, и предсказания.\n",
    "\n",
    "Метрика sMAPE вычисляется так:"
   ],
   "metadata": {
    "collapsed": false
   }
  },
  {
   "cell_type": "markdown",
   "source": [
    "$$\n",
    "sMAPE = {1 \\over N} \\sum\\limits_{i=1}^N {{|y_i - y'_i|} \\over {(|y_i| + |y'_i|) / 2}} \\times 100\\%\n",
    "$$"
   ],
   "metadata": {
    "collapsed": false
   }
  },
  {
   "cell_type": "markdown",
   "source": [
    "При работе над проектом требуется спрогнозировать сразу две величины эффективности обогащения:\n",
    "- эффективность обогащения чернового концентрата `rougher.output.recovery`;\n",
    "- эффективность обогащения финального концентрата `final.output.recovery`.\n",
    "\n",
    "Итоговая метрика sMAPE складывается из двух величин:"
   ],
   "metadata": {
    "collapsed": false
   }
  },
  {
   "cell_type": "markdown",
   "source": [
    "$$\n",
    "Final\\_sMAPE = 25\\% \\times sMAPE(rougher) + 75\\% \\times sMAPE(final)\n",
    "$$"
   ],
   "metadata": {
    "collapsed": false
   }
  },
  {
   "cell_type": "markdown",
   "metadata": {
    "toc": true
   },
   "source": [
    "<h1>Содержание<span class=\"tocSkip\"></span></h1>\n",
    "<div class=\"toc\">\n",
    "  <ul class=\"toc-item\">\n",
    "    <li>\n",
    "      <span>\n",
    "        <span class=\"toc-item-num\">1&nbsp;&nbsp;</span>Подготовка данных\n",
    "      </span>\n",
    "      <ul class=\"toc-item\">\n",
    "        <li>\n",
    "          <span>\n",
    "            <span class=\"toc-item-num\">1.1&nbsp;&nbsp;</span>Открытие файлов и их изучение\n",
    "          </span>\n",
    "        </li>\n",
    "        <li>\n",
    "          <span>\n",
    "            <span class=\"toc-item-num\">1.2&nbsp;&nbsp;</span>Проверка расчёта эффективности обогащения\n",
    "          </span>\n",
    "        </li>\n",
    "        <li>\n",
    "          <span>\n",
    "            <span class=\"toc-item-num\">1.3&nbsp;&nbsp;</span>Анализ признаков, недоступных в тестовой выборке\n",
    "          </span>\n",
    "        </li>\n",
    "        <li>\n",
    "          <span>\n",
    "            <span class=\"toc-item-num\">1.4&nbsp;&nbsp;</span>Предобработка данных\n",
    "          </span>\n",
    "        </li>\n",
    "      </ul>\n",
    "    </li>\n",
    "    <li>\n",
    "      <span>\n",
    "        <span class=\"toc-item-num\">2&nbsp;&nbsp;</span>Анализ данных\n",
    "      </span>\n",
    "      <ul class=\"toc-item\">\n",
    "        <li>\n",
    "          <span>\n",
    "            <span class=\"toc-item-num\">2.1&nbsp;&nbsp;</span>Изменение концентрации металлов на разных этапах очистки\n",
    "          </span>\n",
    "        </li>\n",
    "        <li>\n",
    "          <span>\n",
    "            <span class=\"toc-item-num\">2.2&nbsp;&nbsp;</span>Сравнение распределения размеров гранул сырья на обучающей и тестовой выборках\n",
    "          </span>\n",
    "        </li>\n",
    "        <li>\n",
    "          <span>\n",
    "            <span class=\"toc-item-num\">2.3&nbsp;&nbsp;</span>Исследование суммарной концентрации всех веществ на разных стадиях очистки\n",
    "          </span>\n",
    "        </li>\n",
    "      </ul>\n",
    "    </li>\n",
    "    <li>\n",
    "      <span>\n",
    "        <span class=\"toc-item-num\">3&nbsp;&nbsp;</span>Модель\n",
    "      </span>\n",
    "      <ul class=\"toc-item\">\n",
    "        <li>\n",
    "          <span>\n",
    "            <span class=\"toc-item-num\">3.1&nbsp;&nbsp;</span>Функция для вычисления итоговой sMAPE\n",
    "          </span>\n",
    "        </li>\n",
    "        <li>\n",
    "          <span>\n",
    "            <span class=\"toc-item-num\">3.2&nbsp;&nbsp;</span>Обучение и выбор лучшей модели\n",
    "          </span>\n",
    "          <ul class=\"toc-item\">\n",
    "            <li>\n",
    "              <span>\n",
    "                <span class=\"toc-item-num\">3.2.1&nbsp;&nbsp;</span>Лес\n",
    "              </span>\n",
    "            </li>\n",
    "            <li>\n",
    "              <span>\n",
    "                <span class=\"toc-item-num\">3.2.2&nbsp;&nbsp;</span>Линейная регрессия\n",
    "              </span>\n",
    "            </li>\n",
    "            <li>\n",
    "              <span>\n",
    "                <span class=\"toc-item-num\">3.2.3&nbsp;&nbsp;</span>Дерево решений\n",
    "              </span>\n",
    "            </li>\n",
    "            <li>\n",
    "              <span>\n",
    "                <span class=\"toc-item-num\">3.2.4&nbsp;&nbsp;</span>Лассо\n",
    "              </span>\n",
    "            </li>\n",
    "            <li>\n",
    "              <span>\n",
    "                <span class=\"toc-item-num\">3.2.5&nbsp;&nbsp;</span>Константная модель\n",
    "              </span>\n",
    "            </li>\n",
    "            <li>\n",
    "              <span>\n",
    "                <span class=\"toc-item-num\">3.2.6&nbsp;&nbsp;</span>Лучшее sMAPE\n",
    "              </span>\n",
    "            </li>\n",
    "          </ul>\n",
    "        </li>\n",
    "        <li>\n",
    "          <span>\n",
    "            <span class=\"toc-item-num\">3.3&nbsp;&nbsp;</span>Тест модели\n",
    "          </span>\n",
    "        </li>\n",
    "      </ul>\n",
    "    </li>\n",
    "    <li>\n",
    "      <span>\n",
    "        <span class=\"toc-item-num\">4&nbsp;&nbsp;</span>Итоги\n",
    "      </span>\n",
    "    </li>\n",
    "  </ul>\n",
    "</div>\n"
   ]
  },
  {
   "cell_type": "markdown",
   "metadata": {},
   "source": [
    "# Восстановление золота из руды"
   ]
  },
  {
   "cell_type": "markdown",
   "metadata": {},
   "source": [
    "Нужно подготовить прототип модели машинного обучения для «Цифры». Компания разрабатывает решения для эффективной работы промышленных предприятий.\n",
    "Созданная нами модель поможет оптимизировать производство, чтобы не запускать предприятие с убыточными характеристиками.\n",
    "\n",
    "Цель работы: на основе данных с параметрами добычи и очистки создать модель, предсказывающую коэффициент восстановления золота из золотосодержащей руды.       \n",
    "Перечень задач для осуществления поставленной цели:    \n",
    "\n",
    "    – подготовить данные;\n",
    "    – провести исследовательский анализ данных;\n",
    "    – построить и обучить модель.\n",
    "\n"
   ]
  },
  {
   "cell_type": "markdown",
   "metadata": {},
   "source": [
    "## 1 Подготовка данных"
   ]
  },
  {
   "cell_type": "markdown",
   "metadata": {},
   "source": [
    "### 1.1 Открытие файлов и их изучение"
   ]
  },
  {
   "cell_type": "code",
   "execution_count": 40,
   "metadata": {},
   "outputs": [],
   "source": [
    "import pandas as pd\n",
    "import seaborn as sns\n",
    "import statistics\n",
    "\n",
    "import matplotlib.pyplot as mp\n",
    "\n",
    "from sklearn.metrics import mean_absolute_error\n",
    "from sklearn.metrics import make_scorer\n",
    "\n",
    "from scipy.stats import ks_2samp\n",
    "from scipy.stats import ttest_ind\n",
    "\n",
    "from sklearn.ensemble import RandomForestRegressor\n",
    "from sklearn.linear_model import LinearRegression\n",
    "from sklearn.tree import DecisionTreeRegressor\n",
    "from sklearn.linear_model import Lasso\n",
    "from sklearn.dummy import DummyRegressor\n",
    "\n",
    "from sklearn.experimental import enable_halving_search_cv \n",
    "from sklearn.model_selection import HalvingGridSearchCV\n",
    "from sklearn.model_selection import cross_val_score\n",
    "from sklearn.pipeline import make_pipeline\n",
    "from sklearn.preprocessing import StandardScaler\n"
   ]
  },
  {
   "cell_type": "code",
   "execution_count": 3,
   "metadata": {},
   "outputs": [],
   "source": [
    "pd.set_option('display.max_columns', None)\n",
    "pd.set_option('display.max_rows', None)"
   ]
  },
  {
   "cell_type": "code",
   "execution_count": 4,
   "metadata": {},
   "outputs": [],
   "source": [
    "data_train = pd.read_csv('/datasets/gold_recovery_train_new.csv')\n",
    "data_test = pd.read_csv('/datasets/gold_recovery_test_new.csv')\n",
    "data_full = pd.read_csv('/datasets/gold_recovery_full_new.csv')"
   ]
  },
  {
   "cell_type": "code",
   "execution_count": 5,
   "metadata": {},
   "outputs": [
    {
     "data": {
      "text/html": [
       "<div>\n",
       "<style scoped>\n",
       "    .dataframe tbody tr th:only-of-type {\n",
       "        vertical-align: middle;\n",
       "    }\n",
       "\n",
       "    .dataframe tbody tr th {\n",
       "        vertical-align: top;\n",
       "    }\n",
       "\n",
       "    .dataframe thead th {\n",
       "        text-align: right;\n",
       "    }\n",
       "</style>\n",
       "<table border=\"1\" class=\"dataframe\">\n",
       "  <thead>\n",
       "    <tr style=\"text-align: right;\">\n",
       "      <th></th>\n",
       "      <th>date</th>\n",
       "      <th>final.output.concentrate_ag</th>\n",
       "      <th>final.output.concentrate_pb</th>\n",
       "      <th>final.output.concentrate_sol</th>\n",
       "      <th>final.output.concentrate_au</th>\n",
       "      <th>final.output.recovery</th>\n",
       "      <th>final.output.tail_ag</th>\n",
       "      <th>final.output.tail_pb</th>\n",
       "      <th>final.output.tail_sol</th>\n",
       "      <th>final.output.tail_au</th>\n",
       "      <th>primary_cleaner.input.sulfate</th>\n",
       "      <th>primary_cleaner.input.depressant</th>\n",
       "      <th>primary_cleaner.input.feed_size</th>\n",
       "      <th>primary_cleaner.input.xanthate</th>\n",
       "      <th>primary_cleaner.output.concentrate_ag</th>\n",
       "      <th>primary_cleaner.output.concentrate_pb</th>\n",
       "      <th>primary_cleaner.output.concentrate_sol</th>\n",
       "      <th>primary_cleaner.output.concentrate_au</th>\n",
       "      <th>primary_cleaner.output.tail_ag</th>\n",
       "      <th>primary_cleaner.output.tail_pb</th>\n",
       "      <th>primary_cleaner.output.tail_sol</th>\n",
       "      <th>primary_cleaner.output.tail_au</th>\n",
       "      <th>primary_cleaner.state.floatbank8_a_air</th>\n",
       "      <th>primary_cleaner.state.floatbank8_a_level</th>\n",
       "      <th>primary_cleaner.state.floatbank8_b_air</th>\n",
       "      <th>primary_cleaner.state.floatbank8_b_level</th>\n",
       "      <th>primary_cleaner.state.floatbank8_c_air</th>\n",
       "      <th>primary_cleaner.state.floatbank8_c_level</th>\n",
       "      <th>primary_cleaner.state.floatbank8_d_air</th>\n",
       "      <th>primary_cleaner.state.floatbank8_d_level</th>\n",
       "      <th>rougher.calculation.sulfate_to_au_concentrate</th>\n",
       "      <th>rougher.calculation.floatbank10_sulfate_to_au_feed</th>\n",
       "      <th>rougher.calculation.floatbank11_sulfate_to_au_feed</th>\n",
       "      <th>rougher.calculation.au_pb_ratio</th>\n",
       "      <th>rougher.input.feed_ag</th>\n",
       "      <th>rougher.input.feed_pb</th>\n",
       "      <th>rougher.input.feed_rate</th>\n",
       "      <th>rougher.input.feed_size</th>\n",
       "      <th>rougher.input.feed_sol</th>\n",
       "      <th>rougher.input.feed_au</th>\n",
       "      <th>rougher.input.floatbank10_sulfate</th>\n",
       "      <th>rougher.input.floatbank10_xanthate</th>\n",
       "      <th>rougher.input.floatbank11_sulfate</th>\n",
       "      <th>rougher.input.floatbank11_xanthate</th>\n",
       "      <th>rougher.output.concentrate_ag</th>\n",
       "      <th>rougher.output.concentrate_pb</th>\n",
       "      <th>rougher.output.concentrate_sol</th>\n",
       "      <th>rougher.output.concentrate_au</th>\n",
       "      <th>rougher.output.recovery</th>\n",
       "      <th>rougher.output.tail_ag</th>\n",
       "      <th>rougher.output.tail_pb</th>\n",
       "      <th>rougher.output.tail_sol</th>\n",
       "      <th>rougher.output.tail_au</th>\n",
       "      <th>rougher.state.floatbank10_a_air</th>\n",
       "      <th>rougher.state.floatbank10_a_level</th>\n",
       "      <th>rougher.state.floatbank10_b_air</th>\n",
       "      <th>rougher.state.floatbank10_b_level</th>\n",
       "      <th>rougher.state.floatbank10_c_air</th>\n",
       "      <th>rougher.state.floatbank10_c_level</th>\n",
       "      <th>rougher.state.floatbank10_d_air</th>\n",
       "      <th>rougher.state.floatbank10_d_level</th>\n",
       "      <th>rougher.state.floatbank10_e_air</th>\n",
       "      <th>rougher.state.floatbank10_e_level</th>\n",
       "      <th>rougher.state.floatbank10_f_air</th>\n",
       "      <th>rougher.state.floatbank10_f_level</th>\n",
       "      <th>secondary_cleaner.output.tail_ag</th>\n",
       "      <th>secondary_cleaner.output.tail_pb</th>\n",
       "      <th>secondary_cleaner.output.tail_sol</th>\n",
       "      <th>secondary_cleaner.output.tail_au</th>\n",
       "      <th>secondary_cleaner.state.floatbank2_a_air</th>\n",
       "      <th>secondary_cleaner.state.floatbank2_a_level</th>\n",
       "      <th>secondary_cleaner.state.floatbank2_b_air</th>\n",
       "      <th>secondary_cleaner.state.floatbank2_b_level</th>\n",
       "      <th>secondary_cleaner.state.floatbank3_a_air</th>\n",
       "      <th>secondary_cleaner.state.floatbank3_a_level</th>\n",
       "      <th>secondary_cleaner.state.floatbank3_b_air</th>\n",
       "      <th>secondary_cleaner.state.floatbank3_b_level</th>\n",
       "      <th>secondary_cleaner.state.floatbank4_a_air</th>\n",
       "      <th>secondary_cleaner.state.floatbank4_a_level</th>\n",
       "      <th>secondary_cleaner.state.floatbank4_b_air</th>\n",
       "      <th>secondary_cleaner.state.floatbank4_b_level</th>\n",
       "      <th>secondary_cleaner.state.floatbank5_a_air</th>\n",
       "      <th>secondary_cleaner.state.floatbank5_a_level</th>\n",
       "      <th>secondary_cleaner.state.floatbank5_b_air</th>\n",
       "      <th>secondary_cleaner.state.floatbank5_b_level</th>\n",
       "      <th>secondary_cleaner.state.floatbank6_a_air</th>\n",
       "      <th>secondary_cleaner.state.floatbank6_a_level</th>\n",
       "    </tr>\n",
       "  </thead>\n",
       "  <tbody>\n",
       "    <tr>\n",
       "      <th>0</th>\n",
       "      <td>2016-01-15 00:00:00</td>\n",
       "      <td>6.055403</td>\n",
       "      <td>9.889648</td>\n",
       "      <td>5.507324</td>\n",
       "      <td>42.192020</td>\n",
       "      <td>70.541216</td>\n",
       "      <td>10.411962</td>\n",
       "      <td>0.895447</td>\n",
       "      <td>16.904297</td>\n",
       "      <td>2.143149</td>\n",
       "      <td>127.092003</td>\n",
       "      <td>10.128295</td>\n",
       "      <td>7.25</td>\n",
       "      <td>0.988759</td>\n",
       "      <td>8.547551</td>\n",
       "      <td>10.389648</td>\n",
       "      <td>19.529297</td>\n",
       "      <td>34.174427</td>\n",
       "      <td>14.936526</td>\n",
       "      <td>2.534912</td>\n",
       "      <td>7.476074</td>\n",
       "      <td>2.106679</td>\n",
       "      <td>1549.775757</td>\n",
       "      <td>-498.912140</td>\n",
       "      <td>1551.434204</td>\n",
       "      <td>-516.403442</td>\n",
       "      <td>1549.873901</td>\n",
       "      <td>-498.666595</td>\n",
       "      <td>1554.367432</td>\n",
       "      <td>-493.428131</td>\n",
       "      <td>41885.707031</td>\n",
       "      <td>3481.779053</td>\n",
       "      <td>3520.337158</td>\n",
       "      <td>2.838687</td>\n",
       "      <td>6.100378</td>\n",
       "      <td>2.284912</td>\n",
       "      <td>523.546326</td>\n",
       "      <td>55.486599</td>\n",
       "      <td>36.808594</td>\n",
       "      <td>6.486150</td>\n",
       "      <td>11.986616</td>\n",
       "      <td>6.007990</td>\n",
       "      <td>11.836743</td>\n",
       "      <td>6.005818</td>\n",
       "      <td>11.500771</td>\n",
       "      <td>7.101074</td>\n",
       "      <td>28.029297</td>\n",
       "      <td>19.793808</td>\n",
       "      <td>87.107763</td>\n",
       "      <td>5.008018</td>\n",
       "      <td>0.508728</td>\n",
       "      <td>19.154297</td>\n",
       "      <td>1.170244</td>\n",
       "      <td>999.706909</td>\n",
       "      <td>-404.066986</td>\n",
       "      <td>1603.011353</td>\n",
       "      <td>-434.715027</td>\n",
       "      <td>1602.375000</td>\n",
       "      <td>-442.204468</td>\n",
       "      <td>1598.937256</td>\n",
       "      <td>-451.294128</td>\n",
       "      <td>1404.472046</td>\n",
       "      <td>-455.462982</td>\n",
       "      <td>1416.354980</td>\n",
       "      <td>-451.939636</td>\n",
       "      <td>14.500184</td>\n",
       "      <td>4.694824</td>\n",
       "      <td>8.764648</td>\n",
       "      <td>2.606185</td>\n",
       "      <td>25.853109</td>\n",
       "      <td>-498.526489</td>\n",
       "      <td>23.893660</td>\n",
       "      <td>-501.406281</td>\n",
       "      <td>23.961798</td>\n",
       "      <td>-495.262817</td>\n",
       "      <td>21.940409</td>\n",
       "      <td>-499.340973</td>\n",
       "      <td>14.016835</td>\n",
       "      <td>-502.488007</td>\n",
       "      <td>12.099931</td>\n",
       "      <td>-504.715942</td>\n",
       "      <td>9.925633</td>\n",
       "      <td>-498.310211</td>\n",
       "      <td>8.079666</td>\n",
       "      <td>-500.470978</td>\n",
       "      <td>14.151341</td>\n",
       "      <td>-605.841980</td>\n",
       "    </tr>\n",
       "    <tr>\n",
       "      <th>1</th>\n",
       "      <td>2016-01-15 01:00:00</td>\n",
       "      <td>6.029369</td>\n",
       "      <td>9.968944</td>\n",
       "      <td>5.257781</td>\n",
       "      <td>42.701629</td>\n",
       "      <td>69.266198</td>\n",
       "      <td>10.462676</td>\n",
       "      <td>0.927452</td>\n",
       "      <td>16.634514</td>\n",
       "      <td>2.224930</td>\n",
       "      <td>125.629232</td>\n",
       "      <td>10.296251</td>\n",
       "      <td>7.25</td>\n",
       "      <td>1.002663</td>\n",
       "      <td>8.558743</td>\n",
       "      <td>10.497069</td>\n",
       "      <td>19.369147</td>\n",
       "      <td>34.118526</td>\n",
       "      <td>16.250511</td>\n",
       "      <td>3.049646</td>\n",
       "      <td>6.733907</td>\n",
       "      <td>2.353017</td>\n",
       "      <td>1576.166671</td>\n",
       "      <td>-500.904965</td>\n",
       "      <td>1575.950626</td>\n",
       "      <td>-499.865889</td>\n",
       "      <td>1575.994189</td>\n",
       "      <td>-499.315107</td>\n",
       "      <td>1574.479259</td>\n",
       "      <td>-498.931665</td>\n",
       "      <td>42050.861809</td>\n",
       "      <td>3498.370979</td>\n",
       "      <td>3489.981857</td>\n",
       "      <td>2.858998</td>\n",
       "      <td>6.161113</td>\n",
       "      <td>2.266033</td>\n",
       "      <td>525.290581</td>\n",
       "      <td>57.278666</td>\n",
       "      <td>35.753385</td>\n",
       "      <td>6.478583</td>\n",
       "      <td>11.971193</td>\n",
       "      <td>6.005766</td>\n",
       "      <td>11.996163</td>\n",
       "      <td>6.012594</td>\n",
       "      <td>11.615865</td>\n",
       "      <td>7.278807</td>\n",
       "      <td>28.067063</td>\n",
       "      <td>20.050975</td>\n",
       "      <td>86.843261</td>\n",
       "      <td>4.955378</td>\n",
       "      <td>0.536689</td>\n",
       "      <td>18.965234</td>\n",
       "      <td>1.184827</td>\n",
       "      <td>1000.286398</td>\n",
       "      <td>-400.065196</td>\n",
       "      <td>1600.754587</td>\n",
       "      <td>-449.953435</td>\n",
       "      <td>1600.479580</td>\n",
       "      <td>-449.830646</td>\n",
       "      <td>1600.527589</td>\n",
       "      <td>-449.953649</td>\n",
       "      <td>1399.227084</td>\n",
       "      <td>-450.869848</td>\n",
       "      <td>1399.719514</td>\n",
       "      <td>-450.119001</td>\n",
       "      <td>14.265474</td>\n",
       "      <td>4.592547</td>\n",
       "      <td>9.001494</td>\n",
       "      <td>2.488248</td>\n",
       "      <td>25.880539</td>\n",
       "      <td>-499.989656</td>\n",
       "      <td>23.889530</td>\n",
       "      <td>-500.372428</td>\n",
       "      <td>23.970550</td>\n",
       "      <td>-500.085473</td>\n",
       "      <td>22.085714</td>\n",
       "      <td>-499.446897</td>\n",
       "      <td>13.992281</td>\n",
       "      <td>-505.503262</td>\n",
       "      <td>11.950531</td>\n",
       "      <td>-501.331529</td>\n",
       "      <td>10.039245</td>\n",
       "      <td>-500.169983</td>\n",
       "      <td>7.984757</td>\n",
       "      <td>-500.582168</td>\n",
       "      <td>13.998353</td>\n",
       "      <td>-599.787184</td>\n",
       "    </tr>\n",
       "    <tr>\n",
       "      <th>2</th>\n",
       "      <td>2016-01-15 02:00:00</td>\n",
       "      <td>6.055926</td>\n",
       "      <td>10.213995</td>\n",
       "      <td>5.383759</td>\n",
       "      <td>42.657501</td>\n",
       "      <td>68.116445</td>\n",
       "      <td>10.507046</td>\n",
       "      <td>0.953716</td>\n",
       "      <td>16.208849</td>\n",
       "      <td>2.257889</td>\n",
       "      <td>123.819808</td>\n",
       "      <td>11.316280</td>\n",
       "      <td>7.25</td>\n",
       "      <td>0.991265</td>\n",
       "      <td>8.603505</td>\n",
       "      <td>10.354494</td>\n",
       "      <td>19.167579</td>\n",
       "      <td>33.969464</td>\n",
       "      <td>16.491823</td>\n",
       "      <td>3.124664</td>\n",
       "      <td>6.471768</td>\n",
       "      <td>2.416800</td>\n",
       "      <td>1601.556163</td>\n",
       "      <td>-499.997791</td>\n",
       "      <td>1600.386685</td>\n",
       "      <td>-500.607762</td>\n",
       "      <td>1602.003542</td>\n",
       "      <td>-500.870069</td>\n",
       "      <td>1599.541515</td>\n",
       "      <td>-499.827444</td>\n",
       "      <td>42018.101184</td>\n",
       "      <td>3495.348910</td>\n",
       "      <td>3502.359819</td>\n",
       "      <td>2.945989</td>\n",
       "      <td>6.116455</td>\n",
       "      <td>2.159622</td>\n",
       "      <td>530.026610</td>\n",
       "      <td>57.510649</td>\n",
       "      <td>35.971630</td>\n",
       "      <td>6.362222</td>\n",
       "      <td>11.920603</td>\n",
       "      <td>6.197377</td>\n",
       "      <td>11.920305</td>\n",
       "      <td>6.204633</td>\n",
       "      <td>11.695753</td>\n",
       "      <td>7.216833</td>\n",
       "      <td>27.454037</td>\n",
       "      <td>19.737170</td>\n",
       "      <td>86.842308</td>\n",
       "      <td>4.843460</td>\n",
       "      <td>0.546416</td>\n",
       "      <td>18.808533</td>\n",
       "      <td>1.162562</td>\n",
       "      <td>999.719565</td>\n",
       "      <td>-400.074028</td>\n",
       "      <td>1599.337330</td>\n",
       "      <td>-450.008530</td>\n",
       "      <td>1599.672797</td>\n",
       "      <td>-449.954491</td>\n",
       "      <td>1599.849325</td>\n",
       "      <td>-449.954185</td>\n",
       "      <td>1399.180945</td>\n",
       "      <td>-449.937588</td>\n",
       "      <td>1400.316682</td>\n",
       "      <td>-450.527147</td>\n",
       "      <td>14.115662</td>\n",
       "      <td>4.624775</td>\n",
       "      <td>8.842896</td>\n",
       "      <td>2.458187</td>\n",
       "      <td>26.005245</td>\n",
       "      <td>-499.929616</td>\n",
       "      <td>23.886657</td>\n",
       "      <td>-499.951928</td>\n",
       "      <td>23.913535</td>\n",
       "      <td>-499.442343</td>\n",
       "      <td>23.957717</td>\n",
       "      <td>-499.901982</td>\n",
       "      <td>14.015015</td>\n",
       "      <td>-502.520901</td>\n",
       "      <td>11.912783</td>\n",
       "      <td>-501.133383</td>\n",
       "      <td>10.070913</td>\n",
       "      <td>-500.129135</td>\n",
       "      <td>8.013877</td>\n",
       "      <td>-500.517572</td>\n",
       "      <td>14.028663</td>\n",
       "      <td>-601.427363</td>\n",
       "    </tr>\n",
       "    <tr>\n",
       "      <th>3</th>\n",
       "      <td>2016-01-15 03:00:00</td>\n",
       "      <td>6.047977</td>\n",
       "      <td>9.977019</td>\n",
       "      <td>4.858634</td>\n",
       "      <td>42.689819</td>\n",
       "      <td>68.347543</td>\n",
       "      <td>10.422762</td>\n",
       "      <td>0.883763</td>\n",
       "      <td>16.532835</td>\n",
       "      <td>2.146849</td>\n",
       "      <td>122.270188</td>\n",
       "      <td>11.322140</td>\n",
       "      <td>7.25</td>\n",
       "      <td>0.996739</td>\n",
       "      <td>7.221879</td>\n",
       "      <td>8.496563</td>\n",
       "      <td>15.978538</td>\n",
       "      <td>28.260743</td>\n",
       "      <td>16.024359</td>\n",
       "      <td>2.960362</td>\n",
       "      <td>6.843791</td>\n",
       "      <td>2.262051</td>\n",
       "      <td>1599.968720</td>\n",
       "      <td>-500.951778</td>\n",
       "      <td>1600.659236</td>\n",
       "      <td>-499.677094</td>\n",
       "      <td>1600.304144</td>\n",
       "      <td>-500.727997</td>\n",
       "      <td>1600.449520</td>\n",
       "      <td>-500.052575</td>\n",
       "      <td>42029.447991</td>\n",
       "      <td>3498.578313</td>\n",
       "      <td>3499.162912</td>\n",
       "      <td>3.002340</td>\n",
       "      <td>6.043309</td>\n",
       "      <td>2.037807</td>\n",
       "      <td>542.590390</td>\n",
       "      <td>57.792734</td>\n",
       "      <td>36.862241</td>\n",
       "      <td>6.118189</td>\n",
       "      <td>11.630094</td>\n",
       "      <td>6.203177</td>\n",
       "      <td>11.692450</td>\n",
       "      <td>6.196578</td>\n",
       "      <td>11.915047</td>\n",
       "      <td>7.175616</td>\n",
       "      <td>27.341277</td>\n",
       "      <td>19.320810</td>\n",
       "      <td>87.226430</td>\n",
       "      <td>4.655288</td>\n",
       "      <td>0.542525</td>\n",
       "      <td>19.330200</td>\n",
       "      <td>1.079755</td>\n",
       "      <td>999.814770</td>\n",
       "      <td>-400.200179</td>\n",
       "      <td>1600.059442</td>\n",
       "      <td>-450.619948</td>\n",
       "      <td>1600.012842</td>\n",
       "      <td>-449.910497</td>\n",
       "      <td>1597.725177</td>\n",
       "      <td>-450.130127</td>\n",
       "      <td>1400.943157</td>\n",
       "      <td>-450.030142</td>\n",
       "      <td>1400.234743</td>\n",
       "      <td>-449.790835</td>\n",
       "      <td>13.732071</td>\n",
       "      <td>4.482453</td>\n",
       "      <td>9.122857</td>\n",
       "      <td>2.322062</td>\n",
       "      <td>25.942508</td>\n",
       "      <td>-499.176749</td>\n",
       "      <td>23.955516</td>\n",
       "      <td>-499.848796</td>\n",
       "      <td>23.966838</td>\n",
       "      <td>-500.008812</td>\n",
       "      <td>23.954443</td>\n",
       "      <td>-499.944710</td>\n",
       "      <td>14.036510</td>\n",
       "      <td>-500.857308</td>\n",
       "      <td>11.999550</td>\n",
       "      <td>-501.193686</td>\n",
       "      <td>9.970366</td>\n",
       "      <td>-499.201640</td>\n",
       "      <td>7.977324</td>\n",
       "      <td>-500.255908</td>\n",
       "      <td>14.005551</td>\n",
       "      <td>-599.996129</td>\n",
       "    </tr>\n",
       "    <tr>\n",
       "      <th>4</th>\n",
       "      <td>2016-01-15 04:00:00</td>\n",
       "      <td>6.148599</td>\n",
       "      <td>10.142511</td>\n",
       "      <td>4.939416</td>\n",
       "      <td>42.774141</td>\n",
       "      <td>66.927016</td>\n",
       "      <td>10.360302</td>\n",
       "      <td>0.792826</td>\n",
       "      <td>16.525686</td>\n",
       "      <td>2.055292</td>\n",
       "      <td>117.988169</td>\n",
       "      <td>11.913613</td>\n",
       "      <td>7.25</td>\n",
       "      <td>1.009869</td>\n",
       "      <td>9.089428</td>\n",
       "      <td>9.986786</td>\n",
       "      <td>19.199864</td>\n",
       "      <td>33.044932</td>\n",
       "      <td>16.480185</td>\n",
       "      <td>3.112100</td>\n",
       "      <td>6.550154</td>\n",
       "      <td>2.277073</td>\n",
       "      <td>1601.339707</td>\n",
       "      <td>-498.975456</td>\n",
       "      <td>1601.437854</td>\n",
       "      <td>-500.323246</td>\n",
       "      <td>1599.581894</td>\n",
       "      <td>-500.888152</td>\n",
       "      <td>1602.649541</td>\n",
       "      <td>-500.593010</td>\n",
       "      <td>42125.354245</td>\n",
       "      <td>3494.800771</td>\n",
       "      <td>3506.679315</td>\n",
       "      <td>3.169615</td>\n",
       "      <td>6.060915</td>\n",
       "      <td>1.786875</td>\n",
       "      <td>540.531893</td>\n",
       "      <td>56.047189</td>\n",
       "      <td>34.347666</td>\n",
       "      <td>5.663707</td>\n",
       "      <td>10.957755</td>\n",
       "      <td>6.198826</td>\n",
       "      <td>10.960521</td>\n",
       "      <td>6.194897</td>\n",
       "      <td>12.411054</td>\n",
       "      <td>7.240205</td>\n",
       "      <td>27.041023</td>\n",
       "      <td>19.216101</td>\n",
       "      <td>86.688794</td>\n",
       "      <td>4.552800</td>\n",
       "      <td>0.515438</td>\n",
       "      <td>19.267422</td>\n",
       "      <td>1.012642</td>\n",
       "      <td>999.678690</td>\n",
       "      <td>-399.752729</td>\n",
       "      <td>1600.208824</td>\n",
       "      <td>-449.599614</td>\n",
       "      <td>1600.357732</td>\n",
       "      <td>-450.034364</td>\n",
       "      <td>1599.759049</td>\n",
       "      <td>-449.909799</td>\n",
       "      <td>1401.560902</td>\n",
       "      <td>-448.877187</td>\n",
       "      <td>1401.160227</td>\n",
       "      <td>-450.407128</td>\n",
       "      <td>14.079996</td>\n",
       "      <td>4.470737</td>\n",
       "      <td>8.871028</td>\n",
       "      <td>2.330448</td>\n",
       "      <td>26.024787</td>\n",
       "      <td>-500.279091</td>\n",
       "      <td>23.955345</td>\n",
       "      <td>-500.593614</td>\n",
       "      <td>23.985703</td>\n",
       "      <td>-500.083811</td>\n",
       "      <td>23.958945</td>\n",
       "      <td>-499.990309</td>\n",
       "      <td>14.027298</td>\n",
       "      <td>-499.838632</td>\n",
       "      <td>11.953070</td>\n",
       "      <td>-501.053894</td>\n",
       "      <td>9.925709</td>\n",
       "      <td>-501.686727</td>\n",
       "      <td>7.894242</td>\n",
       "      <td>-500.356035</td>\n",
       "      <td>13.996647</td>\n",
       "      <td>-601.496691</td>\n",
       "    </tr>\n",
       "  </tbody>\n",
       "</table>\n",
       "</div>"
      ],
      "text/plain": [
       "                  date  final.output.concentrate_ag  \\\n",
       "0  2016-01-15 00:00:00                     6.055403   \n",
       "1  2016-01-15 01:00:00                     6.029369   \n",
       "2  2016-01-15 02:00:00                     6.055926   \n",
       "3  2016-01-15 03:00:00                     6.047977   \n",
       "4  2016-01-15 04:00:00                     6.148599   \n",
       "\n",
       "   final.output.concentrate_pb  final.output.concentrate_sol  \\\n",
       "0                     9.889648                      5.507324   \n",
       "1                     9.968944                      5.257781   \n",
       "2                    10.213995                      5.383759   \n",
       "3                     9.977019                      4.858634   \n",
       "4                    10.142511                      4.939416   \n",
       "\n",
       "   final.output.concentrate_au  final.output.recovery  final.output.tail_ag  \\\n",
       "0                    42.192020              70.541216             10.411962   \n",
       "1                    42.701629              69.266198             10.462676   \n",
       "2                    42.657501              68.116445             10.507046   \n",
       "3                    42.689819              68.347543             10.422762   \n",
       "4                    42.774141              66.927016             10.360302   \n",
       "\n",
       "   final.output.tail_pb  final.output.tail_sol  final.output.tail_au  \\\n",
       "0              0.895447              16.904297              2.143149   \n",
       "1              0.927452              16.634514              2.224930   \n",
       "2              0.953716              16.208849              2.257889   \n",
       "3              0.883763              16.532835              2.146849   \n",
       "4              0.792826              16.525686              2.055292   \n",
       "\n",
       "   primary_cleaner.input.sulfate  primary_cleaner.input.depressant  \\\n",
       "0                     127.092003                         10.128295   \n",
       "1                     125.629232                         10.296251   \n",
       "2                     123.819808                         11.316280   \n",
       "3                     122.270188                         11.322140   \n",
       "4                     117.988169                         11.913613   \n",
       "\n",
       "   primary_cleaner.input.feed_size  primary_cleaner.input.xanthate  \\\n",
       "0                             7.25                        0.988759   \n",
       "1                             7.25                        1.002663   \n",
       "2                             7.25                        0.991265   \n",
       "3                             7.25                        0.996739   \n",
       "4                             7.25                        1.009869   \n",
       "\n",
       "   primary_cleaner.output.concentrate_ag  \\\n",
       "0                               8.547551   \n",
       "1                               8.558743   \n",
       "2                               8.603505   \n",
       "3                               7.221879   \n",
       "4                               9.089428   \n",
       "\n",
       "   primary_cleaner.output.concentrate_pb  \\\n",
       "0                              10.389648   \n",
       "1                              10.497069   \n",
       "2                              10.354494   \n",
       "3                               8.496563   \n",
       "4                               9.986786   \n",
       "\n",
       "   primary_cleaner.output.concentrate_sol  \\\n",
       "0                               19.529297   \n",
       "1                               19.369147   \n",
       "2                               19.167579   \n",
       "3                               15.978538   \n",
       "4                               19.199864   \n",
       "\n",
       "   primary_cleaner.output.concentrate_au  primary_cleaner.output.tail_ag  \\\n",
       "0                              34.174427                       14.936526   \n",
       "1                              34.118526                       16.250511   \n",
       "2                              33.969464                       16.491823   \n",
       "3                              28.260743                       16.024359   \n",
       "4                              33.044932                       16.480185   \n",
       "\n",
       "   primary_cleaner.output.tail_pb  primary_cleaner.output.tail_sol  \\\n",
       "0                        2.534912                         7.476074   \n",
       "1                        3.049646                         6.733907   \n",
       "2                        3.124664                         6.471768   \n",
       "3                        2.960362                         6.843791   \n",
       "4                        3.112100                         6.550154   \n",
       "\n",
       "   primary_cleaner.output.tail_au  primary_cleaner.state.floatbank8_a_air  \\\n",
       "0                        2.106679                             1549.775757   \n",
       "1                        2.353017                             1576.166671   \n",
       "2                        2.416800                             1601.556163   \n",
       "3                        2.262051                             1599.968720   \n",
       "4                        2.277073                             1601.339707   \n",
       "\n",
       "   primary_cleaner.state.floatbank8_a_level  \\\n",
       "0                               -498.912140   \n",
       "1                               -500.904965   \n",
       "2                               -499.997791   \n",
       "3                               -500.951778   \n",
       "4                               -498.975456   \n",
       "\n",
       "   primary_cleaner.state.floatbank8_b_air  \\\n",
       "0                             1551.434204   \n",
       "1                             1575.950626   \n",
       "2                             1600.386685   \n",
       "3                             1600.659236   \n",
       "4                             1601.437854   \n",
       "\n",
       "   primary_cleaner.state.floatbank8_b_level  \\\n",
       "0                               -516.403442   \n",
       "1                               -499.865889   \n",
       "2                               -500.607762   \n",
       "3                               -499.677094   \n",
       "4                               -500.323246   \n",
       "\n",
       "   primary_cleaner.state.floatbank8_c_air  \\\n",
       "0                             1549.873901   \n",
       "1                             1575.994189   \n",
       "2                             1602.003542   \n",
       "3                             1600.304144   \n",
       "4                             1599.581894   \n",
       "\n",
       "   primary_cleaner.state.floatbank8_c_level  \\\n",
       "0                               -498.666595   \n",
       "1                               -499.315107   \n",
       "2                               -500.870069   \n",
       "3                               -500.727997   \n",
       "4                               -500.888152   \n",
       "\n",
       "   primary_cleaner.state.floatbank8_d_air  \\\n",
       "0                             1554.367432   \n",
       "1                             1574.479259   \n",
       "2                             1599.541515   \n",
       "3                             1600.449520   \n",
       "4                             1602.649541   \n",
       "\n",
       "   primary_cleaner.state.floatbank8_d_level  \\\n",
       "0                               -493.428131   \n",
       "1                               -498.931665   \n",
       "2                               -499.827444   \n",
       "3                               -500.052575   \n",
       "4                               -500.593010   \n",
       "\n",
       "   rougher.calculation.sulfate_to_au_concentrate  \\\n",
       "0                                   41885.707031   \n",
       "1                                   42050.861809   \n",
       "2                                   42018.101184   \n",
       "3                                   42029.447991   \n",
       "4                                   42125.354245   \n",
       "\n",
       "   rougher.calculation.floatbank10_sulfate_to_au_feed  \\\n",
       "0                                        3481.779053    \n",
       "1                                        3498.370979    \n",
       "2                                        3495.348910    \n",
       "3                                        3498.578313    \n",
       "4                                        3494.800771    \n",
       "\n",
       "   rougher.calculation.floatbank11_sulfate_to_au_feed  \\\n",
       "0                                        3520.337158    \n",
       "1                                        3489.981857    \n",
       "2                                        3502.359819    \n",
       "3                                        3499.162912    \n",
       "4                                        3506.679315    \n",
       "\n",
       "   rougher.calculation.au_pb_ratio  rougher.input.feed_ag  \\\n",
       "0                         2.838687               6.100378   \n",
       "1                         2.858998               6.161113   \n",
       "2                         2.945989               6.116455   \n",
       "3                         3.002340               6.043309   \n",
       "4                         3.169615               6.060915   \n",
       "\n",
       "   rougher.input.feed_pb  rougher.input.feed_rate  rougher.input.feed_size  \\\n",
       "0               2.284912               523.546326                55.486599   \n",
       "1               2.266033               525.290581                57.278666   \n",
       "2               2.159622               530.026610                57.510649   \n",
       "3               2.037807               542.590390                57.792734   \n",
       "4               1.786875               540.531893                56.047189   \n",
       "\n",
       "   rougher.input.feed_sol  rougher.input.feed_au  \\\n",
       "0               36.808594               6.486150   \n",
       "1               35.753385               6.478583   \n",
       "2               35.971630               6.362222   \n",
       "3               36.862241               6.118189   \n",
       "4               34.347666               5.663707   \n",
       "\n",
       "   rougher.input.floatbank10_sulfate  rougher.input.floatbank10_xanthate  \\\n",
       "0                          11.986616                            6.007990   \n",
       "1                          11.971193                            6.005766   \n",
       "2                          11.920603                            6.197377   \n",
       "3                          11.630094                            6.203177   \n",
       "4                          10.957755                            6.198826   \n",
       "\n",
       "   rougher.input.floatbank11_sulfate  rougher.input.floatbank11_xanthate  \\\n",
       "0                          11.836743                            6.005818   \n",
       "1                          11.996163                            6.012594   \n",
       "2                          11.920305                            6.204633   \n",
       "3                          11.692450                            6.196578   \n",
       "4                          10.960521                            6.194897   \n",
       "\n",
       "   rougher.output.concentrate_ag  rougher.output.concentrate_pb  \\\n",
       "0                      11.500771                       7.101074   \n",
       "1                      11.615865                       7.278807   \n",
       "2                      11.695753                       7.216833   \n",
       "3                      11.915047                       7.175616   \n",
       "4                      12.411054                       7.240205   \n",
       "\n",
       "   rougher.output.concentrate_sol  rougher.output.concentrate_au  \\\n",
       "0                       28.029297                      19.793808   \n",
       "1                       28.067063                      20.050975   \n",
       "2                       27.454037                      19.737170   \n",
       "3                       27.341277                      19.320810   \n",
       "4                       27.041023                      19.216101   \n",
       "\n",
       "   rougher.output.recovery  rougher.output.tail_ag  rougher.output.tail_pb  \\\n",
       "0                87.107763                5.008018                0.508728   \n",
       "1                86.843261                4.955378                0.536689   \n",
       "2                86.842308                4.843460                0.546416   \n",
       "3                87.226430                4.655288                0.542525   \n",
       "4                86.688794                4.552800                0.515438   \n",
       "\n",
       "   rougher.output.tail_sol  rougher.output.tail_au  \\\n",
       "0                19.154297                1.170244   \n",
       "1                18.965234                1.184827   \n",
       "2                18.808533                1.162562   \n",
       "3                19.330200                1.079755   \n",
       "4                19.267422                1.012642   \n",
       "\n",
       "   rougher.state.floatbank10_a_air  rougher.state.floatbank10_a_level  \\\n",
       "0                       999.706909                        -404.066986   \n",
       "1                      1000.286398                        -400.065196   \n",
       "2                       999.719565                        -400.074028   \n",
       "3                       999.814770                        -400.200179   \n",
       "4                       999.678690                        -399.752729   \n",
       "\n",
       "   rougher.state.floatbank10_b_air  rougher.state.floatbank10_b_level  \\\n",
       "0                      1603.011353                        -434.715027   \n",
       "1                      1600.754587                        -449.953435   \n",
       "2                      1599.337330                        -450.008530   \n",
       "3                      1600.059442                        -450.619948   \n",
       "4                      1600.208824                        -449.599614   \n",
       "\n",
       "   rougher.state.floatbank10_c_air  rougher.state.floatbank10_c_level  \\\n",
       "0                      1602.375000                        -442.204468   \n",
       "1                      1600.479580                        -449.830646   \n",
       "2                      1599.672797                        -449.954491   \n",
       "3                      1600.012842                        -449.910497   \n",
       "4                      1600.357732                        -450.034364   \n",
       "\n",
       "   rougher.state.floatbank10_d_air  rougher.state.floatbank10_d_level  \\\n",
       "0                      1598.937256                        -451.294128   \n",
       "1                      1600.527589                        -449.953649   \n",
       "2                      1599.849325                        -449.954185   \n",
       "3                      1597.725177                        -450.130127   \n",
       "4                      1599.759049                        -449.909799   \n",
       "\n",
       "   rougher.state.floatbank10_e_air  rougher.state.floatbank10_e_level  \\\n",
       "0                      1404.472046                        -455.462982   \n",
       "1                      1399.227084                        -450.869848   \n",
       "2                      1399.180945                        -449.937588   \n",
       "3                      1400.943157                        -450.030142   \n",
       "4                      1401.560902                        -448.877187   \n",
       "\n",
       "   rougher.state.floatbank10_f_air  rougher.state.floatbank10_f_level  \\\n",
       "0                      1416.354980                        -451.939636   \n",
       "1                      1399.719514                        -450.119001   \n",
       "2                      1400.316682                        -450.527147   \n",
       "3                      1400.234743                        -449.790835   \n",
       "4                      1401.160227                        -450.407128   \n",
       "\n",
       "   secondary_cleaner.output.tail_ag  secondary_cleaner.output.tail_pb  \\\n",
       "0                         14.500184                          4.694824   \n",
       "1                         14.265474                          4.592547   \n",
       "2                         14.115662                          4.624775   \n",
       "3                         13.732071                          4.482453   \n",
       "4                         14.079996                          4.470737   \n",
       "\n",
       "   secondary_cleaner.output.tail_sol  secondary_cleaner.output.tail_au  \\\n",
       "0                           8.764648                          2.606185   \n",
       "1                           9.001494                          2.488248   \n",
       "2                           8.842896                          2.458187   \n",
       "3                           9.122857                          2.322062   \n",
       "4                           8.871028                          2.330448   \n",
       "\n",
       "   secondary_cleaner.state.floatbank2_a_air  \\\n",
       "0                                 25.853109   \n",
       "1                                 25.880539   \n",
       "2                                 26.005245   \n",
       "3                                 25.942508   \n",
       "4                                 26.024787   \n",
       "\n",
       "   secondary_cleaner.state.floatbank2_a_level  \\\n",
       "0                                 -498.526489   \n",
       "1                                 -499.989656   \n",
       "2                                 -499.929616   \n",
       "3                                 -499.176749   \n",
       "4                                 -500.279091   \n",
       "\n",
       "   secondary_cleaner.state.floatbank2_b_air  \\\n",
       "0                                 23.893660   \n",
       "1                                 23.889530   \n",
       "2                                 23.886657   \n",
       "3                                 23.955516   \n",
       "4                                 23.955345   \n",
       "\n",
       "   secondary_cleaner.state.floatbank2_b_level  \\\n",
       "0                                 -501.406281   \n",
       "1                                 -500.372428   \n",
       "2                                 -499.951928   \n",
       "3                                 -499.848796   \n",
       "4                                 -500.593614   \n",
       "\n",
       "   secondary_cleaner.state.floatbank3_a_air  \\\n",
       "0                                 23.961798   \n",
       "1                                 23.970550   \n",
       "2                                 23.913535   \n",
       "3                                 23.966838   \n",
       "4                                 23.985703   \n",
       "\n",
       "   secondary_cleaner.state.floatbank3_a_level  \\\n",
       "0                                 -495.262817   \n",
       "1                                 -500.085473   \n",
       "2                                 -499.442343   \n",
       "3                                 -500.008812   \n",
       "4                                 -500.083811   \n",
       "\n",
       "   secondary_cleaner.state.floatbank3_b_air  \\\n",
       "0                                 21.940409   \n",
       "1                                 22.085714   \n",
       "2                                 23.957717   \n",
       "3                                 23.954443   \n",
       "4                                 23.958945   \n",
       "\n",
       "   secondary_cleaner.state.floatbank3_b_level  \\\n",
       "0                                 -499.340973   \n",
       "1                                 -499.446897   \n",
       "2                                 -499.901982   \n",
       "3                                 -499.944710   \n",
       "4                                 -499.990309   \n",
       "\n",
       "   secondary_cleaner.state.floatbank4_a_air  \\\n",
       "0                                 14.016835   \n",
       "1                                 13.992281   \n",
       "2                                 14.015015   \n",
       "3                                 14.036510   \n",
       "4                                 14.027298   \n",
       "\n",
       "   secondary_cleaner.state.floatbank4_a_level  \\\n",
       "0                                 -502.488007   \n",
       "1                                 -505.503262   \n",
       "2                                 -502.520901   \n",
       "3                                 -500.857308   \n",
       "4                                 -499.838632   \n",
       "\n",
       "   secondary_cleaner.state.floatbank4_b_air  \\\n",
       "0                                 12.099931   \n",
       "1                                 11.950531   \n",
       "2                                 11.912783   \n",
       "3                                 11.999550   \n",
       "4                                 11.953070   \n",
       "\n",
       "   secondary_cleaner.state.floatbank4_b_level  \\\n",
       "0                                 -504.715942   \n",
       "1                                 -501.331529   \n",
       "2                                 -501.133383   \n",
       "3                                 -501.193686   \n",
       "4                                 -501.053894   \n",
       "\n",
       "   secondary_cleaner.state.floatbank5_a_air  \\\n",
       "0                                  9.925633   \n",
       "1                                 10.039245   \n",
       "2                                 10.070913   \n",
       "3                                  9.970366   \n",
       "4                                  9.925709   \n",
       "\n",
       "   secondary_cleaner.state.floatbank5_a_level  \\\n",
       "0                                 -498.310211   \n",
       "1                                 -500.169983   \n",
       "2                                 -500.129135   \n",
       "3                                 -499.201640   \n",
       "4                                 -501.686727   \n",
       "\n",
       "   secondary_cleaner.state.floatbank5_b_air  \\\n",
       "0                                  8.079666   \n",
       "1                                  7.984757   \n",
       "2                                  8.013877   \n",
       "3                                  7.977324   \n",
       "4                                  7.894242   \n",
       "\n",
       "   secondary_cleaner.state.floatbank5_b_level  \\\n",
       "0                                 -500.470978   \n",
       "1                                 -500.582168   \n",
       "2                                 -500.517572   \n",
       "3                                 -500.255908   \n",
       "4                                 -500.356035   \n",
       "\n",
       "   secondary_cleaner.state.floatbank6_a_air  \\\n",
       "0                                 14.151341   \n",
       "1                                 13.998353   \n",
       "2                                 14.028663   \n",
       "3                                 14.005551   \n",
       "4                                 13.996647   \n",
       "\n",
       "   secondary_cleaner.state.floatbank6_a_level  \n",
       "0                                 -605.841980  \n",
       "1                                 -599.787184  \n",
       "2                                 -601.427363  \n",
       "3                                 -599.996129  \n",
       "4                                 -601.496691  "
      ]
     },
     "execution_count": 5,
     "metadata": {},
     "output_type": "execute_result"
    }
   ],
   "source": [
    "data_train.head()"
   ]
  },
  {
   "cell_type": "code",
   "execution_count": 6,
   "metadata": {},
   "outputs": [
    {
     "name": "stdout",
     "output_type": "stream",
     "text": [
      "<class 'pandas.core.frame.DataFrame'>\n",
      "RangeIndex: 14149 entries, 0 to 14148\n",
      "Data columns (total 87 columns):\n",
      " #   Column                                              Non-Null Count  Dtype  \n",
      "---  ------                                              --------------  -----  \n",
      " 0   date                                                14149 non-null  object \n",
      " 1   final.output.concentrate_ag                         14148 non-null  float64\n",
      " 2   final.output.concentrate_pb                         14148 non-null  float64\n",
      " 3   final.output.concentrate_sol                        13938 non-null  float64\n",
      " 4   final.output.concentrate_au                         14149 non-null  float64\n",
      " 5   final.output.recovery                               14149 non-null  float64\n",
      " 6   final.output.tail_ag                                14149 non-null  float64\n",
      " 7   final.output.tail_pb                                14049 non-null  float64\n",
      " 8   final.output.tail_sol                               14144 non-null  float64\n",
      " 9   final.output.tail_au                                14149 non-null  float64\n",
      " 10  primary_cleaner.input.sulfate                       14129 non-null  float64\n",
      " 11  primary_cleaner.input.depressant                    14117 non-null  float64\n",
      " 12  primary_cleaner.input.feed_size                     14149 non-null  float64\n",
      " 13  primary_cleaner.input.xanthate                      14049 non-null  float64\n",
      " 14  primary_cleaner.output.concentrate_ag               14149 non-null  float64\n",
      " 15  primary_cleaner.output.concentrate_pb               14063 non-null  float64\n",
      " 16  primary_cleaner.output.concentrate_sol              13863 non-null  float64\n",
      " 17  primary_cleaner.output.concentrate_au               14149 non-null  float64\n",
      " 18  primary_cleaner.output.tail_ag                      14148 non-null  float64\n",
      " 19  primary_cleaner.output.tail_pb                      14134 non-null  float64\n",
      " 20  primary_cleaner.output.tail_sol                     14103 non-null  float64\n",
      " 21  primary_cleaner.output.tail_au                      14149 non-null  float64\n",
      " 22  primary_cleaner.state.floatbank8_a_air              14145 non-null  float64\n",
      " 23  primary_cleaner.state.floatbank8_a_level            14148 non-null  float64\n",
      " 24  primary_cleaner.state.floatbank8_b_air              14145 non-null  float64\n",
      " 25  primary_cleaner.state.floatbank8_b_level            14148 non-null  float64\n",
      " 26  primary_cleaner.state.floatbank8_c_air              14147 non-null  float64\n",
      " 27  primary_cleaner.state.floatbank8_c_level            14148 non-null  float64\n",
      " 28  primary_cleaner.state.floatbank8_d_air              14146 non-null  float64\n",
      " 29  primary_cleaner.state.floatbank8_d_level            14148 non-null  float64\n",
      " 30  rougher.calculation.sulfate_to_au_concentrate       14148 non-null  float64\n",
      " 31  rougher.calculation.floatbank10_sulfate_to_au_feed  14148 non-null  float64\n",
      " 32  rougher.calculation.floatbank11_sulfate_to_au_feed  14148 non-null  float64\n",
      " 33  rougher.calculation.au_pb_ratio                     14149 non-null  float64\n",
      " 34  rougher.input.feed_ag                               14149 non-null  float64\n",
      " 35  rougher.input.feed_pb                               14049 non-null  float64\n",
      " 36  rougher.input.feed_rate                             14141 non-null  float64\n",
      " 37  rougher.input.feed_size                             14005 non-null  float64\n",
      " 38  rougher.input.feed_sol                              14071 non-null  float64\n",
      " 39  rougher.input.feed_au                               14149 non-null  float64\n",
      " 40  rougher.input.floatbank10_sulfate                   14120 non-null  float64\n",
      " 41  rougher.input.floatbank10_xanthate                  14141 non-null  float64\n",
      " 42  rougher.input.floatbank11_sulfate                   14113 non-null  float64\n",
      " 43  rougher.input.floatbank11_xanthate                  13721 non-null  float64\n",
      " 44  rougher.output.concentrate_ag                       14149 non-null  float64\n",
      " 45  rougher.output.concentrate_pb                       14149 non-null  float64\n",
      " 46  rougher.output.concentrate_sol                      14127 non-null  float64\n",
      " 47  rougher.output.concentrate_au                       14149 non-null  float64\n",
      " 48  rougher.output.recovery                             14149 non-null  float64\n",
      " 49  rougher.output.tail_ag                              14148 non-null  float64\n",
      " 50  rougher.output.tail_pb                              14149 non-null  float64\n",
      " 51  rougher.output.tail_sol                             14149 non-null  float64\n",
      " 52  rougher.output.tail_au                              14149 non-null  float64\n",
      " 53  rougher.state.floatbank10_a_air                     14148 non-null  float64\n",
      " 54  rougher.state.floatbank10_a_level                   14148 non-null  float64\n",
      " 55  rougher.state.floatbank10_b_air                     14148 non-null  float64\n",
      " 56  rougher.state.floatbank10_b_level                   14148 non-null  float64\n",
      " 57  rougher.state.floatbank10_c_air                     14148 non-null  float64\n",
      " 58  rougher.state.floatbank10_c_level                   14148 non-null  float64\n",
      " 59  rougher.state.floatbank10_d_air                     14149 non-null  float64\n",
      " 60  rougher.state.floatbank10_d_level                   14149 non-null  float64\n",
      " 61  rougher.state.floatbank10_e_air                     13713 non-null  float64\n",
      " 62  rougher.state.floatbank10_e_level                   14149 non-null  float64\n",
      " 63  rougher.state.floatbank10_f_air                     14149 non-null  float64\n",
      " 64  rougher.state.floatbank10_f_level                   14149 non-null  float64\n",
      " 65  secondary_cleaner.output.tail_ag                    14147 non-null  float64\n",
      " 66  secondary_cleaner.output.tail_pb                    14139 non-null  float64\n",
      " 67  secondary_cleaner.output.tail_sol                   12544 non-null  float64\n",
      " 68  secondary_cleaner.output.tail_au                    14149 non-null  float64\n",
      " 69  secondary_cleaner.state.floatbank2_a_air            13932 non-null  float64\n",
      " 70  secondary_cleaner.state.floatbank2_a_level          14148 non-null  float64\n",
      " 71  secondary_cleaner.state.floatbank2_b_air            14128 non-null  float64\n",
      " 72  secondary_cleaner.state.floatbank2_b_level          14148 non-null  float64\n",
      " 73  secondary_cleaner.state.floatbank3_a_air            14145 non-null  float64\n",
      " 74  secondary_cleaner.state.floatbank3_a_level          14148 non-null  float64\n",
      " 75  secondary_cleaner.state.floatbank3_b_air            14148 non-null  float64\n",
      " 76  secondary_cleaner.state.floatbank3_b_level          14148 non-null  float64\n",
      " 77  secondary_cleaner.state.floatbank4_a_air            14143 non-null  float64\n",
      " 78  secondary_cleaner.state.floatbank4_a_level          14148 non-null  float64\n",
      " 79  secondary_cleaner.state.floatbank4_b_air            14148 non-null  float64\n",
      " 80  secondary_cleaner.state.floatbank4_b_level          14148 non-null  float64\n",
      " 81  secondary_cleaner.state.floatbank5_a_air            14148 non-null  float64\n",
      " 82  secondary_cleaner.state.floatbank5_a_level          14148 non-null  float64\n",
      " 83  secondary_cleaner.state.floatbank5_b_air            14148 non-null  float64\n",
      " 84  secondary_cleaner.state.floatbank5_b_level          14148 non-null  float64\n",
      " 85  secondary_cleaner.state.floatbank6_a_air            14147 non-null  float64\n",
      " 86  secondary_cleaner.state.floatbank6_a_level          14148 non-null  float64\n",
      "dtypes: float64(86), object(1)\n",
      "memory usage: 9.4+ MB\n"
     ]
    }
   ],
   "source": [
    "data_train.info()"
   ]
  },
  {
   "cell_type": "code",
   "execution_count": 7,
   "metadata": {},
   "outputs": [
    {
     "data": {
      "text/html": [
       "<div>\n",
       "<style scoped>\n",
       "    .dataframe tbody tr th:only-of-type {\n",
       "        vertical-align: middle;\n",
       "    }\n",
       "\n",
       "    .dataframe tbody tr th {\n",
       "        vertical-align: top;\n",
       "    }\n",
       "\n",
       "    .dataframe thead th {\n",
       "        text-align: right;\n",
       "    }\n",
       "</style>\n",
       "<table border=\"1\" class=\"dataframe\">\n",
       "  <thead>\n",
       "    <tr style=\"text-align: right;\">\n",
       "      <th></th>\n",
       "      <th>date</th>\n",
       "      <th>primary_cleaner.input.sulfate</th>\n",
       "      <th>primary_cleaner.input.depressant</th>\n",
       "      <th>primary_cleaner.input.feed_size</th>\n",
       "      <th>primary_cleaner.input.xanthate</th>\n",
       "      <th>primary_cleaner.state.floatbank8_a_air</th>\n",
       "      <th>primary_cleaner.state.floatbank8_a_level</th>\n",
       "      <th>primary_cleaner.state.floatbank8_b_air</th>\n",
       "      <th>primary_cleaner.state.floatbank8_b_level</th>\n",
       "      <th>primary_cleaner.state.floatbank8_c_air</th>\n",
       "      <th>primary_cleaner.state.floatbank8_c_level</th>\n",
       "      <th>primary_cleaner.state.floatbank8_d_air</th>\n",
       "      <th>primary_cleaner.state.floatbank8_d_level</th>\n",
       "      <th>rougher.input.feed_ag</th>\n",
       "      <th>rougher.input.feed_pb</th>\n",
       "      <th>rougher.input.feed_rate</th>\n",
       "      <th>rougher.input.feed_size</th>\n",
       "      <th>rougher.input.feed_sol</th>\n",
       "      <th>rougher.input.feed_au</th>\n",
       "      <th>rougher.input.floatbank10_sulfate</th>\n",
       "      <th>rougher.input.floatbank10_xanthate</th>\n",
       "      <th>rougher.input.floatbank11_sulfate</th>\n",
       "      <th>rougher.input.floatbank11_xanthate</th>\n",
       "      <th>rougher.state.floatbank10_a_air</th>\n",
       "      <th>rougher.state.floatbank10_a_level</th>\n",
       "      <th>rougher.state.floatbank10_b_air</th>\n",
       "      <th>rougher.state.floatbank10_b_level</th>\n",
       "      <th>rougher.state.floatbank10_c_air</th>\n",
       "      <th>rougher.state.floatbank10_c_level</th>\n",
       "      <th>rougher.state.floatbank10_d_air</th>\n",
       "      <th>rougher.state.floatbank10_d_level</th>\n",
       "      <th>rougher.state.floatbank10_e_air</th>\n",
       "      <th>rougher.state.floatbank10_e_level</th>\n",
       "      <th>rougher.state.floatbank10_f_air</th>\n",
       "      <th>rougher.state.floatbank10_f_level</th>\n",
       "      <th>secondary_cleaner.state.floatbank2_a_air</th>\n",
       "      <th>secondary_cleaner.state.floatbank2_a_level</th>\n",
       "      <th>secondary_cleaner.state.floatbank2_b_air</th>\n",
       "      <th>secondary_cleaner.state.floatbank2_b_level</th>\n",
       "      <th>secondary_cleaner.state.floatbank3_a_air</th>\n",
       "      <th>secondary_cleaner.state.floatbank3_a_level</th>\n",
       "      <th>secondary_cleaner.state.floatbank3_b_air</th>\n",
       "      <th>secondary_cleaner.state.floatbank3_b_level</th>\n",
       "      <th>secondary_cleaner.state.floatbank4_a_air</th>\n",
       "      <th>secondary_cleaner.state.floatbank4_a_level</th>\n",
       "      <th>secondary_cleaner.state.floatbank4_b_air</th>\n",
       "      <th>secondary_cleaner.state.floatbank4_b_level</th>\n",
       "      <th>secondary_cleaner.state.floatbank5_a_air</th>\n",
       "      <th>secondary_cleaner.state.floatbank5_a_level</th>\n",
       "      <th>secondary_cleaner.state.floatbank5_b_air</th>\n",
       "      <th>secondary_cleaner.state.floatbank5_b_level</th>\n",
       "      <th>secondary_cleaner.state.floatbank6_a_air</th>\n",
       "      <th>secondary_cleaner.state.floatbank6_a_level</th>\n",
       "    </tr>\n",
       "  </thead>\n",
       "  <tbody>\n",
       "    <tr>\n",
       "      <th>0</th>\n",
       "      <td>2016-09-01 00:59:59</td>\n",
       "      <td>210.800909</td>\n",
       "      <td>14.993118</td>\n",
       "      <td>8.080000</td>\n",
       "      <td>1.005021</td>\n",
       "      <td>1398.981301</td>\n",
       "      <td>-500.225577</td>\n",
       "      <td>1399.144926</td>\n",
       "      <td>-499.919735</td>\n",
       "      <td>1400.102998</td>\n",
       "      <td>-500.704369</td>\n",
       "      <td>1399.001695</td>\n",
       "      <td>-499.485144</td>\n",
       "      <td>13.128569</td>\n",
       "      <td>5.636710</td>\n",
       "      <td>489.793655</td>\n",
       "      <td>62.710452</td>\n",
       "      <td>42.022440</td>\n",
       "      <td>12.084103</td>\n",
       "      <td>16.922877</td>\n",
       "      <td>6.153479</td>\n",
       "      <td>16.867518</td>\n",
       "      <td>6.150709</td>\n",
       "      <td>1001.849317</td>\n",
       "      <td>-350.301265</td>\n",
       "      <td>1249.738612</td>\n",
       "      <td>-399.107531</td>\n",
       "      <td>1249.750520</td>\n",
       "      <td>-399.396730</td>\n",
       "      <td>1198.287855</td>\n",
       "      <td>-399.488594</td>\n",
       "      <td>999.472250</td>\n",
       "      <td>-399.530962</td>\n",
       "      <td>949.566189</td>\n",
       "      <td>-398.180807</td>\n",
       "      <td>24.938200</td>\n",
       "      <td>-500.490963</td>\n",
       "      <td>14.947607</td>\n",
       "      <td>-500.013837</td>\n",
       "      <td>20.018166</td>\n",
       "      <td>-450.395995</td>\n",
       "      <td>13.987058</td>\n",
       "      <td>-449.831513</td>\n",
       "      <td>12.023554</td>\n",
       "      <td>-497.795834</td>\n",
       "      <td>8.016656</td>\n",
       "      <td>-501.289139</td>\n",
       "      <td>7.946562</td>\n",
       "      <td>-432.317850</td>\n",
       "      <td>4.872511</td>\n",
       "      <td>-500.037437</td>\n",
       "      <td>26.705889</td>\n",
       "      <td>-499.709414</td>\n",
       "    </tr>\n",
       "    <tr>\n",
       "      <th>1</th>\n",
       "      <td>2016-09-01 01:59:59</td>\n",
       "      <td>215.392455</td>\n",
       "      <td>14.987471</td>\n",
       "      <td>8.080000</td>\n",
       "      <td>0.990469</td>\n",
       "      <td>1398.777912</td>\n",
       "      <td>-500.057435</td>\n",
       "      <td>1398.055362</td>\n",
       "      <td>-499.778182</td>\n",
       "      <td>1396.151033</td>\n",
       "      <td>-499.240168</td>\n",
       "      <td>1399.508091</td>\n",
       "      <td>-500.416324</td>\n",
       "      <td>13.036280</td>\n",
       "      <td>5.526065</td>\n",
       "      <td>490.104534</td>\n",
       "      <td>61.961163</td>\n",
       "      <td>41.187903</td>\n",
       "      <td>11.918977</td>\n",
       "      <td>17.002532</td>\n",
       "      <td>5.999043</td>\n",
       "      <td>16.996063</td>\n",
       "      <td>6.002315</td>\n",
       "      <td>998.690785</td>\n",
       "      <td>-350.425704</td>\n",
       "      <td>1248.395457</td>\n",
       "      <td>-399.946025</td>\n",
       "      <td>1249.514451</td>\n",
       "      <td>-399.630810</td>\n",
       "      <td>1200.506459</td>\n",
       "      <td>-399.942434</td>\n",
       "      <td>1000.002114</td>\n",
       "      <td>-399.491528</td>\n",
       "      <td>950.200009</td>\n",
       "      <td>-405.787514</td>\n",
       "      <td>24.923466</td>\n",
       "      <td>-499.813963</td>\n",
       "      <td>14.930873</td>\n",
       "      <td>-500.764452</td>\n",
       "      <td>19.988503</td>\n",
       "      <td>-450.114024</td>\n",
       "      <td>14.092981</td>\n",
       "      <td>-450.059163</td>\n",
       "      <td>12.058140</td>\n",
       "      <td>-498.695773</td>\n",
       "      <td>8.130979</td>\n",
       "      <td>-499.634209</td>\n",
       "      <td>7.958270</td>\n",
       "      <td>-525.839648</td>\n",
       "      <td>4.878850</td>\n",
       "      <td>-500.162375</td>\n",
       "      <td>25.019940</td>\n",
       "      <td>-499.819438</td>\n",
       "    </tr>\n",
       "    <tr>\n",
       "      <th>2</th>\n",
       "      <td>2016-09-01 02:59:59</td>\n",
       "      <td>215.259946</td>\n",
       "      <td>12.884934</td>\n",
       "      <td>7.786667</td>\n",
       "      <td>0.996043</td>\n",
       "      <td>1398.493666</td>\n",
       "      <td>-500.868360</td>\n",
       "      <td>1398.860436</td>\n",
       "      <td>-499.764529</td>\n",
       "      <td>1398.075709</td>\n",
       "      <td>-502.151509</td>\n",
       "      <td>1399.497088</td>\n",
       "      <td>-499.715479</td>\n",
       "      <td>13.138412</td>\n",
       "      <td>5.426561</td>\n",
       "      <td>489.617969</td>\n",
       "      <td>66.903807</td>\n",
       "      <td>42.546294</td>\n",
       "      <td>12.091332</td>\n",
       "      <td>16.992520</td>\n",
       "      <td>5.850632</td>\n",
       "      <td>16.982096</td>\n",
       "      <td>5.853594</td>\n",
       "      <td>998.516720</td>\n",
       "      <td>-349.783538</td>\n",
       "      <td>1247.440748</td>\n",
       "      <td>-400.264330</td>\n",
       "      <td>1248.207204</td>\n",
       "      <td>-401.074405</td>\n",
       "      <td>1199.770026</td>\n",
       "      <td>-400.790582</td>\n",
       "      <td>999.925519</td>\n",
       "      <td>-399.236999</td>\n",
       "      <td>950.320481</td>\n",
       "      <td>-400.864340</td>\n",
       "      <td>24.908732</td>\n",
       "      <td>-500.304035</td>\n",
       "      <td>14.996511</td>\n",
       "      <td>-500.993821</td>\n",
       "      <td>20.039689</td>\n",
       "      <td>-450.263164</td>\n",
       "      <td>14.077881</td>\n",
       "      <td>-449.660997</td>\n",
       "      <td>11.962366</td>\n",
       "      <td>-498.767484</td>\n",
       "      <td>8.096893</td>\n",
       "      <td>-500.827423</td>\n",
       "      <td>8.071056</td>\n",
       "      <td>-500.801673</td>\n",
       "      <td>4.905125</td>\n",
       "      <td>-499.828510</td>\n",
       "      <td>24.994862</td>\n",
       "      <td>-500.622559</td>\n",
       "    </tr>\n",
       "    <tr>\n",
       "      <th>3</th>\n",
       "      <td>2016-09-01 03:59:59</td>\n",
       "      <td>215.336236</td>\n",
       "      <td>12.006805</td>\n",
       "      <td>7.640000</td>\n",
       "      <td>0.863514</td>\n",
       "      <td>1399.618111</td>\n",
       "      <td>-498.863574</td>\n",
       "      <td>1397.440120</td>\n",
       "      <td>-499.211024</td>\n",
       "      <td>1400.129303</td>\n",
       "      <td>-498.355873</td>\n",
       "      <td>1401.065165</td>\n",
       "      <td>-501.038738</td>\n",
       "      <td>12.400507</td>\n",
       "      <td>5.114758</td>\n",
       "      <td>476.618130</td>\n",
       "      <td>59.865919</td>\n",
       "      <td>41.060195</td>\n",
       "      <td>12.181597</td>\n",
       "      <td>16.532144</td>\n",
       "      <td>5.801935</td>\n",
       "      <td>16.515277</td>\n",
       "      <td>5.803657</td>\n",
       "      <td>1000.276604</td>\n",
       "      <td>-350.172597</td>\n",
       "      <td>1251.322675</td>\n",
       "      <td>-398.655289</td>\n",
       "      <td>1250.493702</td>\n",
       "      <td>-399.746728</td>\n",
       "      <td>1199.398691</td>\n",
       "      <td>-397.503052</td>\n",
       "      <td>1001.930679</td>\n",
       "      <td>-400.437573</td>\n",
       "      <td>950.735324</td>\n",
       "      <td>-399.802986</td>\n",
       "      <td>24.893998</td>\n",
       "      <td>-499.382374</td>\n",
       "      <td>14.916674</td>\n",
       "      <td>-499.862299</td>\n",
       "      <td>20.031100</td>\n",
       "      <td>-449.372570</td>\n",
       "      <td>14.013968</td>\n",
       "      <td>-449.526900</td>\n",
       "      <td>12.033091</td>\n",
       "      <td>-498.350935</td>\n",
       "      <td>8.074946</td>\n",
       "      <td>-499.474407</td>\n",
       "      <td>7.897085</td>\n",
       "      <td>-500.868509</td>\n",
       "      <td>4.931400</td>\n",
       "      <td>-499.963623</td>\n",
       "      <td>24.948919</td>\n",
       "      <td>-498.709987</td>\n",
       "    </tr>\n",
       "    <tr>\n",
       "      <th>4</th>\n",
       "      <td>2016-09-01 04:59:59</td>\n",
       "      <td>199.099327</td>\n",
       "      <td>10.682530</td>\n",
       "      <td>7.530000</td>\n",
       "      <td>0.805575</td>\n",
       "      <td>1401.268123</td>\n",
       "      <td>-500.808305</td>\n",
       "      <td>1398.128818</td>\n",
       "      <td>-499.504543</td>\n",
       "      <td>1402.172226</td>\n",
       "      <td>-500.810606</td>\n",
       "      <td>1399.480508</td>\n",
       "      <td>-499.374053</td>\n",
       "      <td>11.327427</td>\n",
       "      <td>4.767383</td>\n",
       "      <td>488.248117</td>\n",
       "      <td>63.315324</td>\n",
       "      <td>41.269161</td>\n",
       "      <td>11.290425</td>\n",
       "      <td>13.607257</td>\n",
       "      <td>5.738081</td>\n",
       "      <td>13.650053</td>\n",
       "      <td>5.739634</td>\n",
       "      <td>996.541302</td>\n",
       "      <td>-350.562517</td>\n",
       "      <td>1304.658848</td>\n",
       "      <td>-399.511519</td>\n",
       "      <td>1306.455515</td>\n",
       "      <td>-399.050685</td>\n",
       "      <td>1248.699349</td>\n",
       "      <td>-400.876894</td>\n",
       "      <td>1058.839106</td>\n",
       "      <td>-398.988239</td>\n",
       "      <td>949.645313</td>\n",
       "      <td>-399.277632</td>\n",
       "      <td>24.886905</td>\n",
       "      <td>-499.357375</td>\n",
       "      <td>14.979233</td>\n",
       "      <td>-500.186804</td>\n",
       "      <td>19.962364</td>\n",
       "      <td>-450.638828</td>\n",
       "      <td>14.009245</td>\n",
       "      <td>-450.022259</td>\n",
       "      <td>12.025367</td>\n",
       "      <td>-500.786497</td>\n",
       "      <td>8.054678</td>\n",
       "      <td>-500.397500</td>\n",
       "      <td>8.107890</td>\n",
       "      <td>-509.526725</td>\n",
       "      <td>4.957674</td>\n",
       "      <td>-500.360026</td>\n",
       "      <td>25.003331</td>\n",
       "      <td>-500.856333</td>\n",
       "    </tr>\n",
       "  </tbody>\n",
       "</table>\n",
       "</div>"
      ],
      "text/plain": [
       "                  date  primary_cleaner.input.sulfate  \\\n",
       "0  2016-09-01 00:59:59                     210.800909   \n",
       "1  2016-09-01 01:59:59                     215.392455   \n",
       "2  2016-09-01 02:59:59                     215.259946   \n",
       "3  2016-09-01 03:59:59                     215.336236   \n",
       "4  2016-09-01 04:59:59                     199.099327   \n",
       "\n",
       "   primary_cleaner.input.depressant  primary_cleaner.input.feed_size  \\\n",
       "0                         14.993118                         8.080000   \n",
       "1                         14.987471                         8.080000   \n",
       "2                         12.884934                         7.786667   \n",
       "3                         12.006805                         7.640000   \n",
       "4                         10.682530                         7.530000   \n",
       "\n",
       "   primary_cleaner.input.xanthate  primary_cleaner.state.floatbank8_a_air  \\\n",
       "0                        1.005021                             1398.981301   \n",
       "1                        0.990469                             1398.777912   \n",
       "2                        0.996043                             1398.493666   \n",
       "3                        0.863514                             1399.618111   \n",
       "4                        0.805575                             1401.268123   \n",
       "\n",
       "   primary_cleaner.state.floatbank8_a_level  \\\n",
       "0                               -500.225577   \n",
       "1                               -500.057435   \n",
       "2                               -500.868360   \n",
       "3                               -498.863574   \n",
       "4                               -500.808305   \n",
       "\n",
       "   primary_cleaner.state.floatbank8_b_air  \\\n",
       "0                             1399.144926   \n",
       "1                             1398.055362   \n",
       "2                             1398.860436   \n",
       "3                             1397.440120   \n",
       "4                             1398.128818   \n",
       "\n",
       "   primary_cleaner.state.floatbank8_b_level  \\\n",
       "0                               -499.919735   \n",
       "1                               -499.778182   \n",
       "2                               -499.764529   \n",
       "3                               -499.211024   \n",
       "4                               -499.504543   \n",
       "\n",
       "   primary_cleaner.state.floatbank8_c_air  \\\n",
       "0                             1400.102998   \n",
       "1                             1396.151033   \n",
       "2                             1398.075709   \n",
       "3                             1400.129303   \n",
       "4                             1402.172226   \n",
       "\n",
       "   primary_cleaner.state.floatbank8_c_level  \\\n",
       "0                               -500.704369   \n",
       "1                               -499.240168   \n",
       "2                               -502.151509   \n",
       "3                               -498.355873   \n",
       "4                               -500.810606   \n",
       "\n",
       "   primary_cleaner.state.floatbank8_d_air  \\\n",
       "0                             1399.001695   \n",
       "1                             1399.508091   \n",
       "2                             1399.497088   \n",
       "3                             1401.065165   \n",
       "4                             1399.480508   \n",
       "\n",
       "   primary_cleaner.state.floatbank8_d_level  rougher.input.feed_ag  \\\n",
       "0                               -499.485144              13.128569   \n",
       "1                               -500.416324              13.036280   \n",
       "2                               -499.715479              13.138412   \n",
       "3                               -501.038738              12.400507   \n",
       "4                               -499.374053              11.327427   \n",
       "\n",
       "   rougher.input.feed_pb  rougher.input.feed_rate  rougher.input.feed_size  \\\n",
       "0               5.636710               489.793655                62.710452   \n",
       "1               5.526065               490.104534                61.961163   \n",
       "2               5.426561               489.617969                66.903807   \n",
       "3               5.114758               476.618130                59.865919   \n",
       "4               4.767383               488.248117                63.315324   \n",
       "\n",
       "   rougher.input.feed_sol  rougher.input.feed_au  \\\n",
       "0               42.022440              12.084103   \n",
       "1               41.187903              11.918977   \n",
       "2               42.546294              12.091332   \n",
       "3               41.060195              12.181597   \n",
       "4               41.269161              11.290425   \n",
       "\n",
       "   rougher.input.floatbank10_sulfate  rougher.input.floatbank10_xanthate  \\\n",
       "0                          16.922877                            6.153479   \n",
       "1                          17.002532                            5.999043   \n",
       "2                          16.992520                            5.850632   \n",
       "3                          16.532144                            5.801935   \n",
       "4                          13.607257                            5.738081   \n",
       "\n",
       "   rougher.input.floatbank11_sulfate  rougher.input.floatbank11_xanthate  \\\n",
       "0                          16.867518                            6.150709   \n",
       "1                          16.996063                            6.002315   \n",
       "2                          16.982096                            5.853594   \n",
       "3                          16.515277                            5.803657   \n",
       "4                          13.650053                            5.739634   \n",
       "\n",
       "   rougher.state.floatbank10_a_air  rougher.state.floatbank10_a_level  \\\n",
       "0                      1001.849317                        -350.301265   \n",
       "1                       998.690785                        -350.425704   \n",
       "2                       998.516720                        -349.783538   \n",
       "3                      1000.276604                        -350.172597   \n",
       "4                       996.541302                        -350.562517   \n",
       "\n",
       "   rougher.state.floatbank10_b_air  rougher.state.floatbank10_b_level  \\\n",
       "0                      1249.738612                        -399.107531   \n",
       "1                      1248.395457                        -399.946025   \n",
       "2                      1247.440748                        -400.264330   \n",
       "3                      1251.322675                        -398.655289   \n",
       "4                      1304.658848                        -399.511519   \n",
       "\n",
       "   rougher.state.floatbank10_c_air  rougher.state.floatbank10_c_level  \\\n",
       "0                      1249.750520                        -399.396730   \n",
       "1                      1249.514451                        -399.630810   \n",
       "2                      1248.207204                        -401.074405   \n",
       "3                      1250.493702                        -399.746728   \n",
       "4                      1306.455515                        -399.050685   \n",
       "\n",
       "   rougher.state.floatbank10_d_air  rougher.state.floatbank10_d_level  \\\n",
       "0                      1198.287855                        -399.488594   \n",
       "1                      1200.506459                        -399.942434   \n",
       "2                      1199.770026                        -400.790582   \n",
       "3                      1199.398691                        -397.503052   \n",
       "4                      1248.699349                        -400.876894   \n",
       "\n",
       "   rougher.state.floatbank10_e_air  rougher.state.floatbank10_e_level  \\\n",
       "0                       999.472250                        -399.530962   \n",
       "1                      1000.002114                        -399.491528   \n",
       "2                       999.925519                        -399.236999   \n",
       "3                      1001.930679                        -400.437573   \n",
       "4                      1058.839106                        -398.988239   \n",
       "\n",
       "   rougher.state.floatbank10_f_air  rougher.state.floatbank10_f_level  \\\n",
       "0                       949.566189                        -398.180807   \n",
       "1                       950.200009                        -405.787514   \n",
       "2                       950.320481                        -400.864340   \n",
       "3                       950.735324                        -399.802986   \n",
       "4                       949.645313                        -399.277632   \n",
       "\n",
       "   secondary_cleaner.state.floatbank2_a_air  \\\n",
       "0                                 24.938200   \n",
       "1                                 24.923466   \n",
       "2                                 24.908732   \n",
       "3                                 24.893998   \n",
       "4                                 24.886905   \n",
       "\n",
       "   secondary_cleaner.state.floatbank2_a_level  \\\n",
       "0                                 -500.490963   \n",
       "1                                 -499.813963   \n",
       "2                                 -500.304035   \n",
       "3                                 -499.382374   \n",
       "4                                 -499.357375   \n",
       "\n",
       "   secondary_cleaner.state.floatbank2_b_air  \\\n",
       "0                                 14.947607   \n",
       "1                                 14.930873   \n",
       "2                                 14.996511   \n",
       "3                                 14.916674   \n",
       "4                                 14.979233   \n",
       "\n",
       "   secondary_cleaner.state.floatbank2_b_level  \\\n",
       "0                                 -500.013837   \n",
       "1                                 -500.764452   \n",
       "2                                 -500.993821   \n",
       "3                                 -499.862299   \n",
       "4                                 -500.186804   \n",
       "\n",
       "   secondary_cleaner.state.floatbank3_a_air  \\\n",
       "0                                 20.018166   \n",
       "1                                 19.988503   \n",
       "2                                 20.039689   \n",
       "3                                 20.031100   \n",
       "4                                 19.962364   \n",
       "\n",
       "   secondary_cleaner.state.floatbank3_a_level  \\\n",
       "0                                 -450.395995   \n",
       "1                                 -450.114024   \n",
       "2                                 -450.263164   \n",
       "3                                 -449.372570   \n",
       "4                                 -450.638828   \n",
       "\n",
       "   secondary_cleaner.state.floatbank3_b_air  \\\n",
       "0                                 13.987058   \n",
       "1                                 14.092981   \n",
       "2                                 14.077881   \n",
       "3                                 14.013968   \n",
       "4                                 14.009245   \n",
       "\n",
       "   secondary_cleaner.state.floatbank3_b_level  \\\n",
       "0                                 -449.831513   \n",
       "1                                 -450.059163   \n",
       "2                                 -449.660997   \n",
       "3                                 -449.526900   \n",
       "4                                 -450.022259   \n",
       "\n",
       "   secondary_cleaner.state.floatbank4_a_air  \\\n",
       "0                                 12.023554   \n",
       "1                                 12.058140   \n",
       "2                                 11.962366   \n",
       "3                                 12.033091   \n",
       "4                                 12.025367   \n",
       "\n",
       "   secondary_cleaner.state.floatbank4_a_level  \\\n",
       "0                                 -497.795834   \n",
       "1                                 -498.695773   \n",
       "2                                 -498.767484   \n",
       "3                                 -498.350935   \n",
       "4                                 -500.786497   \n",
       "\n",
       "   secondary_cleaner.state.floatbank4_b_air  \\\n",
       "0                                  8.016656   \n",
       "1                                  8.130979   \n",
       "2                                  8.096893   \n",
       "3                                  8.074946   \n",
       "4                                  8.054678   \n",
       "\n",
       "   secondary_cleaner.state.floatbank4_b_level  \\\n",
       "0                                 -501.289139   \n",
       "1                                 -499.634209   \n",
       "2                                 -500.827423   \n",
       "3                                 -499.474407   \n",
       "4                                 -500.397500   \n",
       "\n",
       "   secondary_cleaner.state.floatbank5_a_air  \\\n",
       "0                                  7.946562   \n",
       "1                                  7.958270   \n",
       "2                                  8.071056   \n",
       "3                                  7.897085   \n",
       "4                                  8.107890   \n",
       "\n",
       "   secondary_cleaner.state.floatbank5_a_level  \\\n",
       "0                                 -432.317850   \n",
       "1                                 -525.839648   \n",
       "2                                 -500.801673   \n",
       "3                                 -500.868509   \n",
       "4                                 -509.526725   \n",
       "\n",
       "   secondary_cleaner.state.floatbank5_b_air  \\\n",
       "0                                  4.872511   \n",
       "1                                  4.878850   \n",
       "2                                  4.905125   \n",
       "3                                  4.931400   \n",
       "4                                  4.957674   \n",
       "\n",
       "   secondary_cleaner.state.floatbank5_b_level  \\\n",
       "0                                 -500.037437   \n",
       "1                                 -500.162375   \n",
       "2                                 -499.828510   \n",
       "3                                 -499.963623   \n",
       "4                                 -500.360026   \n",
       "\n",
       "   secondary_cleaner.state.floatbank6_a_air  \\\n",
       "0                                 26.705889   \n",
       "1                                 25.019940   \n",
       "2                                 24.994862   \n",
       "3                                 24.948919   \n",
       "4                                 25.003331   \n",
       "\n",
       "   secondary_cleaner.state.floatbank6_a_level  \n",
       "0                                 -499.709414  \n",
       "1                                 -499.819438  \n",
       "2                                 -500.622559  \n",
       "3                                 -498.709987  \n",
       "4                                 -500.856333  "
      ]
     },
     "execution_count": 7,
     "metadata": {},
     "output_type": "execute_result"
    }
   ],
   "source": [
    "data_test.head()"
   ]
  },
  {
   "cell_type": "code",
   "execution_count": 8,
   "metadata": {},
   "outputs": [
    {
     "name": "stdout",
     "output_type": "stream",
     "text": [
      "<class 'pandas.core.frame.DataFrame'>\n",
      "RangeIndex: 5290 entries, 0 to 5289\n",
      "Data columns (total 53 columns):\n",
      " #   Column                                      Non-Null Count  Dtype  \n",
      "---  ------                                      --------------  -----  \n",
      " 0   date                                        5290 non-null   object \n",
      " 1   primary_cleaner.input.sulfate               5286 non-null   float64\n",
      " 2   primary_cleaner.input.depressant            5285 non-null   float64\n",
      " 3   primary_cleaner.input.feed_size             5290 non-null   float64\n",
      " 4   primary_cleaner.input.xanthate              5286 non-null   float64\n",
      " 5   primary_cleaner.state.floatbank8_a_air      5290 non-null   float64\n",
      " 6   primary_cleaner.state.floatbank8_a_level    5290 non-null   float64\n",
      " 7   primary_cleaner.state.floatbank8_b_air      5290 non-null   float64\n",
      " 8   primary_cleaner.state.floatbank8_b_level    5290 non-null   float64\n",
      " 9   primary_cleaner.state.floatbank8_c_air      5290 non-null   float64\n",
      " 10  primary_cleaner.state.floatbank8_c_level    5290 non-null   float64\n",
      " 11  primary_cleaner.state.floatbank8_d_air      5290 non-null   float64\n",
      " 12  primary_cleaner.state.floatbank8_d_level    5290 non-null   float64\n",
      " 13  rougher.input.feed_ag                       5290 non-null   float64\n",
      " 14  rougher.input.feed_pb                       5290 non-null   float64\n",
      " 15  rougher.input.feed_rate                     5287 non-null   float64\n",
      " 16  rougher.input.feed_size                     5289 non-null   float64\n",
      " 17  rougher.input.feed_sol                      5269 non-null   float64\n",
      " 18  rougher.input.feed_au                       5290 non-null   float64\n",
      " 19  rougher.input.floatbank10_sulfate           5285 non-null   float64\n",
      " 20  rougher.input.floatbank10_xanthate          5290 non-null   float64\n",
      " 21  rougher.input.floatbank11_sulfate           5282 non-null   float64\n",
      " 22  rougher.input.floatbank11_xanthate          5265 non-null   float64\n",
      " 23  rougher.state.floatbank10_a_air             5290 non-null   float64\n",
      " 24  rougher.state.floatbank10_a_level           5290 non-null   float64\n",
      " 25  rougher.state.floatbank10_b_air             5290 non-null   float64\n",
      " 26  rougher.state.floatbank10_b_level           5290 non-null   float64\n",
      " 27  rougher.state.floatbank10_c_air             5290 non-null   float64\n",
      " 28  rougher.state.floatbank10_c_level           5290 non-null   float64\n",
      " 29  rougher.state.floatbank10_d_air             5290 non-null   float64\n",
      " 30  rougher.state.floatbank10_d_level           5290 non-null   float64\n",
      " 31  rougher.state.floatbank10_e_air             5290 non-null   float64\n",
      " 32  rougher.state.floatbank10_e_level           5290 non-null   float64\n",
      " 33  rougher.state.floatbank10_f_air             5290 non-null   float64\n",
      " 34  rougher.state.floatbank10_f_level           5290 non-null   float64\n",
      " 35  secondary_cleaner.state.floatbank2_a_air    5287 non-null   float64\n",
      " 36  secondary_cleaner.state.floatbank2_a_level  5290 non-null   float64\n",
      " 37  secondary_cleaner.state.floatbank2_b_air    5288 non-null   float64\n",
      " 38  secondary_cleaner.state.floatbank2_b_level  5290 non-null   float64\n",
      " 39  secondary_cleaner.state.floatbank3_a_air    5281 non-null   float64\n",
      " 40  secondary_cleaner.state.floatbank3_a_level  5290 non-null   float64\n",
      " 41  secondary_cleaner.state.floatbank3_b_air    5290 non-null   float64\n",
      " 42  secondary_cleaner.state.floatbank3_b_level  5290 non-null   float64\n",
      " 43  secondary_cleaner.state.floatbank4_a_air    5290 non-null   float64\n",
      " 44  secondary_cleaner.state.floatbank4_a_level  5290 non-null   float64\n",
      " 45  secondary_cleaner.state.floatbank4_b_air    5290 non-null   float64\n",
      " 46  secondary_cleaner.state.floatbank4_b_level  5290 non-null   float64\n",
      " 47  secondary_cleaner.state.floatbank5_a_air    5290 non-null   float64\n",
      " 48  secondary_cleaner.state.floatbank5_a_level  5290 non-null   float64\n",
      " 49  secondary_cleaner.state.floatbank5_b_air    5290 non-null   float64\n",
      " 50  secondary_cleaner.state.floatbank5_b_level  5290 non-null   float64\n",
      " 51  secondary_cleaner.state.floatbank6_a_air    5290 non-null   float64\n",
      " 52  secondary_cleaner.state.floatbank6_a_level  5290 non-null   float64\n",
      "dtypes: float64(52), object(1)\n",
      "memory usage: 2.1+ MB\n"
     ]
    }
   ],
   "source": [
    "data_test.info()"
   ]
  },
  {
   "cell_type": "code",
   "execution_count": 9,
   "metadata": {},
   "outputs": [
    {
     "data": {
      "text/html": [
       "<div>\n",
       "<style scoped>\n",
       "    .dataframe tbody tr th:only-of-type {\n",
       "        vertical-align: middle;\n",
       "    }\n",
       "\n",
       "    .dataframe tbody tr th {\n",
       "        vertical-align: top;\n",
       "    }\n",
       "\n",
       "    .dataframe thead th {\n",
       "        text-align: right;\n",
       "    }\n",
       "</style>\n",
       "<table border=\"1\" class=\"dataframe\">\n",
       "  <thead>\n",
       "    <tr style=\"text-align: right;\">\n",
       "      <th></th>\n",
       "      <th>date</th>\n",
       "      <th>final.output.concentrate_ag</th>\n",
       "      <th>final.output.concentrate_pb</th>\n",
       "      <th>final.output.concentrate_sol</th>\n",
       "      <th>final.output.concentrate_au</th>\n",
       "      <th>final.output.recovery</th>\n",
       "      <th>final.output.tail_ag</th>\n",
       "      <th>final.output.tail_pb</th>\n",
       "      <th>final.output.tail_sol</th>\n",
       "      <th>final.output.tail_au</th>\n",
       "      <th>primary_cleaner.input.sulfate</th>\n",
       "      <th>primary_cleaner.input.depressant</th>\n",
       "      <th>primary_cleaner.input.feed_size</th>\n",
       "      <th>primary_cleaner.input.xanthate</th>\n",
       "      <th>primary_cleaner.output.concentrate_ag</th>\n",
       "      <th>primary_cleaner.output.concentrate_pb</th>\n",
       "      <th>primary_cleaner.output.concentrate_sol</th>\n",
       "      <th>primary_cleaner.output.concentrate_au</th>\n",
       "      <th>primary_cleaner.output.tail_ag</th>\n",
       "      <th>primary_cleaner.output.tail_pb</th>\n",
       "      <th>primary_cleaner.output.tail_sol</th>\n",
       "      <th>primary_cleaner.output.tail_au</th>\n",
       "      <th>primary_cleaner.state.floatbank8_a_air</th>\n",
       "      <th>primary_cleaner.state.floatbank8_a_level</th>\n",
       "      <th>primary_cleaner.state.floatbank8_b_air</th>\n",
       "      <th>primary_cleaner.state.floatbank8_b_level</th>\n",
       "      <th>primary_cleaner.state.floatbank8_c_air</th>\n",
       "      <th>primary_cleaner.state.floatbank8_c_level</th>\n",
       "      <th>primary_cleaner.state.floatbank8_d_air</th>\n",
       "      <th>primary_cleaner.state.floatbank8_d_level</th>\n",
       "      <th>rougher.calculation.sulfate_to_au_concentrate</th>\n",
       "      <th>rougher.calculation.floatbank10_sulfate_to_au_feed</th>\n",
       "      <th>rougher.calculation.floatbank11_sulfate_to_au_feed</th>\n",
       "      <th>rougher.calculation.au_pb_ratio</th>\n",
       "      <th>rougher.input.feed_ag</th>\n",
       "      <th>rougher.input.feed_pb</th>\n",
       "      <th>rougher.input.feed_rate</th>\n",
       "      <th>rougher.input.feed_size</th>\n",
       "      <th>rougher.input.feed_sol</th>\n",
       "      <th>rougher.input.feed_au</th>\n",
       "      <th>rougher.input.floatbank10_sulfate</th>\n",
       "      <th>rougher.input.floatbank10_xanthate</th>\n",
       "      <th>rougher.input.floatbank11_sulfate</th>\n",
       "      <th>rougher.input.floatbank11_xanthate</th>\n",
       "      <th>rougher.output.concentrate_ag</th>\n",
       "      <th>rougher.output.concentrate_pb</th>\n",
       "      <th>rougher.output.concentrate_sol</th>\n",
       "      <th>rougher.output.concentrate_au</th>\n",
       "      <th>rougher.output.recovery</th>\n",
       "      <th>rougher.output.tail_ag</th>\n",
       "      <th>rougher.output.tail_pb</th>\n",
       "      <th>rougher.output.tail_sol</th>\n",
       "      <th>rougher.output.tail_au</th>\n",
       "      <th>rougher.state.floatbank10_a_air</th>\n",
       "      <th>rougher.state.floatbank10_a_level</th>\n",
       "      <th>rougher.state.floatbank10_b_air</th>\n",
       "      <th>rougher.state.floatbank10_b_level</th>\n",
       "      <th>rougher.state.floatbank10_c_air</th>\n",
       "      <th>rougher.state.floatbank10_c_level</th>\n",
       "      <th>rougher.state.floatbank10_d_air</th>\n",
       "      <th>rougher.state.floatbank10_d_level</th>\n",
       "      <th>rougher.state.floatbank10_e_air</th>\n",
       "      <th>rougher.state.floatbank10_e_level</th>\n",
       "      <th>rougher.state.floatbank10_f_air</th>\n",
       "      <th>rougher.state.floatbank10_f_level</th>\n",
       "      <th>secondary_cleaner.output.tail_ag</th>\n",
       "      <th>secondary_cleaner.output.tail_pb</th>\n",
       "      <th>secondary_cleaner.output.tail_sol</th>\n",
       "      <th>secondary_cleaner.output.tail_au</th>\n",
       "      <th>secondary_cleaner.state.floatbank2_a_air</th>\n",
       "      <th>secondary_cleaner.state.floatbank2_a_level</th>\n",
       "      <th>secondary_cleaner.state.floatbank2_b_air</th>\n",
       "      <th>secondary_cleaner.state.floatbank2_b_level</th>\n",
       "      <th>secondary_cleaner.state.floatbank3_a_air</th>\n",
       "      <th>secondary_cleaner.state.floatbank3_a_level</th>\n",
       "      <th>secondary_cleaner.state.floatbank3_b_air</th>\n",
       "      <th>secondary_cleaner.state.floatbank3_b_level</th>\n",
       "      <th>secondary_cleaner.state.floatbank4_a_air</th>\n",
       "      <th>secondary_cleaner.state.floatbank4_a_level</th>\n",
       "      <th>secondary_cleaner.state.floatbank4_b_air</th>\n",
       "      <th>secondary_cleaner.state.floatbank4_b_level</th>\n",
       "      <th>secondary_cleaner.state.floatbank5_a_air</th>\n",
       "      <th>secondary_cleaner.state.floatbank5_a_level</th>\n",
       "      <th>secondary_cleaner.state.floatbank5_b_air</th>\n",
       "      <th>secondary_cleaner.state.floatbank5_b_level</th>\n",
       "      <th>secondary_cleaner.state.floatbank6_a_air</th>\n",
       "      <th>secondary_cleaner.state.floatbank6_a_level</th>\n",
       "    </tr>\n",
       "  </thead>\n",
       "  <tbody>\n",
       "    <tr>\n",
       "      <th>0</th>\n",
       "      <td>2016-01-15 00:00:00</td>\n",
       "      <td>6.055403</td>\n",
       "      <td>9.889648</td>\n",
       "      <td>5.507324</td>\n",
       "      <td>42.192020</td>\n",
       "      <td>70.541216</td>\n",
       "      <td>10.411962</td>\n",
       "      <td>0.895447</td>\n",
       "      <td>16.904297</td>\n",
       "      <td>2.143149</td>\n",
       "      <td>127.092003</td>\n",
       "      <td>10.128295</td>\n",
       "      <td>7.25</td>\n",
       "      <td>0.988759</td>\n",
       "      <td>8.547551</td>\n",
       "      <td>10.389648</td>\n",
       "      <td>19.529297</td>\n",
       "      <td>34.174427</td>\n",
       "      <td>14.936526</td>\n",
       "      <td>2.534912</td>\n",
       "      <td>7.476074</td>\n",
       "      <td>2.106679</td>\n",
       "      <td>1549.775757</td>\n",
       "      <td>-498.912140</td>\n",
       "      <td>1551.434204</td>\n",
       "      <td>-516.403442</td>\n",
       "      <td>1549.873901</td>\n",
       "      <td>-498.666595</td>\n",
       "      <td>1554.367432</td>\n",
       "      <td>-493.428131</td>\n",
       "      <td>41885.707031</td>\n",
       "      <td>3481.779053</td>\n",
       "      <td>3520.337158</td>\n",
       "      <td>2.838687</td>\n",
       "      <td>6.100378</td>\n",
       "      <td>2.284912</td>\n",
       "      <td>523.546326</td>\n",
       "      <td>55.486599</td>\n",
       "      <td>36.808594</td>\n",
       "      <td>6.486150</td>\n",
       "      <td>11.986616</td>\n",
       "      <td>6.007990</td>\n",
       "      <td>11.836743</td>\n",
       "      <td>6.005818</td>\n",
       "      <td>11.500771</td>\n",
       "      <td>7.101074</td>\n",
       "      <td>28.029297</td>\n",
       "      <td>19.793808</td>\n",
       "      <td>87.107763</td>\n",
       "      <td>5.008018</td>\n",
       "      <td>0.508728</td>\n",
       "      <td>19.154297</td>\n",
       "      <td>1.170244</td>\n",
       "      <td>999.706909</td>\n",
       "      <td>-404.066986</td>\n",
       "      <td>1603.011353</td>\n",
       "      <td>-434.715027</td>\n",
       "      <td>1602.375000</td>\n",
       "      <td>-442.204468</td>\n",
       "      <td>1598.937256</td>\n",
       "      <td>-451.294128</td>\n",
       "      <td>1404.472046</td>\n",
       "      <td>-455.462982</td>\n",
       "      <td>1416.354980</td>\n",
       "      <td>-451.939636</td>\n",
       "      <td>14.500184</td>\n",
       "      <td>4.694824</td>\n",
       "      <td>8.764648</td>\n",
       "      <td>2.606185</td>\n",
       "      <td>25.853109</td>\n",
       "      <td>-498.526489</td>\n",
       "      <td>23.893660</td>\n",
       "      <td>-501.406281</td>\n",
       "      <td>23.961798</td>\n",
       "      <td>-495.262817</td>\n",
       "      <td>21.940409</td>\n",
       "      <td>-499.340973</td>\n",
       "      <td>14.016835</td>\n",
       "      <td>-502.488007</td>\n",
       "      <td>12.099931</td>\n",
       "      <td>-504.715942</td>\n",
       "      <td>9.925633</td>\n",
       "      <td>-498.310211</td>\n",
       "      <td>8.079666</td>\n",
       "      <td>-500.470978</td>\n",
       "      <td>14.151341</td>\n",
       "      <td>-605.841980</td>\n",
       "    </tr>\n",
       "    <tr>\n",
       "      <th>1</th>\n",
       "      <td>2016-01-15 01:00:00</td>\n",
       "      <td>6.029369</td>\n",
       "      <td>9.968944</td>\n",
       "      <td>5.257781</td>\n",
       "      <td>42.701629</td>\n",
       "      <td>69.266198</td>\n",
       "      <td>10.462676</td>\n",
       "      <td>0.927452</td>\n",
       "      <td>16.634514</td>\n",
       "      <td>2.224930</td>\n",
       "      <td>125.629232</td>\n",
       "      <td>10.296251</td>\n",
       "      <td>7.25</td>\n",
       "      <td>1.002663</td>\n",
       "      <td>8.558743</td>\n",
       "      <td>10.497069</td>\n",
       "      <td>19.369147</td>\n",
       "      <td>34.118526</td>\n",
       "      <td>16.250511</td>\n",
       "      <td>3.049646</td>\n",
       "      <td>6.733907</td>\n",
       "      <td>2.353017</td>\n",
       "      <td>1576.166671</td>\n",
       "      <td>-500.904965</td>\n",
       "      <td>1575.950626</td>\n",
       "      <td>-499.865889</td>\n",
       "      <td>1575.994189</td>\n",
       "      <td>-499.315107</td>\n",
       "      <td>1574.479259</td>\n",
       "      <td>-498.931665</td>\n",
       "      <td>42050.861809</td>\n",
       "      <td>3498.370979</td>\n",
       "      <td>3489.981857</td>\n",
       "      <td>2.858998</td>\n",
       "      <td>6.161113</td>\n",
       "      <td>2.266033</td>\n",
       "      <td>525.290581</td>\n",
       "      <td>57.278666</td>\n",
       "      <td>35.753385</td>\n",
       "      <td>6.478583</td>\n",
       "      <td>11.971193</td>\n",
       "      <td>6.005766</td>\n",
       "      <td>11.996163</td>\n",
       "      <td>6.012594</td>\n",
       "      <td>11.615865</td>\n",
       "      <td>7.278807</td>\n",
       "      <td>28.067063</td>\n",
       "      <td>20.050975</td>\n",
       "      <td>86.843261</td>\n",
       "      <td>4.955378</td>\n",
       "      <td>0.536689</td>\n",
       "      <td>18.965234</td>\n",
       "      <td>1.184827</td>\n",
       "      <td>1000.286398</td>\n",
       "      <td>-400.065196</td>\n",
       "      <td>1600.754587</td>\n",
       "      <td>-449.953435</td>\n",
       "      <td>1600.479580</td>\n",
       "      <td>-449.830646</td>\n",
       "      <td>1600.527589</td>\n",
       "      <td>-449.953649</td>\n",
       "      <td>1399.227084</td>\n",
       "      <td>-450.869848</td>\n",
       "      <td>1399.719514</td>\n",
       "      <td>-450.119001</td>\n",
       "      <td>14.265474</td>\n",
       "      <td>4.592547</td>\n",
       "      <td>9.001494</td>\n",
       "      <td>2.488248</td>\n",
       "      <td>25.880539</td>\n",
       "      <td>-499.989656</td>\n",
       "      <td>23.889530</td>\n",
       "      <td>-500.372428</td>\n",
       "      <td>23.970550</td>\n",
       "      <td>-500.085473</td>\n",
       "      <td>22.085714</td>\n",
       "      <td>-499.446897</td>\n",
       "      <td>13.992281</td>\n",
       "      <td>-505.503262</td>\n",
       "      <td>11.950531</td>\n",
       "      <td>-501.331529</td>\n",
       "      <td>10.039245</td>\n",
       "      <td>-500.169983</td>\n",
       "      <td>7.984757</td>\n",
       "      <td>-500.582168</td>\n",
       "      <td>13.998353</td>\n",
       "      <td>-599.787184</td>\n",
       "    </tr>\n",
       "    <tr>\n",
       "      <th>2</th>\n",
       "      <td>2016-01-15 02:00:00</td>\n",
       "      <td>6.055926</td>\n",
       "      <td>10.213995</td>\n",
       "      <td>5.383759</td>\n",
       "      <td>42.657501</td>\n",
       "      <td>68.116445</td>\n",
       "      <td>10.507046</td>\n",
       "      <td>0.953716</td>\n",
       "      <td>16.208849</td>\n",
       "      <td>2.257889</td>\n",
       "      <td>123.819808</td>\n",
       "      <td>11.316280</td>\n",
       "      <td>7.25</td>\n",
       "      <td>0.991265</td>\n",
       "      <td>8.603505</td>\n",
       "      <td>10.354494</td>\n",
       "      <td>19.167579</td>\n",
       "      <td>33.969464</td>\n",
       "      <td>16.491823</td>\n",
       "      <td>3.124664</td>\n",
       "      <td>6.471768</td>\n",
       "      <td>2.416800</td>\n",
       "      <td>1601.556163</td>\n",
       "      <td>-499.997791</td>\n",
       "      <td>1600.386685</td>\n",
       "      <td>-500.607762</td>\n",
       "      <td>1602.003542</td>\n",
       "      <td>-500.870069</td>\n",
       "      <td>1599.541515</td>\n",
       "      <td>-499.827444</td>\n",
       "      <td>42018.101184</td>\n",
       "      <td>3495.348910</td>\n",
       "      <td>3502.359819</td>\n",
       "      <td>2.945989</td>\n",
       "      <td>6.116455</td>\n",
       "      <td>2.159622</td>\n",
       "      <td>530.026610</td>\n",
       "      <td>57.510649</td>\n",
       "      <td>35.971630</td>\n",
       "      <td>6.362222</td>\n",
       "      <td>11.920603</td>\n",
       "      <td>6.197377</td>\n",
       "      <td>11.920305</td>\n",
       "      <td>6.204633</td>\n",
       "      <td>11.695753</td>\n",
       "      <td>7.216833</td>\n",
       "      <td>27.454037</td>\n",
       "      <td>19.737170</td>\n",
       "      <td>86.842308</td>\n",
       "      <td>4.843460</td>\n",
       "      <td>0.546416</td>\n",
       "      <td>18.808533</td>\n",
       "      <td>1.162562</td>\n",
       "      <td>999.719565</td>\n",
       "      <td>-400.074028</td>\n",
       "      <td>1599.337330</td>\n",
       "      <td>-450.008530</td>\n",
       "      <td>1599.672797</td>\n",
       "      <td>-449.954491</td>\n",
       "      <td>1599.849325</td>\n",
       "      <td>-449.954185</td>\n",
       "      <td>1399.180945</td>\n",
       "      <td>-449.937588</td>\n",
       "      <td>1400.316682</td>\n",
       "      <td>-450.527147</td>\n",
       "      <td>14.115662</td>\n",
       "      <td>4.624775</td>\n",
       "      <td>8.842896</td>\n",
       "      <td>2.458187</td>\n",
       "      <td>26.005245</td>\n",
       "      <td>-499.929616</td>\n",
       "      <td>23.886657</td>\n",
       "      <td>-499.951928</td>\n",
       "      <td>23.913535</td>\n",
       "      <td>-499.442343</td>\n",
       "      <td>23.957717</td>\n",
       "      <td>-499.901982</td>\n",
       "      <td>14.015015</td>\n",
       "      <td>-502.520901</td>\n",
       "      <td>11.912783</td>\n",
       "      <td>-501.133383</td>\n",
       "      <td>10.070913</td>\n",
       "      <td>-500.129135</td>\n",
       "      <td>8.013877</td>\n",
       "      <td>-500.517572</td>\n",
       "      <td>14.028663</td>\n",
       "      <td>-601.427363</td>\n",
       "    </tr>\n",
       "    <tr>\n",
       "      <th>3</th>\n",
       "      <td>2016-01-15 03:00:00</td>\n",
       "      <td>6.047977</td>\n",
       "      <td>9.977019</td>\n",
       "      <td>4.858634</td>\n",
       "      <td>42.689819</td>\n",
       "      <td>68.347543</td>\n",
       "      <td>10.422762</td>\n",
       "      <td>0.883763</td>\n",
       "      <td>16.532835</td>\n",
       "      <td>2.146849</td>\n",
       "      <td>122.270188</td>\n",
       "      <td>11.322140</td>\n",
       "      <td>7.25</td>\n",
       "      <td>0.996739</td>\n",
       "      <td>7.221879</td>\n",
       "      <td>8.496563</td>\n",
       "      <td>15.978538</td>\n",
       "      <td>28.260743</td>\n",
       "      <td>16.024359</td>\n",
       "      <td>2.960362</td>\n",
       "      <td>6.843791</td>\n",
       "      <td>2.262051</td>\n",
       "      <td>1599.968720</td>\n",
       "      <td>-500.951778</td>\n",
       "      <td>1600.659236</td>\n",
       "      <td>-499.677094</td>\n",
       "      <td>1600.304144</td>\n",
       "      <td>-500.727997</td>\n",
       "      <td>1600.449520</td>\n",
       "      <td>-500.052575</td>\n",
       "      <td>42029.447991</td>\n",
       "      <td>3498.578313</td>\n",
       "      <td>3499.162912</td>\n",
       "      <td>3.002340</td>\n",
       "      <td>6.043309</td>\n",
       "      <td>2.037807</td>\n",
       "      <td>542.590390</td>\n",
       "      <td>57.792734</td>\n",
       "      <td>36.862241</td>\n",
       "      <td>6.118189</td>\n",
       "      <td>11.630094</td>\n",
       "      <td>6.203177</td>\n",
       "      <td>11.692450</td>\n",
       "      <td>6.196578</td>\n",
       "      <td>11.915047</td>\n",
       "      <td>7.175616</td>\n",
       "      <td>27.341277</td>\n",
       "      <td>19.320810</td>\n",
       "      <td>87.226430</td>\n",
       "      <td>4.655288</td>\n",
       "      <td>0.542525</td>\n",
       "      <td>19.330200</td>\n",
       "      <td>1.079755</td>\n",
       "      <td>999.814770</td>\n",
       "      <td>-400.200179</td>\n",
       "      <td>1600.059442</td>\n",
       "      <td>-450.619948</td>\n",
       "      <td>1600.012842</td>\n",
       "      <td>-449.910497</td>\n",
       "      <td>1597.725177</td>\n",
       "      <td>-450.130127</td>\n",
       "      <td>1400.943157</td>\n",
       "      <td>-450.030142</td>\n",
       "      <td>1400.234743</td>\n",
       "      <td>-449.790835</td>\n",
       "      <td>13.732071</td>\n",
       "      <td>4.482453</td>\n",
       "      <td>9.122857</td>\n",
       "      <td>2.322062</td>\n",
       "      <td>25.942508</td>\n",
       "      <td>-499.176749</td>\n",
       "      <td>23.955516</td>\n",
       "      <td>-499.848796</td>\n",
       "      <td>23.966838</td>\n",
       "      <td>-500.008812</td>\n",
       "      <td>23.954443</td>\n",
       "      <td>-499.944710</td>\n",
       "      <td>14.036510</td>\n",
       "      <td>-500.857308</td>\n",
       "      <td>11.999550</td>\n",
       "      <td>-501.193686</td>\n",
       "      <td>9.970366</td>\n",
       "      <td>-499.201640</td>\n",
       "      <td>7.977324</td>\n",
       "      <td>-500.255908</td>\n",
       "      <td>14.005551</td>\n",
       "      <td>-599.996129</td>\n",
       "    </tr>\n",
       "    <tr>\n",
       "      <th>4</th>\n",
       "      <td>2016-01-15 04:00:00</td>\n",
       "      <td>6.148599</td>\n",
       "      <td>10.142511</td>\n",
       "      <td>4.939416</td>\n",
       "      <td>42.774141</td>\n",
       "      <td>66.927016</td>\n",
       "      <td>10.360302</td>\n",
       "      <td>0.792826</td>\n",
       "      <td>16.525686</td>\n",
       "      <td>2.055292</td>\n",
       "      <td>117.988169</td>\n",
       "      <td>11.913613</td>\n",
       "      <td>7.25</td>\n",
       "      <td>1.009869</td>\n",
       "      <td>9.089428</td>\n",
       "      <td>9.986786</td>\n",
       "      <td>19.199864</td>\n",
       "      <td>33.044932</td>\n",
       "      <td>16.480185</td>\n",
       "      <td>3.112100</td>\n",
       "      <td>6.550154</td>\n",
       "      <td>2.277073</td>\n",
       "      <td>1601.339707</td>\n",
       "      <td>-498.975456</td>\n",
       "      <td>1601.437854</td>\n",
       "      <td>-500.323246</td>\n",
       "      <td>1599.581894</td>\n",
       "      <td>-500.888152</td>\n",
       "      <td>1602.649541</td>\n",
       "      <td>-500.593010</td>\n",
       "      <td>42125.354245</td>\n",
       "      <td>3494.800771</td>\n",
       "      <td>3506.679315</td>\n",
       "      <td>3.169615</td>\n",
       "      <td>6.060915</td>\n",
       "      <td>1.786875</td>\n",
       "      <td>540.531893</td>\n",
       "      <td>56.047189</td>\n",
       "      <td>34.347666</td>\n",
       "      <td>5.663707</td>\n",
       "      <td>10.957755</td>\n",
       "      <td>6.198826</td>\n",
       "      <td>10.960521</td>\n",
       "      <td>6.194897</td>\n",
       "      <td>12.411054</td>\n",
       "      <td>7.240205</td>\n",
       "      <td>27.041023</td>\n",
       "      <td>19.216101</td>\n",
       "      <td>86.688794</td>\n",
       "      <td>4.552800</td>\n",
       "      <td>0.515438</td>\n",
       "      <td>19.267422</td>\n",
       "      <td>1.012642</td>\n",
       "      <td>999.678690</td>\n",
       "      <td>-399.752729</td>\n",
       "      <td>1600.208824</td>\n",
       "      <td>-449.599614</td>\n",
       "      <td>1600.357732</td>\n",
       "      <td>-450.034364</td>\n",
       "      <td>1599.759049</td>\n",
       "      <td>-449.909799</td>\n",
       "      <td>1401.560902</td>\n",
       "      <td>-448.877187</td>\n",
       "      <td>1401.160227</td>\n",
       "      <td>-450.407128</td>\n",
       "      <td>14.079996</td>\n",
       "      <td>4.470737</td>\n",
       "      <td>8.871028</td>\n",
       "      <td>2.330448</td>\n",
       "      <td>26.024787</td>\n",
       "      <td>-500.279091</td>\n",
       "      <td>23.955345</td>\n",
       "      <td>-500.593614</td>\n",
       "      <td>23.985703</td>\n",
       "      <td>-500.083811</td>\n",
       "      <td>23.958945</td>\n",
       "      <td>-499.990309</td>\n",
       "      <td>14.027298</td>\n",
       "      <td>-499.838632</td>\n",
       "      <td>11.953070</td>\n",
       "      <td>-501.053894</td>\n",
       "      <td>9.925709</td>\n",
       "      <td>-501.686727</td>\n",
       "      <td>7.894242</td>\n",
       "      <td>-500.356035</td>\n",
       "      <td>13.996647</td>\n",
       "      <td>-601.496691</td>\n",
       "    </tr>\n",
       "  </tbody>\n",
       "</table>\n",
       "</div>"
      ],
      "text/plain": [
       "                  date  final.output.concentrate_ag  \\\n",
       "0  2016-01-15 00:00:00                     6.055403   \n",
       "1  2016-01-15 01:00:00                     6.029369   \n",
       "2  2016-01-15 02:00:00                     6.055926   \n",
       "3  2016-01-15 03:00:00                     6.047977   \n",
       "4  2016-01-15 04:00:00                     6.148599   \n",
       "\n",
       "   final.output.concentrate_pb  final.output.concentrate_sol  \\\n",
       "0                     9.889648                      5.507324   \n",
       "1                     9.968944                      5.257781   \n",
       "2                    10.213995                      5.383759   \n",
       "3                     9.977019                      4.858634   \n",
       "4                    10.142511                      4.939416   \n",
       "\n",
       "   final.output.concentrate_au  final.output.recovery  final.output.tail_ag  \\\n",
       "0                    42.192020              70.541216             10.411962   \n",
       "1                    42.701629              69.266198             10.462676   \n",
       "2                    42.657501              68.116445             10.507046   \n",
       "3                    42.689819              68.347543             10.422762   \n",
       "4                    42.774141              66.927016             10.360302   \n",
       "\n",
       "   final.output.tail_pb  final.output.tail_sol  final.output.tail_au  \\\n",
       "0              0.895447              16.904297              2.143149   \n",
       "1              0.927452              16.634514              2.224930   \n",
       "2              0.953716              16.208849              2.257889   \n",
       "3              0.883763              16.532835              2.146849   \n",
       "4              0.792826              16.525686              2.055292   \n",
       "\n",
       "   primary_cleaner.input.sulfate  primary_cleaner.input.depressant  \\\n",
       "0                     127.092003                         10.128295   \n",
       "1                     125.629232                         10.296251   \n",
       "2                     123.819808                         11.316280   \n",
       "3                     122.270188                         11.322140   \n",
       "4                     117.988169                         11.913613   \n",
       "\n",
       "   primary_cleaner.input.feed_size  primary_cleaner.input.xanthate  \\\n",
       "0                             7.25                        0.988759   \n",
       "1                             7.25                        1.002663   \n",
       "2                             7.25                        0.991265   \n",
       "3                             7.25                        0.996739   \n",
       "4                             7.25                        1.009869   \n",
       "\n",
       "   primary_cleaner.output.concentrate_ag  \\\n",
       "0                               8.547551   \n",
       "1                               8.558743   \n",
       "2                               8.603505   \n",
       "3                               7.221879   \n",
       "4                               9.089428   \n",
       "\n",
       "   primary_cleaner.output.concentrate_pb  \\\n",
       "0                              10.389648   \n",
       "1                              10.497069   \n",
       "2                              10.354494   \n",
       "3                               8.496563   \n",
       "4                               9.986786   \n",
       "\n",
       "   primary_cleaner.output.concentrate_sol  \\\n",
       "0                               19.529297   \n",
       "1                               19.369147   \n",
       "2                               19.167579   \n",
       "3                               15.978538   \n",
       "4                               19.199864   \n",
       "\n",
       "   primary_cleaner.output.concentrate_au  primary_cleaner.output.tail_ag  \\\n",
       "0                              34.174427                       14.936526   \n",
       "1                              34.118526                       16.250511   \n",
       "2                              33.969464                       16.491823   \n",
       "3                              28.260743                       16.024359   \n",
       "4                              33.044932                       16.480185   \n",
       "\n",
       "   primary_cleaner.output.tail_pb  primary_cleaner.output.tail_sol  \\\n",
       "0                        2.534912                         7.476074   \n",
       "1                        3.049646                         6.733907   \n",
       "2                        3.124664                         6.471768   \n",
       "3                        2.960362                         6.843791   \n",
       "4                        3.112100                         6.550154   \n",
       "\n",
       "   primary_cleaner.output.tail_au  primary_cleaner.state.floatbank8_a_air  \\\n",
       "0                        2.106679                             1549.775757   \n",
       "1                        2.353017                             1576.166671   \n",
       "2                        2.416800                             1601.556163   \n",
       "3                        2.262051                             1599.968720   \n",
       "4                        2.277073                             1601.339707   \n",
       "\n",
       "   primary_cleaner.state.floatbank8_a_level  \\\n",
       "0                               -498.912140   \n",
       "1                               -500.904965   \n",
       "2                               -499.997791   \n",
       "3                               -500.951778   \n",
       "4                               -498.975456   \n",
       "\n",
       "   primary_cleaner.state.floatbank8_b_air  \\\n",
       "0                             1551.434204   \n",
       "1                             1575.950626   \n",
       "2                             1600.386685   \n",
       "3                             1600.659236   \n",
       "4                             1601.437854   \n",
       "\n",
       "   primary_cleaner.state.floatbank8_b_level  \\\n",
       "0                               -516.403442   \n",
       "1                               -499.865889   \n",
       "2                               -500.607762   \n",
       "3                               -499.677094   \n",
       "4                               -500.323246   \n",
       "\n",
       "   primary_cleaner.state.floatbank8_c_air  \\\n",
       "0                             1549.873901   \n",
       "1                             1575.994189   \n",
       "2                             1602.003542   \n",
       "3                             1600.304144   \n",
       "4                             1599.581894   \n",
       "\n",
       "   primary_cleaner.state.floatbank8_c_level  \\\n",
       "0                               -498.666595   \n",
       "1                               -499.315107   \n",
       "2                               -500.870069   \n",
       "3                               -500.727997   \n",
       "4                               -500.888152   \n",
       "\n",
       "   primary_cleaner.state.floatbank8_d_air  \\\n",
       "0                             1554.367432   \n",
       "1                             1574.479259   \n",
       "2                             1599.541515   \n",
       "3                             1600.449520   \n",
       "4                             1602.649541   \n",
       "\n",
       "   primary_cleaner.state.floatbank8_d_level  \\\n",
       "0                               -493.428131   \n",
       "1                               -498.931665   \n",
       "2                               -499.827444   \n",
       "3                               -500.052575   \n",
       "4                               -500.593010   \n",
       "\n",
       "   rougher.calculation.sulfate_to_au_concentrate  \\\n",
       "0                                   41885.707031   \n",
       "1                                   42050.861809   \n",
       "2                                   42018.101184   \n",
       "3                                   42029.447991   \n",
       "4                                   42125.354245   \n",
       "\n",
       "   rougher.calculation.floatbank10_sulfate_to_au_feed  \\\n",
       "0                                        3481.779053    \n",
       "1                                        3498.370979    \n",
       "2                                        3495.348910    \n",
       "3                                        3498.578313    \n",
       "4                                        3494.800771    \n",
       "\n",
       "   rougher.calculation.floatbank11_sulfate_to_au_feed  \\\n",
       "0                                        3520.337158    \n",
       "1                                        3489.981857    \n",
       "2                                        3502.359819    \n",
       "3                                        3499.162912    \n",
       "4                                        3506.679315    \n",
       "\n",
       "   rougher.calculation.au_pb_ratio  rougher.input.feed_ag  \\\n",
       "0                         2.838687               6.100378   \n",
       "1                         2.858998               6.161113   \n",
       "2                         2.945989               6.116455   \n",
       "3                         3.002340               6.043309   \n",
       "4                         3.169615               6.060915   \n",
       "\n",
       "   rougher.input.feed_pb  rougher.input.feed_rate  rougher.input.feed_size  \\\n",
       "0               2.284912               523.546326                55.486599   \n",
       "1               2.266033               525.290581                57.278666   \n",
       "2               2.159622               530.026610                57.510649   \n",
       "3               2.037807               542.590390                57.792734   \n",
       "4               1.786875               540.531893                56.047189   \n",
       "\n",
       "   rougher.input.feed_sol  rougher.input.feed_au  \\\n",
       "0               36.808594               6.486150   \n",
       "1               35.753385               6.478583   \n",
       "2               35.971630               6.362222   \n",
       "3               36.862241               6.118189   \n",
       "4               34.347666               5.663707   \n",
       "\n",
       "   rougher.input.floatbank10_sulfate  rougher.input.floatbank10_xanthate  \\\n",
       "0                          11.986616                            6.007990   \n",
       "1                          11.971193                            6.005766   \n",
       "2                          11.920603                            6.197377   \n",
       "3                          11.630094                            6.203177   \n",
       "4                          10.957755                            6.198826   \n",
       "\n",
       "   rougher.input.floatbank11_sulfate  rougher.input.floatbank11_xanthate  \\\n",
       "0                          11.836743                            6.005818   \n",
       "1                          11.996163                            6.012594   \n",
       "2                          11.920305                            6.204633   \n",
       "3                          11.692450                            6.196578   \n",
       "4                          10.960521                            6.194897   \n",
       "\n",
       "   rougher.output.concentrate_ag  rougher.output.concentrate_pb  \\\n",
       "0                      11.500771                       7.101074   \n",
       "1                      11.615865                       7.278807   \n",
       "2                      11.695753                       7.216833   \n",
       "3                      11.915047                       7.175616   \n",
       "4                      12.411054                       7.240205   \n",
       "\n",
       "   rougher.output.concentrate_sol  rougher.output.concentrate_au  \\\n",
       "0                       28.029297                      19.793808   \n",
       "1                       28.067063                      20.050975   \n",
       "2                       27.454037                      19.737170   \n",
       "3                       27.341277                      19.320810   \n",
       "4                       27.041023                      19.216101   \n",
       "\n",
       "   rougher.output.recovery  rougher.output.tail_ag  rougher.output.tail_pb  \\\n",
       "0                87.107763                5.008018                0.508728   \n",
       "1                86.843261                4.955378                0.536689   \n",
       "2                86.842308                4.843460                0.546416   \n",
       "3                87.226430                4.655288                0.542525   \n",
       "4                86.688794                4.552800                0.515438   \n",
       "\n",
       "   rougher.output.tail_sol  rougher.output.tail_au  \\\n",
       "0                19.154297                1.170244   \n",
       "1                18.965234                1.184827   \n",
       "2                18.808533                1.162562   \n",
       "3                19.330200                1.079755   \n",
       "4                19.267422                1.012642   \n",
       "\n",
       "   rougher.state.floatbank10_a_air  rougher.state.floatbank10_a_level  \\\n",
       "0                       999.706909                        -404.066986   \n",
       "1                      1000.286398                        -400.065196   \n",
       "2                       999.719565                        -400.074028   \n",
       "3                       999.814770                        -400.200179   \n",
       "4                       999.678690                        -399.752729   \n",
       "\n",
       "   rougher.state.floatbank10_b_air  rougher.state.floatbank10_b_level  \\\n",
       "0                      1603.011353                        -434.715027   \n",
       "1                      1600.754587                        -449.953435   \n",
       "2                      1599.337330                        -450.008530   \n",
       "3                      1600.059442                        -450.619948   \n",
       "4                      1600.208824                        -449.599614   \n",
       "\n",
       "   rougher.state.floatbank10_c_air  rougher.state.floatbank10_c_level  \\\n",
       "0                      1602.375000                        -442.204468   \n",
       "1                      1600.479580                        -449.830646   \n",
       "2                      1599.672797                        -449.954491   \n",
       "3                      1600.012842                        -449.910497   \n",
       "4                      1600.357732                        -450.034364   \n",
       "\n",
       "   rougher.state.floatbank10_d_air  rougher.state.floatbank10_d_level  \\\n",
       "0                      1598.937256                        -451.294128   \n",
       "1                      1600.527589                        -449.953649   \n",
       "2                      1599.849325                        -449.954185   \n",
       "3                      1597.725177                        -450.130127   \n",
       "4                      1599.759049                        -449.909799   \n",
       "\n",
       "   rougher.state.floatbank10_e_air  rougher.state.floatbank10_e_level  \\\n",
       "0                      1404.472046                        -455.462982   \n",
       "1                      1399.227084                        -450.869848   \n",
       "2                      1399.180945                        -449.937588   \n",
       "3                      1400.943157                        -450.030142   \n",
       "4                      1401.560902                        -448.877187   \n",
       "\n",
       "   rougher.state.floatbank10_f_air  rougher.state.floatbank10_f_level  \\\n",
       "0                      1416.354980                        -451.939636   \n",
       "1                      1399.719514                        -450.119001   \n",
       "2                      1400.316682                        -450.527147   \n",
       "3                      1400.234743                        -449.790835   \n",
       "4                      1401.160227                        -450.407128   \n",
       "\n",
       "   secondary_cleaner.output.tail_ag  secondary_cleaner.output.tail_pb  \\\n",
       "0                         14.500184                          4.694824   \n",
       "1                         14.265474                          4.592547   \n",
       "2                         14.115662                          4.624775   \n",
       "3                         13.732071                          4.482453   \n",
       "4                         14.079996                          4.470737   \n",
       "\n",
       "   secondary_cleaner.output.tail_sol  secondary_cleaner.output.tail_au  \\\n",
       "0                           8.764648                          2.606185   \n",
       "1                           9.001494                          2.488248   \n",
       "2                           8.842896                          2.458187   \n",
       "3                           9.122857                          2.322062   \n",
       "4                           8.871028                          2.330448   \n",
       "\n",
       "   secondary_cleaner.state.floatbank2_a_air  \\\n",
       "0                                 25.853109   \n",
       "1                                 25.880539   \n",
       "2                                 26.005245   \n",
       "3                                 25.942508   \n",
       "4                                 26.024787   \n",
       "\n",
       "   secondary_cleaner.state.floatbank2_a_level  \\\n",
       "0                                 -498.526489   \n",
       "1                                 -499.989656   \n",
       "2                                 -499.929616   \n",
       "3                                 -499.176749   \n",
       "4                                 -500.279091   \n",
       "\n",
       "   secondary_cleaner.state.floatbank2_b_air  \\\n",
       "0                                 23.893660   \n",
       "1                                 23.889530   \n",
       "2                                 23.886657   \n",
       "3                                 23.955516   \n",
       "4                                 23.955345   \n",
       "\n",
       "   secondary_cleaner.state.floatbank2_b_level  \\\n",
       "0                                 -501.406281   \n",
       "1                                 -500.372428   \n",
       "2                                 -499.951928   \n",
       "3                                 -499.848796   \n",
       "4                                 -500.593614   \n",
       "\n",
       "   secondary_cleaner.state.floatbank3_a_air  \\\n",
       "0                                 23.961798   \n",
       "1                                 23.970550   \n",
       "2                                 23.913535   \n",
       "3                                 23.966838   \n",
       "4                                 23.985703   \n",
       "\n",
       "   secondary_cleaner.state.floatbank3_a_level  \\\n",
       "0                                 -495.262817   \n",
       "1                                 -500.085473   \n",
       "2                                 -499.442343   \n",
       "3                                 -500.008812   \n",
       "4                                 -500.083811   \n",
       "\n",
       "   secondary_cleaner.state.floatbank3_b_air  \\\n",
       "0                                 21.940409   \n",
       "1                                 22.085714   \n",
       "2                                 23.957717   \n",
       "3                                 23.954443   \n",
       "4                                 23.958945   \n",
       "\n",
       "   secondary_cleaner.state.floatbank3_b_level  \\\n",
       "0                                 -499.340973   \n",
       "1                                 -499.446897   \n",
       "2                                 -499.901982   \n",
       "3                                 -499.944710   \n",
       "4                                 -499.990309   \n",
       "\n",
       "   secondary_cleaner.state.floatbank4_a_air  \\\n",
       "0                                 14.016835   \n",
       "1                                 13.992281   \n",
       "2                                 14.015015   \n",
       "3                                 14.036510   \n",
       "4                                 14.027298   \n",
       "\n",
       "   secondary_cleaner.state.floatbank4_a_level  \\\n",
       "0                                 -502.488007   \n",
       "1                                 -505.503262   \n",
       "2                                 -502.520901   \n",
       "3                                 -500.857308   \n",
       "4                                 -499.838632   \n",
       "\n",
       "   secondary_cleaner.state.floatbank4_b_air  \\\n",
       "0                                 12.099931   \n",
       "1                                 11.950531   \n",
       "2                                 11.912783   \n",
       "3                                 11.999550   \n",
       "4                                 11.953070   \n",
       "\n",
       "   secondary_cleaner.state.floatbank4_b_level  \\\n",
       "0                                 -504.715942   \n",
       "1                                 -501.331529   \n",
       "2                                 -501.133383   \n",
       "3                                 -501.193686   \n",
       "4                                 -501.053894   \n",
       "\n",
       "   secondary_cleaner.state.floatbank5_a_air  \\\n",
       "0                                  9.925633   \n",
       "1                                 10.039245   \n",
       "2                                 10.070913   \n",
       "3                                  9.970366   \n",
       "4                                  9.925709   \n",
       "\n",
       "   secondary_cleaner.state.floatbank5_a_level  \\\n",
       "0                                 -498.310211   \n",
       "1                                 -500.169983   \n",
       "2                                 -500.129135   \n",
       "3                                 -499.201640   \n",
       "4                                 -501.686727   \n",
       "\n",
       "   secondary_cleaner.state.floatbank5_b_air  \\\n",
       "0                                  8.079666   \n",
       "1                                  7.984757   \n",
       "2                                  8.013877   \n",
       "3                                  7.977324   \n",
       "4                                  7.894242   \n",
       "\n",
       "   secondary_cleaner.state.floatbank5_b_level  \\\n",
       "0                                 -500.470978   \n",
       "1                                 -500.582168   \n",
       "2                                 -500.517572   \n",
       "3                                 -500.255908   \n",
       "4                                 -500.356035   \n",
       "\n",
       "   secondary_cleaner.state.floatbank6_a_air  \\\n",
       "0                                 14.151341   \n",
       "1                                 13.998353   \n",
       "2                                 14.028663   \n",
       "3                                 14.005551   \n",
       "4                                 13.996647   \n",
       "\n",
       "   secondary_cleaner.state.floatbank6_a_level  \n",
       "0                                 -605.841980  \n",
       "1                                 -599.787184  \n",
       "2                                 -601.427363  \n",
       "3                                 -599.996129  \n",
       "4                                 -601.496691  "
      ]
     },
     "execution_count": 9,
     "metadata": {},
     "output_type": "execute_result"
    }
   ],
   "source": [
    "data_full.head()"
   ]
  },
  {
   "cell_type": "code",
   "execution_count": 10,
   "metadata": {},
   "outputs": [
    {
     "name": "stdout",
     "output_type": "stream",
     "text": [
      "<class 'pandas.core.frame.DataFrame'>\n",
      "RangeIndex: 19439 entries, 0 to 19438\n",
      "Data columns (total 87 columns):\n",
      " #   Column                                              Non-Null Count  Dtype  \n",
      "---  ------                                              --------------  -----  \n",
      " 0   date                                                19439 non-null  object \n",
      " 1   final.output.concentrate_ag                         19438 non-null  float64\n",
      " 2   final.output.concentrate_pb                         19438 non-null  float64\n",
      " 3   final.output.concentrate_sol                        19228 non-null  float64\n",
      " 4   final.output.concentrate_au                         19439 non-null  float64\n",
      " 5   final.output.recovery                               19439 non-null  float64\n",
      " 6   final.output.tail_ag                                19438 non-null  float64\n",
      " 7   final.output.tail_pb                                19338 non-null  float64\n",
      " 8   final.output.tail_sol                               19433 non-null  float64\n",
      " 9   final.output.tail_au                                19439 non-null  float64\n",
      " 10  primary_cleaner.input.sulfate                       19415 non-null  float64\n",
      " 11  primary_cleaner.input.depressant                    19402 non-null  float64\n",
      " 12  primary_cleaner.input.feed_size                     19439 non-null  float64\n",
      " 13  primary_cleaner.input.xanthate                      19335 non-null  float64\n",
      " 14  primary_cleaner.output.concentrate_ag               19439 non-null  float64\n",
      " 15  primary_cleaner.output.concentrate_pb               19323 non-null  float64\n",
      " 16  primary_cleaner.output.concentrate_sol              19069 non-null  float64\n",
      " 17  primary_cleaner.output.concentrate_au               19439 non-null  float64\n",
      " 18  primary_cleaner.output.tail_ag                      19435 non-null  float64\n",
      " 19  primary_cleaner.output.tail_pb                      19418 non-null  float64\n",
      " 20  primary_cleaner.output.tail_sol                     19377 non-null  float64\n",
      " 21  primary_cleaner.output.tail_au                      19439 non-null  float64\n",
      " 22  primary_cleaner.state.floatbank8_a_air              19435 non-null  float64\n",
      " 23  primary_cleaner.state.floatbank8_a_level            19438 non-null  float64\n",
      " 24  primary_cleaner.state.floatbank8_b_air              19435 non-null  float64\n",
      " 25  primary_cleaner.state.floatbank8_b_level            19438 non-null  float64\n",
      " 26  primary_cleaner.state.floatbank8_c_air              19437 non-null  float64\n",
      " 27  primary_cleaner.state.floatbank8_c_level            19438 non-null  float64\n",
      " 28  primary_cleaner.state.floatbank8_d_air              19436 non-null  float64\n",
      " 29  primary_cleaner.state.floatbank8_d_level            19438 non-null  float64\n",
      " 30  rougher.calculation.sulfate_to_au_concentrate       19437 non-null  float64\n",
      " 31  rougher.calculation.floatbank10_sulfate_to_au_feed  19437 non-null  float64\n",
      " 32  rougher.calculation.floatbank11_sulfate_to_au_feed  19437 non-null  float64\n",
      " 33  rougher.calculation.au_pb_ratio                     19439 non-null  float64\n",
      " 34  rougher.input.feed_ag                               19439 non-null  float64\n",
      " 35  rougher.input.feed_pb                               19339 non-null  float64\n",
      " 36  rougher.input.feed_rate                             19428 non-null  float64\n",
      " 37  rougher.input.feed_size                             19294 non-null  float64\n",
      " 38  rougher.input.feed_sol                              19340 non-null  float64\n",
      " 39  rougher.input.feed_au                               19439 non-null  float64\n",
      " 40  rougher.input.floatbank10_sulfate                   19405 non-null  float64\n",
      " 41  rougher.input.floatbank10_xanthate                  19431 non-null  float64\n",
      " 42  rougher.input.floatbank11_sulfate                   19395 non-null  float64\n",
      " 43  rougher.input.floatbank11_xanthate                  18986 non-null  float64\n",
      " 44  rougher.output.concentrate_ag                       19439 non-null  float64\n",
      " 45  rougher.output.concentrate_pb                       19439 non-null  float64\n",
      " 46  rougher.output.concentrate_sol                      19416 non-null  float64\n",
      " 47  rougher.output.concentrate_au                       19439 non-null  float64\n",
      " 48  rougher.output.recovery                             19439 non-null  float64\n",
      " 49  rougher.output.tail_ag                              19438 non-null  float64\n",
      " 50  rougher.output.tail_pb                              19439 non-null  float64\n",
      " 51  rougher.output.tail_sol                             19439 non-null  float64\n",
      " 52  rougher.output.tail_au                              19439 non-null  float64\n",
      " 53  rougher.state.floatbank10_a_air                     19438 non-null  float64\n",
      " 54  rougher.state.floatbank10_a_level                   19438 non-null  float64\n",
      " 55  rougher.state.floatbank10_b_air                     19438 non-null  float64\n",
      " 56  rougher.state.floatbank10_b_level                   19438 non-null  float64\n",
      " 57  rougher.state.floatbank10_c_air                     19438 non-null  float64\n",
      " 58  rougher.state.floatbank10_c_level                   19438 non-null  float64\n",
      " 59  rougher.state.floatbank10_d_air                     19439 non-null  float64\n",
      " 60  rougher.state.floatbank10_d_level                   19439 non-null  float64\n",
      " 61  rougher.state.floatbank10_e_air                     19003 non-null  float64\n",
      " 62  rougher.state.floatbank10_e_level                   19439 non-null  float64\n",
      " 63  rougher.state.floatbank10_f_air                     19439 non-null  float64\n",
      " 64  rougher.state.floatbank10_f_level                   19439 non-null  float64\n",
      " 65  secondary_cleaner.output.tail_ag                    19437 non-null  float64\n",
      " 66  secondary_cleaner.output.tail_pb                    19427 non-null  float64\n",
      " 67  secondary_cleaner.output.tail_sol                   17691 non-null  float64\n",
      " 68  secondary_cleaner.output.tail_au                    19439 non-null  float64\n",
      " 69  secondary_cleaner.state.floatbank2_a_air            19219 non-null  float64\n",
      " 70  secondary_cleaner.state.floatbank2_a_level          19438 non-null  float64\n",
      " 71  secondary_cleaner.state.floatbank2_b_air            19416 non-null  float64\n",
      " 72  secondary_cleaner.state.floatbank2_b_level          19438 non-null  float64\n",
      " 73  secondary_cleaner.state.floatbank3_a_air            19426 non-null  float64\n",
      " 74  secondary_cleaner.state.floatbank3_a_level          19438 non-null  float64\n",
      " 75  secondary_cleaner.state.floatbank3_b_air            19438 non-null  float64\n",
      " 76  secondary_cleaner.state.floatbank3_b_level          19438 non-null  float64\n",
      " 77  secondary_cleaner.state.floatbank4_a_air            19433 non-null  float64\n",
      " 78  secondary_cleaner.state.floatbank4_a_level          19438 non-null  float64\n",
      " 79  secondary_cleaner.state.floatbank4_b_air            19438 non-null  float64\n",
      " 80  secondary_cleaner.state.floatbank4_b_level          19438 non-null  float64\n",
      " 81  secondary_cleaner.state.floatbank5_a_air            19438 non-null  float64\n",
      " 82  secondary_cleaner.state.floatbank5_a_level          19438 non-null  float64\n",
      " 83  secondary_cleaner.state.floatbank5_b_air            19438 non-null  float64\n",
      " 84  secondary_cleaner.state.floatbank5_b_level          19438 non-null  float64\n",
      " 85  secondary_cleaner.state.floatbank6_a_air            19437 non-null  float64\n",
      " 86  secondary_cleaner.state.floatbank6_a_level          19438 non-null  float64\n",
      "dtypes: float64(86), object(1)\n",
      "memory usage: 12.9+ MB\n"
     ]
    }
   ],
   "source": [
    "data_full.info()"
   ]
  },
  {
   "cell_type": "markdown",
   "metadata": {},
   "source": [
    "После изучения данных можно подметить, что все датафреймы имеют пропуски, с которыми мы будем бороться чуть позже. Также столбец `date` имеет тип данных `object`, а не `datetime`, что может помешать правильной сортировке по дате."
   ]
  },
  {
   "cell_type": "markdown",
   "metadata": {},
   "source": [
    "### 1.2 Проверка расчёта эффективности обогащения"
   ]
  },
  {
   "cell_type": "code",
   "execution_count": 11,
   "metadata": {
    "scrolled": true
   },
   "outputs": [
    {
     "data": {
      "text/plain": [
       "0    87.107763\n",
       "1    86.843261\n",
       "2    86.842308\n",
       "3    87.226430\n",
       "4    86.688794\n",
       "dtype: float64"
      ]
     },
     "execution_count": 11,
     "metadata": {},
     "output_type": "execute_result"
    }
   ],
   "source": [
    "handly_rougher_output_recovery = ((data_train['rougher.output.concentrate_au'] * \n",
    "                                   (data_train['rougher.input.feed_au'] - \n",
    "                                    data_train['rougher.output.tail_au'])) / \n",
    "                                  (data_train['rougher.input.feed_au'] * \n",
    "                                   (data_train['rougher.output.concentrate_au'] - \n",
    "                                    data_train['rougher.output.tail_au']))) * 100\n",
    "handly_rougher_output_recovery[:5]"
   ]
  },
  {
   "cell_type": "code",
   "execution_count": 12,
   "metadata": {},
   "outputs": [
    {
     "data": {
      "text/plain": [
       "9.73512347450521e-15"
      ]
     },
     "execution_count": 12,
     "metadata": {},
     "output_type": "execute_result"
    }
   ],
   "source": [
    "mae = mean_absolute_error(handly_rougher_output_recovery, \n",
    "                          data_train['rougher.output.recovery'])\n",
    "mae"
   ]
  },
  {
   "cell_type": "markdown",
   "metadata": {},
   "source": [
    "MAE стремится к нулю, что говорит нам о правильном расчёте эффективности обогащения."
   ]
  },
  {
   "cell_type": "markdown",
   "metadata": {},
   "source": [
    "### 1.3 Анализ признаков, недоступных в тестовой выборке"
   ]
  },
  {
   "cell_type": "code",
   "execution_count": 13,
   "metadata": {},
   "outputs": [],
   "source": [
    "train_cols = data_train.columns\n",
    "test_cols = data_test.columns"
   ]
  },
  {
   "cell_type": "code",
   "execution_count": 14,
   "metadata": {
    "scrolled": true
   },
   "outputs": [
    {
     "data": {
      "text/plain": [
       "['final.output.concentrate_ag',\n",
       " 'final.output.concentrate_au',\n",
       " 'final.output.concentrate_pb',\n",
       " 'final.output.concentrate_sol',\n",
       " 'final.output.recovery',\n",
       " 'final.output.tail_ag',\n",
       " 'final.output.tail_au',\n",
       " 'final.output.tail_pb',\n",
       " 'final.output.tail_sol',\n",
       " 'primary_cleaner.output.concentrate_ag',\n",
       " 'primary_cleaner.output.concentrate_au',\n",
       " 'primary_cleaner.output.concentrate_pb',\n",
       " 'primary_cleaner.output.concentrate_sol',\n",
       " 'primary_cleaner.output.tail_ag',\n",
       " 'primary_cleaner.output.tail_au',\n",
       " 'primary_cleaner.output.tail_pb',\n",
       " 'primary_cleaner.output.tail_sol',\n",
       " 'rougher.calculation.au_pb_ratio',\n",
       " 'rougher.calculation.floatbank10_sulfate_to_au_feed',\n",
       " 'rougher.calculation.floatbank11_sulfate_to_au_feed',\n",
       " 'rougher.calculation.sulfate_to_au_concentrate',\n",
       " 'rougher.output.concentrate_ag',\n",
       " 'rougher.output.concentrate_au',\n",
       " 'rougher.output.concentrate_pb',\n",
       " 'rougher.output.concentrate_sol',\n",
       " 'rougher.output.recovery',\n",
       " 'rougher.output.tail_ag',\n",
       " 'rougher.output.tail_au',\n",
       " 'rougher.output.tail_pb',\n",
       " 'rougher.output.tail_sol',\n",
       " 'secondary_cleaner.output.tail_ag',\n",
       " 'secondary_cleaner.output.tail_au',\n",
       " 'secondary_cleaner.output.tail_pb',\n",
       " 'secondary_cleaner.output.tail_sol']"
      ]
     },
     "execution_count": 14,
     "metadata": {},
     "output_type": "execute_result"
    }
   ],
   "source": [
    "train_not_test = (train_cols.difference(test_cols)).tolist()\n",
    "train_not_test"
   ]
  },
  {
   "cell_type": "markdown",
   "metadata": {},
   "source": [
    "Как можно заметить, в тестовой выборке имеются данные по сырью, но не по продукту. Также отсутствуют расчётные характеристики."
   ]
  },
  {
   "cell_type": "markdown",
   "metadata": {},
   "source": [
    "### 1.4 Предобработка данных"
   ]
  },
  {
   "cell_type": "code",
   "execution_count": 15,
   "metadata": {},
   "outputs": [],
   "source": [
    "data_train['date'] = pd.to_datetime(data_train['date'], format='%Y%m%d %H:%M:%S')"
   ]
  },
  {
   "cell_type": "code",
   "execution_count": 16,
   "metadata": {},
   "outputs": [],
   "source": [
    "data_full['date'] = pd.to_datetime(data_full['date'], format='%Y%m%d %H:%M:%S')"
   ]
  },
  {
   "cell_type": "code",
   "execution_count": 17,
   "metadata": {},
   "outputs": [],
   "source": [
    "data_test['date'] = pd.to_datetime(data_test['date'], format='%Y%m%d %H:%M:%S')"
   ]
  },
  {
   "cell_type": "markdown",
   "metadata": {},
   "source": [
    "Преобразуем дату из формата `object` в `datetime` во всех датасетах."
   ]
  },
  {
   "cell_type": "code",
   "execution_count": 18,
   "metadata": {
    "scrolled": true
   },
   "outputs": [
    {
     "name": "stdout",
     "output_type": "stream",
     "text": [
      "Количество пропусков в полном датасете до обработки: 4481\n",
      "Количество пропусков в полном датасете после обработки: 0\n"
     ]
    }
   ],
   "source": [
    "print(f'Количество пропусков в полном датасете до обработки: {sum(data_full.isna().sum())}')\n",
    "data_full = data_full.fillna(method='ffill',axis=0)\n",
    "print(f'Количество пропусков в полном датасете после обработки: {sum(data_full.isna().sum())}')"
   ]
  },
  {
   "cell_type": "markdown",
   "metadata": {},
   "source": [
    "Заполним пропуски в полном датасете соседними значениями."
   ]
  },
  {
   "cell_type": "code",
   "execution_count": 19,
   "metadata": {
    "scrolled": true
   },
   "outputs": [
    {
     "name": "stdout",
     "output_type": "stream",
     "text": [
      "Количество пропусков в тренировочном датасете до обработки: 4100\n",
      "Количество пропусков в тренировочном датасете после обработки: 0\n"
     ]
    }
   ],
   "source": [
    "print(f'Количество пропусков в тренировочном датасете до обработки: {sum(data_train.isna().sum())}')\n",
    "data_train = data_train.fillna(data_train[['date']].merge(data_full, on='date', how='left'))\n",
    "print(f'Количество пропусков в тренировочном датасете после обработки: {sum(data_train.isna().sum())}')"
   ]
  },
  {
   "cell_type": "markdown",
   "metadata": {},
   "source": [
    "Из-за больших интервалов между датами, заполним пустые значения в тренировочном датасете значениями из полного датасета."
   ]
  },
  {
   "cell_type": "markdown",
   "metadata": {},
   "source": [
    "## 2 Анализ данных"
   ]
  },
  {
   "cell_type": "markdown",
   "metadata": {},
   "source": [
    "### 2.1 Изменение концентрации металлов на разных этапах очистки"
   ]
  },
  {
   "cell_type": "code",
   "execution_count": 20,
   "metadata": {},
   "outputs": [],
   "source": [
    "def plotting_metall(cols, name):   \n",
    "    global data_train\n",
    "    temp = pd.DataFrame(data=data_train, columns=cols)\n",
    "    mp.figure(figsize=(16,8))\n",
    "    mp.grid()\n",
    "    for col in temp:\n",
    "        data_train = data_train[data_train[col] >= 0.009999999776482582]\n",
    "        temp = temp[temp[col] >= 0.009999999776482582]\n",
    "        mp.hist(temp[col], 300, alpha=0.5)\n",
    "    mp.legend(labels=['До флотации', 'После флотации', 'Первичная очистка', 'Финальная очистка'])\n",
    "    mp.xlabel('Концетрация')\n",
    "    mp.ylabel('Количество')\n",
    "    mp.title(f'Концетрация металла {name}');"
   ]
  },
  {
   "cell_type": "markdown",
   "metadata": {},
   "source": [
    "Создадим функцию, которая визуализирует концетрацию металлов на различных этапах очистки. Также эта функция удаляет нулевые выбросы, являющиеся аномалиями."
   ]
  },
  {
   "cell_type": "code",
   "execution_count": 21,
   "metadata": {},
   "outputs": [
    {
     "data": {
      "image/png": "[encoded data removed]",
      "text/plain": [
       "<Figure size 1152x576 with 1 Axes>"
      ]
     },
     "metadata": {
      "needs_background": "light"
     },
     "output_type": "display_data"
    }
   ],
   "source": [
    "plotting_metall(['rougher.input.feed_au', \n",
    "                 'rougher.output.concentrate_au', \n",
    "                 'primary_cleaner.output.concentrate_au', \n",
    "                 'final.output.concentrate_au'], \n",
    "                'Золото')"
   ]
  },
  {
   "cell_type": "code",
   "execution_count": 22,
   "metadata": {},
   "outputs": [
    {
     "data": {
      "image/png": "[encoded data removed]",
      "text/plain": [
       "<Figure size 1152x576 with 1 Axes>"
      ]
     },
     "metadata": {
      "needs_background": "light"
     },
     "output_type": "display_data"
    }
   ],
   "source": [
    "plotting_metall(['rougher.input.feed_ag', \n",
    "                 'rougher.output.concentrate_ag', \n",
    "                 'primary_cleaner.output.concentrate_ag', \n",
    "                 'final.output.concentrate_ag'], 'Серебро')"
   ]
  },
  {
   "cell_type": "code",
   "execution_count": 23,
   "metadata": {
    "scrolled": true
   },
   "outputs": [
    {
     "data": {
      "image/png": "[encoded data removed]",
      "text/plain": [
       "<Figure size 1152x576 with 1 Axes>"
      ]
     },
     "metadata": {
      "needs_background": "light"
     },
     "output_type": "display_data"
    }
   ],
   "source": [
    "plotting_metall(['rougher.input.feed_pb', \n",
    "                 'rougher.output.concentrate_pb', \n",
    "                 'primary_cleaner.output.concentrate_pb', \n",
    "                 'final.output.concentrate_pb'], \n",
    "                'Свинец')"
   ]
  },
  {
   "cell_type": "markdown",
   "metadata": {},
   "source": [
    "По графикам можно понять, что концетрация золота действительно повышается после каждого этапа очистки, что говорит нам об эффективности технологического процесса."
   ]
  },
  {
   "cell_type": "markdown",
   "metadata": {},
   "source": [
    "Остальные же металлы постепенно выходят из очистительного процесса вместе с \"отвальными хвостами\"."
   ]
  },
  {
   "cell_type": "markdown",
   "metadata": {},
   "source": [
    "### 2.2 Сравнение распределения размеров гранул сырья на обучающей и тестовой выборках"
   ]
  },
  {
   "cell_type": "code",
   "execution_count": 24,
   "metadata": {},
   "outputs": [
    {
     "data": {
      "image/png": "[encoded data removed]",
      "text/plain": [
       "<Figure size 1152x576 with 1 Axes>"
      ]
     },
     "metadata": {
      "needs_background": "light"
     },
     "output_type": "display_data"
    }
   ],
   "source": [
    "mp.figure(figsize=(16,8))\n",
    "mp.grid()\n",
    "sns.histplot(data=data_train, \n",
    "             x='rougher.input.feed_size', \n",
    "             color='r', palette='pastel', \n",
    "             alpha=0.75, \n",
    "             bins=100, \n",
    "             stat='density', \n",
    "             common_norm=False)\n",
    "\n",
    "sns.histplot(data=data_test, \n",
    "             x='rougher.input.feed_size', \n",
    "             color='y', \n",
    "             palette='pastel', \n",
    "             alpha=0.75, \n",
    "             bins=100, \n",
    "             stat='density', \n",
    "             common_norm=False)\n",
    "\n",
    "mp.xlim(0, 150)\n",
    "mp.title(\"Распределение размеров гранул сырья до флотации\")\n",
    "mp.legend(labels=['Обучающая выборка', 'Тестовая выборка'])\n",
    "mp.xlabel('Размер')\n",
    "mp.ylabel('Плотность вероятности');"
   ]
  },
  {
   "cell_type": "markdown",
   "metadata": {},
   "source": [
    "Из графика видно, что распределение размеров гранул сырья на обучающей выборке смещено вправо относительно тестовой. При этом оба распределения похожи на нормальные."
   ]
  },
  {
   "cell_type": "markdown",
   "metadata": {},
   "source": [
    "Чтобы сравнить выборки с математической точки зрения, выполним ttest."
   ]
  },
  {
   "cell_type": "markdown",
   "metadata": {},
   "source": [
    "H₀: распределения размеров гранул сырья на обучающей и тестовой выборках равны.    \n",
    "H₁: распределения размеров гранул сырья на обучающей и тестовой выборках различаются."
   ]
  },
  {
   "cell_type": "code",
   "execution_count": 25,
   "metadata": {},
   "outputs": [],
   "source": [
    "alpha = 0.01"
   ]
  },
  {
   "cell_type": "code",
   "execution_count": 26,
   "metadata": {},
   "outputs": [
    {
     "name": "stdout",
     "output_type": "stream",
     "text": [
      "p-value по результатам ttest: 2.4994108592567153e-38\n"
     ]
    }
   ],
   "source": [
    "stat_tt, p_value_tt = ttest_ind(data_train['rougher.input.feed_size'], \n",
    "                                data_test['rougher.input.feed_size'].dropna(), equal_var=False)\n",
    "print(f'p-value по результатам ttest: {p_value_tt}')"
   ]
  },
  {
   "cell_type": "code",
   "execution_count": 27,
   "metadata": {},
   "outputs": [
    {
     "name": "stdout",
     "output_type": "stream",
     "text": [
      "p-value по результатам критерия Колмогорова — Смирнова: 7.931859690421165e-211\n"
     ]
    }
   ],
   "source": [
    "stat_ks, p_value_ks = ks_2samp(data_train['rougher.input.feed_size'], \n",
    "                               data_test['rougher.input.feed_size'].dropna())\n",
    "print(f'p-value по результатам критерия Колмогорова — Смирнова: {p_value_ks}')"
   ]
  },
  {
   "cell_type": "markdown",
   "metadata": {},
   "source": [
    "Оба p-value оказалсь ниже уровня значимости, поэтому отвергаем теорию о равенстве распределений.    \n",
    "Статистически распределения различаются, но визуально они похожи, так что можно продолжить работу."
   ]
  },
  {
   "cell_type": "code",
   "execution_count": 28,
   "metadata": {
    "scrolled": false
   },
   "outputs": [
    {
     "data": {
      "image/png": "[encoded data removed]",
      "text/plain": [
       "<Figure size 1152x576 with 1 Axes>"
      ]
     },
     "metadata": {
      "needs_background": "light"
     },
     "output_type": "display_data"
    }
   ],
   "source": [
    "mp.figure(figsize=(16,8))\n",
    "mp.grid()\n",
    "sns.histplot(data=data_train, \n",
    "             x='primary_cleaner.input.feed_size', \n",
    "             color='r', palette='pastel', \n",
    "             alpha=0.75, \n",
    "             bins=100, \n",
    "             stat='density', \n",
    "             common_norm=False)\n",
    "\n",
    "sns.histplot(data=data_test, \n",
    "             x='primary_cleaner.input.feed_size', \n",
    "             color='y', \n",
    "             palette='pastel', \n",
    "             alpha=0.75, \n",
    "             bins=100, \n",
    "             stat='density', \n",
    "             common_norm=False)\n",
    "\n",
    "mp.xlim(4, 10)\n",
    "mp.title(\"Распределение размеров гранул сырья перед первичной очисткой\")\n",
    "mp.legend(labels=['Обучающая выборка', 'Тестовая выборка'])\n",
    "mp.xlabel('Размер')\n",
    "mp.ylabel('Плотность вероятности');"
   ]
  },
  {
   "cell_type": "markdown",
   "metadata": {},
   "source": [
    "А вот перед первичной очисткой размеры гранул уже нормализовались, гранулы разбили до одинаковых размеров: до флотации они были размером 20-120, а перед первичной очисткой уже 5-10. Графики тестовой и обучающей выборки чуть ли не совадают 1 в 1. Очистка идёт по плану."
   ]
  },
  {
   "cell_type": "markdown",
   "metadata": {},
   "source": [
    "### 2.3 Исследование суммарной концентрации всех веществ на разных стадиях очистки"
   ]
  },
  {
   "cell_type": "code",
   "execution_count": 29,
   "metadata": {
    "scrolled": false
   },
   "outputs": [
    {
     "data": {
      "image/png": "[encoded data removed]",
      "text/plain": [
       "<Figure size 1152x576 with 1 Axes>"
      ]
     },
     "metadata": {
      "needs_background": "light"
     },
     "output_type": "display_data"
    }
   ],
   "source": [
    "sum_component_df = pd.DataFrame()\n",
    "sum_component_df['feed_all'] = data_train[['rougher.input.feed_au', \n",
    "                                           'rougher.input.feed_ag', \n",
    "                                           'rougher.input.feed_pb']].sum(axis=1)\n",
    "sum_component_df['rougher_output_all'] = data_train[['rougher.output.concentrate_au', \n",
    "                                                     'rougher.output.concentrate_ag', \n",
    "                                                     'rougher.output.concentrate_pb']].sum(axis=1)\n",
    "sum_component_df['primary_clean_all'] = data_train[['primary_cleaner.output.concentrate_au', \n",
    "                                                     'primary_cleaner.output.concentrate_ag', \n",
    "                                                     'primary_cleaner.output.concentrate_pb']].sum(axis=1)\n",
    "sum_component_df['final_output_all'] = data_train[['final.output.concentrate_au',\n",
    "                                                   'final.output.concentrate_ag', \n",
    "                                                   'final.output.concentrate_pb']].sum(axis=1)\n",
    "\n",
    "mp.figure(figsize=(16,8))\n",
    "mp.grid()\n",
    "for col in sum_component_df:\n",
    "    mp.hist(sum_component_df[col], 300, alpha=0.5)\n",
    "mp.legend(labels=['До флотации', 'После флотации', 'После первичной очистки', 'Финальная очистка'])\n",
    "mp.xlabel('Концетрация')\n",
    "mp.ylabel('Количество')\n",
    "mp.title('Суммарная концентрация всех веществ на разных этапах очистки');"
   ]
  },
  {
   "cell_type": "markdown",
   "metadata": {},
   "source": [
    "На графике ясно видно, что после каждого этапа концетрация интересующих нас металлов увеличивается. После флотации на каждом этапе имеет место быть прирост в 10%, что можно назвать успехом."
   ]
  },
  {
   "cell_type": "markdown",
   "metadata": {},
   "source": [
    "## 3 Модель"
   ]
  },
  {
   "cell_type": "markdown",
   "metadata": {},
   "source": [
    "### 3.1 Функция для вычисления итоговой sMAPE"
   ]
  },
  {
   "cell_type": "code",
   "execution_count": 30,
   "metadata": {},
   "outputs": [],
   "source": [
    "def smape(target, predictions):\n",
    "    mape = abs(target - predictions) / ((abs(target) + abs(predictions)) / 2)\n",
    "    s = mape.sum()\n",
    "    smape_value = (1/target.shape[0]) * s * 100\n",
    "    return smape_value"
   ]
  },
  {
   "cell_type": "code",
   "execution_count": 31,
   "metadata": {},
   "outputs": [],
   "source": [
    "def end_smape(smape_rougher, smape_final):\n",
    "    end_smape_value = (smape_rougher * 0.25) + (smape_final * 0.75)\n",
    "    return end_smape_value"
   ]
  },
  {
   "cell_type": "markdown",
   "metadata": {},
   "source": [
    "Функции для вычисления sMAPE и итогового sMAPE готовы."
   ]
  },
  {
   "cell_type": "markdown",
   "metadata": {},
   "source": [
    "### 3.2 Обучение и выбор лучшей модели"
   ]
  },
  {
   "cell_type": "code",
   "execution_count": 32,
   "metadata": {},
   "outputs": [],
   "source": [
    "data_test = data_test.merge(data_full[['date', 'rougher.output.recovery', 'final.output.recovery']], on='date', how='left')"
   ]
  },
  {
   "cell_type": "code",
   "execution_count": 34,
   "metadata": {},
   "outputs": [
    {
     "data": {
      "text/html": [
       "<div>\n",
       "<style scoped>\n",
       "    .dataframe tbody tr th:only-of-type {\n",
       "        vertical-align: middle;\n",
       "    }\n",
       "\n",
       "    .dataframe tbody tr th {\n",
       "        vertical-align: top;\n",
       "    }\n",
       "\n",
       "    .dataframe thead th {\n",
       "        text-align: right;\n",
       "    }\n",
       "</style>\n",
       "<table border=\"1\" class=\"dataframe\">\n",
       "  <thead>\n",
       "    <tr style=\"text-align: right;\">\n",
       "      <th></th>\n",
       "      <th>date</th>\n",
       "      <th>primary_cleaner.input.sulfate</th>\n",
       "      <th>primary_cleaner.input.depressant</th>\n",
       "      <th>primary_cleaner.input.feed_size</th>\n",
       "      <th>primary_cleaner.input.xanthate</th>\n",
       "      <th>primary_cleaner.state.floatbank8_a_air</th>\n",
       "      <th>primary_cleaner.state.floatbank8_a_level</th>\n",
       "      <th>primary_cleaner.state.floatbank8_b_air</th>\n",
       "      <th>primary_cleaner.state.floatbank8_b_level</th>\n",
       "      <th>primary_cleaner.state.floatbank8_c_air</th>\n",
       "      <th>primary_cleaner.state.floatbank8_c_level</th>\n",
       "      <th>primary_cleaner.state.floatbank8_d_air</th>\n",
       "      <th>primary_cleaner.state.floatbank8_d_level</th>\n",
       "      <th>rougher.input.feed_ag</th>\n",
       "      <th>rougher.input.feed_pb</th>\n",
       "      <th>rougher.input.feed_rate</th>\n",
       "      <th>rougher.input.feed_size</th>\n",
       "      <th>rougher.input.feed_sol</th>\n",
       "      <th>rougher.input.feed_au</th>\n",
       "      <th>rougher.input.floatbank10_sulfate</th>\n",
       "      <th>rougher.input.floatbank10_xanthate</th>\n",
       "      <th>rougher.input.floatbank11_sulfate</th>\n",
       "      <th>rougher.input.floatbank11_xanthate</th>\n",
       "      <th>rougher.state.floatbank10_a_air</th>\n",
       "      <th>rougher.state.floatbank10_a_level</th>\n",
       "      <th>rougher.state.floatbank10_b_air</th>\n",
       "      <th>rougher.state.floatbank10_b_level</th>\n",
       "      <th>rougher.state.floatbank10_c_air</th>\n",
       "      <th>rougher.state.floatbank10_c_level</th>\n",
       "      <th>rougher.state.floatbank10_d_air</th>\n",
       "      <th>rougher.state.floatbank10_d_level</th>\n",
       "      <th>rougher.state.floatbank10_e_air</th>\n",
       "      <th>rougher.state.floatbank10_e_level</th>\n",
       "      <th>rougher.state.floatbank10_f_air</th>\n",
       "      <th>rougher.state.floatbank10_f_level</th>\n",
       "      <th>secondary_cleaner.state.floatbank2_a_air</th>\n",
       "      <th>secondary_cleaner.state.floatbank2_a_level</th>\n",
       "      <th>secondary_cleaner.state.floatbank2_b_air</th>\n",
       "      <th>secondary_cleaner.state.floatbank2_b_level</th>\n",
       "      <th>secondary_cleaner.state.floatbank3_a_air</th>\n",
       "      <th>secondary_cleaner.state.floatbank3_a_level</th>\n",
       "      <th>secondary_cleaner.state.floatbank3_b_air</th>\n",
       "      <th>secondary_cleaner.state.floatbank3_b_level</th>\n",
       "      <th>secondary_cleaner.state.floatbank4_a_air</th>\n",
       "      <th>secondary_cleaner.state.floatbank4_a_level</th>\n",
       "      <th>secondary_cleaner.state.floatbank4_b_air</th>\n",
       "      <th>secondary_cleaner.state.floatbank4_b_level</th>\n",
       "      <th>secondary_cleaner.state.floatbank5_a_air</th>\n",
       "      <th>secondary_cleaner.state.floatbank5_a_level</th>\n",
       "      <th>secondary_cleaner.state.floatbank5_b_air</th>\n",
       "      <th>secondary_cleaner.state.floatbank5_b_level</th>\n",
       "      <th>secondary_cleaner.state.floatbank6_a_air</th>\n",
       "      <th>secondary_cleaner.state.floatbank6_a_level</th>\n",
       "      <th>rougher.output.recovery</th>\n",
       "      <th>final.output.recovery</th>\n",
       "    </tr>\n",
       "  </thead>\n",
       "  <tbody>\n",
       "    <tr>\n",
       "      <th>0</th>\n",
       "      <td>2016-09-01 00:59:59</td>\n",
       "      <td>210.800909</td>\n",
       "      <td>14.993118</td>\n",
       "      <td>8.080000</td>\n",
       "      <td>1.005021</td>\n",
       "      <td>1398.981301</td>\n",
       "      <td>-500.225577</td>\n",
       "      <td>1399.144926</td>\n",
       "      <td>-499.919735</td>\n",
       "      <td>1400.102998</td>\n",
       "      <td>-500.704369</td>\n",
       "      <td>1399.001695</td>\n",
       "      <td>-499.485144</td>\n",
       "      <td>13.128569</td>\n",
       "      <td>5.636710</td>\n",
       "      <td>489.793655</td>\n",
       "      <td>62.710452</td>\n",
       "      <td>42.022440</td>\n",
       "      <td>12.084103</td>\n",
       "      <td>16.922877</td>\n",
       "      <td>6.153479</td>\n",
       "      <td>16.867518</td>\n",
       "      <td>6.150709</td>\n",
       "      <td>1001.849317</td>\n",
       "      <td>-350.301265</td>\n",
       "      <td>1249.738612</td>\n",
       "      <td>-399.107531</td>\n",
       "      <td>1249.750520</td>\n",
       "      <td>-399.396730</td>\n",
       "      <td>1198.287855</td>\n",
       "      <td>-399.488594</td>\n",
       "      <td>999.472250</td>\n",
       "      <td>-399.530962</td>\n",
       "      <td>949.566189</td>\n",
       "      <td>-398.180807</td>\n",
       "      <td>24.938200</td>\n",
       "      <td>-500.490963</td>\n",
       "      <td>14.947607</td>\n",
       "      <td>-500.013837</td>\n",
       "      <td>20.018166</td>\n",
       "      <td>-450.395995</td>\n",
       "      <td>13.987058</td>\n",
       "      <td>-449.831513</td>\n",
       "      <td>12.023554</td>\n",
       "      <td>-497.795834</td>\n",
       "      <td>8.016656</td>\n",
       "      <td>-501.289139</td>\n",
       "      <td>7.946562</td>\n",
       "      <td>-432.317850</td>\n",
       "      <td>4.872511</td>\n",
       "      <td>-500.037437</td>\n",
       "      <td>26.705889</td>\n",
       "      <td>-499.709414</td>\n",
       "      <td>89.993421</td>\n",
       "      <td>70.273583</td>\n",
       "    </tr>\n",
       "    <tr>\n",
       "      <th>1</th>\n",
       "      <td>2016-09-01 01:59:59</td>\n",
       "      <td>215.392455</td>\n",
       "      <td>14.987471</td>\n",
       "      <td>8.080000</td>\n",
       "      <td>0.990469</td>\n",
       "      <td>1398.777912</td>\n",
       "      <td>-500.057435</td>\n",
       "      <td>1398.055362</td>\n",
       "      <td>-499.778182</td>\n",
       "      <td>1396.151033</td>\n",
       "      <td>-499.240168</td>\n",
       "      <td>1399.508091</td>\n",
       "      <td>-500.416324</td>\n",
       "      <td>13.036280</td>\n",
       "      <td>5.526065</td>\n",
       "      <td>490.104534</td>\n",
       "      <td>61.961163</td>\n",
       "      <td>41.187903</td>\n",
       "      <td>11.918977</td>\n",
       "      <td>17.002532</td>\n",
       "      <td>5.999043</td>\n",
       "      <td>16.996063</td>\n",
       "      <td>6.002315</td>\n",
       "      <td>998.690785</td>\n",
       "      <td>-350.425704</td>\n",
       "      <td>1248.395457</td>\n",
       "      <td>-399.946025</td>\n",
       "      <td>1249.514451</td>\n",
       "      <td>-399.630810</td>\n",
       "      <td>1200.506459</td>\n",
       "      <td>-399.942434</td>\n",
       "      <td>1000.002114</td>\n",
       "      <td>-399.491528</td>\n",
       "      <td>950.200009</td>\n",
       "      <td>-405.787514</td>\n",
       "      <td>24.923466</td>\n",
       "      <td>-499.813963</td>\n",
       "      <td>14.930873</td>\n",
       "      <td>-500.764452</td>\n",
       "      <td>19.988503</td>\n",
       "      <td>-450.114024</td>\n",
       "      <td>14.092981</td>\n",
       "      <td>-450.059163</td>\n",
       "      <td>12.058140</td>\n",
       "      <td>-498.695773</td>\n",
       "      <td>8.130979</td>\n",
       "      <td>-499.634209</td>\n",
       "      <td>7.958270</td>\n",
       "      <td>-525.839648</td>\n",
       "      <td>4.878850</td>\n",
       "      <td>-500.162375</td>\n",
       "      <td>25.019940</td>\n",
       "      <td>-499.819438</td>\n",
       "      <td>88.089657</td>\n",
       "      <td>68.910432</td>\n",
       "    </tr>\n",
       "    <tr>\n",
       "      <th>2</th>\n",
       "      <td>2016-09-01 02:59:59</td>\n",
       "      <td>215.259946</td>\n",
       "      <td>12.884934</td>\n",
       "      <td>7.786667</td>\n",
       "      <td>0.996043</td>\n",
       "      <td>1398.493666</td>\n",
       "      <td>-500.868360</td>\n",
       "      <td>1398.860436</td>\n",
       "      <td>-499.764529</td>\n",
       "      <td>1398.075709</td>\n",
       "      <td>-502.151509</td>\n",
       "      <td>1399.497088</td>\n",
       "      <td>-499.715479</td>\n",
       "      <td>13.138412</td>\n",
       "      <td>5.426561</td>\n",
       "      <td>489.617969</td>\n",
       "      <td>66.903807</td>\n",
       "      <td>42.546294</td>\n",
       "      <td>12.091332</td>\n",
       "      <td>16.992520</td>\n",
       "      <td>5.850632</td>\n",
       "      <td>16.982096</td>\n",
       "      <td>5.853594</td>\n",
       "      <td>998.516720</td>\n",
       "      <td>-349.783538</td>\n",
       "      <td>1247.440748</td>\n",
       "      <td>-400.264330</td>\n",
       "      <td>1248.207204</td>\n",
       "      <td>-401.074405</td>\n",
       "      <td>1199.770026</td>\n",
       "      <td>-400.790582</td>\n",
       "      <td>999.925519</td>\n",
       "      <td>-399.236999</td>\n",
       "      <td>950.320481</td>\n",
       "      <td>-400.864340</td>\n",
       "      <td>24.908732</td>\n",
       "      <td>-500.304035</td>\n",
       "      <td>14.996511</td>\n",
       "      <td>-500.993821</td>\n",
       "      <td>20.039689</td>\n",
       "      <td>-450.263164</td>\n",
       "      <td>14.077881</td>\n",
       "      <td>-449.660997</td>\n",
       "      <td>11.962366</td>\n",
       "      <td>-498.767484</td>\n",
       "      <td>8.096893</td>\n",
       "      <td>-500.827423</td>\n",
       "      <td>8.071056</td>\n",
       "      <td>-500.801673</td>\n",
       "      <td>4.905125</td>\n",
       "      <td>-499.828510</td>\n",
       "      <td>24.994862</td>\n",
       "      <td>-500.622559</td>\n",
       "      <td>88.412756</td>\n",
       "      <td>68.143213</td>\n",
       "    </tr>\n",
       "    <tr>\n",
       "      <th>3</th>\n",
       "      <td>2016-09-01 03:59:59</td>\n",
       "      <td>215.336236</td>\n",
       "      <td>12.006805</td>\n",
       "      <td>7.640000</td>\n",
       "      <td>0.863514</td>\n",
       "      <td>1399.618111</td>\n",
       "      <td>-498.863574</td>\n",
       "      <td>1397.440120</td>\n",
       "      <td>-499.211024</td>\n",
       "      <td>1400.129303</td>\n",
       "      <td>-498.355873</td>\n",
       "      <td>1401.065165</td>\n",
       "      <td>-501.038738</td>\n",
       "      <td>12.400507</td>\n",
       "      <td>5.114758</td>\n",
       "      <td>476.618130</td>\n",
       "      <td>59.865919</td>\n",
       "      <td>41.060195</td>\n",
       "      <td>12.181597</td>\n",
       "      <td>16.532144</td>\n",
       "      <td>5.801935</td>\n",
       "      <td>16.515277</td>\n",
       "      <td>5.803657</td>\n",
       "      <td>1000.276604</td>\n",
       "      <td>-350.172597</td>\n",
       "      <td>1251.322675</td>\n",
       "      <td>-398.655289</td>\n",
       "      <td>1250.493702</td>\n",
       "      <td>-399.746728</td>\n",
       "      <td>1199.398691</td>\n",
       "      <td>-397.503052</td>\n",
       "      <td>1001.930679</td>\n",
       "      <td>-400.437573</td>\n",
       "      <td>950.735324</td>\n",
       "      <td>-399.802986</td>\n",
       "      <td>24.893998</td>\n",
       "      <td>-499.382374</td>\n",
       "      <td>14.916674</td>\n",
       "      <td>-499.862299</td>\n",
       "      <td>20.031100</td>\n",
       "      <td>-449.372570</td>\n",
       "      <td>14.013968</td>\n",
       "      <td>-449.526900</td>\n",
       "      <td>12.033091</td>\n",
       "      <td>-498.350935</td>\n",
       "      <td>8.074946</td>\n",
       "      <td>-499.474407</td>\n",
       "      <td>7.897085</td>\n",
       "      <td>-500.868509</td>\n",
       "      <td>4.931400</td>\n",
       "      <td>-499.963623</td>\n",
       "      <td>24.948919</td>\n",
       "      <td>-498.709987</td>\n",
       "      <td>87.360133</td>\n",
       "      <td>67.776393</td>\n",
       "    </tr>\n",
       "    <tr>\n",
       "      <th>4</th>\n",
       "      <td>2016-09-01 04:59:59</td>\n",
       "      <td>199.099327</td>\n",
       "      <td>10.682530</td>\n",
       "      <td>7.530000</td>\n",
       "      <td>0.805575</td>\n",
       "      <td>1401.268123</td>\n",
       "      <td>-500.808305</td>\n",
       "      <td>1398.128818</td>\n",
       "      <td>-499.504543</td>\n",
       "      <td>1402.172226</td>\n",
       "      <td>-500.810606</td>\n",
       "      <td>1399.480508</td>\n",
       "      <td>-499.374053</td>\n",
       "      <td>11.327427</td>\n",
       "      <td>4.767383</td>\n",
       "      <td>488.248117</td>\n",
       "      <td>63.315324</td>\n",
       "      <td>41.269161</td>\n",
       "      <td>11.290425</td>\n",
       "      <td>13.607257</td>\n",
       "      <td>5.738081</td>\n",
       "      <td>13.650053</td>\n",
       "      <td>5.739634</td>\n",
       "      <td>996.541302</td>\n",
       "      <td>-350.562517</td>\n",
       "      <td>1304.658848</td>\n",
       "      <td>-399.511519</td>\n",
       "      <td>1306.455515</td>\n",
       "      <td>-399.050685</td>\n",
       "      <td>1248.699349</td>\n",
       "      <td>-400.876894</td>\n",
       "      <td>1058.839106</td>\n",
       "      <td>-398.988239</td>\n",
       "      <td>949.645313</td>\n",
       "      <td>-399.277632</td>\n",
       "      <td>24.886905</td>\n",
       "      <td>-499.357375</td>\n",
       "      <td>14.979233</td>\n",
       "      <td>-500.186804</td>\n",
       "      <td>19.962364</td>\n",
       "      <td>-450.638828</td>\n",
       "      <td>14.009245</td>\n",
       "      <td>-450.022259</td>\n",
       "      <td>12.025367</td>\n",
       "      <td>-500.786497</td>\n",
       "      <td>8.054678</td>\n",
       "      <td>-500.397500</td>\n",
       "      <td>8.107890</td>\n",
       "      <td>-509.526725</td>\n",
       "      <td>4.957674</td>\n",
       "      <td>-500.360026</td>\n",
       "      <td>25.003331</td>\n",
       "      <td>-500.856333</td>\n",
       "      <td>83.236367</td>\n",
       "      <td>61.467078</td>\n",
       "    </tr>\n",
       "  </tbody>\n",
       "</table>\n",
       "</div>"
      ],
      "text/plain": [
       "                 date  primary_cleaner.input.sulfate  \\\n",
       "0 2016-09-01 00:59:59                     210.800909   \n",
       "1 2016-09-01 01:59:59                     215.392455   \n",
       "2 2016-09-01 02:59:59                     215.259946   \n",
       "3 2016-09-01 03:59:59                     215.336236   \n",
       "4 2016-09-01 04:59:59                     199.099327   \n",
       "\n",
       "   primary_cleaner.input.depressant  primary_cleaner.input.feed_size  \\\n",
       "0                         14.993118                         8.080000   \n",
       "1                         14.987471                         8.080000   \n",
       "2                         12.884934                         7.786667   \n",
       "3                         12.006805                         7.640000   \n",
       "4                         10.682530                         7.530000   \n",
       "\n",
       "   primary_cleaner.input.xanthate  primary_cleaner.state.floatbank8_a_air  \\\n",
       "0                        1.005021                             1398.981301   \n",
       "1                        0.990469                             1398.777912   \n",
       "2                        0.996043                             1398.493666   \n",
       "3                        0.863514                             1399.618111   \n",
       "4                        0.805575                             1401.268123   \n",
       "\n",
       "   primary_cleaner.state.floatbank8_a_level  \\\n",
       "0                               -500.225577   \n",
       "1                               -500.057435   \n",
       "2                               -500.868360   \n",
       "3                               -498.863574   \n",
       "4                               -500.808305   \n",
       "\n",
       "   primary_cleaner.state.floatbank8_b_air  \\\n",
       "0                             1399.144926   \n",
       "1                             1398.055362   \n",
       "2                             1398.860436   \n",
       "3                             1397.440120   \n",
       "4                             1398.128818   \n",
       "\n",
       "   primary_cleaner.state.floatbank8_b_level  \\\n",
       "0                               -499.919735   \n",
       "1                               -499.778182   \n",
       "2                               -499.764529   \n",
       "3                               -499.211024   \n",
       "4                               -499.504543   \n",
       "\n",
       "   primary_cleaner.state.floatbank8_c_air  \\\n",
       "0                             1400.102998   \n",
       "1                             1396.151033   \n",
       "2                             1398.075709   \n",
       "3                             1400.129303   \n",
       "4                             1402.172226   \n",
       "\n",
       "   primary_cleaner.state.floatbank8_c_level  \\\n",
       "0                               -500.704369   \n",
       "1                               -499.240168   \n",
       "2                               -502.151509   \n",
       "3                               -498.355873   \n",
       "4                               -500.810606   \n",
       "\n",
       "   primary_cleaner.state.floatbank8_d_air  \\\n",
       "0                             1399.001695   \n",
       "1                             1399.508091   \n",
       "2                             1399.497088   \n",
       "3                             1401.065165   \n",
       "4                             1399.480508   \n",
       "\n",
       "   primary_cleaner.state.floatbank8_d_level  rougher.input.feed_ag  \\\n",
       "0                               -499.485144              13.128569   \n",
       "1                               -500.416324              13.036280   \n",
       "2                               -499.715479              13.138412   \n",
       "3                               -501.038738              12.400507   \n",
       "4                               -499.374053              11.327427   \n",
       "\n",
       "   rougher.input.feed_pb  rougher.input.feed_rate  rougher.input.feed_size  \\\n",
       "0               5.636710               489.793655                62.710452   \n",
       "1               5.526065               490.104534                61.961163   \n",
       "2               5.426561               489.617969                66.903807   \n",
       "3               5.114758               476.618130                59.865919   \n",
       "4               4.767383               488.248117                63.315324   \n",
       "\n",
       "   rougher.input.feed_sol  rougher.input.feed_au  \\\n",
       "0               42.022440              12.084103   \n",
       "1               41.187903              11.918977   \n",
       "2               42.546294              12.091332   \n",
       "3               41.060195              12.181597   \n",
       "4               41.269161              11.290425   \n",
       "\n",
       "   rougher.input.floatbank10_sulfate  rougher.input.floatbank10_xanthate  \\\n",
       "0                          16.922877                            6.153479   \n",
       "1                          17.002532                            5.999043   \n",
       "2                          16.992520                            5.850632   \n",
       "3                          16.532144                            5.801935   \n",
       "4                          13.607257                            5.738081   \n",
       "\n",
       "   rougher.input.floatbank11_sulfate  rougher.input.floatbank11_xanthate  \\\n",
       "0                          16.867518                            6.150709   \n",
       "1                          16.996063                            6.002315   \n",
       "2                          16.982096                            5.853594   \n",
       "3                          16.515277                            5.803657   \n",
       "4                          13.650053                            5.739634   \n",
       "\n",
       "   rougher.state.floatbank10_a_air  rougher.state.floatbank10_a_level  \\\n",
       "0                      1001.849317                        -350.301265   \n",
       "1                       998.690785                        -350.425704   \n",
       "2                       998.516720                        -349.783538   \n",
       "3                      1000.276604                        -350.172597   \n",
       "4                       996.541302                        -350.562517   \n",
       "\n",
       "   rougher.state.floatbank10_b_air  rougher.state.floatbank10_b_level  \\\n",
       "0                      1249.738612                        -399.107531   \n",
       "1                      1248.395457                        -399.946025   \n",
       "2                      1247.440748                        -400.264330   \n",
       "3                      1251.322675                        -398.655289   \n",
       "4                      1304.658848                        -399.511519   \n",
       "\n",
       "   rougher.state.floatbank10_c_air  rougher.state.floatbank10_c_level  \\\n",
       "0                      1249.750520                        -399.396730   \n",
       "1                      1249.514451                        -399.630810   \n",
       "2                      1248.207204                        -401.074405   \n",
       "3                      1250.493702                        -399.746728   \n",
       "4                      1306.455515                        -399.050685   \n",
       "\n",
       "   rougher.state.floatbank10_d_air  rougher.state.floatbank10_d_level  \\\n",
       "0                      1198.287855                        -399.488594   \n",
       "1                      1200.506459                        -399.942434   \n",
       "2                      1199.770026                        -400.790582   \n",
       "3                      1199.398691                        -397.503052   \n",
       "4                      1248.699349                        -400.876894   \n",
       "\n",
       "   rougher.state.floatbank10_e_air  rougher.state.floatbank10_e_level  \\\n",
       "0                       999.472250                        -399.530962   \n",
       "1                      1000.002114                        -399.491528   \n",
       "2                       999.925519                        -399.236999   \n",
       "3                      1001.930679                        -400.437573   \n",
       "4                      1058.839106                        -398.988239   \n",
       "\n",
       "   rougher.state.floatbank10_f_air  rougher.state.floatbank10_f_level  \\\n",
       "0                       949.566189                        -398.180807   \n",
       "1                       950.200009                        -405.787514   \n",
       "2                       950.320481                        -400.864340   \n",
       "3                       950.735324                        -399.802986   \n",
       "4                       949.645313                        -399.277632   \n",
       "\n",
       "   secondary_cleaner.state.floatbank2_a_air  \\\n",
       "0                                 24.938200   \n",
       "1                                 24.923466   \n",
       "2                                 24.908732   \n",
       "3                                 24.893998   \n",
       "4                                 24.886905   \n",
       "\n",
       "   secondary_cleaner.state.floatbank2_a_level  \\\n",
       "0                                 -500.490963   \n",
       "1                                 -499.813963   \n",
       "2                                 -500.304035   \n",
       "3                                 -499.382374   \n",
       "4                                 -499.357375   \n",
       "\n",
       "   secondary_cleaner.state.floatbank2_b_air  \\\n",
       "0                                 14.947607   \n",
       "1                                 14.930873   \n",
       "2                                 14.996511   \n",
       "3                                 14.916674   \n",
       "4                                 14.979233   \n",
       "\n",
       "   secondary_cleaner.state.floatbank2_b_level  \\\n",
       "0                                 -500.013837   \n",
       "1                                 -500.764452   \n",
       "2                                 -500.993821   \n",
       "3                                 -499.862299   \n",
       "4                                 -500.186804   \n",
       "\n",
       "   secondary_cleaner.state.floatbank3_a_air  \\\n",
       "0                                 20.018166   \n",
       "1                                 19.988503   \n",
       "2                                 20.039689   \n",
       "3                                 20.031100   \n",
       "4                                 19.962364   \n",
       "\n",
       "   secondary_cleaner.state.floatbank3_a_level  \\\n",
       "0                                 -450.395995   \n",
       "1                                 -450.114024   \n",
       "2                                 -450.263164   \n",
       "3                                 -449.372570   \n",
       "4                                 -450.638828   \n",
       "\n",
       "   secondary_cleaner.state.floatbank3_b_air  \\\n",
       "0                                 13.987058   \n",
       "1                                 14.092981   \n",
       "2                                 14.077881   \n",
       "3                                 14.013968   \n",
       "4                                 14.009245   \n",
       "\n",
       "   secondary_cleaner.state.floatbank3_b_level  \\\n",
       "0                                 -449.831513   \n",
       "1                                 -450.059163   \n",
       "2                                 -449.660997   \n",
       "3                                 -449.526900   \n",
       "4                                 -450.022259   \n",
       "\n",
       "   secondary_cleaner.state.floatbank4_a_air  \\\n",
       "0                                 12.023554   \n",
       "1                                 12.058140   \n",
       "2                                 11.962366   \n",
       "3                                 12.033091   \n",
       "4                                 12.025367   \n",
       "\n",
       "   secondary_cleaner.state.floatbank4_a_level  \\\n",
       "0                                 -497.795834   \n",
       "1                                 -498.695773   \n",
       "2                                 -498.767484   \n",
       "3                                 -498.350935   \n",
       "4                                 -500.786497   \n",
       "\n",
       "   secondary_cleaner.state.floatbank4_b_air  \\\n",
       "0                                  8.016656   \n",
       "1                                  8.130979   \n",
       "2                                  8.096893   \n",
       "3                                  8.074946   \n",
       "4                                  8.054678   \n",
       "\n",
       "   secondary_cleaner.state.floatbank4_b_level  \\\n",
       "0                                 -501.289139   \n",
       "1                                 -499.634209   \n",
       "2                                 -500.827423   \n",
       "3                                 -499.474407   \n",
       "4                                 -500.397500   \n",
       "\n",
       "   secondary_cleaner.state.floatbank5_a_air  \\\n",
       "0                                  7.946562   \n",
       "1                                  7.958270   \n",
       "2                                  8.071056   \n",
       "3                                  7.897085   \n",
       "4                                  8.107890   \n",
       "\n",
       "   secondary_cleaner.state.floatbank5_a_level  \\\n",
       "0                                 -432.317850   \n",
       "1                                 -525.839648   \n",
       "2                                 -500.801673   \n",
       "3                                 -500.868509   \n",
       "4                                 -509.526725   \n",
       "\n",
       "   secondary_cleaner.state.floatbank5_b_air  \\\n",
       "0                                  4.872511   \n",
       "1                                  4.878850   \n",
       "2                                  4.905125   \n",
       "3                                  4.931400   \n",
       "4                                  4.957674   \n",
       "\n",
       "   secondary_cleaner.state.floatbank5_b_level  \\\n",
       "0                                 -500.037437   \n",
       "1                                 -500.162375   \n",
       "2                                 -499.828510   \n",
       "3                                 -499.963623   \n",
       "4                                 -500.360026   \n",
       "\n",
       "   secondary_cleaner.state.floatbank6_a_air  \\\n",
       "0                                 26.705889   \n",
       "1                                 25.019940   \n",
       "2                                 24.994862   \n",
       "3                                 24.948919   \n",
       "4                                 25.003331   \n",
       "\n",
       "   secondary_cleaner.state.floatbank6_a_level  rougher.output.recovery  \\\n",
       "0                                 -499.709414                89.993421   \n",
       "1                                 -499.819438                88.089657   \n",
       "2                                 -500.622559                88.412756   \n",
       "3                                 -498.709987                87.360133   \n",
       "4                                 -500.856333                83.236367   \n",
       "\n",
       "   final.output.recovery  \n",
       "0              70.273583  \n",
       "1              68.910432  \n",
       "2              68.143213  \n",
       "3              67.776393  \n",
       "4              61.467078  "
      ]
     },
     "execution_count": 34,
     "metadata": {},
     "output_type": "execute_result"
    }
   ],
   "source": [
    "data_test.head()"
   ]
  },
  {
   "cell_type": "markdown",
   "metadata": {},
   "source": [
    "Создадим 2 столбца с величинами, которые надо предсказать, в тестовой выборке. Данные возьмём из полного датасета."
   ]
  },
  {
   "cell_type": "code",
   "execution_count": 35,
   "metadata": {},
   "outputs": [],
   "source": [
    "new_data_train = data_train[data_test.columns]"
   ]
  },
  {
   "cell_type": "markdown",
   "metadata": {},
   "source": [
    "Перед обучением модели в обучающей выборке уберем те столбцы, которые отсутствуют в тестовой выборке."
   ]
  },
  {
   "cell_type": "code",
   "execution_count": 36,
   "metadata": {},
   "outputs": [],
   "source": [
    "target_train_rougher = new_data_train['rougher.output.recovery']\n",
    "target_train_final = new_data_train['final.output.recovery']\n",
    "features_train = new_data_train.drop(['rougher.output.recovery', \n",
    "                                      'final.output.recovery', \n",
    "                                      'date'], axis=1)\n",
    "\n",
    "target_test_rougher = data_test.dropna()['rougher.output.recovery']\n",
    "target_test_final = data_test.dropna()['final.output.recovery']\n",
    "features_test = data_test.dropna().drop(['rougher.output.recovery', \n",
    "                                'final.output.recovery', \n",
    "                                'date'], axis=1)"
   ]
  },
  {
   "cell_type": "code",
   "execution_count": 37,
   "metadata": {},
   "outputs": [],
   "source": [
    "smape_error = make_scorer(smape, greater_is_better=False)"
   ]
  },
  {
   "cell_type": "markdown",
   "metadata": {},
   "source": [
    "Создадим таргеты и фичи в датасетах."
   ]
  },
  {
   "cell_type": "markdown",
   "metadata": {},
   "source": [
    "#### 3.2.1 Лес"
   ]
  },
  {
   "cell_type": "code",
   "execution_count": 44,
   "metadata": {},
   "outputs": [],
   "source": [
    "def forest_model_halving(target, features):\n",
    "    param_grid = {\n",
    "    \"max_depth\": list(range(1, 15)),\n",
    "    \"n_estimators\": list(range(80, 151, 5)),\n",
    "    \"min_samples_split\": list(range(2, 6)),\n",
    "    \"min_samples_leaf\": list(range(1, 6))\n",
    "}\n",
    "    model = RandomForestRegressor(random_state=222)\n",
    "    halving_cv = HalvingGridSearchCV(model, \n",
    "                                     param_grid, \n",
    "                                     n_jobs=-1, \n",
    "                                     scoring=smape_error, \n",
    "                                     min_resources=\"exhaust\", \n",
    "                                     factor=5, \n",
    "                                     random_state=222)\n",
    "    halving_cv.fit(features, target)\n",
    "    return halving_cv.best_params_, abs(halving_cv.best_score_)"
   ]
  },
  {
   "cell_type": "code",
   "execution_count": 45,
   "metadata": {},
   "outputs": [
    {
     "name": "stdout",
     "output_type": "stream",
     "text": [
      "Лучшие параметры для леса (сырьё): {'max_depth': 8, 'min_samples_leaf': 5, 'min_samples_split': 4, 'n_estimators': 85}\n",
      "Лучшая точность для леса (сырьё): 6.5818695378427154\n",
      "CPU times: user 1h 13min 44s, sys: 43.5 s, total: 1h 14min 27s\n",
      "Wall time: 1h 14min 34s\n"
     ]
    }
   ],
   "source": [
    "%%time\n",
    "best_params_fr, best_score_fr = forest_model_halving(target_train_rougher, features_train)\n",
    "print(f'Лучшие параметры для леса (сырьё): {best_params_fr}')\n",
    "print(f'Лучшая точность для леса (сырьё): {best_score_fr}')"
   ]
  },
  {
   "cell_type": "code",
   "execution_count": 46,
   "metadata": {
    "scrolled": true
   },
   "outputs": [
    {
     "name": "stdout",
     "output_type": "stream",
     "text": [
      "Лучшие параметры для леса (финальный продукт): {'max_depth': 1, 'min_samples_leaf': 4, 'min_samples_split': 3, 'n_estimators': 100}\n",
      "Лучшая точность для леса (финальный продукт): 9.597295658962816\n",
      "CPU times: user 1h 3min 19s, sys: 40.9 s, total: 1h 3min 59s\n",
      "Wall time: 1h 4min 4s\n"
     ]
    }
   ],
   "source": [
    "%%time\n",
    "best_params_ff, best_score_ff = forest_model_halving(target_train_final, features_train)\n",
    "print(f'Лучшие параметры для леса (финальный продукт): {best_params_ff}')\n",
    "print(f'Лучшая точность для леса (финальный продукт): {best_score_ff}')"
   ]
  },
  {
   "cell_type": "markdown",
   "metadata": {},
   "source": [
    "#### 3.2.2 Линейная регрессия"
   ]
  },
  {
   "cell_type": "code",
   "execution_count": 87,
   "metadata": {},
   "outputs": [],
   "source": [
    "def lineal_model(target, features):\n",
    "    model = LinearRegression()\n",
    "    model.fit(features, target)\n",
    "    predicted = model.predict(features)\n",
    "    score_smape = cross_val_score(model, \n",
    "                                  features, \n",
    "                                  target, \n",
    "                                  cv=5, \n",
    "                                  n_jobs=-1, \n",
    "                                  scoring=smape_error)\n",
    "    score_smape_mean = statistics.mean(score_smape)\n",
    "    return abs(score_smape_mean)"
   ]
  },
  {
   "cell_type": "code",
   "execution_count": 88,
   "metadata": {},
   "outputs": [
    {
     "name": "stdout",
     "output_type": "stream",
     "text": [
      "Лучшая точность для линейной регрессии (сырьё): 7.272356520748585\n",
      "CPU times: user 756 ms, sys: 947 ms, total: 1.7 s\n",
      "Wall time: 1.71 s\n"
     ]
    }
   ],
   "source": [
    "%%time\n",
    "best_score_lr = lineal_model(target_train_rougher, features_train)\n",
    "print(f'Лучшая точность для линейной регрессии (сырьё): {best_score_lr}')"
   ]
  },
  {
   "cell_type": "code",
   "execution_count": 89,
   "metadata": {
    "scrolled": true
   },
   "outputs": [
    {
     "name": "stdout",
     "output_type": "stream",
     "text": [
      "Лучшая точность для линейной регрессии (финальный продукт): 11.005163449084746\n",
      "CPU times: user 625 ms, sys: 1.02 s, total: 1.64 s\n",
      "Wall time: 1.6 s\n"
     ]
    }
   ],
   "source": [
    "%%time\n",
    "best_score_lf = lineal_model(target_train_final, features_train)\n",
    "print(f'Лучшая точность для линейной регрессии (финальный продукт): {best_score_lf}')"
   ]
  },
  {
   "cell_type": "markdown",
   "metadata": {},
   "source": [
    "#### 3.2.3 Дерево решений"
   ]
  },
  {
   "cell_type": "code",
   "execution_count": 50,
   "metadata": {},
   "outputs": [],
   "source": [
    "def tree_model_halving(target, features):\n",
    "    param_grid = {\n",
    "    \"max_depth\": list(range(1, 15)),\n",
    "    \"min_samples_split\": list(range(2, 7)),\n",
    "    \"min_samples_leaf\": list(range(1, 6))\n",
    "}\n",
    "    model = DecisionTreeRegressor(random_state=222)\n",
    "    halving_cv = HalvingGridSearchCV(model, \n",
    "                                     param_grid, \n",
    "                                     n_jobs=-1, \n",
    "                                     scoring=smape_error, \n",
    "                                     min_resources=\"exhaust\", \n",
    "                                     factor=5, \n",
    "                                     random_state=222)\n",
    "    halving_cv.fit(features, target)\n",
    "    return halving_cv.best_params_, abs(halving_cv.best_score_)"
   ]
  },
  {
   "cell_type": "code",
   "execution_count": 51,
   "metadata": {},
   "outputs": [
    {
     "name": "stdout",
     "output_type": "stream",
     "text": [
      "Лучшие параметры для дерева (сырьё): {'max_depth': 3, 'min_samples_leaf': 5, 'min_samples_split': 6}\n",
      "Лучшая точность для дерева (сырьё): 6.76160212770546\n",
      "CPU times: user 28.7 s, sys: 76 ms, total: 28.8 s\n",
      "Wall time: 28.9 s\n"
     ]
    }
   ],
   "source": [
    "%%time\n",
    "best_params_tr, best_score_tr = tree_model_halving(target_train_rougher, features_train)\n",
    "print(f'Лучшие параметры для дерева (сырьё): {best_params_tr}')\n",
    "print(f'Лучшая точность для дерева (сырьё): {best_score_tr}')"
   ]
  },
  {
   "cell_type": "code",
   "execution_count": 52,
   "metadata": {
    "scrolled": true
   },
   "outputs": [
    {
     "name": "stdout",
     "output_type": "stream",
     "text": [
      "Лучшие параметры для дерева (финальный продукт): {'max_depth': 2, 'min_samples_leaf': 3, 'min_samples_split': 4}\n",
      "Лучшая точность для дерева (финальный продукт): 9.244420374150659\n",
      "CPU times: user 24.1 s, sys: 119 ms, total: 24.2 s\n",
      "Wall time: 24.5 s\n"
     ]
    }
   ],
   "source": [
    "%%time\n",
    "best_params_tf, best_score_tf = tree_model_halving(target_train_final, features_train)\n",
    "print(f'Лучшие параметры для дерева (финальный продукт): {best_params_tf}')\n",
    "print(f'Лучшая точность для дерева (финальный продукт): {best_score_tf}')"
   ]
  },
  {
   "cell_type": "markdown",
   "metadata": {},
   "source": [
    "#### 3.2.4 Лассо"
   ]
  },
  {
   "cell_type": "code",
   "execution_count": 51,
   "metadata": {},
   "outputs": [],
   "source": [
    "def lasso_model(target, features):\n",
    "    param_grid = {\n",
    "    \"lasso__alpha\": [x / 10.0 for x in range(1, 11)],\n",
    "    \"lasso__max_iter\": list(range(501, 2501, 25))\n",
    "}\n",
    "    model = Lasso(random_state=222)\n",
    "    halving_cv = HalvingGridSearchCV(make_pipeline(StandardScaler(), model), \n",
    "                                     param_grid, \n",
    "                                     n_jobs=-1, \n",
    "                                     scoring=smape_error, \n",
    "                                     min_resources=\"exhaust\", \n",
    "                                     factor=5, \n",
    "                                     random_state=222, \n",
    "                                     refit=True)\n",
    "    halving_cv.fit(features, target)\n",
    "    return halving_cv.best_params_, abs(halving_cv.best_score_)"
   ]
  },
  {
   "cell_type": "code",
   "execution_count": 52,
   "metadata": {},
   "outputs": [
    {
     "name": "stderr",
     "output_type": "stream",
     "text": [
      "/opt/conda/lib/python3.9/site-packages/sklearn/linear_model/_coordinate_descent.py:530: ConvergenceWarning: Objective did not converge. You might want to increase the number of iterations. Duality gap: 0.543976208298738, tolerance: 0.20213406136813802\n",
      "  model = cd_fast.enet_coordinate_descent(\n",
      "/opt/conda/lib/python3.9/site-packages/sklearn/linear_model/_coordinate_descent.py:530: ConvergenceWarning: Objective did not converge. You might want to increase the number of iterations. Duality gap: 0.17817241488418034, tolerance: 0.08984821408292361\n",
      "  model = cd_fast.enet_coordinate_descent(\n",
      "/opt/conda/lib/python3.9/site-packages/sklearn/linear_model/_coordinate_descent.py:530: ConvergenceWarning: Objective did not converge. You might want to increase the number of iterations. Duality gap: 0.2199445422893973, tolerance: 0.08868040189299857\n",
      "  model = cd_fast.enet_coordinate_descent(\n",
      "/opt/conda/lib/python3.9/site-packages/sklearn/linear_model/_coordinate_descent.py:530: ConvergenceWarning: Objective did not converge. You might want to increase the number of iterations. Duality gap: 0.15100709405114898, tolerance: 0.07255240267693219\n",
      "  model = cd_fast.enet_coordinate_descent(\n",
      "/opt/conda/lib/python3.9/site-packages/sklearn/linear_model/_coordinate_descent.py:530: ConvergenceWarning: Objective did not converge. You might want to increase the number of iterations. Duality gap: 0.33435618356399743, tolerance: 0.06091736622779399\n",
      "  model = cd_fast.enet_coordinate_descent(\n",
      "/opt/conda/lib/python3.9/site-packages/sklearn/linear_model/_coordinate_descent.py:530: ConvergenceWarning: Objective did not converge. You might want to increase the number of iterations. Duality gap: 0.52274827219183, tolerance: 0.20213406136813802\n",
      "  model = cd_fast.enet_coordinate_descent(\n",
      "/opt/conda/lib/python3.9/site-packages/sklearn/linear_model/_coordinate_descent.py:530: ConvergenceWarning: Objective did not converge. You might want to increase the number of iterations. Duality gap: 0.1726503995160762, tolerance: 0.08984821408292361\n",
      "  model = cd_fast.enet_coordinate_descent(\n",
      "/opt/conda/lib/python3.9/site-packages/sklearn/linear_model/_coordinate_descent.py:530: ConvergenceWarning: Objective did not converge. You might want to increase the number of iterations. Duality gap: 0.17652636807661004, tolerance: 0.08868040189299857\n",
      "  model = cd_fast.enet_coordinate_descent(\n",
      "/opt/conda/lib/python3.9/site-packages/sklearn/linear_model/_coordinate_descent.py:530: ConvergenceWarning: Objective did not converge. You might want to increase the number of iterations. Duality gap: 0.13428358431779763, tolerance: 0.07255240267693219\n",
      "  model = cd_fast.enet_coordinate_descent(\n",
      "/opt/conda/lib/python3.9/site-packages/sklearn/linear_model/_coordinate_descent.py:530: ConvergenceWarning: Objective did not converge. You might want to increase the number of iterations. Duality gap: 0.3136053018505116, tolerance: 0.06091736622779399\n",
      "  model = cd_fast.enet_coordinate_descent(\n",
      "/opt/conda/lib/python3.9/site-packages/sklearn/linear_model/_coordinate_descent.py:530: ConvergenceWarning: Objective did not converge. You might want to increase the number of iterations. Duality gap: 0.5024866005298723, tolerance: 0.20213406136813802\n",
      "  model = cd_fast.enet_coordinate_descent(\n",
      "/opt/conda/lib/python3.9/site-packages/sklearn/linear_model/_coordinate_descent.py:530: ConvergenceWarning: Objective did not converge. You might want to increase the number of iterations. Duality gap: 0.1685904487090717, tolerance: 0.08984821408292361\n",
      "  model = cd_fast.enet_coordinate_descent(\n",
      "/opt/conda/lib/python3.9/site-packages/sklearn/linear_model/_coordinate_descent.py:530: ConvergenceWarning: Objective did not converge. You might want to increase the number of iterations. Duality gap: 0.1436416587562892, tolerance: 0.08868040189299857\n",
      "  model = cd_fast.enet_coordinate_descent(\n",
      "/opt/conda/lib/python3.9/site-packages/sklearn/linear_model/_coordinate_descent.py:530: ConvergenceWarning: Objective did not converge. You might want to increase the number of iterations. Duality gap: 0.12473081590479573, tolerance: 0.07255240267693219\n",
      "  model = cd_fast.enet_coordinate_descent(\n",
      "/opt/conda/lib/python3.9/site-packages/sklearn/linear_model/_coordinate_descent.py:530: ConvergenceWarning: Objective did not converge. You might want to increase the number of iterations. Duality gap: 0.29431962189150696, tolerance: 0.06091736622779399\n",
      "  model = cd_fast.enet_coordinate_descent(\n",
      "/opt/conda/lib/python3.9/site-packages/sklearn/linear_model/_coordinate_descent.py:530: ConvergenceWarning: Objective did not converge. You might want to increase the number of iterations. Duality gap: 0.4831429523164452, tolerance: 0.20213406136813802\n",
      "  model = cd_fast.enet_coordinate_descent(\n",
      "/opt/conda/lib/python3.9/site-packages/sklearn/linear_model/_coordinate_descent.py:530: ConvergenceWarning: Objective did not converge. You might want to increase the number of iterations. Duality gap: 0.1737611835460875, tolerance: 0.08984821408292361\n",
      "  model = cd_fast.enet_coordinate_descent(\n",
      "/opt/conda/lib/python3.9/site-packages/sklearn/linear_model/_coordinate_descent.py:530: ConvergenceWarning: Objective did not converge. You might want to increase the number of iterations. Duality gap: 0.11701596560746452, tolerance: 0.08868040189299857\n",
      "  model = cd_fast.enet_coordinate_descent(\n",
      "/opt/conda/lib/python3.9/site-packages/sklearn/linear_model/_coordinate_descent.py:530: ConvergenceWarning: Objective did not converge. You might want to increase the number of iterations. Duality gap: 0.12146387653358559, tolerance: 0.07255240267693219\n",
      "  model = cd_fast.enet_coordinate_descent(\n",
      "/opt/conda/lib/python3.9/site-packages/sklearn/linear_model/_coordinate_descent.py:530: ConvergenceWarning: Objective did not converge. You might want to increase the number of iterations. Duality gap: 0.27632288645316105, tolerance: 0.06091736622779399\n",
      "  model = cd_fast.enet_coordinate_descent(\n",
      "/opt/conda/lib/python3.9/site-packages/sklearn/linear_model/_coordinate_descent.py:530: ConvergenceWarning: Objective did not converge. You might want to increase the number of iterations. Duality gap: 0.4646717109485081, tolerance: 0.20213406136813802\n",
      "  model = cd_fast.enet_coordinate_descent(\n",
      "/opt/conda/lib/python3.9/site-packages/sklearn/linear_model/_coordinate_descent.py:530: ConvergenceWarning: Objective did not converge. You might want to increase the number of iterations. Duality gap: 0.15835919937900478, tolerance: 0.08984821408292361\n",
      "  model = cd_fast.enet_coordinate_descent(\n",
      "/opt/conda/lib/python3.9/site-packages/sklearn/linear_model/_coordinate_descent.py:530: ConvergenceWarning: Objective did not converge. You might want to increase the number of iterations. Duality gap: 0.09522730156127146, tolerance: 0.08868040189299857\n",
      "  model = cd_fast.enet_coordinate_descent(\n",
      "/opt/conda/lib/python3.9/site-packages/sklearn/linear_model/_coordinate_descent.py:530: ConvergenceWarning: Objective did not converge. You might want to increase the number of iterations. Duality gap: 0.1183514640377723, tolerance: 0.07255240267693219\n",
      "  model = cd_fast.enet_coordinate_descent(\n",
      "/opt/conda/lib/python3.9/site-packages/sklearn/linear_model/_coordinate_descent.py:530: ConvergenceWarning: Objective did not converge. You might want to increase the number of iterations. Duality gap: 0.2595087873685209, tolerance: 0.06091736622779399\n",
      "  model = cd_fast.enet_coordinate_descent(\n",
      "/opt/conda/lib/python3.9/site-packages/sklearn/linear_model/_coordinate_descent.py:530: ConvergenceWarning: Objective did not converge. You might want to increase the number of iterations. Duality gap: 0.4470297292596035, tolerance: 0.20213406136813802\n",
      "  model = cd_fast.enet_coordinate_descent(\n",
      "/opt/conda/lib/python3.9/site-packages/sklearn/linear_model/_coordinate_descent.py:530: ConvergenceWarning: Objective did not converge. You might want to increase the number of iterations. Duality gap: 0.13465606982668454, tolerance: 0.08984821408292361\n",
      "  model = cd_fast.enet_coordinate_descent(\n",
      "/opt/conda/lib/python3.9/site-packages/sklearn/linear_model/_coordinate_descent.py:530: ConvergenceWarning: Objective did not converge. You might want to increase the number of iterations. Duality gap: 0.09621854061775181, tolerance: 0.07255240267693219\n",
      "  model = cd_fast.enet_coordinate_descent(\n",
      "/opt/conda/lib/python3.9/site-packages/sklearn/linear_model/_coordinate_descent.py:530: ConvergenceWarning: Objective did not converge. You might want to increase the number of iterations. Duality gap: 0.2437906238954568, tolerance: 0.06091736622779399\n",
      "  model = cd_fast.enet_coordinate_descent(\n",
      "/opt/conda/lib/python3.9/site-packages/sklearn/linear_model/_coordinate_descent.py:530: ConvergenceWarning: Objective did not converge. You might want to increase the number of iterations. Duality gap: 0.4301761821308112, tolerance: 0.20213406136813802\n",
      "  model = cd_fast.enet_coordinate_descent(\n",
      "/opt/conda/lib/python3.9/site-packages/sklearn/linear_model/_coordinate_descent.py:530: ConvergenceWarning: Objective did not converge. You might want to increase the number of iterations. Duality gap: 0.11273052410955842, tolerance: 0.08984821408292361\n",
      "  model = cd_fast.enet_coordinate_descent(\n",
      "/opt/conda/lib/python3.9/site-packages/sklearn/linear_model/_coordinate_descent.py:530: ConvergenceWarning: Objective did not converge. You might want to increase the number of iterations. Duality gap: 0.08661389975381795, tolerance: 0.07255240267693219\n",
      "  model = cd_fast.enet_coordinate_descent(\n",
      "/opt/conda/lib/python3.9/site-packages/sklearn/linear_model/_coordinate_descent.py:530: ConvergenceWarning: Objective did not converge. You might want to increase the number of iterations. Duality gap: 0.22909038736884302, tolerance: 0.06091736622779399\n",
      "  model = cd_fast.enet_coordinate_descent(\n",
      "/opt/conda/lib/python3.9/site-packages/sklearn/linear_model/_coordinate_descent.py:530: ConvergenceWarning: Objective did not converge. You might want to increase the number of iterations. Duality gap: 0.4140724283320978, tolerance: 0.20213406136813802\n",
      "  model = cd_fast.enet_coordinate_descent(\n",
      "/opt/conda/lib/python3.9/site-packages/sklearn/linear_model/_coordinate_descent.py:530: ConvergenceWarning: Objective did not converge. You might want to increase the number of iterations. Duality gap: 0.09399599233969269, tolerance: 0.08984821408292361\n",
      "  model = cd_fast.enet_coordinate_descent(\n",
      "/opt/conda/lib/python3.9/site-packages/sklearn/linear_model/_coordinate_descent.py:530: ConvergenceWarning: Objective did not converge. You might want to increase the number of iterations. Duality gap: 0.08106058512617764, tolerance: 0.07255240267693219\n",
      "  model = cd_fast.enet_coordinate_descent(\n",
      "/opt/conda/lib/python3.9/site-packages/sklearn/linear_model/_coordinate_descent.py:530: ConvergenceWarning: Objective did not converge. You might want to increase the number of iterations. Duality gap: 0.21533627976236858, tolerance: 0.06091736622779399\n",
      "  model = cd_fast.enet_coordinate_descent(\n",
      "/opt/conda/lib/python3.9/site-packages/sklearn/linear_model/_coordinate_descent.py:530: ConvergenceWarning: Objective did not converge. You might want to increase the number of iterations. Duality gap: 0.398681881345869, tolerance: 0.20213406136813802\n",
      "  model = cd_fast.enet_coordinate_descent(\n",
      "/opt/conda/lib/python3.9/site-packages/sklearn/linear_model/_coordinate_descent.py:530: ConvergenceWarning: Objective did not converge. You might want to increase the number of iterations. Duality gap: 0.07654070168556792, tolerance: 0.07255240267693219\n",
      "  model = cd_fast.enet_coordinate_descent(\n",
      "/opt/conda/lib/python3.9/site-packages/sklearn/linear_model/_coordinate_descent.py:530: ConvergenceWarning: Objective did not converge. You might want to increase the number of iterations. Duality gap: 0.20246195914861964, tolerance: 0.06091736622779399\n",
      "  model = cd_fast.enet_coordinate_descent(\n",
      "/opt/conda/lib/python3.9/site-packages/sklearn/linear_model/_coordinate_descent.py:530: ConvergenceWarning: Objective did not converge. You might want to increase the number of iterations. Duality gap: 0.40541457944764403, tolerance: 0.20213406136813802\n",
      "  model = cd_fast.enet_coordinate_descent(\n",
      "/opt/conda/lib/python3.9/site-packages/sklearn/linear_model/_coordinate_descent.py:530: ConvergenceWarning: Objective did not converge. You might want to increase the number of iterations. Duality gap: 0.0743970349962737, tolerance: 0.07255240267693219\n",
      "  model = cd_fast.enet_coordinate_descent(\n",
      "/opt/conda/lib/python3.9/site-packages/sklearn/linear_model/_coordinate_descent.py:530: ConvergenceWarning: Objective did not converge. You might want to increase the number of iterations. Duality gap: 0.19040611154304, tolerance: 0.06091736622779399\n",
      "  model = cd_fast.enet_coordinate_descent(\n",
      "/opt/conda/lib/python3.9/site-packages/sklearn/linear_model/_coordinate_descent.py:530: ConvergenceWarning: Objective did not converge. You might want to increase the number of iterations. Duality gap: 0.4071411143202308, tolerance: 0.20213406136813802\n",
      "  model = cd_fast.enet_coordinate_descent(\n",
      "/opt/conda/lib/python3.9/site-packages/sklearn/linear_model/_coordinate_descent.py:530: ConvergenceWarning: Objective did not converge. You might want to increase the number of iterations. Duality gap: 0.1791120788963827, tolerance: 0.06091736622779399\n",
      "  model = cd_fast.enet_coordinate_descent(\n",
      "/opt/conda/lib/python3.9/site-packages/sklearn/linear_model/_coordinate_descent.py:530: ConvergenceWarning: Objective did not converge. You might want to increase the number of iterations. Duality gap: 0.40682031324374535, tolerance: 0.20213406136813802\n",
      "  model = cd_fast.enet_coordinate_descent(\n",
      "/opt/conda/lib/python3.9/site-packages/sklearn/linear_model/_coordinate_descent.py:530: ConvergenceWarning: Objective did not converge. You might want to increase the number of iterations. Duality gap: 0.16852750284765072, tolerance: 0.06091736622779399\n",
      "  model = cd_fast.enet_coordinate_descent(\n",
      "/opt/conda/lib/python3.9/site-packages/sklearn/linear_model/_coordinate_descent.py:530: ConvergenceWarning: Objective did not converge. You might want to increase the number of iterations. Duality gap: 0.4059050593215723, tolerance: 0.20213406136813802\n",
      "  model = cd_fast.enet_coordinate_descent(\n",
      "/opt/conda/lib/python3.9/site-packages/sklearn/linear_model/_coordinate_descent.py:530: ConvergenceWarning: Objective did not converge. You might want to increase the number of iterations. Duality gap: 0.13558765052512545, tolerance: 0.06091736622779399\n",
      "  model = cd_fast.enet_coordinate_descent(\n",
      "/opt/conda/lib/python3.9/site-packages/sklearn/linear_model/_coordinate_descent.py:530: ConvergenceWarning: Objective did not converge. You might want to increase the number of iterations. Duality gap: 0.4048117839954948, tolerance: 0.20213406136813802\n",
      "  model = cd_fast.enet_coordinate_descent(\n",
      "/opt/conda/lib/python3.9/site-packages/sklearn/linear_model/_coordinate_descent.py:530: ConvergenceWarning: Objective did not converge. You might want to increase the number of iterations. Duality gap: 0.40366504686056626, tolerance: 0.20213406136813802\n",
      "  model = cd_fast.enet_coordinate_descent(\n",
      "/opt/conda/lib/python3.9/site-packages/sklearn/linear_model/_coordinate_descent.py:530: ConvergenceWarning: Objective did not converge. You might want to increase the number of iterations. Duality gap: 0.402502253280959, tolerance: 0.20213406136813802\n",
      "  model = cd_fast.enet_coordinate_descent(\n",
      "/opt/conda/lib/python3.9/site-packages/sklearn/linear_model/_coordinate_descent.py:530: ConvergenceWarning: Objective did not converge. You might want to increase the number of iterations. Duality gap: 0.35122683455078274, tolerance: 0.20213406136813802\n",
      "  model = cd_fast.enet_coordinate_descent(\n",
      "/opt/conda/lib/python3.9/site-packages/sklearn/linear_model/_coordinate_descent.py:530: ConvergenceWarning: Objective did not converge. You might want to increase the number of iterations. Duality gap: 0.30088011180675167, tolerance: 0.20213406136813802\n",
      "  model = cd_fast.enet_coordinate_descent(\n",
      "/opt/conda/lib/python3.9/site-packages/sklearn/linear_model/_coordinate_descent.py:530: ConvergenceWarning: Objective did not converge. You might want to increase the number of iterations. Duality gap: 0.26476698281707733, tolerance: 0.20213406136813802\n",
      "  model = cd_fast.enet_coordinate_descent(\n",
      "/opt/conda/lib/python3.9/site-packages/sklearn/linear_model/_coordinate_descent.py:530: ConvergenceWarning: Objective did not converge. You might want to increase the number of iterations. Duality gap: 0.2361947469483372, tolerance: 0.20213406136813802\n",
      "  model = cd_fast.enet_coordinate_descent(\n",
      "/opt/conda/lib/python3.9/site-packages/sklearn/linear_model/_coordinate_descent.py:530: ConvergenceWarning: Objective did not converge. You might want to increase the number of iterations. Duality gap: 0.21264904307972632, tolerance: 0.20213406136813802\n",
      "  model = cd_fast.enet_coordinate_descent(\n",
      "/opt/conda/lib/python3.9/site-packages/sklearn/linear_model/_coordinate_descent.py:530: ConvergenceWarning: Objective did not converge. You might want to increase the number of iterations. Duality gap: 0.22472086641191424, tolerance: 0.20213406136813802\n",
      "  model = cd_fast.enet_coordinate_descent(\n",
      "/opt/conda/lib/python3.9/site-packages/sklearn/linear_model/_coordinate_descent.py:530: ConvergenceWarning: Objective did not converge. You might want to increase the number of iterations. Duality gap: 0.07409213443313689, tolerance: 0.07255240267693219\n",
      "  model = cd_fast.enet_coordinate_descent(\n",
      "/opt/conda/lib/python3.9/site-packages/sklearn/linear_model/_coordinate_descent.py:530: ConvergenceWarning: Objective did not converge. You might want to increase the number of iterations. Duality gap: 0.2204757571114584, tolerance: 0.20213406136813802\n",
      "  model = cd_fast.enet_coordinate_descent(\n",
      "/opt/conda/lib/python3.9/site-packages/sklearn/linear_model/_coordinate_descent.py:530: ConvergenceWarning: Objective did not converge. You might want to increase the number of iterations. Duality gap: 0.21623717032959178, tolerance: 0.20213406136813802\n",
      "  model = cd_fast.enet_coordinate_descent(\n",
      "/opt/conda/lib/python3.9/site-packages/sklearn/linear_model/_coordinate_descent.py:530: ConvergenceWarning: Objective did not converge. You might want to increase the number of iterations. Duality gap: 0.21200233223982679, tolerance: 0.20213406136813802\n",
      "  model = cd_fast.enet_coordinate_descent(\n",
      "/opt/conda/lib/python3.9/site-packages/sklearn/linear_model/_coordinate_descent.py:530: ConvergenceWarning: Objective did not converge. You might want to increase the number of iterations. Duality gap: 0.20776994832986162, tolerance: 0.20213406136813802\n",
      "  model = cd_fast.enet_coordinate_descent(\n",
      "/opt/conda/lib/python3.9/site-packages/sklearn/linear_model/_coordinate_descent.py:530: ConvergenceWarning: Objective did not converge. You might want to increase the number of iterations. Duality gap: 0.20353941437464584, tolerance: 0.20213406136813802\n",
      "  model = cd_fast.enet_coordinate_descent(\n",
      "/opt/conda/lib/python3.9/site-packages/sklearn/linear_model/_coordinate_descent.py:530: ConvergenceWarning: Objective did not converge. You might want to increase the number of iterations. Duality gap: 0.26040383743320206, tolerance: 0.20213406136813802\n",
      "  model = cd_fast.enet_coordinate_descent(\n",
      "/opt/conda/lib/python3.9/site-packages/sklearn/linear_model/_coordinate_descent.py:530: ConvergenceWarning: Objective did not converge. You might want to increase the number of iterations. Duality gap: 0.2510566975476394, tolerance: 0.20213406136813802\n",
      "  model = cd_fast.enet_coordinate_descent(\n",
      "/opt/conda/lib/python3.9/site-packages/sklearn/linear_model/_coordinate_descent.py:530: ConvergenceWarning: Objective did not converge. You might want to increase the number of iterations. Duality gap: 0.24171782893905913, tolerance: 0.20213406136813802\n",
      "  model = cd_fast.enet_coordinate_descent(\n",
      "/opt/conda/lib/python3.9/site-packages/sklearn/linear_model/_coordinate_descent.py:530: ConvergenceWarning: Objective did not converge. You might want to increase the number of iterations. Duality gap: 0.23238726484264305, tolerance: 0.20213406136813802\n",
      "  model = cd_fast.enet_coordinate_descent(\n",
      "/opt/conda/lib/python3.9/site-packages/sklearn/linear_model/_coordinate_descent.py:530: ConvergenceWarning: Objective did not converge. You might want to increase the number of iterations. Duality gap: 0.22306501339793527, tolerance: 0.20213406136813802\n",
      "  model = cd_fast.enet_coordinate_descent(\n",
      "/opt/conda/lib/python3.9/site-packages/sklearn/linear_model/_coordinate_descent.py:530: ConvergenceWarning: Objective did not converge. You might want to increase the number of iterations. Duality gap: 0.21375107378727876, tolerance: 0.20213406136813802\n",
      "  model = cd_fast.enet_coordinate_descent(\n",
      "/opt/conda/lib/python3.9/site-packages/sklearn/linear_model/_coordinate_descent.py:530: ConvergenceWarning: Objective did not converge. You might want to increase the number of iterations. Duality gap: 0.20444544199833103, tolerance: 0.20213406136813802\n",
      "  model = cd_fast.enet_coordinate_descent(\n",
      "/opt/conda/lib/python3.9/site-packages/sklearn/linear_model/_coordinate_descent.py:530: ConvergenceWarning: Objective did not converge. You might want to increase the number of iterations. Duality gap: 0.22791682261679114, tolerance: 0.20213406136813802\n",
      "  model = cd_fast.enet_coordinate_descent(\n",
      "/opt/conda/lib/python3.9/site-packages/sklearn/linear_model/_coordinate_descent.py:530: ConvergenceWarning: Objective did not converge. You might want to increase the number of iterations. Duality gap: 0.21351678410161412, tolerance: 0.20213406136813802\n",
      "  model = cd_fast.enet_coordinate_descent(\n"
     ]
    },
    {
     "name": "stdout",
     "output_type": "stream",
     "text": [
      "Лучшие параметры для лассо (сырьё): {'lasso__alpha': 0.9, 'lasso__max_iter': 701}\n",
      "Лучшая точность для лассо (сырьё): 6.746654235920275\n",
      "CPU times: user 1min 5s, sys: 26 s, total: 1min 31s\n",
      "Wall time: 1min 31s\n"
     ]
    }
   ],
   "source": [
    "%%time\n",
    "best_params_lsr, best_score_lsr = lasso_model(target_train_rougher, features_train)\n",
    "print(f'Лучшие параметры для лассо (сырьё): {best_params_lsr}')\n",
    "print(f'Лучшая точность для лассо (сырьё): {best_score_lsr}')"
   ]
  },
  {
   "cell_type": "code",
   "execution_count": 53,
   "metadata": {
    "scrolled": true
   },
   "outputs": [
    {
     "name": "stderr",
     "output_type": "stream",
     "text": [
      "/opt/conda/lib/python3.9/site-packages/sklearn/linear_model/_coordinate_descent.py:530: ConvergenceWarning: Objective did not converge. You might want to increase the number of iterations. Duality gap: 0.624974627733824, tolerance: 0.12120895089991271\n",
      "  model = cd_fast.enet_coordinate_descent(\n",
      "/opt/conda/lib/python3.9/site-packages/sklearn/linear_model/_coordinate_descent.py:530: ConvergenceWarning: Objective did not converge. You might want to increase the number of iterations. Duality gap: 0.38198663515366604, tolerance: 0.12498790631190954\n",
      "  model = cd_fast.enet_coordinate_descent(\n",
      "/opt/conda/lib/python3.9/site-packages/sklearn/linear_model/_coordinate_descent.py:530: ConvergenceWarning: Objective did not converge. You might want to increase the number of iterations. Duality gap: 0.227033314598577, tolerance: 0.11657953174409441\n",
      "  model = cd_fast.enet_coordinate_descent(\n",
      "/opt/conda/lib/python3.9/site-packages/sklearn/linear_model/_coordinate_descent.py:530: ConvergenceWarning: Objective did not converge. You might want to increase the number of iterations. Duality gap: 0.6031814450972917, tolerance: 0.12120895089991271\n",
      "  model = cd_fast.enet_coordinate_descent(\n",
      "/opt/conda/lib/python3.9/site-packages/sklearn/linear_model/_coordinate_descent.py:530: ConvergenceWarning: Objective did not converge. You might want to increase the number of iterations. Duality gap: 0.33518141191351347, tolerance: 0.12498790631190954\n",
      "  model = cd_fast.enet_coordinate_descent(\n",
      "/opt/conda/lib/python3.9/site-packages/sklearn/linear_model/_coordinate_descent.py:530: ConvergenceWarning: Objective did not converge. You might want to increase the number of iterations. Duality gap: 0.20951697005790848, tolerance: 0.11657953174409441\n",
      "  model = cd_fast.enet_coordinate_descent(\n",
      "/opt/conda/lib/python3.9/site-packages/sklearn/linear_model/_coordinate_descent.py:530: ConvergenceWarning: Objective did not converge. You might want to increase the number of iterations. Duality gap: 0.5811684107042119, tolerance: 0.12120895089991271\n",
      "  model = cd_fast.enet_coordinate_descent(\n",
      "/opt/conda/lib/python3.9/site-packages/sklearn/linear_model/_coordinate_descent.py:530: ConvergenceWarning: Objective did not converge. You might want to increase the number of iterations. Duality gap: 0.2942723394893232, tolerance: 0.12498790631190954\n",
      "  model = cd_fast.enet_coordinate_descent(\n",
      "/opt/conda/lib/python3.9/site-packages/sklearn/linear_model/_coordinate_descent.py:530: ConvergenceWarning: Objective did not converge. You might want to increase the number of iterations. Duality gap: 0.19302335488296407, tolerance: 0.11657953174409441\n",
      "  model = cd_fast.enet_coordinate_descent(\n",
      "/opt/conda/lib/python3.9/site-packages/sklearn/linear_model/_coordinate_descent.py:530: ConvergenceWarning: Objective did not converge. You might want to increase the number of iterations. Duality gap: 0.5594486991309964, tolerance: 0.12120895089991271\n",
      "  model = cd_fast.enet_coordinate_descent(\n",
      "/opt/conda/lib/python3.9/site-packages/sklearn/linear_model/_coordinate_descent.py:530: ConvergenceWarning: Objective did not converge. You might want to increase the number of iterations. Duality gap: 0.25851063967989596, tolerance: 0.12498790631190954\n",
      "  model = cd_fast.enet_coordinate_descent(\n",
      "/opt/conda/lib/python3.9/site-packages/sklearn/linear_model/_coordinate_descent.py:530: ConvergenceWarning: Objective did not converge. You might want to increase the number of iterations. Duality gap: 0.18252269303672364, tolerance: 0.11657953174409441\n",
      "  model = cd_fast.enet_coordinate_descent(\n",
      "/opt/conda/lib/python3.9/site-packages/sklearn/linear_model/_coordinate_descent.py:530: ConvergenceWarning: Objective did not converge. You might want to increase the number of iterations. Duality gap: 0.5382815835848351, tolerance: 0.12120895089991271\n",
      "  model = cd_fast.enet_coordinate_descent(\n",
      "/opt/conda/lib/python3.9/site-packages/sklearn/linear_model/_coordinate_descent.py:530: ConvergenceWarning: Objective did not converge. You might want to increase the number of iterations. Duality gap: 0.22724239412745462, tolerance: 0.12498790631190954\n",
      "  model = cd_fast.enet_coordinate_descent(\n",
      "/opt/conda/lib/python3.9/site-packages/sklearn/linear_model/_coordinate_descent.py:530: ConvergenceWarning: Objective did not converge. You might want to increase the number of iterations. Duality gap: 0.17413222954766638, tolerance: 0.11657953174409441\n",
      "  model = cd_fast.enet_coordinate_descent(\n",
      "/opt/conda/lib/python3.9/site-packages/sklearn/linear_model/_coordinate_descent.py:530: ConvergenceWarning: Objective did not converge. You might want to increase the number of iterations. Duality gap: 0.5177883721775665, tolerance: 0.12120895089991271\n",
      "  model = cd_fast.enet_coordinate_descent(\n",
      "/opt/conda/lib/python3.9/site-packages/sklearn/linear_model/_coordinate_descent.py:530: ConvergenceWarning: Objective did not converge. You might want to increase the number of iterations. Duality gap: 0.16682404850329746, tolerance: 0.11657953174409441\n",
      "  model = cd_fast.enet_coordinate_descent(\n",
      "/opt/conda/lib/python3.9/site-packages/sklearn/linear_model/_coordinate_descent.py:530: ConvergenceWarning: Objective did not converge. You might want to increase the number of iterations. Duality gap: 0.49801713236242406, tolerance: 0.12120895089991271\n",
      "  model = cd_fast.enet_coordinate_descent(\n",
      "/opt/conda/lib/python3.9/site-packages/sklearn/linear_model/_coordinate_descent.py:530: ConvergenceWarning: Objective did not converge. You might want to increase the number of iterations. Duality gap: 0.16016283233572715, tolerance: 0.11657953174409441\n",
      "  model = cd_fast.enet_coordinate_descent(\n",
      "/opt/conda/lib/python3.9/site-packages/sklearn/linear_model/_coordinate_descent.py:530: ConvergenceWarning: Objective did not converge. You might want to increase the number of iterations. Duality gap: 0.5602544255796964, tolerance: 0.12120895089991271\n",
      "  model = cd_fast.enet_coordinate_descent(\n",
      "/opt/conda/lib/python3.9/site-packages/sklearn/linear_model/_coordinate_descent.py:530: ConvergenceWarning: Objective did not converge. You might want to increase the number of iterations. Duality gap: 0.15393998448016788, tolerance: 0.11657953174409441\n",
      "  model = cd_fast.enet_coordinate_descent(\n",
      "/opt/conda/lib/python3.9/site-packages/sklearn/linear_model/_coordinate_descent.py:530: ConvergenceWarning: Objective did not converge. You might want to increase the number of iterations. Duality gap: 0.4179897468319247, tolerance: 0.12120895089991271\n",
      "  model = cd_fast.enet_coordinate_descent(\n",
      "/opt/conda/lib/python3.9/site-packages/sklearn/linear_model/_coordinate_descent.py:530: ConvergenceWarning: Objective did not converge. You might want to increase the number of iterations. Duality gap: 0.1480470733905026, tolerance: 0.11657953174409441\n",
      "  model = cd_fast.enet_coordinate_descent(\n",
      "/opt/conda/lib/python3.9/site-packages/sklearn/linear_model/_coordinate_descent.py:530: ConvergenceWarning: Objective did not converge. You might want to increase the number of iterations. Duality gap: 0.2685868808990364, tolerance: 0.12120895089991271\n",
      "  model = cd_fast.enet_coordinate_descent(\n",
      "/opt/conda/lib/python3.9/site-packages/sklearn/linear_model/_coordinate_descent.py:530: ConvergenceWarning: Objective did not converge. You might want to increase the number of iterations. Duality gap: 0.14242530926657793, tolerance: 0.11657953174409441\n",
      "  model = cd_fast.enet_coordinate_descent(\n",
      "/opt/conda/lib/python3.9/site-packages/sklearn/linear_model/_coordinate_descent.py:530: ConvergenceWarning: Objective did not converge. You might want to increase the number of iterations. Duality gap: 0.17295469461918955, tolerance: 0.12120895089991271\n",
      "  model = cd_fast.enet_coordinate_descent(\n",
      "/opt/conda/lib/python3.9/site-packages/sklearn/linear_model/_coordinate_descent.py:530: ConvergenceWarning: Objective did not converge. You might want to increase the number of iterations. Duality gap: 0.13704103076732466, tolerance: 0.11657953174409441\n",
      "  model = cd_fast.enet_coordinate_descent(\n",
      "/opt/conda/lib/python3.9/site-packages/sklearn/linear_model/_coordinate_descent.py:530: ConvergenceWarning: Objective did not converge. You might want to increase the number of iterations. Duality gap: 0.1318733835361705, tolerance: 0.11657953174409441\n",
      "  model = cd_fast.enet_coordinate_descent(\n",
      "/opt/conda/lib/python3.9/site-packages/sklearn/linear_model/_coordinate_descent.py:530: ConvergenceWarning: Objective did not converge. You might want to increase the number of iterations. Duality gap: 0.12690811269329316, tolerance: 0.11657953174409441\n",
      "  model = cd_fast.enet_coordinate_descent(\n",
      "/opt/conda/lib/python3.9/site-packages/sklearn/linear_model/_coordinate_descent.py:530: ConvergenceWarning: Objective did not converge. You might want to increase the number of iterations. Duality gap: 0.12213443362959708, tolerance: 0.11657953174409441\n",
      "  model = cd_fast.enet_coordinate_descent(\n",
      "/opt/conda/lib/python3.9/site-packages/sklearn/linear_model/_coordinate_descent.py:530: ConvergenceWarning: Objective did not converge. You might want to increase the number of iterations. Duality gap: 0.11754345173315528, tolerance: 0.11657953174409441\n",
      "  model = cd_fast.enet_coordinate_descent(\n",
      "/opt/conda/lib/python3.9/site-packages/sklearn/linear_model/_coordinate_descent.py:530: ConvergenceWarning: Objective did not converge. You might want to increase the number of iterations. Duality gap: 0.1358277735577289, tolerance: 0.11657953174409441\n",
      "  model = cd_fast.enet_coordinate_descent(\n",
      "/opt/conda/lib/python3.9/site-packages/sklearn/linear_model/_coordinate_descent.py:530: ConvergenceWarning: Objective did not converge. You might want to increase the number of iterations. Duality gap: 0.13324455025504278, tolerance: 0.11657953174409441\n",
      "  model = cd_fast.enet_coordinate_descent(\n",
      "/opt/conda/lib/python3.9/site-packages/sklearn/linear_model/_coordinate_descent.py:530: ConvergenceWarning: Objective did not converge. You might want to increase the number of iterations. Duality gap: 0.13055613208378247, tolerance: 0.11657953174409441\n",
      "  model = cd_fast.enet_coordinate_descent(\n",
      "/opt/conda/lib/python3.9/site-packages/sklearn/linear_model/_coordinate_descent.py:530: ConvergenceWarning: Objective did not converge. You might want to increase the number of iterations. Duality gap: 0.12779956752471122, tolerance: 0.11657953174409441\n",
      "  model = cd_fast.enet_coordinate_descent(\n",
      "/opt/conda/lib/python3.9/site-packages/sklearn/linear_model/_coordinate_descent.py:530: ConvergenceWarning: Objective did not converge. You might want to increase the number of iterations. Duality gap: 0.12500412956021734, tolerance: 0.11657953174409441\n",
      "  model = cd_fast.enet_coordinate_descent(\n",
      "/opt/conda/lib/python3.9/site-packages/sklearn/linear_model/_coordinate_descent.py:530: ConvergenceWarning: Objective did not converge. You might want to increase the number of iterations. Duality gap: 0.1221928599223645, tolerance: 0.11657953174409441\n",
      "  model = cd_fast.enet_coordinate_descent(\n",
      "/opt/conda/lib/python3.9/site-packages/sklearn/linear_model/_coordinate_descent.py:530: ConvergenceWarning: Objective did not converge. You might want to increase the number of iterations. Duality gap: 0.1193838117873014, tolerance: 0.11657953174409441\n",
      "  model = cd_fast.enet_coordinate_descent(\n",
      "/opt/conda/lib/python3.9/site-packages/sklearn/linear_model/_coordinate_descent.py:530: ConvergenceWarning: Objective did not converge. You might want to increase the number of iterations. Duality gap: 0.11659104837681156, tolerance: 0.11657953174409441\n",
      "  model = cd_fast.enet_coordinate_descent(\n",
      "/opt/conda/lib/python3.9/site-packages/sklearn/linear_model/_coordinate_descent.py:530: ConvergenceWarning: Objective did not converge. You might want to increase the number of iterations. Duality gap: 0.13740701793926746, tolerance: 0.12498790631190954\n",
      "  model = cd_fast.enet_coordinate_descent(\n",
      "/opt/conda/lib/python3.9/site-packages/sklearn/linear_model/_coordinate_descent.py:530: ConvergenceWarning: Objective did not converge. You might want to increase the number of iterations. Duality gap: 0.12606205415684713, tolerance: 0.12498790631190954\n",
      "  model = cd_fast.enet_coordinate_descent(\n"
     ]
    },
    {
     "name": "stdout",
     "output_type": "stream",
     "text": [
      "Лучшие параметры для лассо (финальный продукт): {'lasso__alpha': 1.0, 'lasso__max_iter': 1476}\n",
      "Лучшая точность для лассо (финальный продукт): 9.181542530461616\n",
      "CPU times: user 1min 6s, sys: 27 s, total: 1min 33s\n",
      "Wall time: 1min 33s\n"
     ]
    }
   ],
   "source": [
    "%%time\n",
    "best_params_lsf, best_score_lsf = lasso_model(target_train_final, features_train)\n",
    "print(f'Лучшие параметры для лассо (финальный продукт): {best_params_lsf}')\n",
    "print(f'Лучшая точность для лассо (финальный продукт): {best_score_lsf}')"
   ]
  },
  {
   "cell_type": "markdown",
   "metadata": {},
   "source": [
    "#### 3.2.5 Константная модель"
   ]
  },
  {
   "cell_type": "code",
   "execution_count": 83,
   "metadata": {},
   "outputs": [],
   "source": [
    "def dummy_regr(target, features):\n",
    "    model = DummyRegressor(strategy=\"mean\")\n",
    "    model.fit(features, target)\n",
    "    predicted = model.predict(features)\n",
    "    score_smape = cross_val_score(model, \n",
    "                                  features, \n",
    "                                  target, \n",
    "                                  cv=5, \n",
    "                                  n_jobs=-1, \n",
    "                                  scoring=smape_error)\n",
    "    score_smape_mean = statistics.mean(score_smape)\n",
    "    return abs(score_smape_mean)"
   ]
  },
  {
   "cell_type": "code",
   "execution_count": 84,
   "metadata": {},
   "outputs": [
    {
     "name": "stdout",
     "output_type": "stream",
     "text": [
      "Лучшая точность для константной модели (сырьё), основанной на среднем: 7.75857598925329\n",
      "CPU times: user 22.6 ms, sys: 3.94 ms, total: 26.5 ms\n",
      "Wall time: 24.6 ms\n"
     ]
    }
   ],
   "source": [
    "%%time\n",
    "best_score_dr = dummy_regr(target_train_rougher, features_train)\n",
    "print(f'Лучшая точность для константной модели (сырьё), основанной на среднем: {best_score_dr}')"
   ]
  },
  {
   "cell_type": "code",
   "execution_count": 85,
   "metadata": {},
   "outputs": [
    {
     "name": "stdout",
     "output_type": "stream",
     "text": [
      "Лучшая точность для константной модели (финальный продукт), основанной на среднем: 10.26111264941808\n",
      "CPU times: user 20.1 ms, sys: 4 ms, total: 24.1 ms\n",
      "Wall time: 22.5 ms\n"
     ]
    }
   ],
   "source": [
    "%%time\n",
    "best_score_df = dummy_regr(target_train_final, features_train)\n",
    "print(f'Лучшая точность для константной модели (финальный продукт), основанной на среднем: {best_score_df}')"
   ]
  },
  {
   "cell_type": "markdown",
   "metadata": {},
   "source": [
    "#### 3.2.6 Лучшее sMAPE"
   ]
  },
  {
   "cell_type": "markdown",
   "metadata": {},
   "source": [
    "Самую лучшую точность sMAPE для сырья показала модель леса.     \n",
    "Точность: ~6.582    \n",
    "Гиперпараметры:     \n",
    "\n",
    "    — max_depth: 8\n",
    "    — min_samples_leaf: 5\n",
    "    — min_samples_split: 4\n",
    "    — n_estimators: 85"
   ]
  },
  {
   "cell_type": "markdown",
   "metadata": {},
   "source": [
    "Самую лучшую точность sMAPE для финального продукта показала модель лассо.     \n",
    "Точность: ~9.182  \n",
    "Гиперпараметры:     \n",
    "\n",
    "    — alpha: 1\n",
    "    — max_iter: 1476"
   ]
  },
  {
   "cell_type": "markdown",
   "metadata": {},
   "source": [
    "Обе модели прошли порог на адекватность (7.758 для сырья и 10.261 для финального продукта)."
   ]
  },
  {
   "cell_type": "code",
   "execution_count": 56,
   "metadata": {
    "scrolled": true
   },
   "outputs": [
    {
     "name": "stdout",
     "output_type": "stream",
     "text": [
      "Итоговое sMAPE: 8.531624282306892\n"
     ]
    }
   ],
   "source": [
    "end_smape_value = end_smape(best_score_fr, best_score_lsf)\n",
    "print(f'Итоговое sMAPE: {end_smape_value}')"
   ]
  },
  {
   "cell_type": "markdown",
   "metadata": {},
   "source": [
    "### 3.3 Тест модели"
   ]
  },
  {
   "cell_type": "code",
   "execution_count": 60,
   "metadata": {},
   "outputs": [],
   "source": [
    "def forest_test(target_train, features_train, target_test, features_test, max_depth, min_samples_leaf, min_samples_split, n_estimators):\n",
    "    model = RandomForestRegressor(max_depth=max_depth, \n",
    "                                  min_samples_leaf=min_samples_leaf, \n",
    "                                  min_samples_split=min_samples_split, \n",
    "                                  n_estimators=n_estimators,\n",
    "                                  random_state=222)\n",
    "    model.fit(features_train, target_train)\n",
    "    predictions = model.predict(features_test)\n",
    "    smape_value = smape(target_test, predictions)\n",
    "    return smape_value"
   ]
  },
  {
   "cell_type": "code",
   "execution_count": 58,
   "metadata": {},
   "outputs": [],
   "source": [
    "def lasso_test(target_train, features_train, target_test, features_test, alpha, max_iter):\n",
    "    model = Lasso(alpha=alpha, \n",
    "                  max_iter=max_iter, \n",
    "                  random_state=222)\n",
    "    model.fit(features_train, target_train)\n",
    "    predictions = model.predict(features_test)\n",
    "    smape_value = smape(target_test, predictions)\n",
    "    return smape_value"
   ]
  },
  {
   "cell_type": "code",
   "execution_count": 61,
   "metadata": {},
   "outputs": [
    {
     "name": "stdout",
     "output_type": "stream",
     "text": [
      "sMAPE для сырья (тестовая выборка): 7.807136255517063\n",
      "CPU times: user 24.4 s, sys: 0 ns, total: 24.4 s\n",
      "Wall time: 24.4 s\n"
     ]
    }
   ],
   "source": [
    "%%time\n",
    "smape_test_rougher = forest_test(target_train_rougher, features_train, target_test_rougher, features_test, 8, 5, 4, 85)\n",
    "print(f'sMAPE для сырья (тестовая выборка): {smape_test_rougher}')"
   ]
  },
  {
   "cell_type": "code",
   "execution_count": 62,
   "metadata": {},
   "outputs": [
    {
     "name": "stdout",
     "output_type": "stream",
     "text": [
      "sMAPE для финального продукта (тестовая выборка): 9.001614101814912\n",
      "CPU times: user 663 ms, sys: 878 ms, total: 1.54 s\n",
      "Wall time: 1.52 s\n"
     ]
    }
   ],
   "source": [
    "%%time\n",
    "smape_test_final = lasso_test(target_train_final, features_train, target_test_final, features_test, 1, 1476)\n",
    "print(f'sMAPE для финального продукта (тестовая выборка): {smape_test_final}')"
   ]
  },
  {
   "cell_type": "code",
   "execution_count": 63,
   "metadata": {
    "scrolled": true
   },
   "outputs": [
    {
     "name": "stdout",
     "output_type": "stream",
     "text": [
      "Итоговый sMAPE для финальной выборки равен: 8.70299464024045\n"
     ]
    }
   ],
   "source": [
    "smape_test_end = end_smape(smape_test_rougher, smape_test_final)\n",
    "print(f'Итоговый sMAPE для финальной выборки равен: {smape_test_end}')"
   ]
  },
  {
   "cell_type": "markdown",
   "metadata": {},
   "source": [
    "Итоговый показатель sMAPE показал хорошие результаты (~8.7). Предсказания на тестовой выборке оказались очень близки к обучающим, что можно считать успехом."
   ]
  },
  {
   "cell_type": "markdown",
   "metadata": {},
   "source": [
    "## 4 Итоги"
   ]
  },
  {
   "cell_type": "markdown",
   "metadata": {},
   "source": [
    "После тщательного изучения выданных изначально данных мы провели предобработку, преобразовав пустые значения и заменив некоторые типы данных.\n",
    "\n",
    "После мы принялись за анализ данных, в ходе которого выяснили, что концетрация золота повышается после каждого этапа очистки, остальные металлы же постепенно выходят вместе с \"отвальными хвостами\".         \n",
    "Графики нам показали, что гранулы были разбиты до одинаковых размеров: до флотации они были размером 20-120, а перед первичной очисткой уже 5-10.      \n",
    "Также мы заметили, что после каждого этапа концетрация интересующих нас металлов (золото, серебро, свинец) увеличивается. После флотации на каждом этапе имеет место быть прирост в 10%.    \n",
    "Это всё говорит нам об эффективности технологического процесса.    \n",
    "\n",
    "Мы исследовали 4 вида моделей: линейную регрессию, лассо, дерево решений и лес.    \n",
    "После тщательного подбора гипер-параметров мы достигли высоких показателей точности этих моделей, но лучшими оказались именно модель ласо (на примере сырья) и модель решающего дерева (на примере финального продукта), которые были успешно протестированы. \n",
    "Результат тестирования приблизился к предыдущим предсказаниям на обучающей выборке.   \n",
    "\n",
    "В итоге мы получили модель, помогающую оптимизировать золотодобывающее производство, чтобы не запускать предприятие с убыточными характеристиками."
   ]
  }
 ],
 "metadata": {
  "ExecuteTimeLog": [
   {
    "duration": 51,
    "start_time": "2023-01-06T09:54:53.716Z"
   },
   {
    "duration": 53,
    "start_time": "2023-01-06T09:55:03.662Z"
   },
   {
    "duration": 1106,
    "start_time": "2023-01-06T09:55:19.537Z"
   },
   {
    "duration": 2999,
    "start_time": "2023-01-06T09:56:36.821Z"
   },
   {
    "duration": 29,
    "start_time": "2023-01-06T09:57:31.400Z"
   },
   {
    "duration": 24,
    "start_time": "2023-01-06T09:57:41.835Z"
   },
   {
    "duration": 23,
    "start_time": "2023-01-06T09:57:50.831Z"
   },
   {
    "duration": 17,
    "start_time": "2023-01-06T09:58:12.225Z"
   },
   {
    "duration": 18,
    "start_time": "2023-01-06T09:58:37.165Z"
   },
   {
    "duration": 17,
    "start_time": "2023-01-06T09:58:45.225Z"
   },
   {
    "duration": 6,
    "start_time": "2023-01-06T10:01:20.365Z"
   },
   {
    "duration": 9,
    "start_time": "2023-01-06T10:22:01.395Z"
   },
   {
    "duration": 6,
    "start_time": "2023-01-06T10:23:14.498Z"
   },
   {
    "duration": 5,
    "start_time": "2023-01-06T10:23:18.820Z"
   },
   {
    "duration": 8,
    "start_time": "2023-01-06T10:23:34.922Z"
   },
   {
    "duration": 22,
    "start_time": "2023-01-06T10:24:13.195Z"
   },
   {
    "duration": 2,
    "start_time": "2023-01-06T10:24:55.861Z"
   },
   {
    "duration": 7,
    "start_time": "2023-01-06T10:25:22.871Z"
   },
   {
    "duration": 2,
    "start_time": "2023-01-06T10:29:20.862Z"
   },
   {
    "duration": 3,
    "start_time": "2023-01-06T10:29:22.468Z"
   },
   {
    "duration": 7,
    "start_time": "2023-01-06T10:29:29.935Z"
   },
   {
    "duration": 5,
    "start_time": "2023-01-06T10:29:44.873Z"
   },
   {
    "duration": 126,
    "start_time": "2023-01-06T11:56:39.843Z"
   },
   {
    "duration": 11,
    "start_time": "2023-01-06T11:56:42.800Z"
   },
   {
    "duration": 13,
    "start_time": "2023-01-06T11:56:46.987Z"
   },
   {
    "duration": 10,
    "start_time": "2023-01-06T11:56:50.508Z"
   },
   {
    "duration": 18,
    "start_time": "2023-01-06T11:56:56.328Z"
   },
   {
    "duration": 21,
    "start_time": "2023-01-06T11:57:13.929Z"
   },
   {
    "duration": 19,
    "start_time": "2023-01-06T11:57:22.127Z"
   },
   {
    "duration": 13,
    "start_time": "2023-01-06T11:57:26.634Z"
   },
   {
    "duration": 15,
    "start_time": "2023-01-06T11:57:32.771Z"
   },
   {
    "duration": 15,
    "start_time": "2023-01-06T11:57:40.707Z"
   },
   {
    "duration": 16,
    "start_time": "2023-01-06T11:57:53.938Z"
   },
   {
    "duration": 31,
    "start_time": "2023-01-06T11:57:58.129Z"
   },
   {
    "duration": 25,
    "start_time": "2023-01-06T11:58:38.680Z"
   },
   {
    "duration": 10,
    "start_time": "2023-01-06T11:58:52.811Z"
   },
   {
    "duration": 8,
    "start_time": "2023-01-06T11:59:01.282Z"
   },
   {
    "duration": 10,
    "start_time": "2023-01-06T12:00:12.460Z"
   },
   {
    "duration": 10,
    "start_time": "2023-01-06T12:00:19.334Z"
   },
   {
    "duration": 12,
    "start_time": "2023-01-06T12:00:21.385Z"
   },
   {
    "duration": 4,
    "start_time": "2023-01-06T12:01:39.866Z"
   },
   {
    "duration": 10,
    "start_time": "2023-01-06T12:01:44.164Z"
   },
   {
    "duration": 1082,
    "start_time": "2023-01-07T13:00:45.848Z"
   },
   {
    "duration": 3,
    "start_time": "2023-01-07T13:00:46.932Z"
   },
   {
    "duration": 1990,
    "start_time": "2023-01-07T13:00:46.936Z"
   },
   {
    "duration": 64,
    "start_time": "2023-01-07T13:00:48.928Z"
   },
   {
    "duration": 16,
    "start_time": "2023-01-07T13:00:48.994Z"
   },
   {
    "duration": 49,
    "start_time": "2023-01-07T13:00:49.011Z"
   },
   {
    "duration": 12,
    "start_time": "2023-01-07T13:00:49.062Z"
   },
   {
    "duration": 90,
    "start_time": "2023-01-07T13:00:49.076Z"
   },
   {
    "duration": 19,
    "start_time": "2023-01-07T13:00:49.167Z"
   },
   {
    "duration": 174,
    "start_time": "2023-01-07T13:00:49.189Z"
   },
   {
    "duration": 6,
    "start_time": "2023-01-07T13:00:49.365Z"
   },
   {
    "duration": 5,
    "start_time": "2023-01-07T13:00:49.372Z"
   },
   {
    "duration": 7,
    "start_time": "2023-01-07T13:00:49.378Z"
   },
   {
    "duration": 17,
    "start_time": "2023-01-07T13:00:49.387Z"
   },
   {
    "duration": 5,
    "start_time": "2023-01-07T13:12:03.819Z"
   },
   {
    "duration": 9,
    "start_time": "2023-01-07T13:12:21.666Z"
   },
   {
    "duration": 15920,
    "start_time": "2023-01-07T13:12:28.222Z"
   },
   {
    "duration": 4532,
    "start_time": "2023-01-07T13:12:45.208Z"
   },
   {
    "duration": 1175,
    "start_time": "2023-01-07T13:12:53.296Z"
   },
   {
    "duration": 2,
    "start_time": "2023-01-07T13:12:54.473Z"
   },
   {
    "duration": 655,
    "start_time": "2023-01-07T13:12:54.477Z"
   },
   {
    "duration": 71,
    "start_time": "2023-01-07T13:12:55.134Z"
   },
   {
    "duration": 29,
    "start_time": "2023-01-07T13:12:55.207Z"
   },
   {
    "duration": 42,
    "start_time": "2023-01-07T13:12:55.238Z"
   },
   {
    "duration": 16,
    "start_time": "2023-01-07T13:12:55.282Z"
   },
   {
    "duration": 76,
    "start_time": "2023-01-07T13:12:55.300Z"
   },
   {
    "duration": 17,
    "start_time": "2023-01-07T13:12:55.377Z"
   },
   {
    "duration": 176,
    "start_time": "2023-01-07T13:12:55.396Z"
   },
   {
    "duration": 5,
    "start_time": "2023-01-07T13:12:55.573Z"
   },
   {
    "duration": 5,
    "start_time": "2023-01-07T13:12:55.580Z"
   },
   {
    "duration": 9,
    "start_time": "2023-01-07T13:12:55.587Z"
   },
   {
    "duration": 10,
    "start_time": "2023-01-07T13:12:55.597Z"
   },
   {
    "duration": 10,
    "start_time": "2023-01-07T13:12:55.608Z"
   },
   {
    "duration": 7960,
    "start_time": "2023-01-07T13:12:55.620Z"
   },
   {
    "duration": 8,
    "start_time": "2023-01-07T13:15:25.010Z"
   },
   {
    "duration": 6,
    "start_time": "2023-01-07T13:16:06.685Z"
   },
   {
    "duration": 4629,
    "start_time": "2023-01-07T13:16:08.813Z"
   },
   {
    "duration": 12,
    "start_time": "2023-01-07T13:16:24.824Z"
   },
   {
    "duration": 266,
    "start_time": "2023-01-07T13:19:39.570Z"
   },
   {
    "duration": 19,
    "start_time": "2023-01-07T13:19:44.576Z"
   },
   {
    "duration": 1092,
    "start_time": "2023-01-07T13:20:18.719Z"
   },
   {
    "duration": 2,
    "start_time": "2023-01-07T13:20:19.813Z"
   },
   {
    "duration": 679,
    "start_time": "2023-01-07T13:20:19.817Z"
   },
   {
    "duration": 72,
    "start_time": "2023-01-07T13:20:20.498Z"
   },
   {
    "duration": 17,
    "start_time": "2023-01-07T13:20:20.571Z"
   },
   {
    "duration": 60,
    "start_time": "2023-01-07T13:20:20.590Z"
   },
   {
    "duration": 25,
    "start_time": "2023-01-07T13:20:20.652Z"
   },
   {
    "duration": 87,
    "start_time": "2023-01-07T13:20:20.679Z"
   },
   {
    "duration": 32,
    "start_time": "2023-01-07T13:20:20.767Z"
   },
   {
    "duration": 206,
    "start_time": "2023-01-07T13:20:20.801Z"
   },
   {
    "duration": 5,
    "start_time": "2023-01-07T13:20:21.009Z"
   },
   {
    "duration": 26,
    "start_time": "2023-01-07T13:20:21.015Z"
   },
   {
    "duration": 36,
    "start_time": "2023-01-07T13:20:21.043Z"
   },
   {
    "duration": 50,
    "start_time": "2023-01-07T13:20:21.081Z"
   },
   {
    "duration": 284,
    "start_time": "2023-01-07T13:20:21.133Z"
   },
   {
    "duration": 21,
    "start_time": "2023-01-07T13:20:21.421Z"
   },
   {
    "duration": 3,
    "start_time": "2023-01-07T13:20:37.763Z"
   },
   {
    "duration": 6,
    "start_time": "2023-01-07T13:24:13.312Z"
   },
   {
    "duration": 7,
    "start_time": "2023-01-07T13:24:16.513Z"
   },
   {
    "duration": 5799,
    "start_time": "2023-01-07T13:27:59.407Z"
   },
   {
    "duration": 85,
    "start_time": "2023-01-07T13:28:29.593Z"
   },
   {
    "duration": 6,
    "start_time": "2023-01-07T13:29:24.592Z"
   },
   {
    "duration": 8,
    "start_time": "2023-01-07T13:29:26.134Z"
   },
   {
    "duration": 6,
    "start_time": "2023-01-07T13:29:41.222Z"
   },
   {
    "duration": 8,
    "start_time": "2023-01-07T13:29:43.226Z"
   },
   {
    "duration": 5,
    "start_time": "2023-01-07T13:32:14.263Z"
   },
   {
    "duration": 8,
    "start_time": "2023-01-07T13:32:17.281Z"
   },
   {
    "duration": 9,
    "start_time": "2023-01-07T13:32:22.591Z"
   },
   {
    "duration": 4,
    "start_time": "2023-01-07T13:32:34.092Z"
   },
   {
    "duration": 9,
    "start_time": "2023-01-07T13:32:38.864Z"
   },
   {
    "duration": 5599,
    "start_time": "2023-01-07T13:32:44.492Z"
   },
   {
    "duration": 5457,
    "start_time": "2023-01-07T13:33:04.558Z"
   },
   {
    "duration": 1086,
    "start_time": "2023-01-07T13:33:36.535Z"
   },
   {
    "duration": 2,
    "start_time": "2023-01-07T13:33:37.623Z"
   },
   {
    "duration": 668,
    "start_time": "2023-01-07T13:33:37.627Z"
   },
   {
    "duration": 69,
    "start_time": "2023-01-07T13:33:38.297Z"
   },
   {
    "duration": 17,
    "start_time": "2023-01-07T13:33:38.367Z"
   },
   {
    "duration": 54,
    "start_time": "2023-01-07T13:33:38.386Z"
   },
   {
    "duration": 32,
    "start_time": "2023-01-07T13:33:38.442Z"
   },
   {
    "duration": 68,
    "start_time": "2023-01-07T13:33:38.476Z"
   },
   {
    "duration": 17,
    "start_time": "2023-01-07T13:33:38.546Z"
   },
   {
    "duration": 169,
    "start_time": "2023-01-07T13:33:38.566Z"
   },
   {
    "duration": 6,
    "start_time": "2023-01-07T13:33:38.738Z"
   },
   {
    "duration": 6,
    "start_time": "2023-01-07T13:33:38.746Z"
   },
   {
    "duration": 25,
    "start_time": "2023-01-07T13:33:38.754Z"
   },
   {
    "duration": 17,
    "start_time": "2023-01-07T13:33:38.781Z"
   },
   {
    "duration": 29,
    "start_time": "2023-01-07T13:33:38.800Z"
   },
   {
    "duration": 10,
    "start_time": "2023-01-07T13:33:38.831Z"
   },
   {
    "duration": 14,
    "start_time": "2023-01-07T13:33:38.842Z"
   },
   {
    "duration": 89,
    "start_time": "2023-01-07T13:35:38.373Z"
   },
   {
    "duration": 3,
    "start_time": "2023-01-07T13:35:59.526Z"
   },
   {
    "duration": 4,
    "start_time": "2023-01-07T13:36:49.390Z"
   },
   {
    "duration": 39,
    "start_time": "2023-01-07T13:37:02.562Z"
   },
   {
    "duration": 6,
    "start_time": "2023-01-07T13:37:39.684Z"
   },
   {
    "duration": 38,
    "start_time": "2023-01-07T13:37:46.544Z"
   },
   {
    "duration": 1044,
    "start_time": "2023-01-07T13:37:58.380Z"
   },
   {
    "duration": 3,
    "start_time": "2023-01-07T13:37:59.426Z"
   },
   {
    "duration": 669,
    "start_time": "2023-01-07T13:37:59.430Z"
   },
   {
    "duration": 72,
    "start_time": "2023-01-07T13:38:00.101Z"
   },
   {
    "duration": 17,
    "start_time": "2023-01-07T13:38:00.174Z"
   },
   {
    "duration": 50,
    "start_time": "2023-01-07T13:38:00.192Z"
   },
   {
    "duration": 12,
    "start_time": "2023-01-07T13:38:00.243Z"
   },
   {
    "duration": 70,
    "start_time": "2023-01-07T13:38:00.257Z"
   },
   {
    "duration": 35,
    "start_time": "2023-01-07T13:38:00.329Z"
   },
   {
    "duration": 165,
    "start_time": "2023-01-07T13:38:00.366Z"
   },
   {
    "duration": 5,
    "start_time": "2023-01-07T13:38:00.533Z"
   },
   {
    "duration": 24,
    "start_time": "2023-01-07T13:38:00.540Z"
   },
   {
    "duration": 37,
    "start_time": "2023-01-07T13:38:00.566Z"
   },
   {
    "duration": 36,
    "start_time": "2023-01-07T13:38:00.605Z"
   },
   {
    "duration": 23,
    "start_time": "2023-01-07T13:38:00.643Z"
   },
   {
    "duration": 61,
    "start_time": "2023-01-07T13:38:00.667Z"
   },
   {
    "duration": 14,
    "start_time": "2023-01-07T13:39:53.442Z"
   },
   {
    "duration": 10,
    "start_time": "2023-01-07T13:40:42.235Z"
   },
   {
    "duration": 2714,
    "start_time": "2023-01-07T13:40:47.143Z"
   },
   {
    "duration": 23,
    "start_time": "2023-01-07T13:40:52.098Z"
   },
   {
    "duration": 15,
    "start_time": "2023-01-07T13:47:06.183Z"
   },
   {
    "duration": 14,
    "start_time": "2023-01-07T13:47:08.278Z"
   },
   {
    "duration": 369,
    "start_time": "2023-01-07T14:02:32.437Z"
   },
   {
    "duration": 5,
    "start_time": "2023-01-07T14:09:01.146Z"
   },
   {
    "duration": 1215,
    "start_time": "2023-01-07T14:13:56.271Z"
   },
   {
    "duration": 2,
    "start_time": "2023-01-07T14:13:57.488Z"
   },
   {
    "duration": 670,
    "start_time": "2023-01-07T14:13:57.492Z"
   },
   {
    "duration": 71,
    "start_time": "2023-01-07T14:13:58.164Z"
   },
   {
    "duration": 17,
    "start_time": "2023-01-07T14:13:58.237Z"
   },
   {
    "duration": 37,
    "start_time": "2023-01-07T14:13:58.256Z"
   },
   {
    "duration": 32,
    "start_time": "2023-01-07T14:13:58.295Z"
   },
   {
    "duration": 58,
    "start_time": "2023-01-07T14:13:58.329Z"
   },
   {
    "duration": 39,
    "start_time": "2023-01-07T14:13:58.389Z"
   },
   {
    "duration": 156,
    "start_time": "2023-01-07T14:13:58.431Z"
   },
   {
    "duration": 6,
    "start_time": "2023-01-07T14:13:58.590Z"
   },
   {
    "duration": 7,
    "start_time": "2023-01-07T14:13:58.598Z"
   },
   {
    "duration": 10,
    "start_time": "2023-01-07T14:13:58.607Z"
   },
   {
    "duration": 10,
    "start_time": "2023-01-07T14:13:58.619Z"
   },
   {
    "duration": 22,
    "start_time": "2023-01-07T14:13:58.631Z"
   },
   {
    "duration": 17,
    "start_time": "2023-01-07T14:13:58.655Z"
   },
   {
    "duration": 4,
    "start_time": "2023-01-07T14:13:58.674Z"
   },
   {
    "duration": 1267,
    "start_time": "2023-01-07T14:15:20.471Z"
   },
   {
    "duration": 3,
    "start_time": "2023-01-07T14:15:21.740Z"
   },
   {
    "duration": 682,
    "start_time": "2023-01-07T14:15:21.745Z"
   },
   {
    "duration": 61,
    "start_time": "2023-01-07T14:15:22.429Z"
   },
   {
    "duration": 32,
    "start_time": "2023-01-07T14:15:22.492Z"
   },
   {
    "duration": 45,
    "start_time": "2023-01-07T14:15:22.525Z"
   },
   {
    "duration": 34,
    "start_time": "2023-01-07T14:15:22.572Z"
   },
   {
    "duration": 58,
    "start_time": "2023-01-07T14:15:22.608Z"
   },
   {
    "duration": 24,
    "start_time": "2023-01-07T14:15:22.668Z"
   },
   {
    "duration": 192,
    "start_time": "2023-01-07T14:15:22.695Z"
   },
   {
    "duration": 5,
    "start_time": "2023-01-07T14:15:22.890Z"
   },
   {
    "duration": 9,
    "start_time": "2023-01-07T14:15:22.897Z"
   },
   {
    "duration": 10,
    "start_time": "2023-01-07T14:15:22.907Z"
   },
   {
    "duration": 7,
    "start_time": "2023-01-07T14:15:22.918Z"
   },
   {
    "duration": 19,
    "start_time": "2023-01-07T14:15:22.926Z"
   },
   {
    "duration": 17,
    "start_time": "2023-01-07T14:15:22.946Z"
   },
   {
    "duration": 4,
    "start_time": "2023-01-07T14:15:22.964Z"
   },
   {
    "duration": 667,
    "start_time": "2023-01-07T14:22:35.770Z"
   },
   {
    "duration": 6,
    "start_time": "2023-01-07T14:22:43.913Z"
   },
   {
    "duration": 11,
    "start_time": "2023-01-07T14:22:57.280Z"
   },
   {
    "duration": 58,
    "start_time": "2023-01-07T14:23:01.058Z"
   },
   {
    "duration": 17,
    "start_time": "2023-01-07T14:23:08.930Z"
   },
   {
    "duration": 1238,
    "start_time": "2023-01-07T14:25:06.461Z"
   },
   {
    "duration": 3,
    "start_time": "2023-01-07T14:25:07.701Z"
   },
   {
    "duration": 692,
    "start_time": "2023-01-07T14:25:07.705Z"
   },
   {
    "duration": 70,
    "start_time": "2023-01-07T14:25:08.399Z"
   },
   {
    "duration": 17,
    "start_time": "2023-01-07T14:25:08.470Z"
   },
   {
    "duration": 57,
    "start_time": "2023-01-07T14:25:08.489Z"
   },
   {
    "duration": 15,
    "start_time": "2023-01-07T14:25:08.548Z"
   },
   {
    "duration": 71,
    "start_time": "2023-01-07T14:25:08.564Z"
   },
   {
    "duration": 18,
    "start_time": "2023-01-07T14:25:08.636Z"
   },
   {
    "duration": 175,
    "start_time": "2023-01-07T14:25:08.656Z"
   },
   {
    "duration": 5,
    "start_time": "2023-01-07T14:25:08.833Z"
   },
   {
    "duration": 25,
    "start_time": "2023-01-07T14:25:08.840Z"
   },
   {
    "duration": 30,
    "start_time": "2023-01-07T14:25:08.866Z"
   },
   {
    "duration": 23,
    "start_time": "2023-01-07T14:25:08.897Z"
   },
   {
    "duration": 34,
    "start_time": "2023-01-07T14:25:08.922Z"
   },
   {
    "duration": 47,
    "start_time": "2023-01-07T14:25:08.957Z"
   },
   {
    "duration": 16,
    "start_time": "2023-01-07T14:25:09.005Z"
   },
   {
    "duration": 33,
    "start_time": "2023-01-07T14:25:09.023Z"
   },
   {
    "duration": 30,
    "start_time": "2023-01-07T14:25:09.058Z"
   },
   {
    "duration": 7,
    "start_time": "2023-01-07T14:31:33.300Z"
   },
   {
    "duration": 2498,
    "start_time": "2023-01-07T14:38:35.441Z"
   },
   {
    "duration": 105,
    "start_time": "2023-01-07T14:45:56.080Z"
   },
   {
    "duration": 1243,
    "start_time": "2023-01-07T14:46:11.950Z"
   },
   {
    "duration": 2,
    "start_time": "2023-01-07T14:46:13.196Z"
   },
   {
    "duration": 683,
    "start_time": "2023-01-07T14:46:13.200Z"
   },
   {
    "duration": 67,
    "start_time": "2023-01-07T14:46:13.886Z"
   },
   {
    "duration": 18,
    "start_time": "2023-01-07T14:46:13.955Z"
   },
   {
    "duration": 70,
    "start_time": "2023-01-07T14:46:13.974Z"
   },
   {
    "duration": 77,
    "start_time": "2023-01-07T14:46:14.046Z"
   },
   {
    "duration": 142,
    "start_time": "2023-01-07T14:46:14.125Z"
   },
   {
    "duration": 73,
    "start_time": "2023-01-07T14:46:14.268Z"
   },
   {
    "duration": 319,
    "start_time": "2023-01-07T14:46:14.344Z"
   },
   {
    "duration": 5,
    "start_time": "2023-01-07T14:46:14.665Z"
   },
   {
    "duration": 51,
    "start_time": "2023-01-07T14:46:14.671Z"
   },
   {
    "duration": 14,
    "start_time": "2023-01-07T14:46:14.724Z"
   },
   {
    "duration": 8,
    "start_time": "2023-01-07T14:46:14.739Z"
   },
   {
    "duration": 8,
    "start_time": "2023-01-07T14:46:14.749Z"
   },
   {
    "duration": 19,
    "start_time": "2023-01-07T14:46:14.758Z"
   },
   {
    "duration": 3105,
    "start_time": "2023-01-07T14:46:14.779Z"
   },
   {
    "duration": 104,
    "start_time": "2023-01-07T14:46:17.885Z"
   },
   {
    "duration": 0,
    "start_time": "2023-01-07T14:46:17.991Z"
   },
   {
    "duration": 0,
    "start_time": "2023-01-07T14:46:17.992Z"
   },
   {
    "duration": 1349,
    "start_time": "2023-01-07T14:46:40.808Z"
   },
   {
    "duration": 2,
    "start_time": "2023-01-07T14:46:42.159Z"
   },
   {
    "duration": 678,
    "start_time": "2023-01-07T14:46:42.163Z"
   },
   {
    "duration": 64,
    "start_time": "2023-01-07T14:46:42.843Z"
   },
   {
    "duration": 58,
    "start_time": "2023-01-07T14:46:42.908Z"
   },
   {
    "duration": 40,
    "start_time": "2023-01-07T14:46:42.968Z"
   },
   {
    "duration": 13,
    "start_time": "2023-01-07T14:46:43.010Z"
   },
   {
    "duration": 60,
    "start_time": "2023-01-07T14:46:43.025Z"
   },
   {
    "duration": 36,
    "start_time": "2023-01-07T14:46:43.087Z"
   },
   {
    "duration": 161,
    "start_time": "2023-01-07T14:46:43.126Z"
   },
   {
    "duration": 5,
    "start_time": "2023-01-07T14:46:43.289Z"
   },
   {
    "duration": 6,
    "start_time": "2023-01-07T14:46:43.296Z"
   },
   {
    "duration": 7,
    "start_time": "2023-01-07T14:46:43.304Z"
   },
   {
    "duration": 11,
    "start_time": "2023-01-07T14:46:43.313Z"
   },
   {
    "duration": 9,
    "start_time": "2023-01-07T14:46:43.326Z"
   },
   {
    "duration": 13,
    "start_time": "2023-01-07T14:46:43.337Z"
   },
   {
    "duration": 2622,
    "start_time": "2023-01-07T14:46:43.352Z"
   },
   {
    "duration": 81,
    "start_time": "2023-01-07T14:46:45.976Z"
   },
   {
    "duration": 2,
    "start_time": "2023-01-07T14:46:46.059Z"
   },
   {
    "duration": 25,
    "start_time": "2023-01-07T14:46:46.063Z"
   },
   {
    "duration": 15,
    "start_time": "2023-01-07T14:46:49.773Z"
   },
   {
    "duration": 56,
    "start_time": "2023-01-07T14:47:11.731Z"
   },
   {
    "duration": 47,
    "start_time": "2023-01-07T14:47:22.109Z"
   },
   {
    "duration": 45,
    "start_time": "2023-01-07T14:47:37.198Z"
   },
   {
    "duration": 1255,
    "start_time": "2023-01-07T14:48:44.938Z"
   },
   {
    "duration": 2,
    "start_time": "2023-01-07T14:48:46.195Z"
   },
   {
    "duration": 690,
    "start_time": "2023-01-07T14:48:46.199Z"
   },
   {
    "duration": 64,
    "start_time": "2023-01-07T14:48:46.892Z"
   },
   {
    "duration": 17,
    "start_time": "2023-01-07T14:48:46.957Z"
   },
   {
    "duration": 57,
    "start_time": "2023-01-07T14:48:46.975Z"
   },
   {
    "duration": 19,
    "start_time": "2023-01-07T14:48:47.033Z"
   },
   {
    "duration": 68,
    "start_time": "2023-01-07T14:48:47.054Z"
   },
   {
    "duration": 25,
    "start_time": "2023-01-07T14:48:47.124Z"
   },
   {
    "duration": 167,
    "start_time": "2023-01-07T14:48:47.152Z"
   },
   {
    "duration": 6,
    "start_time": "2023-01-07T14:48:47.321Z"
   },
   {
    "duration": 5,
    "start_time": "2023-01-07T14:48:47.329Z"
   },
   {
    "duration": 11,
    "start_time": "2023-01-07T14:48:47.336Z"
   },
   {
    "duration": 8,
    "start_time": "2023-01-07T14:48:47.349Z"
   },
   {
    "duration": 35,
    "start_time": "2023-01-07T14:48:47.359Z"
   },
   {
    "duration": 15,
    "start_time": "2023-01-07T14:48:47.396Z"
   },
   {
    "duration": 17,
    "start_time": "2023-01-07T14:48:47.413Z"
   },
   {
    "duration": 2632,
    "start_time": "2023-01-07T14:48:47.432Z"
   },
   {
    "duration": 57,
    "start_time": "2023-01-07T14:48:50.066Z"
   },
   {
    "duration": 84,
    "start_time": "2023-01-07T14:48:50.125Z"
   },
   {
    "duration": 21,
    "start_time": "2023-01-07T14:48:50.211Z"
   },
   {
    "duration": 3,
    "start_time": "2023-01-07T14:48:50.234Z"
   },
   {
    "duration": 87,
    "start_time": "2023-01-07T14:51:37.302Z"
   },
   {
    "duration": 14,
    "start_time": "2023-01-07T14:51:39.193Z"
   },
   {
    "duration": 1272,
    "start_time": "2023-01-07T14:54:20.570Z"
   },
   {
    "duration": 3,
    "start_time": "2023-01-07T14:54:21.844Z"
   },
   {
    "duration": 705,
    "start_time": "2023-01-07T14:54:21.848Z"
   },
   {
    "duration": 67,
    "start_time": "2023-01-07T14:54:22.555Z"
   },
   {
    "duration": 17,
    "start_time": "2023-01-07T14:54:22.623Z"
   },
   {
    "duration": 38,
    "start_time": "2023-01-07T14:54:22.641Z"
   },
   {
    "duration": 13,
    "start_time": "2023-01-07T14:54:22.680Z"
   },
   {
    "duration": 59,
    "start_time": "2023-01-07T14:54:22.721Z"
   },
   {
    "duration": 17,
    "start_time": "2023-01-07T14:54:22.782Z"
   },
   {
    "duration": 165,
    "start_time": "2023-01-07T14:54:22.802Z"
   },
   {
    "duration": 5,
    "start_time": "2023-01-07T14:54:22.969Z"
   },
   {
    "duration": 4,
    "start_time": "2023-01-07T14:54:22.975Z"
   },
   {
    "duration": 8,
    "start_time": "2023-01-07T14:54:22.980Z"
   },
   {
    "duration": 8,
    "start_time": "2023-01-07T14:54:22.990Z"
   },
   {
    "duration": 9,
    "start_time": "2023-01-07T14:54:22.999Z"
   },
   {
    "duration": 13,
    "start_time": "2023-01-07T14:54:23.009Z"
   },
   {
    "duration": 13,
    "start_time": "2023-01-07T14:54:23.023Z"
   },
   {
    "duration": 2623,
    "start_time": "2023-01-07T14:54:23.037Z"
   },
   {
    "duration": 47,
    "start_time": "2023-01-07T14:54:25.662Z"
   },
   {
    "duration": 366,
    "start_time": "2023-01-07T14:54:25.710Z"
   },
   {
    "duration": 63,
    "start_time": "2023-01-07T14:54:26.078Z"
   },
   {
    "duration": 32,
    "start_time": "2023-01-07T14:54:26.142Z"
   },
   {
    "duration": 1366,
    "start_time": "2023-01-07T14:55:54.139Z"
   },
   {
    "duration": 3,
    "start_time": "2023-01-07T14:55:55.507Z"
   },
   {
    "duration": 705,
    "start_time": "2023-01-07T14:55:55.511Z"
   },
   {
    "duration": 66,
    "start_time": "2023-01-07T14:55:56.221Z"
   },
   {
    "duration": 17,
    "start_time": "2023-01-07T14:55:56.289Z"
   },
   {
    "duration": 48,
    "start_time": "2023-01-07T14:55:56.308Z"
   },
   {
    "duration": 12,
    "start_time": "2023-01-07T14:55:56.358Z"
   },
   {
    "duration": 79,
    "start_time": "2023-01-07T14:55:56.372Z"
   },
   {
    "duration": 18,
    "start_time": "2023-01-07T14:55:56.452Z"
   },
   {
    "duration": 159,
    "start_time": "2023-01-07T14:55:56.472Z"
   },
   {
    "duration": 5,
    "start_time": "2023-01-07T14:55:56.633Z"
   },
   {
    "duration": 3,
    "start_time": "2023-01-07T14:55:56.639Z"
   },
   {
    "duration": 16,
    "start_time": "2023-01-07T14:55:56.643Z"
   },
   {
    "duration": 5,
    "start_time": "2023-01-07T14:55:56.661Z"
   },
   {
    "duration": 8,
    "start_time": "2023-01-07T14:55:56.668Z"
   },
   {
    "duration": 9,
    "start_time": "2023-01-07T14:55:56.678Z"
   },
   {
    "duration": 10,
    "start_time": "2023-01-07T14:55:56.689Z"
   },
   {
    "duration": 3325,
    "start_time": "2023-01-07T14:55:56.701Z"
   },
   {
    "duration": 97,
    "start_time": "2023-01-07T14:56:00.027Z"
   },
   {
    "duration": 6,
    "start_time": "2023-01-07T14:56:00.125Z"
   },
   {
    "duration": 431,
    "start_time": "2023-01-07T14:56:00.133Z"
   },
   {
    "duration": 56,
    "start_time": "2023-01-07T14:56:00.566Z"
   },
   {
    "duration": 37,
    "start_time": "2023-01-07T14:56:00.624Z"
   },
   {
    "duration": 1278,
    "start_time": "2023-01-07T14:56:38.008Z"
   },
   {
    "duration": 3,
    "start_time": "2023-01-07T14:56:39.288Z"
   },
   {
    "duration": 702,
    "start_time": "2023-01-07T14:56:39.292Z"
   },
   {
    "duration": 66,
    "start_time": "2023-01-07T14:56:39.996Z"
   },
   {
    "duration": 17,
    "start_time": "2023-01-07T14:56:40.064Z"
   },
   {
    "duration": 52,
    "start_time": "2023-01-07T14:56:40.082Z"
   },
   {
    "duration": 13,
    "start_time": "2023-01-07T14:56:40.135Z"
   },
   {
    "duration": 74,
    "start_time": "2023-01-07T14:56:40.149Z"
   },
   {
    "duration": 17,
    "start_time": "2023-01-07T14:56:40.225Z"
   },
   {
    "duration": 186,
    "start_time": "2023-01-07T14:56:40.245Z"
   },
   {
    "duration": 6,
    "start_time": "2023-01-07T14:56:40.433Z"
   },
   {
    "duration": 5,
    "start_time": "2023-01-07T14:56:40.440Z"
   },
   {
    "duration": 7,
    "start_time": "2023-01-07T14:56:40.447Z"
   },
   {
    "duration": 12,
    "start_time": "2023-01-07T14:56:40.455Z"
   },
   {
    "duration": 15,
    "start_time": "2023-01-07T14:56:40.469Z"
   },
   {
    "duration": 11,
    "start_time": "2023-01-07T14:56:40.485Z"
   },
   {
    "duration": 2682,
    "start_time": "2023-01-07T14:56:40.497Z"
   },
   {
    "duration": 432,
    "start_time": "2023-01-07T14:56:43.181Z"
   },
   {
    "duration": 35,
    "start_time": "2023-01-07T14:56:43.616Z"
   },
   {
    "duration": 109,
    "start_time": "2023-01-07T15:14:02.733Z"
   },
   {
    "duration": 10,
    "start_time": "2023-01-07T15:14:18.622Z"
   },
   {
    "duration": 587,
    "start_time": "2023-01-07T15:14:30.956Z"
   },
   {
    "duration": 666,
    "start_time": "2023-01-07T15:15:38.220Z"
   },
   {
    "duration": 250,
    "start_time": "2023-01-07T15:16:38.756Z"
   },
   {
    "duration": 587,
    "start_time": "2023-01-07T15:18:30.606Z"
   },
   {
    "duration": 718,
    "start_time": "2023-01-07T15:18:36.311Z"
   },
   {
    "duration": 561,
    "start_time": "2023-01-07T15:18:47.124Z"
   },
   {
    "duration": 693,
    "start_time": "2023-01-07T15:18:56.074Z"
   },
   {
    "duration": 610,
    "start_time": "2023-01-07T15:19:03.145Z"
   },
   {
    "duration": 736,
    "start_time": "2023-01-07T15:19:11.327Z"
   },
   {
    "duration": 625,
    "start_time": "2023-01-07T15:19:21.332Z"
   },
   {
    "duration": 1191,
    "start_time": "2023-01-07T15:19:28.524Z"
   },
   {
    "duration": 1658,
    "start_time": "2023-01-07T15:19:34.429Z"
   },
   {
    "duration": 1799,
    "start_time": "2023-01-07T15:20:26.406Z"
   },
   {
    "duration": 1725,
    "start_time": "2023-01-07T15:43:45.708Z"
   },
   {
    "duration": 2079,
    "start_time": "2023-01-07T15:44:18.928Z"
   },
   {
    "duration": 2194,
    "start_time": "2023-01-07T15:47:05.161Z"
   },
   {
    "duration": 2218,
    "start_time": "2023-01-07T15:47:12.173Z"
   },
   {
    "duration": 2331,
    "start_time": "2023-01-07T15:51:55.618Z"
   },
   {
    "duration": 2340,
    "start_time": "2023-01-07T15:52:40.003Z"
   },
   {
    "duration": 2263,
    "start_time": "2023-01-07T15:53:05.487Z"
   },
   {
    "duration": 2257,
    "start_time": "2023-01-07T15:54:17.755Z"
   },
   {
    "duration": 2610,
    "start_time": "2023-01-07T15:54:22.002Z"
   },
   {
    "duration": 2408,
    "start_time": "2023-01-07T15:55:15.130Z"
   },
   {
    "duration": 2404,
    "start_time": "2023-01-07T15:55:17.904Z"
   },
   {
    "duration": 1462,
    "start_time": "2023-01-07T15:56:22.908Z"
   },
   {
    "duration": 1225,
    "start_time": "2023-01-07T15:57:17.873Z"
   },
   {
    "duration": 3,
    "start_time": "2023-01-07T15:57:19.101Z"
   },
   {
    "duration": 717,
    "start_time": "2023-01-07T15:57:19.106Z"
   },
   {
    "duration": 65,
    "start_time": "2023-01-07T15:57:19.825Z"
   },
   {
    "duration": 32,
    "start_time": "2023-01-07T15:57:19.892Z"
   },
   {
    "duration": 40,
    "start_time": "2023-01-07T15:57:19.926Z"
   },
   {
    "duration": 30,
    "start_time": "2023-01-07T15:57:19.968Z"
   },
   {
    "duration": 79,
    "start_time": "2023-01-07T15:57:20.000Z"
   },
   {
    "duration": 18,
    "start_time": "2023-01-07T15:57:20.080Z"
   },
   {
    "duration": 183,
    "start_time": "2023-01-07T15:57:20.100Z"
   },
   {
    "duration": 6,
    "start_time": "2023-01-07T15:57:20.285Z"
   },
   {
    "duration": 23,
    "start_time": "2023-01-07T15:57:20.293Z"
   },
   {
    "duration": 14,
    "start_time": "2023-01-07T15:57:20.319Z"
   },
   {
    "duration": 32,
    "start_time": "2023-01-07T15:57:20.335Z"
   },
   {
    "duration": 35,
    "start_time": "2023-01-07T15:57:20.369Z"
   },
   {
    "duration": 18,
    "start_time": "2023-01-07T15:57:20.406Z"
   },
   {
    "duration": 2670,
    "start_time": "2023-01-07T15:57:20.426Z"
   },
   {
    "duration": 389,
    "start_time": "2023-01-07T15:57:23.097Z"
   },
   {
    "duration": 3,
    "start_time": "2023-01-07T15:57:23.488Z"
   },
   {
    "duration": 1634,
    "start_time": "2023-01-07T15:57:23.493Z"
   },
   {
    "duration": 2134,
    "start_time": "2023-01-07T15:58:54.536Z"
   },
   {
    "duration": 1545,
    "start_time": "2023-01-07T15:59:49.911Z"
   },
   {
    "duration": 853,
    "start_time": "2023-01-07T16:00:14.866Z"
   },
   {
    "duration": 1531,
    "start_time": "2023-01-07T16:01:12.412Z"
   },
   {
    "duration": 13,
    "start_time": "2023-01-07T16:03:01.945Z"
   },
   {
    "duration": 1570,
    "start_time": "2023-01-07T16:03:08.024Z"
   },
   {
    "duration": 1464,
    "start_time": "2023-01-07T16:03:11.958Z"
   },
   {
    "duration": 1559,
    "start_time": "2023-01-07T16:03:14.279Z"
   },
   {
    "duration": 55,
    "start_time": "2023-01-07T16:04:24.059Z"
   },
   {
    "duration": 1346,
    "start_time": "2023-01-07T16:05:15.804Z"
   },
   {
    "duration": 2,
    "start_time": "2023-01-07T16:05:17.152Z"
   },
   {
    "duration": 708,
    "start_time": "2023-01-07T16:05:17.156Z"
   },
   {
    "duration": 61,
    "start_time": "2023-01-07T16:05:17.867Z"
   },
   {
    "duration": 17,
    "start_time": "2023-01-07T16:05:17.930Z"
   },
   {
    "duration": 40,
    "start_time": "2023-01-07T16:05:17.949Z"
   },
   {
    "duration": 34,
    "start_time": "2023-01-07T16:05:17.991Z"
   },
   {
    "duration": 55,
    "start_time": "2023-01-07T16:05:18.027Z"
   },
   {
    "duration": 40,
    "start_time": "2023-01-07T16:05:18.083Z"
   },
   {
    "duration": 149,
    "start_time": "2023-01-07T16:05:18.126Z"
   },
   {
    "duration": 5,
    "start_time": "2023-01-07T16:05:18.277Z"
   },
   {
    "duration": 23,
    "start_time": "2023-01-07T16:05:18.284Z"
   },
   {
    "duration": 26,
    "start_time": "2023-01-07T16:05:18.309Z"
   },
   {
    "duration": 23,
    "start_time": "2023-01-07T16:05:18.336Z"
   },
   {
    "duration": 25,
    "start_time": "2023-01-07T16:05:18.360Z"
   },
   {
    "duration": 18,
    "start_time": "2023-01-07T16:05:18.386Z"
   },
   {
    "duration": 2708,
    "start_time": "2023-01-07T16:05:18.408Z"
   },
   {
    "duration": 377,
    "start_time": "2023-01-07T16:05:21.121Z"
   },
   {
    "duration": 72,
    "start_time": "2023-01-07T16:05:21.501Z"
   },
   {
    "duration": 2143,
    "start_time": "2023-01-07T16:05:21.575Z"
   },
   {
    "duration": 1601,
    "start_time": "2023-01-07T16:05:23.721Z"
   },
   {
    "duration": 0,
    "start_time": "2023-01-07T16:05:25.324Z"
   },
   {
    "duration": 25,
    "start_time": "2023-01-07T16:11:01.514Z"
   },
   {
    "duration": 22,
    "start_time": "2023-01-07T16:11:57.105Z"
   },
   {
    "duration": 1287,
    "start_time": "2023-01-07T16:12:01.336Z"
   },
   {
    "duration": 2,
    "start_time": "2023-01-07T16:12:02.625Z"
   },
   {
    "duration": 1025,
    "start_time": "2023-01-07T16:12:02.629Z"
   },
   {
    "duration": 168,
    "start_time": "2023-01-07T16:12:03.656Z"
   },
   {
    "duration": 17,
    "start_time": "2023-01-07T16:12:03.825Z"
   },
   {
    "duration": 96,
    "start_time": "2023-01-07T16:12:03.844Z"
   },
   {
    "duration": 12,
    "start_time": "2023-01-07T16:12:03.942Z"
   },
   {
    "duration": 181,
    "start_time": "2023-01-07T16:12:03.955Z"
   },
   {
    "duration": 20,
    "start_time": "2023-01-07T16:12:04.138Z"
   },
   {
    "duration": 361,
    "start_time": "2023-01-07T16:12:04.161Z"
   },
   {
    "duration": 5,
    "start_time": "2023-01-07T16:12:04.523Z"
   },
   {
    "duration": 8,
    "start_time": "2023-01-07T16:12:04.530Z"
   },
   {
    "duration": 8,
    "start_time": "2023-01-07T16:12:04.539Z"
   },
   {
    "duration": 6,
    "start_time": "2023-01-07T16:12:04.549Z"
   },
   {
    "duration": 9,
    "start_time": "2023-01-07T16:12:04.557Z"
   },
   {
    "duration": 58,
    "start_time": "2023-01-07T16:12:04.567Z"
   },
   {
    "duration": 2634,
    "start_time": "2023-01-07T16:12:04.627Z"
   },
   {
    "duration": 387,
    "start_time": "2023-01-07T16:12:07.263Z"
   },
   {
    "duration": 149,
    "start_time": "2023-01-07T16:12:07.651Z"
   },
   {
    "duration": 0,
    "start_time": "2023-01-07T16:12:07.802Z"
   },
   {
    "duration": 0,
    "start_time": "2023-01-07T16:12:07.803Z"
   },
   {
    "duration": 0,
    "start_time": "2023-01-07T16:12:07.804Z"
   },
   {
    "duration": 0,
    "start_time": "2023-01-07T16:12:07.805Z"
   },
   {
    "duration": 41,
    "start_time": "2023-01-07T16:14:10.061Z"
   },
   {
    "duration": 39,
    "start_time": "2023-01-07T16:14:15.324Z"
   },
   {
    "duration": 1228,
    "start_time": "2023-01-07T16:14:19.946Z"
   },
   {
    "duration": 3,
    "start_time": "2023-01-07T16:14:21.176Z"
   },
   {
    "duration": 660,
    "start_time": "2023-01-07T16:14:21.180Z"
   },
   {
    "duration": 62,
    "start_time": "2023-01-07T16:14:21.843Z"
   },
   {
    "duration": 17,
    "start_time": "2023-01-07T16:14:21.921Z"
   },
   {
    "duration": 37,
    "start_time": "2023-01-07T16:14:21.940Z"
   },
   {
    "duration": 14,
    "start_time": "2023-01-07T16:14:21.978Z"
   },
   {
    "duration": 75,
    "start_time": "2023-01-07T16:14:21.994Z"
   },
   {
    "duration": 31,
    "start_time": "2023-01-07T16:14:22.071Z"
   },
   {
    "duration": 154,
    "start_time": "2023-01-07T16:14:22.105Z"
   },
   {
    "duration": 6,
    "start_time": "2023-01-07T16:14:22.261Z"
   },
   {
    "duration": 4,
    "start_time": "2023-01-07T16:14:22.269Z"
   },
   {
    "duration": 8,
    "start_time": "2023-01-07T16:14:22.274Z"
   },
   {
    "duration": 9,
    "start_time": "2023-01-07T16:14:22.284Z"
   },
   {
    "duration": 15,
    "start_time": "2023-01-07T16:14:22.295Z"
   },
   {
    "duration": 15,
    "start_time": "2023-01-07T16:14:22.312Z"
   },
   {
    "duration": 9,
    "start_time": "2023-01-07T16:14:22.328Z"
   },
   {
    "duration": 2640,
    "start_time": "2023-01-07T16:14:22.339Z"
   },
   {
    "duration": 378,
    "start_time": "2023-01-07T16:14:24.981Z"
   },
   {
    "duration": 67,
    "start_time": "2023-01-07T16:14:25.361Z"
   },
   {
    "duration": 2058,
    "start_time": "2023-01-07T16:14:25.429Z"
   },
   {
    "duration": 1611,
    "start_time": "2023-01-07T16:14:27.489Z"
   },
   {
    "duration": 0,
    "start_time": "2023-01-07T16:14:29.102Z"
   },
   {
    "duration": 55,
    "start_time": "2023-01-07T16:15:24.314Z"
   },
   {
    "duration": 1252,
    "start_time": "2023-01-07T16:19:45.134Z"
   },
   {
    "duration": 3,
    "start_time": "2023-01-07T16:19:46.388Z"
   },
   {
    "duration": 681,
    "start_time": "2023-01-07T16:19:46.392Z"
   },
   {
    "duration": 72,
    "start_time": "2023-01-07T16:19:47.075Z"
   },
   {
    "duration": 17,
    "start_time": "2023-01-07T16:19:47.148Z"
   },
   {
    "duration": 44,
    "start_time": "2023-01-07T16:19:47.167Z"
   },
   {
    "duration": 13,
    "start_time": "2023-01-07T16:19:47.222Z"
   },
   {
    "duration": 85,
    "start_time": "2023-01-07T16:19:47.237Z"
   },
   {
    "duration": 16,
    "start_time": "2023-01-07T16:19:47.324Z"
   },
   {
    "duration": 169,
    "start_time": "2023-01-07T16:19:47.343Z"
   },
   {
    "duration": 5,
    "start_time": "2023-01-07T16:19:47.513Z"
   },
   {
    "duration": 22,
    "start_time": "2023-01-07T16:19:47.519Z"
   },
   {
    "duration": 25,
    "start_time": "2023-01-07T16:19:47.543Z"
   },
   {
    "duration": 23,
    "start_time": "2023-01-07T16:19:47.569Z"
   },
   {
    "duration": 35,
    "start_time": "2023-01-07T16:19:47.593Z"
   },
   {
    "duration": 25,
    "start_time": "2023-01-07T16:19:47.629Z"
   },
   {
    "duration": 48,
    "start_time": "2023-01-07T16:19:47.656Z"
   },
   {
    "duration": 70,
    "start_time": "2023-01-07T16:19:47.706Z"
   },
   {
    "duration": 16,
    "start_time": "2023-01-07T16:19:47.777Z"
   },
   {
    "duration": 2143,
    "start_time": "2023-01-07T16:19:47.795Z"
   },
   {
    "duration": 3164,
    "start_time": "2023-01-07T16:19:49.939Z"
   },
   {
    "duration": 24,
    "start_time": "2023-01-07T16:19:53.105Z"
   },
   {
    "duration": 13,
    "start_time": "2023-01-07T16:20:04.517Z"
   },
   {
    "duration": 2410,
    "start_time": "2023-01-07T16:21:01.033Z"
   },
   {
    "duration": 639,
    "start_time": "2023-01-07T16:22:12.450Z"
   },
   {
    "duration": 16,
    "start_time": "2023-01-07T16:25:44.016Z"
   },
   {
    "duration": 17,
    "start_time": "2023-01-07T16:25:50.894Z"
   },
   {
    "duration": 1238,
    "start_time": "2023-01-07T16:26:07.525Z"
   },
   {
    "duration": 3,
    "start_time": "2023-01-07T16:26:08.765Z"
   },
   {
    "duration": 700,
    "start_time": "2023-01-07T16:26:08.769Z"
   },
   {
    "duration": 71,
    "start_time": "2023-01-07T16:26:09.471Z"
   },
   {
    "duration": 17,
    "start_time": "2023-01-07T16:26:09.543Z"
   },
   {
    "duration": 53,
    "start_time": "2023-01-07T16:26:09.561Z"
   },
   {
    "duration": 18,
    "start_time": "2023-01-07T16:26:09.615Z"
   },
   {
    "duration": 75,
    "start_time": "2023-01-07T16:26:09.635Z"
   },
   {
    "duration": 20,
    "start_time": "2023-01-07T16:26:09.711Z"
   },
   {
    "duration": 186,
    "start_time": "2023-01-07T16:26:09.733Z"
   },
   {
    "duration": 6,
    "start_time": "2023-01-07T16:26:09.921Z"
   },
   {
    "duration": 21,
    "start_time": "2023-01-07T16:26:09.928Z"
   },
   {
    "duration": 10,
    "start_time": "2023-01-07T16:26:09.951Z"
   },
   {
    "duration": 9,
    "start_time": "2023-01-07T16:26:09.963Z"
   },
   {
    "duration": 11,
    "start_time": "2023-01-07T16:26:09.974Z"
   },
   {
    "duration": 13,
    "start_time": "2023-01-07T16:26:09.987Z"
   },
   {
    "duration": 46,
    "start_time": "2023-01-07T16:26:10.002Z"
   },
   {
    "duration": 84,
    "start_time": "2023-01-07T16:26:10.049Z"
   },
   {
    "duration": 14,
    "start_time": "2023-01-07T16:26:10.135Z"
   },
   {
    "duration": 19,
    "start_time": "2023-01-07T16:26:10.151Z"
   },
   {
    "duration": 2141,
    "start_time": "2023-01-07T16:26:10.172Z"
   },
   {
    "duration": 2261,
    "start_time": "2023-01-07T16:26:12.322Z"
   },
   {
    "duration": 2289,
    "start_time": "2023-01-07T16:26:14.586Z"
   },
   {
    "duration": 16,
    "start_time": "2023-01-07T16:26:16.877Z"
   },
   {
    "duration": 1307,
    "start_time": "2023-01-07T16:26:21.582Z"
   },
   {
    "duration": 4,
    "start_time": "2023-01-07T16:26:22.891Z"
   },
   {
    "duration": 684,
    "start_time": "2023-01-07T16:26:22.896Z"
   },
   {
    "duration": 70,
    "start_time": "2023-01-07T16:26:23.582Z"
   },
   {
    "duration": 17,
    "start_time": "2023-01-07T16:26:23.654Z"
   },
   {
    "duration": 56,
    "start_time": "2023-01-07T16:26:23.673Z"
   },
   {
    "duration": 13,
    "start_time": "2023-01-07T16:26:23.731Z"
   },
   {
    "duration": 55,
    "start_time": "2023-01-07T16:26:23.745Z"
   },
   {
    "duration": 33,
    "start_time": "2023-01-07T16:26:23.802Z"
   },
   {
    "duration": 177,
    "start_time": "2023-01-07T16:26:23.838Z"
   },
   {
    "duration": 6,
    "start_time": "2023-01-07T16:26:24.017Z"
   },
   {
    "duration": 31,
    "start_time": "2023-01-07T16:26:24.024Z"
   },
   {
    "duration": 18,
    "start_time": "2023-01-07T16:26:24.057Z"
   },
   {
    "duration": 12,
    "start_time": "2023-01-07T16:26:24.077Z"
   },
   {
    "duration": 15,
    "start_time": "2023-01-07T16:26:24.091Z"
   },
   {
    "duration": 36,
    "start_time": "2023-01-07T16:26:24.108Z"
   },
   {
    "duration": 35,
    "start_time": "2023-01-07T16:26:24.146Z"
   },
   {
    "duration": 70,
    "start_time": "2023-01-07T16:26:24.183Z"
   },
   {
    "duration": 24,
    "start_time": "2023-01-07T16:26:24.257Z"
   },
   {
    "duration": 2078,
    "start_time": "2023-01-07T16:26:24.283Z"
   },
   {
    "duration": 2185,
    "start_time": "2023-01-07T16:26:26.363Z"
   },
   {
    "duration": 2250,
    "start_time": "2023-01-07T16:26:28.550Z"
   },
   {
    "duration": 23,
    "start_time": "2023-01-07T16:26:30.802Z"
   },
   {
    "duration": 2216,
    "start_time": "2023-01-07T16:30:14.702Z"
   },
   {
    "duration": 1251,
    "start_time": "2023-01-07T16:30:52.960Z"
   },
   {
    "duration": 4,
    "start_time": "2023-01-07T16:30:54.215Z"
   },
   {
    "duration": 698,
    "start_time": "2023-01-07T16:30:54.220Z"
   },
   {
    "duration": 64,
    "start_time": "2023-01-07T16:30:54.922Z"
   },
   {
    "duration": 34,
    "start_time": "2023-01-07T16:30:54.988Z"
   },
   {
    "duration": 38,
    "start_time": "2023-01-07T16:30:55.024Z"
   },
   {
    "duration": 19,
    "start_time": "2023-01-07T16:30:55.064Z"
   },
   {
    "duration": 68,
    "start_time": "2023-01-07T16:30:55.085Z"
   },
   {
    "duration": 17,
    "start_time": "2023-01-07T16:30:55.155Z"
   },
   {
    "duration": 184,
    "start_time": "2023-01-07T16:30:55.175Z"
   },
   {
    "duration": 5,
    "start_time": "2023-01-07T16:30:55.361Z"
   },
   {
    "duration": 5,
    "start_time": "2023-01-07T16:30:55.368Z"
   },
   {
    "duration": 9,
    "start_time": "2023-01-07T16:30:55.374Z"
   },
   {
    "duration": 9,
    "start_time": "2023-01-07T16:30:55.384Z"
   },
   {
    "duration": 11,
    "start_time": "2023-01-07T16:30:55.394Z"
   },
   {
    "duration": 12,
    "start_time": "2023-01-07T16:30:55.407Z"
   },
   {
    "duration": 25,
    "start_time": "2023-01-07T16:30:55.421Z"
   },
   {
    "duration": 61,
    "start_time": "2023-01-07T16:30:55.448Z"
   },
   {
    "duration": 2048,
    "start_time": "2023-01-07T16:30:55.521Z"
   },
   {
    "duration": 2121,
    "start_time": "2023-01-07T16:30:57.570Z"
   },
   {
    "duration": 2343,
    "start_time": "2023-01-07T16:30:59.693Z"
   },
   {
    "duration": 17,
    "start_time": "2023-01-07T16:31:02.038Z"
   },
   {
    "duration": 1280,
    "start_time": "2023-01-07T16:31:43.901Z"
   },
   {
    "duration": 3,
    "start_time": "2023-01-07T16:31:45.182Z"
   },
   {
    "duration": 692,
    "start_time": "2023-01-07T16:31:45.187Z"
   },
   {
    "duration": 69,
    "start_time": "2023-01-07T16:31:45.881Z"
   },
   {
    "duration": 15,
    "start_time": "2023-01-07T16:31:45.952Z"
   },
   {
    "duration": 56,
    "start_time": "2023-01-07T16:31:45.969Z"
   },
   {
    "duration": 22,
    "start_time": "2023-01-07T16:31:46.027Z"
   },
   {
    "duration": 96,
    "start_time": "2023-01-07T16:31:46.051Z"
   },
   {
    "duration": 25,
    "start_time": "2023-01-07T16:31:46.148Z"
   },
   {
    "duration": 170,
    "start_time": "2023-01-07T16:31:46.177Z"
   },
   {
    "duration": 5,
    "start_time": "2023-01-07T16:31:46.349Z"
   },
   {
    "duration": 38,
    "start_time": "2023-01-07T16:31:46.355Z"
   },
   {
    "duration": 37,
    "start_time": "2023-01-07T16:31:46.395Z"
   },
   {
    "duration": 35,
    "start_time": "2023-01-07T16:31:46.434Z"
   },
   {
    "duration": 39,
    "start_time": "2023-01-07T16:31:46.470Z"
   },
   {
    "duration": 38,
    "start_time": "2023-01-07T16:31:46.510Z"
   },
   {
    "duration": 50,
    "start_time": "2023-01-07T16:31:46.550Z"
   },
   {
    "duration": 61,
    "start_time": "2023-01-07T16:31:46.602Z"
   },
   {
    "duration": 1944,
    "start_time": "2023-01-07T16:31:46.665Z"
   },
   {
    "duration": 2113,
    "start_time": "2023-01-07T16:31:48.611Z"
   },
   {
    "duration": 2170,
    "start_time": "2023-01-07T16:31:50.726Z"
   },
   {
    "duration": 24,
    "start_time": "2023-01-07T16:31:52.898Z"
   },
   {
    "duration": 2132,
    "start_time": "2023-01-07T16:33:49.561Z"
   },
   {
    "duration": 1277,
    "start_time": "2023-01-07T16:34:49.528Z"
   },
   {
    "duration": 3,
    "start_time": "2023-01-07T16:34:50.806Z"
   },
   {
    "duration": 694,
    "start_time": "2023-01-07T16:34:50.811Z"
   },
   {
    "duration": 67,
    "start_time": "2023-01-07T16:34:51.507Z"
   },
   {
    "duration": 21,
    "start_time": "2023-01-07T16:34:51.575Z"
   },
   {
    "duration": 59,
    "start_time": "2023-01-07T16:34:51.598Z"
   },
   {
    "duration": 25,
    "start_time": "2023-01-07T16:34:51.659Z"
   },
   {
    "duration": 78,
    "start_time": "2023-01-07T16:34:51.686Z"
   },
   {
    "duration": 17,
    "start_time": "2023-01-07T16:34:51.766Z"
   },
   {
    "duration": 209,
    "start_time": "2023-01-07T16:34:51.786Z"
   },
   {
    "duration": 6,
    "start_time": "2023-01-07T16:34:52.022Z"
   },
   {
    "duration": 27,
    "start_time": "2023-01-07T16:34:52.029Z"
   },
   {
    "duration": 64,
    "start_time": "2023-01-07T16:34:52.058Z"
   },
   {
    "duration": 9,
    "start_time": "2023-01-07T16:34:52.124Z"
   },
   {
    "duration": 36,
    "start_time": "2023-01-07T16:34:52.135Z"
   },
   {
    "duration": 52,
    "start_time": "2023-01-07T16:34:52.172Z"
   },
   {
    "duration": 45,
    "start_time": "2023-01-07T16:34:52.227Z"
   },
   {
    "duration": 160,
    "start_time": "2023-01-07T16:34:52.274Z"
   },
   {
    "duration": 2774,
    "start_time": "2023-01-07T16:34:52.436Z"
   },
   {
    "duration": 3185,
    "start_time": "2023-01-07T16:34:55.211Z"
   },
   {
    "duration": 2221,
    "start_time": "2023-01-07T16:34:58.398Z"
   },
   {
    "duration": 14,
    "start_time": "2023-01-07T16:35:00.622Z"
   },
   {
    "duration": 1418,
    "start_time": "2023-01-07T16:35:12.463Z"
   },
   {
    "duration": 3,
    "start_time": "2023-01-07T16:35:13.883Z"
   },
   {
    "duration": 1271,
    "start_time": "2023-01-07T16:35:13.887Z"
   },
   {
    "duration": 167,
    "start_time": "2023-01-07T16:35:15.160Z"
   },
   {
    "duration": 18,
    "start_time": "2023-01-07T16:35:15.328Z"
   },
   {
    "duration": 91,
    "start_time": "2023-01-07T16:35:15.348Z"
   },
   {
    "duration": 20,
    "start_time": "2023-01-07T16:35:15.441Z"
   },
   {
    "duration": 163,
    "start_time": "2023-01-07T16:35:15.462Z"
   },
   {
    "duration": 23,
    "start_time": "2023-01-07T16:35:15.627Z"
   },
   {
    "duration": 302,
    "start_time": "2023-01-07T16:35:15.653Z"
   },
   {
    "duration": 5,
    "start_time": "2023-01-07T16:35:15.957Z"
   },
   {
    "duration": 7,
    "start_time": "2023-01-07T16:35:15.964Z"
   },
   {
    "duration": 9,
    "start_time": "2023-01-07T16:35:15.972Z"
   },
   {
    "duration": 7,
    "start_time": "2023-01-07T16:35:15.982Z"
   },
   {
    "duration": 12,
    "start_time": "2023-01-07T16:35:15.991Z"
   },
   {
    "duration": 20,
    "start_time": "2023-01-07T16:35:16.005Z"
   },
   {
    "duration": 26,
    "start_time": "2023-01-07T16:35:16.027Z"
   },
   {
    "duration": 76,
    "start_time": "2023-01-07T16:35:16.054Z"
   },
   {
    "duration": 2058,
    "start_time": "2023-01-07T16:35:16.132Z"
   },
   {
    "duration": 2207,
    "start_time": "2023-01-07T16:35:18.192Z"
   },
   {
    "duration": 2207,
    "start_time": "2023-01-07T16:35:20.400Z"
   },
   {
    "duration": 20,
    "start_time": "2023-01-07T16:35:22.609Z"
   },
   {
    "duration": 1317,
    "start_time": "2023-01-07T16:37:03.937Z"
   },
   {
    "duration": 2,
    "start_time": "2023-01-07T16:37:05.256Z"
   },
   {
    "duration": 684,
    "start_time": "2023-01-07T16:37:05.260Z"
   },
   {
    "duration": 57,
    "start_time": "2023-01-07T16:37:05.946Z"
   },
   {
    "duration": 27,
    "start_time": "2023-01-07T16:37:06.005Z"
   },
   {
    "duration": 41,
    "start_time": "2023-01-07T16:37:06.033Z"
   },
   {
    "duration": 14,
    "start_time": "2023-01-07T16:37:06.076Z"
   },
   {
    "duration": 71,
    "start_time": "2023-01-07T16:37:06.091Z"
   },
   {
    "duration": 18,
    "start_time": "2023-01-07T16:37:06.164Z"
   },
   {
    "duration": 172,
    "start_time": "2023-01-07T16:37:06.183Z"
   },
   {
    "duration": 5,
    "start_time": "2023-01-07T16:37:06.358Z"
   },
   {
    "duration": 3,
    "start_time": "2023-01-07T16:37:06.365Z"
   },
   {
    "duration": 7,
    "start_time": "2023-01-07T16:37:06.370Z"
   },
   {
    "duration": 6,
    "start_time": "2023-01-07T16:37:06.379Z"
   },
   {
    "duration": 7,
    "start_time": "2023-01-07T16:37:06.386Z"
   },
   {
    "duration": 9,
    "start_time": "2023-01-07T16:37:06.394Z"
   },
   {
    "duration": 28,
    "start_time": "2023-01-07T16:37:06.404Z"
   },
   {
    "duration": 60,
    "start_time": "2023-01-07T16:37:06.433Z"
   },
   {
    "duration": 2018,
    "start_time": "2023-01-07T16:37:06.495Z"
   },
   {
    "duration": 2116,
    "start_time": "2023-01-07T16:37:08.515Z"
   },
   {
    "duration": 2205,
    "start_time": "2023-01-07T16:37:10.633Z"
   },
   {
    "duration": 22,
    "start_time": "2023-01-07T16:37:12.840Z"
   },
   {
    "duration": 5,
    "start_time": "2023-01-07T16:41:29.656Z"
   },
   {
    "duration": 101,
    "start_time": "2023-01-07T16:41:31.757Z"
   },
   {
    "duration": 5,
    "start_time": "2023-01-07T16:42:18.588Z"
   },
   {
    "duration": 2055,
    "start_time": "2023-01-07T16:42:20.687Z"
   },
   {
    "duration": 2137,
    "start_time": "2023-01-07T16:42:47.343Z"
   },
   {
    "duration": 2180,
    "start_time": "2023-01-07T16:43:13.525Z"
   },
   {
    "duration": 6,
    "start_time": "2023-01-07T16:46:09.541Z"
   },
   {
    "duration": 1280,
    "start_time": "2023-01-07T16:46:16.614Z"
   },
   {
    "duration": 3,
    "start_time": "2023-01-07T16:46:17.896Z"
   },
   {
    "duration": 728,
    "start_time": "2023-01-07T16:46:17.901Z"
   },
   {
    "duration": 61,
    "start_time": "2023-01-07T16:46:18.631Z"
   },
   {
    "duration": 34,
    "start_time": "2023-01-07T16:46:18.694Z"
   },
   {
    "duration": 41,
    "start_time": "2023-01-07T16:46:18.730Z"
   },
   {
    "duration": 28,
    "start_time": "2023-01-07T16:46:18.772Z"
   },
   {
    "duration": 69,
    "start_time": "2023-01-07T16:46:18.802Z"
   },
   {
    "duration": 17,
    "start_time": "2023-01-07T16:46:18.873Z"
   },
   {
    "duration": 186,
    "start_time": "2023-01-07T16:46:18.893Z"
   },
   {
    "duration": 6,
    "start_time": "2023-01-07T16:46:19.081Z"
   },
   {
    "duration": 30,
    "start_time": "2023-01-07T16:46:19.089Z"
   },
   {
    "duration": 16,
    "start_time": "2023-01-07T16:46:19.121Z"
   },
   {
    "duration": 20,
    "start_time": "2023-01-07T16:46:19.140Z"
   },
   {
    "duration": 22,
    "start_time": "2023-01-07T16:46:19.161Z"
   },
   {
    "duration": 22,
    "start_time": "2023-01-07T16:46:19.185Z"
   },
   {
    "duration": 68,
    "start_time": "2023-01-07T16:46:19.209Z"
   },
   {
    "duration": 71,
    "start_time": "2023-01-07T16:46:19.279Z"
   },
   {
    "duration": 4,
    "start_time": "2023-01-07T16:46:19.352Z"
   },
   {
    "duration": 268,
    "start_time": "2023-01-07T16:46:19.357Z"
   },
   {
    "duration": 0,
    "start_time": "2023-01-07T16:46:19.627Z"
   },
   {
    "duration": 0,
    "start_time": "2023-01-07T16:46:19.629Z"
   },
   {
    "duration": 5,
    "start_time": "2023-01-07T16:47:07.634Z"
   },
   {
    "duration": 2067,
    "start_time": "2023-01-07T16:47:09.618Z"
   },
   {
    "duration": 2209,
    "start_time": "2023-01-07T16:47:11.686Z"
   },
   {
    "duration": 2263,
    "start_time": "2023-01-07T16:47:13.897Z"
   },
   {
    "duration": 62,
    "start_time": "2023-01-08T10:10:38.427Z"
   },
   {
    "duration": 1406,
    "start_time": "2023-01-08T10:10:58.370Z"
   },
   {
    "duration": 2,
    "start_time": "2023-01-08T10:10:59.778Z"
   },
   {
    "duration": 1773,
    "start_time": "2023-01-08T10:10:59.782Z"
   },
   {
    "duration": 67,
    "start_time": "2023-01-08T10:11:01.557Z"
   },
   {
    "duration": 18,
    "start_time": "2023-01-08T10:11:01.625Z"
   },
   {
    "duration": 91,
    "start_time": "2023-01-08T10:11:01.645Z"
   },
   {
    "duration": 28,
    "start_time": "2023-01-08T10:11:01.738Z"
   },
   {
    "duration": 82,
    "start_time": "2023-01-08T10:11:01.768Z"
   },
   {
    "duration": 19,
    "start_time": "2023-01-08T10:11:01.852Z"
   },
   {
    "duration": 150,
    "start_time": "2023-01-08T10:11:01.873Z"
   },
   {
    "duration": 5,
    "start_time": "2023-01-08T10:11:02.025Z"
   },
   {
    "duration": 17,
    "start_time": "2023-01-08T10:11:02.031Z"
   },
   {
    "duration": 16,
    "start_time": "2023-01-08T10:11:02.050Z"
   },
   {
    "duration": 52,
    "start_time": "2023-01-08T10:11:02.068Z"
   },
   {
    "duration": 37,
    "start_time": "2023-01-08T10:11:02.122Z"
   },
   {
    "duration": 19,
    "start_time": "2023-01-08T10:11:02.161Z"
   },
   {
    "duration": 39,
    "start_time": "2023-01-08T10:11:02.181Z"
   },
   {
    "duration": 71,
    "start_time": "2023-01-08T10:11:02.222Z"
   },
   {
    "duration": 5,
    "start_time": "2023-01-08T10:11:02.294Z"
   },
   {
    "duration": 2503,
    "start_time": "2023-01-08T10:11:02.300Z"
   },
   {
    "duration": 2222,
    "start_time": "2023-01-08T10:11:04.805Z"
   },
   {
    "duration": 2303,
    "start_time": "2023-01-08T10:11:07.029Z"
   },
   {
    "duration": 619,
    "start_time": "2023-01-08T10:11:09.334Z"
   },
   {
    "duration": 847,
    "start_time": "2023-01-08T10:11:42.023Z"
   },
   {
    "duration": 1038,
    "start_time": "2023-01-08T10:12:57.753Z"
   },
   {
    "duration": 692,
    "start_time": "2023-01-08T10:13:58.744Z"
   },
   {
    "duration": 56,
    "start_time": "2023-01-08T10:14:45.153Z"
   },
   {
    "duration": 1209,
    "start_time": "2023-01-08T10:20:36.924Z"
   },
   {
    "duration": 18,
    "start_time": "2023-01-08T10:20:48.456Z"
   },
   {
    "duration": 3,
    "start_time": "2023-01-08T10:34:22.226Z"
   },
   {
    "duration": 9,
    "start_time": "2023-01-08T10:35:59.450Z"
   },
   {
    "duration": 18,
    "start_time": "2023-01-08T10:37:49.439Z"
   },
   {
    "duration": 3,
    "start_time": "2023-01-08T10:39:18.890Z"
   },
   {
    "duration": 210,
    "start_time": "2023-01-08T10:42:43.815Z"
   },
   {
    "duration": 208,
    "start_time": "2023-01-08T10:42:47.718Z"
   },
   {
    "duration": 962,
    "start_time": "2023-01-08T10:45:01.176Z"
   },
   {
    "duration": 784,
    "start_time": "2023-01-08T10:45:07.615Z"
   },
   {
    "duration": 986,
    "start_time": "2023-01-08T10:45:26.956Z"
   },
   {
    "duration": 398,
    "start_time": "2023-01-08T10:45:49.441Z"
   },
   {
    "duration": 500,
    "start_time": "2023-01-08T10:46:03.088Z"
   },
   {
    "duration": 485,
    "start_time": "2023-01-08T10:49:13.368Z"
   },
   {
    "duration": 619,
    "start_time": "2023-01-08T10:49:28.131Z"
   },
   {
    "duration": 494,
    "start_time": "2023-01-08T10:49:50.375Z"
   },
   {
    "duration": 163,
    "start_time": "2023-01-08T10:50:30.825Z"
   },
   {
    "duration": 434,
    "start_time": "2023-01-08T10:51:38.509Z"
   },
   {
    "duration": 595,
    "start_time": "2023-01-08T10:53:37.704Z"
   },
   {
    "duration": 484,
    "start_time": "2023-01-08T10:53:51.061Z"
   },
   {
    "duration": 526,
    "start_time": "2023-01-08T10:54:05.944Z"
   },
   {
    "duration": 492,
    "start_time": "2023-01-08T10:55:06.780Z"
   },
   {
    "duration": 637,
    "start_time": "2023-01-08T10:55:16.053Z"
   },
   {
    "duration": 524,
    "start_time": "2023-01-08T10:56:18.081Z"
   },
   {
    "duration": 427,
    "start_time": "2023-01-08T10:57:16.906Z"
   },
   {
    "duration": 618,
    "start_time": "2023-01-08T10:57:25.052Z"
   },
   {
    "duration": 486,
    "start_time": "2023-01-08T10:57:39.125Z"
   },
   {
    "duration": 468,
    "start_time": "2023-01-08T10:58:33.331Z"
   },
   {
    "duration": 3,
    "start_time": "2023-01-08T11:06:01.304Z"
   },
   {
    "duration": 10,
    "start_time": "2023-01-08T11:06:12.208Z"
   },
   {
    "duration": 9,
    "start_time": "2023-01-08T11:06:34.535Z"
   },
   {
    "duration": 9,
    "start_time": "2023-01-08T11:06:40.109Z"
   },
   {
    "duration": 9,
    "start_time": "2023-01-08T11:06:40.670Z"
   },
   {
    "duration": 12,
    "start_time": "2023-01-08T11:06:41.154Z"
   },
   {
    "duration": 5,
    "start_time": "2023-01-08T11:06:59.179Z"
   },
   {
    "duration": 1320,
    "start_time": "2023-01-08T11:08:10.643Z"
   },
   {
    "duration": 3,
    "start_time": "2023-01-08T11:08:11.964Z"
   },
   {
    "duration": 647,
    "start_time": "2023-01-08T11:08:11.968Z"
   },
   {
    "duration": 59,
    "start_time": "2023-01-08T11:08:12.617Z"
   },
   {
    "duration": 17,
    "start_time": "2023-01-08T11:08:12.677Z"
   },
   {
    "duration": 53,
    "start_time": "2023-01-08T11:08:12.695Z"
   },
   {
    "duration": 12,
    "start_time": "2023-01-08T11:08:12.749Z"
   },
   {
    "duration": 71,
    "start_time": "2023-01-08T11:08:12.762Z"
   },
   {
    "duration": 18,
    "start_time": "2023-01-08T11:08:12.834Z"
   },
   {
    "duration": 174,
    "start_time": "2023-01-08T11:08:12.854Z"
   },
   {
    "duration": 5,
    "start_time": "2023-01-08T11:08:13.029Z"
   },
   {
    "duration": 7,
    "start_time": "2023-01-08T11:08:13.035Z"
   },
   {
    "duration": 8,
    "start_time": "2023-01-08T11:08:13.044Z"
   },
   {
    "duration": 11,
    "start_time": "2023-01-08T11:08:13.053Z"
   },
   {
    "duration": 9,
    "start_time": "2023-01-08T11:08:13.066Z"
   },
   {
    "duration": 9,
    "start_time": "2023-01-08T11:08:13.077Z"
   },
   {
    "duration": 36,
    "start_time": "2023-01-08T11:08:13.087Z"
   },
   {
    "duration": 60,
    "start_time": "2023-01-08T11:08:13.125Z"
   },
   {
    "duration": 5,
    "start_time": "2023-01-08T11:08:13.186Z"
   },
   {
    "duration": 2213,
    "start_time": "2023-01-08T11:08:13.192Z"
   },
   {
    "duration": 2083,
    "start_time": "2023-01-08T11:08:15.406Z"
   },
   {
    "duration": 2314,
    "start_time": "2023-01-08T11:08:17.491Z"
   },
   {
    "duration": 549,
    "start_time": "2023-01-08T11:08:19.806Z"
   },
   {
    "duration": 5,
    "start_time": "2023-01-08T11:08:20.357Z"
   },
   {
    "duration": 15,
    "start_time": "2023-01-08T11:08:20.363Z"
   },
   {
    "duration": 5,
    "start_time": "2023-01-08T11:09:04.956Z"
   },
   {
    "duration": 10,
    "start_time": "2023-01-08T11:09:06.257Z"
   },
   {
    "duration": 92,
    "start_time": "2023-01-08T11:11:45.014Z"
   },
   {
    "duration": 5,
    "start_time": "2023-01-08T11:11:49.931Z"
   },
   {
    "duration": 9,
    "start_time": "2023-01-08T11:12:35.971Z"
   },
   {
    "duration": 2,
    "start_time": "2023-01-08T11:13:52.916Z"
   },
   {
    "duration": 3,
    "start_time": "2023-01-08T11:33:53.514Z"
   },
   {
    "duration": 71,
    "start_time": "2023-01-08T11:39:43.026Z"
   },
   {
    "duration": 242,
    "start_time": "2023-01-08T11:39:48.555Z"
   },
   {
    "duration": 132,
    "start_time": "2023-01-08T11:40:08.268Z"
   },
   {
    "duration": 0,
    "start_time": "2023-01-08T11:44:08.715Z"
   },
   {
    "duration": 552,
    "start_time": "2023-01-08T11:48:45.833Z"
   },
   {
    "duration": 1505,
    "start_time": "2023-01-08T11:48:57.954Z"
   },
   {
    "duration": 1530,
    "start_time": "2023-01-08T11:51:00.882Z"
   },
   {
    "duration": 1484,
    "start_time": "2023-01-08T11:51:57.157Z"
   },
   {
    "duration": 1396,
    "start_time": "2023-01-08T15:00:58.013Z"
   },
   {
    "duration": 3,
    "start_time": "2023-01-08T15:00:59.411Z"
   },
   {
    "duration": 688,
    "start_time": "2023-01-08T15:00:59.415Z"
   },
   {
    "duration": 69,
    "start_time": "2023-01-08T15:01:00.105Z"
   },
   {
    "duration": 17,
    "start_time": "2023-01-08T15:01:00.176Z"
   },
   {
    "duration": 61,
    "start_time": "2023-01-08T15:01:00.196Z"
   },
   {
    "duration": 13,
    "start_time": "2023-01-08T15:01:00.259Z"
   },
   {
    "duration": 77,
    "start_time": "2023-01-08T15:01:00.274Z"
   },
   {
    "duration": 18,
    "start_time": "2023-01-08T15:01:00.353Z"
   },
   {
    "duration": 177,
    "start_time": "2023-01-08T15:01:00.374Z"
   },
   {
    "duration": 6,
    "start_time": "2023-01-08T15:01:00.553Z"
   },
   {
    "duration": 23,
    "start_time": "2023-01-08T15:01:00.561Z"
   },
   {
    "duration": 21,
    "start_time": "2023-01-08T15:01:00.586Z"
   },
   {
    "duration": 18,
    "start_time": "2023-01-08T15:01:00.608Z"
   },
   {
    "duration": 39,
    "start_time": "2023-01-08T15:01:00.627Z"
   },
   {
    "duration": 22,
    "start_time": "2023-01-08T15:01:00.668Z"
   },
   {
    "duration": 30,
    "start_time": "2023-01-08T15:01:00.692Z"
   },
   {
    "duration": 60,
    "start_time": "2023-01-08T15:01:00.724Z"
   },
   {
    "duration": 5,
    "start_time": "2023-01-08T15:01:00.785Z"
   },
   {
    "duration": 2352,
    "start_time": "2023-01-08T15:01:00.792Z"
   },
   {
    "duration": 2289,
    "start_time": "2023-01-08T15:01:03.145Z"
   },
   {
    "duration": 2268,
    "start_time": "2023-01-08T15:01:05.436Z"
   },
   {
    "duration": 524,
    "start_time": "2023-01-08T15:01:07.706Z"
   },
   {
    "duration": 3,
    "start_time": "2023-01-08T15:01:08.232Z"
   },
   {
    "duration": 8,
    "start_time": "2023-01-08T15:01:08.237Z"
   },
   {
    "duration": 12,
    "start_time": "2023-01-08T15:01:08.247Z"
   },
   {
    "duration": 1784,
    "start_time": "2023-01-08T15:01:08.261Z"
   },
   {
    "duration": 4,
    "start_time": "2023-01-08T15:08:50.634Z"
   },
   {
    "duration": 3,
    "start_time": "2023-01-08T15:11:51.238Z"
   },
   {
    "duration": 14,
    "start_time": "2023-01-08T15:12:50.396Z"
   },
   {
    "duration": 5,
    "start_time": "2023-01-08T15:14:48.648Z"
   },
   {
    "duration": 38,
    "start_time": "2023-01-08T15:14:53.265Z"
   },
   {
    "duration": 16,
    "start_time": "2023-01-08T15:15:03.505Z"
   },
   {
    "duration": 1614,
    "start_time": "2023-01-08T17:16:03.091Z"
   },
   {
    "duration": 3,
    "start_time": "2023-01-08T17:16:04.707Z"
   },
   {
    "duration": 2159,
    "start_time": "2023-01-08T17:16:04.712Z"
   },
   {
    "duration": 68,
    "start_time": "2023-01-08T17:16:06.873Z"
   },
   {
    "duration": 18,
    "start_time": "2023-01-08T17:16:06.942Z"
   },
   {
    "duration": 39,
    "start_time": "2023-01-08T17:16:06.962Z"
   },
   {
    "duration": 34,
    "start_time": "2023-01-08T17:16:07.003Z"
   },
   {
    "duration": 60,
    "start_time": "2023-01-08T17:16:07.039Z"
   },
   {
    "duration": 38,
    "start_time": "2023-01-08T17:16:07.101Z"
   },
   {
    "duration": 173,
    "start_time": "2023-01-08T17:16:07.141Z"
   },
   {
    "duration": 6,
    "start_time": "2023-01-08T17:16:07.315Z"
   },
   {
    "duration": 8,
    "start_time": "2023-01-08T17:16:07.322Z"
   },
   {
    "duration": 13,
    "start_time": "2023-01-08T17:16:07.331Z"
   },
   {
    "duration": 8,
    "start_time": "2023-01-08T17:16:07.346Z"
   },
   {
    "duration": 9,
    "start_time": "2023-01-08T17:16:07.356Z"
   },
   {
    "duration": 10,
    "start_time": "2023-01-08T17:16:07.367Z"
   },
   {
    "duration": 28,
    "start_time": "2023-01-08T17:16:07.378Z"
   },
   {
    "duration": 76,
    "start_time": "2023-01-08T17:16:07.407Z"
   },
   {
    "duration": 5,
    "start_time": "2023-01-08T17:16:07.485Z"
   },
   {
    "duration": 2392,
    "start_time": "2023-01-08T17:16:07.491Z"
   },
   {
    "duration": 2208,
    "start_time": "2023-01-08T17:16:09.885Z"
   },
   {
    "duration": 2321,
    "start_time": "2023-01-08T17:16:12.095Z"
   },
   {
    "duration": 549,
    "start_time": "2023-01-08T17:16:14.418Z"
   },
   {
    "duration": 3,
    "start_time": "2023-01-08T17:16:14.968Z"
   },
   {
    "duration": 10,
    "start_time": "2023-01-08T17:16:14.972Z"
   },
   {
    "duration": 10,
    "start_time": "2023-01-08T17:16:14.984Z"
   },
   {
    "duration": 1830,
    "start_time": "2023-01-08T17:16:14.996Z"
   },
   {
    "duration": 9,
    "start_time": "2023-01-08T17:16:16.829Z"
   },
   {
    "duration": 6,
    "start_time": "2023-01-08T17:16:16.839Z"
   },
   {
    "duration": 9,
    "start_time": "2023-01-08T17:16:16.847Z"
   },
   {
    "duration": 1522,
    "start_time": "2023-01-09T11:32:22.034Z"
   },
   {
    "duration": 1327,
    "start_time": "2023-01-09T11:32:33.945Z"
   },
   {
    "duration": 2,
    "start_time": "2023-01-09T11:32:35.274Z"
   },
   {
    "duration": 1332,
    "start_time": "2023-01-09T11:32:35.278Z"
   },
   {
    "duration": 57,
    "start_time": "2023-01-09T11:32:36.612Z"
   },
   {
    "duration": 14,
    "start_time": "2023-01-09T11:32:36.671Z"
   },
   {
    "duration": 50,
    "start_time": "2023-01-09T11:32:36.687Z"
   },
   {
    "duration": 18,
    "start_time": "2023-01-09T11:32:36.738Z"
   },
   {
    "duration": 52,
    "start_time": "2023-01-09T11:32:36.758Z"
   },
   {
    "duration": 18,
    "start_time": "2023-01-09T11:32:36.812Z"
   },
   {
    "duration": 154,
    "start_time": "2023-01-09T11:32:36.832Z"
   },
   {
    "duration": 5,
    "start_time": "2023-01-09T11:32:36.987Z"
   },
   {
    "duration": 6,
    "start_time": "2023-01-09T11:32:36.994Z"
   },
   {
    "duration": 9,
    "start_time": "2023-01-09T11:32:37.002Z"
   },
   {
    "duration": 7,
    "start_time": "2023-01-09T11:32:37.013Z"
   },
   {
    "duration": 10,
    "start_time": "2023-01-09T11:32:37.022Z"
   },
   {
    "duration": 11,
    "start_time": "2023-01-09T11:32:37.034Z"
   },
   {
    "duration": 29,
    "start_time": "2023-01-09T11:32:37.046Z"
   },
   {
    "duration": 70,
    "start_time": "2023-01-09T11:32:37.077Z"
   },
   {
    "duration": 4,
    "start_time": "2023-01-09T11:32:37.149Z"
   },
   {
    "duration": 2013,
    "start_time": "2023-01-09T11:32:37.154Z"
   },
   {
    "duration": 2047,
    "start_time": "2023-01-09T11:32:39.169Z"
   },
   {
    "duration": 2086,
    "start_time": "2023-01-09T11:32:41.218Z"
   },
   {
    "duration": 491,
    "start_time": "2023-01-09T11:32:43.306Z"
   },
   {
    "duration": 3,
    "start_time": "2023-01-09T11:32:43.798Z"
   },
   {
    "duration": 10,
    "start_time": "2023-01-09T11:32:43.802Z"
   },
   {
    "duration": 27,
    "start_time": "2023-01-09T11:32:43.814Z"
   },
   {
    "duration": 1701,
    "start_time": "2023-01-09T11:32:43.843Z"
   },
   {
    "duration": 3,
    "start_time": "2023-01-09T11:32:45.547Z"
   },
   {
    "duration": 7,
    "start_time": "2023-01-09T11:32:45.551Z"
   },
   {
    "duration": 10,
    "start_time": "2023-01-09T11:32:45.559Z"
   },
   {
    "duration": 9,
    "start_time": "2023-01-09T11:32:45.570Z"
   },
   {
    "duration": 966,
    "start_time": "2023-01-09T11:43:44.108Z"
   },
   {
    "duration": 12527,
    "start_time": "2023-01-09T11:44:17.710Z"
   },
   {
    "duration": 33,
    "start_time": "2023-01-09T11:44:35.849Z"
   },
   {
    "duration": 1327,
    "start_time": "2023-01-09T11:45:45.176Z"
   },
   {
    "duration": 3,
    "start_time": "2023-01-09T11:45:46.505Z"
   },
   {
    "duration": 594,
    "start_time": "2023-01-09T11:45:46.509Z"
   },
   {
    "duration": 57,
    "start_time": "2023-01-09T11:45:47.105Z"
   },
   {
    "duration": 14,
    "start_time": "2023-01-09T11:45:47.164Z"
   },
   {
    "duration": 52,
    "start_time": "2023-01-09T11:45:47.179Z"
   },
   {
    "duration": 11,
    "start_time": "2023-01-09T11:45:47.232Z"
   },
   {
    "duration": 67,
    "start_time": "2023-01-09T11:45:47.245Z"
   },
   {
    "duration": 16,
    "start_time": "2023-01-09T11:45:47.314Z"
   },
   {
    "duration": 149,
    "start_time": "2023-01-09T11:45:47.333Z"
   },
   {
    "duration": 5,
    "start_time": "2023-01-09T11:45:47.484Z"
   },
   {
    "duration": 7,
    "start_time": "2023-01-09T11:45:47.490Z"
   },
   {
    "duration": 5,
    "start_time": "2023-01-09T11:45:47.498Z"
   },
   {
    "duration": 6,
    "start_time": "2023-01-09T11:45:47.504Z"
   },
   {
    "duration": 9,
    "start_time": "2023-01-09T11:45:47.512Z"
   },
   {
    "duration": 8,
    "start_time": "2023-01-09T11:45:47.522Z"
   },
   {
    "duration": 23,
    "start_time": "2023-01-09T11:45:47.531Z"
   },
   {
    "duration": 71,
    "start_time": "2023-01-09T11:45:47.556Z"
   },
   {
    "duration": 4,
    "start_time": "2023-01-09T11:45:47.628Z"
   },
   {
    "duration": 1953,
    "start_time": "2023-01-09T11:45:47.634Z"
   },
   {
    "duration": 1905,
    "start_time": "2023-01-09T11:45:49.588Z"
   },
   {
    "duration": 2008,
    "start_time": "2023-01-09T11:45:51.494Z"
   },
   {
    "duration": 451,
    "start_time": "2023-01-09T11:45:53.504Z"
   },
   {
    "duration": 3,
    "start_time": "2023-01-09T11:45:53.957Z"
   },
   {
    "duration": 17,
    "start_time": "2023-01-09T11:45:53.961Z"
   },
   {
    "duration": 10,
    "start_time": "2023-01-09T11:45:53.979Z"
   },
   {
    "duration": 1578,
    "start_time": "2023-01-09T11:45:53.991Z"
   },
   {
    "duration": 3,
    "start_time": "2023-01-09T11:45:55.572Z"
   },
   {
    "duration": 12,
    "start_time": "2023-01-09T11:45:55.576Z"
   },
   {
    "duration": 9,
    "start_time": "2023-01-09T11:45:55.589Z"
   },
   {
    "duration": 11,
    "start_time": "2023-01-09T11:45:55.599Z"
   },
   {
    "duration": 14,
    "start_time": "2023-01-09T11:45:55.611Z"
   },
   {
    "duration": 4,
    "start_time": "2023-01-09T11:49:17.811Z"
   },
   {
    "duration": 11,
    "start_time": "2023-01-09T11:49:23.103Z"
   },
   {
    "duration": 48,
    "start_time": "2023-01-09T11:49:43.868Z"
   },
   {
    "duration": 5,
    "start_time": "2023-01-09T11:50:03.768Z"
   },
   {
    "duration": 5,
    "start_time": "2023-01-09T11:50:18.304Z"
   },
   {
    "duration": 13,
    "start_time": "2023-01-09T11:50:20.836Z"
   },
   {
    "duration": 64,
    "start_time": "2023-01-09T11:50:37.965Z"
   },
   {
    "duration": 1291,
    "start_time": "2023-01-09T11:50:54.847Z"
   },
   {
    "duration": 2,
    "start_time": "2023-01-09T11:50:56.140Z"
   },
   {
    "duration": 604,
    "start_time": "2023-01-09T11:50:56.143Z"
   },
   {
    "duration": 64,
    "start_time": "2023-01-09T11:50:56.749Z"
   },
   {
    "duration": 15,
    "start_time": "2023-01-09T11:50:56.814Z"
   },
   {
    "duration": 34,
    "start_time": "2023-01-09T11:50:56.831Z"
   },
   {
    "duration": 12,
    "start_time": "2023-01-09T11:50:56.866Z"
   },
   {
    "duration": 54,
    "start_time": "2023-01-09T11:50:56.898Z"
   },
   {
    "duration": 22,
    "start_time": "2023-01-09T11:50:56.954Z"
   },
   {
    "duration": 152,
    "start_time": "2023-01-09T11:50:56.978Z"
   },
   {
    "duration": 4,
    "start_time": "2023-01-09T11:50:57.132Z"
   },
   {
    "duration": 5,
    "start_time": "2023-01-09T11:50:57.137Z"
   },
   {
    "duration": 8,
    "start_time": "2023-01-09T11:50:57.143Z"
   },
   {
    "duration": 6,
    "start_time": "2023-01-09T11:50:57.153Z"
   },
   {
    "duration": 12,
    "start_time": "2023-01-09T11:50:57.161Z"
   },
   {
    "duration": 10,
    "start_time": "2023-01-09T11:50:57.174Z"
   },
   {
    "duration": 26,
    "start_time": "2023-01-09T11:50:57.185Z"
   },
   {
    "duration": 55,
    "start_time": "2023-01-09T11:50:57.213Z"
   },
   {
    "duration": 4,
    "start_time": "2023-01-09T11:50:57.270Z"
   },
   {
    "duration": 2746,
    "start_time": "2023-01-09T11:50:57.275Z"
   },
   {
    "duration": 1967,
    "start_time": "2023-01-09T11:51:00.024Z"
   },
   {
    "duration": 1987,
    "start_time": "2023-01-09T11:51:01.992Z"
   },
   {
    "duration": 469,
    "start_time": "2023-01-09T11:51:03.981Z"
   },
   {
    "duration": 3,
    "start_time": "2023-01-09T11:51:04.451Z"
   },
   {
    "duration": 14,
    "start_time": "2023-01-09T11:51:04.455Z"
   },
   {
    "duration": 29,
    "start_time": "2023-01-09T11:51:04.470Z"
   },
   {
    "duration": 1597,
    "start_time": "2023-01-09T11:51:04.501Z"
   },
   {
    "duration": 3,
    "start_time": "2023-01-09T11:51:06.101Z"
   },
   {
    "duration": 17,
    "start_time": "2023-01-09T11:51:06.106Z"
   },
   {
    "duration": 5,
    "start_time": "2023-01-09T11:51:06.124Z"
   },
   {
    "duration": 41,
    "start_time": "2023-01-09T11:51:06.131Z"
   },
   {
    "duration": 2,
    "start_time": "2023-01-09T11:51:06.174Z"
   },
   {
    "duration": 6,
    "start_time": "2023-01-09T11:51:06.178Z"
   },
   {
    "duration": 14,
    "start_time": "2023-01-09T11:51:06.185Z"
   },
   {
    "duration": 11,
    "start_time": "2023-01-09T11:51:13.979Z"
   },
   {
    "duration": 116,
    "start_time": "2023-01-09T11:55:22.473Z"
   },
   {
    "duration": 4,
    "start_time": "2023-01-09T11:56:11.023Z"
   },
   {
    "duration": 6416,
    "start_time": "2023-01-09T11:56:16.668Z"
   },
   {
    "duration": 9,
    "start_time": "2023-01-09T11:57:20.857Z"
   },
   {
    "duration": 38,
    "start_time": "2023-01-09T11:57:25.111Z"
   },
   {
    "duration": 1336,
    "start_time": "2023-01-09T11:57:52.872Z"
   },
   {
    "duration": 3,
    "start_time": "2023-01-09T11:57:54.210Z"
   },
   {
    "duration": 671,
    "start_time": "2023-01-09T11:57:54.214Z"
   },
   {
    "duration": 62,
    "start_time": "2023-01-09T11:57:54.887Z"
   },
   {
    "duration": 15,
    "start_time": "2023-01-09T11:57:54.950Z"
   },
   {
    "duration": 48,
    "start_time": "2023-01-09T11:57:54.966Z"
   },
   {
    "duration": 11,
    "start_time": "2023-01-09T11:57:55.016Z"
   },
   {
    "duration": 71,
    "start_time": "2023-01-09T11:57:55.029Z"
   },
   {
    "duration": 16,
    "start_time": "2023-01-09T11:57:55.101Z"
   },
   {
    "duration": 155,
    "start_time": "2023-01-09T11:57:55.119Z"
   },
   {
    "duration": 5,
    "start_time": "2023-01-09T11:57:55.275Z"
   },
   {
    "duration": 7,
    "start_time": "2023-01-09T11:57:55.281Z"
   },
   {
    "duration": 7,
    "start_time": "2023-01-09T11:57:55.289Z"
   },
   {
    "duration": 8,
    "start_time": "2023-01-09T11:57:55.297Z"
   },
   {
    "duration": 14,
    "start_time": "2023-01-09T11:57:55.306Z"
   },
   {
    "duration": 15,
    "start_time": "2023-01-09T11:57:55.321Z"
   },
   {
    "duration": 8,
    "start_time": "2023-01-09T11:57:55.337Z"
   },
   {
    "duration": 27,
    "start_time": "2023-01-09T11:57:55.346Z"
   },
   {
    "duration": 57,
    "start_time": "2023-01-09T11:57:55.375Z"
   },
   {
    "duration": 4,
    "start_time": "2023-01-09T11:57:55.433Z"
   },
   {
    "duration": 1981,
    "start_time": "2023-01-09T11:57:55.439Z"
   },
   {
    "duration": 1940,
    "start_time": "2023-01-09T11:57:57.422Z"
   },
   {
    "duration": 2116,
    "start_time": "2023-01-09T11:57:59.363Z"
   },
   {
    "duration": 476,
    "start_time": "2023-01-09T11:58:01.481Z"
   },
   {
    "duration": 3,
    "start_time": "2023-01-09T11:58:01.959Z"
   },
   {
    "duration": 12,
    "start_time": "2023-01-09T11:58:01.963Z"
   },
   {
    "duration": 9,
    "start_time": "2023-01-09T11:58:01.977Z"
   },
   {
    "duration": 1484,
    "start_time": "2023-01-09T11:58:01.999Z"
   },
   {
    "duration": 3,
    "start_time": "2023-01-09T11:58:03.485Z"
   },
   {
    "duration": 18,
    "start_time": "2023-01-09T11:58:03.497Z"
   },
   {
    "duration": 39,
    "start_time": "2023-01-09T11:58:03.517Z"
   },
   {
    "duration": 79,
    "start_time": "2023-01-09T11:58:03.558Z"
   },
   {
    "duration": 17,
    "start_time": "2023-01-09T11:58:03.638Z"
   },
   {
    "duration": 31,
    "start_time": "2023-01-09T11:58:03.657Z"
   },
   {
    "duration": 51,
    "start_time": "2023-01-09T11:58:03.689Z"
   },
   {
    "duration": 3,
    "start_time": "2023-01-09T11:59:59.174Z"
   },
   {
    "duration": 3,
    "start_time": "2023-01-09T12:00:00.784Z"
   },
   {
    "duration": 5,
    "start_time": "2023-01-09T12:00:10.695Z"
   },
   {
    "duration": 1345,
    "start_time": "2023-01-09T12:00:27.636Z"
   },
   {
    "duration": 2,
    "start_time": "2023-01-09T12:00:28.983Z"
   },
   {
    "duration": 658,
    "start_time": "2023-01-09T12:00:28.987Z"
   },
   {
    "duration": 66,
    "start_time": "2023-01-09T12:00:29.647Z"
   },
   {
    "duration": 15,
    "start_time": "2023-01-09T12:00:29.715Z"
   },
   {
    "duration": 37,
    "start_time": "2023-01-09T12:00:29.731Z"
   },
   {
    "duration": 32,
    "start_time": "2023-01-09T12:00:29.769Z"
   },
   {
    "duration": 56,
    "start_time": "2023-01-09T12:00:29.803Z"
   },
   {
    "duration": 35,
    "start_time": "2023-01-09T12:00:29.861Z"
   },
   {
    "duration": 219,
    "start_time": "2023-01-09T12:00:29.899Z"
   },
   {
    "duration": 6,
    "start_time": "2023-01-09T12:00:30.121Z"
   },
   {
    "duration": 21,
    "start_time": "2023-01-09T12:00:30.128Z"
   },
   {
    "duration": 25,
    "start_time": "2023-01-09T12:00:30.151Z"
   },
   {
    "duration": 46,
    "start_time": "2023-01-09T12:00:30.177Z"
   },
   {
    "duration": 24,
    "start_time": "2023-01-09T12:00:30.224Z"
   },
   {
    "duration": 20,
    "start_time": "2023-01-09T12:00:30.250Z"
   },
   {
    "duration": 32,
    "start_time": "2023-01-09T12:00:30.271Z"
   },
   {
    "duration": 70,
    "start_time": "2023-01-09T12:00:30.305Z"
   },
   {
    "duration": 79,
    "start_time": "2023-01-09T12:00:30.377Z"
   },
   {
    "duration": 4,
    "start_time": "2023-01-09T12:00:30.458Z"
   },
   {
    "duration": 2327,
    "start_time": "2023-01-09T12:00:30.463Z"
   },
   {
    "duration": 2342,
    "start_time": "2023-01-09T12:00:32.792Z"
   },
   {
    "duration": 1828,
    "start_time": "2023-01-09T12:00:35.136Z"
   },
   {
    "duration": 491,
    "start_time": "2023-01-09T12:00:36.966Z"
   },
   {
    "duration": 3,
    "start_time": "2023-01-09T12:00:37.459Z"
   },
   {
    "duration": 7,
    "start_time": "2023-01-09T12:00:37.464Z"
   },
   {
    "duration": 24,
    "start_time": "2023-01-09T12:00:37.473Z"
   },
   {
    "duration": 1727,
    "start_time": "2023-01-09T12:00:37.501Z"
   },
   {
    "duration": 4,
    "start_time": "2023-01-09T12:00:39.229Z"
   },
   {
    "duration": 17,
    "start_time": "2023-01-09T12:00:39.234Z"
   },
   {
    "duration": 18,
    "start_time": "2023-01-09T12:00:39.253Z"
   },
   {
    "duration": 47,
    "start_time": "2023-01-09T12:00:39.272Z"
   },
   {
    "duration": 3,
    "start_time": "2023-01-09T12:00:39.320Z"
   },
   {
    "duration": 17,
    "start_time": "2023-01-09T12:00:39.324Z"
   },
   {
    "duration": 11,
    "start_time": "2023-01-09T12:00:39.342Z"
   },
   {
    "duration": 25,
    "start_time": "2023-01-09T12:00:39.355Z"
   },
   {
    "duration": 0,
    "start_time": "2023-01-09T12:00:39.383Z"
   },
   {
    "duration": 1353,
    "start_time": "2023-01-09T12:01:45.624Z"
   },
   {
    "duration": 3,
    "start_time": "2023-01-09T12:01:46.979Z"
   },
   {
    "duration": 646,
    "start_time": "2023-01-09T12:01:46.983Z"
   },
   {
    "duration": 67,
    "start_time": "2023-01-09T12:01:47.631Z"
   },
   {
    "duration": 16,
    "start_time": "2023-01-09T12:01:47.700Z"
   },
   {
    "duration": 34,
    "start_time": "2023-01-09T12:01:47.717Z"
   },
   {
    "duration": 14,
    "start_time": "2023-01-09T12:01:47.753Z"
   },
   {
    "duration": 74,
    "start_time": "2023-01-09T12:01:47.768Z"
   },
   {
    "duration": 15,
    "start_time": "2023-01-09T12:01:47.844Z"
   },
   {
    "duration": 176,
    "start_time": "2023-01-09T12:01:47.862Z"
   },
   {
    "duration": 6,
    "start_time": "2023-01-09T12:01:48.039Z"
   },
   {
    "duration": 9,
    "start_time": "2023-01-09T12:01:48.046Z"
   },
   {
    "duration": 23,
    "start_time": "2023-01-09T12:01:48.056Z"
   },
   {
    "duration": 11,
    "start_time": "2023-01-09T12:01:48.080Z"
   },
   {
    "duration": 20,
    "start_time": "2023-01-09T12:01:48.093Z"
   },
   {
    "duration": 7,
    "start_time": "2023-01-09T12:01:48.115Z"
   },
   {
    "duration": 30,
    "start_time": "2023-01-09T12:01:48.123Z"
   },
   {
    "duration": 59,
    "start_time": "2023-01-09T12:01:48.155Z"
   },
   {
    "duration": 5,
    "start_time": "2023-01-09T12:01:48.215Z"
   },
   {
    "duration": 2199,
    "start_time": "2023-01-09T12:01:48.221Z"
   },
   {
    "duration": 2179,
    "start_time": "2023-01-09T12:01:50.421Z"
   },
   {
    "duration": 2236,
    "start_time": "2023-01-09T12:01:52.601Z"
   },
   {
    "duration": 528,
    "start_time": "2023-01-09T12:01:54.838Z"
   },
   {
    "duration": 3,
    "start_time": "2023-01-09T12:01:55.368Z"
   },
   {
    "duration": 18,
    "start_time": "2023-01-09T12:01:55.373Z"
   },
   {
    "duration": 17,
    "start_time": "2023-01-09T12:01:55.392Z"
   },
   {
    "duration": 1621,
    "start_time": "2023-01-09T12:01:55.411Z"
   },
   {
    "duration": 4,
    "start_time": "2023-01-09T12:01:57.035Z"
   },
   {
    "duration": 16,
    "start_time": "2023-01-09T12:01:57.040Z"
   },
   {
    "duration": 11,
    "start_time": "2023-01-09T12:01:57.057Z"
   },
   {
    "duration": 44,
    "start_time": "2023-01-09T12:01:57.069Z"
   },
   {
    "duration": 2,
    "start_time": "2023-01-09T12:01:57.115Z"
   },
   {
    "duration": 6,
    "start_time": "2023-01-09T12:01:57.119Z"
   },
   {
    "duration": 9,
    "start_time": "2023-01-09T12:01:57.126Z"
   },
   {
    "duration": 128,
    "start_time": "2023-01-09T12:01:57.137Z"
   },
   {
    "duration": 0,
    "start_time": "2023-01-09T12:01:57.267Z"
   },
   {
    "duration": 6,
    "start_time": "2023-01-09T12:02:15.066Z"
   },
   {
    "duration": 9,
    "start_time": "2023-01-09T12:02:53.687Z"
   },
   {
    "duration": 4,
    "start_time": "2023-01-09T12:08:21.925Z"
   },
   {
    "duration": 3,
    "start_time": "2023-01-09T12:09:34.552Z"
   },
   {
    "duration": 95,
    "start_time": "2023-01-09T12:14:41.201Z"
   },
   {
    "duration": 141,
    "start_time": "2023-01-09T12:15:01.395Z"
   },
   {
    "duration": 152,
    "start_time": "2023-01-09T12:17:38.088Z"
   },
   {
    "duration": 11,
    "start_time": "2023-01-09T12:17:59.091Z"
   },
   {
    "duration": 167,
    "start_time": "2023-01-09T12:18:04.440Z"
   },
   {
    "duration": 4,
    "start_time": "2023-01-09T12:18:46.874Z"
   },
   {
    "duration": 25904,
    "start_time": "2023-01-09T12:18:57.589Z"
   },
   {
    "duration": 53573,
    "start_time": "2023-01-09T12:19:37.132Z"
   },
   {
    "duration": 13,
    "start_time": "2023-01-09T12:21:20.753Z"
   },
   {
    "duration": 9,
    "start_time": "2023-01-09T12:21:32.716Z"
   },
   {
    "duration": 5,
    "start_time": "2023-01-09T12:21:50.919Z"
   },
   {
    "duration": 52998,
    "start_time": "2023-01-09T12:21:58.218Z"
   },
   {
    "duration": 162,
    "start_time": "2023-01-09T12:28:54.390Z"
   },
   {
    "duration": 177,
    "start_time": "2023-01-09T12:30:09.433Z"
   },
   {
    "duration": 120,
    "start_time": "2023-01-09T12:30:14.118Z"
   },
   {
    "duration": 1388,
    "start_time": "2023-01-09T12:30:44.112Z"
   },
   {
    "duration": 3,
    "start_time": "2023-01-09T12:30:45.502Z"
   },
   {
    "duration": 688,
    "start_time": "2023-01-09T12:30:45.506Z"
   },
   {
    "duration": 73,
    "start_time": "2023-01-09T12:30:46.198Z"
   },
   {
    "duration": 29,
    "start_time": "2023-01-09T12:30:46.273Z"
   },
   {
    "duration": 40,
    "start_time": "2023-01-09T12:30:46.303Z"
   },
   {
    "duration": 15,
    "start_time": "2023-01-09T12:30:46.344Z"
   },
   {
    "duration": 77,
    "start_time": "2023-01-09T12:30:46.361Z"
   },
   {
    "duration": 16,
    "start_time": "2023-01-09T12:30:46.440Z"
   },
   {
    "duration": 176,
    "start_time": "2023-01-09T12:30:46.458Z"
   },
   {
    "duration": 5,
    "start_time": "2023-01-09T12:30:46.635Z"
   },
   {
    "duration": 13,
    "start_time": "2023-01-09T12:30:46.641Z"
   },
   {
    "duration": 11,
    "start_time": "2023-01-09T12:30:46.655Z"
   },
   {
    "duration": 11,
    "start_time": "2023-01-09T12:30:46.667Z"
   },
   {
    "duration": 8,
    "start_time": "2023-01-09T12:30:46.680Z"
   },
   {
    "duration": 7,
    "start_time": "2023-01-09T12:30:46.689Z"
   },
   {
    "duration": 26,
    "start_time": "2023-01-09T12:30:46.697Z"
   },
   {
    "duration": 60,
    "start_time": "2023-01-09T12:30:46.725Z"
   },
   {
    "duration": 12,
    "start_time": "2023-01-09T12:30:46.786Z"
   },
   {
    "duration": 2085,
    "start_time": "2023-01-09T12:30:46.800Z"
   },
   {
    "duration": 2054,
    "start_time": "2023-01-09T12:30:48.886Z"
   },
   {
    "duration": 2052,
    "start_time": "2023-01-09T12:30:50.941Z"
   },
   {
    "duration": 490,
    "start_time": "2023-01-09T12:30:52.994Z"
   },
   {
    "duration": 2,
    "start_time": "2023-01-09T12:30:53.486Z"
   },
   {
    "duration": 23,
    "start_time": "2023-01-09T12:30:53.490Z"
   },
   {
    "duration": 19,
    "start_time": "2023-01-09T12:30:53.515Z"
   },
   {
    "duration": 1647,
    "start_time": "2023-01-09T12:30:53.535Z"
   },
   {
    "duration": 3,
    "start_time": "2023-01-09T12:30:55.185Z"
   },
   {
    "duration": 3,
    "start_time": "2023-01-09T12:30:55.197Z"
   },
   {
    "duration": 11,
    "start_time": "2023-01-09T12:30:55.201Z"
   },
   {
    "duration": 36,
    "start_time": "2023-01-09T12:30:55.214Z"
   },
   {
    "duration": 19,
    "start_time": "2023-01-09T12:30:55.252Z"
   },
   {
    "duration": 19,
    "start_time": "2023-01-09T12:30:55.272Z"
   },
   {
    "duration": 10,
    "start_time": "2023-01-09T12:30:55.293Z"
   },
   {
    "duration": 14,
    "start_time": "2023-01-09T12:30:55.304Z"
   },
   {
    "duration": 237,
    "start_time": "2023-01-09T12:30:55.320Z"
   },
   {
    "duration": 2,
    "start_time": "2023-01-09T12:30:55.559Z"
   },
   {
    "duration": 95,
    "start_time": "2023-01-09T12:31:06.416Z"
   },
   {
    "duration": 152,
    "start_time": "2023-01-09T12:34:47.256Z"
   },
   {
    "duration": 9289,
    "start_time": "2023-01-09T12:34:54.875Z"
   },
   {
    "duration": 34524,
    "start_time": "2023-01-09T12:35:28.852Z"
   },
   {
    "duration": 2,
    "start_time": "2023-01-09T12:45:37.090Z"
   },
   {
    "duration": 4,
    "start_time": "2023-01-09T12:45:58.174Z"
   },
   {
    "duration": 40,
    "start_time": "2023-01-09T12:46:51.861Z"
   },
   {
    "duration": 29,
    "start_time": "2023-01-09T12:47:13.110Z"
   },
   {
    "duration": 29,
    "start_time": "2023-01-09T12:47:35.846Z"
   },
   {
    "duration": 9203,
    "start_time": "2023-01-09T12:47:50.267Z"
   },
   {
    "duration": 216490,
    "start_time": "2023-01-09T12:48:05.232Z"
   },
   {
    "duration": 4,
    "start_time": "2023-01-09T12:52:35.519Z"
   },
   {
    "duration": 10,
    "start_time": "2023-01-09T12:56:28.947Z"
   },
   {
    "duration": 3,
    "start_time": "2023-01-09T12:56:48.738Z"
   },
   {
    "duration": 4,
    "start_time": "2023-01-09T12:57:05.722Z"
   },
   {
    "duration": 152,
    "start_time": "2023-01-09T13:05:34.024Z"
   },
   {
    "duration": 1310,
    "start_time": "2023-01-09T13:15:57.012Z"
   },
   {
    "duration": 3,
    "start_time": "2023-01-09T13:15:58.324Z"
   },
   {
    "duration": 656,
    "start_time": "2023-01-09T13:15:58.328Z"
   },
   {
    "duration": 61,
    "start_time": "2023-01-09T13:15:58.986Z"
   },
   {
    "duration": 15,
    "start_time": "2023-01-09T13:15:59.048Z"
   },
   {
    "duration": 48,
    "start_time": "2023-01-09T13:15:59.064Z"
   },
   {
    "duration": 10,
    "start_time": "2023-01-09T13:15:59.114Z"
   },
   {
    "duration": 50,
    "start_time": "2023-01-09T13:15:59.125Z"
   },
   {
    "duration": 32,
    "start_time": "2023-01-09T13:15:59.177Z"
   },
   {
    "duration": 171,
    "start_time": "2023-01-09T13:15:59.211Z"
   },
   {
    "duration": 4,
    "start_time": "2023-01-09T13:15:59.384Z"
   },
   {
    "duration": 6,
    "start_time": "2023-01-09T13:15:59.390Z"
   },
   {
    "duration": 6,
    "start_time": "2023-01-09T13:15:59.398Z"
   },
   {
    "duration": 22,
    "start_time": "2023-01-09T13:15:59.405Z"
   },
   {
    "duration": 9,
    "start_time": "2023-01-09T13:15:59.428Z"
   },
   {
    "duration": 10,
    "start_time": "2023-01-09T13:15:59.438Z"
   },
   {
    "duration": 24,
    "start_time": "2023-01-09T13:15:59.449Z"
   },
   {
    "duration": 65,
    "start_time": "2023-01-09T13:15:59.474Z"
   },
   {
    "duration": 4,
    "start_time": "2023-01-09T13:15:59.541Z"
   },
   {
    "duration": 2025,
    "start_time": "2023-01-09T13:15:59.547Z"
   },
   {
    "duration": 2797,
    "start_time": "2023-01-09T13:16:01.573Z"
   },
   {
    "duration": 2139,
    "start_time": "2023-01-09T13:16:04.372Z"
   },
   {
    "duration": 459,
    "start_time": "2023-01-09T13:16:06.513Z"
   },
   {
    "duration": 2,
    "start_time": "2023-01-09T13:16:06.974Z"
   },
   {
    "duration": 19,
    "start_time": "2023-01-09T13:16:06.978Z"
   },
   {
    "duration": 9,
    "start_time": "2023-01-09T13:16:06.998Z"
   },
   {
    "duration": 1524,
    "start_time": "2023-01-09T13:16:07.009Z"
   },
   {
    "duration": 4,
    "start_time": "2023-01-09T13:16:08.536Z"
   },
   {
    "duration": 27,
    "start_time": "2023-01-09T13:16:08.542Z"
   },
   {
    "duration": 23,
    "start_time": "2023-01-09T13:16:08.570Z"
   },
   {
    "duration": 36,
    "start_time": "2023-01-09T13:16:08.595Z"
   },
   {
    "duration": 7,
    "start_time": "2023-01-09T13:16:08.632Z"
   },
   {
    "duration": 7,
    "start_time": "2023-01-09T13:16:08.640Z"
   },
   {
    "duration": 15,
    "start_time": "2023-01-09T13:16:08.649Z"
   },
   {
    "duration": 17,
    "start_time": "2023-01-09T13:16:08.665Z"
   },
   {
    "duration": 8,
    "start_time": "2023-01-09T13:16:08.683Z"
   },
   {
    "duration": 262,
    "start_time": "2023-01-09T13:16:08.693Z"
   },
   {
    "duration": 35540,
    "start_time": "2023-01-09T13:16:22.026Z"
   },
   {
    "duration": 116133,
    "start_time": "2023-01-09T13:17:03.559Z"
   },
   {
    "duration": 1176933,
    "start_time": "2023-01-09T13:19:05.893Z"
   },
   {
    "duration": 3126,
    "start_time": "2023-01-09T13:39:07.066Z"
   },
   {
    "duration": 2972,
    "start_time": "2023-01-09T13:39:23.126Z"
   },
   {
    "duration": 3494923,
    "start_time": "2023-01-09T13:39:36.361Z"
   },
   {
    "duration": 25670,
    "start_time": "2023-01-09T14:56:10.850Z"
   },
   {
    "duration": 1296,
    "start_time": "2023-01-09T15:11:11.402Z"
   },
   {
    "duration": 3,
    "start_time": "2023-01-09T15:11:12.699Z"
   },
   {
    "duration": 681,
    "start_time": "2023-01-09T15:11:12.703Z"
   },
   {
    "duration": 59,
    "start_time": "2023-01-09T15:11:13.386Z"
   },
   {
    "duration": 15,
    "start_time": "2023-01-09T15:11:13.446Z"
   },
   {
    "duration": 45,
    "start_time": "2023-01-09T15:11:13.462Z"
   },
   {
    "duration": 10,
    "start_time": "2023-01-09T15:11:13.509Z"
   },
   {
    "duration": 59,
    "start_time": "2023-01-09T15:11:13.521Z"
   },
   {
    "duration": 16,
    "start_time": "2023-01-09T15:11:13.597Z"
   },
   {
    "duration": 155,
    "start_time": "2023-01-09T15:11:13.615Z"
   },
   {
    "duration": 5,
    "start_time": "2023-01-09T15:11:13.772Z"
   },
   {
    "duration": 10,
    "start_time": "2023-01-09T15:11:13.778Z"
   },
   {
    "duration": 13,
    "start_time": "2023-01-09T15:11:13.790Z"
   },
   {
    "duration": 11,
    "start_time": "2023-01-09T15:11:13.804Z"
   },
   {
    "duration": 18,
    "start_time": "2023-01-09T15:11:13.816Z"
   },
   {
    "duration": 9,
    "start_time": "2023-01-09T15:11:13.835Z"
   },
   {
    "duration": 28,
    "start_time": "2023-01-09T15:11:13.845Z"
   },
   {
    "duration": 58,
    "start_time": "2023-01-09T15:11:13.874Z"
   },
   {
    "duration": 4,
    "start_time": "2023-01-09T15:11:13.934Z"
   },
   {
    "duration": 2197,
    "start_time": "2023-01-09T15:11:13.940Z"
   },
   {
    "duration": 2023,
    "start_time": "2023-01-09T15:11:16.138Z"
   },
   {
    "duration": 2169,
    "start_time": "2023-01-09T15:11:18.162Z"
   },
   {
    "duration": 511,
    "start_time": "2023-01-09T15:11:20.332Z"
   },
   {
    "duration": 2,
    "start_time": "2023-01-09T15:11:20.845Z"
   },
   {
    "duration": 9,
    "start_time": "2023-01-09T15:11:20.848Z"
   },
   {
    "duration": 11,
    "start_time": "2023-01-09T15:11:20.858Z"
   },
   {
    "duration": 1622,
    "start_time": "2023-01-09T15:11:20.871Z"
   },
   {
    "duration": 3,
    "start_time": "2023-01-09T15:11:22.499Z"
   },
   {
    "duration": 6,
    "start_time": "2023-01-09T15:11:22.503Z"
   },
   {
    "duration": 12,
    "start_time": "2023-01-09T15:11:22.510Z"
   },
   {
    "duration": 38,
    "start_time": "2023-01-09T15:11:22.523Z"
   },
   {
    "duration": 2,
    "start_time": "2023-01-09T15:11:22.563Z"
   },
   {
    "duration": 10,
    "start_time": "2023-01-09T15:11:22.566Z"
   },
   {
    "duration": 22,
    "start_time": "2023-01-09T15:11:22.578Z"
   },
   {
    "duration": 12,
    "start_time": "2023-01-09T15:11:22.601Z"
   },
   {
    "duration": 11,
    "start_time": "2023-01-09T15:11:22.615Z"
   },
   {
    "duration": 26036,
    "start_time": "2023-01-09T15:11:22.627Z"
   },
   {
    "duration": 106,
    "start_time": "2023-01-09T15:32:31.980Z"
   },
   {
    "duration": 9514,
    "start_time": "2023-01-09T15:32:46.209Z"
   },
   {
    "duration": 10089,
    "start_time": "2023-01-09T15:44:10.981Z"
   },
   {
    "duration": 9739,
    "start_time": "2023-01-09T15:44:37.666Z"
   },
   {
    "duration": 27933,
    "start_time": "2023-01-09T15:47:17.865Z"
   },
   {
    "duration": 3584266,
    "start_time": "2023-01-09T15:48:37.618Z"
   },
   {
    "duration": 4,
    "start_time": "2023-01-09T17:23:52.246Z"
   },
   {
    "duration": 12,
    "start_time": "2023-01-09T17:33:01.598Z"
   },
   {
    "duration": 4,
    "start_time": "2023-01-09T17:34:16.611Z"
   },
   {
    "duration": 9,
    "start_time": "2023-01-09T17:34:28.009Z"
   },
   {
    "duration": 3543,
    "start_time": "2023-01-09T17:35:03.219Z"
   },
   {
    "duration": 4,
    "start_time": "2023-01-09T17:36:21.667Z"
   },
   {
    "duration": 3554,
    "start_time": "2023-01-09T17:36:26.129Z"
   },
   {
    "duration": 3599,
    "start_time": "2023-01-09T17:37:59.267Z"
   },
   {
    "duration": 3645,
    "start_time": "2023-01-09T17:42:15.151Z"
   },
   {
    "duration": 3626,
    "start_time": "2023-01-09T17:42:38.841Z"
   },
   {
    "duration": 4,
    "start_time": "2023-01-09T17:43:03.137Z"
   },
   {
    "duration": 3575,
    "start_time": "2023-01-09T17:43:05.394Z"
   },
   {
    "duration": 8,
    "start_time": "2023-01-09T17:49:00.257Z"
   },
   {
    "duration": 1375,
    "start_time": "2023-01-09T17:49:35.561Z"
   },
   {
    "duration": 2,
    "start_time": "2023-01-09T17:49:36.938Z"
   },
   {
    "duration": 686,
    "start_time": "2023-01-09T17:49:36.943Z"
   },
   {
    "duration": 57,
    "start_time": "2023-01-09T17:49:37.631Z"
   },
   {
    "duration": 16,
    "start_time": "2023-01-09T17:49:37.697Z"
   },
   {
    "duration": 34,
    "start_time": "2023-01-09T17:49:37.714Z"
   },
   {
    "duration": 11,
    "start_time": "2023-01-09T17:49:37.750Z"
   },
   {
    "duration": 77,
    "start_time": "2023-01-09T17:49:37.762Z"
   },
   {
    "duration": 16,
    "start_time": "2023-01-09T17:49:37.841Z"
   },
   {
    "duration": 185,
    "start_time": "2023-01-09T17:49:37.861Z"
   },
   {
    "duration": 4,
    "start_time": "2023-01-09T17:49:38.048Z"
   },
   {
    "duration": 6,
    "start_time": "2023-01-09T17:49:38.054Z"
   },
   {
    "duration": 11,
    "start_time": "2023-01-09T17:49:38.061Z"
   },
   {
    "duration": 13,
    "start_time": "2023-01-09T17:49:38.074Z"
   },
   {
    "duration": 8,
    "start_time": "2023-01-09T17:49:38.088Z"
   },
   {
    "duration": 13,
    "start_time": "2023-01-09T17:49:38.098Z"
   },
   {
    "duration": 32,
    "start_time": "2023-01-09T17:49:38.112Z"
   },
   {
    "duration": 60,
    "start_time": "2023-01-09T17:49:38.146Z"
   },
   {
    "duration": 5,
    "start_time": "2023-01-09T17:49:38.208Z"
   },
   {
    "duration": 2088,
    "start_time": "2023-01-09T17:49:38.215Z"
   },
   {
    "duration": 2106,
    "start_time": "2023-01-09T17:49:40.305Z"
   },
   {
    "duration": 2146,
    "start_time": "2023-01-09T17:49:42.413Z"
   },
   {
    "duration": 582,
    "start_time": "2023-01-09T17:49:44.561Z"
   },
   {
    "duration": 3,
    "start_time": "2023-01-09T17:49:45.144Z"
   },
   {
    "duration": 38,
    "start_time": "2023-01-09T17:49:45.149Z"
   },
   {
    "duration": 21,
    "start_time": "2023-01-09T17:49:45.189Z"
   },
   {
    "duration": 1649,
    "start_time": "2023-01-09T17:49:45.212Z"
   },
   {
    "duration": 4,
    "start_time": "2023-01-09T17:49:46.864Z"
   },
   {
    "duration": 12,
    "start_time": "2023-01-09T17:49:46.869Z"
   },
   {
    "duration": 17,
    "start_time": "2023-01-09T17:49:46.882Z"
   },
   {
    "duration": 42,
    "start_time": "2023-01-09T17:49:46.900Z"
   },
   {
    "duration": 11,
    "start_time": "2023-01-09T17:49:46.943Z"
   },
   {
    "duration": 12,
    "start_time": "2023-01-09T17:49:46.956Z"
   },
   {
    "duration": 10,
    "start_time": "2023-01-09T17:49:46.969Z"
   },
   {
    "duration": 23,
    "start_time": "2023-01-09T17:49:46.981Z"
   },
   {
    "duration": 21,
    "start_time": "2023-01-09T17:49:47.006Z"
   },
   {
    "duration": 6,
    "start_time": "2023-01-09T17:49:47.029Z"
   },
   {
    "duration": 3693,
    "start_time": "2023-01-09T17:49:47.036Z"
   },
   {
    "duration": 5,
    "start_time": "2023-01-09T17:50:21.568Z"
   },
   {
    "duration": 39009,
    "start_time": "2023-01-09T17:50:23.713Z"
   },
   {
    "duration": 9,
    "start_time": "2023-01-09T17:56:03.737Z"
   },
   {
    "duration": 4,
    "start_time": "2023-01-09T17:56:13.890Z"
   },
   {
    "duration": 4,
    "start_time": "2023-01-09T17:56:27.209Z"
   },
   {
    "duration": 3,
    "start_time": "2023-01-09T17:57:05.178Z"
   },
   {
    "duration": 3,
    "start_time": "2023-01-09T17:57:06.306Z"
   },
   {
    "duration": 4,
    "start_time": "2023-01-09T17:57:30.080Z"
   },
   {
    "duration": 3,
    "start_time": "2023-01-09T17:57:30.773Z"
   },
   {
    "duration": 508527,
    "start_time": "2023-01-09T17:57:35.147Z"
   },
   {
    "duration": 5,
    "start_time": "2023-01-09T18:06:53.081Z"
   },
   {
    "duration": 3462,
    "start_time": "2023-01-09T18:06:57.214Z"
   },
   {
    "duration": 3730,
    "start_time": "2023-01-09T18:08:05.338Z"
   },
   {
    "duration": 5,
    "start_time": "2023-01-09T18:08:33.357Z"
   },
   {
    "duration": 6,
    "start_time": "2023-01-09T18:08:34.600Z"
   },
   {
    "duration": 3514,
    "start_time": "2023-01-09T18:08:35.735Z"
   },
   {
    "duration": 5,
    "start_time": "2023-01-09T18:09:11.721Z"
   },
   {
    "duration": 5,
    "start_time": "2023-01-09T18:10:01.763Z"
   },
   {
    "duration": 5,
    "start_time": "2023-01-09T18:10:02.173Z"
   },
   {
    "duration": 3588,
    "start_time": "2023-01-09T18:10:02.870Z"
   },
   {
    "duration": 5,
    "start_time": "2023-01-09T18:11:07.583Z"
   },
   {
    "duration": 3518,
    "start_time": "2023-01-09T18:11:08.124Z"
   },
   {
    "duration": 5,
    "start_time": "2023-01-09T18:13:22.736Z"
   },
   {
    "duration": 3649,
    "start_time": "2023-01-09T18:13:22.742Z"
   },
   {
    "duration": 5,
    "start_time": "2023-01-09T18:16:53.548Z"
   },
   {
    "duration": 3478,
    "start_time": "2023-01-09T18:16:55.782Z"
   },
   {
    "duration": 5,
    "start_time": "2023-01-09T18:17:10.816Z"
   },
   {
    "duration": 3711,
    "start_time": "2023-01-09T18:17:11.219Z"
   },
   {
    "duration": 14,
    "start_time": "2023-01-09T18:19:50.112Z"
   },
   {
    "duration": 4,
    "start_time": "2023-01-09T18:20:18.226Z"
   },
   {
    "duration": 4,
    "start_time": "2023-01-09T18:20:27.210Z"
   },
   {
    "duration": 36,
    "start_time": "2023-01-09T18:21:08.528Z"
   },
   {
    "duration": 9,
    "start_time": "2023-01-09T18:21:11.542Z"
   },
   {
    "duration": 4,
    "start_time": "2023-01-09T18:21:26.579Z"
   },
   {
    "duration": 6,
    "start_time": "2023-01-09T18:21:37.901Z"
   },
   {
    "duration": 3,
    "start_time": "2023-01-09T18:28:09.875Z"
   },
   {
    "duration": 5,
    "start_time": "2023-01-09T18:28:36.268Z"
   },
   {
    "duration": 3484,
    "start_time": "2023-01-09T18:28:37.871Z"
   },
   {
    "duration": 6,
    "start_time": "2023-01-09T18:29:23.608Z"
   },
   {
    "duration": 4,
    "start_time": "2023-01-09T18:29:40.426Z"
   },
   {
    "duration": 3634,
    "start_time": "2023-01-09T18:29:41.514Z"
   },
   {
    "duration": 5,
    "start_time": "2023-01-09T18:35:38.291Z"
   },
   {
    "duration": 3569,
    "start_time": "2023-01-09T18:35:42.532Z"
   },
   {
    "duration": 7,
    "start_time": "2023-01-09T18:39:17.133Z"
   },
   {
    "duration": 604806,
    "start_time": "2023-01-09T18:39:19.052Z"
   },
   {
    "duration": 1358,
    "start_time": "2023-01-09T18:49:49.876Z"
   },
   {
    "duration": 3,
    "start_time": "2023-01-09T18:49:51.235Z"
   },
   {
    "duration": 683,
    "start_time": "2023-01-09T18:49:51.239Z"
   },
   {
    "duration": 73,
    "start_time": "2023-01-09T18:49:51.924Z"
   },
   {
    "duration": 15,
    "start_time": "2023-01-09T18:49:51.999Z"
   },
   {
    "duration": 38,
    "start_time": "2023-01-09T18:49:52.016Z"
   },
   {
    "duration": 11,
    "start_time": "2023-01-09T18:49:52.056Z"
   },
   {
    "duration": 91,
    "start_time": "2023-01-09T18:49:52.068Z"
   },
   {
    "duration": 17,
    "start_time": "2023-01-09T18:49:52.161Z"
   },
   {
    "duration": 165,
    "start_time": "2023-01-09T18:49:52.181Z"
   },
   {
    "duration": 12,
    "start_time": "2023-01-09T18:49:52.348Z"
   },
   {
    "duration": 16,
    "start_time": "2023-01-09T18:49:52.362Z"
   },
   {
    "duration": 15,
    "start_time": "2023-01-09T18:49:52.379Z"
   },
   {
    "duration": 15,
    "start_time": "2023-01-09T18:49:52.396Z"
   },
   {
    "duration": 9,
    "start_time": "2023-01-09T18:49:52.413Z"
   },
   {
    "duration": 11,
    "start_time": "2023-01-09T18:49:52.424Z"
   },
   {
    "duration": 32,
    "start_time": "2023-01-09T18:49:52.436Z"
   },
   {
    "duration": 63,
    "start_time": "2023-01-09T18:49:52.469Z"
   },
   {
    "duration": 4,
    "start_time": "2023-01-09T18:49:52.533Z"
   },
   {
    "duration": 2007,
    "start_time": "2023-01-09T18:49:52.539Z"
   },
   {
    "duration": 2113,
    "start_time": "2023-01-09T18:49:54.548Z"
   },
   {
    "duration": 2077,
    "start_time": "2023-01-09T18:49:56.663Z"
   },
   {
    "duration": 494,
    "start_time": "2023-01-09T18:49:58.742Z"
   },
   {
    "duration": 3,
    "start_time": "2023-01-09T18:49:59.238Z"
   },
   {
    "duration": 21,
    "start_time": "2023-01-09T18:49:59.242Z"
   },
   {
    "duration": 10,
    "start_time": "2023-01-09T18:49:59.265Z"
   },
   {
    "duration": 1650,
    "start_time": "2023-01-09T18:49:59.277Z"
   },
   {
    "duration": 3,
    "start_time": "2023-01-09T18:50:00.931Z"
   },
   {
    "duration": 33,
    "start_time": "2023-01-09T18:50:00.936Z"
   },
   {
    "duration": 39,
    "start_time": "2023-01-09T18:50:00.970Z"
   },
   {
    "duration": 57,
    "start_time": "2023-01-09T18:50:01.011Z"
   },
   {
    "duration": 14,
    "start_time": "2023-01-09T18:50:01.070Z"
   },
   {
    "duration": 33,
    "start_time": "2023-01-09T18:50:01.086Z"
   },
   {
    "duration": 51,
    "start_time": "2023-01-09T18:50:01.121Z"
   },
   {
    "duration": 45,
    "start_time": "2023-01-09T18:50:01.174Z"
   },
   {
    "duration": 127,
    "start_time": "2023-01-09T18:50:01.221Z"
   },
   {
    "duration": 0,
    "start_time": "2023-01-09T18:50:01.350Z"
   },
   {
    "duration": 0,
    "start_time": "2023-01-09T18:50:01.351Z"
   },
   {
    "duration": 1470,
    "start_time": "2023-01-09T18:50:39.199Z"
   },
   {
    "duration": 3,
    "start_time": "2023-01-09T18:50:40.671Z"
   },
   {
    "duration": 733,
    "start_time": "2023-01-09T18:50:40.676Z"
   },
   {
    "duration": 58,
    "start_time": "2023-01-09T18:50:41.411Z"
   },
   {
    "duration": 26,
    "start_time": "2023-01-09T18:50:41.471Z"
   },
   {
    "duration": 34,
    "start_time": "2023-01-09T18:50:41.499Z"
   },
   {
    "duration": 11,
    "start_time": "2023-01-09T18:50:41.534Z"
   },
   {
    "duration": 68,
    "start_time": "2023-01-09T18:50:41.547Z"
   },
   {
    "duration": 15,
    "start_time": "2023-01-09T18:50:41.617Z"
   },
   {
    "duration": 176,
    "start_time": "2023-01-09T18:50:41.634Z"
   },
   {
    "duration": 5,
    "start_time": "2023-01-09T18:50:41.811Z"
   },
   {
    "duration": 12,
    "start_time": "2023-01-09T18:50:41.817Z"
   },
   {
    "duration": 9,
    "start_time": "2023-01-09T18:50:41.830Z"
   },
   {
    "duration": 15,
    "start_time": "2023-01-09T18:50:41.840Z"
   },
   {
    "duration": 20,
    "start_time": "2023-01-09T18:50:41.857Z"
   },
   {
    "duration": 13,
    "start_time": "2023-01-09T18:50:41.878Z"
   },
   {
    "duration": 25,
    "start_time": "2023-01-09T18:50:41.893Z"
   },
   {
    "duration": 61,
    "start_time": "2023-01-09T18:50:41.919Z"
   },
   {
    "duration": 4,
    "start_time": "2023-01-09T18:50:41.982Z"
   },
   {
    "duration": 1955,
    "start_time": "2023-01-09T18:50:41.987Z"
   },
   {
    "duration": 2040,
    "start_time": "2023-01-09T18:50:43.944Z"
   },
   {
    "duration": 2881,
    "start_time": "2023-01-09T18:50:45.986Z"
   },
   {
    "duration": 516,
    "start_time": "2023-01-09T18:50:48.869Z"
   },
   {
    "duration": 3,
    "start_time": "2023-01-09T18:50:49.386Z"
   },
   {
    "duration": 4,
    "start_time": "2023-01-09T18:50:49.397Z"
   },
   {
    "duration": 11,
    "start_time": "2023-01-09T18:50:49.402Z"
   },
   {
    "duration": 1564,
    "start_time": "2023-01-09T18:50:49.414Z"
   },
   {
    "duration": 3,
    "start_time": "2023-01-09T18:50:50.980Z"
   },
   {
    "duration": 13,
    "start_time": "2023-01-09T18:50:50.985Z"
   },
   {
    "duration": 22,
    "start_time": "2023-01-09T18:50:50.999Z"
   },
   {
    "duration": 49,
    "start_time": "2023-01-09T18:50:51.023Z"
   },
   {
    "duration": 3,
    "start_time": "2023-01-09T18:50:51.073Z"
   },
   {
    "duration": 7,
    "start_time": "2023-01-09T18:50:51.078Z"
   },
   {
    "duration": 17,
    "start_time": "2023-01-09T18:50:51.086Z"
   },
   {
    "duration": 18,
    "start_time": "2023-01-09T18:50:51.105Z"
   },
   {
    "duration": 45556,
    "start_time": "2023-01-09T18:50:51.125Z"
   },
   {
    "duration": 0,
    "start_time": "2023-01-09T18:51:36.683Z"
   },
   {
    "duration": 0,
    "start_time": "2023-01-09T18:51:36.685Z"
   },
   {
    "duration": 4,
    "start_time": "2023-01-09T18:51:41.407Z"
   },
   {
    "duration": 17841,
    "start_time": "2023-01-09T18:52:04.593Z"
   },
   {
    "duration": 4,
    "start_time": "2023-01-09T18:52:52.691Z"
   },
   {
    "duration": 577725,
    "start_time": "2023-01-09T18:52:56.088Z"
   },
   {
    "duration": 4,
    "start_time": "2023-01-09T19:05:03.631Z"
   },
   {
    "duration": 139508,
    "start_time": "2023-01-09T19:05:07.977Z"
   },
   {
    "duration": 1345,
    "start_time": "2023-01-09T19:08:34.633Z"
   },
   {
    "duration": 2,
    "start_time": "2023-01-09T19:08:35.980Z"
   },
   {
    "duration": 685,
    "start_time": "2023-01-09T19:08:35.984Z"
   },
   {
    "duration": 64,
    "start_time": "2023-01-09T19:08:36.671Z"
   },
   {
    "duration": 16,
    "start_time": "2023-01-09T19:08:36.736Z"
   },
   {
    "duration": 51,
    "start_time": "2023-01-09T19:08:36.753Z"
   },
   {
    "duration": 12,
    "start_time": "2023-01-09T19:08:36.805Z"
   },
   {
    "duration": 59,
    "start_time": "2023-01-09T19:08:36.818Z"
   },
   {
    "duration": 34,
    "start_time": "2023-01-09T19:08:36.878Z"
   },
   {
    "duration": 179,
    "start_time": "2023-01-09T19:08:36.915Z"
   },
   {
    "duration": 5,
    "start_time": "2023-01-09T19:08:37.096Z"
   },
   {
    "duration": 5,
    "start_time": "2023-01-09T19:08:37.103Z"
   },
   {
    "duration": 7,
    "start_time": "2023-01-09T19:08:37.109Z"
   },
   {
    "duration": 10,
    "start_time": "2023-01-09T19:08:37.118Z"
   },
   {
    "duration": 10,
    "start_time": "2023-01-09T19:08:37.130Z"
   },
   {
    "duration": 8,
    "start_time": "2023-01-09T19:08:37.141Z"
   },
   {
    "duration": 25,
    "start_time": "2023-01-09T19:08:37.151Z"
   },
   {
    "duration": 59,
    "start_time": "2023-01-09T19:08:37.197Z"
   },
   {
    "duration": 4,
    "start_time": "2023-01-09T19:08:37.257Z"
   },
   {
    "duration": 2088,
    "start_time": "2023-01-09T19:08:37.263Z"
   },
   {
    "duration": 2076,
    "start_time": "2023-01-09T19:08:39.353Z"
   },
   {
    "duration": 2143,
    "start_time": "2023-01-09T19:08:41.431Z"
   },
   {
    "duration": 474,
    "start_time": "2023-01-09T19:08:43.575Z"
   },
   {
    "duration": 2,
    "start_time": "2023-01-09T19:08:44.051Z"
   },
   {
    "duration": 7,
    "start_time": "2023-01-09T19:08:44.055Z"
   },
   {
    "duration": 9,
    "start_time": "2023-01-09T19:08:44.063Z"
   },
   {
    "duration": 1691,
    "start_time": "2023-01-09T19:08:44.074Z"
   },
   {
    "duration": 4,
    "start_time": "2023-01-09T19:08:45.768Z"
   },
   {
    "duration": 6,
    "start_time": "2023-01-09T19:08:45.773Z"
   },
   {
    "duration": 23,
    "start_time": "2023-01-09T19:08:45.780Z"
   },
   {
    "duration": 38,
    "start_time": "2023-01-09T19:08:45.805Z"
   },
   {
    "duration": 3,
    "start_time": "2023-01-09T19:08:45.844Z"
   },
   {
    "duration": 7,
    "start_time": "2023-01-09T19:08:45.849Z"
   },
   {
    "duration": 8,
    "start_time": "2023-01-09T19:08:45.857Z"
   },
   {
    "duration": 11,
    "start_time": "2023-01-09T19:08:45.866Z"
   },
   {
    "duration": 21,
    "start_time": "2023-01-09T19:08:45.878Z"
   },
   {
    "duration": 1037159,
    "start_time": "2023-01-09T19:08:45.901Z"
   },
   {
    "duration": 426349,
    "start_time": "2023-01-09T19:26:03.062Z"
   },
   {
    "duration": 4,
    "start_time": "2023-01-09T19:33:27.891Z"
   },
   {
    "duration": 822337,
    "start_time": "2023-01-09T19:33:37.126Z"
   },
   {
    "duration": 475899,
    "start_time": "2023-01-09T19:47:19.465Z"
   },
   {
    "duration": 4,
    "start_time": "2023-01-09T20:03:11.890Z"
   },
   {
    "duration": 4,
    "start_time": "2023-01-09T20:09:05.226Z"
   },
   {
    "duration": 1833,
    "start_time": "2023-01-09T20:11:11.903Z"
   },
   {
    "duration": 4,
    "start_time": "2023-01-09T20:11:22.440Z"
   },
   {
    "duration": 1520,
    "start_time": "2023-01-09T20:11:23.378Z"
   },
   {
    "duration": 1456,
    "start_time": "2023-01-09T20:12:03.543Z"
   },
   {
    "duration": 1545,
    "start_time": "2023-01-09T20:15:18.854Z"
   },
   {
    "duration": 5,
    "start_time": "2023-01-09T20:16:49.237Z"
   },
   {
    "duration": 5,
    "start_time": "2023-01-09T20:16:53.796Z"
   },
   {
    "duration": 73,
    "start_time": "2023-01-09T20:18:48.683Z"
   },
   {
    "duration": 4,
    "start_time": "2023-01-09T20:19:04.171Z"
   },
   {
    "duration": 3,
    "start_time": "2023-01-09T20:19:12.682Z"
   },
   {
    "duration": 20865,
    "start_time": "2023-01-09T20:19:14.826Z"
   },
   {
    "duration": 18970,
    "start_time": "2023-01-09T20:19:35.694Z"
   },
   {
    "duration": 1309,
    "start_time": "2023-01-09T20:25:29.858Z"
   },
   {
    "duration": 3,
    "start_time": "2023-01-09T20:25:31.169Z"
   },
   {
    "duration": 708,
    "start_time": "2023-01-09T20:25:31.173Z"
   },
   {
    "duration": 60,
    "start_time": "2023-01-09T20:25:31.883Z"
   },
   {
    "duration": 15,
    "start_time": "2023-01-09T20:25:31.944Z"
   },
   {
    "duration": 50,
    "start_time": "2023-01-09T20:25:31.961Z"
   },
   {
    "duration": 12,
    "start_time": "2023-01-09T20:25:32.013Z"
   },
   {
    "duration": 55,
    "start_time": "2023-01-09T20:25:32.027Z"
   },
   {
    "duration": 28,
    "start_time": "2023-01-09T20:25:32.083Z"
   },
   {
    "duration": 169,
    "start_time": "2023-01-09T20:25:32.113Z"
   },
   {
    "duration": 5,
    "start_time": "2023-01-09T20:25:32.283Z"
   },
   {
    "duration": 12,
    "start_time": "2023-01-09T20:25:32.290Z"
   },
   {
    "duration": 8,
    "start_time": "2023-01-09T20:25:32.303Z"
   },
   {
    "duration": 8,
    "start_time": "2023-01-09T20:25:32.313Z"
   },
   {
    "duration": 9,
    "start_time": "2023-01-09T20:25:32.322Z"
   },
   {
    "duration": 8,
    "start_time": "2023-01-09T20:25:32.332Z"
   },
   {
    "duration": 28,
    "start_time": "2023-01-09T20:25:32.341Z"
   },
   {
    "duration": 61,
    "start_time": "2023-01-09T20:25:32.371Z"
   },
   {
    "duration": 4,
    "start_time": "2023-01-09T20:25:32.434Z"
   },
   {
    "duration": 2132,
    "start_time": "2023-01-09T20:25:32.440Z"
   },
   {
    "duration": 2103,
    "start_time": "2023-01-09T20:25:34.573Z"
   },
   {
    "duration": 2111,
    "start_time": "2023-01-09T20:25:36.678Z"
   },
   {
    "duration": 503,
    "start_time": "2023-01-09T20:25:38.791Z"
   },
   {
    "duration": 3,
    "start_time": "2023-01-09T20:25:39.295Z"
   },
   {
    "duration": 14,
    "start_time": "2023-01-09T20:25:39.299Z"
   },
   {
    "duration": 11,
    "start_time": "2023-01-09T20:25:39.314Z"
   },
   {
    "duration": 1656,
    "start_time": "2023-01-09T20:25:39.326Z"
   },
   {
    "duration": 3,
    "start_time": "2023-01-09T20:25:40.986Z"
   },
   {
    "duration": 7,
    "start_time": "2023-01-09T20:25:40.990Z"
   },
   {
    "duration": 8,
    "start_time": "2023-01-09T20:25:40.999Z"
   },
   {
    "duration": 40,
    "start_time": "2023-01-09T20:25:41.009Z"
   },
   {
    "duration": 4,
    "start_time": "2023-01-09T20:25:41.050Z"
   },
   {
    "duration": 6,
    "start_time": "2023-01-09T20:25:41.056Z"
   },
   {
    "duration": 33,
    "start_time": "2023-01-09T20:25:41.064Z"
   },
   {
    "duration": 11,
    "start_time": "2023-01-09T20:25:41.099Z"
   },
   {
    "duration": 7,
    "start_time": "2023-01-09T20:25:41.112Z"
   },
   {
    "duration": 949132,
    "start_time": "2023-01-09T20:25:41.121Z"
   },
   {
    "duration": 451502,
    "start_time": "2023-01-09T20:41:30.254Z"
   },
   {
    "duration": 7,
    "start_time": "2023-01-09T20:49:01.758Z"
   },
   {
    "duration": 1541,
    "start_time": "2023-01-09T20:49:01.766Z"
   },
   {
    "duration": 1795,
    "start_time": "2023-01-09T20:49:03.311Z"
   },
   {
    "duration": 4,
    "start_time": "2023-01-09T20:49:05.198Z"
   },
   {
    "duration": 21434,
    "start_time": "2023-01-09T20:49:05.204Z"
   },
   {
    "duration": 19949,
    "start_time": "2023-01-09T20:49:26.639Z"
   },
   {
    "duration": 8,
    "start_time": "2023-01-09T20:49:46.590Z"
   },
   {
    "duration": 3,
    "start_time": "2023-01-09T21:05:51.377Z"
   },
   {
    "duration": 23586,
    "start_time": "2023-01-09T21:08:45.285Z"
   },
   {
    "duration": 13117,
    "start_time": "2023-01-09T21:11:43.413Z"
   },
   {
    "duration": 3,
    "start_time": "2023-01-09T21:13:13.861Z"
   },
   {
    "duration": 3,
    "start_time": "2023-01-09T21:13:26.967Z"
   },
   {
    "duration": 4,
    "start_time": "2023-01-09T21:13:53.006Z"
   },
   {
    "duration": 1496,
    "start_time": "2023-01-09T21:13:54.803Z"
   },
   {
    "duration": 1606,
    "start_time": "2023-01-09T21:13:56.301Z"
   },
   {
    "duration": 3,
    "start_time": "2023-01-09T21:14:33.853Z"
   },
   {
    "duration": 20306,
    "start_time": "2023-01-09T21:14:37.224Z"
   },
   {
    "duration": 1255,
    "start_time": "2023-01-09T21:23:35.639Z"
   },
   {
    "duration": 2,
    "start_time": "2023-01-09T21:23:36.896Z"
   },
   {
    "duration": 660,
    "start_time": "2023-01-09T21:23:36.901Z"
   },
   {
    "duration": 62,
    "start_time": "2023-01-09T21:23:37.562Z"
   },
   {
    "duration": 17,
    "start_time": "2023-01-09T21:23:37.626Z"
   },
   {
    "duration": 35,
    "start_time": "2023-01-09T21:23:37.645Z"
   },
   {
    "duration": 12,
    "start_time": "2023-01-09T21:23:37.697Z"
   },
   {
    "duration": 50,
    "start_time": "2023-01-09T21:23:37.710Z"
   },
   {
    "duration": 15,
    "start_time": "2023-01-09T21:23:37.762Z"
   },
   {
    "duration": 150,
    "start_time": "2023-01-09T21:23:37.796Z"
   },
   {
    "duration": 5,
    "start_time": "2023-01-09T21:23:37.947Z"
   },
   {
    "duration": 8,
    "start_time": "2023-01-09T21:23:37.954Z"
   },
   {
    "duration": 7,
    "start_time": "2023-01-09T21:23:37.964Z"
   },
   {
    "duration": 8,
    "start_time": "2023-01-09T21:23:37.973Z"
   },
   {
    "duration": 8,
    "start_time": "2023-01-09T21:23:37.982Z"
   },
   {
    "duration": 9,
    "start_time": "2023-01-09T21:23:37.991Z"
   },
   {
    "duration": 24,
    "start_time": "2023-01-09T21:23:38.001Z"
   },
   {
    "duration": 55,
    "start_time": "2023-01-09T21:23:38.027Z"
   },
   {
    "duration": 14,
    "start_time": "2023-01-09T21:23:38.084Z"
   },
   {
    "duration": 1962,
    "start_time": "2023-01-09T21:23:38.099Z"
   },
   {
    "duration": 1922,
    "start_time": "2023-01-09T21:23:40.063Z"
   },
   {
    "duration": 2052,
    "start_time": "2023-01-09T21:23:41.986Z"
   },
   {
    "duration": 461,
    "start_time": "2023-01-09T21:23:44.040Z"
   },
   {
    "duration": 3,
    "start_time": "2023-01-09T21:23:44.502Z"
   },
   {
    "duration": 8,
    "start_time": "2023-01-09T21:23:44.506Z"
   },
   {
    "duration": 9,
    "start_time": "2023-01-09T21:23:44.515Z"
   },
   {
    "duration": 1573,
    "start_time": "2023-01-09T21:23:44.527Z"
   },
   {
    "duration": 3,
    "start_time": "2023-01-09T21:23:46.102Z"
   },
   {
    "duration": 6,
    "start_time": "2023-01-09T21:23:46.106Z"
   },
   {
    "duration": 12,
    "start_time": "2023-01-09T21:23:46.113Z"
   },
   {
    "duration": 41,
    "start_time": "2023-01-09T21:23:46.128Z"
   },
   {
    "duration": 2,
    "start_time": "2023-01-09T21:23:46.171Z"
   },
   {
    "duration": 22,
    "start_time": "2023-01-09T21:23:46.175Z"
   },
   {
    "duration": 8,
    "start_time": "2023-01-09T21:23:46.199Z"
   },
   {
    "duration": 13,
    "start_time": "2023-01-09T21:23:46.209Z"
   },
   {
    "duration": 5,
    "start_time": "2023-01-09T21:23:46.224Z"
   },
   {
    "duration": 1028793,
    "start_time": "2023-01-09T21:23:46.230Z"
   },
   {
    "duration": 505728,
    "start_time": "2023-01-09T21:40:55.025Z"
   },
   {
    "duration": 3,
    "start_time": "2023-01-09T21:49:20.755Z"
   },
   {
    "duration": 1439,
    "start_time": "2023-01-09T21:49:20.760Z"
   },
   {
    "duration": 1607,
    "start_time": "2023-01-09T21:49:22.200Z"
   },
   {
    "duration": 5,
    "start_time": "2023-01-09T21:49:23.898Z"
   },
   {
    "duration": 21003,
    "start_time": "2023-01-09T21:49:23.905Z"
   },
   {
    "duration": 19536,
    "start_time": "2023-01-09T21:49:44.909Z"
   },
   {
    "duration": 3,
    "start_time": "2023-01-09T21:50:04.447Z"
   },
   {
    "duration": 8,
    "start_time": "2023-01-09T21:50:04.451Z"
   },
   {
    "duration": 23793,
    "start_time": "2023-01-09T21:50:04.460Z"
   },
   {
    "duration": 13108,
    "start_time": "2023-01-09T21:50:28.254Z"
   },
   {
    "duration": 4,
    "start_time": "2023-01-09T21:50:41.363Z"
   },
   {
    "duration": 3,
    "start_time": "2023-01-09T21:57:42.996Z"
   },
   {
    "duration": 2725,
    "start_time": "2023-01-09T21:58:11.676Z"
   },
   {
    "duration": 4,
    "start_time": "2023-01-09T21:58:18.838Z"
   },
   {
    "duration": 12352,
    "start_time": "2023-01-09T21:58:20.986Z"
   },
   {
    "duration": 19948,
    "start_time": "2023-01-09T21:58:36.844Z"
   },
   {
    "duration": 19492,
    "start_time": "2023-01-09T21:59:07.941Z"
   },
   {
    "duration": 1254,
    "start_time": "2023-01-09T22:00:31.254Z"
   },
   {
    "duration": 2,
    "start_time": "2023-01-09T22:00:32.510Z"
   },
   {
    "duration": 674,
    "start_time": "2023-01-09T22:00:32.516Z"
   },
   {
    "duration": 61,
    "start_time": "2023-01-09T22:00:33.191Z"
   },
   {
    "duration": 17,
    "start_time": "2023-01-09T22:00:33.253Z"
   },
   {
    "duration": 51,
    "start_time": "2023-01-09T22:00:33.272Z"
   },
   {
    "duration": 11,
    "start_time": "2023-01-09T22:00:33.325Z"
   },
   {
    "duration": 70,
    "start_time": "2023-01-09T22:00:33.337Z"
   },
   {
    "duration": 17,
    "start_time": "2023-01-09T22:00:33.409Z"
   },
   {
    "duration": 159,
    "start_time": "2023-01-09T22:00:33.427Z"
   },
   {
    "duration": 5,
    "start_time": "2023-01-09T22:00:33.587Z"
   },
   {
    "duration": 5,
    "start_time": "2023-01-09T22:00:33.594Z"
   },
   {
    "duration": 19,
    "start_time": "2023-01-09T22:00:33.600Z"
   },
   {
    "duration": 12,
    "start_time": "2023-01-09T22:00:33.621Z"
   },
   {
    "duration": 19,
    "start_time": "2023-01-09T22:00:33.635Z"
   },
   {
    "duration": 8,
    "start_time": "2023-01-09T22:00:33.656Z"
   },
   {
    "duration": 31,
    "start_time": "2023-01-09T22:00:33.665Z"
   },
   {
    "duration": 61,
    "start_time": "2023-01-09T22:00:33.698Z"
   },
   {
    "duration": 4,
    "start_time": "2023-01-09T22:00:33.761Z"
   },
   {
    "duration": 2081,
    "start_time": "2023-01-09T22:00:33.766Z"
   },
   {
    "duration": 1940,
    "start_time": "2023-01-09T22:00:35.848Z"
   },
   {
    "duration": 2023,
    "start_time": "2023-01-09T22:00:37.797Z"
   },
   {
    "duration": 502,
    "start_time": "2023-01-09T22:00:39.822Z"
   },
   {
    "duration": 2,
    "start_time": "2023-01-09T22:00:40.326Z"
   },
   {
    "duration": 7,
    "start_time": "2023-01-09T22:00:40.330Z"
   },
   {
    "duration": 12,
    "start_time": "2023-01-09T22:00:40.338Z"
   },
   {
    "duration": 1550,
    "start_time": "2023-01-09T22:00:40.353Z"
   },
   {
    "duration": 3,
    "start_time": "2023-01-09T22:00:41.904Z"
   },
   {
    "duration": 7,
    "start_time": "2023-01-09T22:00:41.909Z"
   },
   {
    "duration": 19,
    "start_time": "2023-01-09T22:00:41.918Z"
   },
   {
    "duration": 48,
    "start_time": "2023-01-09T22:00:41.938Z"
   },
   {
    "duration": 11,
    "start_time": "2023-01-09T22:00:41.987Z"
   },
   {
    "duration": 6,
    "start_time": "2023-01-09T22:00:41.999Z"
   },
   {
    "duration": 9,
    "start_time": "2023-01-09T22:00:42.006Z"
   },
   {
    "duration": 15,
    "start_time": "2023-01-09T22:00:42.017Z"
   },
   {
    "duration": 14,
    "start_time": "2023-01-09T22:00:42.034Z"
   },
   {
    "duration": 1072039,
    "start_time": "2023-01-09T22:00:42.049Z"
   },
   {
    "duration": 517717,
    "start_time": "2023-01-09T22:18:34.090Z"
   },
   {
    "duration": 3,
    "start_time": "2023-01-09T22:27:11.809Z"
   },
   {
    "duration": 1688,
    "start_time": "2023-01-09T22:27:11.814Z"
   },
   {
    "duration": 1495,
    "start_time": "2023-01-09T22:27:13.504Z"
   },
   {
    "duration": 97,
    "start_time": "2023-01-09T22:27:15.001Z"
   },
   {
    "duration": 24173,
    "start_time": "2023-01-09T22:27:15.100Z"
   },
   {
    "duration": 19954,
    "start_time": "2023-01-09T22:27:39.275Z"
   },
   {
    "duration": 3,
    "start_time": "2023-01-09T22:27:59.231Z"
   },
   {
    "duration": 11,
    "start_time": "2023-01-09T22:27:59.235Z"
   },
   {
    "duration": 23491,
    "start_time": "2023-01-09T22:27:59.248Z"
   },
   {
    "duration": 12989,
    "start_time": "2023-01-09T22:28:22.740Z"
   },
   {
    "duration": 3,
    "start_time": "2023-01-09T22:28:35.730Z"
   },
   {
    "duration": 41060,
    "start_time": "2023-01-09T22:29:53.129Z"
   },
   {
    "duration": 17370,
    "start_time": "2023-01-09T22:30:34.191Z"
   },
   {
    "duration": 3,
    "start_time": "2023-01-09T22:30:51.562Z"
   },
   {
    "duration": 1730,
    "start_time": "2023-01-10T22:05:38.979Z"
   },
   {
    "duration": 3,
    "start_time": "2023-01-10T22:05:40.711Z"
   },
   {
    "duration": 746,
    "start_time": "2023-01-10T22:05:40.715Z"
   },
   {
    "duration": 69,
    "start_time": "2023-01-10T22:05:41.462Z"
   },
   {
    "duration": 17,
    "start_time": "2023-01-10T22:05:41.533Z"
   },
   {
    "duration": 66,
    "start_time": "2023-01-10T22:05:41.552Z"
   },
   {
    "duration": 21,
    "start_time": "2023-01-10T22:05:41.620Z"
   },
   {
    "duration": 82,
    "start_time": "2023-01-10T22:05:41.643Z"
   },
   {
    "duration": 16,
    "start_time": "2023-01-10T22:05:41.727Z"
   },
   {
    "duration": 151,
    "start_time": "2023-01-10T22:05:41.745Z"
   },
   {
    "duration": 15,
    "start_time": "2023-01-10T22:05:41.898Z"
   },
   {
    "duration": 9,
    "start_time": "2023-01-10T22:05:41.916Z"
   },
   {
    "duration": 46,
    "start_time": "2023-01-10T22:05:41.926Z"
   },
   {
    "duration": 32,
    "start_time": "2023-01-10T22:05:41.976Z"
   },
   {
    "duration": 36,
    "start_time": "2023-01-10T22:05:42.009Z"
   },
   {
    "duration": 37,
    "start_time": "2023-01-10T22:05:42.046Z"
   },
   {
    "duration": 41,
    "start_time": "2023-01-10T22:05:42.084Z"
   },
   {
    "duration": 93,
    "start_time": "2023-01-10T22:05:42.127Z"
   },
   {
    "duration": 4,
    "start_time": "2023-01-10T22:05:42.222Z"
   },
   {
    "duration": 2236,
    "start_time": "2023-01-10T22:05:42.227Z"
   },
   {
    "duration": 2205,
    "start_time": "2023-01-10T22:05:44.465Z"
   },
   {
    "duration": 2399,
    "start_time": "2023-01-10T22:05:46.672Z"
   },
   {
    "duration": 551,
    "start_time": "2023-01-10T22:05:49.072Z"
   },
   {
    "duration": 2,
    "start_time": "2023-01-10T22:05:49.625Z"
   },
   {
    "duration": 15,
    "start_time": "2023-01-10T22:05:49.629Z"
   },
   {
    "duration": 25,
    "start_time": "2023-01-10T22:05:49.646Z"
   },
   {
    "duration": 1804,
    "start_time": "2023-01-10T22:05:49.673Z"
   },
   {
    "duration": 4,
    "start_time": "2023-01-10T22:05:51.478Z"
   },
   {
    "duration": 10,
    "start_time": "2023-01-10T22:05:51.483Z"
   },
   {
    "duration": 33,
    "start_time": "2023-01-10T22:05:51.494Z"
   },
   {
    "duration": 45,
    "start_time": "2023-01-10T22:05:51.529Z"
   },
   {
    "duration": 3,
    "start_time": "2023-01-10T22:05:51.575Z"
   },
   {
    "duration": 15,
    "start_time": "2023-01-10T22:05:51.579Z"
   },
   {
    "duration": 17,
    "start_time": "2023-01-10T22:05:51.596Z"
   },
   {
    "duration": 14,
    "start_time": "2023-01-10T22:05:51.614Z"
   },
   {
    "duration": 9,
    "start_time": "2023-01-10T22:05:51.630Z"
   },
   {
    "duration": 1211574,
    "start_time": "2023-01-10T22:05:51.640Z"
   },
   {
    "duration": 558718,
    "start_time": "2023-01-10T22:26:03.216Z"
   },
   {
    "duration": 4,
    "start_time": "2023-01-10T22:35:21.936Z"
   },
   {
    "duration": 1667,
    "start_time": "2023-01-10T22:35:21.942Z"
   },
   {
    "duration": 1296,
    "start_time": "2023-01-10T22:35:23.615Z"
   },
   {
    "duration": 91,
    "start_time": "2023-01-10T22:35:24.915Z"
   },
   {
    "duration": 26483,
    "start_time": "2023-01-10T22:35:25.009Z"
   },
   {
    "duration": 21285,
    "start_time": "2023-01-10T22:35:51.493Z"
   },
   {
    "duration": 3,
    "start_time": "2023-01-10T22:36:12.780Z"
   },
   {
    "duration": 16,
    "start_time": "2023-01-10T22:36:12.784Z"
   },
   {
    "duration": 43514,
    "start_time": "2023-01-10T22:36:12.802Z"
   },
   {
    "duration": 18310,
    "start_time": "2023-01-10T22:36:56.318Z"
   },
   {
    "duration": 3,
    "start_time": "2023-01-10T22:37:14.630Z"
   },
   {
    "duration": 6,
    "start_time": "2023-01-10T22:37:46.673Z"
   },
   {
    "duration": 4,
    "start_time": "2023-01-10T22:37:59.622Z"
   },
   {
    "duration": 1659,
    "start_time": "2023-01-11T06:49:59.995Z"
   },
   {
    "duration": 115,
    "start_time": "2023-01-11T06:51:16.145Z"
   },
   {
    "duration": 1523,
    "start_time": "2023-01-11T06:51:22.470Z"
   },
   {
    "duration": 3,
    "start_time": "2023-01-11T06:51:23.995Z"
   },
   {
    "duration": 2159,
    "start_time": "2023-01-11T06:51:24.000Z"
   },
   {
    "duration": 73,
    "start_time": "2023-01-11T06:51:26.162Z"
   },
   {
    "duration": 24,
    "start_time": "2023-01-11T06:51:26.237Z"
   },
   {
    "duration": 59,
    "start_time": "2023-01-11T06:51:26.263Z"
   },
   {
    "duration": 14,
    "start_time": "2023-01-11T06:51:26.324Z"
   },
   {
    "duration": 79,
    "start_time": "2023-01-11T06:51:26.339Z"
   },
   {
    "duration": 20,
    "start_time": "2023-01-11T06:51:26.420Z"
   },
   {
    "duration": 8,
    "start_time": "2023-01-11T06:51:26.443Z"
   },
   {
    "duration": 9,
    "start_time": "2023-01-11T06:51:26.452Z"
   },
   {
    "duration": 3,
    "start_time": "2023-01-11T06:51:26.462Z"
   },
   {
    "duration": 38,
    "start_time": "2023-01-11T06:51:26.467Z"
   },
   {
    "duration": 7,
    "start_time": "2023-01-11T06:51:26.507Z"
   },
   {
    "duration": 10,
    "start_time": "2023-01-11T06:51:26.515Z"
   },
   {
    "duration": 9,
    "start_time": "2023-01-11T06:51:26.527Z"
   },
   {
    "duration": 27,
    "start_time": "2023-01-11T06:51:26.538Z"
   },
   {
    "duration": 83,
    "start_time": "2023-01-11T06:51:26.566Z"
   },
   {
    "duration": 4,
    "start_time": "2023-01-11T06:51:26.651Z"
   },
   {
    "duration": 2498,
    "start_time": "2023-01-11T06:51:26.657Z"
   },
   {
    "duration": 3303,
    "start_time": "2023-01-11T06:51:29.157Z"
   },
   {
    "duration": 2404,
    "start_time": "2023-01-11T06:51:32.462Z"
   },
   {
    "duration": 575,
    "start_time": "2023-01-11T06:51:34.868Z"
   },
   {
    "duration": 3,
    "start_time": "2023-01-11T06:51:35.445Z"
   },
   {
    "duration": 19,
    "start_time": "2023-01-11T06:51:35.450Z"
   },
   {
    "duration": 12,
    "start_time": "2023-01-11T06:51:35.471Z"
   },
   {
    "duration": 2356,
    "start_time": "2023-01-11T06:51:35.485Z"
   },
   {
    "duration": 61,
    "start_time": "2023-01-11T06:51:37.845Z"
   },
   {
    "duration": 5,
    "start_time": "2023-01-11T06:51:37.908Z"
   },
   {
    "duration": 15,
    "start_time": "2023-01-11T06:51:37.915Z"
   },
   {
    "duration": 110,
    "start_time": "2023-01-11T06:51:37.932Z"
   },
   {
    "duration": 3,
    "start_time": "2023-01-11T06:51:38.044Z"
   },
   {
    "duration": 57,
    "start_time": "2023-01-11T06:51:38.049Z"
   },
   {
    "duration": 19,
    "start_time": "2023-01-11T06:51:38.108Z"
   },
   {
    "duration": 15,
    "start_time": "2023-01-11T06:51:38.130Z"
   },
   {
    "duration": 12,
    "start_time": "2023-01-11T06:51:38.147Z"
   },
   {
    "duration": 11287,
    "start_time": "2023-01-11T06:51:38.204Z"
   },
   {
    "duration": 1726,
    "start_time": "2023-01-11T06:51:49.493Z"
   },
   {
    "duration": 4,
    "start_time": "2023-01-11T06:51:51.220Z"
   },
   {
    "duration": 1467,
    "start_time": "2023-01-11T06:51:51.226Z"
   },
   {
    "duration": 0,
    "start_time": "2023-01-11T06:51:52.695Z"
   },
   {
    "duration": 0,
    "start_time": "2023-01-11T06:51:52.696Z"
   },
   {
    "duration": 0,
    "start_time": "2023-01-11T06:51:52.697Z"
   },
   {
    "duration": 0,
    "start_time": "2023-01-11T06:51:52.698Z"
   },
   {
    "duration": 0,
    "start_time": "2023-01-11T06:51:52.699Z"
   },
   {
    "duration": 0,
    "start_time": "2023-01-11T06:51:52.701Z"
   },
   {
    "duration": 0,
    "start_time": "2023-01-11T06:51:52.702Z"
   },
   {
    "duration": 0,
    "start_time": "2023-01-11T06:51:52.703Z"
   },
   {
    "duration": 0,
    "start_time": "2023-01-11T06:51:52.704Z"
   },
   {
    "duration": 8,
    "start_time": "2023-01-11T06:52:29.011Z"
   },
   {
    "duration": 580,
    "start_time": "2023-01-11T07:04:36.521Z"
   },
   {
    "duration": 592,
    "start_time": "2023-01-11T07:05:24.619Z"
   },
   {
    "duration": 613,
    "start_time": "2023-01-11T07:05:39.835Z"
   },
   {
    "duration": 693,
    "start_time": "2023-01-11T07:05:56.345Z"
   },
   {
    "duration": 1526,
    "start_time": "2023-01-11T07:06:04.926Z"
   },
   {
    "duration": 3,
    "start_time": "2023-01-11T07:06:06.454Z"
   },
   {
    "duration": 762,
    "start_time": "2023-01-11T07:06:06.458Z"
   },
   {
    "duration": 88,
    "start_time": "2023-01-11T07:06:07.222Z"
   },
   {
    "duration": 24,
    "start_time": "2023-01-11T07:06:07.315Z"
   },
   {
    "duration": 67,
    "start_time": "2023-01-11T07:06:07.341Z"
   },
   {
    "duration": 17,
    "start_time": "2023-01-11T07:06:07.410Z"
   },
   {
    "duration": 103,
    "start_time": "2023-01-11T07:06:07.429Z"
   },
   {
    "duration": 23,
    "start_time": "2023-01-11T07:06:07.534Z"
   },
   {
    "duration": 31,
    "start_time": "2023-01-11T07:06:07.561Z"
   },
   {
    "duration": 13,
    "start_time": "2023-01-11T07:06:07.594Z"
   },
   {
    "duration": 12,
    "start_time": "2023-01-11T07:06:07.617Z"
   },
   {
    "duration": 10,
    "start_time": "2023-01-11T07:06:07.631Z"
   },
   {
    "duration": 14,
    "start_time": "2023-01-11T07:06:07.643Z"
   },
   {
    "duration": 19,
    "start_time": "2023-01-11T07:06:07.659Z"
   },
   {
    "duration": 19,
    "start_time": "2023-01-11T07:06:07.681Z"
   },
   {
    "duration": 42,
    "start_time": "2023-01-11T07:06:07.702Z"
   },
   {
    "duration": 73,
    "start_time": "2023-01-11T07:06:07.746Z"
   },
   {
    "duration": 4,
    "start_time": "2023-01-11T07:06:07.821Z"
   },
   {
    "duration": 3789,
    "start_time": "2023-01-11T07:06:07.827Z"
   },
   {
    "duration": 2456,
    "start_time": "2023-01-11T07:06:11.618Z"
   },
   {
    "duration": 2864,
    "start_time": "2023-01-11T07:06:14.076Z"
   },
   {
    "duration": 632,
    "start_time": "2023-01-11T07:06:16.942Z"
   },
   {
    "duration": 3,
    "start_time": "2023-01-11T07:06:17.576Z"
   },
   {
    "duration": 53,
    "start_time": "2023-01-11T07:06:17.581Z"
   },
   {
    "duration": 38,
    "start_time": "2023-01-11T07:06:17.638Z"
   },
   {
    "duration": 644,
    "start_time": "2023-01-11T07:06:17.678Z"
   },
   {
    "duration": 2029,
    "start_time": "2023-01-11T07:06:18.326Z"
   },
   {
    "duration": 4,
    "start_time": "2023-01-11T07:06:20.357Z"
   },
   {
    "duration": 20,
    "start_time": "2023-01-11T07:06:20.362Z"
   },
   {
    "duration": 15,
    "start_time": "2023-01-11T07:06:20.384Z"
   },
   {
    "duration": 65,
    "start_time": "2023-01-11T07:06:20.401Z"
   },
   {
    "duration": 3,
    "start_time": "2023-01-11T07:06:20.467Z"
   },
   {
    "duration": 28,
    "start_time": "2023-01-11T07:06:20.472Z"
   },
   {
    "duration": 32,
    "start_time": "2023-01-11T07:06:20.502Z"
   },
   {
    "duration": 14,
    "start_time": "2023-01-11T07:06:20.536Z"
   },
   {
    "duration": 11,
    "start_time": "2023-01-11T07:06:20.551Z"
   },
   {
    "duration": 4058,
    "start_time": "2023-01-11T07:06:20.564Z"
   },
   {
    "duration": 730,
    "start_time": "2023-01-11T07:06:24.624Z"
   },
   {
    "duration": 4,
    "start_time": "2023-01-11T07:06:25.356Z"
   },
   {
    "duration": 725,
    "start_time": "2023-01-11T07:06:25.362Z"
   },
   {
    "duration": 0,
    "start_time": "2023-01-11T07:06:26.090Z"
   },
   {
    "duration": 0,
    "start_time": "2023-01-11T07:06:26.092Z"
   },
   {
    "duration": 0,
    "start_time": "2023-01-11T07:06:26.093Z"
   },
   {
    "duration": 0,
    "start_time": "2023-01-11T07:06:26.095Z"
   },
   {
    "duration": 0,
    "start_time": "2023-01-11T07:06:26.096Z"
   },
   {
    "duration": 0,
    "start_time": "2023-01-11T07:06:26.098Z"
   },
   {
    "duration": 0,
    "start_time": "2023-01-11T07:06:26.100Z"
   },
   {
    "duration": 0,
    "start_time": "2023-01-11T07:06:26.101Z"
   },
   {
    "duration": 0,
    "start_time": "2023-01-11T07:06:26.103Z"
   },
   {
    "duration": 649,
    "start_time": "2023-01-11T07:06:49.000Z"
   },
   {
    "duration": 605,
    "start_time": "2023-01-11T07:07:01.905Z"
   },
   {
    "duration": 583,
    "start_time": "2023-01-11T07:08:41.574Z"
   },
   {
    "duration": 673,
    "start_time": "2023-01-11T07:08:53.266Z"
   },
   {
    "duration": 8,
    "start_time": "2023-01-11T07:10:02.402Z"
   },
   {
    "duration": 5,
    "start_time": "2023-01-11T07:10:30.656Z"
   },
   {
    "duration": 14,
    "start_time": "2023-01-11T07:10:32.426Z"
   },
   {
    "duration": 546,
    "start_time": "2023-01-11T07:11:05.240Z"
   },
   {
    "duration": 566,
    "start_time": "2023-01-11T07:11:43.666Z"
   },
   {
    "duration": 688,
    "start_time": "2023-01-11T07:19:06.997Z"
   },
   {
    "duration": 653,
    "start_time": "2023-01-11T07:19:25.835Z"
   },
   {
    "duration": 1774,
    "start_time": "2023-01-11T07:19:53.974Z"
   },
   {
    "duration": 2747,
    "start_time": "2023-01-11T07:24:43.872Z"
   },
   {
    "duration": 4,
    "start_time": "2023-01-11T07:31:17.375Z"
   },
   {
    "duration": 3,
    "start_time": "2023-01-11T07:31:18.325Z"
   },
   {
    "duration": 9,
    "start_time": "2023-01-11T07:31:45.058Z"
   },
   {
    "duration": 5,
    "start_time": "2023-01-11T07:32:05.819Z"
   },
   {
    "duration": 5,
    "start_time": "2023-01-11T07:32:07.976Z"
   },
   {
    "duration": 28871,
    "start_time": "2023-01-11T07:32:08.730Z"
   },
   {
    "duration": 11,
    "start_time": "2023-01-11T07:34:19.811Z"
   },
   {
    "duration": 4,
    "start_time": "2023-01-11T07:38:13.695Z"
   },
   {
    "duration": 82,
    "start_time": "2023-01-11T07:38:56.426Z"
   },
   {
    "duration": 3,
    "start_time": "2023-01-11T07:41:18.832Z"
   },
   {
    "duration": 5,
    "start_time": "2023-01-11T07:41:46.016Z"
   },
   {
    "duration": 27,
    "start_time": "2023-01-11T07:43:07.718Z"
   },
   {
    "duration": 29,
    "start_time": "2023-01-11T07:43:52.592Z"
   },
   {
    "duration": 9,
    "start_time": "2023-01-11T08:00:29.217Z"
   },
   {
    "duration": 5,
    "start_time": "2023-01-11T08:01:20.720Z"
   },
   {
    "duration": 7,
    "start_time": "2023-01-11T08:01:27.527Z"
   },
   {
    "duration": 4,
    "start_time": "2023-01-11T08:03:35.461Z"
   },
   {
    "duration": 1500,
    "start_time": "2023-01-11T08:10:33.832Z"
   },
   {
    "duration": 4,
    "start_time": "2023-01-11T08:10:37.628Z"
   },
   {
    "duration": 761,
    "start_time": "2023-01-11T08:10:38.425Z"
   },
   {
    "duration": 89,
    "start_time": "2023-01-11T08:10:39.188Z"
   },
   {
    "duration": 18,
    "start_time": "2023-01-11T08:10:39.279Z"
   },
   {
    "duration": 45,
    "start_time": "2023-01-11T08:10:39.307Z"
   },
   {
    "duration": 14,
    "start_time": "2023-01-11T08:10:39.353Z"
   },
   {
    "duration": 83,
    "start_time": "2023-01-11T08:10:39.368Z"
   },
   {
    "duration": 17,
    "start_time": "2023-01-11T08:10:39.481Z"
   },
   {
    "duration": 12,
    "start_time": "2023-01-11T08:10:40.302Z"
   },
   {
    "duration": 7,
    "start_time": "2023-01-11T08:10:40.423Z"
   },
   {
    "duration": 3,
    "start_time": "2023-01-11T08:10:40.581Z"
   },
   {
    "duration": 6,
    "start_time": "2023-01-11T08:10:40.628Z"
   },
   {
    "duration": 7,
    "start_time": "2023-01-11T08:10:40.790Z"
   },
   {
    "duration": 7,
    "start_time": "2023-01-11T08:10:40.833Z"
   },
   {
    "duration": 4,
    "start_time": "2023-01-11T08:10:40.881Z"
   },
   {
    "duration": 23,
    "start_time": "2023-01-11T08:10:41.078Z"
   },
   {
    "duration": 60,
    "start_time": "2023-01-11T08:10:41.423Z"
   },
   {
    "duration": 4,
    "start_time": "2023-01-11T08:10:42.738Z"
   },
   {
    "duration": 2446,
    "start_time": "2023-01-11T08:10:43.103Z"
   },
   {
    "duration": 2491,
    "start_time": "2023-01-11T08:10:45.551Z"
   },
   {
    "duration": 2556,
    "start_time": "2023-01-11T08:10:48.044Z"
   },
   {
    "duration": 574,
    "start_time": "2023-01-11T08:10:50.608Z"
   },
   {
    "duration": 3,
    "start_time": "2023-01-11T08:10:51.183Z"
   },
   {
    "duration": 20,
    "start_time": "2023-01-11T08:10:51.187Z"
   },
   {
    "duration": 18,
    "start_time": "2023-01-11T08:10:51.217Z"
   },
   {
    "duration": 558,
    "start_time": "2023-01-11T08:10:51.237Z"
   },
   {
    "duration": 2479,
    "start_time": "2023-01-11T08:10:51.797Z"
   },
   {
    "duration": 4,
    "start_time": "2023-01-11T08:10:54.278Z"
   },
   {
    "duration": 6,
    "start_time": "2023-01-11T08:10:54.284Z"
   },
   {
    "duration": 41,
    "start_time": "2023-01-11T08:10:54.291Z"
   },
   {
    "duration": 47,
    "start_time": "2023-01-11T08:10:54.334Z"
   },
   {
    "duration": 3,
    "start_time": "2023-01-11T08:10:54.383Z"
   },
   {
    "duration": 8,
    "start_time": "2023-01-11T08:10:54.388Z"
   },
   {
    "duration": 21,
    "start_time": "2023-01-11T08:10:54.398Z"
   },
   {
    "duration": 13,
    "start_time": "2023-01-11T08:10:54.422Z"
   },
   {
    "duration": 3,
    "start_time": "2023-01-11T08:10:54.437Z"
   },
   {
    "duration": 8,
    "start_time": "2023-01-11T08:10:54.441Z"
   },
   {
    "duration": 4181471,
    "start_time": "2023-01-11T08:10:54.451Z"
   },
   {
    "duration": 21122,
    "start_time": "2023-01-11T09:20:35.923Z"
   },
   {
    "duration": 4,
    "start_time": "2023-01-11T09:20:57.046Z"
   },
   {
    "duration": 1899,
    "start_time": "2023-01-11T09:20:57.051Z"
   },
   {
    "duration": 0,
    "start_time": "2023-01-11T09:20:58.952Z"
   },
   {
    "duration": 0,
    "start_time": "2023-01-11T09:20:58.953Z"
   },
   {
    "duration": 0,
    "start_time": "2023-01-11T09:20:58.954Z"
   },
   {
    "duration": 0,
    "start_time": "2023-01-11T09:20:58.955Z"
   },
   {
    "duration": 0,
    "start_time": "2023-01-11T09:20:58.956Z"
   },
   {
    "duration": 0,
    "start_time": "2023-01-11T09:20:58.957Z"
   },
   {
    "duration": 0,
    "start_time": "2023-01-11T09:20:58.958Z"
   },
   {
    "duration": 0,
    "start_time": "2023-01-11T09:20:58.959Z"
   },
   {
    "duration": 0,
    "start_time": "2023-01-11T09:20:58.960Z"
   },
   {
    "duration": 0,
    "start_time": "2023-01-11T09:20:58.961Z"
   },
   {
    "duration": 0,
    "start_time": "2023-01-11T09:20:58.962Z"
   },
   {
    "duration": 0,
    "start_time": "2023-01-11T09:20:58.963Z"
   },
   {
    "duration": 0,
    "start_time": "2023-01-11T09:20:58.964Z"
   },
   {
    "duration": 0,
    "start_time": "2023-01-11T09:20:58.968Z"
   },
   {
    "duration": 5,
    "start_time": "2023-01-11T09:21:03.128Z"
   },
   {
    "duration": 4,
    "start_time": "2023-01-11T09:21:03.955Z"
   },
   {
    "duration": 4474111,
    "start_time": "2023-01-11T09:21:04.475Z"
   },
   {
    "duration": 3844961,
    "start_time": "2023-01-11T10:35:38.588Z"
   },
   {
    "duration": 4,
    "start_time": "2023-01-11T11:39:43.551Z"
   },
   {
    "duration": 3983,
    "start_time": "2023-01-11T11:39:43.557Z"
   },
   {
    "duration": 3315,
    "start_time": "2023-01-11T11:39:47.609Z"
   },
   {
    "duration": 14,
    "start_time": "2023-01-11T11:39:51.004Z"
   },
   {
    "duration": 28913,
    "start_time": "2023-01-11T11:39:51.030Z"
   },
   {
    "duration": 24470,
    "start_time": "2023-01-11T11:40:19.945Z"
   },
   {
    "duration": 5,
    "start_time": "2023-01-11T11:40:44.416Z"
   },
   {
    "duration": 0,
    "start_time": "2023-01-11T11:40:44.423Z"
   },
   {
    "duration": 0,
    "start_time": "2023-01-11T11:40:44.424Z"
   },
   {
    "duration": 0,
    "start_time": "2023-01-11T11:40:44.425Z"
   },
   {
    "duration": 0,
    "start_time": "2023-01-11T11:40:44.426Z"
   },
   {
    "duration": 0,
    "start_time": "2023-01-11T11:40:44.427Z"
   },
   {
    "duration": 0,
    "start_time": "2023-01-11T11:40:44.430Z"
   },
   {
    "duration": 0,
    "start_time": "2023-01-11T11:40:44.431Z"
   },
   {
    "duration": 0,
    "start_time": "2023-01-11T11:40:44.432Z"
   },
   {
    "duration": 4,
    "start_time": "2023-01-11T12:03:35.770Z"
   },
   {
    "duration": 3,
    "start_time": "2023-01-11T12:03:45.967Z"
   },
   {
    "duration": 4,
    "start_time": "2023-01-11T12:04:11.777Z"
   },
   {
    "duration": 3,
    "start_time": "2023-01-11T12:04:16.748Z"
   },
   {
    "duration": 3,
    "start_time": "2023-01-11T12:04:26.845Z"
   },
   {
    "duration": 4,
    "start_time": "2023-01-11T12:04:30.899Z"
   },
   {
    "duration": 4,
    "start_time": "2023-01-11T12:04:33.789Z"
   },
   {
    "duration": 78,
    "start_time": "2023-01-11T12:04:34.189Z"
   },
   {
    "duration": 5,
    "start_time": "2023-01-11T12:04:48.915Z"
   },
   {
    "duration": 5,
    "start_time": "2023-01-11T12:04:49.975Z"
   },
   {
    "duration": 84,
    "start_time": "2023-01-11T12:04:50.664Z"
   },
   {
    "duration": 4,
    "start_time": "2023-01-11T12:05:29.130Z"
   },
   {
    "duration": 85,
    "start_time": "2023-01-11T12:05:30.988Z"
   },
   {
    "duration": 4,
    "start_time": "2023-01-11T12:06:33.544Z"
   },
   {
    "duration": 5,
    "start_time": "2023-01-11T12:06:34.518Z"
   },
   {
    "duration": 89,
    "start_time": "2023-01-11T12:06:35.068Z"
   },
   {
    "duration": 3,
    "start_time": "2023-01-11T12:07:06.452Z"
   },
   {
    "duration": 45853,
    "start_time": "2023-01-11T12:07:06.996Z"
   },
   {
    "duration": 4,
    "start_time": "2023-01-11T12:08:00.343Z"
   },
   {
    "duration": 132459,
    "start_time": "2023-01-11T12:08:01.098Z"
   },
   {
    "duration": 4,
    "start_time": "2023-01-11T12:10:27.865Z"
   },
   {
    "duration": 259477,
    "start_time": "2023-01-11T12:10:28.628Z"
   },
   {
    "duration": 206305,
    "start_time": "2023-01-11T12:14:48.109Z"
   },
   {
    "duration": 4,
    "start_time": "2023-01-11T12:18:41.209Z"
   },
   {
    "duration": 28,
    "start_time": "2023-01-11T12:18:41.508Z"
   },
   {
    "duration": 27,
    "start_time": "2023-01-11T12:18:41.781Z"
   },
   {
    "duration": 85,
    "start_time": "2023-01-11T12:19:11.241Z"
   },
   {
    "duration": 4,
    "start_time": "2023-01-11T12:19:15.545Z"
   },
   {
    "duration": 1710,
    "start_time": "2023-01-11T12:19:16.799Z"
   },
   {
    "duration": 1694,
    "start_time": "2023-01-11T12:19:18.512Z"
   },
   {
    "duration": 4,
    "start_time": "2023-01-11T12:26:59.693Z"
   },
   {
    "duration": 110225,
    "start_time": "2023-01-11T12:27:00.423Z"
   },
   {
    "duration": 1416,
    "start_time": "2023-01-11T12:28:50.650Z"
   },
   {
    "duration": 4,
    "start_time": "2023-01-11T12:28:57.304Z"
   },
   {
    "duration": 26169,
    "start_time": "2023-01-11T12:28:57.712Z"
   },
   {
    "duration": 1719,
    "start_time": "2023-01-11T12:29:23.884Z"
   },
   {
    "duration": 4,
    "start_time": "2023-01-11T12:29:31.256Z"
   },
   {
    "duration": 1150817,
    "start_time": "2023-01-11T12:29:31.788Z"
   },
   {
    "duration": 915799,
    "start_time": "2023-01-11T12:48:42.607Z"
   },
   {
    "duration": 4,
    "start_time": "2023-01-11T13:07:17.475Z"
   },
   {
    "duration": 177506,
    "start_time": "2023-01-11T13:07:18.304Z"
   },
   {
    "duration": 149000,
    "start_time": "2023-01-11T13:10:15.813Z"
   },
   {
    "duration": 3,
    "start_time": "2023-01-11T13:37:26.819Z"
   },
   {
    "duration": 4,
    "start_time": "2023-01-11T13:39:06.160Z"
   },
   {
    "duration": 3,
    "start_time": "2023-01-11T13:42:44.966Z"
   },
   {
    "duration": 4,
    "start_time": "2023-01-11T13:42:45.540Z"
   },
   {
    "duration": 85,
    "start_time": "2023-01-11T13:43:32.735Z"
   },
   {
    "duration": 5,
    "start_time": "2023-01-11T13:43:42.781Z"
   },
   {
    "duration": 83,
    "start_time": "2023-01-11T13:43:45.584Z"
   },
   {
    "duration": 3,
    "start_time": "2023-01-11T13:43:59.983Z"
   },
   {
    "duration": 3322,
    "start_time": "2023-01-11T13:44:06.900Z"
   },
   {
    "duration": 242,
    "start_time": "2023-01-11T13:44:10.224Z"
   },
   {
    "duration": 10,
    "start_time": "2023-01-11T13:44:10.467Z"
   },
   {
    "duration": 13,
    "start_time": "2023-01-11T13:55:50.251Z"
   },
   {
    "duration": 14,
    "start_time": "2023-01-11T13:55:55.971Z"
   },
   {
    "duration": 6,
    "start_time": "2023-01-11T14:01:31.939Z"
   },
   {
    "duration": 16,
    "start_time": "2023-01-11T14:01:43.648Z"
   },
   {
    "duration": 5,
    "start_time": "2023-01-11T14:01:54.380Z"
   },
   {
    "duration": 18,
    "start_time": "2023-01-11T14:04:30.913Z"
   },
   {
    "duration": 11,
    "start_time": "2023-01-11T14:04:39.481Z"
   },
   {
    "duration": 3,
    "start_time": "2023-01-11T14:04:50.422Z"
   },
   {
    "duration": 4,
    "start_time": "2023-01-11T14:04:50.839Z"
   },
   {
    "duration": 2793,
    "start_time": "2023-01-11T14:04:52.627Z"
   },
   {
    "duration": 167,
    "start_time": "2023-01-11T14:04:55.761Z"
   },
   {
    "duration": 3,
    "start_time": "2023-01-11T14:04:55.931Z"
   },
   {
    "duration": 12,
    "start_time": "2023-01-12T13:48:28.642Z"
   },
   {
    "duration": 4,
    "start_time": "2023-01-12T13:48:44.250Z"
   },
   {
    "duration": 4,
    "start_time": "2023-01-12T13:48:59.946Z"
   },
   {
    "duration": 2345,
    "start_time": "2023-01-12T14:04:15.266Z"
   },
   {
    "duration": 3,
    "start_time": "2023-01-12T14:04:17.614Z"
   },
   {
    "duration": 2065,
    "start_time": "2023-01-12T14:04:17.626Z"
   },
   {
    "duration": 71,
    "start_time": "2023-01-12T14:04:19.694Z"
   },
   {
    "duration": 17,
    "start_time": "2023-01-12T14:04:19.766Z"
   },
   {
    "duration": 54,
    "start_time": "2023-01-12T14:04:19.785Z"
   },
   {
    "duration": 18,
    "start_time": "2023-01-12T14:04:19.841Z"
   },
   {
    "duration": 81,
    "start_time": "2023-01-12T14:04:19.862Z"
   },
   {
    "duration": 17,
    "start_time": "2023-01-12T14:04:19.945Z"
   },
   {
    "duration": 14,
    "start_time": "2023-01-12T14:04:19.965Z"
   },
   {
    "duration": 6,
    "start_time": "2023-01-12T14:04:20.353Z"
   },
   {
    "duration": 3,
    "start_time": "2023-01-12T14:04:21.610Z"
   },
   {
    "duration": 6,
    "start_time": "2023-01-12T14:04:21.887Z"
   },
   {
    "duration": 7,
    "start_time": "2023-01-12T14:04:23.020Z"
   },
   {
    "duration": 8,
    "start_time": "2023-01-12T14:04:23.282Z"
   },
   {
    "duration": 7,
    "start_time": "2023-01-12T14:04:23.499Z"
   },
   {
    "duration": 30,
    "start_time": "2023-01-12T14:04:23.873Z"
   },
   {
    "duration": 71,
    "start_time": "2023-01-12T14:04:24.231Z"
   },
   {
    "duration": 4,
    "start_time": "2023-01-12T14:04:25.472Z"
   },
   {
    "duration": 2085,
    "start_time": "2023-01-12T14:04:25.916Z"
   },
   {
    "duration": 1994,
    "start_time": "2023-01-12T14:04:28.003Z"
   },
   {
    "duration": 2174,
    "start_time": "2023-01-12T14:04:29.999Z"
   },
   {
    "duration": 471,
    "start_time": "2023-01-12T14:04:32.175Z"
   },
   {
    "duration": 3,
    "start_time": "2023-01-12T14:04:34.280Z"
   },
   {
    "duration": 6,
    "start_time": "2023-01-12T14:04:34.525Z"
   },
   {
    "duration": 9,
    "start_time": "2023-01-12T14:04:34.735Z"
   },
   {
    "duration": 459,
    "start_time": "2023-01-12T14:04:36.135Z"
   },
   {
    "duration": 2103,
    "start_time": "2023-01-12T14:04:37.137Z"
   },
   {
    "duration": 4,
    "start_time": "2023-01-12T14:04:39.242Z"
   },
   {
    "duration": 3,
    "start_time": "2023-01-12T14:04:39.300Z"
   },
   {
    "duration": 11,
    "start_time": "2023-01-12T14:04:40.741Z"
   },
   {
    "duration": 63,
    "start_time": "2023-01-12T14:04:41.571Z"
   },
   {
    "duration": 6,
    "start_time": "2023-01-12T14:04:50.459Z"
   },
   {
    "duration": 25,
    "start_time": "2023-01-12T14:04:54.979Z"
   },
   {
    "duration": 2,
    "start_time": "2023-01-12T14:04:55.354Z"
   },
   {
    "duration": 7,
    "start_time": "2023-01-12T14:07:36.670Z"
   },
   {
    "duration": 197,
    "start_time": "2023-01-12T14:08:11.764Z"
   },
   {
    "duration": 4,
    "start_time": "2023-01-12T14:08:39.617Z"
   },
   {
    "duration": 114,
    "start_time": "2023-01-12T14:08:40.342Z"
   },
   {
    "duration": 6,
    "start_time": "2023-01-12T14:08:52.138Z"
   },
   {
    "duration": 83893,
    "start_time": "2023-01-12T14:08:52.741Z"
   },
   {
    "duration": 84046,
    "start_time": "2023-01-12T14:12:37.285Z"
   },
   {
    "duration": 4,
    "start_time": "2023-01-12T14:19:18.298Z"
   },
   {
    "duration": 4,
    "start_time": "2023-01-12T14:20:12.523Z"
   },
   {
    "duration": 297,
    "start_time": "2023-01-12T14:20:13.950Z"
   },
   {
    "duration": 1538,
    "start_time": "2023-01-12T14:41:46.568Z"
   },
   {
    "duration": 5,
    "start_time": "2023-01-12T14:41:56.185Z"
   },
   {
    "duration": 2,
    "start_time": "2023-01-12T14:41:58.632Z"
   },
   {
    "duration": 2165,
    "start_time": "2023-01-12T14:41:58.839Z"
   },
   {
    "duration": 71,
    "start_time": "2023-01-12T14:42:01.005Z"
   },
   {
    "duration": 18,
    "start_time": "2023-01-12T14:42:01.077Z"
   },
   {
    "duration": 69,
    "start_time": "2023-01-12T14:42:01.097Z"
   },
   {
    "duration": 44,
    "start_time": "2023-01-12T14:42:01.167Z"
   },
   {
    "duration": 76,
    "start_time": "2023-01-12T14:42:01.213Z"
   },
   {
    "duration": 33,
    "start_time": "2023-01-12T14:42:01.290Z"
   },
   {
    "duration": 8,
    "start_time": "2023-01-12T14:42:01.739Z"
   },
   {
    "duration": 5,
    "start_time": "2023-01-12T14:42:02.437Z"
   },
   {
    "duration": 2,
    "start_time": "2023-01-12T14:42:03.147Z"
   },
   {
    "duration": 4,
    "start_time": "2023-01-12T14:42:03.293Z"
   },
   {
    "duration": 9,
    "start_time": "2023-01-12T14:42:03.997Z"
   },
   {
    "duration": 6,
    "start_time": "2023-01-12T14:42:04.183Z"
   },
   {
    "duration": 5,
    "start_time": "2023-01-12T14:42:04.349Z"
   },
   {
    "duration": 21,
    "start_time": "2023-01-12T14:42:04.708Z"
   },
   {
    "duration": 73,
    "start_time": "2023-01-12T14:42:05.067Z"
   },
   {
    "duration": 5,
    "start_time": "2023-01-12T14:42:06.429Z"
   },
   {
    "duration": 2071,
    "start_time": "2023-01-12T14:42:06.803Z"
   },
   {
    "duration": 2052,
    "start_time": "2023-01-12T14:42:08.877Z"
   },
   {
    "duration": 2080,
    "start_time": "2023-01-12T14:42:10.931Z"
   },
   {
    "duration": 499,
    "start_time": "2023-01-12T14:42:13.014Z"
   },
   {
    "duration": 2,
    "start_time": "2023-01-12T14:42:13.515Z"
   },
   {
    "duration": 26,
    "start_time": "2023-01-12T14:42:13.519Z"
   },
   {
    "duration": 27,
    "start_time": "2023-01-12T14:42:13.547Z"
   },
   {
    "duration": 504,
    "start_time": "2023-01-12T14:42:13.576Z"
   },
   {
    "duration": 2209,
    "start_time": "2023-01-12T14:42:14.588Z"
   },
   {
    "duration": 3,
    "start_time": "2023-01-12T14:42:21.469Z"
   },
   {
    "duration": 2,
    "start_time": "2023-01-12T14:42:21.962Z"
   },
   {
    "duration": 9,
    "start_time": "2023-01-12T14:42:23.698Z"
   },
   {
    "duration": 50,
    "start_time": "2023-01-12T14:42:24.761Z"
   },
   {
    "duration": 39,
    "start_time": "2023-01-12T14:42:25.449Z"
   },
   {
    "duration": 4,
    "start_time": "2023-01-12T14:42:29.118Z"
   },
   {
    "duration": 23,
    "start_time": "2023-01-12T14:42:39.226Z"
   },
   {
    "duration": 3,
    "start_time": "2023-01-12T14:42:39.975Z"
   },
   {
    "duration": 6,
    "start_time": "2023-01-12T14:51:24.065Z"
   },
   {
    "duration": 174,
    "start_time": "2023-01-12T14:51:27.254Z"
   },
   {
    "duration": 5,
    "start_time": "2023-01-12T14:51:57.432Z"
   },
   {
    "duration": 5,
    "start_time": "2023-01-12T14:52:16.998Z"
   },
   {
    "duration": 40779,
    "start_time": "2023-01-12T14:52:18.905Z"
   },
   {
    "duration": 3,
    "start_time": "2023-01-12T14:55:30.802Z"
   },
   {
    "duration": 100,
    "start_time": "2023-01-12T14:55:33.181Z"
   },
   {
    "duration": 4,
    "start_time": "2023-01-12T14:55:53.437Z"
   },
   {
    "duration": 100,
    "start_time": "2023-01-12T14:55:55.094Z"
   },
   {
    "duration": 9,
    "start_time": "2023-01-12T14:56:44.719Z"
   },
   {
    "duration": 4,
    "start_time": "2023-01-12T14:57:54.301Z"
   },
   {
    "duration": 90463,
    "start_time": "2023-01-12T14:57:56.116Z"
   },
   {
    "duration": 90653,
    "start_time": "2023-01-12T14:59:32.532Z"
   },
   {
    "duration": 4,
    "start_time": "2023-01-12T15:01:55.655Z"
   },
   {
    "duration": 91790,
    "start_time": "2023-01-12T15:01:56.090Z"
   },
   {
    "duration": 93304,
    "start_time": "2023-01-12T15:03:27.883Z"
   },
   {
    "duration": 11,
    "start_time": "2023-01-12T15:10:52.520Z"
   },
   {
    "duration": 3,
    "start_time": "2023-01-12T15:11:29.312Z"
   },
   {
    "duration": 3,
    "start_time": "2023-01-12T15:11:31.685Z"
   },
   {
    "duration": 4,
    "start_time": "2023-01-12T15:12:52.150Z"
   },
   {
    "duration": 4,
    "start_time": "2023-01-12T15:12:53.020Z"
   },
   {
    "duration": 92,
    "start_time": "2023-01-12T15:14:07.657Z"
   },
   {
    "duration": 3,
    "start_time": "2023-01-12T15:14:33.744Z"
   },
   {
    "duration": 24433,
    "start_time": "2023-01-12T15:14:36.027Z"
   },
   {
    "duration": 1523,
    "start_time": "2023-01-12T15:15:00.462Z"
   },
   {
    "duration": 92,
    "start_time": "2023-01-12T15:15:01.987Z"
   }
  ],
  "kernelspec": {
   "display_name": "Python 3 (ipykernel)",
   "language": "python",
   "name": "python3"
  },
  "language_info": {
   "codemirror_mode": {
    "name": "ipython",
    "version": 3
   },
   "file_extension": ".py",
   "mimetype": "text/x-python",
   "name": "python",
   "nbconvert_exporter": "python",
   "pygments_lexer": "ipython3",
   "version": "3.9.5"
  },
  "toc": {
   "base_numbering": 1,
   "nav_menu": {},
   "number_sections": true,
   "sideBar": true,
   "skip_h1_title": true,
   "title_cell": "Содержание",
   "title_sidebar": "Contents",
   "toc_cell": true,
   "toc_position": {
    "height": "calc(100% - 180px)",
    "left": "10px",
    "top": "150px",
    "width": "366.188px"
   },
   "toc_section_display": true,
   "toc_window_display": true
  }
 },
 "nbformat": 4,
 "nbformat_minor": 2
}
